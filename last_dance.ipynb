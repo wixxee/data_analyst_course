{
 "cells": [
  {
   "cell_type": "markdown",
   "id": "4e6393c3",
   "metadata": {
    "toc": true
   },
   "source": [
    "<h1>Table of Contents<span class=\"tocSkip\"></span></h1>\n",
    "<div class=\"toc\"><ul class=\"toc-item\"><li><span><a href=\"#Описание-проекта\" data-toc-modified-id=\"Описание-проекта-1\"><span class=\"toc-item-num\">1&nbsp;&nbsp;</span>Описание проекта</a></span><ul class=\"toc-item\"><li><span><a href=\"#Задача:\" data-toc-modified-id=\"Задача:-1.1\"><span class=\"toc-item-num\">1.1&nbsp;&nbsp;</span>Задача:</a></span></li><li><span><a href=\"#Описание-данных:\" data-toc-modified-id=\"Описание-данных:-1.2\"><span class=\"toc-item-num\">1.2&nbsp;&nbsp;</span>Описание данных:</a></span></li><li><span><a href=\"#Декомпозиция-задачи:\" data-toc-modified-id=\"Декомпозиция-задачи:-1.3\"><span class=\"toc-item-num\">1.3&nbsp;&nbsp;</span>Декомпозиция задачи:</a></span></li></ul></li><li><span><a href=\"#Загрузка-библиотеки-и-файла-с-данными\" data-toc-modified-id=\"Загрузка-библиотеки-и-файла-с-данными-2\"><span class=\"toc-item-num\">2&nbsp;&nbsp;</span>Загрузка библиотеки и файла с данными</a></span></li><li><span><a href=\"#Предобработка-данных\" data-toc-modified-id=\"Предобработка-данных-3\"><span class=\"toc-item-num\">3&nbsp;&nbsp;</span>Предобработка данных</a></span><ul class=\"toc-item\"><li><span><a href=\"#Портреты-клиентов\" data-toc-modified-id=\"Портреты-клиентов-3.1\"><span class=\"toc-item-num\">3.1&nbsp;&nbsp;</span>Портреты клиентов</a></span></li></ul></li><li><span><a href=\"#Проверка-гипотез\" data-toc-modified-id=\"Проверка-гипотез-4\"><span class=\"toc-item-num\">4&nbsp;&nbsp;</span>Проверка гипотез</a></span><ul class=\"toc-item\"><li><span><a href=\"#Гипотеза-1\" data-toc-modified-id=\"Гипотеза-1-4.1\"><span class=\"toc-item-num\">4.1&nbsp;&nbsp;</span>Гипотеза 1</a></span></li><li><span><a href=\"#Гипотеза-2\" data-toc-modified-id=\"Гипотеза-2-4.2\"><span class=\"toc-item-num\">4.2&nbsp;&nbsp;</span>Гипотеза 2</a></span></li></ul></li><li><span><a href=\"#Выводы\" data-toc-modified-id=\"Выводы-5\"><span class=\"toc-item-num\">5&nbsp;&nbsp;</span>Выводы</a></span></li></ul></div>"
   ]
  },
  {
   "cell_type": "markdown",
   "id": "e46ec6e1",
   "metadata": {},
   "source": [
    "## Описание проекта"
   ]
  },
  {
   "cell_type": "markdown",
   "id": "772834cb",
   "metadata": {},
   "source": [
    "### Задача:\n",
    "\n",
    "Проанализируйте клиентов регионального банка и сегментируйте пользователей по количеству потребляемых продуктов.<br>\n",
    "\n",
    "- Проведите исследовательский анализ данных,\n",
    "- Сегментируйте пользователей на основе данных о количестве потребляемых продуктов,\n",
    "- Сформулируйте и проверьте статистические гипотезы.\n",
    "    \n",
    "*Проверьте гипотезу различия дохода между теми клиентами, которые пользуются двумя продуктами банка, и теми, которые пользуются одним.*\n",
    "    \n",
    "*Сформулируйте и проверьте статистическую гипотезу относительно представленных данных.*\n",
    "\n",
    "**Цель исследования - предотвращение причин высокого оттока клиентов.**"
   ]
  },
  {
   "cell_type": "markdown",
   "id": "cbeb8d37",
   "metadata": {},
   "source": [
    "### Описание данных:\n",
    "\n",
    "Датасет содержит данные о клиентах банка «Метанпром». Банк располагается в Ярославле и областных городах: Ростов Великий и Рыбинск.\n",
    "- `userid` — идентификатор пользователя,\n",
    "- `score` — баллы кредитного скоринга,\n",
    "- `city` — город,\n",
    "- `gender` — пол,\n",
    "- `age` — возраст,\n",
    "- `equity` — приблизительная оценка собственности клиента,\n",
    "- `balance` — баланс на счёте,\n",
    "- `products` — количество продуктов, которыми пользуется клиент,\n",
    "- `credit_card` — есть ли кредитная карта,\n",
    "- `last_activity` — был ли клиент активен последнее время,\n",
    "- `salary` — заработная плата клиента\n",
    "- `churn` — уходит или нет."
   ]
  },
  {
   "cell_type": "markdown",
   "id": "b2bd43d3",
   "metadata": {},
   "source": [
    "### Декомпозиция задачи:\n",
    "- Подключение необходимых библиотек для работы.\n",
    "- Загрузка датасета.\n",
    "- Предобработка данных:\n",
    "    - проверка форматирования датасета;\n",
    "    - проверка соответствия типов и данных;\n",
    "    - проверка дубликатов;\n",
    "    - проверка и работа с аномалиями данных;\n",
    "    - поиск и проработка пропусков данных;\n",
    "    - кодирование гендера (бинарное) и названия города (one hote);"
   ]
  },
  {
   "cell_type": "markdown",
   "id": "cc3c2f12",
   "metadata": {},
   "source": [
    "- Исследовательский анализ данных:\n",
    "    - изучения значений данных, в т.ч. распределение данных, средние, медианы, минимумы и максимумы;\n",
    "    - построение портрета отточного и не отточного клиента;\n",
    "    - выделение ключевых признаков влияющих на отток;\n",
    "    - выделение групп по возрасту, баллам скоринга и заработной платы для последущей сегментации;\n",
    "    - построение матрицы корреляции и хитмэтов;\n",
    "    - построение графиков распределений значений по столбцам;\n",
    "    - сегментация пользователей на основе данных о количестве потребляемых продуктов и оттоке;"
   ]
  },
  {
   "cell_type": "markdown",
   "id": "48935578",
   "metadata": {},
   "source": [
    "- Проверка гипотез о равенстве выделенных сегментов (ttest?):\n",
    "    - проверяем гипотезу о том, что между клиентами которые пользуются 2 продуктами и 1 нет статистически значимых различий;\n",
    "    - формулируем и проверяем гипотезу о статистически значимом различии между выделенными сегментами по оттоку пользователей;"
   ]
  },
  {
   "cell_type": "markdown",
   "id": "a93bd5d0",
   "metadata": {},
   "source": [
    "- Формулировка выводов на основании полученных данных."
   ]
  },
  {
   "cell_type": "markdown",
   "id": "951468ac",
   "metadata": {},
   "source": [
    "- Формулировка предложений на основании сделанных выводов."
   ]
  },
  {
   "cell_type": "markdown",
   "id": "dd8369ff",
   "metadata": {},
   "source": [
    "- Построение презентации в Power Point."
   ]
  },
  {
   "cell_type": "markdown",
   "id": "f3e99baa",
   "metadata": {},
   "source": [
    "- Построение dash board в Tableau."
   ]
  },
  {
   "cell_type": "markdown",
   "id": "d4308108",
   "metadata": {},
   "source": [
    "## Загрузка библиотеки и файла с данными"
   ]
  },
  {
   "cell_type": "code",
   "execution_count": 1,
   "id": "495d9033",
   "metadata": {},
   "outputs": [],
   "source": [
    "#импорт библиотек для работы\n",
    "import pandas as pd\n",
    "import numpy as np\n",
    "import seaborn as sns\n",
    "import matplotlib\n",
    "import matplotlib.pyplot as plt\n",
    "import math\n",
    "import plotly.express as px\n",
    "import re\n",
    "from datetime import datetime, timedelta\n",
    "from scipy import stats as st\n",
    "from statsmodels.stats.proportion import proportions_ztest\n",
    "from plotly import graph_objects as go"
   ]
  },
  {
   "cell_type": "code",
   "execution_count": 2,
   "id": "aae25464",
   "metadata": {},
   "outputs": [],
   "source": [
    "from tqdm import tqdm"
   ]
  },
  {
   "cell_type": "code",
   "execution_count": 3,
   "id": "79b14983",
   "metadata": {},
   "outputs": [],
   "source": [
    "#cнизим размерность чисел для вывода на экран на всем проекте\n",
    "pd.options.display.float_format = '{:,.2f}'.format"
   ]
  },
  {
   "cell_type": "code",
   "execution_count": 4,
   "id": "8747f3e8",
   "metadata": {},
   "outputs": [],
   "source": [
    "# загрузка датасета\n",
    "try:\n",
    "    df = pd.read_csv('bank_dataset_new.csv')\n",
    "except:\n",
    "    ### КОД РЕВЬЮЕРА\n",
    "    path = \"https://drive.google.com/uc?export=download&id=1avzNMbAm9vCBXJWBpGUK6mZxGHLjcgGl\"\n",
    "    df = pd.read_csv(path)"
   ]
  },
  {
   "cell_type": "markdown",
   "id": "f6f3c419",
   "metadata": {},
   "source": [
    "## Предобработка данных"
   ]
  },
  {
   "cell_type": "markdown",
   "id": "67da0d20",
   "metadata": {},
   "source": [
    "Рассмотрим содержимое датасета"
   ]
  },
  {
   "cell_type": "code",
   "execution_count": 5,
   "id": "7a3fb546",
   "metadata": {
    "scrolled": true
   },
   "outputs": [
    {
     "data": {
      "text/html": [
       "<div>\n",
       "<style scoped>\n",
       "    .dataframe tbody tr th:only-of-type {\n",
       "        vertical-align: middle;\n",
       "    }\n",
       "\n",
       "    .dataframe tbody tr th {\n",
       "        vertical-align: top;\n",
       "    }\n",
       "\n",
       "    .dataframe thead th {\n",
       "        text-align: right;\n",
       "    }\n",
       "</style>\n",
       "<table border=\"1\" class=\"dataframe\">\n",
       "  <thead>\n",
       "    <tr style=\"text-align: right;\">\n",
       "      <th></th>\n",
       "      <th>Unnamed: 0</th>\n",
       "      <th>userid</th>\n",
       "      <th>score</th>\n",
       "      <th>city</th>\n",
       "      <th>gender</th>\n",
       "      <th>age</th>\n",
       "      <th>equity</th>\n",
       "      <th>balance</th>\n",
       "      <th>products</th>\n",
       "      <th>credit_card</th>\n",
       "      <th>last_activity</th>\n",
       "      <th>salary</th>\n",
       "      <th>churn</th>\n",
       "    </tr>\n",
       "  </thead>\n",
       "  <tbody>\n",
       "    <tr>\n",
       "      <td>0</td>\n",
       "      <td>0</td>\n",
       "      <td>258835</td>\n",
       "      <td>673</td>\n",
       "      <td>Ростов</td>\n",
       "      <td>Ж</td>\n",
       "      <td>32</td>\n",
       "      <td>0</td>\n",
       "      <td>467,428.54</td>\n",
       "      <td>1</td>\n",
       "      <td>0</td>\n",
       "      <td>1</td>\n",
       "      <td>81,011.65</td>\n",
       "      <td>True</td>\n",
       "    </tr>\n",
       "    <tr>\n",
       "      <td>1</td>\n",
       "      <td>1</td>\n",
       "      <td>96660</td>\n",
       "      <td>691</td>\n",
       "      <td>Ростов</td>\n",
       "      <td>Ж</td>\n",
       "      <td>31</td>\n",
       "      <td>3</td>\n",
       "      <td>65,548.60</td>\n",
       "      <td>1</td>\n",
       "      <td>0</td>\n",
       "      <td>1</td>\n",
       "      <td>57,005.02</td>\n",
       "      <td>True</td>\n",
       "    </tr>\n",
       "    <tr>\n",
       "      <td>2</td>\n",
       "      <td>2</td>\n",
       "      <td>99838</td>\n",
       "      <td>679</td>\n",
       "      <td>Ростов</td>\n",
       "      <td>Ж</td>\n",
       "      <td>30</td>\n",
       "      <td>1</td>\n",
       "      <td>686,979.40</td>\n",
       "      <td>1</td>\n",
       "      <td>1</td>\n",
       "      <td>1</td>\n",
       "      <td>149,687.98</td>\n",
       "      <td>True</td>\n",
       "    </tr>\n",
       "    <tr>\n",
       "      <td>3</td>\n",
       "      <td>3</td>\n",
       "      <td>216099</td>\n",
       "      <td>717</td>\n",
       "      <td>Рыбинск</td>\n",
       "      <td>Ж</td>\n",
       "      <td>25</td>\n",
       "      <td>2</td>\n",
       "      <td>1,292,171.92</td>\n",
       "      <td>1</td>\n",
       "      <td>0</td>\n",
       "      <td>1</td>\n",
       "      <td>19,502.68</td>\n",
       "      <td>True</td>\n",
       "    </tr>\n",
       "    <tr>\n",
       "      <td>4</td>\n",
       "      <td>4</td>\n",
       "      <td>120240</td>\n",
       "      <td>744</td>\n",
       "      <td>Рыбинск</td>\n",
       "      <td>Ж</td>\n",
       "      <td>37</td>\n",
       "      <td>1</td>\n",
       "      <td>1,390,927.97</td>\n",
       "      <td>1</td>\n",
       "      <td>0</td>\n",
       "      <td>1</td>\n",
       "      <td>36,861.24</td>\n",
       "      <td>True</td>\n",
       "    </tr>\n",
       "  </tbody>\n",
       "</table>\n",
       "</div>"
      ],
      "text/plain": [
       "   Unnamed: 0  userid  score     city gender  age  equity      balance  \\\n",
       "0           0  258835    673   Ростов      Ж   32       0   467,428.54   \n",
       "1           1   96660    691   Ростов      Ж   31       3    65,548.60   \n",
       "2           2   99838    679   Ростов      Ж   30       1   686,979.40   \n",
       "3           3  216099    717  Рыбинск      Ж   25       2 1,292,171.92   \n",
       "4           4  120240    744  Рыбинск      Ж   37       1 1,390,927.97   \n",
       "\n",
       "   products  credit_card  last_activity     salary  churn  \n",
       "0         1            0              1  81,011.65   True  \n",
       "1         1            0              1  57,005.02   True  \n",
       "2         1            1              1 149,687.98   True  \n",
       "3         1            0              1  19,502.68   True  \n",
       "4         1            0              1  36,861.24   True  "
      ]
     },
     "execution_count": 5,
     "metadata": {},
     "output_type": "execute_result"
    }
   ],
   "source": [
    "df.head()"
   ]
  },
  {
   "cell_type": "code",
   "execution_count": 6,
   "id": "56a5cb9d",
   "metadata": {
    "scrolled": true
   },
   "outputs": [
    {
     "name": "stdout",
     "output_type": "stream",
     "text": [
      "<class 'pandas.core.frame.DataFrame'>\n",
      "RangeIndex: 10000 entries, 0 to 9999\n",
      "Data columns (total 13 columns):\n",
      "Unnamed: 0       10000 non-null int64\n",
      "userid           10000 non-null int64\n",
      "score            10000 non-null int64\n",
      "city             10000 non-null object\n",
      "gender           10000 non-null object\n",
      "age              10000 non-null int64\n",
      "equity           10000 non-null int64\n",
      "balance          7706 non-null float64\n",
      "products         10000 non-null int64\n",
      "credit_card      10000 non-null int64\n",
      "last_activity    10000 non-null int64\n",
      "salary           10000 non-null float64\n",
      "churn            10000 non-null bool\n",
      "dtypes: bool(1), float64(2), int64(8), object(2)\n",
      "memory usage: 947.4+ KB\n"
     ]
    }
   ],
   "source": [
    "df.info()"
   ]
  },
  {
   "cell_type": "markdown",
   "id": "1af89c9c",
   "metadata": {},
   "source": [
    "- в датасете имеется безымянная колонка, повторяющая индексы строк таблицы, в дублировании нет необходимости, можно избавиться от нее;\n",
    "- имеется столбец `balance` в котором >2000 пропусков, необходимо будет проработать их в дальнейшем;"
   ]
  },
  {
   "cell_type": "code",
   "execution_count": 7,
   "id": "1f4b5a3b",
   "metadata": {},
   "outputs": [],
   "source": [
    "#удаление бызымянной колонки\n",
    "df = df.drop('Unnamed: 0', axis = 1)"
   ]
  },
  {
   "cell_type": "code",
   "execution_count": 8,
   "id": "7132db54",
   "metadata": {
    "scrolled": true
   },
   "outputs": [
    {
     "data": {
      "text/html": [
       "<div>\n",
       "<style scoped>\n",
       "    .dataframe tbody tr th:only-of-type {\n",
       "        vertical-align: middle;\n",
       "    }\n",
       "\n",
       "    .dataframe tbody tr th {\n",
       "        vertical-align: top;\n",
       "    }\n",
       "\n",
       "    .dataframe thead th {\n",
       "        text-align: right;\n",
       "    }\n",
       "</style>\n",
       "<table border=\"1\" class=\"dataframe\">\n",
       "  <thead>\n",
       "    <tr style=\"text-align: right;\">\n",
       "      <th></th>\n",
       "      <th>userid</th>\n",
       "      <th>score</th>\n",
       "      <th>city</th>\n",
       "      <th>gender</th>\n",
       "      <th>age</th>\n",
       "      <th>equity</th>\n",
       "      <th>balance</th>\n",
       "      <th>products</th>\n",
       "      <th>credit_card</th>\n",
       "      <th>last_activity</th>\n",
       "      <th>salary</th>\n",
       "      <th>churn</th>\n",
       "    </tr>\n",
       "  </thead>\n",
       "  <tbody>\n",
       "    <tr>\n",
       "      <td>0</td>\n",
       "      <td>258835</td>\n",
       "      <td>673</td>\n",
       "      <td>Ростов</td>\n",
       "      <td>Ж</td>\n",
       "      <td>32</td>\n",
       "      <td>0</td>\n",
       "      <td>467,428.54</td>\n",
       "      <td>1</td>\n",
       "      <td>0</td>\n",
       "      <td>1</td>\n",
       "      <td>81,011.65</td>\n",
       "      <td>True</td>\n",
       "    </tr>\n",
       "    <tr>\n",
       "      <td>1</td>\n",
       "      <td>96660</td>\n",
       "      <td>691</td>\n",
       "      <td>Ростов</td>\n",
       "      <td>Ж</td>\n",
       "      <td>31</td>\n",
       "      <td>3</td>\n",
       "      <td>65,548.60</td>\n",
       "      <td>1</td>\n",
       "      <td>0</td>\n",
       "      <td>1</td>\n",
       "      <td>57,005.02</td>\n",
       "      <td>True</td>\n",
       "    </tr>\n",
       "    <tr>\n",
       "      <td>2</td>\n",
       "      <td>99838</td>\n",
       "      <td>679</td>\n",
       "      <td>Ростов</td>\n",
       "      <td>Ж</td>\n",
       "      <td>30</td>\n",
       "      <td>1</td>\n",
       "      <td>686,979.40</td>\n",
       "      <td>1</td>\n",
       "      <td>1</td>\n",
       "      <td>1</td>\n",
       "      <td>149,687.98</td>\n",
       "      <td>True</td>\n",
       "    </tr>\n",
       "    <tr>\n",
       "      <td>3</td>\n",
       "      <td>216099</td>\n",
       "      <td>717</td>\n",
       "      <td>Рыбинск</td>\n",
       "      <td>Ж</td>\n",
       "      <td>25</td>\n",
       "      <td>2</td>\n",
       "      <td>1,292,171.92</td>\n",
       "      <td>1</td>\n",
       "      <td>0</td>\n",
       "      <td>1</td>\n",
       "      <td>19,502.68</td>\n",
       "      <td>True</td>\n",
       "    </tr>\n",
       "    <tr>\n",
       "      <td>4</td>\n",
       "      <td>120240</td>\n",
       "      <td>744</td>\n",
       "      <td>Рыбинск</td>\n",
       "      <td>Ж</td>\n",
       "      <td>37</td>\n",
       "      <td>1</td>\n",
       "      <td>1,390,927.97</td>\n",
       "      <td>1</td>\n",
       "      <td>0</td>\n",
       "      <td>1</td>\n",
       "      <td>36,861.24</td>\n",
       "      <td>True</td>\n",
       "    </tr>\n",
       "  </tbody>\n",
       "</table>\n",
       "</div>"
      ],
      "text/plain": [
       "   userid  score     city gender  age  equity      balance  products  \\\n",
       "0  258835    673   Ростов      Ж   32       0   467,428.54         1   \n",
       "1   96660    691   Ростов      Ж   31       3    65,548.60         1   \n",
       "2   99838    679   Ростов      Ж   30       1   686,979.40         1   \n",
       "3  216099    717  Рыбинск      Ж   25       2 1,292,171.92         1   \n",
       "4  120240    744  Рыбинск      Ж   37       1 1,390,927.97         1   \n",
       "\n",
       "   credit_card  last_activity     salary  churn  \n",
       "0            0              1  81,011.65   True  \n",
       "1            0              1  57,005.02   True  \n",
       "2            1              1 149,687.98   True  \n",
       "3            0              1  19,502.68   True  \n",
       "4            0              1  36,861.24   True  "
      ]
     },
     "execution_count": 8,
     "metadata": {},
     "output_type": "execute_result"
    }
   ],
   "source": [
    "df.head()"
   ]
  },
  {
   "cell_type": "markdown",
   "id": "fc27ced5",
   "metadata": {},
   "source": [
    "Для удобства закодируем гендер (`М`=0; `Ж`=1) и показатель оттока в цифровом виде. Так же выполним `one_hot` кодирование для городов."
   ]
  },
  {
   "cell_type": "code",
   "execution_count": 9,
   "id": "240e7de3",
   "metadata": {},
   "outputs": [],
   "source": [
    "df['gender_code'] = [0 if i=='М' else 1 for i in df['gender']]"
   ]
  },
  {
   "cell_type": "code",
   "execution_count": 10,
   "id": "f43d4bd2",
   "metadata": {
    "scrolled": false
   },
   "outputs": [],
   "source": [
    "df['churn_code'] = [1 if i==True else 0 for i in df['churn']]"
   ]
  },
  {
   "cell_type": "code",
   "execution_count": 11,
   "id": "da94f442",
   "metadata": {},
   "outputs": [],
   "source": [
    "df= df.join(pd.get_dummies(df['city']))"
   ]
  },
  {
   "cell_type": "code",
   "execution_count": 12,
   "id": "f42b65d8",
   "metadata": {
    "scrolled": false
   },
   "outputs": [
    {
     "data": {
      "text/html": [
       "<div>\n",
       "<style scoped>\n",
       "    .dataframe tbody tr th:only-of-type {\n",
       "        vertical-align: middle;\n",
       "    }\n",
       "\n",
       "    .dataframe tbody tr th {\n",
       "        vertical-align: top;\n",
       "    }\n",
       "\n",
       "    .dataframe thead th {\n",
       "        text-align: right;\n",
       "    }\n",
       "</style>\n",
       "<table border=\"1\" class=\"dataframe\">\n",
       "  <thead>\n",
       "    <tr style=\"text-align: right;\">\n",
       "      <th></th>\n",
       "      <th>userid</th>\n",
       "      <th>score</th>\n",
       "      <th>city</th>\n",
       "      <th>gender</th>\n",
       "      <th>age</th>\n",
       "      <th>equity</th>\n",
       "      <th>balance</th>\n",
       "      <th>products</th>\n",
       "      <th>credit_card</th>\n",
       "      <th>last_activity</th>\n",
       "      <th>salary</th>\n",
       "      <th>churn</th>\n",
       "      <th>gender_code</th>\n",
       "      <th>churn_code</th>\n",
       "      <th>Ростов</th>\n",
       "      <th>Рыбинск</th>\n",
       "      <th>Ярославль</th>\n",
       "    </tr>\n",
       "  </thead>\n",
       "  <tbody>\n",
       "    <tr>\n",
       "      <td>0</td>\n",
       "      <td>258835</td>\n",
       "      <td>673</td>\n",
       "      <td>Ростов</td>\n",
       "      <td>Ж</td>\n",
       "      <td>32</td>\n",
       "      <td>0</td>\n",
       "      <td>467,428.54</td>\n",
       "      <td>1</td>\n",
       "      <td>0</td>\n",
       "      <td>1</td>\n",
       "      <td>81,011.65</td>\n",
       "      <td>True</td>\n",
       "      <td>1</td>\n",
       "      <td>1</td>\n",
       "      <td>1</td>\n",
       "      <td>0</td>\n",
       "      <td>0</td>\n",
       "    </tr>\n",
       "    <tr>\n",
       "      <td>1</td>\n",
       "      <td>96660</td>\n",
       "      <td>691</td>\n",
       "      <td>Ростов</td>\n",
       "      <td>Ж</td>\n",
       "      <td>31</td>\n",
       "      <td>3</td>\n",
       "      <td>65,548.60</td>\n",
       "      <td>1</td>\n",
       "      <td>0</td>\n",
       "      <td>1</td>\n",
       "      <td>57,005.02</td>\n",
       "      <td>True</td>\n",
       "      <td>1</td>\n",
       "      <td>1</td>\n",
       "      <td>1</td>\n",
       "      <td>0</td>\n",
       "      <td>0</td>\n",
       "    </tr>\n",
       "    <tr>\n",
       "      <td>2</td>\n",
       "      <td>99838</td>\n",
       "      <td>679</td>\n",
       "      <td>Ростов</td>\n",
       "      <td>Ж</td>\n",
       "      <td>30</td>\n",
       "      <td>1</td>\n",
       "      <td>686,979.40</td>\n",
       "      <td>1</td>\n",
       "      <td>1</td>\n",
       "      <td>1</td>\n",
       "      <td>149,687.98</td>\n",
       "      <td>True</td>\n",
       "      <td>1</td>\n",
       "      <td>1</td>\n",
       "      <td>1</td>\n",
       "      <td>0</td>\n",
       "      <td>0</td>\n",
       "    </tr>\n",
       "    <tr>\n",
       "      <td>3</td>\n",
       "      <td>216099</td>\n",
       "      <td>717</td>\n",
       "      <td>Рыбинск</td>\n",
       "      <td>Ж</td>\n",
       "      <td>25</td>\n",
       "      <td>2</td>\n",
       "      <td>1,292,171.92</td>\n",
       "      <td>1</td>\n",
       "      <td>0</td>\n",
       "      <td>1</td>\n",
       "      <td>19,502.68</td>\n",
       "      <td>True</td>\n",
       "      <td>1</td>\n",
       "      <td>1</td>\n",
       "      <td>0</td>\n",
       "      <td>1</td>\n",
       "      <td>0</td>\n",
       "    </tr>\n",
       "    <tr>\n",
       "      <td>4</td>\n",
       "      <td>120240</td>\n",
       "      <td>744</td>\n",
       "      <td>Рыбинск</td>\n",
       "      <td>Ж</td>\n",
       "      <td>37</td>\n",
       "      <td>1</td>\n",
       "      <td>1,390,927.97</td>\n",
       "      <td>1</td>\n",
       "      <td>0</td>\n",
       "      <td>1</td>\n",
       "      <td>36,861.24</td>\n",
       "      <td>True</td>\n",
       "      <td>1</td>\n",
       "      <td>1</td>\n",
       "      <td>0</td>\n",
       "      <td>1</td>\n",
       "      <td>0</td>\n",
       "    </tr>\n",
       "  </tbody>\n",
       "</table>\n",
       "</div>"
      ],
      "text/plain": [
       "   userid  score     city gender  age  equity      balance  products  \\\n",
       "0  258835    673   Ростов      Ж   32       0   467,428.54         1   \n",
       "1   96660    691   Ростов      Ж   31       3    65,548.60         1   \n",
       "2   99838    679   Ростов      Ж   30       1   686,979.40         1   \n",
       "3  216099    717  Рыбинск      Ж   25       2 1,292,171.92         1   \n",
       "4  120240    744  Рыбинск      Ж   37       1 1,390,927.97         1   \n",
       "\n",
       "   credit_card  last_activity     salary  churn  gender_code  churn_code  \\\n",
       "0            0              1  81,011.65   True            1           1   \n",
       "1            0              1  57,005.02   True            1           1   \n",
       "2            1              1 149,687.98   True            1           1   \n",
       "3            0              1  19,502.68   True            1           1   \n",
       "4            0              1  36,861.24   True            1           1   \n",
       "\n",
       "   Ростов  Рыбинск  Ярославль  \n",
       "0       1        0          0  \n",
       "1       1        0          0  \n",
       "2       1        0          0  \n",
       "3       0        1          0  \n",
       "4       0        1          0  "
      ]
     },
     "execution_count": 12,
     "metadata": {},
     "output_type": "execute_result"
    }
   ],
   "source": [
    "df.head()"
   ]
  },
  {
   "cell_type": "code",
   "execution_count": 13,
   "id": "7a50c5b6",
   "metadata": {
    "scrolled": false
   },
   "outputs": [
    {
     "data": {
      "text/html": [
       "<div>\n",
       "<style scoped>\n",
       "    .dataframe tbody tr th:only-of-type {\n",
       "        vertical-align: middle;\n",
       "    }\n",
       "\n",
       "    .dataframe tbody tr th {\n",
       "        vertical-align: top;\n",
       "    }\n",
       "\n",
       "    .dataframe thead th {\n",
       "        text-align: right;\n",
       "    }\n",
       "</style>\n",
       "<table border=\"1\" class=\"dataframe\">\n",
       "  <thead>\n",
       "    <tr style=\"text-align: right;\">\n",
       "      <th></th>\n",
       "      <th>count</th>\n",
       "      <th>mean</th>\n",
       "      <th>std</th>\n",
       "      <th>min</th>\n",
       "      <th>25%</th>\n",
       "      <th>50%</th>\n",
       "      <th>75%</th>\n",
       "      <th>max</th>\n",
       "    </tr>\n",
       "  </thead>\n",
       "  <tbody>\n",
       "    <tr>\n",
       "      <td>userid</td>\n",
       "      <td>10,000.00</td>\n",
       "      <td>153,706.10</td>\n",
       "      <td>68,883.53</td>\n",
       "      <td>1,436.00</td>\n",
       "      <td>98,693.00</td>\n",
       "      <td>159,656.00</td>\n",
       "      <td>212,808.50</td>\n",
       "      <td>264,013.00</td>\n",
       "    </tr>\n",
       "    <tr>\n",
       "      <td>score</td>\n",
       "      <td>10,000.00</td>\n",
       "      <td>603.58</td>\n",
       "      <td>132.18</td>\n",
       "      <td>300.00</td>\n",
       "      <td>506.00</td>\n",
       "      <td>610.00</td>\n",
       "      <td>713.00</td>\n",
       "      <td>850.00</td>\n",
       "    </tr>\n",
       "    <tr>\n",
       "      <td>age</td>\n",
       "      <td>10,000.00</td>\n",
       "      <td>42.84</td>\n",
       "      <td>12.13</td>\n",
       "      <td>18.00</td>\n",
       "      <td>34.00</td>\n",
       "      <td>40.00</td>\n",
       "      <td>51.00</td>\n",
       "      <td>86.00</td>\n",
       "    </tr>\n",
       "    <tr>\n",
       "      <td>equity</td>\n",
       "      <td>10,000.00</td>\n",
       "      <td>1.75</td>\n",
       "      <td>1.71</td>\n",
       "      <td>0.00</td>\n",
       "      <td>0.00</td>\n",
       "      <td>1.00</td>\n",
       "      <td>3.00</td>\n",
       "      <td>9.00</td>\n",
       "    </tr>\n",
       "    <tr>\n",
       "      <td>balance</td>\n",
       "      <td>7,706.00</td>\n",
       "      <td>779,636.24</td>\n",
       "      <td>2,102,702.68</td>\n",
       "      <td>219.76</td>\n",
       "      <td>188,692.91</td>\n",
       "      <td>426,576.51</td>\n",
       "      <td>965,517.54</td>\n",
       "      <td>126,385,904.82</td>\n",
       "    </tr>\n",
       "    <tr>\n",
       "      <td>products</td>\n",
       "      <td>10,000.00</td>\n",
       "      <td>1.12</td>\n",
       "      <td>0.41</td>\n",
       "      <td>0.00</td>\n",
       "      <td>1.00</td>\n",
       "      <td>1.00</td>\n",
       "      <td>1.00</td>\n",
       "      <td>4.00</td>\n",
       "    </tr>\n",
       "    <tr>\n",
       "      <td>credit_card</td>\n",
       "      <td>10,000.00</td>\n",
       "      <td>0.84</td>\n",
       "      <td>0.36</td>\n",
       "      <td>0.00</td>\n",
       "      <td>1.00</td>\n",
       "      <td>1.00</td>\n",
       "      <td>1.00</td>\n",
       "      <td>1.00</td>\n",
       "    </tr>\n",
       "    <tr>\n",
       "      <td>last_activity</td>\n",
       "      <td>10,000.00</td>\n",
       "      <td>0.50</td>\n",
       "      <td>0.50</td>\n",
       "      <td>0.00</td>\n",
       "      <td>0.00</td>\n",
       "      <td>0.00</td>\n",
       "      <td>1.00</td>\n",
       "      <td>1.00</td>\n",
       "    </tr>\n",
       "    <tr>\n",
       "      <td>salary</td>\n",
       "      <td>10,000.00</td>\n",
       "      <td>95,468.12</td>\n",
       "      <td>132,573.68</td>\n",
       "      <td>380.84</td>\n",
       "      <td>31,449.29</td>\n",
       "      <td>63,440.57</td>\n",
       "      <td>108,795.85</td>\n",
       "      <td>1,378,131.45</td>\n",
       "    </tr>\n",
       "    <tr>\n",
       "      <td>gender_code</td>\n",
       "      <td>10,000.00</td>\n",
       "      <td>0.50</td>\n",
       "      <td>0.50</td>\n",
       "      <td>0.00</td>\n",
       "      <td>0.00</td>\n",
       "      <td>0.00</td>\n",
       "      <td>1.00</td>\n",
       "      <td>1.00</td>\n",
       "    </tr>\n",
       "    <tr>\n",
       "      <td>churn_code</td>\n",
       "      <td>10,000.00</td>\n",
       "      <td>0.14</td>\n",
       "      <td>0.35</td>\n",
       "      <td>0.00</td>\n",
       "      <td>0.00</td>\n",
       "      <td>0.00</td>\n",
       "      <td>0.00</td>\n",
       "      <td>1.00</td>\n",
       "    </tr>\n",
       "    <tr>\n",
       "      <td>Ростов</td>\n",
       "      <td>10,000.00</td>\n",
       "      <td>0.14</td>\n",
       "      <td>0.35</td>\n",
       "      <td>0.00</td>\n",
       "      <td>0.00</td>\n",
       "      <td>0.00</td>\n",
       "      <td>0.00</td>\n",
       "      <td>1.00</td>\n",
       "    </tr>\n",
       "    <tr>\n",
       "      <td>Рыбинск</td>\n",
       "      <td>10,000.00</td>\n",
       "      <td>0.27</td>\n",
       "      <td>0.44</td>\n",
       "      <td>0.00</td>\n",
       "      <td>0.00</td>\n",
       "      <td>0.00</td>\n",
       "      <td>1.00</td>\n",
       "      <td>1.00</td>\n",
       "    </tr>\n",
       "    <tr>\n",
       "      <td>Ярославль</td>\n",
       "      <td>10,000.00</td>\n",
       "      <td>0.59</td>\n",
       "      <td>0.49</td>\n",
       "      <td>0.00</td>\n",
       "      <td>0.00</td>\n",
       "      <td>1.00</td>\n",
       "      <td>1.00</td>\n",
       "      <td>1.00</td>\n",
       "    </tr>\n",
       "  </tbody>\n",
       "</table>\n",
       "</div>"
      ],
      "text/plain": [
       "                  count       mean          std      min        25%  \\\n",
       "userid        10,000.00 153,706.10    68,883.53 1,436.00  98,693.00   \n",
       "score         10,000.00     603.58       132.18   300.00     506.00   \n",
       "age           10,000.00      42.84        12.13    18.00      34.00   \n",
       "equity        10,000.00       1.75         1.71     0.00       0.00   \n",
       "balance        7,706.00 779,636.24 2,102,702.68   219.76 188,692.91   \n",
       "products      10,000.00       1.12         0.41     0.00       1.00   \n",
       "credit_card   10,000.00       0.84         0.36     0.00       1.00   \n",
       "last_activity 10,000.00       0.50         0.50     0.00       0.00   \n",
       "salary        10,000.00  95,468.12   132,573.68   380.84  31,449.29   \n",
       "gender_code   10,000.00       0.50         0.50     0.00       0.00   \n",
       "churn_code    10,000.00       0.14         0.35     0.00       0.00   \n",
       "Ростов        10,000.00       0.14         0.35     0.00       0.00   \n",
       "Рыбинск       10,000.00       0.27         0.44     0.00       0.00   \n",
       "Ярославль     10,000.00       0.59         0.49     0.00       0.00   \n",
       "\n",
       "                     50%        75%            max  \n",
       "userid        159,656.00 212,808.50     264,013.00  \n",
       "score             610.00     713.00         850.00  \n",
       "age                40.00      51.00          86.00  \n",
       "equity              1.00       3.00           9.00  \n",
       "balance       426,576.51 965,517.54 126,385,904.82  \n",
       "products            1.00       1.00           4.00  \n",
       "credit_card         1.00       1.00           1.00  \n",
       "last_activity       0.00       1.00           1.00  \n",
       "salary         63,440.57 108,795.85   1,378,131.45  \n",
       "gender_code         0.00       1.00           1.00  \n",
       "churn_code          0.00       0.00           1.00  \n",
       "Ростов              0.00       0.00           1.00  \n",
       "Рыбинск             0.00       1.00           1.00  \n",
       "Ярославль           1.00       1.00           1.00  "
      ]
     },
     "execution_count": 13,
     "metadata": {},
     "output_type": "execute_result"
    }
   ],
   "source": [
    "df.describe().T"
   ]
  },
  {
   "cell_type": "markdown",
   "id": "ba8d486d",
   "metadata": {},
   "source": [
    "- средний кредитный рейтинг близок к медиане и составляет 603 пункта, медиана 610;\n",
    "- кредитные карты есть у 84% пользователей;\n",
    "- активными были чуть меньше половины клиентов;\n",
    "- все 7706 записей по балансу ненулевые, значит надо проверить - пропуск это 0 или что то другое;\n",
    "- женщин и мужчин клиентов почти поровну;\n",
    "- общий отток составляет 14%;\n",
    "- больше половины клиентов банка из Ярославля, далее по убыванию идут Рыбинск и Ростов;\n",
    "- среднее и медиана баланса сильно отличаются, необходимо будет проверить на предмет вылетов, либо в такой сильной дифференциации клиентов;\n",
    "- разница между средним и медианой в зарплате, или том, что модель принимает за зарплату, чуть менее внушительная, но тоже существенная, однако цифры ниже МРОТ говорят о том, что не все указанные в таблице значения - это реальные зарплаты, максимум зарплаты однако не вызывает сомнений, вполне реальный уровень дохода;\n",
    "- средняя и медиана по количетсву используемых продуктов почти совпадает, пользователи обычно пользуются каким то одним продуктом;\n",
    "- что касается оценки собственности, то у клиента в среднем почти 2 еденицы какого то имущества, медиана при этом равна 1;"
   ]
  },
  {
   "cell_type": "markdown",
   "id": "b27c3740",
   "metadata": {},
   "source": [
    "Начнем с баланса, проверим, совпадает ли нулевой баланс с клиентами попавшими в отток."
   ]
  },
  {
   "cell_type": "code",
   "execution_count": 14,
   "id": "3d2aa98b",
   "metadata": {
    "scrolled": true
   },
   "outputs": [
    {
     "data": {
      "text/plain": [
       "0"
      ]
     },
     "execution_count": 14,
     "metadata": {},
     "output_type": "execute_result"
    }
   ],
   "source": [
    "df[df['balance'].isna()]['churn_code'].sum()"
   ]
  },
  {
   "cell_type": "markdown",
   "id": "26a6988b",
   "metadata": {},
   "source": [
    "Ни одно из пропущенных значений баланса не совпадает с клиентами, попавшими в отток."
   ]
  },
  {
   "cell_type": "markdown",
   "id": "ffece603",
   "metadata": {},
   "source": [
    "Здесь возможно несколько вариантов:начнем с первого - клиент использует только кредитную карту банка, поэтому пополняя сразу её нет необходимости держать деньги на балансе."
   ]
  },
  {
   "cell_type": "code",
   "execution_count": 15,
   "id": "cdb25023",
   "metadata": {
    "scrolled": false
   },
   "outputs": [
    {
     "data": {
      "text/plain": [
       "2286"
      ]
     },
     "execution_count": 15,
     "metadata": {},
     "output_type": "execute_result"
    }
   ],
   "source": [
    "df[df['balance'].isna()]['credit_card'].sum()"
   ]
  },
  {
   "cell_type": "markdown",
   "id": "133b9cb1",
   "metadata": {},
   "source": [
    "Из 2294 пользователей только 2286 имели кредитную карту. Предоложение не подтвердилось."
   ]
  },
  {
   "cell_type": "markdown",
   "id": "a44361f7",
   "metadata": {},
   "source": [
    "Рассмотрим пользователей с пропусками в поле баланса."
   ]
  },
  {
   "cell_type": "code",
   "execution_count": 16,
   "id": "35122b8f",
   "metadata": {
    "scrolled": true
   },
   "outputs": [
    {
     "data": {
      "text/html": [
       "<div>\n",
       "<style scoped>\n",
       "    .dataframe tbody tr th:only-of-type {\n",
       "        vertical-align: middle;\n",
       "    }\n",
       "\n",
       "    .dataframe tbody tr th {\n",
       "        vertical-align: top;\n",
       "    }\n",
       "\n",
       "    .dataframe thead th {\n",
       "        text-align: right;\n",
       "    }\n",
       "</style>\n",
       "<table border=\"1\" class=\"dataframe\">\n",
       "  <thead>\n",
       "    <tr style=\"text-align: right;\">\n",
       "      <th></th>\n",
       "      <th>count</th>\n",
       "      <th>mean</th>\n",
       "      <th>std</th>\n",
       "      <th>min</th>\n",
       "      <th>25%</th>\n",
       "      <th>50%</th>\n",
       "      <th>75%</th>\n",
       "      <th>max</th>\n",
       "    </tr>\n",
       "  </thead>\n",
       "  <tbody>\n",
       "    <tr>\n",
       "      <td>userid</td>\n",
       "      <td>2,294.00</td>\n",
       "      <td>150,769.47</td>\n",
       "      <td>69,348.60</td>\n",
       "      <td>1,832.00</td>\n",
       "      <td>93,480.50</td>\n",
       "      <td>154,915.00</td>\n",
       "      <td>210,963.50</td>\n",
       "      <td>263,946.00</td>\n",
       "    </tr>\n",
       "    <tr>\n",
       "      <td>score</td>\n",
       "      <td>2,294.00</td>\n",
       "      <td>448.88</td>\n",
       "      <td>88.46</td>\n",
       "      <td>300.00</td>\n",
       "      <td>376.00</td>\n",
       "      <td>440.00</td>\n",
       "      <td>511.00</td>\n",
       "      <td>758.00</td>\n",
       "    </tr>\n",
       "    <tr>\n",
       "      <td>age</td>\n",
       "      <td>2,294.00</td>\n",
       "      <td>41.83</td>\n",
       "      <td>11.71</td>\n",
       "      <td>18.00</td>\n",
       "      <td>33.00</td>\n",
       "      <td>39.00</td>\n",
       "      <td>49.00</td>\n",
       "      <td>86.00</td>\n",
       "    </tr>\n",
       "    <tr>\n",
       "      <td>equity</td>\n",
       "      <td>2,294.00</td>\n",
       "      <td>0.05</td>\n",
       "      <td>0.22</td>\n",
       "      <td>0.00</td>\n",
       "      <td>0.00</td>\n",
       "      <td>0.00</td>\n",
       "      <td>0.00</td>\n",
       "      <td>1.00</td>\n",
       "    </tr>\n",
       "    <tr>\n",
       "      <td>balance</td>\n",
       "      <td>0.00</td>\n",
       "      <td>nan</td>\n",
       "      <td>nan</td>\n",
       "      <td>nan</td>\n",
       "      <td>nan</td>\n",
       "      <td>nan</td>\n",
       "      <td>nan</td>\n",
       "      <td>nan</td>\n",
       "    </tr>\n",
       "    <tr>\n",
       "      <td>products</td>\n",
       "      <td>2,294.00</td>\n",
       "      <td>1.01</td>\n",
       "      <td>0.08</td>\n",
       "      <td>1.00</td>\n",
       "      <td>1.00</td>\n",
       "      <td>1.00</td>\n",
       "      <td>1.00</td>\n",
       "      <td>2.00</td>\n",
       "    </tr>\n",
       "    <tr>\n",
       "      <td>credit_card</td>\n",
       "      <td>2,294.00</td>\n",
       "      <td>1.00</td>\n",
       "      <td>0.06</td>\n",
       "      <td>0.00</td>\n",
       "      <td>1.00</td>\n",
       "      <td>1.00</td>\n",
       "      <td>1.00</td>\n",
       "      <td>1.00</td>\n",
       "    </tr>\n",
       "    <tr>\n",
       "      <td>last_activity</td>\n",
       "      <td>2,294.00</td>\n",
       "      <td>0.54</td>\n",
       "      <td>0.50</td>\n",
       "      <td>0.00</td>\n",
       "      <td>0.00</td>\n",
       "      <td>1.00</td>\n",
       "      <td>1.00</td>\n",
       "      <td>1.00</td>\n",
       "    </tr>\n",
       "    <tr>\n",
       "      <td>salary</td>\n",
       "      <td>2,294.00</td>\n",
       "      <td>172,604.14</td>\n",
       "      <td>195,016.43</td>\n",
       "      <td>8,393.25</td>\n",
       "      <td>77,218.66</td>\n",
       "      <td>114,443.38</td>\n",
       "      <td>167,847.75</td>\n",
       "      <td>1,327,784.30</td>\n",
       "    </tr>\n",
       "    <tr>\n",
       "      <td>gender_code</td>\n",
       "      <td>2,294.00</td>\n",
       "      <td>0.44</td>\n",
       "      <td>0.50</td>\n",
       "      <td>0.00</td>\n",
       "      <td>0.00</td>\n",
       "      <td>0.00</td>\n",
       "      <td>1.00</td>\n",
       "      <td>1.00</td>\n",
       "    </tr>\n",
       "    <tr>\n",
       "      <td>churn_code</td>\n",
       "      <td>2,294.00</td>\n",
       "      <td>0.00</td>\n",
       "      <td>0.00</td>\n",
       "      <td>0.00</td>\n",
       "      <td>0.00</td>\n",
       "      <td>0.00</td>\n",
       "      <td>0.00</td>\n",
       "      <td>0.00</td>\n",
       "    </tr>\n",
       "    <tr>\n",
       "      <td>Ростов</td>\n",
       "      <td>2,294.00</td>\n",
       "      <td>0.10</td>\n",
       "      <td>0.31</td>\n",
       "      <td>0.00</td>\n",
       "      <td>0.00</td>\n",
       "      <td>0.00</td>\n",
       "      <td>0.00</td>\n",
       "      <td>1.00</td>\n",
       "    </tr>\n",
       "    <tr>\n",
       "      <td>Рыбинск</td>\n",
       "      <td>2,294.00</td>\n",
       "      <td>0.25</td>\n",
       "      <td>0.43</td>\n",
       "      <td>0.00</td>\n",
       "      <td>0.00</td>\n",
       "      <td>0.00</td>\n",
       "      <td>1.00</td>\n",
       "      <td>1.00</td>\n",
       "    </tr>\n",
       "    <tr>\n",
       "      <td>Ярославль</td>\n",
       "      <td>2,294.00</td>\n",
       "      <td>0.64</td>\n",
       "      <td>0.48</td>\n",
       "      <td>0.00</td>\n",
       "      <td>0.00</td>\n",
       "      <td>1.00</td>\n",
       "      <td>1.00</td>\n",
       "      <td>1.00</td>\n",
       "    </tr>\n",
       "  </tbody>\n",
       "</table>\n",
       "</div>"
      ],
      "text/plain": [
       "                 count       mean        std      min       25%        50%  \\\n",
       "userid        2,294.00 150,769.47  69,348.60 1,832.00 93,480.50 154,915.00   \n",
       "score         2,294.00     448.88      88.46   300.00    376.00     440.00   \n",
       "age           2,294.00      41.83      11.71    18.00     33.00      39.00   \n",
       "equity        2,294.00       0.05       0.22     0.00      0.00       0.00   \n",
       "balance           0.00        nan        nan      nan       nan        nan   \n",
       "products      2,294.00       1.01       0.08     1.00      1.00       1.00   \n",
       "credit_card   2,294.00       1.00       0.06     0.00      1.00       1.00   \n",
       "last_activity 2,294.00       0.54       0.50     0.00      0.00       1.00   \n",
       "salary        2,294.00 172,604.14 195,016.43 8,393.25 77,218.66 114,443.38   \n",
       "gender_code   2,294.00       0.44       0.50     0.00      0.00       0.00   \n",
       "churn_code    2,294.00       0.00       0.00     0.00      0.00       0.00   \n",
       "Ростов        2,294.00       0.10       0.31     0.00      0.00       0.00   \n",
       "Рыбинск       2,294.00       0.25       0.43     0.00      0.00       0.00   \n",
       "Ярославль     2,294.00       0.64       0.48     0.00      0.00       1.00   \n",
       "\n",
       "                     75%          max  \n",
       "userid        210,963.50   263,946.00  \n",
       "score             511.00       758.00  \n",
       "age                49.00        86.00  \n",
       "equity              0.00         1.00  \n",
       "balance              nan          nan  \n",
       "products            1.00         2.00  \n",
       "credit_card         1.00         1.00  \n",
       "last_activity       1.00         1.00  \n",
       "salary        167,847.75 1,327,784.30  \n",
       "gender_code         1.00         1.00  \n",
       "churn_code          0.00         0.00  \n",
       "Ростов              0.00         1.00  \n",
       "Рыбинск             1.00         1.00  \n",
       "Ярославль           1.00         1.00  "
      ]
     },
     "execution_count": 16,
     "metadata": {},
     "output_type": "execute_result"
    }
   ],
   "source": [
    "df[df['balance'].isna()].describe().T"
   ]
  },
  {
   "cell_type": "code",
   "execution_count": 17,
   "id": "e7e5c073",
   "metadata": {
    "scrolled": true
   },
   "outputs": [
    {
     "data": {
      "text/html": [
       "<style  type=\"text/css\" >\n",
       "</style><table id=\"T_cc63bba2_0dba_11ed_8008_a4b1c1ac7041\" ><thead>    <tr>        <th class=\"blank level0\" ></th>        <th class=\"col_heading level0 col0\" >count</th>        <th class=\"col_heading level0 col1\" >mean</th>        <th class=\"col_heading level0 col2\" >std</th>        <th class=\"col_heading level0 col3\" >min</th>        <th class=\"col_heading level0 col4\" >25%</th>        <th class=\"col_heading level0 col5\" >50%</th>        <th class=\"col_heading level0 col6\" >75%</th>        <th class=\"col_heading level0 col7\" >max</th>    </tr></thead><tbody>\n",
       "                <tr>\n",
       "                        <th id=\"T_cc63bba2_0dba_11ed_8008_a4b1c1ac7041level0_row0\" class=\"row_heading level0 row0\" >userid</th>\n",
       "                        <td id=\"T_cc63bba2_0dba_11ed_8008_a4b1c1ac7041row0_col0\" class=\"data row0 col0\" >-77.1%</td>\n",
       "                        <td id=\"T_cc63bba2_0dba_11ed_8008_a4b1c1ac7041row0_col1\" class=\"data row0 col1\" >-1.9%</td>\n",
       "                        <td id=\"T_cc63bba2_0dba_11ed_8008_a4b1c1ac7041row0_col2\" class=\"data row0 col2\" >0.7%</td>\n",
       "                        <td id=\"T_cc63bba2_0dba_11ed_8008_a4b1c1ac7041row0_col3\" class=\"data row0 col3\" >27.6%</td>\n",
       "                        <td id=\"T_cc63bba2_0dba_11ed_8008_a4b1c1ac7041row0_col4\" class=\"data row0 col4\" >-5.3%</td>\n",
       "                        <td id=\"T_cc63bba2_0dba_11ed_8008_a4b1c1ac7041row0_col5\" class=\"data row0 col5\" >-3.0%</td>\n",
       "                        <td id=\"T_cc63bba2_0dba_11ed_8008_a4b1c1ac7041row0_col6\" class=\"data row0 col6\" >-0.9%</td>\n",
       "                        <td id=\"T_cc63bba2_0dba_11ed_8008_a4b1c1ac7041row0_col7\" class=\"data row0 col7\" >-0.0%</td>\n",
       "            </tr>\n",
       "            <tr>\n",
       "                        <th id=\"T_cc63bba2_0dba_11ed_8008_a4b1c1ac7041level0_row1\" class=\"row_heading level0 row1\" >score</th>\n",
       "                        <td id=\"T_cc63bba2_0dba_11ed_8008_a4b1c1ac7041row1_col0\" class=\"data row1 col0\" >-77.1%</td>\n",
       "                        <td id=\"T_cc63bba2_0dba_11ed_8008_a4b1c1ac7041row1_col1\" class=\"data row1 col1\" >-25.6%</td>\n",
       "                        <td id=\"T_cc63bba2_0dba_11ed_8008_a4b1c1ac7041row1_col2\" class=\"data row1 col2\" >-33.1%</td>\n",
       "                        <td id=\"T_cc63bba2_0dba_11ed_8008_a4b1c1ac7041row1_col3\" class=\"data row1 col3\" >0.0%</td>\n",
       "                        <td id=\"T_cc63bba2_0dba_11ed_8008_a4b1c1ac7041row1_col4\" class=\"data row1 col4\" >-25.7%</td>\n",
       "                        <td id=\"T_cc63bba2_0dba_11ed_8008_a4b1c1ac7041row1_col5\" class=\"data row1 col5\" >-27.9%</td>\n",
       "                        <td id=\"T_cc63bba2_0dba_11ed_8008_a4b1c1ac7041row1_col6\" class=\"data row1 col6\" >-28.3%</td>\n",
       "                        <td id=\"T_cc63bba2_0dba_11ed_8008_a4b1c1ac7041row1_col7\" class=\"data row1 col7\" >-10.8%</td>\n",
       "            </tr>\n",
       "            <tr>\n",
       "                        <th id=\"T_cc63bba2_0dba_11ed_8008_a4b1c1ac7041level0_row2\" class=\"row_heading level0 row2\" >age</th>\n",
       "                        <td id=\"T_cc63bba2_0dba_11ed_8008_a4b1c1ac7041row2_col0\" class=\"data row2 col0\" >-77.1%</td>\n",
       "                        <td id=\"T_cc63bba2_0dba_11ed_8008_a4b1c1ac7041row2_col1\" class=\"data row2 col1\" >-2.3%</td>\n",
       "                        <td id=\"T_cc63bba2_0dba_11ed_8008_a4b1c1ac7041row2_col2\" class=\"data row2 col2\" >-3.4%</td>\n",
       "                        <td id=\"T_cc63bba2_0dba_11ed_8008_a4b1c1ac7041row2_col3\" class=\"data row2 col3\" >0.0%</td>\n",
       "                        <td id=\"T_cc63bba2_0dba_11ed_8008_a4b1c1ac7041row2_col4\" class=\"data row2 col4\" >-2.9%</td>\n",
       "                        <td id=\"T_cc63bba2_0dba_11ed_8008_a4b1c1ac7041row2_col5\" class=\"data row2 col5\" >-2.5%</td>\n",
       "                        <td id=\"T_cc63bba2_0dba_11ed_8008_a4b1c1ac7041row2_col6\" class=\"data row2 col6\" >-3.9%</td>\n",
       "                        <td id=\"T_cc63bba2_0dba_11ed_8008_a4b1c1ac7041row2_col7\" class=\"data row2 col7\" >0.0%</td>\n",
       "            </tr>\n",
       "            <tr>\n",
       "                        <th id=\"T_cc63bba2_0dba_11ed_8008_a4b1c1ac7041level0_row3\" class=\"row_heading level0 row3\" >equity</th>\n",
       "                        <td id=\"T_cc63bba2_0dba_11ed_8008_a4b1c1ac7041row3_col0\" class=\"data row3 col0\" >-77.1%</td>\n",
       "                        <td id=\"T_cc63bba2_0dba_11ed_8008_a4b1c1ac7041row3_col1\" class=\"data row3 col1\" >-97.2%</td>\n",
       "                        <td id=\"T_cc63bba2_0dba_11ed_8008_a4b1c1ac7041row3_col2\" class=\"data row3 col2\" >-87.3%</td>\n",
       "                        <td id=\"T_cc63bba2_0dba_11ed_8008_a4b1c1ac7041row3_col3\" class=\"data row3 col3\" >nan%</td>\n",
       "                        <td id=\"T_cc63bba2_0dba_11ed_8008_a4b1c1ac7041row3_col4\" class=\"data row3 col4\" >nan%</td>\n",
       "                        <td id=\"T_cc63bba2_0dba_11ed_8008_a4b1c1ac7041row3_col5\" class=\"data row3 col5\" >-100.0%</td>\n",
       "                        <td id=\"T_cc63bba2_0dba_11ed_8008_a4b1c1ac7041row3_col6\" class=\"data row3 col6\" >-100.0%</td>\n",
       "                        <td id=\"T_cc63bba2_0dba_11ed_8008_a4b1c1ac7041row3_col7\" class=\"data row3 col7\" >-88.9%</td>\n",
       "            </tr>\n",
       "            <tr>\n",
       "                        <th id=\"T_cc63bba2_0dba_11ed_8008_a4b1c1ac7041level0_row4\" class=\"row_heading level0 row4\" >balance</th>\n",
       "                        <td id=\"T_cc63bba2_0dba_11ed_8008_a4b1c1ac7041row4_col0\" class=\"data row4 col0\" >-100.0%</td>\n",
       "                        <td id=\"T_cc63bba2_0dba_11ed_8008_a4b1c1ac7041row4_col1\" class=\"data row4 col1\" >nan%</td>\n",
       "                        <td id=\"T_cc63bba2_0dba_11ed_8008_a4b1c1ac7041row4_col2\" class=\"data row4 col2\" >nan%</td>\n",
       "                        <td id=\"T_cc63bba2_0dba_11ed_8008_a4b1c1ac7041row4_col3\" class=\"data row4 col3\" >nan%</td>\n",
       "                        <td id=\"T_cc63bba2_0dba_11ed_8008_a4b1c1ac7041row4_col4\" class=\"data row4 col4\" >nan%</td>\n",
       "                        <td id=\"T_cc63bba2_0dba_11ed_8008_a4b1c1ac7041row4_col5\" class=\"data row4 col5\" >nan%</td>\n",
       "                        <td id=\"T_cc63bba2_0dba_11ed_8008_a4b1c1ac7041row4_col6\" class=\"data row4 col6\" >nan%</td>\n",
       "                        <td id=\"T_cc63bba2_0dba_11ed_8008_a4b1c1ac7041row4_col7\" class=\"data row4 col7\" >nan%</td>\n",
       "            </tr>\n",
       "            <tr>\n",
       "                        <th id=\"T_cc63bba2_0dba_11ed_8008_a4b1c1ac7041level0_row5\" class=\"row_heading level0 row5\" >products</th>\n",
       "                        <td id=\"T_cc63bba2_0dba_11ed_8008_a4b1c1ac7041row5_col0\" class=\"data row5 col0\" >-77.1%</td>\n",
       "                        <td id=\"T_cc63bba2_0dba_11ed_8008_a4b1c1ac7041row5_col1\" class=\"data row5 col1\" >-9.8%</td>\n",
       "                        <td id=\"T_cc63bba2_0dba_11ed_8008_a4b1c1ac7041row5_col2\" class=\"data row5 col2\" >-81.0%</td>\n",
       "                        <td id=\"T_cc63bba2_0dba_11ed_8008_a4b1c1ac7041row5_col3\" class=\"data row5 col3\" >inf%</td>\n",
       "                        <td id=\"T_cc63bba2_0dba_11ed_8008_a4b1c1ac7041row5_col4\" class=\"data row5 col4\" >0.0%</td>\n",
       "                        <td id=\"T_cc63bba2_0dba_11ed_8008_a4b1c1ac7041row5_col5\" class=\"data row5 col5\" >0.0%</td>\n",
       "                        <td id=\"T_cc63bba2_0dba_11ed_8008_a4b1c1ac7041row5_col6\" class=\"data row5 col6\" >0.0%</td>\n",
       "                        <td id=\"T_cc63bba2_0dba_11ed_8008_a4b1c1ac7041row5_col7\" class=\"data row5 col7\" >-50.0%</td>\n",
       "            </tr>\n",
       "            <tr>\n",
       "                        <th id=\"T_cc63bba2_0dba_11ed_8008_a4b1c1ac7041level0_row6\" class=\"row_heading level0 row6\" >credit_card</th>\n",
       "                        <td id=\"T_cc63bba2_0dba_11ed_8008_a4b1c1ac7041row6_col0\" class=\"data row6 col0\" >-77.1%</td>\n",
       "                        <td id=\"T_cc63bba2_0dba_11ed_8008_a4b1c1ac7041row6_col1\" class=\"data row6 col1\" >18.3%</td>\n",
       "                        <td id=\"T_cc63bba2_0dba_11ed_8008_a4b1c1ac7041row6_col2\" class=\"data row6 col2\" >-83.8%</td>\n",
       "                        <td id=\"T_cc63bba2_0dba_11ed_8008_a4b1c1ac7041row6_col3\" class=\"data row6 col3\" >nan%</td>\n",
       "                        <td id=\"T_cc63bba2_0dba_11ed_8008_a4b1c1ac7041row6_col4\" class=\"data row6 col4\" >0.0%</td>\n",
       "                        <td id=\"T_cc63bba2_0dba_11ed_8008_a4b1c1ac7041row6_col5\" class=\"data row6 col5\" >0.0%</td>\n",
       "                        <td id=\"T_cc63bba2_0dba_11ed_8008_a4b1c1ac7041row6_col6\" class=\"data row6 col6\" >0.0%</td>\n",
       "                        <td id=\"T_cc63bba2_0dba_11ed_8008_a4b1c1ac7041row6_col7\" class=\"data row6 col7\" >0.0%</td>\n",
       "            </tr>\n",
       "            <tr>\n",
       "                        <th id=\"T_cc63bba2_0dba_11ed_8008_a4b1c1ac7041level0_row7\" class=\"row_heading level0 row7\" >last_activity</th>\n",
       "                        <td id=\"T_cc63bba2_0dba_11ed_8008_a4b1c1ac7041row7_col0\" class=\"data row7 col0\" >-77.1%</td>\n",
       "                        <td id=\"T_cc63bba2_0dba_11ed_8008_a4b1c1ac7041row7_col1\" class=\"data row7 col1\" >8.4%</td>\n",
       "                        <td id=\"T_cc63bba2_0dba_11ed_8008_a4b1c1ac7041row7_col2\" class=\"data row7 col2\" >-0.3%</td>\n",
       "                        <td id=\"T_cc63bba2_0dba_11ed_8008_a4b1c1ac7041row7_col3\" class=\"data row7 col3\" >nan%</td>\n",
       "                        <td id=\"T_cc63bba2_0dba_11ed_8008_a4b1c1ac7041row7_col4\" class=\"data row7 col4\" >nan%</td>\n",
       "                        <td id=\"T_cc63bba2_0dba_11ed_8008_a4b1c1ac7041row7_col5\" class=\"data row7 col5\" >inf%</td>\n",
       "                        <td id=\"T_cc63bba2_0dba_11ed_8008_a4b1c1ac7041row7_col6\" class=\"data row7 col6\" >0.0%</td>\n",
       "                        <td id=\"T_cc63bba2_0dba_11ed_8008_a4b1c1ac7041row7_col7\" class=\"data row7 col7\" >0.0%</td>\n",
       "            </tr>\n",
       "            <tr>\n",
       "                        <th id=\"T_cc63bba2_0dba_11ed_8008_a4b1c1ac7041level0_row8\" class=\"row_heading level0 row8\" >salary</th>\n",
       "                        <td id=\"T_cc63bba2_0dba_11ed_8008_a4b1c1ac7041row8_col0\" class=\"data row8 col0\" >-77.1%</td>\n",
       "                        <td id=\"T_cc63bba2_0dba_11ed_8008_a4b1c1ac7041row8_col1\" class=\"data row8 col1\" >80.8%</td>\n",
       "                        <td id=\"T_cc63bba2_0dba_11ed_8008_a4b1c1ac7041row8_col2\" class=\"data row8 col2\" >47.1%</td>\n",
       "                        <td id=\"T_cc63bba2_0dba_11ed_8008_a4b1c1ac7041row8_col3\" class=\"data row8 col3\" >2103.9%</td>\n",
       "                        <td id=\"T_cc63bba2_0dba_11ed_8008_a4b1c1ac7041row8_col4\" class=\"data row8 col4\" >145.5%</td>\n",
       "                        <td id=\"T_cc63bba2_0dba_11ed_8008_a4b1c1ac7041row8_col5\" class=\"data row8 col5\" >80.4%</td>\n",
       "                        <td id=\"T_cc63bba2_0dba_11ed_8008_a4b1c1ac7041row8_col6\" class=\"data row8 col6\" >54.3%</td>\n",
       "                        <td id=\"T_cc63bba2_0dba_11ed_8008_a4b1c1ac7041row8_col7\" class=\"data row8 col7\" >-3.7%</td>\n",
       "            </tr>\n",
       "            <tr>\n",
       "                        <th id=\"T_cc63bba2_0dba_11ed_8008_a4b1c1ac7041level0_row9\" class=\"row_heading level0 row9\" >gender_code</th>\n",
       "                        <td id=\"T_cc63bba2_0dba_11ed_8008_a4b1c1ac7041row9_col0\" class=\"data row9 col0\" >-77.1%</td>\n",
       "                        <td id=\"T_cc63bba2_0dba_11ed_8008_a4b1c1ac7041row9_col1\" class=\"data row9 col1\" >-11.7%</td>\n",
       "                        <td id=\"T_cc63bba2_0dba_11ed_8008_a4b1c1ac7041row9_col2\" class=\"data row9 col2\" >-0.7%</td>\n",
       "                        <td id=\"T_cc63bba2_0dba_11ed_8008_a4b1c1ac7041row9_col3\" class=\"data row9 col3\" >nan%</td>\n",
       "                        <td id=\"T_cc63bba2_0dba_11ed_8008_a4b1c1ac7041row9_col4\" class=\"data row9 col4\" >nan%</td>\n",
       "                        <td id=\"T_cc63bba2_0dba_11ed_8008_a4b1c1ac7041row9_col5\" class=\"data row9 col5\" >nan%</td>\n",
       "                        <td id=\"T_cc63bba2_0dba_11ed_8008_a4b1c1ac7041row9_col6\" class=\"data row9 col6\" >0.0%</td>\n",
       "                        <td id=\"T_cc63bba2_0dba_11ed_8008_a4b1c1ac7041row9_col7\" class=\"data row9 col7\" >0.0%</td>\n",
       "            </tr>\n",
       "            <tr>\n",
       "                        <th id=\"T_cc63bba2_0dba_11ed_8008_a4b1c1ac7041level0_row10\" class=\"row_heading level0 row10\" >churn_code</th>\n",
       "                        <td id=\"T_cc63bba2_0dba_11ed_8008_a4b1c1ac7041row10_col0\" class=\"data row10 col0\" >-77.1%</td>\n",
       "                        <td id=\"T_cc63bba2_0dba_11ed_8008_a4b1c1ac7041row10_col1\" class=\"data row10 col1\" >-100.0%</td>\n",
       "                        <td id=\"T_cc63bba2_0dba_11ed_8008_a4b1c1ac7041row10_col2\" class=\"data row10 col2\" >-100.0%</td>\n",
       "                        <td id=\"T_cc63bba2_0dba_11ed_8008_a4b1c1ac7041row10_col3\" class=\"data row10 col3\" >nan%</td>\n",
       "                        <td id=\"T_cc63bba2_0dba_11ed_8008_a4b1c1ac7041row10_col4\" class=\"data row10 col4\" >nan%</td>\n",
       "                        <td id=\"T_cc63bba2_0dba_11ed_8008_a4b1c1ac7041row10_col5\" class=\"data row10 col5\" >nan%</td>\n",
       "                        <td id=\"T_cc63bba2_0dba_11ed_8008_a4b1c1ac7041row10_col6\" class=\"data row10 col6\" >nan%</td>\n",
       "                        <td id=\"T_cc63bba2_0dba_11ed_8008_a4b1c1ac7041row10_col7\" class=\"data row10 col7\" >-100.0%</td>\n",
       "            </tr>\n",
       "            <tr>\n",
       "                        <th id=\"T_cc63bba2_0dba_11ed_8008_a4b1c1ac7041level0_row11\" class=\"row_heading level0 row11\" >Ростов</th>\n",
       "                        <td id=\"T_cc63bba2_0dba_11ed_8008_a4b1c1ac7041row11_col0\" class=\"data row11 col0\" >-77.1%</td>\n",
       "                        <td id=\"T_cc63bba2_0dba_11ed_8008_a4b1c1ac7041row11_col1\" class=\"data row11 col1\" >-27.2%</td>\n",
       "                        <td id=\"T_cc63bba2_0dba_11ed_8008_a4b1c1ac7041row11_col2\" class=\"data row11 col2\" >-12.7%</td>\n",
       "                        <td id=\"T_cc63bba2_0dba_11ed_8008_a4b1c1ac7041row11_col3\" class=\"data row11 col3\" >nan%</td>\n",
       "                        <td id=\"T_cc63bba2_0dba_11ed_8008_a4b1c1ac7041row11_col4\" class=\"data row11 col4\" >nan%</td>\n",
       "                        <td id=\"T_cc63bba2_0dba_11ed_8008_a4b1c1ac7041row11_col5\" class=\"data row11 col5\" >nan%</td>\n",
       "                        <td id=\"T_cc63bba2_0dba_11ed_8008_a4b1c1ac7041row11_col6\" class=\"data row11 col6\" >nan%</td>\n",
       "                        <td id=\"T_cc63bba2_0dba_11ed_8008_a4b1c1ac7041row11_col7\" class=\"data row11 col7\" >0.0%</td>\n",
       "            </tr>\n",
       "            <tr>\n",
       "                        <th id=\"T_cc63bba2_0dba_11ed_8008_a4b1c1ac7041level0_row12\" class=\"row_heading level0 row12\" >Рыбинск</th>\n",
       "                        <td id=\"T_cc63bba2_0dba_11ed_8008_a4b1c1ac7041row12_col0\" class=\"data row12 col0\" >-77.1%</td>\n",
       "                        <td id=\"T_cc63bba2_0dba_11ed_8008_a4b1c1ac7041row12_col1\" class=\"data row12 col1\" >-5.5%</td>\n",
       "                        <td id=\"T_cc63bba2_0dba_11ed_8008_a4b1c1ac7041row12_col2\" class=\"data row12 col2\" >-1.8%</td>\n",
       "                        <td id=\"T_cc63bba2_0dba_11ed_8008_a4b1c1ac7041row12_col3\" class=\"data row12 col3\" >nan%</td>\n",
       "                        <td id=\"T_cc63bba2_0dba_11ed_8008_a4b1c1ac7041row12_col4\" class=\"data row12 col4\" >nan%</td>\n",
       "                        <td id=\"T_cc63bba2_0dba_11ed_8008_a4b1c1ac7041row12_col5\" class=\"data row12 col5\" >nan%</td>\n",
       "                        <td id=\"T_cc63bba2_0dba_11ed_8008_a4b1c1ac7041row12_col6\" class=\"data row12 col6\" >0.0%</td>\n",
       "                        <td id=\"T_cc63bba2_0dba_11ed_8008_a4b1c1ac7041row12_col7\" class=\"data row12 col7\" >0.0%</td>\n",
       "            </tr>\n",
       "            <tr>\n",
       "                        <th id=\"T_cc63bba2_0dba_11ed_8008_a4b1c1ac7041level0_row13\" class=\"row_heading level0 row13\" >Ярославль</th>\n",
       "                        <td id=\"T_cc63bba2_0dba_11ed_8008_a4b1c1ac7041row13_col0\" class=\"data row13 col0\" >-77.1%</td>\n",
       "                        <td id=\"T_cc63bba2_0dba_11ed_8008_a4b1c1ac7041row13_col1\" class=\"data row13 col1\" >9.1%</td>\n",
       "                        <td id=\"T_cc63bba2_0dba_11ed_8008_a4b1c1ac7041row13_col2\" class=\"data row13 col2\" >-2.6%</td>\n",
       "                        <td id=\"T_cc63bba2_0dba_11ed_8008_a4b1c1ac7041row13_col3\" class=\"data row13 col3\" >nan%</td>\n",
       "                        <td id=\"T_cc63bba2_0dba_11ed_8008_a4b1c1ac7041row13_col4\" class=\"data row13 col4\" >nan%</td>\n",
       "                        <td id=\"T_cc63bba2_0dba_11ed_8008_a4b1c1ac7041row13_col5\" class=\"data row13 col5\" >0.0%</td>\n",
       "                        <td id=\"T_cc63bba2_0dba_11ed_8008_a4b1c1ac7041row13_col6\" class=\"data row13 col6\" >0.0%</td>\n",
       "                        <td id=\"T_cc63bba2_0dba_11ed_8008_a4b1c1ac7041row13_col7\" class=\"data row13 col7\" >0.0%</td>\n",
       "            </tr>\n",
       "    </tbody></table>"
      ],
      "text/plain": [
       "<pandas.io.formats.style.Styler at 0x1906a2612c8>"
      ]
     },
     "execution_count": 17,
     "metadata": {},
     "output_type": "execute_result"
    }
   ],
   "source": [
    "(((df[df['balance'].isna()].describe().T) - (df.describe().T))/df.describe().T).style.format(\"{:.1%}\")"
   ]
  },
  {
   "cell_type": "markdown",
   "id": "7cb7f6ff",
   "metadata": {},
   "source": [
    "Портет клиента с пропусками в балансе отличается от среднего пользователя банка."
   ]
  },
  {
   "cell_type": "markdown",
   "id": "41936da4",
   "metadata": {},
   "source": [
    "Рассмотрим корреляцию баланса с остальными параметрами."
   ]
  },
  {
   "cell_type": "code",
   "execution_count": 19,
   "id": "e6df1f49",
   "metadata": {
    "scrolled": true
   },
   "outputs": [
    {
     "data": {
      "image/png": "[encoded data removed]",
      "text/plain": [
       "<Figure size 432x288 with 2 Axes>"
      ]
     },
     "metadata": {
      "needs_background": "light"
     },
     "output_type": "display_data"
    }
   ],
   "source": [
    "sns.heatmap(df.dropna().corr(),cmap='RdYlGn');"
   ]
  },
  {
   "cell_type": "markdown",
   "id": "332523a1",
   "metadata": {},
   "source": [
    "С учетом отсутсвия четкой корреляции между показателями клиента и балансом, совпаднием портрета пользователя с балансом и без, а так же стохастичность данных по балансу пользователя, продолжим работу по заполнению пропусков после выделения групп пользователей по множественным параметрам."
   ]
  },
  {
   "cell_type": "markdown",
   "id": "0f93f410",
   "metadata": {},
   "source": [
    "Разделим зарплаты по процентилям для определения групп по зарплатам."
   ]
  },
  {
   "cell_type": "code",
   "execution_count": 20,
   "id": "e0be981a",
   "metadata": {
    "scrolled": true
   },
   "outputs": [],
   "source": [
    "def big_numbers(i, step, row):\n",
    "    for j in range(step,101,step):\n",
    "        if i <=  np.percentile(df[row], j):\n",
    "            return j"
   ]
  },
  {
   "cell_type": "code",
   "execution_count": 21,
   "id": "91dd0944",
   "metadata": {
    "scrolled": false
   },
   "outputs": [],
   "source": [
    "df['salary_code']=df['salary'].apply(big_numbers, step=5, row='salary')"
   ]
  },
  {
   "cell_type": "code",
   "execution_count": 23,
   "id": "5f05087c",
   "metadata": {
    "scrolled": true
   },
   "outputs": [
    {
     "data": {
      "image/png": "[encoded data removed]",
      "text/plain": [
       "<Figure size 432x288 with 1 Axes>"
      ]
     },
     "metadata": {
      "needs_background": "light"
     },
     "output_type": "display_data"
    }
   ],
   "source": [
    "sns.barplot(data=df.groupby('salary_code', as_index=False)[['salary', 'churn']].mean(), x='salary_code', y='churn');"
   ]
  },
  {
   "cell_type": "raw",
   "id": "f1bf9beb",
   "metadata": {
    "scrolled": true
   },
   "source": [
    "df['salary_code']=df['salary'].apply(salary_ranking, step=1)"
   ]
  },
  {
   "cell_type": "raw",
   "id": "3973c536",
   "metadata": {
    "scrolled": false
   },
   "source": [
    "fig = plt.figure(figsize=(18,6))\n",
    "sns.barplot(data=df.groupby('salary_code', as_index=False)[['salary', 'churn']].mean(), x='salary_code', y='churn')\n",
    "plt.xticks(rotation=90)\n",
    "plt.grid(True);"
   ]
  },
  {
   "cell_type": "markdown",
   "id": "b6aa5777",
   "metadata": {},
   "source": [
    "Явно выделяются следущие группы:\n",
    "- 0-15;\n",
    "- 16-40;\n",
    "- 41-70;\n",
    "- 71-100."
   ]
  },
  {
   "cell_type": "code",
   "execution_count": 24,
   "id": "dbeb4109",
   "metadata": {},
   "outputs": [],
   "source": [
    "def salary_ranking(i):\n",
    "    percentile = [15, 40, 70, 100]\n",
    "    for j in percentile:\n",
    "        if i <=  round(np.percentile(df['salary'], j)):\n",
    "            return round(np.percentile(df['salary'], j))"
   ]
  },
  {
   "cell_type": "code",
   "execution_count": 25,
   "id": "4ee642f7",
   "metadata": {
    "scrolled": true
   },
   "outputs": [],
   "source": [
    "df['salary_code']=df['salary'].apply(salary_ranking)"
   ]
  },
  {
   "cell_type": "code",
   "execution_count": 26,
   "id": "574c72ba",
   "metadata": {
    "scrolled": false
   },
   "outputs": [
    {
     "data": {
      "image/png": "[encoded data removed]",
      "text/plain": [
       "<Figure size 576x432 with 1 Axes>"
      ]
     },
     "metadata": {
      "needs_background": "light"
     },
     "output_type": "display_data"
    }
   ],
   "source": [
    "fig = plt.figure(figsize=(8,6))\n",
    "sns.barplot(data=df.groupby('salary_code', as_index=False)[['salary', 'churn']].mean(), \n",
    "            x='salary_code', y='churn')\n",
    "plt.grid(True);"
   ]
  },
  {
   "cell_type": "markdown",
   "id": "a1814344",
   "metadata": {},
   "source": [
    "Динамика отттока аналогична графикам по процентилям, разбивка верная."
   ]
  },
  {
   "cell_type": "code",
   "execution_count": 27,
   "id": "1bda5464",
   "metadata": {
    "scrolled": false
   },
   "outputs": [
    {
     "data": {
      "image/png": "[encoded data removed]",
      "text/plain": [
       "<Figure size 864x360 with 1 Axes>"
      ]
     },
     "metadata": {
      "needs_background": "light"
     },
     "output_type": "display_data"
    },
    {
     "data": {
      "image/png": "[encoded data removed]",
      "text/plain": [
       "<Figure size 864x360 with 1 Axes>"
      ]
     },
     "metadata": {
      "needs_background": "light"
     },
     "output_type": "display_data"
    },
    {
     "data": {
      "image/png": "[encoded data removed]",
      "text/plain": [
       "<Figure size 864x360 with 1 Axes>"
      ]
     },
     "metadata": {
      "needs_background": "light"
     },
     "output_type": "display_data"
    },
    {
     "data": {
      "image/png": "[encoded data removed]",
      "text/plain": [
       "<Figure size 864x360 with 1 Axes>"
      ]
     },
     "metadata": {
      "needs_background": "light"
     },
     "output_type": "display_data"
    },
    {
     "data": {
      "image/png": "[encoded data removed]",
      "text/plain": [
       "<Figure size 864x360 with 1 Axes>"
      ]
     },
     "metadata": {
      "needs_background": "light"
     },
     "output_type": "display_data"
    },
    {
     "data": {
      "image/png": "[encoded data removed]",
      "text/plain": [
       "<Figure size 864x360 with 1 Axes>"
      ]
     },
     "metadata": {
      "needs_background": "light"
     },
     "output_type": "display_data"
    }
   ],
   "source": [
    "for i in ['age','city', 'gender', 'equity','products', 'score']:\n",
    "    fig = plt.figure(figsize=(12,5))\n",
    "    sns.scatterplot(data=df.groupby(i, as_index=False)['churn'].mean(), x=i, y='churn')\n",
    "    plt.grid(True);"
   ]
  },
  {
   "cell_type": "markdown",
   "id": "0d102533",
   "metadata": {},
   "source": [
    "По возрасту выделяются следующие группы: 18-24, 25-29, 26-38, 39-49; 50-59; 60-86.\n",
    "Разделим датасет на соответствующие группы."
   ]
  },
  {
   "cell_type": "code",
   "execution_count": 28,
   "id": "5a9c015d",
   "metadata": {},
   "outputs": [],
   "source": [
    "def age_ranking(i):\n",
    "    if i<25:\n",
    "        return '1824'\n",
    "    elif i<30:\n",
    "        return '2529'\n",
    "    elif i<39:\n",
    "        return '2638'\n",
    "    elif i<50:\n",
    "        return '3949'\n",
    "    elif i<60:\n",
    "        return '5059'\n",
    "    else: \n",
    "        return '6086'"
   ]
  },
  {
   "cell_type": "code",
   "execution_count": 29,
   "id": "de75730e",
   "metadata": {},
   "outputs": [],
   "source": [
    "df['age_code']=df['age'].apply(age_ranking)"
   ]
  },
  {
   "cell_type": "code",
   "execution_count": 30,
   "id": "be1020bb",
   "metadata": {
    "scrolled": true
   },
   "outputs": [
    {
     "data": {
      "text/plain": [
       "age_code\n",
       "1824     165\n",
       "2529     917\n",
       "2638    3350\n",
       "3949    2759\n",
       "5059    1605\n",
       "6086    1204\n",
       "Name: age_code, dtype: int64"
      ]
     },
     "execution_count": 30,
     "metadata": {},
     "output_type": "execute_result"
    }
   ],
   "source": [
    "df.groupby('age_code')['age_code'].count()"
   ]
  },
  {
   "cell_type": "code",
   "execution_count": 31,
   "id": "7c453808",
   "metadata": {
    "scrolled": false
   },
   "outputs": [
    {
     "data": {
      "image/png": "[encoded data removed]",
      "text/plain": [
       "<Figure size 432x288 with 1 Axes>"
      ]
     },
     "metadata": {
      "needs_background": "light"
     },
     "output_type": "display_data"
    }
   ],
   "source": [
    "sns.barplot(data=df.groupby('age_code', as_index=False)['churn'].mean(), x='age_code', y='churn');"
   ]
  },
  {
   "cell_type": "markdown",
   "id": "a8669a3b",
   "metadata": {},
   "source": [
    "Визуально разделение соответсвует распределнию выше."
   ]
  },
  {
   "cell_type": "markdown",
   "id": "dcb0ddbe",
   "metadata": {},
   "source": [
    "Виден явный рост оттока у клиентов с высоким рейтингом, стоит разделить их по группам на уровне 650 очков рейтинга."
   ]
  },
  {
   "cell_type": "code",
   "execution_count": 32,
   "id": "78b22afd",
   "metadata": {},
   "outputs": [],
   "source": [
    "df['score_code'] = ['low' if i<=650 else 'high' for i in df['score']]"
   ]
  },
  {
   "cell_type": "code",
   "execution_count": 33,
   "id": "dbf357b0",
   "metadata": {
    "scrolled": true
   },
   "outputs": [
    {
     "data": {
      "text/html": [
       "<div>\n",
       "<style scoped>\n",
       "    .dataframe tbody tr th:only-of-type {\n",
       "        vertical-align: middle;\n",
       "    }\n",
       "\n",
       "    .dataframe tbody tr th {\n",
       "        vertical-align: top;\n",
       "    }\n",
       "\n",
       "    .dataframe thead th {\n",
       "        text-align: right;\n",
       "    }\n",
       "</style>\n",
       "<table border=\"1\" class=\"dataframe\">\n",
       "  <thead>\n",
       "    <tr style=\"text-align: right;\">\n",
       "      <th></th>\n",
       "      <th>userid</th>\n",
       "      <th>score</th>\n",
       "      <th>city</th>\n",
       "      <th>gender</th>\n",
       "      <th>age</th>\n",
       "      <th>equity</th>\n",
       "      <th>balance</th>\n",
       "      <th>products</th>\n",
       "      <th>credit_card</th>\n",
       "      <th>last_activity</th>\n",
       "      <th>salary</th>\n",
       "      <th>churn</th>\n",
       "      <th>gender_code</th>\n",
       "      <th>churn_code</th>\n",
       "      <th>Ростов</th>\n",
       "      <th>Рыбинск</th>\n",
       "      <th>Ярославль</th>\n",
       "      <th>salary_code</th>\n",
       "      <th>age_code</th>\n",
       "      <th>score_code</th>\n",
       "    </tr>\n",
       "  </thead>\n",
       "  <tbody>\n",
       "    <tr>\n",
       "      <td>0</td>\n",
       "      <td>258835</td>\n",
       "      <td>673</td>\n",
       "      <td>Ростов</td>\n",
       "      <td>Ж</td>\n",
       "      <td>32</td>\n",
       "      <td>0</td>\n",
       "      <td>467,428.54</td>\n",
       "      <td>1</td>\n",
       "      <td>0</td>\n",
       "      <td>1</td>\n",
       "      <td>81,011.65</td>\n",
       "      <td>True</td>\n",
       "      <td>1</td>\n",
       "      <td>1</td>\n",
       "      <td>1</td>\n",
       "      <td>0</td>\n",
       "      <td>0</td>\n",
       "      <td>97,957.00</td>\n",
       "      <td>2638</td>\n",
       "      <td>high</td>\n",
       "    </tr>\n",
       "    <tr>\n",
       "      <td>1</td>\n",
       "      <td>96660</td>\n",
       "      <td>691</td>\n",
       "      <td>Ростов</td>\n",
       "      <td>Ж</td>\n",
       "      <td>31</td>\n",
       "      <td>3</td>\n",
       "      <td>65,548.60</td>\n",
       "      <td>1</td>\n",
       "      <td>0</td>\n",
       "      <td>1</td>\n",
       "      <td>57,005.02</td>\n",
       "      <td>True</td>\n",
       "      <td>1</td>\n",
       "      <td>1</td>\n",
       "      <td>1</td>\n",
       "      <td>0</td>\n",
       "      <td>0</td>\n",
       "      <td>97,957.00</td>\n",
       "      <td>2638</td>\n",
       "      <td>high</td>\n",
       "    </tr>\n",
       "    <tr>\n",
       "      <td>2</td>\n",
       "      <td>99838</td>\n",
       "      <td>679</td>\n",
       "      <td>Ростов</td>\n",
       "      <td>Ж</td>\n",
       "      <td>30</td>\n",
       "      <td>1</td>\n",
       "      <td>686,979.40</td>\n",
       "      <td>1</td>\n",
       "      <td>1</td>\n",
       "      <td>1</td>\n",
       "      <td>149,687.98</td>\n",
       "      <td>True</td>\n",
       "      <td>1</td>\n",
       "      <td>1</td>\n",
       "      <td>1</td>\n",
       "      <td>0</td>\n",
       "      <td>0</td>\n",
       "      <td>1,378,131.00</td>\n",
       "      <td>2638</td>\n",
       "      <td>high</td>\n",
       "    </tr>\n",
       "    <tr>\n",
       "      <td>3</td>\n",
       "      <td>216099</td>\n",
       "      <td>717</td>\n",
       "      <td>Рыбинск</td>\n",
       "      <td>Ж</td>\n",
       "      <td>25</td>\n",
       "      <td>2</td>\n",
       "      <td>1,292,171.92</td>\n",
       "      <td>1</td>\n",
       "      <td>0</td>\n",
       "      <td>1</td>\n",
       "      <td>19,502.68</td>\n",
       "      <td>True</td>\n",
       "      <td>1</td>\n",
       "      <td>1</td>\n",
       "      <td>0</td>\n",
       "      <td>1</td>\n",
       "      <td>0</td>\n",
       "      <td>22,974.00</td>\n",
       "      <td>2529</td>\n",
       "      <td>high</td>\n",
       "    </tr>\n",
       "    <tr>\n",
       "      <td>4</td>\n",
       "      <td>120240</td>\n",
       "      <td>744</td>\n",
       "      <td>Рыбинск</td>\n",
       "      <td>Ж</td>\n",
       "      <td>37</td>\n",
       "      <td>1</td>\n",
       "      <td>1,390,927.97</td>\n",
       "      <td>1</td>\n",
       "      <td>0</td>\n",
       "      <td>1</td>\n",
       "      <td>36,861.24</td>\n",
       "      <td>True</td>\n",
       "      <td>1</td>\n",
       "      <td>1</td>\n",
       "      <td>0</td>\n",
       "      <td>1</td>\n",
       "      <td>0</td>\n",
       "      <td>49,423.00</td>\n",
       "      <td>2638</td>\n",
       "      <td>high</td>\n",
       "    </tr>\n",
       "  </tbody>\n",
       "</table>\n",
       "</div>"
      ],
      "text/plain": [
       "   userid  score     city gender  age  equity      balance  products  \\\n",
       "0  258835    673   Ростов      Ж   32       0   467,428.54         1   \n",
       "1   96660    691   Ростов      Ж   31       3    65,548.60         1   \n",
       "2   99838    679   Ростов      Ж   30       1   686,979.40         1   \n",
       "3  216099    717  Рыбинск      Ж   25       2 1,292,171.92         1   \n",
       "4  120240    744  Рыбинск      Ж   37       1 1,390,927.97         1   \n",
       "\n",
       "   credit_card  last_activity     salary  churn  gender_code  churn_code  \\\n",
       "0            0              1  81,011.65   True            1           1   \n",
       "1            0              1  57,005.02   True            1           1   \n",
       "2            1              1 149,687.98   True            1           1   \n",
       "3            0              1  19,502.68   True            1           1   \n",
       "4            0              1  36,861.24   True            1           1   \n",
       "\n",
       "   Ростов  Рыбинск  Ярославль  salary_code age_code score_code  \n",
       "0       1        0          0    97,957.00     2638       high  \n",
       "1       1        0          0    97,957.00     2638       high  \n",
       "2       1        0          0 1,378,131.00     2638       high  \n",
       "3       0        1          0    22,974.00     2529       high  \n",
       "4       0        1          0    49,423.00     2638       high  "
      ]
     },
     "execution_count": 33,
     "metadata": {},
     "output_type": "execute_result"
    }
   ],
   "source": [
    "df.head()"
   ]
  },
  {
   "cell_type": "markdown",
   "id": "065471c0",
   "metadata": {},
   "source": [
    "Так же в глаза бросаются клиенты, которые пользуются более чем 2 продуктами. Рассмотрим внимательнее."
   ]
  },
  {
   "cell_type": "code",
   "execution_count": 34,
   "id": "827edec5",
   "metadata": {},
   "outputs": [
    {
     "data": {
      "text/html": [
       "<div>\n",
       "<style scoped>\n",
       "    .dataframe tbody tr th:only-of-type {\n",
       "        vertical-align: middle;\n",
       "    }\n",
       "\n",
       "    .dataframe tbody tr th {\n",
       "        vertical-align: top;\n",
       "    }\n",
       "\n",
       "    .dataframe thead tr th {\n",
       "        text-align: left;\n",
       "    }\n",
       "\n",
       "    .dataframe thead tr:last-of-type th {\n",
       "        text-align: right;\n",
       "    }\n",
       "</style>\n",
       "<table border=\"1\" class=\"dataframe\">\n",
       "  <thead>\n",
       "    <tr>\n",
       "      <th></th>\n",
       "      <th colspan=\"2\" halign=\"left\">churn</th>\n",
       "    </tr>\n",
       "    <tr>\n",
       "      <th></th>\n",
       "      <th>count</th>\n",
       "      <th>mean</th>\n",
       "    </tr>\n",
       "    <tr>\n",
       "      <th>products</th>\n",
       "      <th></th>\n",
       "      <th></th>\n",
       "    </tr>\n",
       "  </thead>\n",
       "  <tbody>\n",
       "    <tr>\n",
       "      <td>0</td>\n",
       "      <td>1</td>\n",
       "      <td>1.00</td>\n",
       "    </tr>\n",
       "    <tr>\n",
       "      <td>1</td>\n",
       "      <td>9161</td>\n",
       "      <td>0.12</td>\n",
       "    </tr>\n",
       "    <tr>\n",
       "      <td>2</td>\n",
       "      <td>524</td>\n",
       "      <td>0.00</td>\n",
       "    </tr>\n",
       "    <tr>\n",
       "      <td>3</td>\n",
       "      <td>306</td>\n",
       "      <td>1.00</td>\n",
       "    </tr>\n",
       "    <tr>\n",
       "      <td>4</td>\n",
       "      <td>8</td>\n",
       "      <td>1.00</td>\n",
       "    </tr>\n",
       "  </tbody>\n",
       "</table>\n",
       "</div>"
      ],
      "text/plain": [
       "         churn     \n",
       "         count mean\n",
       "products           \n",
       "0            1 1.00\n",
       "1         9161 0.12\n",
       "2          524 0.00\n",
       "3          306 1.00\n",
       "4            8 1.00"
      ]
     },
     "execution_count": 34,
     "metadata": {},
     "output_type": "execute_result"
    }
   ],
   "source": [
    "df.groupby('products').agg({'churn': ['count','mean']})"
   ]
  },
  {
   "cell_type": "markdown",
   "id": "f3998628",
   "metadata": {},
   "source": [
    "Отток клиентов которые пользуются только 1 продуктом - несколько ниже, чем в среднем по выборке, те кто пользуются 2 - вообще не попадают в отток, а те, кто пользуются 3 или 4 попадают в отток в 100% случаях, это должно быть красным флагом, необходимо определить какие продукты могут настолько отталкивать."
   ]
  },
  {
   "cell_type": "markdown",
   "id": "b35f0875",
   "metadata": {},
   "source": [
    "Заполним пропуске в столбце баланс на соответствующие пропускам данными."
   ]
  },
  {
   "cell_type": "code",
   "execution_count": 35,
   "id": "bdd61740",
   "metadata": {},
   "outputs": [],
   "source": [
    "def balance_fillna(row):\n",
    "    if row['balance'] > 0:\n",
    "        return row['balance']\n",
    "    else:\n",
    "        return (df[(df['city']==row['city'])&\n",
    "                   (df['age_code']==row['age_code'])&\n",
    "                   (df['salary_code']==row['salary_code'])&\n",
    "                   (df['score_code']==row['score_code'])&\n",
    "                   (df['equity']==0)&\n",
    "                   (df['products']==1)&\n",
    "                   (df['churn_code']==0)]['balance'].mean())\n",
    "        "
   ]
  },
  {
   "cell_type": "code",
   "execution_count": 36,
   "id": "5cc7b271",
   "metadata": {},
   "outputs": [],
   "source": [
    "df['balance'] = df.apply(balance_fillna, axis=1)"
   ]
  },
  {
   "cell_type": "code",
   "execution_count": 37,
   "id": "e6cccb4e",
   "metadata": {
    "scrolled": false
   },
   "outputs": [
    {
     "name": "stdout",
     "output_type": "stream",
     "text": [
      "<class 'pandas.core.frame.DataFrame'>\n",
      "RangeIndex: 10000 entries, 0 to 9999\n",
      "Data columns (total 20 columns):\n",
      "userid           10000 non-null int64\n",
      "score            10000 non-null int64\n",
      "city             10000 non-null object\n",
      "gender           10000 non-null object\n",
      "age              10000 non-null int64\n",
      "equity           10000 non-null int64\n",
      "balance          9955 non-null float64\n",
      "products         10000 non-null int64\n",
      "credit_card      10000 non-null int64\n",
      "last_activity    10000 non-null int64\n",
      "salary           10000 non-null float64\n",
      "churn            10000 non-null bool\n",
      "gender_code      10000 non-null int64\n",
      "churn_code       10000 non-null int64\n",
      "Ростов           10000 non-null uint8\n",
      "Рыбинск          10000 non-null uint8\n",
      "Ярославль        10000 non-null uint8\n",
      "salary_code      9999 non-null float64\n",
      "age_code         10000 non-null object\n",
      "score_code       10000 non-null object\n",
      "dtypes: bool(1), float64(3), int64(9), object(4), uint8(3)\n",
      "memory usage: 1.3+ MB\n"
     ]
    }
   ],
   "source": [
    "df.info()"
   ]
  },
  {
   "cell_type": "markdown",
   "id": "1b4dd4cb",
   "metadata": {},
   "source": [
    "Остались незаполненными 45 строк, это менее 1% данных, можно ими пренебречь."
   ]
  },
  {
   "cell_type": "code",
   "execution_count": 38,
   "id": "6601fdcf",
   "metadata": {},
   "outputs": [],
   "source": [
    "df=df.dropna().reset_index()"
   ]
  },
  {
   "cell_type": "code",
   "execution_count": 39,
   "id": "eac19244",
   "metadata": {
    "scrolled": true
   },
   "outputs": [
    {
     "data": {
      "text/html": [
       "<div>\n",
       "<style scoped>\n",
       "    .dataframe tbody tr th:only-of-type {\n",
       "        vertical-align: middle;\n",
       "    }\n",
       "\n",
       "    .dataframe tbody tr th {\n",
       "        vertical-align: top;\n",
       "    }\n",
       "\n",
       "    .dataframe thead th {\n",
       "        text-align: right;\n",
       "    }\n",
       "</style>\n",
       "<table border=\"1\" class=\"dataframe\">\n",
       "  <thead>\n",
       "    <tr style=\"text-align: right;\">\n",
       "      <th></th>\n",
       "      <th>count</th>\n",
       "      <th>mean</th>\n",
       "      <th>std</th>\n",
       "      <th>min</th>\n",
       "      <th>25%</th>\n",
       "      <th>50%</th>\n",
       "      <th>75%</th>\n",
       "      <th>max</th>\n",
       "    </tr>\n",
       "  </thead>\n",
       "  <tbody>\n",
       "    <tr>\n",
       "      <td>index</td>\n",
       "      <td>9,954.00</td>\n",
       "      <td>4,996.86</td>\n",
       "      <td>2,888.26</td>\n",
       "      <td>0.00</td>\n",
       "      <td>2,493.25</td>\n",
       "      <td>4,997.50</td>\n",
       "      <td>7,498.75</td>\n",
       "      <td>9,999.00</td>\n",
       "    </tr>\n",
       "    <tr>\n",
       "      <td>userid</td>\n",
       "      <td>9,954.00</td>\n",
       "      <td>153,703.85</td>\n",
       "      <td>68,942.99</td>\n",
       "      <td>1,436.00</td>\n",
       "      <td>98,549.50</td>\n",
       "      <td>159,666.50</td>\n",
       "      <td>212,957.25</td>\n",
       "      <td>264,013.00</td>\n",
       "    </tr>\n",
       "    <tr>\n",
       "      <td>score</td>\n",
       "      <td>9,954.00</td>\n",
       "      <td>604.34</td>\n",
       "      <td>131.85</td>\n",
       "      <td>300.00</td>\n",
       "      <td>507.00</td>\n",
       "      <td>611.00</td>\n",
       "      <td>713.00</td>\n",
       "      <td>850.00</td>\n",
       "    </tr>\n",
       "    <tr>\n",
       "      <td>age</td>\n",
       "      <td>9,954.00</td>\n",
       "      <td>42.88</td>\n",
       "      <td>12.12</td>\n",
       "      <td>18.00</td>\n",
       "      <td>34.00</td>\n",
       "      <td>40.00</td>\n",
       "      <td>51.00</td>\n",
       "      <td>86.00</td>\n",
       "    </tr>\n",
       "    <tr>\n",
       "      <td>equity</td>\n",
       "      <td>9,954.00</td>\n",
       "      <td>1.75</td>\n",
       "      <td>1.71</td>\n",
       "      <td>0.00</td>\n",
       "      <td>0.00</td>\n",
       "      <td>1.00</td>\n",
       "      <td>3.00</td>\n",
       "      <td>9.00</td>\n",
       "    </tr>\n",
       "    <tr>\n",
       "      <td>balance</td>\n",
       "      <td>9,954.00</td>\n",
       "      <td>724,834.47</td>\n",
       "      <td>1,848,050.48</td>\n",
       "      <td>219.76</td>\n",
       "      <td>237,482.24</td>\n",
       "      <td>508,891.19</td>\n",
       "      <td>813,248.20</td>\n",
       "      <td>126,385,904.82</td>\n",
       "    </tr>\n",
       "    <tr>\n",
       "      <td>products</td>\n",
       "      <td>9,954.00</td>\n",
       "      <td>1.12</td>\n",
       "      <td>0.41</td>\n",
       "      <td>0.00</td>\n",
       "      <td>1.00</td>\n",
       "      <td>1.00</td>\n",
       "      <td>1.00</td>\n",
       "      <td>4.00</td>\n",
       "    </tr>\n",
       "    <tr>\n",
       "      <td>credit_card</td>\n",
       "      <td>9,954.00</td>\n",
       "      <td>0.84</td>\n",
       "      <td>0.37</td>\n",
       "      <td>0.00</td>\n",
       "      <td>1.00</td>\n",
       "      <td>1.00</td>\n",
       "      <td>1.00</td>\n",
       "      <td>1.00</td>\n",
       "    </tr>\n",
       "    <tr>\n",
       "      <td>last_activity</td>\n",
       "      <td>9,954.00</td>\n",
       "      <td>0.50</td>\n",
       "      <td>0.50</td>\n",
       "      <td>0.00</td>\n",
       "      <td>0.00</td>\n",
       "      <td>0.00</td>\n",
       "      <td>1.00</td>\n",
       "      <td>1.00</td>\n",
       "    </tr>\n",
       "    <tr>\n",
       "      <td>salary</td>\n",
       "      <td>9,954.00</td>\n",
       "      <td>95,142.97</td>\n",
       "      <td>132,140.67</td>\n",
       "      <td>380.84</td>\n",
       "      <td>31,372.52</td>\n",
       "      <td>63,162.56</td>\n",
       "      <td>108,497.25</td>\n",
       "      <td>1,327,784.30</td>\n",
       "    </tr>\n",
       "    <tr>\n",
       "      <td>gender_code</td>\n",
       "      <td>9,954.00</td>\n",
       "      <td>0.50</td>\n",
       "      <td>0.50</td>\n",
       "      <td>0.00</td>\n",
       "      <td>0.00</td>\n",
       "      <td>0.00</td>\n",
       "      <td>1.00</td>\n",
       "      <td>1.00</td>\n",
       "    </tr>\n",
       "    <tr>\n",
       "      <td>churn_code</td>\n",
       "      <td>9,954.00</td>\n",
       "      <td>0.14</td>\n",
       "      <td>0.35</td>\n",
       "      <td>0.00</td>\n",
       "      <td>0.00</td>\n",
       "      <td>0.00</td>\n",
       "      <td>0.00</td>\n",
       "      <td>1.00</td>\n",
       "    </tr>\n",
       "    <tr>\n",
       "      <td>Ростов</td>\n",
       "      <td>9,954.00</td>\n",
       "      <td>0.14</td>\n",
       "      <td>0.35</td>\n",
       "      <td>0.00</td>\n",
       "      <td>0.00</td>\n",
       "      <td>0.00</td>\n",
       "      <td>0.00</td>\n",
       "      <td>1.00</td>\n",
       "    </tr>\n",
       "    <tr>\n",
       "      <td>Рыбинск</td>\n",
       "      <td>9,954.00</td>\n",
       "      <td>0.27</td>\n",
       "      <td>0.44</td>\n",
       "      <td>0.00</td>\n",
       "      <td>0.00</td>\n",
       "      <td>0.00</td>\n",
       "      <td>1.00</td>\n",
       "      <td>1.00</td>\n",
       "    </tr>\n",
       "    <tr>\n",
       "      <td>Ярославль</td>\n",
       "      <td>9,954.00</td>\n",
       "      <td>0.59</td>\n",
       "      <td>0.49</td>\n",
       "      <td>0.00</td>\n",
       "      <td>0.00</td>\n",
       "      <td>1.00</td>\n",
       "      <td>1.00</td>\n",
       "      <td>1.00</td>\n",
       "    </tr>\n",
       "    <tr>\n",
       "      <td>salary_code</td>\n",
       "      <td>9,954.00</td>\n",
       "      <td>455,929.83</td>\n",
       "      <td>601,380.05</td>\n",
       "      <td>22,974.00</td>\n",
       "      <td>49,423.00</td>\n",
       "      <td>97,957.00</td>\n",
       "      <td>1,378,131.00</td>\n",
       "      <td>1,378,131.00</td>\n",
       "    </tr>\n",
       "  </tbody>\n",
       "</table>\n",
       "</div>"
      ],
      "text/plain": [
       "                 count       mean          std       min        25%  \\\n",
       "index         9,954.00   4,996.86     2,888.26      0.00   2,493.25   \n",
       "userid        9,954.00 153,703.85    68,942.99  1,436.00  98,549.50   \n",
       "score         9,954.00     604.34       131.85    300.00     507.00   \n",
       "age           9,954.00      42.88        12.12     18.00      34.00   \n",
       "equity        9,954.00       1.75         1.71      0.00       0.00   \n",
       "balance       9,954.00 724,834.47 1,848,050.48    219.76 237,482.24   \n",
       "products      9,954.00       1.12         0.41      0.00       1.00   \n",
       "credit_card   9,954.00       0.84         0.37      0.00       1.00   \n",
       "last_activity 9,954.00       0.50         0.50      0.00       0.00   \n",
       "salary        9,954.00  95,142.97   132,140.67    380.84  31,372.52   \n",
       "gender_code   9,954.00       0.50         0.50      0.00       0.00   \n",
       "churn_code    9,954.00       0.14         0.35      0.00       0.00   \n",
       "Ростов        9,954.00       0.14         0.35      0.00       0.00   \n",
       "Рыбинск       9,954.00       0.27         0.44      0.00       0.00   \n",
       "Ярославль     9,954.00       0.59         0.49      0.00       0.00   \n",
       "salary_code   9,954.00 455,929.83   601,380.05 22,974.00  49,423.00   \n",
       "\n",
       "                     50%          75%            max  \n",
       "index           4,997.50     7,498.75       9,999.00  \n",
       "userid        159,666.50   212,957.25     264,013.00  \n",
       "score             611.00       713.00         850.00  \n",
       "age                40.00        51.00          86.00  \n",
       "equity              1.00         3.00           9.00  \n",
       "balance       508,891.19   813,248.20 126,385,904.82  \n",
       "products            1.00         1.00           4.00  \n",
       "credit_card         1.00         1.00           1.00  \n",
       "last_activity       0.00         1.00           1.00  \n",
       "salary         63,162.56   108,497.25   1,327,784.30  \n",
       "gender_code         0.00         1.00           1.00  \n",
       "churn_code          0.00         0.00           1.00  \n",
       "Ростов              0.00         0.00           1.00  \n",
       "Рыбинск             0.00         1.00           1.00  \n",
       "Ярославль           1.00         1.00           1.00  \n",
       "salary_code    97,957.00 1,378,131.00   1,378,131.00  "
      ]
     },
     "execution_count": 39,
     "metadata": {},
     "output_type": "execute_result"
    }
   ],
   "source": [
    "df.describe().T"
   ]
  },
  {
   "cell_type": "markdown",
   "id": "ba279ae5",
   "metadata": {},
   "source": [
    "Отметим, что значение по балансу немного выросли."
   ]
  },
  {
   "cell_type": "markdown",
   "id": "cfb30efe",
   "metadata": {},
   "source": [
    "Сделаем разбивку баланса и построение графиков для понимания разбивки по данному показателю."
   ]
  },
  {
   "cell_type": "code",
   "execution_count": 40,
   "id": "ef051370",
   "metadata": {
    "scrolled": true
   },
   "outputs": [],
   "source": [
    "df['balance_code']=df['balance'].apply(big_numbers, step=10, row='balance')"
   ]
  },
  {
   "cell_type": "code",
   "execution_count": 41,
   "id": "1540765f",
   "metadata": {
    "scrolled": false
   },
   "outputs": [
    {
     "data": {
      "image/png": "[encoded data removed]",
      "text/plain": [
       "<Figure size 864x360 with 1 Axes>"
      ]
     },
     "metadata": {
      "needs_background": "light"
     },
     "output_type": "display_data"
    }
   ],
   "source": [
    "fig = plt.figure(figsize=(12,5))\n",
    "sns.barplot(data=df.groupby('balance_code', as_index=False)['churn'].mean(), x='balance_code', y='churn')\n",
    "plt.grid(True);"
   ]
  },
  {
   "cell_type": "markdown",
   "id": "eb2b1977",
   "metadata": {},
   "source": [
    "Отметим резкий рост оттока после 80 процентиля. Разобьем датафрейм по данному показателю."
   ]
  },
  {
   "cell_type": "code",
   "execution_count": 42,
   "id": "ff746e8b",
   "metadata": {},
   "outputs": [],
   "source": [
    "df['balance_code'] = ['low' if i<np.percentile(df['balance'], 80) else 'high' for i in df['balance']]"
   ]
  },
  {
   "cell_type": "code",
   "execution_count": 43,
   "id": "6126ebc7",
   "metadata": {
    "scrolled": false
   },
   "outputs": [
    {
     "data": {
      "text/html": [
       "<div>\n",
       "<style scoped>\n",
       "    .dataframe tbody tr th:only-of-type {\n",
       "        vertical-align: middle;\n",
       "    }\n",
       "\n",
       "    .dataframe tbody tr th {\n",
       "        vertical-align: top;\n",
       "    }\n",
       "\n",
       "    .dataframe thead th {\n",
       "        text-align: right;\n",
       "    }\n",
       "</style>\n",
       "<table border=\"1\" class=\"dataframe\">\n",
       "  <thead>\n",
       "    <tr style=\"text-align: right;\">\n",
       "      <th></th>\n",
       "      <th>index</th>\n",
       "      <th>userid</th>\n",
       "      <th>score</th>\n",
       "      <th>city</th>\n",
       "      <th>gender</th>\n",
       "      <th>age</th>\n",
       "      <th>equity</th>\n",
       "      <th>balance</th>\n",
       "      <th>products</th>\n",
       "      <th>credit_card</th>\n",
       "      <th>...</th>\n",
       "      <th>churn</th>\n",
       "      <th>gender_code</th>\n",
       "      <th>churn_code</th>\n",
       "      <th>Ростов</th>\n",
       "      <th>Рыбинск</th>\n",
       "      <th>Ярославль</th>\n",
       "      <th>salary_code</th>\n",
       "      <th>age_code</th>\n",
       "      <th>score_code</th>\n",
       "      <th>balance_code</th>\n",
       "    </tr>\n",
       "  </thead>\n",
       "  <tbody>\n",
       "    <tr>\n",
       "      <td>0</td>\n",
       "      <td>0</td>\n",
       "      <td>258835</td>\n",
       "      <td>673</td>\n",
       "      <td>Ростов</td>\n",
       "      <td>Ж</td>\n",
       "      <td>32</td>\n",
       "      <td>0</td>\n",
       "      <td>467,428.54</td>\n",
       "      <td>1</td>\n",
       "      <td>0</td>\n",
       "      <td>...</td>\n",
       "      <td>True</td>\n",
       "      <td>1</td>\n",
       "      <td>1</td>\n",
       "      <td>1</td>\n",
       "      <td>0</td>\n",
       "      <td>0</td>\n",
       "      <td>97,957.00</td>\n",
       "      <td>2638</td>\n",
       "      <td>high</td>\n",
       "      <td>low</td>\n",
       "    </tr>\n",
       "    <tr>\n",
       "      <td>1</td>\n",
       "      <td>1</td>\n",
       "      <td>96660</td>\n",
       "      <td>691</td>\n",
       "      <td>Ростов</td>\n",
       "      <td>Ж</td>\n",
       "      <td>31</td>\n",
       "      <td>3</td>\n",
       "      <td>65,548.60</td>\n",
       "      <td>1</td>\n",
       "      <td>0</td>\n",
       "      <td>...</td>\n",
       "      <td>True</td>\n",
       "      <td>1</td>\n",
       "      <td>1</td>\n",
       "      <td>1</td>\n",
       "      <td>0</td>\n",
       "      <td>0</td>\n",
       "      <td>97,957.00</td>\n",
       "      <td>2638</td>\n",
       "      <td>high</td>\n",
       "      <td>low</td>\n",
       "    </tr>\n",
       "    <tr>\n",
       "      <td>2</td>\n",
       "      <td>2</td>\n",
       "      <td>99838</td>\n",
       "      <td>679</td>\n",
       "      <td>Ростов</td>\n",
       "      <td>Ж</td>\n",
       "      <td>30</td>\n",
       "      <td>1</td>\n",
       "      <td>686,979.40</td>\n",
       "      <td>1</td>\n",
       "      <td>1</td>\n",
       "      <td>...</td>\n",
       "      <td>True</td>\n",
       "      <td>1</td>\n",
       "      <td>1</td>\n",
       "      <td>1</td>\n",
       "      <td>0</td>\n",
       "      <td>0</td>\n",
       "      <td>1,378,131.00</td>\n",
       "      <td>2638</td>\n",
       "      <td>high</td>\n",
       "      <td>low</td>\n",
       "    </tr>\n",
       "    <tr>\n",
       "      <td>3</td>\n",
       "      <td>3</td>\n",
       "      <td>216099</td>\n",
       "      <td>717</td>\n",
       "      <td>Рыбинск</td>\n",
       "      <td>Ж</td>\n",
       "      <td>25</td>\n",
       "      <td>2</td>\n",
       "      <td>1,292,171.92</td>\n",
       "      <td>1</td>\n",
       "      <td>0</td>\n",
       "      <td>...</td>\n",
       "      <td>True</td>\n",
       "      <td>1</td>\n",
       "      <td>1</td>\n",
       "      <td>0</td>\n",
       "      <td>1</td>\n",
       "      <td>0</td>\n",
       "      <td>22,974.00</td>\n",
       "      <td>2529</td>\n",
       "      <td>high</td>\n",
       "      <td>high</td>\n",
       "    </tr>\n",
       "    <tr>\n",
       "      <td>4</td>\n",
       "      <td>4</td>\n",
       "      <td>120240</td>\n",
       "      <td>744</td>\n",
       "      <td>Рыбинск</td>\n",
       "      <td>Ж</td>\n",
       "      <td>37</td>\n",
       "      <td>1</td>\n",
       "      <td>1,390,927.97</td>\n",
       "      <td>1</td>\n",
       "      <td>0</td>\n",
       "      <td>...</td>\n",
       "      <td>True</td>\n",
       "      <td>1</td>\n",
       "      <td>1</td>\n",
       "      <td>0</td>\n",
       "      <td>1</td>\n",
       "      <td>0</td>\n",
       "      <td>49,423.00</td>\n",
       "      <td>2638</td>\n",
       "      <td>high</td>\n",
       "      <td>high</td>\n",
       "    </tr>\n",
       "  </tbody>\n",
       "</table>\n",
       "<p>5 rows × 22 columns</p>\n",
       "</div>"
      ],
      "text/plain": [
       "   index  userid  score     city gender  age  equity      balance  products  \\\n",
       "0      0  258835    673   Ростов      Ж   32       0   467,428.54         1   \n",
       "1      1   96660    691   Ростов      Ж   31       3    65,548.60         1   \n",
       "2      2   99838    679   Ростов      Ж   30       1   686,979.40         1   \n",
       "3      3  216099    717  Рыбинск      Ж   25       2 1,292,171.92         1   \n",
       "4      4  120240    744  Рыбинск      Ж   37       1 1,390,927.97         1   \n",
       "\n",
       "   credit_card  ...  churn  gender_code  churn_code  Ростов  Рыбинск  \\\n",
       "0            0  ...   True            1           1       1        0   \n",
       "1            0  ...   True            1           1       1        0   \n",
       "2            1  ...   True            1           1       1        0   \n",
       "3            0  ...   True            1           1       0        1   \n",
       "4            0  ...   True            1           1       0        1   \n",
       "\n",
       "   Ярославль  salary_code  age_code  score_code balance_code  \n",
       "0          0    97,957.00      2638        high          low  \n",
       "1          0    97,957.00      2638        high          low  \n",
       "2          0 1,378,131.00      2638        high          low  \n",
       "3          0    22,974.00      2529        high         high  \n",
       "4          0    49,423.00      2638        high         high  \n",
       "\n",
       "[5 rows x 22 columns]"
      ]
     },
     "execution_count": 43,
     "metadata": {},
     "output_type": "execute_result"
    }
   ],
   "source": [
    "df.head()"
   ]
  },
  {
   "cell_type": "code",
   "execution_count": 44,
   "id": "7b684189",
   "metadata": {},
   "outputs": [
    {
     "data": {
      "text/plain": [
       "688278.4369999999"
      ]
     },
     "execution_count": 44,
     "metadata": {},
     "output_type": "execute_result"
    }
   ],
   "source": [
    "np.percentile(df['balance'], 70)"
   ]
  },
  {
   "cell_type": "markdown",
   "id": "fa5f245d",
   "metadata": {},
   "source": [
    "### Портреты клиентов"
   ]
  },
  {
   "cell_type": "markdown",
   "id": "e0045f8f",
   "metadata": {},
   "source": [
    "Необходимо выделить группу с высокой вероятностью оттока клиентов и определить, есть ли статистически значимые отличия между ними.\n",
    "\n",
    "Для начала выделим отточную группу:\n",
    "- рейтинг выше 650;\n",
    "- заработная плата выше 55тыс.руб;\n",
    "- возраст от 25 до 38 и от 50 до 59;\n",
    "- состояние счета выше 680тыс.руб;\n",
    "- количетсво продуктов 0, 3 или 4;\n",
    "- количество собственности - больше 0.\n",
    "Рассмотрим, насколько велика эта группа."
   ]
  },
  {
   "cell_type": "code",
   "execution_count": 45,
   "id": "5478bf26",
   "metadata": {
    "scrolled": true
   },
   "outputs": [
    {
     "data": {
      "text/plain": [
       "2"
      ]
     },
     "execution_count": 45,
     "metadata": {},
     "output_type": "execute_result"
    }
   ],
   "source": [
    "df[(df['score_code']=='high')&\n",
    "   ((df['age_code']=='2529')|(df['age_code']=='2638')|(df['age_code']=='5059'))&\n",
    "   (df['salary'] > 55000)&\n",
    "   (df['balance'] > 680000)&\n",
    "   ((df['products']<1)|(df['products']>3))&\n",
    "   (df['equity']>0)]['churn'].count()"
   ]
  },
  {
   "cell_type": "markdown",
   "id": "f0efed72",
   "metadata": {},
   "source": [
    "Слишком мало значений, уберем фильтр про продуктам."
   ]
  },
  {
   "cell_type": "code",
   "execution_count": 46,
   "id": "a35caf36",
   "metadata": {
    "scrolled": true
   },
   "outputs": [
    {
     "data": {
      "text/plain": [
       "775"
      ]
     },
     "execution_count": 46,
     "metadata": {},
     "output_type": "execute_result"
    }
   ],
   "source": [
    "df[(df['score_code']=='high')&\n",
    "   ((df['age_code']=='2529')|(df['age_code']=='2638')|(df['age_code']=='5059'))&\n",
    "   (df['salary'] > 55000)&\n",
    "   (df['balance'] > 680000)&\n",
    "   (df['equity']>0)]['churn'].count()"
   ]
  },
  {
   "cell_type": "markdown",
   "id": "bc32af02",
   "metadata": {},
   "source": [
    "Попробуем еще убрать 1 из показателей благосостояния, который мы заполняли сами - баланс."
   ]
  },
  {
   "cell_type": "code",
   "execution_count": 47,
   "id": "cbe05016",
   "metadata": {
    "scrolled": false
   },
   "outputs": [
    {
     "data": {
      "text/plain": [
       "1151"
      ]
     },
     "execution_count": 47,
     "metadata": {},
     "output_type": "execute_result"
    }
   ],
   "source": [
    "df[(df['score_code']=='high')&\n",
    "   ((df['age_code']=='2529')|(df['age_code']=='2638')|(df['age_code']=='5059'))&\n",
    "   (df['salary'] > 55000)&\n",
    "   (df['equity']>0)]['churn'].count()"
   ]
  },
  {
   "cell_type": "markdown",
   "id": "460ebad0",
   "metadata": {},
   "source": [
    "Уже больше 1000 строк, 10% выборки. С этим можно работать."
   ]
  },
  {
   "cell_type": "markdown",
   "id": "8e99845d",
   "metadata": {},
   "source": [
    "Наша отточная группа:\n",
    "- рейтинг выше 650;\n",
    "- заработная плата выше 55тыс.руб;\n",
    "- возраст от 25 до 38 и от 50 до 59;\n",
    "- количество собственности - больше 0.<br>"
   ]
  },
  {
   "cell_type": "code",
   "execution_count": 48,
   "id": "d5281a08",
   "metadata": {},
   "outputs": [
    {
     "data": {
      "text/html": [
       "<div>\n",
       "<style scoped>\n",
       "    .dataframe tbody tr th:only-of-type {\n",
       "        vertical-align: middle;\n",
       "    }\n",
       "\n",
       "    .dataframe tbody tr th {\n",
       "        vertical-align: top;\n",
       "    }\n",
       "\n",
       "    .dataframe thead th {\n",
       "        text-align: right;\n",
       "    }\n",
       "</style>\n",
       "<table border=\"1\" class=\"dataframe\">\n",
       "  <thead>\n",
       "    <tr style=\"text-align: right;\">\n",
       "      <th></th>\n",
       "      <th>count</th>\n",
       "      <th>mean</th>\n",
       "      <th>std</th>\n",
       "      <th>min</th>\n",
       "      <th>25%</th>\n",
       "      <th>50%</th>\n",
       "      <th>75%</th>\n",
       "      <th>max</th>\n",
       "    </tr>\n",
       "  </thead>\n",
       "  <tbody>\n",
       "    <tr>\n",
       "      <td>index</td>\n",
       "      <td>1,151.00</td>\n",
       "      <td>2,949.88</td>\n",
       "      <td>3,006.23</td>\n",
       "      <td>1.00</td>\n",
       "      <td>652.50</td>\n",
       "      <td>1,314.00</td>\n",
       "      <td>5,119.00</td>\n",
       "      <td>9,986.00</td>\n",
       "    </tr>\n",
       "    <tr>\n",
       "      <td>userid</td>\n",
       "      <td>1,151.00</td>\n",
       "      <td>152,748.19</td>\n",
       "      <td>68,574.25</td>\n",
       "      <td>3,450.00</td>\n",
       "      <td>99,427.00</td>\n",
       "      <td>158,338.00</td>\n",
       "      <td>211,800.50</td>\n",
       "      <td>263,900.00</td>\n",
       "    </tr>\n",
       "    <tr>\n",
       "      <td>score</td>\n",
       "      <td>1,151.00</td>\n",
       "      <td>744.72</td>\n",
       "      <td>52.43</td>\n",
       "      <td>651.00</td>\n",
       "      <td>702.00</td>\n",
       "      <td>743.00</td>\n",
       "      <td>787.00</td>\n",
       "      <td>850.00</td>\n",
       "    </tr>\n",
       "    <tr>\n",
       "      <td>age</td>\n",
       "      <td>1,151.00</td>\n",
       "      <td>38.51</td>\n",
       "      <td>10.49</td>\n",
       "      <td>25.00</td>\n",
       "      <td>31.00</td>\n",
       "      <td>35.00</td>\n",
       "      <td>50.00</td>\n",
       "      <td>59.00</td>\n",
       "    </tr>\n",
       "    <tr>\n",
       "      <td>equity</td>\n",
       "      <td>1,151.00</td>\n",
       "      <td>2.75</td>\n",
       "      <td>1.51</td>\n",
       "      <td>1.00</td>\n",
       "      <td>2.00</td>\n",
       "      <td>2.00</td>\n",
       "      <td>4.00</td>\n",
       "      <td>9.00</td>\n",
       "    </tr>\n",
       "    <tr>\n",
       "      <td>balance</td>\n",
       "      <td>1,151.00</td>\n",
       "      <td>1,695,993.70</td>\n",
       "      <td>3,125,179.69</td>\n",
       "      <td>6,519.65</td>\n",
       "      <td>515,186.06</td>\n",
       "      <td>1,128,252.93</td>\n",
       "      <td>1,920,277.77</td>\n",
       "      <td>67,126,874.68</td>\n",
       "    </tr>\n",
       "    <tr>\n",
       "      <td>products</td>\n",
       "      <td>1,151.00</td>\n",
       "      <td>1.21</td>\n",
       "      <td>0.62</td>\n",
       "      <td>1.00</td>\n",
       "      <td>1.00</td>\n",
       "      <td>1.00</td>\n",
       "      <td>1.00</td>\n",
       "      <td>4.00</td>\n",
       "    </tr>\n",
       "    <tr>\n",
       "      <td>credit_card</td>\n",
       "      <td>1,151.00</td>\n",
       "      <td>0.64</td>\n",
       "      <td>0.48</td>\n",
       "      <td>0.00</td>\n",
       "      <td>0.00</td>\n",
       "      <td>1.00</td>\n",
       "      <td>1.00</td>\n",
       "      <td>1.00</td>\n",
       "    </tr>\n",
       "    <tr>\n",
       "      <td>last_activity</td>\n",
       "      <td>1,151.00</td>\n",
       "      <td>0.50</td>\n",
       "      <td>0.50</td>\n",
       "      <td>0.00</td>\n",
       "      <td>0.00</td>\n",
       "      <td>1.00</td>\n",
       "      <td>1.00</td>\n",
       "      <td>1.00</td>\n",
       "    </tr>\n",
       "    <tr>\n",
       "      <td>salary</td>\n",
       "      <td>1,151.00</td>\n",
       "      <td>144,221.03</td>\n",
       "      <td>163,171.22</td>\n",
       "      <td>55,031.92</td>\n",
       "      <td>75,155.59</td>\n",
       "      <td>100,924.87</td>\n",
       "      <td>137,652.97</td>\n",
       "      <td>1,303,097.29</td>\n",
       "    </tr>\n",
       "    <tr>\n",
       "      <td>gender_code</td>\n",
       "      <td>1,151.00</td>\n",
       "      <td>0.45</td>\n",
       "      <td>0.50</td>\n",
       "      <td>0.00</td>\n",
       "      <td>0.00</td>\n",
       "      <td>0.00</td>\n",
       "      <td>1.00</td>\n",
       "      <td>1.00</td>\n",
       "    </tr>\n",
       "    <tr>\n",
       "      <td>churn_code</td>\n",
       "      <td>1,151.00</td>\n",
       "      <td>0.56</td>\n",
       "      <td>0.50</td>\n",
       "      <td>0.00</td>\n",
       "      <td>0.00</td>\n",
       "      <td>1.00</td>\n",
       "      <td>1.00</td>\n",
       "      <td>1.00</td>\n",
       "    </tr>\n",
       "    <tr>\n",
       "      <td>Ростов</td>\n",
       "      <td>1,151.00</td>\n",
       "      <td>0.11</td>\n",
       "      <td>0.31</td>\n",
       "      <td>0.00</td>\n",
       "      <td>0.00</td>\n",
       "      <td>0.00</td>\n",
       "      <td>0.00</td>\n",
       "      <td>1.00</td>\n",
       "    </tr>\n",
       "    <tr>\n",
       "      <td>Рыбинск</td>\n",
       "      <td>1,151.00</td>\n",
       "      <td>0.25</td>\n",
       "      <td>0.44</td>\n",
       "      <td>0.00</td>\n",
       "      <td>0.00</td>\n",
       "      <td>0.00</td>\n",
       "      <td>1.00</td>\n",
       "      <td>1.00</td>\n",
       "    </tr>\n",
       "    <tr>\n",
       "      <td>Ярославль</td>\n",
       "      <td>1,151.00</td>\n",
       "      <td>0.64</td>\n",
       "      <td>0.48</td>\n",
       "      <td>0.00</td>\n",
       "      <td>0.00</td>\n",
       "      <td>1.00</td>\n",
       "      <td>1.00</td>\n",
       "      <td>1.00</td>\n",
       "    </tr>\n",
       "    <tr>\n",
       "      <td>salary_code</td>\n",
       "      <td>1,151.00</td>\n",
       "      <td>786,425.90</td>\n",
       "      <td>638,533.32</td>\n",
       "      <td>97,957.00</td>\n",
       "      <td>97,957.00</td>\n",
       "      <td>1,378,131.00</td>\n",
       "      <td>1,378,131.00</td>\n",
       "      <td>1,378,131.00</td>\n",
       "    </tr>\n",
       "  </tbody>\n",
       "</table>\n",
       "</div>"
      ],
      "text/plain": [
       "                 count         mean          std       min        25%  \\\n",
       "index         1,151.00     2,949.88     3,006.23      1.00     652.50   \n",
       "userid        1,151.00   152,748.19    68,574.25  3,450.00  99,427.00   \n",
       "score         1,151.00       744.72        52.43    651.00     702.00   \n",
       "age           1,151.00        38.51        10.49     25.00      31.00   \n",
       "equity        1,151.00         2.75         1.51      1.00       2.00   \n",
       "balance       1,151.00 1,695,993.70 3,125,179.69  6,519.65 515,186.06   \n",
       "products      1,151.00         1.21         0.62      1.00       1.00   \n",
       "credit_card   1,151.00         0.64         0.48      0.00       0.00   \n",
       "last_activity 1,151.00         0.50         0.50      0.00       0.00   \n",
       "salary        1,151.00   144,221.03   163,171.22 55,031.92  75,155.59   \n",
       "gender_code   1,151.00         0.45         0.50      0.00       0.00   \n",
       "churn_code    1,151.00         0.56         0.50      0.00       0.00   \n",
       "Ростов        1,151.00         0.11         0.31      0.00       0.00   \n",
       "Рыбинск       1,151.00         0.25         0.44      0.00       0.00   \n",
       "Ярославль     1,151.00         0.64         0.48      0.00       0.00   \n",
       "salary_code   1,151.00   786,425.90   638,533.32 97,957.00  97,957.00   \n",
       "\n",
       "                       50%          75%           max  \n",
       "index             1,314.00     5,119.00      9,986.00  \n",
       "userid          158,338.00   211,800.50    263,900.00  \n",
       "score               743.00       787.00        850.00  \n",
       "age                  35.00        50.00         59.00  \n",
       "equity                2.00         4.00          9.00  \n",
       "balance       1,128,252.93 1,920,277.77 67,126,874.68  \n",
       "products              1.00         1.00          4.00  \n",
       "credit_card           1.00         1.00          1.00  \n",
       "last_activity         1.00         1.00          1.00  \n",
       "salary          100,924.87   137,652.97  1,303,097.29  \n",
       "gender_code           0.00         1.00          1.00  \n",
       "churn_code            1.00         1.00          1.00  \n",
       "Ростов                0.00         0.00          1.00  \n",
       "Рыбинск               0.00         1.00          1.00  \n",
       "Ярославль             1.00         1.00          1.00  \n",
       "salary_code   1,378,131.00 1,378,131.00  1,378,131.00  "
      ]
     },
     "execution_count": 48,
     "metadata": {},
     "output_type": "execute_result"
    }
   ],
   "source": [
    "df[(df['score_code']=='high')&\n",
    "   ((df['age_code']=='2529')|(df['age_code']=='2638')|(df['age_code']=='5059'))&\n",
    "   (df['salary'] > 55000)&\n",
    "   (df['equity']>0)].describe().T"
   ]
  },
  {
   "cell_type": "markdown",
   "id": "10160e06",
   "metadata": {},
   "source": [
    "- сильное влияние на отток оказывает баланс клиента, медиана у среднего клиента из отточной группы более 1млн.рублей, в среднем эта цифра равна 1.7 миллиона рублей;\n",
    "- доход их так же выше среднего, медиана 100тыс.руб., а в среднем 144 тыс.руб.;\n",
    "- так же отточные клиенты имеют достаточно высокий средний рейтинг в районе 750;\n",
    "- клиенты относятся к средней группе по возрасту;\n",
    "- что касается собственности, то у эта группа владеет как правило 2 предметами имущества;\n",
    "- так же отдельно отметим высокий уровень оттока у клиентов, которы пользуются 3 и более продуктами банка;\n",
    "- уровень оттока таких клиентов - более 50%, безумный уровень."
   ]
  },
  {
   "cell_type": "code",
   "execution_count": 49,
   "id": "c94c27d3",
   "metadata": {},
   "outputs": [
    {
     "data": {
      "text/html": [
       "<div>\n",
       "<style scoped>\n",
       "    .dataframe tbody tr th:only-of-type {\n",
       "        vertical-align: middle;\n",
       "    }\n",
       "\n",
       "    .dataframe tbody tr th {\n",
       "        vertical-align: top;\n",
       "    }\n",
       "\n",
       "    .dataframe thead th {\n",
       "        text-align: right;\n",
       "    }\n",
       "</style>\n",
       "<table border=\"1\" class=\"dataframe\">\n",
       "  <thead>\n",
       "    <tr style=\"text-align: right;\">\n",
       "      <th></th>\n",
       "      <th>count</th>\n",
       "      <th>mean</th>\n",
       "      <th>std</th>\n",
       "      <th>min</th>\n",
       "      <th>25%</th>\n",
       "      <th>50%</th>\n",
       "      <th>75%</th>\n",
       "      <th>max</th>\n",
       "    </tr>\n",
       "  </thead>\n",
       "  <tbody>\n",
       "    <tr>\n",
       "      <td>index</td>\n",
       "      <td>8,803.00</td>\n",
       "      <td>5,264.50</td>\n",
       "      <td>2,762.71</td>\n",
       "      <td>0.00</td>\n",
       "      <td>2,927.50</td>\n",
       "      <td>5,296.00</td>\n",
       "      <td>7,643.50</td>\n",
       "      <td>9,999.00</td>\n",
       "    </tr>\n",
       "    <tr>\n",
       "      <td>userid</td>\n",
       "      <td>8,803.00</td>\n",
       "      <td>153,828.81</td>\n",
       "      <td>68,993.96</td>\n",
       "      <td>1,436.00</td>\n",
       "      <td>98,449.50</td>\n",
       "      <td>159,916.00</td>\n",
       "      <td>213,113.00</td>\n",
       "      <td>264,013.00</td>\n",
       "    </tr>\n",
       "    <tr>\n",
       "      <td>score</td>\n",
       "      <td>8,803.00</td>\n",
       "      <td>585.99</td>\n",
       "      <td>128.01</td>\n",
       "      <td>300.00</td>\n",
       "      <td>495.00</td>\n",
       "      <td>587.00</td>\n",
       "      <td>685.00</td>\n",
       "      <td>850.00</td>\n",
       "    </tr>\n",
       "    <tr>\n",
       "      <td>age</td>\n",
       "      <td>8,803.00</td>\n",
       "      <td>43.45</td>\n",
       "      <td>12.20</td>\n",
       "      <td>18.00</td>\n",
       "      <td>34.00</td>\n",
       "      <td>41.00</td>\n",
       "      <td>52.00</td>\n",
       "      <td>86.00</td>\n",
       "    </tr>\n",
       "    <tr>\n",
       "      <td>equity</td>\n",
       "      <td>8,803.00</td>\n",
       "      <td>1.62</td>\n",
       "      <td>1.70</td>\n",
       "      <td>0.00</td>\n",
       "      <td>0.00</td>\n",
       "      <td>1.00</td>\n",
       "      <td>3.00</td>\n",
       "      <td>9.00</td>\n",
       "    </tr>\n",
       "    <tr>\n",
       "      <td>balance</td>\n",
       "      <td>8,803.00</td>\n",
       "      <td>597,854.54</td>\n",
       "      <td>1,564,093.90</td>\n",
       "      <td>219.76</td>\n",
       "      <td>218,224.49</td>\n",
       "      <td>483,280.58</td>\n",
       "      <td>692,174.20</td>\n",
       "      <td>126,385,904.82</td>\n",
       "    </tr>\n",
       "    <tr>\n",
       "      <td>products</td>\n",
       "      <td>8,803.00</td>\n",
       "      <td>1.10</td>\n",
       "      <td>0.37</td>\n",
       "      <td>0.00</td>\n",
       "      <td>1.00</td>\n",
       "      <td>1.00</td>\n",
       "      <td>1.00</td>\n",
       "      <td>4.00</td>\n",
       "    </tr>\n",
       "    <tr>\n",
       "      <td>credit_card</td>\n",
       "      <td>8,803.00</td>\n",
       "      <td>0.87</td>\n",
       "      <td>0.34</td>\n",
       "      <td>0.00</td>\n",
       "      <td>1.00</td>\n",
       "      <td>1.00</td>\n",
       "      <td>1.00</td>\n",
       "      <td>1.00</td>\n",
       "    </tr>\n",
       "    <tr>\n",
       "      <td>last_activity</td>\n",
       "      <td>8,803.00</td>\n",
       "      <td>0.50</td>\n",
       "      <td>0.50</td>\n",
       "      <td>0.00</td>\n",
       "      <td>0.00</td>\n",
       "      <td>0.00</td>\n",
       "      <td>1.00</td>\n",
       "      <td>1.00</td>\n",
       "    </tr>\n",
       "    <tr>\n",
       "      <td>salary</td>\n",
       "      <td>8,803.00</td>\n",
       "      <td>88,725.97</td>\n",
       "      <td>126,133.79</td>\n",
       "      <td>380.84</td>\n",
       "      <td>28,736.69</td>\n",
       "      <td>54,772.85</td>\n",
       "      <td>102,365.62</td>\n",
       "      <td>1,327,784.30</td>\n",
       "    </tr>\n",
       "    <tr>\n",
       "      <td>gender_code</td>\n",
       "      <td>8,803.00</td>\n",
       "      <td>0.51</td>\n",
       "      <td>0.50</td>\n",
       "      <td>0.00</td>\n",
       "      <td>0.00</td>\n",
       "      <td>1.00</td>\n",
       "      <td>1.00</td>\n",
       "      <td>1.00</td>\n",
       "    </tr>\n",
       "    <tr>\n",
       "      <td>churn_code</td>\n",
       "      <td>8,803.00</td>\n",
       "      <td>0.09</td>\n",
       "      <td>0.29</td>\n",
       "      <td>0.00</td>\n",
       "      <td>0.00</td>\n",
       "      <td>0.00</td>\n",
       "      <td>0.00</td>\n",
       "      <td>1.00</td>\n",
       "    </tr>\n",
       "    <tr>\n",
       "      <td>Ростов</td>\n",
       "      <td>8,803.00</td>\n",
       "      <td>0.14</td>\n",
       "      <td>0.35</td>\n",
       "      <td>0.00</td>\n",
       "      <td>0.00</td>\n",
       "      <td>0.00</td>\n",
       "      <td>0.00</td>\n",
       "      <td>1.00</td>\n",
       "    </tr>\n",
       "    <tr>\n",
       "      <td>Рыбинск</td>\n",
       "      <td>8,803.00</td>\n",
       "      <td>0.27</td>\n",
       "      <td>0.44</td>\n",
       "      <td>0.00</td>\n",
       "      <td>0.00</td>\n",
       "      <td>0.00</td>\n",
       "      <td>1.00</td>\n",
       "      <td>1.00</td>\n",
       "    </tr>\n",
       "    <tr>\n",
       "      <td>Ярославль</td>\n",
       "      <td>8,803.00</td>\n",
       "      <td>0.59</td>\n",
       "      <td>0.49</td>\n",
       "      <td>0.00</td>\n",
       "      <td>0.00</td>\n",
       "      <td>1.00</td>\n",
       "      <td>1.00</td>\n",
       "      <td>1.00</td>\n",
       "    </tr>\n",
       "    <tr>\n",
       "      <td>salary_code</td>\n",
       "      <td>8,803.00</td>\n",
       "      <td>412,717.18</td>\n",
       "      <td>582,691.64</td>\n",
       "      <td>22,974.00</td>\n",
       "      <td>49,423.00</td>\n",
       "      <td>97,957.00</td>\n",
       "      <td>1,378,131.00</td>\n",
       "      <td>1,378,131.00</td>\n",
       "    </tr>\n",
       "  </tbody>\n",
       "</table>\n",
       "</div>"
      ],
      "text/plain": [
       "                 count       mean          std       min        25%  \\\n",
       "index         8,803.00   5,264.50     2,762.71      0.00   2,927.50   \n",
       "userid        8,803.00 153,828.81    68,993.96  1,436.00  98,449.50   \n",
       "score         8,803.00     585.99       128.01    300.00     495.00   \n",
       "age           8,803.00      43.45        12.20     18.00      34.00   \n",
       "equity        8,803.00       1.62         1.70      0.00       0.00   \n",
       "balance       8,803.00 597,854.54 1,564,093.90    219.76 218,224.49   \n",
       "products      8,803.00       1.10         0.37      0.00       1.00   \n",
       "credit_card   8,803.00       0.87         0.34      0.00       1.00   \n",
       "last_activity 8,803.00       0.50         0.50      0.00       0.00   \n",
       "salary        8,803.00  88,725.97   126,133.79    380.84  28,736.69   \n",
       "gender_code   8,803.00       0.51         0.50      0.00       0.00   \n",
       "churn_code    8,803.00       0.09         0.29      0.00       0.00   \n",
       "Ростов        8,803.00       0.14         0.35      0.00       0.00   \n",
       "Рыбинск       8,803.00       0.27         0.44      0.00       0.00   \n",
       "Ярославль     8,803.00       0.59         0.49      0.00       0.00   \n",
       "salary_code   8,803.00 412,717.18   582,691.64 22,974.00  49,423.00   \n",
       "\n",
       "                     50%          75%            max  \n",
       "index           5,296.00     7,643.50       9,999.00  \n",
       "userid        159,916.00   213,113.00     264,013.00  \n",
       "score             587.00       685.00         850.00  \n",
       "age                41.00        52.00          86.00  \n",
       "equity              1.00         3.00           9.00  \n",
       "balance       483,280.58   692,174.20 126,385,904.82  \n",
       "products            1.00         1.00           4.00  \n",
       "credit_card         1.00         1.00           1.00  \n",
       "last_activity       0.00         1.00           1.00  \n",
       "salary         54,772.85   102,365.62   1,327,784.30  \n",
       "gender_code         1.00         1.00           1.00  \n",
       "churn_code          0.00         0.00           1.00  \n",
       "Ростов              0.00         0.00           1.00  \n",
       "Рыбинск             0.00         1.00           1.00  \n",
       "Ярославль           1.00         1.00           1.00  \n",
       "salary_code    97,957.00 1,378,131.00   1,378,131.00  "
      ]
     },
     "execution_count": 49,
     "metadata": {},
     "output_type": "execute_result"
    }
   ],
   "source": [
    "df[~((df['score_code']=='high')&\n",
    "   ((df['age_code']=='2529')|(df['age_code']=='2638')|(df['age_code']=='5059'))&\n",
    "   (df['salary'] > 55000)&\n",
    "   (df['equity']>0))].describe().T"
   ]
  },
  {
   "cell_type": "markdown",
   "id": "3fbc2d88",
   "metadata": {},
   "source": [
    "- медиана по зарплате и баланму у неотточного клиента в 2 раза ниже;\n",
    "- рейтинг хуже на 200 пунктов;\n",
    "- возраст чуть выше среднего;\n",
    "- владеют около 1 еденицы имущества;\n",
    "- отдельно отметим нулевой отток у клиентов, которые пользуются 2 банковскими продуктами."
   ]
  },
  {
   "cell_type": "markdown",
   "id": "53cc7b34",
   "metadata": {},
   "source": [
    "## Проверка гипотез"
   ]
  },
  {
   "cell_type": "markdown",
   "id": "8246fed4",
   "metadata": {},
   "source": [
    "### Гипотеза 1\n",
    "Проверяем гипотезу о том, что между клиентами которые пользуются 2 продуктами и 1 нет статистически значимых различий в уровне дохода."
   ]
  },
  {
   "cell_type": "markdown",
   "id": "553c087b",
   "metadata": {},
   "source": [
    "**Гипотеза:** уровень дохода у пользователей, которые пользуются 1 продуктом или 2 одинаковые.\n",
    "\n",
    "**Альтернативная гипотеза:** уровень дохода у пользователей, которые пользуются 1 или 2 продуктами различаются."
   ]
  },
  {
   "cell_type": "markdown",
   "id": "8e52c0fb",
   "metadata": {},
   "source": [
    "Рассмотрим выборки по данным критериям."
   ]
  },
  {
   "cell_type": "markdown",
   "id": "cb00b4ca",
   "metadata": {},
   "source": [
    "Выборки сильно отличаются по размерам, генеральные совокупности независимы друг от друга, поскольку данных достаточное количество, выборочные средние должны быть нормально распределены вокруг истинного среднего. Данные подходят для t-теста, однако с учетом большой разности между выборками, будем использовать параметр `equal_var = False`"
   ]
  },
  {
   "cell_type": "markdown",
   "id": "4e821b23",
   "metadata": {},
   "source": [
    "Напишем функцию для t-теста."
   ]
  },
  {
   "cell_type": "code",
   "execution_count": 50,
   "id": "084d001e",
   "metadata": {},
   "outputs": [],
   "source": [
    "def ttest_func (sample_1, sample_2, alpha, equal):\n",
    "    results = st.ttest_ind(\n",
    "        sample_1, \n",
    "        sample_2,\n",
    "        equal_var = equal)\n",
    "\n",
    "    print('p-значение: ', results.pvalue)\n",
    "\n",
    "    if results.pvalue < alpha:\n",
    "        print(\"Отвергаем нулевую гипотезу\")\n",
    "    else:\n",
    "        print(\"Не получилось отвергнуть нулевую гипотезу\")\n",
    "    print(f'Среднее выборки 1: {sample_1.mean():.2f}')\n",
    "    print(f'Среднее выборки 2: {sample_2.mean():.2f}')"
   ]
  },
  {
   "cell_type": "code",
   "execution_count": 51,
   "id": "e4ddaef8",
   "metadata": {
    "scrolled": true
   },
   "outputs": [
    {
     "name": "stdout",
     "output_type": "stream",
     "text": [
      "p-значение:  1.0568133962935976e-32\n",
      "Отвергаем нулевую гипотезу\n",
      "Среднее выборки 1: 96523.54\n",
      "Среднее выборки 2: 52954.88\n"
     ]
    }
   ],
   "source": [
    "ttest_func (df[df['products']==1]['salary'],\n",
    "            df[df['products']==2]['salary'],\n",
    "            0.05, False)"
   ]
  },
  {
   "cell_type": "markdown",
   "id": "0a64695d",
   "metadata": {},
   "source": [
    "Нулевая гипотеза не подтвердилась, заработная плата пользователей пользующихся 1 и 2 продуктами отличается. Так же средний доход клиентов пользующихся 1 продуктом почти в 2 раза выше, чем пользующихся 2."
   ]
  },
  {
   "cell_type": "markdown",
   "id": "ace004bb",
   "metadata": {},
   "source": [
    "### Гипотеза 2\n"
   ]
  },
  {
   "cell_type": "markdown",
   "id": "0b7666c0",
   "metadata": {},
   "source": [
    "**Гипотеза:** уровень оттока отточной группы совпадает с неотточной.\n",
    "\n",
    "**Альтернативная гипотеза:** уровень оттока отточной группы различиются с неотточной."
   ]
  },
  {
   "cell_type": "code",
   "execution_count": 52,
   "id": "e73a048a",
   "metadata": {
    "scrolled": false
   },
   "outputs": [
    {
     "name": "stdout",
     "output_type": "stream",
     "text": [
      "p-значение:  1.3811186228544952e-129\n",
      "Отвергаем нулевую гипотезу\n",
      "Среднее выборки 1: 0.58\n",
      "Среднее выборки 2: 0.10\n"
     ]
    }
   ],
   "source": [
    "ttest_func (df[(df['score_code']=='high')&\n",
    "               ((df['age_code']=='2529')|(df['age_code']=='2638')|(df['age_code']=='5059'))&\n",
    "               (df['salary'] > 55000)&\n",
    "               (df['equity']>1)]['churn'],\n",
    "            df[~((df['score_code']=='high')&\n",
    "               ((df['age_code']=='2529')|(df['age_code']=='2638')|(df['age_code']=='5059'))&\n",
    "               (df['salary'] > 55000)&\n",
    "               (df['equity']>1))]['churn'],\n",
    "            0.05, False)"
   ]
  },
  {
   "cell_type": "markdown",
   "id": "aa860bdf",
   "metadata": {},
   "source": [
    "Уровень оттока у группы 1 составляет больше половины, тогда как у 2й менее 10%, они так же имеют статистически значимые различия."
   ]
  },
  {
   "cell_type": "markdown",
   "id": "01de76cc",
   "metadata": {},
   "source": [
    "## Выводы"
   ]
  },
  {
   "cell_type": "markdown",
   "id": "d5fc1e74",
   "metadata": {},
   "source": [
    "- выполнена сегментация пользователей по различным признакам в зависимости от уровня оттока;\n",
    "- по результатам получили следующий портрет отточного клиента:\n",
    "\n",
    "\n",
    "    - медиана баланса 1млн.рублей, в среднем эта цифра равна 1.7 миллиона рублей;\n",
    "    - доход выше среднего, медиана 100тыс.руб., а в среднем 144 тыс.руб.;\n",
    "    - высокий средний рейтинг в районе 750;\n",
    "    - клиенты относятся к средней группе по возрасту, с медианой 35 лет;\n",
    "    - владеет как правило 2 предметами имущества;\n",
    "    - отдельно отметим 100% отток у клиентов, которы пользуются 3 и более продуктами банка;\n",
    "    \n",
    " - портрет неотточного клиента:\n",
    " \n",
    " \n",
    "    - медиана по зарплате и балансу у неотточного клиента в 2 раза ниже;\n",
    "    - рейтинг хуже на 200 пунктов;\n",
    "    - возраст чуть выше среднего;\n",
    "    - владеют около 1 еденицы имущества;\n",
    "    - отдельно отметим нулевой отток у клиентов, которые пользуются 2 банковскими продуктами."
   ]
  },
  {
   "cell_type": "markdown",
   "id": "5881613a",
   "metadata": {},
   "source": [
    "Полученные данные говорят нам о том, что банк теряет наиболее состоятельную группу клиентов, с высоким рейтингом, более молодую, с наличием имущества, так же тех, кто пользуется несколькими банковскими продуктам.\n",
    "\n",
    "\n",
    "- удобное приложение / сайт для людей среднего возраста;\n",
    "- людям старшего и предпенсионного возраста, возможно, так же необходим улучшенный клиентский сервис на местах обслуживания;\n",
    "- особый клиентский сервис, в частности для премиальных клиентов, включая спец. предложения по бонусам, ассинтентам и прочим атрибутам высокого уровня жизни;\n",
    "- наличия достаточно неплохих накоплений, подсказывает, что такие клиенты так же могут быть заинтересованны в инвестициях и стоит дать им такой инструмент;\n",
    "- так же страховые инструменты тоже должны прийтись к месту, с учетом наличия у клиентов какой-то собственности;\n",
    "- отдельно необходимо понять какой продукт отталкивает клиентов, особенно среди тех, кто пользуется 3 и более продуктами. Проработать над удержаением тех, кто пользуются 1 продуктом за счет вовлечение в экосистему банка.<br>\n",
    "\n",
    "Терять только более состоятельный слой клиентов в любых ситуация недопустимо, а терять их половину, звучит безумно, необходимо срочно начинать шаги по изменениям в данном направлении."
   ]
  }
 ],
 "metadata": {
  "ExecuteTimeLog": [
   {
    "duration": 131,
    "start_time": "2022-07-26T15:43:38.068Z"
   },
   {
    "duration": 47,
    "start_time": "2022-07-26T15:49:57.023Z"
   },
   {
    "duration": 1171,
    "start_time": "2022-07-26T15:50:01.399Z"
   },
   {
    "duration": 6,
    "start_time": "2022-07-26T15:50:02.572Z"
   },
   {
    "duration": 9,
    "start_time": "2022-07-26T15:50:02.580Z"
   },
   {
    "duration": 321,
    "start_time": "2022-07-26T15:50:02.590Z"
   },
   {
    "duration": 0,
    "start_time": "2022-07-26T15:50:02.914Z"
   },
   {
    "duration": 0,
    "start_time": "2022-07-26T15:50:02.915Z"
   },
   {
    "duration": 0,
    "start_time": "2022-07-26T15:50:02.916Z"
   },
   {
    "duration": 0,
    "start_time": "2022-07-26T15:50:02.917Z"
   },
   {
    "duration": 0,
    "start_time": "2022-07-26T15:50:02.918Z"
   },
   {
    "duration": 0,
    "start_time": "2022-07-26T15:50:02.919Z"
   },
   {
    "duration": 0,
    "start_time": "2022-07-26T15:50:02.920Z"
   },
   {
    "duration": 0,
    "start_time": "2022-07-26T15:50:02.921Z"
   },
   {
    "duration": 0,
    "start_time": "2022-07-26T15:50:02.922Z"
   },
   {
    "duration": 0,
    "start_time": "2022-07-26T15:50:02.923Z"
   },
   {
    "duration": 0,
    "start_time": "2022-07-26T15:50:02.924Z"
   },
   {
    "duration": 9,
    "start_time": "2022-07-26T15:50:05.619Z"
   },
   {
    "duration": 1939,
    "start_time": "2022-07-26T15:52:10.142Z"
   },
   {
    "duration": 13,
    "start_time": "2022-07-26T15:52:15.439Z"
   },
   {
    "duration": 14,
    "start_time": "2022-07-26T15:52:16.025Z"
   },
   {
    "duration": 5,
    "start_time": "2022-07-26T15:52:16.639Z"
   },
   {
    "duration": 13,
    "start_time": "2022-07-26T15:52:17.021Z"
   },
   {
    "duration": 10,
    "start_time": "2022-07-26T15:52:19.626Z"
   },
   {
    "duration": 6,
    "start_time": "2022-07-26T15:52:19.974Z"
   },
   {
    "duration": 8,
    "start_time": "2022-07-26T15:52:20.942Z"
   },
   {
    "duration": 15,
    "start_time": "2022-07-26T15:52:21.907Z"
   },
   {
    "duration": 48,
    "start_time": "2022-07-26T15:52:22.562Z"
   },
   {
    "duration": 6,
    "start_time": "2022-07-26T15:52:24.056Z"
   },
   {
    "duration": 6,
    "start_time": "2022-07-26T15:52:24.809Z"
   },
   {
    "duration": 106,
    "start_time": "2022-07-26T15:52:26.876Z"
   },
   {
    "duration": 169,
    "start_time": "2022-07-26T15:53:38.774Z"
   },
   {
    "duration": 110,
    "start_time": "2022-07-26T15:53:57.473Z"
   },
   {
    "duration": 112,
    "start_time": "2022-07-26T15:54:03.538Z"
   },
   {
    "duration": 108,
    "start_time": "2022-07-26T15:54:13.911Z"
   },
   {
    "duration": 112,
    "start_time": "2022-07-26T15:54:48.503Z"
   },
   {
    "duration": 108,
    "start_time": "2022-07-26T15:55:05.080Z"
   },
   {
    "duration": 33,
    "start_time": "2022-07-26T15:57:40.735Z"
   },
   {
    "duration": 12,
    "start_time": "2022-07-26T15:57:51.477Z"
   },
   {
    "duration": 11,
    "start_time": "2022-07-26T15:57:58.972Z"
   },
   {
    "duration": 11,
    "start_time": "2022-07-26T15:58:29.199Z"
   },
   {
    "duration": 11,
    "start_time": "2022-07-26T15:58:33.990Z"
   },
   {
    "duration": 10,
    "start_time": "2022-07-26T15:58:39.638Z"
   }
  ],
  "kernelspec": {
   "display_name": "Python 3 (ipykernel)",
   "language": "python",
   "name": "python3"
  },
  "language_info": {
   "codemirror_mode": {
    "name": "ipython",
    "version": 3
   },
   "file_extension": ".py",
   "mimetype": "text/x-python",
   "name": "python",
   "nbconvert_exporter": "python",
   "pygments_lexer": "ipython3",
   "version": "3.7.8"
  },
  "toc": {
   "base_numbering": 1,
   "nav_menu": {},
   "number_sections": true,
   "sideBar": true,
   "skip_h1_title": true,
   "title_cell": "Table of Contents",
   "title_sidebar": "Contents",
   "toc_cell": true,
   "toc_position": {
    "height": "calc(100% - 180px)",
    "left": "10px",
    "top": "150px",
    "width": "303.825px"
   },
   "toc_section_display": true,
   "toc_window_display": true
  }
 },
 "nbformat": 4,
 "nbformat_minor": 5
}
