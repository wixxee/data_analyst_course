{
 "cells": [
  {
   "cell_type": "markdown",
   "metadata": {
    "toc": true
   },
   "source": [
    "<h1>Содержание<span class=\"tocSkip\"></span></h1>\n",
    "<div class=\"toc\"><ul class=\"toc-item\"><li><span><a href=\"#Изучение-данных-из-файла\" data-toc-modified-id=\"Изучение-данных-из-файла-1\"><span class=\"toc-item-num\">1&nbsp;&nbsp;</span>Изучение данных из файла</a></span><ul class=\"toc-item\"><li><span><a href=\"#Выгрузка-и-изучение-данных\" data-toc-modified-id=\"Выгрузка-и-изучение-данных-1.1\"><span class=\"toc-item-num\">1.1&nbsp;&nbsp;</span>Выгрузка и изучение данных</a></span></li><li><span><a href=\"#Описание-данных:\" data-toc-modified-id=\"Описание-данных:-1.2\"><span class=\"toc-item-num\">1.2&nbsp;&nbsp;</span>Описание данных:<br></a></span></li></ul></li><li><span><a href=\"#Предобработка-данных\" data-toc-modified-id=\"Предобработка-данных-2\"><span class=\"toc-item-num\">2&nbsp;&nbsp;</span>Предобработка данных</a></span><ul class=\"toc-item\"><li><span><a href=\"#Работа-с-пропусками:\" data-toc-modified-id=\"Работа-с-пропусками:-2.1\"><span class=\"toc-item-num\">2.1&nbsp;&nbsp;</span>Работа с пропусками:</a></span></li><li><span><a href=\"#Работа-с-типами-данных:\" data-toc-modified-id=\"Работа-с-типами-данных:-2.2\"><span class=\"toc-item-num\">2.2&nbsp;&nbsp;</span>Работа с типами данных:</a></span></li><li><span><a href=\"#Вывод\" data-toc-modified-id=\"Вывод-2.3\"><span class=\"toc-item-num\">2.3&nbsp;&nbsp;</span>Вывод</a></span></li></ul></li><li><span><a href=\"#Расчёты-и-добавление-результатов-в-таблицу\" data-toc-modified-id=\"Расчёты-и-добавление-результатов-в-таблицу-3\"><span class=\"toc-item-num\">3&nbsp;&nbsp;</span>Расчёты и добавление результатов в таблицу</a></span></li><li><span><a href=\"#Исследовательский-анализ-данных\" data-toc-modified-id=\"Исследовательский-анализ-данных-4\"><span class=\"toc-item-num\">4&nbsp;&nbsp;</span>Исследовательский анализ данных</a></span><ul class=\"toc-item\"><li><span><a href=\"#Рассмотрим-данные-по-площади,-стоимости,-количеству-комнат-и-высоте-потолков.\" data-toc-modified-id=\"Рассмотрим-данные-по-площади,-стоимости,-количеству-комнат-и-высоте-потолков.-4.1\"><span class=\"toc-item-num\">4.1&nbsp;&nbsp;</span>Рассмотрим данные по площади, стоимости, количеству комнат и высоте потолков.</a></span></li><li><span><a href=\"#Построим-гистрограммы-по-данным-столбцам.\" data-toc-modified-id=\"Построим-гистрограммы-по-данным-столбцам.-4.2\"><span class=\"toc-item-num\">4.2&nbsp;&nbsp;</span>Построим гистрограммы по данным столбцам.</a></span></li><li><span><a href=\"#Изучим-данные-по-срокам-продажи-квартир.\" data-toc-modified-id=\"Изучим-данные-по-срокам-продажи-квартир.-4.3\"><span class=\"toc-item-num\">4.3&nbsp;&nbsp;</span>Изучим данные по срокам продажи квартир.</a></span></li><li><span><a href=\"#Работа-с-аномалиями\" data-toc-modified-id=\"Работа-с-аномалиями-4.4\"><span class=\"toc-item-num\">4.4&nbsp;&nbsp;</span>Работа с аномалиями</a></span></li><li><span><a href=\"#Анализ-стоимости-квартиры\" data-toc-modified-id=\"Анализ-стоимости-квартиры-4.5\"><span class=\"toc-item-num\">4.5&nbsp;&nbsp;</span>Анализ стоимости квартиры</a></span></li><li><span><a href=\"#Анализ-населенных-пунктов-с-наибольшим-числом-объявлений:\" data-toc-modified-id=\"Анализ-населенных-пунктов-с-наибольшим-числом-объявлений:-4.6\"><span class=\"toc-item-num\">4.6&nbsp;&nbsp;</span>Анализ населенных пунктов с наибольшим числом объявлений:</a></span></li><li><span><a href=\"#Анализ-расстояния-до-центра-СПб\" data-toc-modified-id=\"Анализ-расстояния-до-центра-СПб-4.7\"><span class=\"toc-item-num\">4.7&nbsp;&nbsp;</span>Анализ расстояния до центра СПб</a></span></li><li><span><a href=\"#Анализ-квартир-в-центре\" data-toc-modified-id=\"Анализ-квартир-в-центре-4.8\"><span class=\"toc-item-num\">4.8&nbsp;&nbsp;</span>Анализ квартир в центре</a></span></li></ul></li><li><span><a href=\"#Общий-вывод\" data-toc-modified-id=\"Общий-вывод-5\"><span class=\"toc-item-num\">5&nbsp;&nbsp;</span>Общий вывод</a></span></li><li><span><a href=\"#Чек-лист-готовности-проекта\" data-toc-modified-id=\"Чек-лист-готовности-проекта-6\"><span class=\"toc-item-num\">6&nbsp;&nbsp;</span>Чек-лист готовности проекта</a></span></li></ul></div>"
   ]
  },
  {
   "cell_type": "markdown",
   "metadata": {},
   "source": [
    " ###### <span style=\"color:blue\">Комментарий студента:</span>\n",
    "Привет, Ринат!<br>\n",
    "Я прочитал все замечания, огромное спасибо за твой труд и обратную связь, но реальность такова, что не по вашей вине, но проект проверен достаточно поздно и уже необходимо выполнять новый проект, чтобы хоть как-то уложиться в сроки. Поэтому в данной итерации я выполнил только критичные замечания. <br>\n",
    "В свободную неделю ожидания проверки следующего проекта, добью до идеала, чтобы получилась нестыдная работа и твой труд тоже не пропал даром. <br>\n",
    "Отдельная благодарность за полезные ссылки и необязательные примечания в помощь."
   ]
  },
  {
   "cell_type": "markdown",
   "metadata": {},
   "source": [
    "<div class=\"alert alert-success\">\n",
    "<font size=\"4\"><b>Комментарий ревьюера V2</b></font>\n",
    "    <br /> \n",
    "    <font size=\"3\", color = \"black\">\n",
    "<br />\n",
    "    Привет, Артур :) Спасибо за комментарии :)"
   ]
  },
  {
   "cell_type": "markdown",
   "metadata": {},
   "source": [
    "<div class=\"alert alert-success\">\n",
    "<font size=\"4\"><b>Комментарий ревьюера</b></font>\n",
    "    <br /> \n",
    "    <font size=\"3\", color = \"black\">\n",
    "<br />\n",
    "    Привет, Артур :) Спасибо, что прислал задание :) Меня зовут Ринат Хисамов и я буду проверять твой проект. Предлагаю обращаться друг к другу на ты. Так нам будет гораздо проще и удобней общаться).\n",
    "\n",
    "Мои комментарии обозначены пометкой <b>Комментарий ревьюера</b>. Далее в файле сможешь найти их в похожих ячейках (если фон комментария зелёный — всё сделано правильно (✔️), рекомендации таким же цветом. Отдельным цветом — блок ссылок (примеры ниже, 🍕). Оранжевым или светло желтым рекомендации, которые, хоть и не обязательны, но точно сделают ревью лучше. (⚠️); <u> красный комментарий</u>: код, график или вывод стоит переделать (❌)). \n",
    "\n",
    "Не удаляй все эти комментарии и постарайся учесть их в ходе выполнения данного проекта. \n",
    "Будет замечательно, если добавишь свои комментарии и пояснения✍\n",
    "        \n",
    "Поехали 🚀\n",
    "    <br />\n",
    "    </font>\n",
    "\n",
    "</div>"
   ]
  },
  {
   "cell_type": "markdown",
   "metadata": {},
   "source": [
    "<div style=\"border:solid steelblue 1px; padding: 20px\">\n",
    "    \n",
    "<font size=\"4\"><p style=\"text-align:center\"><b>Примеры комментариев </b></p></font>\n",
    "    \n",
    "<div style=\"border:solid steelblue 3px; padding: 20px\">\n",
    "<font size=\"4\"><b>🍕 Пример комментария - совета, здесь м.б. просто ссылка</b></font>\n",
    "    <br /> \n",
    "        <font size=\"3\", color = \"black\">\n",
    "<br />\n",
    "    Тут всего такого разного и вкусного :), есть способы прокачать проект визуализациями (ценит большинство \"боссов\")  <br /><br />\n",
    "        <a href=\"https://pyprog.pro/mpl/mpl_short_guide.html\">Краткое руководство по Matplotlib</a>\n",
    "        На сайте много полезных материалов, мне самому очень помогло в свое время, до сих пор подсматриваю :)\n",
    "\n",
    "\n",
    "</div>\n",
    "    \n",
    "<div class=\"alert alert-warning\", style=\"border:solid coral 3px; padding: 20px\">\n",
    "    <font size=\"3\"><b>⚠️ Пример оформления некритичного комментария</b>\n",
    "    <br /> \n",
    "    <font size=\"2\", color = \"black\">\n",
    "<br />\n",
    "    Рекомендации, которые, хоть и не обязательны, но точно сделают ревью лучше\n",
    "    <br />\n",
    "    </font>\n",
    "\n",
    "</div>\n",
    "    \n",
    "<div class=\"alert alert-danger\">\n",
    "<font size=\"3\"><b>❌ Пример оформления комментария к блоку(строке) программного кода (или выводу), который стоит переделать</b></font>\n",
    "    <br /> \n",
    "    <font size=\"2\", color = \"black\">\n",
    "<br />\n",
    "    Отправлен не тот проект, напиши в своих комментариях, что случилось? жду — <b>это пример</b>\n",
    "    <br />\n",
    "    </font>\n",
    "\n",
    "</div>\n",
    "    \n",
    "<div class=\"alert alert-success\">\n",
    "<font size=\"4\"><b>✔️ Пример оформления комментария, который нравится большинству студентов</b></font>\n",
    "    <br /> \n",
    "    <font size=\"3\", color = \"black\">\n",
    "<br />\n",
    "    Круто, молодец, отлично, логично, или — 👌, 👍, или — выводы отвечают на все вопросы к данным и проекту\n",
    "    <br />\n",
    "    </font>\n",
    "\n",
    "</div>"
   ]
  },
  {
   "cell_type": "markdown",
   "metadata": {},
   "source": [
    "# Исследование объявлений о продаже квартир\n",
    "\n",
    "В вашем распоряжении данные сервиса Яндекc Недвижимость — архив объявлений о продаже квартир в Санкт-Петербурге и соседних населённых пунктах за несколько лет. Нужно научиться определять рыночную стоимость объектов недвижимости. Ваша задача — установить параметры. Это позволит построить автоматизированную систему: она отследит аномалии и мошенническую деятельность. \n",
    "\n",
    "По каждой квартире на продажу доступны два вида данных. Первые вписаны пользователем, вторые получены автоматически на основе картографических данных. Например, расстояние до центра, аэропорта, ближайшего парка и водоёма. "
   ]
  },
  {
   "cell_type": "markdown",
   "metadata": {},
   "source": [
    "<div class=\"alert alert-warning\", style=\"border:solid coral 3px; padding: 20px\">\n",
    "<font size=\"4\", color = \"DimGrey\"><b>⚠️ Комментарий ревьюера</b></font>\n",
    "    <br /> \n",
    "    <font size=\"3\", color = \"black\">\n",
    "<br />\n",
    "В краткое вступление в работу можно добавить перечень основных задач"
   ]
  },
  {
   "cell_type": "markdown",
   "metadata": {},
   "source": [
    "## Изучение данных из файла"
   ]
  },
  {
   "cell_type": "markdown",
   "metadata": {},
   "source": [
    "### Выгрузка и изучение данных"
   ]
  },
  {
   "cell_type": "code",
   "execution_count": 1,
   "metadata": {},
   "outputs": [],
   "source": [
    "#импорт библиотек для работы\n",
    "import pandas as pd\n",
    "import numpy as np\n",
    "import seaborn as sns\n",
    "import matplotlib.pyplot as plt\n",
    "import math"
   ]
  },
  {
   "cell_type": "code",
   "execution_count": 2,
   "metadata": {
    "scrolled": true
   },
   "outputs": [
    {
     "name": "stdout",
     "output_type": "stream",
     "text": [
      "<class 'pandas.core.frame.DataFrame'>\n",
      "RangeIndex: 23699 entries, 0 to 23698\n",
      "Data columns (total 22 columns):\n",
      "total_images            23699 non-null int64\n",
      "last_price              23699 non-null float64\n",
      "total_area              23699 non-null float64\n",
      "first_day_exposition    23699 non-null object\n",
      "rooms                   23699 non-null int64\n",
      "ceiling_height          14504 non-null float64\n",
      "floors_total            23613 non-null float64\n",
      "living_area             21796 non-null float64\n",
      "floor                   23699 non-null int64\n",
      "is_apartment            2775 non-null object\n",
      "studio                  23699 non-null bool\n",
      "open_plan               23699 non-null bool\n",
      "kitchen_area            21421 non-null float64\n",
      "balcony                 12180 non-null float64\n",
      "locality_name           23650 non-null object\n",
      "airports_nearest        18157 non-null float64\n",
      "cityCenters_nearest     18180 non-null float64\n",
      "parks_around3000        18181 non-null float64\n",
      "parks_nearest           8079 non-null float64\n",
      "ponds_around3000        18181 non-null float64\n",
      "ponds_nearest           9110 non-null float64\n",
      "days_exposition         20518 non-null float64\n",
      "dtypes: bool(2), float64(14), int64(3), object(3)\n",
      "memory usage: 3.7+ MB\n"
     ]
    }
   ],
   "source": [
    "#загрузка ДФ\n",
    "try:\n",
    "    df = pd.read_csv('/datasets/real_estate_data.csv', sep='\\t')\n",
    "    df_raw = pd.read_csv('/datasets/real_estate_data.csv', sep='\\t')\n",
    "except:\n",
    "    df = pd.read_csv('real_estate_data.csv', sep='\\t')\n",
    "    df_raw = pd.read_csv('real_estate_data.csv', sep='\\t')\n",
    "df.info()"
   ]
  },
  {
   "cell_type": "code",
   "execution_count": 3,
   "metadata": {},
   "outputs": [],
   "source": [
    "#одна колонка не соотвесттвует стилю Python, исправим\n",
    "df = df.rename(columns={'cityCenters_nearest': 'city_centers_nearest'})"
   ]
  },
  {
   "cell_type": "code",
   "execution_count": 4,
   "metadata": {
    "scrolled": true
   },
   "outputs": [
    {
     "data": {
      "text/html": [
       "<div>\n",
       "<style scoped>\n",
       "    .dataframe tbody tr th:only-of-type {\n",
       "        vertical-align: middle;\n",
       "    }\n",
       "\n",
       "    .dataframe tbody tr th {\n",
       "        vertical-align: top;\n",
       "    }\n",
       "\n",
       "    .dataframe thead th {\n",
       "        text-align: right;\n",
       "    }\n",
       "</style>\n",
       "<table border=\"1\" class=\"dataframe\">\n",
       "  <thead>\n",
       "    <tr style=\"text-align: right;\">\n",
       "      <th></th>\n",
       "      <th>total_images</th>\n",
       "      <th>last_price</th>\n",
       "      <th>total_area</th>\n",
       "      <th>rooms</th>\n",
       "      <th>ceiling_height</th>\n",
       "      <th>floors_total</th>\n",
       "      <th>living_area</th>\n",
       "      <th>floor</th>\n",
       "      <th>kitchen_area</th>\n",
       "      <th>balcony</th>\n",
       "      <th>airports_nearest</th>\n",
       "      <th>city_centers_nearest</th>\n",
       "      <th>parks_around3000</th>\n",
       "      <th>parks_nearest</th>\n",
       "      <th>ponds_around3000</th>\n",
       "      <th>ponds_nearest</th>\n",
       "      <th>days_exposition</th>\n",
       "    </tr>\n",
       "  </thead>\n",
       "  <tbody>\n",
       "    <tr>\n",
       "      <td>count</td>\n",
       "      <td>23699.000000</td>\n",
       "      <td>2.369900e+04</td>\n",
       "      <td>23699.000000</td>\n",
       "      <td>23699.000000</td>\n",
       "      <td>14504.000000</td>\n",
       "      <td>23613.000000</td>\n",
       "      <td>21796.000000</td>\n",
       "      <td>23699.000000</td>\n",
       "      <td>21421.000000</td>\n",
       "      <td>12180.000000</td>\n",
       "      <td>18157.000000</td>\n",
       "      <td>18180.000000</td>\n",
       "      <td>18181.000000</td>\n",
       "      <td>8079.000000</td>\n",
       "      <td>18181.000000</td>\n",
       "      <td>9110.000000</td>\n",
       "      <td>20518.000000</td>\n",
       "    </tr>\n",
       "    <tr>\n",
       "      <td>mean</td>\n",
       "      <td>9.858475</td>\n",
       "      <td>6.541549e+06</td>\n",
       "      <td>60.348651</td>\n",
       "      <td>2.070636</td>\n",
       "      <td>2.771499</td>\n",
       "      <td>10.673824</td>\n",
       "      <td>34.457852</td>\n",
       "      <td>5.892358</td>\n",
       "      <td>10.569807</td>\n",
       "      <td>1.150082</td>\n",
       "      <td>28793.672193</td>\n",
       "      <td>14191.277833</td>\n",
       "      <td>0.611408</td>\n",
       "      <td>490.804555</td>\n",
       "      <td>0.770255</td>\n",
       "      <td>517.980900</td>\n",
       "      <td>180.888634</td>\n",
       "    </tr>\n",
       "    <tr>\n",
       "      <td>std</td>\n",
       "      <td>5.682529</td>\n",
       "      <td>1.088701e+07</td>\n",
       "      <td>35.654083</td>\n",
       "      <td>1.078405</td>\n",
       "      <td>1.261056</td>\n",
       "      <td>6.597173</td>\n",
       "      <td>22.030445</td>\n",
       "      <td>4.885249</td>\n",
       "      <td>5.905438</td>\n",
       "      <td>1.071300</td>\n",
       "      <td>12630.880622</td>\n",
       "      <td>8608.386210</td>\n",
       "      <td>0.802074</td>\n",
       "      <td>342.317995</td>\n",
       "      <td>0.938346</td>\n",
       "      <td>277.720643</td>\n",
       "      <td>219.727988</td>\n",
       "    </tr>\n",
       "    <tr>\n",
       "      <td>min</td>\n",
       "      <td>0.000000</td>\n",
       "      <td>1.219000e+04</td>\n",
       "      <td>12.000000</td>\n",
       "      <td>0.000000</td>\n",
       "      <td>1.000000</td>\n",
       "      <td>1.000000</td>\n",
       "      <td>2.000000</td>\n",
       "      <td>1.000000</td>\n",
       "      <td>1.300000</td>\n",
       "      <td>0.000000</td>\n",
       "      <td>0.000000</td>\n",
       "      <td>181.000000</td>\n",
       "      <td>0.000000</td>\n",
       "      <td>1.000000</td>\n",
       "      <td>0.000000</td>\n",
       "      <td>13.000000</td>\n",
       "      <td>1.000000</td>\n",
       "    </tr>\n",
       "    <tr>\n",
       "      <td>25%</td>\n",
       "      <td>6.000000</td>\n",
       "      <td>3.400000e+06</td>\n",
       "      <td>40.000000</td>\n",
       "      <td>1.000000</td>\n",
       "      <td>2.520000</td>\n",
       "      <td>5.000000</td>\n",
       "      <td>18.600000</td>\n",
       "      <td>2.000000</td>\n",
       "      <td>7.000000</td>\n",
       "      <td>0.000000</td>\n",
       "      <td>18585.000000</td>\n",
       "      <td>9238.000000</td>\n",
       "      <td>0.000000</td>\n",
       "      <td>288.000000</td>\n",
       "      <td>0.000000</td>\n",
       "      <td>294.000000</td>\n",
       "      <td>45.000000</td>\n",
       "    </tr>\n",
       "    <tr>\n",
       "      <td>50%</td>\n",
       "      <td>9.000000</td>\n",
       "      <td>4.650000e+06</td>\n",
       "      <td>52.000000</td>\n",
       "      <td>2.000000</td>\n",
       "      <td>2.650000</td>\n",
       "      <td>9.000000</td>\n",
       "      <td>30.000000</td>\n",
       "      <td>4.000000</td>\n",
       "      <td>9.100000</td>\n",
       "      <td>1.000000</td>\n",
       "      <td>26726.000000</td>\n",
       "      <td>13098.500000</td>\n",
       "      <td>0.000000</td>\n",
       "      <td>455.000000</td>\n",
       "      <td>1.000000</td>\n",
       "      <td>502.000000</td>\n",
       "      <td>95.000000</td>\n",
       "    </tr>\n",
       "    <tr>\n",
       "      <td>75%</td>\n",
       "      <td>14.000000</td>\n",
       "      <td>6.800000e+06</td>\n",
       "      <td>69.900000</td>\n",
       "      <td>3.000000</td>\n",
       "      <td>2.800000</td>\n",
       "      <td>16.000000</td>\n",
       "      <td>42.300000</td>\n",
       "      <td>8.000000</td>\n",
       "      <td>12.000000</td>\n",
       "      <td>2.000000</td>\n",
       "      <td>37273.000000</td>\n",
       "      <td>16293.000000</td>\n",
       "      <td>1.000000</td>\n",
       "      <td>612.000000</td>\n",
       "      <td>1.000000</td>\n",
       "      <td>729.000000</td>\n",
       "      <td>232.000000</td>\n",
       "    </tr>\n",
       "    <tr>\n",
       "      <td>max</td>\n",
       "      <td>50.000000</td>\n",
       "      <td>7.630000e+08</td>\n",
       "      <td>900.000000</td>\n",
       "      <td>19.000000</td>\n",
       "      <td>100.000000</td>\n",
       "      <td>60.000000</td>\n",
       "      <td>409.700000</td>\n",
       "      <td>33.000000</td>\n",
       "      <td>112.000000</td>\n",
       "      <td>5.000000</td>\n",
       "      <td>84869.000000</td>\n",
       "      <td>65968.000000</td>\n",
       "      <td>3.000000</td>\n",
       "      <td>3190.000000</td>\n",
       "      <td>3.000000</td>\n",
       "      <td>1344.000000</td>\n",
       "      <td>1580.000000</td>\n",
       "    </tr>\n",
       "  </tbody>\n",
       "</table>\n",
       "</div>"
      ],
      "text/plain": [
       "       total_images    last_price    total_area         rooms  ceiling_height  \\\n",
       "count  23699.000000  2.369900e+04  23699.000000  23699.000000    14504.000000   \n",
       "mean       9.858475  6.541549e+06     60.348651      2.070636        2.771499   \n",
       "std        5.682529  1.088701e+07     35.654083      1.078405        1.261056   \n",
       "min        0.000000  1.219000e+04     12.000000      0.000000        1.000000   \n",
       "25%        6.000000  3.400000e+06     40.000000      1.000000        2.520000   \n",
       "50%        9.000000  4.650000e+06     52.000000      2.000000        2.650000   \n",
       "75%       14.000000  6.800000e+06     69.900000      3.000000        2.800000   \n",
       "max       50.000000  7.630000e+08    900.000000     19.000000      100.000000   \n",
       "\n",
       "       floors_total   living_area         floor  kitchen_area       balcony  \\\n",
       "count  23613.000000  21796.000000  23699.000000  21421.000000  12180.000000   \n",
       "mean      10.673824     34.457852      5.892358     10.569807      1.150082   \n",
       "std        6.597173     22.030445      4.885249      5.905438      1.071300   \n",
       "min        1.000000      2.000000      1.000000      1.300000      0.000000   \n",
       "25%        5.000000     18.600000      2.000000      7.000000      0.000000   \n",
       "50%        9.000000     30.000000      4.000000      9.100000      1.000000   \n",
       "75%       16.000000     42.300000      8.000000     12.000000      2.000000   \n",
       "max       60.000000    409.700000     33.000000    112.000000      5.000000   \n",
       "\n",
       "       airports_nearest  city_centers_nearest  parks_around3000  \\\n",
       "count      18157.000000          18180.000000      18181.000000   \n",
       "mean       28793.672193          14191.277833          0.611408   \n",
       "std        12630.880622           8608.386210          0.802074   \n",
       "min            0.000000            181.000000          0.000000   \n",
       "25%        18585.000000           9238.000000          0.000000   \n",
       "50%        26726.000000          13098.500000          0.000000   \n",
       "75%        37273.000000          16293.000000          1.000000   \n",
       "max        84869.000000          65968.000000          3.000000   \n",
       "\n",
       "       parks_nearest  ponds_around3000  ponds_nearest  days_exposition  \n",
       "count    8079.000000      18181.000000    9110.000000     20518.000000  \n",
       "mean      490.804555          0.770255     517.980900       180.888634  \n",
       "std       342.317995          0.938346     277.720643       219.727988  \n",
       "min         1.000000          0.000000      13.000000         1.000000  \n",
       "25%       288.000000          0.000000     294.000000        45.000000  \n",
       "50%       455.000000          1.000000     502.000000        95.000000  \n",
       "75%       612.000000          1.000000     729.000000       232.000000  \n",
       "max      3190.000000          3.000000    1344.000000      1580.000000  "
      ]
     },
     "execution_count": 4,
     "metadata": {},
     "output_type": "execute_result"
    }
   ],
   "source": [
    "#описание ДФ\n",
    "#df.describe(include='all')\n",
    "df.describe()"
   ]
  },
  {
   "cell_type": "markdown",
   "metadata": {},
   "source": [
    "### Описание данных:<br>"
   ]
  },
  {
   "cell_type": "markdown",
   "metadata": {},
   "source": [
    "`airports_nearest` — расстояние до ближайшего аэропорта в метрах (м)<br>\n",
    "`balcony` — число балконов<br>\n",
    "`ceiling_height` — высота потолков (м)<br>\n",
    "`city_centers_nearest` — расстояние до центра города (м)<br>\n",
    "`days_exposition` — сколько дней было размещено объявление (от публикации до снятия)<br>\n",
    "`first_day_exposition` — дата публикации<br>\n",
    "`floor` — этаж<br>\n",
    "`floors_total` — всего этажей в доме<br>\n",
    "`is_apartment` — апартаменты (булев тип)<br>\n",
    "`kitchen_area` — площадь кухни в квадратных метрах (м²)<br>\n",
    "`last_price` — цена на момент снятия с публикации<br>\n",
    "`living_area` — жилая площадь в квадратных метрах (м²)<br>\n",
    "`locality_name` — название населённого пункта<br>\n",
    "`open_plan` — свободная планировка (булев тип)<br>\n",
    "`parks_around3000` — число парков в радиусе 3 км<br>\n",
    "`parks_nearest` — расстояние до ближайшего парка (м)<br>\n",
    "`ponds_around3000` — число водоёмов в радиусе 3 км<br>\n",
    "`ponds_nearest` — расстояние до ближайшего водоёма (м)<br>\n",
    "`rooms` — число комнат<br>\n",
    "`studio` — квартира-студия (булев тип)<br>\n",
    "`total_area` — площадь квартиры в квадратных метрах (м²)<br>\n",
    "`total_images` — число фотографий квартиры в объявлении<br>"
   ]
  },
  {
   "cell_type": "markdown",
   "metadata": {},
   "source": [
    "## Предобработка данных"
   ]
  },
  {
   "cell_type": "markdown",
   "metadata": {},
   "source": [
    "### Работа с пропусками:"
   ]
  },
  {
   "cell_type": "markdown",
   "metadata": {},
   "source": [
    "Первый столбец с пропущенными данными - высота потолков. Стандартное отклонение >1м, при этом межвартильное расстоение всего 0,28м. Среднее в данном случаем хуже описывает множество, заменим пропуски на мединану."
   ]
  },
  {
   "cell_type": "code",
   "execution_count": 5,
   "metadata": {},
   "outputs": [
    {
     "data": {
      "text/plain": [
       "0"
      ]
     },
     "execution_count": 5,
     "metadata": {},
     "output_type": "execute_result"
    }
   ],
   "source": [
    "df['ceiling_height'].fillna(df['ceiling_height'].median(),inplace=True)\n",
    "df['ceiling_height'].isna().sum()"
   ]
  },
  {
   "cell_type": "markdown",
   "metadata": {},
   "source": [
    "<div class=\"alert alert-success\">\n",
    "<font size=\"4\", color= \"seagreen\"><b>✔️ Комментарий ревьюера</b></font>\n",
    "    <br /> \n",
    "    <font size=\"3\", color = \"black\">\n",
    "<br /> Хорошее решение, как вариант можно было рассмотреть группировку квартир по расстоянию от центра и проверить как меняется высота потолка"
   ]
  },
  {
   "cell_type": "markdown",
   "metadata": {},
   "source": [
    "Заполним пропуске в количестве этажей дома, т.к. этаж указан для каждого объекта недвижимости, при этом этаж не может быть меньше общего количества этаже, заполним пропуски номером этажа в объявлении."
   ]
  },
  {
   "cell_type": "code",
   "execution_count": 6,
   "metadata": {
    "scrolled": true
   },
   "outputs": [
    {
     "data": {
      "text/plain": [
       "0"
      ]
     },
     "execution_count": 6,
     "metadata": {},
     "output_type": "execute_result"
    }
   ],
   "source": [
    "df['floors_total'].fillna(df['floor'], inplace=True)\n",
    "df['floors_total'].isna().sum()"
   ]
  },
  {
   "cell_type": "markdown",
   "metadata": {},
   "source": [
    "С жилой площадью сложнее, пустой оставлять нельзя, т.к. в задании говорится об объявлениях о продаже квартир, но она все же зависит, как правило, от количества комнат, поэтому заполним пропуски медианными значениями по площади."
   ]
  },
  {
   "cell_type": "code",
   "execution_count": 7,
   "metadata": {},
   "outputs": [
    {
     "data": {
      "text/plain": [
       "0"
      ]
     },
     "execution_count": 7,
     "metadata": {},
     "output_type": "execute_result"
    }
   ],
   "source": [
    "for i in df['rooms'].unique():\n",
    "    median = df.loc[df['rooms']==i, 'living_area'].median()\n",
    "    df.loc[(df['living_area'].isna())&(df['rooms']==i), 'living_area'] = median\n",
    "df['living_area'].isna().sum()"
   ]
  },
  {
   "cell_type": "markdown",
   "metadata": {},
   "source": [
    "С пропусками в столбце аппартаменты проблем нет - не заполненные данные, скорее всего относились не к аппартаментам, поэтому пропуски заполним `False`."
   ]
  },
  {
   "cell_type": "code",
   "execution_count": 8,
   "metadata": {},
   "outputs": [
    {
     "data": {
      "text/plain": [
       "0"
      ]
     },
     "execution_count": 8,
     "metadata": {},
     "output_type": "execute_result"
    }
   ],
   "source": [
    "df['is_apartment'].fillna(False, inplace=True)\n",
    "df['is_apartment'].isna().sum()"
   ]
  },
  {
   "cell_type": "markdown",
   "metadata": {},
   "source": [
    "Площадь кухни - вопрос тоже интересный, если квартира-студия, кухни в ней и не будет, однако в остальных квартирах она есть. Поступаем аналогично площади квартиры, в зависимости от количества комнат."
   ]
  },
  {
   "cell_type": "code",
   "execution_count": 9,
   "metadata": {
    "scrolled": true
   },
   "outputs": [
    {
     "name": "stderr",
     "output_type": "stream",
     "text": [
      "/opt/conda/lib/python3.7/site-packages/numpy/lib/nanfunctions.py:1111: RuntimeWarning: Mean of empty slice\n",
      "  return np.nanmean(a, axis, out=out, keepdims=keepdims)\n"
     ]
    },
    {
     "data": {
      "text/plain": [
       "208"
      ]
     },
     "execution_count": 9,
     "metadata": {},
     "output_type": "execute_result"
    }
   ],
   "source": [
    "for i in df['rooms'].unique():\n",
    "    median = df.loc[df['rooms']==i, 'kitchen_area'].median()\n",
    "    df.loc[(df['kitchen_area'].isna()) & (df['rooms']==i) & ~df['studio'], 'kitchen_area'] = median\n",
    "df['kitchen_area'].isna().sum()"
   ]
  },
  {
   "cell_type": "markdown",
   "metadata": {},
   "source": [
    "<div class=\"alert alert-warning\", style=\"border:solid coral 3px; padding: 20px\">\n",
    "<font size=\"4\"><b>⚠️ Комментарий ревьюера</b></font>\n",
    "    <br /> \n",
    "    <font size=\"3\", color = \"black\">\n",
    "<br />После заполнения синтетическими данными столбцов, стоит провести проверку на корректность\n",
    "        \n",
    "        living_area + kitchen_area  < total_area*0.9\n",
    "        "
   ]
  },
  {
   "cell_type": "markdown",
   "metadata": {},
   "source": [
    "С количеством балконов поступим так же, как и с аппартаментами, если не заполнили, немаловероятно, что их просто нет."
   ]
  },
  {
   "cell_type": "code",
   "execution_count": 10,
   "metadata": {
    "scrolled": true
   },
   "outputs": [
    {
     "data": {
      "text/plain": [
       "0"
      ]
     },
     "execution_count": 10,
     "metadata": {},
     "output_type": "execute_result"
    }
   ],
   "source": [
    "df['balcony'].fillna(0, inplace=True)\n",
    "df['balcony'].isna().sum()"
   ]
  },
  {
   "cell_type": "markdown",
   "metadata": {},
   "source": [
    "Отсутствующих названий населенных пунктов <1%, так просто их не заполнить, поэтому оставляем пропуски.<br>"
   ]
  },
  {
   "cell_type": "markdown",
   "metadata": {},
   "source": [
    "Пропуски по ближайшим аэропортам попробуем заполнить средними значениями для одноименных населенных пунктов. Если пропуски остануться - значит рядом с населенным пунктом нет аэропорта. Аналогичным образом заполним пропуски расстояний до ближайшего парка и озера."
   ]
  },
  {
   "cell_type": "code",
   "execution_count": 11,
   "metadata": {},
   "outputs": [],
   "source": [
    "for i in df['locality_name'].unique():\n",
    "    mean_airport = df.loc[df['locality_name']==i, 'airports_nearest'].mean()\n",
    "    mean_pond = df.loc[df['locality_name']==i, 'ponds_nearest'].mean()\n",
    "    mean_park = df.loc[df['locality_name']==i, 'parks_nearest'].mean()\n",
    "    df.loc[(df['airports_nearest'].isna())&(df['locality_name']==i), 'airports_nearest'] = mean_airport\n",
    "    df.loc[(df['ponds_nearest'].isna())&(df['locality_name']==i), 'ponds_nearest'] = mean_pond\n",
    "    df.loc[(df['parks_nearest'].isna())&(df['locality_name']==i), 'parks_nearest'] = mean_park"
   ]
  },
  {
   "cell_type": "markdown",
   "metadata": {},
   "source": [
    "Незаполненные значения расстояния до центра оставим пустым, т.к. объекты недвижимости могут так же находится в центре населенного пункта."
   ]
  },
  {
   "cell_type": "markdown",
   "metadata": {},
   "source": [
    "Незаполненные значение по паркам и водоемам в радиусе 3000м заполним нулями, поскольку 0 и пропущенные значения - тождественны."
   ]
  },
  {
   "cell_type": "code",
   "execution_count": 12,
   "metadata": {},
   "outputs": [
    {
     "data": {
      "text/plain": [
       "0"
      ]
     },
     "execution_count": 12,
     "metadata": {},
     "output_type": "execute_result"
    }
   ],
   "source": [
    "df['parks_around3000'].fillna(0, inplace=True)\n",
    "df['ponds_around3000'].fillna(0, inplace=True)\n",
    "df['parks_around3000'].isna().sum() + df['ponds_around3000'].isna().sum()"
   ]
  },
  {
   "cell_type": "code",
   "execution_count": 13,
   "metadata": {
    "scrolled": false
   },
   "outputs": [
    {
     "name": "stdout",
     "output_type": "stream",
     "text": [
      "<class 'pandas.core.frame.DataFrame'>\n",
      "RangeIndex: 23699 entries, 0 to 23698\n",
      "Data columns (total 22 columns):\n",
      "total_images            23699 non-null int64\n",
      "last_price              23699 non-null float64\n",
      "total_area              23699 non-null float64\n",
      "first_day_exposition    23699 non-null object\n",
      "rooms                   23699 non-null int64\n",
      "ceiling_height          23699 non-null float64\n",
      "floors_total            23699 non-null float64\n",
      "living_area             23699 non-null float64\n",
      "floor                   23699 non-null int64\n",
      "is_apartment            23699 non-null bool\n",
      "studio                  23699 non-null bool\n",
      "open_plan               23699 non-null bool\n",
      "kitchen_area            23491 non-null float64\n",
      "balcony                 23699 non-null float64\n",
      "locality_name           23650 non-null object\n",
      "airports_nearest        18305 non-null float64\n",
      "city_centers_nearest    18180 non-null float64\n",
      "parks_around3000        23699 non-null float64\n",
      "parks_nearest           17667 non-null float64\n",
      "ponds_around3000        23699 non-null float64\n",
      "ponds_nearest           18181 non-null float64\n",
      "days_exposition         20518 non-null float64\n",
      "dtypes: bool(3), float64(14), int64(3), object(2)\n",
      "memory usage: 3.5+ MB\n"
     ]
    }
   ],
   "source": [
    "#загрузка ДФ\n",
    "df.info()"
   ]
  },
  {
   "cell_type": "markdown",
   "metadata": {},
   "source": [
    "<div class=\"alert alert-warning\", style=\"border:solid coral 3px; padding: 20px\">\n",
    "<font size=\"4\", color = \"DimGrey\"><b>⚠️ Комментарий ревьюера</b></font>\n",
    "    <br /> \n",
    "    <font size=\"3\", color = \"black\">\n",
    "<br />\n",
    "Приняты оптимальные решения об обработке пропусков, большая часть не мешает нам проводить исследования, а их обработка в неопределенных условиях несет больше рисков, чем пользы\n",
    "        \n",
    "Можно было посмотреть на пропуски в столбце city_centers_nearest с группировкой по Питеру, чтобы удостовериться, что пропуски не помешают определить центр города и проводить дальнейшее исследование\n",
    "\n",
    "    floors_total              23613 non-null float64\n",
    "    locality_name             23650 non-null object\n",
    "        \n",
    "Можно удалить ☝ пропущенные записи, т.к. столбцы используются для выполнения главной задачи проекта, при этом кол-во пропусков составляет около 0,5% от всего кол-ва записей датасета, вставка названия опираясь на расстояние до одной точки — спорно, что если два населенных пункта находятся на одинаковом радиусе от аэропорта?\n",
    "        \n",
    "\n",
    "</div>"
   ]
  },
  {
   "cell_type": "markdown",
   "metadata": {},
   "source": [
    "<div class=\"alert alert\">\n",
    "<font size=\"4\"><b>❌ Комментарий ревьюера</b></font>\n",
    "    <br /> \n",
    "    <font size=\"3\", color = \"black\">\n",
    "<br /> Замена пропусков не самоцель — \n",
    "        \n",
    "    Для других типов данных нет подходящего значения на замену. В этом случае правильно оставить эти значения пустыми. Отсутствие значения — тоже важный сигнал, который не нужно прятать.\n",
    "\n",
    "days_exposition — сколько дней было размещено объявление (от публикации до снятия), если нет данных, значит квартира не продана, стоит исправить"
   ]
  },
  {
   "cell_type": "markdown",
   "metadata": {},
   "source": [
    " ###### <span style=\"color:blue\">Комментарий студента:</span>\n",
    "Исправлено, удалил замену пропусков в данном столбце."
   ]
  },
  {
   "cell_type": "markdown",
   "metadata": {},
   "source": [
    "<div class=\"alert alert-success\">\n",
    "<font size=\"4\"><b>Комментарий ревьюера V2</b></font>\n",
    "    <br /> \n",
    "    <font size=\"3\", color = \"black\">\n",
    "<br />\n",
    "✓"
   ]
  },
  {
   "cell_type": "markdown",
   "metadata": {},
   "source": [
    "### Работа с типами данных:"
   ]
  },
  {
   "cell_type": "markdown",
   "metadata": {},
   "source": [
    "В данных некоторых столбцов остутствует необходимость в числах после запятой:<br>\n",
    "- цена - копейки при таких суммах не имеет значения;<br> \n",
    "- расстояние до ближайших объектов в метрах - сантиметры в данных случаях являются скорее погрешностью;<br>\n",
    "- число или количество чего-либо - так же не может быть дробным.<br>\n",
    "\n",
    "Изменим тип данных на целые."
   ]
  },
  {
   "cell_type": "code",
   "execution_count": 14,
   "metadata": {
    "scrolled": true
   },
   "outputs": [
    {
     "data": {
      "text/html": [
       "<div>\n",
       "<style scoped>\n",
       "    .dataframe tbody tr th:only-of-type {\n",
       "        vertical-align: middle;\n",
       "    }\n",
       "\n",
       "    .dataframe tbody tr th {\n",
       "        vertical-align: top;\n",
       "    }\n",
       "\n",
       "    .dataframe thead th {\n",
       "        text-align: right;\n",
       "    }\n",
       "</style>\n",
       "<table border=\"1\" class=\"dataframe\">\n",
       "  <thead>\n",
       "    <tr style=\"text-align: right;\">\n",
       "      <th></th>\n",
       "      <th>total_images</th>\n",
       "      <th>last_price</th>\n",
       "      <th>total_area</th>\n",
       "      <th>first_day_exposition</th>\n",
       "      <th>rooms</th>\n",
       "      <th>ceiling_height</th>\n",
       "      <th>floors_total</th>\n",
       "      <th>living_area</th>\n",
       "      <th>floor</th>\n",
       "      <th>is_apartment</th>\n",
       "      <th>...</th>\n",
       "      <th>kitchen_area</th>\n",
       "      <th>balcony</th>\n",
       "      <th>locality_name</th>\n",
       "      <th>airports_nearest</th>\n",
       "      <th>city_centers_nearest</th>\n",
       "      <th>parks_around3000</th>\n",
       "      <th>parks_nearest</th>\n",
       "      <th>ponds_around3000</th>\n",
       "      <th>ponds_nearest</th>\n",
       "      <th>days_exposition</th>\n",
       "    </tr>\n",
       "  </thead>\n",
       "  <tbody>\n",
       "    <tr>\n",
       "      <td>0</td>\n",
       "      <td>20</td>\n",
       "      <td>13000000</td>\n",
       "      <td>108.0</td>\n",
       "      <td>2019-03-07T00:00:00</td>\n",
       "      <td>3</td>\n",
       "      <td>2.70</td>\n",
       "      <td>16</td>\n",
       "      <td>51.0</td>\n",
       "      <td>8</td>\n",
       "      <td>False</td>\n",
       "      <td>...</td>\n",
       "      <td>25.0</td>\n",
       "      <td>0</td>\n",
       "      <td>Санкт-Петербург</td>\n",
       "      <td>18863.0</td>\n",
       "      <td>16028.0</td>\n",
       "      <td>1</td>\n",
       "      <td>482.0</td>\n",
       "      <td>2</td>\n",
       "      <td>755.000000</td>\n",
       "      <td>NaN</td>\n",
       "    </tr>\n",
       "    <tr>\n",
       "      <td>1</td>\n",
       "      <td>7</td>\n",
       "      <td>3350000</td>\n",
       "      <td>40.4</td>\n",
       "      <td>2018-12-04T00:00:00</td>\n",
       "      <td>1</td>\n",
       "      <td>2.65</td>\n",
       "      <td>11</td>\n",
       "      <td>18.6</td>\n",
       "      <td>1</td>\n",
       "      <td>False</td>\n",
       "      <td>...</td>\n",
       "      <td>11.0</td>\n",
       "      <td>2</td>\n",
       "      <td>посёлок Шушары</td>\n",
       "      <td>12817.0</td>\n",
       "      <td>18603.0</td>\n",
       "      <td>0</td>\n",
       "      <td>NaN</td>\n",
       "      <td>0</td>\n",
       "      <td>573.217105</td>\n",
       "      <td>81.0</td>\n",
       "    </tr>\n",
       "    <tr>\n",
       "      <td>2</td>\n",
       "      <td>10</td>\n",
       "      <td>5196000</td>\n",
       "      <td>56.0</td>\n",
       "      <td>2015-08-20T00:00:00</td>\n",
       "      <td>2</td>\n",
       "      <td>2.65</td>\n",
       "      <td>5</td>\n",
       "      <td>34.3</td>\n",
       "      <td>4</td>\n",
       "      <td>False</td>\n",
       "      <td>...</td>\n",
       "      <td>8.3</td>\n",
       "      <td>0</td>\n",
       "      <td>Санкт-Петербург</td>\n",
       "      <td>21741.0</td>\n",
       "      <td>13933.0</td>\n",
       "      <td>1</td>\n",
       "      <td>90.0</td>\n",
       "      <td>2</td>\n",
       "      <td>574.000000</td>\n",
       "      <td>558.0</td>\n",
       "    </tr>\n",
       "    <tr>\n",
       "      <td>3</td>\n",
       "      <td>0</td>\n",
       "      <td>64900000</td>\n",
       "      <td>159.0</td>\n",
       "      <td>2015-07-24T00:00:00</td>\n",
       "      <td>3</td>\n",
       "      <td>2.65</td>\n",
       "      <td>14</td>\n",
       "      <td>45.0</td>\n",
       "      <td>9</td>\n",
       "      <td>False</td>\n",
       "      <td>...</td>\n",
       "      <td>9.5</td>\n",
       "      <td>0</td>\n",
       "      <td>Санкт-Петербург</td>\n",
       "      <td>28098.0</td>\n",
       "      <td>6800.0</td>\n",
       "      <td>2</td>\n",
       "      <td>84.0</td>\n",
       "      <td>3</td>\n",
       "      <td>234.000000</td>\n",
       "      <td>424.0</td>\n",
       "    </tr>\n",
       "    <tr>\n",
       "      <td>4</td>\n",
       "      <td>2</td>\n",
       "      <td>10000000</td>\n",
       "      <td>100.0</td>\n",
       "      <td>2018-06-19T00:00:00</td>\n",
       "      <td>2</td>\n",
       "      <td>3.03</td>\n",
       "      <td>14</td>\n",
       "      <td>32.0</td>\n",
       "      <td>13</td>\n",
       "      <td>False</td>\n",
       "      <td>...</td>\n",
       "      <td>41.0</td>\n",
       "      <td>0</td>\n",
       "      <td>Санкт-Петербург</td>\n",
       "      <td>31856.0</td>\n",
       "      <td>8098.0</td>\n",
       "      <td>2</td>\n",
       "      <td>112.0</td>\n",
       "      <td>1</td>\n",
       "      <td>48.000000</td>\n",
       "      <td>121.0</td>\n",
       "    </tr>\n",
       "  </tbody>\n",
       "</table>\n",
       "<p>5 rows × 22 columns</p>\n",
       "</div>"
      ],
      "text/plain": [
       "   total_images  last_price  total_area first_day_exposition  rooms  \\\n",
       "0            20    13000000       108.0  2019-03-07T00:00:00      3   \n",
       "1             7     3350000        40.4  2018-12-04T00:00:00      1   \n",
       "2            10     5196000        56.0  2015-08-20T00:00:00      2   \n",
       "3             0    64900000       159.0  2015-07-24T00:00:00      3   \n",
       "4             2    10000000       100.0  2018-06-19T00:00:00      2   \n",
       "\n",
       "   ceiling_height  floors_total  living_area  floor  is_apartment  ...  \\\n",
       "0            2.70            16         51.0      8         False  ...   \n",
       "1            2.65            11         18.6      1         False  ...   \n",
       "2            2.65             5         34.3      4         False  ...   \n",
       "3            2.65            14         45.0      9         False  ...   \n",
       "4            3.03            14         32.0     13         False  ...   \n",
       "\n",
       "   kitchen_area  balcony    locality_name  airports_nearest  \\\n",
       "0          25.0        0  Санкт-Петербург           18863.0   \n",
       "1          11.0        2   посёлок Шушары           12817.0   \n",
       "2           8.3        0  Санкт-Петербург           21741.0   \n",
       "3           9.5        0  Санкт-Петербург           28098.0   \n",
       "4          41.0        0  Санкт-Петербург           31856.0   \n",
       "\n",
       "  city_centers_nearest  parks_around3000  parks_nearest  ponds_around3000  \\\n",
       "0              16028.0                 1          482.0                 2   \n",
       "1              18603.0                 0            NaN                 0   \n",
       "2              13933.0                 1           90.0                 2   \n",
       "3               6800.0                 2           84.0                 3   \n",
       "4               8098.0                 2          112.0                 1   \n",
       "\n",
       "   ponds_nearest  days_exposition  \n",
       "0     755.000000              NaN  \n",
       "1     573.217105             81.0  \n",
       "2     574.000000            558.0  \n",
       "3     234.000000            424.0  \n",
       "4      48.000000            121.0  \n",
       "\n",
       "[5 rows x 22 columns]"
      ]
     },
     "execution_count": 14,
     "metadata": {},
     "output_type": "execute_result"
    }
   ],
   "source": [
    "df=df.astype({\n",
    "    'last_price':'int32',\n",
    "    'floors_total':'int32',\n",
    "    'balcony':'int32',\n",
    "    #'airports_nearest':'int32',\n",
    "    'parks_around3000':'int32',\n",
    "    #'parks_nearest':'int32',\n",
    "    'ponds_around3000':'int32',\n",
    "    #'ponds_nearest':'int32'\n",
    "    #'days_exposition':'int32'\n",
    "})\n",
    "df.head()"
   ]
  },
  {
   "cell_type": "markdown",
   "metadata": {},
   "source": [
    "Так же приведем дату публикации к формату дата, с учетом отсутствия данных по времени публикации, сразу округлим до 1 дня."
   ]
  },
  {
   "cell_type": "code",
   "execution_count": 15,
   "metadata": {
    "scrolled": true
   },
   "outputs": [
    {
     "data": {
      "text/html": [
       "<div>\n",
       "<style scoped>\n",
       "    .dataframe tbody tr th:only-of-type {\n",
       "        vertical-align: middle;\n",
       "    }\n",
       "\n",
       "    .dataframe tbody tr th {\n",
       "        vertical-align: top;\n",
       "    }\n",
       "\n",
       "    .dataframe thead th {\n",
       "        text-align: right;\n",
       "    }\n",
       "</style>\n",
       "<table border=\"1\" class=\"dataframe\">\n",
       "  <thead>\n",
       "    <tr style=\"text-align: right;\">\n",
       "      <th></th>\n",
       "      <th>total_images</th>\n",
       "      <th>last_price</th>\n",
       "      <th>total_area</th>\n",
       "      <th>first_day_exposition</th>\n",
       "      <th>rooms</th>\n",
       "      <th>ceiling_height</th>\n",
       "      <th>floors_total</th>\n",
       "      <th>living_area</th>\n",
       "      <th>floor</th>\n",
       "      <th>is_apartment</th>\n",
       "      <th>...</th>\n",
       "      <th>kitchen_area</th>\n",
       "      <th>balcony</th>\n",
       "      <th>locality_name</th>\n",
       "      <th>airports_nearest</th>\n",
       "      <th>city_centers_nearest</th>\n",
       "      <th>parks_around3000</th>\n",
       "      <th>parks_nearest</th>\n",
       "      <th>ponds_around3000</th>\n",
       "      <th>ponds_nearest</th>\n",
       "      <th>days_exposition</th>\n",
       "    </tr>\n",
       "  </thead>\n",
       "  <tbody>\n",
       "    <tr>\n",
       "      <td>0</td>\n",
       "      <td>20</td>\n",
       "      <td>13000000</td>\n",
       "      <td>108.0</td>\n",
       "      <td>2019-03-07</td>\n",
       "      <td>3</td>\n",
       "      <td>2.70</td>\n",
       "      <td>16</td>\n",
       "      <td>51.0</td>\n",
       "      <td>8</td>\n",
       "      <td>False</td>\n",
       "      <td>...</td>\n",
       "      <td>25.0</td>\n",
       "      <td>0</td>\n",
       "      <td>Санкт-Петербург</td>\n",
       "      <td>18863.0</td>\n",
       "      <td>16028.0</td>\n",
       "      <td>1</td>\n",
       "      <td>482.0</td>\n",
       "      <td>2</td>\n",
       "      <td>755.000000</td>\n",
       "      <td>NaN</td>\n",
       "    </tr>\n",
       "    <tr>\n",
       "      <td>1</td>\n",
       "      <td>7</td>\n",
       "      <td>3350000</td>\n",
       "      <td>40.4</td>\n",
       "      <td>2018-12-04</td>\n",
       "      <td>1</td>\n",
       "      <td>2.65</td>\n",
       "      <td>11</td>\n",
       "      <td>18.6</td>\n",
       "      <td>1</td>\n",
       "      <td>False</td>\n",
       "      <td>...</td>\n",
       "      <td>11.0</td>\n",
       "      <td>2</td>\n",
       "      <td>посёлок Шушары</td>\n",
       "      <td>12817.0</td>\n",
       "      <td>18603.0</td>\n",
       "      <td>0</td>\n",
       "      <td>NaN</td>\n",
       "      <td>0</td>\n",
       "      <td>573.217105</td>\n",
       "      <td>81.0</td>\n",
       "    </tr>\n",
       "    <tr>\n",
       "      <td>2</td>\n",
       "      <td>10</td>\n",
       "      <td>5196000</td>\n",
       "      <td>56.0</td>\n",
       "      <td>2015-08-20</td>\n",
       "      <td>2</td>\n",
       "      <td>2.65</td>\n",
       "      <td>5</td>\n",
       "      <td>34.3</td>\n",
       "      <td>4</td>\n",
       "      <td>False</td>\n",
       "      <td>...</td>\n",
       "      <td>8.3</td>\n",
       "      <td>0</td>\n",
       "      <td>Санкт-Петербург</td>\n",
       "      <td>21741.0</td>\n",
       "      <td>13933.0</td>\n",
       "      <td>1</td>\n",
       "      <td>90.0</td>\n",
       "      <td>2</td>\n",
       "      <td>574.000000</td>\n",
       "      <td>558.0</td>\n",
       "    </tr>\n",
       "    <tr>\n",
       "      <td>3</td>\n",
       "      <td>0</td>\n",
       "      <td>64900000</td>\n",
       "      <td>159.0</td>\n",
       "      <td>2015-07-24</td>\n",
       "      <td>3</td>\n",
       "      <td>2.65</td>\n",
       "      <td>14</td>\n",
       "      <td>45.0</td>\n",
       "      <td>9</td>\n",
       "      <td>False</td>\n",
       "      <td>...</td>\n",
       "      <td>9.5</td>\n",
       "      <td>0</td>\n",
       "      <td>Санкт-Петербург</td>\n",
       "      <td>28098.0</td>\n",
       "      <td>6800.0</td>\n",
       "      <td>2</td>\n",
       "      <td>84.0</td>\n",
       "      <td>3</td>\n",
       "      <td>234.000000</td>\n",
       "      <td>424.0</td>\n",
       "    </tr>\n",
       "    <tr>\n",
       "      <td>4</td>\n",
       "      <td>2</td>\n",
       "      <td>10000000</td>\n",
       "      <td>100.0</td>\n",
       "      <td>2018-06-19</td>\n",
       "      <td>2</td>\n",
       "      <td>3.03</td>\n",
       "      <td>14</td>\n",
       "      <td>32.0</td>\n",
       "      <td>13</td>\n",
       "      <td>False</td>\n",
       "      <td>...</td>\n",
       "      <td>41.0</td>\n",
       "      <td>0</td>\n",
       "      <td>Санкт-Петербург</td>\n",
       "      <td>31856.0</td>\n",
       "      <td>8098.0</td>\n",
       "      <td>2</td>\n",
       "      <td>112.0</td>\n",
       "      <td>1</td>\n",
       "      <td>48.000000</td>\n",
       "      <td>121.0</td>\n",
       "    </tr>\n",
       "  </tbody>\n",
       "</table>\n",
       "<p>5 rows × 22 columns</p>\n",
       "</div>"
      ],
      "text/plain": [
       "   total_images  last_price  total_area first_day_exposition  rooms  \\\n",
       "0            20    13000000       108.0           2019-03-07      3   \n",
       "1             7     3350000        40.4           2018-12-04      1   \n",
       "2            10     5196000        56.0           2015-08-20      2   \n",
       "3             0    64900000       159.0           2015-07-24      3   \n",
       "4             2    10000000       100.0           2018-06-19      2   \n",
       "\n",
       "   ceiling_height  floors_total  living_area  floor  is_apartment  ...  \\\n",
       "0            2.70            16         51.0      8         False  ...   \n",
       "1            2.65            11         18.6      1         False  ...   \n",
       "2            2.65             5         34.3      4         False  ...   \n",
       "3            2.65            14         45.0      9         False  ...   \n",
       "4            3.03            14         32.0     13         False  ...   \n",
       "\n",
       "   kitchen_area  balcony    locality_name  airports_nearest  \\\n",
       "0          25.0        0  Санкт-Петербург           18863.0   \n",
       "1          11.0        2   посёлок Шушары           12817.0   \n",
       "2           8.3        0  Санкт-Петербург           21741.0   \n",
       "3           9.5        0  Санкт-Петербург           28098.0   \n",
       "4          41.0        0  Санкт-Петербург           31856.0   \n",
       "\n",
       "  city_centers_nearest  parks_around3000  parks_nearest  ponds_around3000  \\\n",
       "0              16028.0                 1          482.0                 2   \n",
       "1              18603.0                 0            NaN                 0   \n",
       "2              13933.0                 1           90.0                 2   \n",
       "3               6800.0                 2           84.0                 3   \n",
       "4               8098.0                 2          112.0                 1   \n",
       "\n",
       "   ponds_nearest  days_exposition  \n",
       "0     755.000000              NaN  \n",
       "1     573.217105             81.0  \n",
       "2     574.000000            558.0  \n",
       "3     234.000000            424.0  \n",
       "4      48.000000            121.0  \n",
       "\n",
       "[5 rows x 22 columns]"
      ]
     },
     "execution_count": 15,
     "metadata": {},
     "output_type": "execute_result"
    }
   ],
   "source": [
    "df['first_day_exposition']=pd.to_datetime(df['first_day_exposition'], format='%Y-%m-%dT%H:%M:%S')#.dt.round('D')\n",
    "df.head()"
   ]
  },
  {
   "cell_type": "code",
   "execution_count": 16,
   "metadata": {
    "scrolled": true
   },
   "outputs": [
    {
     "name": "stdout",
     "output_type": "stream",
     "text": [
      "<class 'pandas.core.frame.DataFrame'>\n",
      "RangeIndex: 23699 entries, 0 to 23698\n",
      "Data columns (total 22 columns):\n",
      "total_images            23699 non-null int64\n",
      "last_price              23699 non-null int32\n",
      "total_area              23699 non-null float64\n",
      "first_day_exposition    23699 non-null datetime64[ns]\n",
      "rooms                   23699 non-null int64\n",
      "ceiling_height          23699 non-null float64\n",
      "floors_total            23699 non-null int32\n",
      "living_area             23699 non-null float64\n",
      "floor                   23699 non-null int64\n",
      "is_apartment            23699 non-null bool\n",
      "studio                  23699 non-null bool\n",
      "open_plan               23699 non-null bool\n",
      "kitchen_area            23491 non-null float64\n",
      "balcony                 23699 non-null int32\n",
      "locality_name           23650 non-null object\n",
      "airports_nearest        18305 non-null float64\n",
      "city_centers_nearest    18180 non-null float64\n",
      "parks_around3000        23699 non-null int32\n",
      "parks_nearest           17667 non-null float64\n",
      "ponds_around3000        23699 non-null int32\n",
      "ponds_nearest           18181 non-null float64\n",
      "days_exposition         20518 non-null float64\n",
      "dtypes: bool(3), datetime64[ns](1), float64(9), int32(5), int64(3), object(1)\n",
      "memory usage: 3.1+ MB\n"
     ]
    }
   ],
   "source": [
    "df.info()"
   ]
  },
  {
   "cell_type": "markdown",
   "metadata": {},
   "source": [
    "### Вывод"
   ]
  },
  {
   "cell_type": "markdown",
   "metadata": {},
   "source": [
    "В полученном датасете огромное количество пропущенных данных. Необходимо усилить контроль за заполнением полей при формировании объявления, возможно, добавить автозаполнение, чтобы очевидные цифры заполнялись не только вручную, что снизит процент ошибок. Отсутсвтие части данных пояснимо и не требует их замены. Так же часть данных для простоты обработки и интерпритации перевели в целочисленный формат. Дату так же отформатировали и для удобства анализа, округлили до 1 дня."
   ]
  },
  {
   "cell_type": "markdown",
   "metadata": {},
   "source": [
    "<div class=\"alert alert-warning\", style=\"border:solid coral 3px; padding: 20px\">\n",
    "<font size=\"4\"><b>⚠️ Комментарий ревьюера</b></font>\n",
    "    <br /> \n",
    "    <font size=\"3\", color = \"black\">\n",
    "<br />Стоит провести исследование\n",
    "       \n",
    "В названиях населенных пунктов, проверка корректности заполнения столбца `locality_name`:\n",
    "        \n",
    " + буквы ё — е\n",
    " + различное написание типа населенного пункта \n",
    "\n",
    "Проверку на дублирование записей,\n",
    "        \n",
    "дополнительно — на рабочих проектах стоит искать дубликаты по сумме ключевых столбцов, для примера: \n",
    "\n",
    " + общ. площадь квартиры,\n",
    " + этаж, \n",
    " + общая этажность дома, \n",
    " + расстояние до центра\n",
    "    \n",
    "    м.б. + стоимость квартиры, + жилая площадь, + дата объявления — под вопросом💭💭💭, зависит от кол-ва совпадений\n",
    "    \n",
    "    м.б. различные вариации 2-3-х признаков"
   ]
  },
  {
   "cell_type": "markdown",
   "metadata": {},
   "source": [
    "## Расчёты и добавление результатов в таблицу"
   ]
  },
  {
   "cell_type": "markdown",
   "metadata": {},
   "source": [
    "Для последуюшего анализа расчитаем один из самых важных параметров - цену за квадратный метр."
   ]
  },
  {
   "cell_type": "code",
   "execution_count": 17,
   "metadata": {
    "scrolled": false
   },
   "outputs": [
    {
     "data": {
      "text/html": [
       "<div>\n",
       "<style scoped>\n",
       "    .dataframe tbody tr th:only-of-type {\n",
       "        vertical-align: middle;\n",
       "    }\n",
       "\n",
       "    .dataframe tbody tr th {\n",
       "        vertical-align: top;\n",
       "    }\n",
       "\n",
       "    .dataframe thead th {\n",
       "        text-align: right;\n",
       "    }\n",
       "</style>\n",
       "<table border=\"1\" class=\"dataframe\">\n",
       "  <thead>\n",
       "    <tr style=\"text-align: right;\">\n",
       "      <th></th>\n",
       "      <th>total_images</th>\n",
       "      <th>last_price</th>\n",
       "      <th>total_area</th>\n",
       "      <th>first_day_exposition</th>\n",
       "      <th>rooms</th>\n",
       "      <th>ceiling_height</th>\n",
       "      <th>floors_total</th>\n",
       "      <th>living_area</th>\n",
       "      <th>floor</th>\n",
       "      <th>is_apartment</th>\n",
       "      <th>...</th>\n",
       "      <th>balcony</th>\n",
       "      <th>locality_name</th>\n",
       "      <th>airports_nearest</th>\n",
       "      <th>city_centers_nearest</th>\n",
       "      <th>parks_around3000</th>\n",
       "      <th>parks_nearest</th>\n",
       "      <th>ponds_around3000</th>\n",
       "      <th>ponds_nearest</th>\n",
       "      <th>days_exposition</th>\n",
       "      <th>square_m2_cost</th>\n",
       "    </tr>\n",
       "  </thead>\n",
       "  <tbody>\n",
       "    <tr>\n",
       "      <td>0</td>\n",
       "      <td>20</td>\n",
       "      <td>13000000</td>\n",
       "      <td>108.0</td>\n",
       "      <td>2019-03-07</td>\n",
       "      <td>3</td>\n",
       "      <td>2.70</td>\n",
       "      <td>16</td>\n",
       "      <td>51.0</td>\n",
       "      <td>8</td>\n",
       "      <td>False</td>\n",
       "      <td>...</td>\n",
       "      <td>0</td>\n",
       "      <td>Санкт-Петербург</td>\n",
       "      <td>18863.0</td>\n",
       "      <td>16028.0</td>\n",
       "      <td>1</td>\n",
       "      <td>482.0</td>\n",
       "      <td>2</td>\n",
       "      <td>755.000000</td>\n",
       "      <td>NaN</td>\n",
       "      <td>120370.370370</td>\n",
       "    </tr>\n",
       "    <tr>\n",
       "      <td>1</td>\n",
       "      <td>7</td>\n",
       "      <td>3350000</td>\n",
       "      <td>40.4</td>\n",
       "      <td>2018-12-04</td>\n",
       "      <td>1</td>\n",
       "      <td>2.65</td>\n",
       "      <td>11</td>\n",
       "      <td>18.6</td>\n",
       "      <td>1</td>\n",
       "      <td>False</td>\n",
       "      <td>...</td>\n",
       "      <td>2</td>\n",
       "      <td>посёлок Шушары</td>\n",
       "      <td>12817.0</td>\n",
       "      <td>18603.0</td>\n",
       "      <td>0</td>\n",
       "      <td>NaN</td>\n",
       "      <td>0</td>\n",
       "      <td>573.217105</td>\n",
       "      <td>81.0</td>\n",
       "      <td>82920.792079</td>\n",
       "    </tr>\n",
       "    <tr>\n",
       "      <td>2</td>\n",
       "      <td>10</td>\n",
       "      <td>5196000</td>\n",
       "      <td>56.0</td>\n",
       "      <td>2015-08-20</td>\n",
       "      <td>2</td>\n",
       "      <td>2.65</td>\n",
       "      <td>5</td>\n",
       "      <td>34.3</td>\n",
       "      <td>4</td>\n",
       "      <td>False</td>\n",
       "      <td>...</td>\n",
       "      <td>0</td>\n",
       "      <td>Санкт-Петербург</td>\n",
       "      <td>21741.0</td>\n",
       "      <td>13933.0</td>\n",
       "      <td>1</td>\n",
       "      <td>90.0</td>\n",
       "      <td>2</td>\n",
       "      <td>574.000000</td>\n",
       "      <td>558.0</td>\n",
       "      <td>92785.714286</td>\n",
       "    </tr>\n",
       "    <tr>\n",
       "      <td>3</td>\n",
       "      <td>0</td>\n",
       "      <td>64900000</td>\n",
       "      <td>159.0</td>\n",
       "      <td>2015-07-24</td>\n",
       "      <td>3</td>\n",
       "      <td>2.65</td>\n",
       "      <td>14</td>\n",
       "      <td>45.0</td>\n",
       "      <td>9</td>\n",
       "      <td>False</td>\n",
       "      <td>...</td>\n",
       "      <td>0</td>\n",
       "      <td>Санкт-Петербург</td>\n",
       "      <td>28098.0</td>\n",
       "      <td>6800.0</td>\n",
       "      <td>2</td>\n",
       "      <td>84.0</td>\n",
       "      <td>3</td>\n",
       "      <td>234.000000</td>\n",
       "      <td>424.0</td>\n",
       "      <td>408176.100629</td>\n",
       "    </tr>\n",
       "    <tr>\n",
       "      <td>4</td>\n",
       "      <td>2</td>\n",
       "      <td>10000000</td>\n",
       "      <td>100.0</td>\n",
       "      <td>2018-06-19</td>\n",
       "      <td>2</td>\n",
       "      <td>3.03</td>\n",
       "      <td>14</td>\n",
       "      <td>32.0</td>\n",
       "      <td>13</td>\n",
       "      <td>False</td>\n",
       "      <td>...</td>\n",
       "      <td>0</td>\n",
       "      <td>Санкт-Петербург</td>\n",
       "      <td>31856.0</td>\n",
       "      <td>8098.0</td>\n",
       "      <td>2</td>\n",
       "      <td>112.0</td>\n",
       "      <td>1</td>\n",
       "      <td>48.000000</td>\n",
       "      <td>121.0</td>\n",
       "      <td>100000.000000</td>\n",
       "    </tr>\n",
       "  </tbody>\n",
       "</table>\n",
       "<p>5 rows × 23 columns</p>\n",
       "</div>"
      ],
      "text/plain": [
       "   total_images  last_price  total_area first_day_exposition  rooms  \\\n",
       "0            20    13000000       108.0           2019-03-07      3   \n",
       "1             7     3350000        40.4           2018-12-04      1   \n",
       "2            10     5196000        56.0           2015-08-20      2   \n",
       "3             0    64900000       159.0           2015-07-24      3   \n",
       "4             2    10000000       100.0           2018-06-19      2   \n",
       "\n",
       "   ceiling_height  floors_total  living_area  floor  is_apartment  ...  \\\n",
       "0            2.70            16         51.0      8         False  ...   \n",
       "1            2.65            11         18.6      1         False  ...   \n",
       "2            2.65             5         34.3      4         False  ...   \n",
       "3            2.65            14         45.0      9         False  ...   \n",
       "4            3.03            14         32.0     13         False  ...   \n",
       "\n",
       "   balcony    locality_name  airports_nearest  city_centers_nearest  \\\n",
       "0        0  Санкт-Петербург           18863.0               16028.0   \n",
       "1        2   посёлок Шушары           12817.0               18603.0   \n",
       "2        0  Санкт-Петербург           21741.0               13933.0   \n",
       "3        0  Санкт-Петербург           28098.0                6800.0   \n",
       "4        0  Санкт-Петербург           31856.0                8098.0   \n",
       "\n",
       "  parks_around3000  parks_nearest  ponds_around3000  ponds_nearest  \\\n",
       "0                1          482.0                 2     755.000000   \n",
       "1                0            NaN                 0     573.217105   \n",
       "2                1           90.0                 2     574.000000   \n",
       "3                2           84.0                 3     234.000000   \n",
       "4                2          112.0                 1      48.000000   \n",
       "\n",
       "   days_exposition  square_m2_cost  \n",
       "0              NaN   120370.370370  \n",
       "1             81.0    82920.792079  \n",
       "2            558.0    92785.714286  \n",
       "3            424.0   408176.100629  \n",
       "4            121.0   100000.000000  \n",
       "\n",
       "[5 rows x 23 columns]"
      ]
     },
     "execution_count": 17,
     "metadata": {},
     "output_type": "execute_result"
    }
   ],
   "source": [
    "df['square_m2_cost'] = df['last_price']/df['total_area']\n",
    "df.head()"
   ]
  },
  {
   "cell_type": "markdown",
   "metadata": {},
   "source": [
    "Добавим день недели, месяц и год публикации для дальнейшего анализа."
   ]
  },
  {
   "cell_type": "code",
   "execution_count": 18,
   "metadata": {
    "scrolled": true
   },
   "outputs": [
    {
     "data": {
      "text/html": [
       "<div>\n",
       "<style scoped>\n",
       "    .dataframe tbody tr th:only-of-type {\n",
       "        vertical-align: middle;\n",
       "    }\n",
       "\n",
       "    .dataframe tbody tr th {\n",
       "        vertical-align: top;\n",
       "    }\n",
       "\n",
       "    .dataframe thead th {\n",
       "        text-align: right;\n",
       "    }\n",
       "</style>\n",
       "<table border=\"1\" class=\"dataframe\">\n",
       "  <thead>\n",
       "    <tr style=\"text-align: right;\">\n",
       "      <th></th>\n",
       "      <th>total_images</th>\n",
       "      <th>last_price</th>\n",
       "      <th>total_area</th>\n",
       "      <th>first_day_exposition</th>\n",
       "      <th>rooms</th>\n",
       "      <th>ceiling_height</th>\n",
       "      <th>floors_total</th>\n",
       "      <th>living_area</th>\n",
       "      <th>floor</th>\n",
       "      <th>is_apartment</th>\n",
       "      <th>...</th>\n",
       "      <th>city_centers_nearest</th>\n",
       "      <th>parks_around3000</th>\n",
       "      <th>parks_nearest</th>\n",
       "      <th>ponds_around3000</th>\n",
       "      <th>ponds_nearest</th>\n",
       "      <th>days_exposition</th>\n",
       "      <th>square_m2_cost</th>\n",
       "      <th>week_exposition</th>\n",
       "      <th>month_exposition</th>\n",
       "      <th>year_exposition</th>\n",
       "    </tr>\n",
       "  </thead>\n",
       "  <tbody>\n",
       "    <tr>\n",
       "      <td>0</td>\n",
       "      <td>20</td>\n",
       "      <td>13000000</td>\n",
       "      <td>108.0</td>\n",
       "      <td>2019-03-07</td>\n",
       "      <td>3</td>\n",
       "      <td>2.70</td>\n",
       "      <td>16</td>\n",
       "      <td>51.0</td>\n",
       "      <td>8</td>\n",
       "      <td>False</td>\n",
       "      <td>...</td>\n",
       "      <td>16028.0</td>\n",
       "      <td>1</td>\n",
       "      <td>482.0</td>\n",
       "      <td>2</td>\n",
       "      <td>755.000000</td>\n",
       "      <td>NaN</td>\n",
       "      <td>120370.370370</td>\n",
       "      <td>3</td>\n",
       "      <td>3</td>\n",
       "      <td>2019</td>\n",
       "    </tr>\n",
       "    <tr>\n",
       "      <td>1</td>\n",
       "      <td>7</td>\n",
       "      <td>3350000</td>\n",
       "      <td>40.4</td>\n",
       "      <td>2018-12-04</td>\n",
       "      <td>1</td>\n",
       "      <td>2.65</td>\n",
       "      <td>11</td>\n",
       "      <td>18.6</td>\n",
       "      <td>1</td>\n",
       "      <td>False</td>\n",
       "      <td>...</td>\n",
       "      <td>18603.0</td>\n",
       "      <td>0</td>\n",
       "      <td>NaN</td>\n",
       "      <td>0</td>\n",
       "      <td>573.217105</td>\n",
       "      <td>81.0</td>\n",
       "      <td>82920.792079</td>\n",
       "      <td>1</td>\n",
       "      <td>12</td>\n",
       "      <td>2018</td>\n",
       "    </tr>\n",
       "    <tr>\n",
       "      <td>2</td>\n",
       "      <td>10</td>\n",
       "      <td>5196000</td>\n",
       "      <td>56.0</td>\n",
       "      <td>2015-08-20</td>\n",
       "      <td>2</td>\n",
       "      <td>2.65</td>\n",
       "      <td>5</td>\n",
       "      <td>34.3</td>\n",
       "      <td>4</td>\n",
       "      <td>False</td>\n",
       "      <td>...</td>\n",
       "      <td>13933.0</td>\n",
       "      <td>1</td>\n",
       "      <td>90.0</td>\n",
       "      <td>2</td>\n",
       "      <td>574.000000</td>\n",
       "      <td>558.0</td>\n",
       "      <td>92785.714286</td>\n",
       "      <td>3</td>\n",
       "      <td>8</td>\n",
       "      <td>2015</td>\n",
       "    </tr>\n",
       "    <tr>\n",
       "      <td>3</td>\n",
       "      <td>0</td>\n",
       "      <td>64900000</td>\n",
       "      <td>159.0</td>\n",
       "      <td>2015-07-24</td>\n",
       "      <td>3</td>\n",
       "      <td>2.65</td>\n",
       "      <td>14</td>\n",
       "      <td>45.0</td>\n",
       "      <td>9</td>\n",
       "      <td>False</td>\n",
       "      <td>...</td>\n",
       "      <td>6800.0</td>\n",
       "      <td>2</td>\n",
       "      <td>84.0</td>\n",
       "      <td>3</td>\n",
       "      <td>234.000000</td>\n",
       "      <td>424.0</td>\n",
       "      <td>408176.100629</td>\n",
       "      <td>4</td>\n",
       "      <td>7</td>\n",
       "      <td>2015</td>\n",
       "    </tr>\n",
       "    <tr>\n",
       "      <td>4</td>\n",
       "      <td>2</td>\n",
       "      <td>10000000</td>\n",
       "      <td>100.0</td>\n",
       "      <td>2018-06-19</td>\n",
       "      <td>2</td>\n",
       "      <td>3.03</td>\n",
       "      <td>14</td>\n",
       "      <td>32.0</td>\n",
       "      <td>13</td>\n",
       "      <td>False</td>\n",
       "      <td>...</td>\n",
       "      <td>8098.0</td>\n",
       "      <td>2</td>\n",
       "      <td>112.0</td>\n",
       "      <td>1</td>\n",
       "      <td>48.000000</td>\n",
       "      <td>121.0</td>\n",
       "      <td>100000.000000</td>\n",
       "      <td>1</td>\n",
       "      <td>6</td>\n",
       "      <td>2018</td>\n",
       "    </tr>\n",
       "  </tbody>\n",
       "</table>\n",
       "<p>5 rows × 26 columns</p>\n",
       "</div>"
      ],
      "text/plain": [
       "   total_images  last_price  total_area first_day_exposition  rooms  \\\n",
       "0            20    13000000       108.0           2019-03-07      3   \n",
       "1             7     3350000        40.4           2018-12-04      1   \n",
       "2            10     5196000        56.0           2015-08-20      2   \n",
       "3             0    64900000       159.0           2015-07-24      3   \n",
       "4             2    10000000       100.0           2018-06-19      2   \n",
       "\n",
       "   ceiling_height  floors_total  living_area  floor  is_apartment  ...  \\\n",
       "0            2.70            16         51.0      8         False  ...   \n",
       "1            2.65            11         18.6      1         False  ...   \n",
       "2            2.65             5         34.3      4         False  ...   \n",
       "3            2.65            14         45.0      9         False  ...   \n",
       "4            3.03            14         32.0     13         False  ...   \n",
       "\n",
       "   city_centers_nearest  parks_around3000  parks_nearest  ponds_around3000  \\\n",
       "0               16028.0                 1          482.0                 2   \n",
       "1               18603.0                 0            NaN                 0   \n",
       "2               13933.0                 1           90.0                 2   \n",
       "3                6800.0                 2           84.0                 3   \n",
       "4                8098.0                 2          112.0                 1   \n",
       "\n",
       "  ponds_nearest  days_exposition  square_m2_cost  week_exposition  \\\n",
       "0    755.000000              NaN   120370.370370                3   \n",
       "1    573.217105             81.0    82920.792079                1   \n",
       "2    574.000000            558.0    92785.714286                3   \n",
       "3    234.000000            424.0   408176.100629                4   \n",
       "4     48.000000            121.0   100000.000000                1   \n",
       "\n",
       "   month_exposition  year_exposition  \n",
       "0                 3             2019  \n",
       "1                12             2018  \n",
       "2                 8             2015  \n",
       "3                 7             2015  \n",
       "4                 6             2018  \n",
       "\n",
       "[5 rows x 26 columns]"
      ]
     },
     "execution_count": 18,
     "metadata": {},
     "output_type": "execute_result"
    }
   ],
   "source": [
    "df['week_exposition']=df['first_day_exposition'].dt.weekday\n",
    "df['month_exposition']=df['first_day_exposition'].dt.month\n",
    "df['year_exposition']=df['first_day_exposition'].dt.year\n",
    "df.head()"
   ]
  },
  {
   "cell_type": "markdown",
   "metadata": {},
   "source": [
    "Добавим в таблицу этажи в формате первый, последний, другой."
   ]
  },
  {
   "cell_type": "code",
   "execution_count": 19,
   "metadata": {
    "scrolled": true
   },
   "outputs": [
    {
     "data": {
      "text/html": [
       "<div>\n",
       "<style scoped>\n",
       "    .dataframe tbody tr th:only-of-type {\n",
       "        vertical-align: middle;\n",
       "    }\n",
       "\n",
       "    .dataframe tbody tr th {\n",
       "        vertical-align: top;\n",
       "    }\n",
       "\n",
       "    .dataframe thead th {\n",
       "        text-align: right;\n",
       "    }\n",
       "</style>\n",
       "<table border=\"1\" class=\"dataframe\">\n",
       "  <thead>\n",
       "    <tr style=\"text-align: right;\">\n",
       "      <th></th>\n",
       "      <th>total_images</th>\n",
       "      <th>last_price</th>\n",
       "      <th>total_area</th>\n",
       "      <th>first_day_exposition</th>\n",
       "      <th>rooms</th>\n",
       "      <th>ceiling_height</th>\n",
       "      <th>floors_total</th>\n",
       "      <th>living_area</th>\n",
       "      <th>floor</th>\n",
       "      <th>is_apartment</th>\n",
       "      <th>...</th>\n",
       "      <th>parks_around3000</th>\n",
       "      <th>parks_nearest</th>\n",
       "      <th>ponds_around3000</th>\n",
       "      <th>ponds_nearest</th>\n",
       "      <th>days_exposition</th>\n",
       "      <th>square_m2_cost</th>\n",
       "      <th>week_exposition</th>\n",
       "      <th>month_exposition</th>\n",
       "      <th>year_exposition</th>\n",
       "      <th>floor_name</th>\n",
       "    </tr>\n",
       "  </thead>\n",
       "  <tbody>\n",
       "    <tr>\n",
       "      <td>0</td>\n",
       "      <td>20</td>\n",
       "      <td>13000000</td>\n",
       "      <td>108.0</td>\n",
       "      <td>2019-03-07</td>\n",
       "      <td>3</td>\n",
       "      <td>2.70</td>\n",
       "      <td>16</td>\n",
       "      <td>51.0</td>\n",
       "      <td>8</td>\n",
       "      <td>False</td>\n",
       "      <td>...</td>\n",
       "      <td>1</td>\n",
       "      <td>482.0</td>\n",
       "      <td>2</td>\n",
       "      <td>755.000000</td>\n",
       "      <td>NaN</td>\n",
       "      <td>120370.370370</td>\n",
       "      <td>3</td>\n",
       "      <td>3</td>\n",
       "      <td>2019</td>\n",
       "      <td>другой</td>\n",
       "    </tr>\n",
       "    <tr>\n",
       "      <td>1</td>\n",
       "      <td>7</td>\n",
       "      <td>3350000</td>\n",
       "      <td>40.4</td>\n",
       "      <td>2018-12-04</td>\n",
       "      <td>1</td>\n",
       "      <td>2.65</td>\n",
       "      <td>11</td>\n",
       "      <td>18.6</td>\n",
       "      <td>1</td>\n",
       "      <td>False</td>\n",
       "      <td>...</td>\n",
       "      <td>0</td>\n",
       "      <td>NaN</td>\n",
       "      <td>0</td>\n",
       "      <td>573.217105</td>\n",
       "      <td>81.0</td>\n",
       "      <td>82920.792079</td>\n",
       "      <td>1</td>\n",
       "      <td>12</td>\n",
       "      <td>2018</td>\n",
       "      <td>первый</td>\n",
       "    </tr>\n",
       "    <tr>\n",
       "      <td>2</td>\n",
       "      <td>10</td>\n",
       "      <td>5196000</td>\n",
       "      <td>56.0</td>\n",
       "      <td>2015-08-20</td>\n",
       "      <td>2</td>\n",
       "      <td>2.65</td>\n",
       "      <td>5</td>\n",
       "      <td>34.3</td>\n",
       "      <td>4</td>\n",
       "      <td>False</td>\n",
       "      <td>...</td>\n",
       "      <td>1</td>\n",
       "      <td>90.0</td>\n",
       "      <td>2</td>\n",
       "      <td>574.000000</td>\n",
       "      <td>558.0</td>\n",
       "      <td>92785.714286</td>\n",
       "      <td>3</td>\n",
       "      <td>8</td>\n",
       "      <td>2015</td>\n",
       "      <td>другой</td>\n",
       "    </tr>\n",
       "    <tr>\n",
       "      <td>3</td>\n",
       "      <td>0</td>\n",
       "      <td>64900000</td>\n",
       "      <td>159.0</td>\n",
       "      <td>2015-07-24</td>\n",
       "      <td>3</td>\n",
       "      <td>2.65</td>\n",
       "      <td>14</td>\n",
       "      <td>45.0</td>\n",
       "      <td>9</td>\n",
       "      <td>False</td>\n",
       "      <td>...</td>\n",
       "      <td>2</td>\n",
       "      <td>84.0</td>\n",
       "      <td>3</td>\n",
       "      <td>234.000000</td>\n",
       "      <td>424.0</td>\n",
       "      <td>408176.100629</td>\n",
       "      <td>4</td>\n",
       "      <td>7</td>\n",
       "      <td>2015</td>\n",
       "      <td>другой</td>\n",
       "    </tr>\n",
       "    <tr>\n",
       "      <td>4</td>\n",
       "      <td>2</td>\n",
       "      <td>10000000</td>\n",
       "      <td>100.0</td>\n",
       "      <td>2018-06-19</td>\n",
       "      <td>2</td>\n",
       "      <td>3.03</td>\n",
       "      <td>14</td>\n",
       "      <td>32.0</td>\n",
       "      <td>13</td>\n",
       "      <td>False</td>\n",
       "      <td>...</td>\n",
       "      <td>2</td>\n",
       "      <td>112.0</td>\n",
       "      <td>1</td>\n",
       "      <td>48.000000</td>\n",
       "      <td>121.0</td>\n",
       "      <td>100000.000000</td>\n",
       "      <td>1</td>\n",
       "      <td>6</td>\n",
       "      <td>2018</td>\n",
       "      <td>другой</td>\n",
       "    </tr>\n",
       "  </tbody>\n",
       "</table>\n",
       "<p>5 rows × 27 columns</p>\n",
       "</div>"
      ],
      "text/plain": [
       "   total_images  last_price  total_area first_day_exposition  rooms  \\\n",
       "0            20    13000000       108.0           2019-03-07      3   \n",
       "1             7     3350000        40.4           2018-12-04      1   \n",
       "2            10     5196000        56.0           2015-08-20      2   \n",
       "3             0    64900000       159.0           2015-07-24      3   \n",
       "4             2    10000000       100.0           2018-06-19      2   \n",
       "\n",
       "   ceiling_height  floors_total  living_area  floor  is_apartment  ...  \\\n",
       "0            2.70            16         51.0      8         False  ...   \n",
       "1            2.65            11         18.6      1         False  ...   \n",
       "2            2.65             5         34.3      4         False  ...   \n",
       "3            2.65            14         45.0      9         False  ...   \n",
       "4            3.03            14         32.0     13         False  ...   \n",
       "\n",
       "   parks_around3000  parks_nearest  ponds_around3000  ponds_nearest  \\\n",
       "0                 1          482.0                 2     755.000000   \n",
       "1                 0            NaN                 0     573.217105   \n",
       "2                 1           90.0                 2     574.000000   \n",
       "3                 2           84.0                 3     234.000000   \n",
       "4                 2          112.0                 1      48.000000   \n",
       "\n",
       "  days_exposition  square_m2_cost  week_exposition  month_exposition  \\\n",
       "0             NaN   120370.370370                3                 3   \n",
       "1            81.0    82920.792079                1                12   \n",
       "2           558.0    92785.714286                3                 8   \n",
       "3           424.0   408176.100629                4                 7   \n",
       "4           121.0   100000.000000                1                 6   \n",
       "\n",
       "   year_exposition  floor_name  \n",
       "0             2019      другой  \n",
       "1             2018      первый  \n",
       "2             2015      другой  \n",
       "3             2015      другой  \n",
       "4             2018      другой  \n",
       "\n",
       "[5 rows x 27 columns]"
      ]
     },
     "execution_count": 19,
     "metadata": {},
     "output_type": "execute_result"
    }
   ],
   "source": [
    "def floor_name(row):\n",
    "    floor = row['floor']\n",
    "    floors_total = row['floors_total']\n",
    "    if floor == 1:\n",
    "        return 'первый'\n",
    "    if floor == floors_total:\n",
    "        return 'последний'\n",
    "    else:\n",
    "        return 'другой'\n",
    "df['floor_name']=df.apply(floor_name, axis=1)\n",
    "df.head()"
   ]
  },
  {
   "cell_type": "markdown",
   "metadata": {},
   "source": [
    "Добавим в таблицу соотношение жилой площади к общей, а так же отношение площади кухни к общей площади."
   ]
  },
  {
   "cell_type": "code",
   "execution_count": 20,
   "metadata": {},
   "outputs": [
    {
     "data": {
      "text/html": [
       "<div>\n",
       "<style scoped>\n",
       "    .dataframe tbody tr th:only-of-type {\n",
       "        vertical-align: middle;\n",
       "    }\n",
       "\n",
       "    .dataframe tbody tr th {\n",
       "        vertical-align: top;\n",
       "    }\n",
       "\n",
       "    .dataframe thead th {\n",
       "        text-align: right;\n",
       "    }\n",
       "</style>\n",
       "<table border=\"1\" class=\"dataframe\">\n",
       "  <thead>\n",
       "    <tr style=\"text-align: right;\">\n",
       "      <th></th>\n",
       "      <th>total_images</th>\n",
       "      <th>last_price</th>\n",
       "      <th>total_area</th>\n",
       "      <th>first_day_exposition</th>\n",
       "      <th>rooms</th>\n",
       "      <th>ceiling_height</th>\n",
       "      <th>floors_total</th>\n",
       "      <th>living_area</th>\n",
       "      <th>floor</th>\n",
       "      <th>is_apartment</th>\n",
       "      <th>...</th>\n",
       "      <th>ponds_around3000</th>\n",
       "      <th>ponds_nearest</th>\n",
       "      <th>days_exposition</th>\n",
       "      <th>square_m2_cost</th>\n",
       "      <th>week_exposition</th>\n",
       "      <th>month_exposition</th>\n",
       "      <th>year_exposition</th>\n",
       "      <th>floor_name</th>\n",
       "      <th>living_to_total_area</th>\n",
       "      <th>kitchen_to_total_area</th>\n",
       "    </tr>\n",
       "  </thead>\n",
       "  <tbody>\n",
       "    <tr>\n",
       "      <td>0</td>\n",
       "      <td>20</td>\n",
       "      <td>13000000</td>\n",
       "      <td>108.0</td>\n",
       "      <td>2019-03-07</td>\n",
       "      <td>3</td>\n",
       "      <td>2.70</td>\n",
       "      <td>16</td>\n",
       "      <td>51.0</td>\n",
       "      <td>8</td>\n",
       "      <td>False</td>\n",
       "      <td>...</td>\n",
       "      <td>2</td>\n",
       "      <td>755.000000</td>\n",
       "      <td>NaN</td>\n",
       "      <td>120370.370370</td>\n",
       "      <td>3</td>\n",
       "      <td>3</td>\n",
       "      <td>2019</td>\n",
       "      <td>другой</td>\n",
       "      <td>0.472222</td>\n",
       "      <td>0.231481</td>\n",
       "    </tr>\n",
       "    <tr>\n",
       "      <td>1</td>\n",
       "      <td>7</td>\n",
       "      <td>3350000</td>\n",
       "      <td>40.4</td>\n",
       "      <td>2018-12-04</td>\n",
       "      <td>1</td>\n",
       "      <td>2.65</td>\n",
       "      <td>11</td>\n",
       "      <td>18.6</td>\n",
       "      <td>1</td>\n",
       "      <td>False</td>\n",
       "      <td>...</td>\n",
       "      <td>0</td>\n",
       "      <td>573.217105</td>\n",
       "      <td>81.0</td>\n",
       "      <td>82920.792079</td>\n",
       "      <td>1</td>\n",
       "      <td>12</td>\n",
       "      <td>2018</td>\n",
       "      <td>первый</td>\n",
       "      <td>0.460396</td>\n",
       "      <td>0.272277</td>\n",
       "    </tr>\n",
       "    <tr>\n",
       "      <td>2</td>\n",
       "      <td>10</td>\n",
       "      <td>5196000</td>\n",
       "      <td>56.0</td>\n",
       "      <td>2015-08-20</td>\n",
       "      <td>2</td>\n",
       "      <td>2.65</td>\n",
       "      <td>5</td>\n",
       "      <td>34.3</td>\n",
       "      <td>4</td>\n",
       "      <td>False</td>\n",
       "      <td>...</td>\n",
       "      <td>2</td>\n",
       "      <td>574.000000</td>\n",
       "      <td>558.0</td>\n",
       "      <td>92785.714286</td>\n",
       "      <td>3</td>\n",
       "      <td>8</td>\n",
       "      <td>2015</td>\n",
       "      <td>другой</td>\n",
       "      <td>0.612500</td>\n",
       "      <td>0.148214</td>\n",
       "    </tr>\n",
       "    <tr>\n",
       "      <td>3</td>\n",
       "      <td>0</td>\n",
       "      <td>64900000</td>\n",
       "      <td>159.0</td>\n",
       "      <td>2015-07-24</td>\n",
       "      <td>3</td>\n",
       "      <td>2.65</td>\n",
       "      <td>14</td>\n",
       "      <td>45.0</td>\n",
       "      <td>9</td>\n",
       "      <td>False</td>\n",
       "      <td>...</td>\n",
       "      <td>3</td>\n",
       "      <td>234.000000</td>\n",
       "      <td>424.0</td>\n",
       "      <td>408176.100629</td>\n",
       "      <td>4</td>\n",
       "      <td>7</td>\n",
       "      <td>2015</td>\n",
       "      <td>другой</td>\n",
       "      <td>0.283019</td>\n",
       "      <td>0.059748</td>\n",
       "    </tr>\n",
       "    <tr>\n",
       "      <td>4</td>\n",
       "      <td>2</td>\n",
       "      <td>10000000</td>\n",
       "      <td>100.0</td>\n",
       "      <td>2018-06-19</td>\n",
       "      <td>2</td>\n",
       "      <td>3.03</td>\n",
       "      <td>14</td>\n",
       "      <td>32.0</td>\n",
       "      <td>13</td>\n",
       "      <td>False</td>\n",
       "      <td>...</td>\n",
       "      <td>1</td>\n",
       "      <td>48.000000</td>\n",
       "      <td>121.0</td>\n",
       "      <td>100000.000000</td>\n",
       "      <td>1</td>\n",
       "      <td>6</td>\n",
       "      <td>2018</td>\n",
       "      <td>другой</td>\n",
       "      <td>0.320000</td>\n",
       "      <td>0.410000</td>\n",
       "    </tr>\n",
       "  </tbody>\n",
       "</table>\n",
       "<p>5 rows × 29 columns</p>\n",
       "</div>"
      ],
      "text/plain": [
       "   total_images  last_price  total_area first_day_exposition  rooms  \\\n",
       "0            20    13000000       108.0           2019-03-07      3   \n",
       "1             7     3350000        40.4           2018-12-04      1   \n",
       "2            10     5196000        56.0           2015-08-20      2   \n",
       "3             0    64900000       159.0           2015-07-24      3   \n",
       "4             2    10000000       100.0           2018-06-19      2   \n",
       "\n",
       "   ceiling_height  floors_total  living_area  floor  is_apartment  ...  \\\n",
       "0            2.70            16         51.0      8         False  ...   \n",
       "1            2.65            11         18.6      1         False  ...   \n",
       "2            2.65             5         34.3      4         False  ...   \n",
       "3            2.65            14         45.0      9         False  ...   \n",
       "4            3.03            14         32.0     13         False  ...   \n",
       "\n",
       "   ponds_around3000  ponds_nearest  days_exposition  square_m2_cost  \\\n",
       "0                 2     755.000000              NaN   120370.370370   \n",
       "1                 0     573.217105             81.0    82920.792079   \n",
       "2                 2     574.000000            558.0    92785.714286   \n",
       "3                 3     234.000000            424.0   408176.100629   \n",
       "4                 1      48.000000            121.0   100000.000000   \n",
       "\n",
       "  week_exposition  month_exposition  year_exposition  floor_name  \\\n",
       "0               3                 3             2019      другой   \n",
       "1               1                12             2018      первый   \n",
       "2               3                 8             2015      другой   \n",
       "3               4                 7             2015      другой   \n",
       "4               1                 6             2018      другой   \n",
       "\n",
       "   living_to_total_area  kitchen_to_total_area  \n",
       "0              0.472222               0.231481  \n",
       "1              0.460396               0.272277  \n",
       "2              0.612500               0.148214  \n",
       "3              0.283019               0.059748  \n",
       "4              0.320000               0.410000  \n",
       "\n",
       "[5 rows x 29 columns]"
      ]
     },
     "execution_count": 20,
     "metadata": {},
     "output_type": "execute_result"
    }
   ],
   "source": [
    "df['living_to_total_area']=df['living_area']/df['total_area']\n",
    "df['kitchen_to_total_area']=df['kitchen_area']/df['total_area']\n",
    "df.head()"
   ]
  },
  {
   "cell_type": "markdown",
   "metadata": {},
   "source": [
    "## Исследовательский анализ данных"
   ]
  },
  {
   "cell_type": "markdown",
   "metadata": {},
   "source": [
    "### Рассмотрим данные по площади, стоимости, количеству комнат и высоте потолков."
   ]
  },
  {
   "cell_type": "code",
   "execution_count": 21,
   "metadata": {},
   "outputs": [
    {
     "data": {
      "text/html": [
       "<div>\n",
       "<style scoped>\n",
       "    .dataframe tbody tr th:only-of-type {\n",
       "        vertical-align: middle;\n",
       "    }\n",
       "\n",
       "    .dataframe tbody tr th {\n",
       "        vertical-align: top;\n",
       "    }\n",
       "\n",
       "    .dataframe thead th {\n",
       "        text-align: right;\n",
       "    }\n",
       "</style>\n",
       "<table border=\"1\" class=\"dataframe\">\n",
       "  <thead>\n",
       "    <tr style=\"text-align: right;\">\n",
       "      <th></th>\n",
       "      <th>total_area</th>\n",
       "      <th>last_price</th>\n",
       "      <th>rooms</th>\n",
       "      <th>ceiling_height</th>\n",
       "    </tr>\n",
       "  </thead>\n",
       "  <tbody>\n",
       "    <tr>\n",
       "      <td>count</td>\n",
       "      <td>23699.000000</td>\n",
       "      <td>2.369900e+04</td>\n",
       "      <td>23699.000000</td>\n",
       "      <td>23699.000000</td>\n",
       "    </tr>\n",
       "    <tr>\n",
       "      <td>mean</td>\n",
       "      <td>60.348651</td>\n",
       "      <td>6.541549e+06</td>\n",
       "      <td>2.070636</td>\n",
       "      <td>2.724358</td>\n",
       "    </tr>\n",
       "    <tr>\n",
       "      <td>std</td>\n",
       "      <td>35.654083</td>\n",
       "      <td>1.088701e+07</td>\n",
       "      <td>1.078405</td>\n",
       "      <td>0.988298</td>\n",
       "    </tr>\n",
       "    <tr>\n",
       "      <td>min</td>\n",
       "      <td>12.000000</td>\n",
       "      <td>1.219000e+04</td>\n",
       "      <td>0.000000</td>\n",
       "      <td>1.000000</td>\n",
       "    </tr>\n",
       "    <tr>\n",
       "      <td>25%</td>\n",
       "      <td>40.000000</td>\n",
       "      <td>3.400000e+06</td>\n",
       "      <td>1.000000</td>\n",
       "      <td>2.600000</td>\n",
       "    </tr>\n",
       "    <tr>\n",
       "      <td>50%</td>\n",
       "      <td>52.000000</td>\n",
       "      <td>4.650000e+06</td>\n",
       "      <td>2.000000</td>\n",
       "      <td>2.650000</td>\n",
       "    </tr>\n",
       "    <tr>\n",
       "      <td>75%</td>\n",
       "      <td>69.900000</td>\n",
       "      <td>6.800000e+06</td>\n",
       "      <td>3.000000</td>\n",
       "      <td>2.700000</td>\n",
       "    </tr>\n",
       "    <tr>\n",
       "      <td>max</td>\n",
       "      <td>900.000000</td>\n",
       "      <td>7.630000e+08</td>\n",
       "      <td>19.000000</td>\n",
       "      <td>100.000000</td>\n",
       "    </tr>\n",
       "  </tbody>\n",
       "</table>\n",
       "</div>"
      ],
      "text/plain": [
       "         total_area    last_price         rooms  ceiling_height\n",
       "count  23699.000000  2.369900e+04  23699.000000    23699.000000\n",
       "mean      60.348651  6.541549e+06      2.070636        2.724358\n",
       "std       35.654083  1.088701e+07      1.078405        0.988298\n",
       "min       12.000000  1.219000e+04      0.000000        1.000000\n",
       "25%       40.000000  3.400000e+06      1.000000        2.600000\n",
       "50%       52.000000  4.650000e+06      2.000000        2.650000\n",
       "75%       69.900000  6.800000e+06      3.000000        2.700000\n",
       "max      900.000000  7.630000e+08     19.000000      100.000000"
      ]
     },
     "execution_count": 21,
     "metadata": {},
     "output_type": "execute_result"
    }
   ],
   "source": [
    "df[['total_area','last_price','rooms','ceiling_height']].describe()"
   ]
  },
  {
   "cell_type": "markdown",
   "metadata": {},
   "source": [
    "Общая площадь варьирутеся от 12 до 900м2, что походе на правду: первое может быть комнатой в квартире, второе - частным домом или аппартаментами. При этом медиана и среднее имеют достаточно близкие значения, что может говорить об однородности данных.<br>\n",
    "К стоимости уже есть вопросы, если 763млн.руб. - цифра правдоподобная, с учетом наличия квартир с большой площадью, то 12тыс.руб. - больше похоже на стоимость аренды жилья, а не на стоимость.<br>\n",
    "У количества комнат есть только 1 аномалия - жилье с 0 комнат, тут возможно участвуют квартиры-студии, где комнаты как таковой нет. При этом развибка по квартилям выглядит практически идеальной.<br> \n",
    "Высота потолков - тоже невероятно аномальный столбец: высота потолков варьируется от 1м (ну не хоббиты же там живут), до 100м в высоту, что тоже является аномалией."
   ]
  },
  {
   "cell_type": "markdown",
   "metadata": {},
   "source": [
    "### Построим гистрограммы по данным столбцам."
   ]
  },
  {
   "cell_type": "code",
   "execution_count": 22,
   "metadata": {
    "scrolled": false
   },
   "outputs": [
    {
     "data": {
      "text/plain": [
       "<matplotlib.axes._subplots.AxesSubplot at 0x7f42fa3cde50>"
      ]
     },
     "execution_count": 22,
     "metadata": {},
     "output_type": "execute_result"
    },
    {
     "data": {
      "image/png": "[encoded data removed]",
      "text/plain": [
       "<Figure size 720x360 with 1 Axes>"
      ]
     },
     "metadata": {
      "needs_background": "light"
     },
     "output_type": "display_data"
    }
   ],
   "source": [
    "df['total_area'].hist(bins=40, range=(0,200), figsize=(10,5))"
   ]
  },
  {
   "cell_type": "markdown",
   "metadata": {},
   "source": [
    "<div style=\"border:solid steelblue 3px; padding: 20px\">\n",
    "<font size=\"4\">🍕<b> Комментарий ревьюера</b></font>\n",
    "<br /> \n",
    "<font size=\"3\", color = \"black\">\n",
    "<br />\n",
    "Убрать служ. информацию поможет точка с запятой на посл. строке кода\n",
    "\n",
    "    <matplotlib.axes._subplots.AxesSubplot at 0x7f62d74d0d90>\n",
    "\n",
    "df['total_area'].hist(bins=40, range=(0,200), figsize=(10,5)) ;\n"
   ]
  },
  {
   "cell_type": "code",
   "execution_count": 23,
   "metadata": {},
   "outputs": [
    {
     "data": {
      "image/png": "[encoded data removed]",
      "text/plain": [
       "<Figure size 720x360 with 1 Axes>"
      ]
     },
     "metadata": {
      "needs_background": "light"
     },
     "output_type": "display_data"
    }
   ],
   "source": [
    "df['last_price'].hist(bins=50, range=(100000,20000000), figsize=(10,5));"
   ]
  },
  {
   "cell_type": "code",
   "execution_count": 24,
   "metadata": {},
   "outputs": [
    {
     "data": {
      "image/png": "[encoded data removed]",
      "text/plain": [
       "<Figure size 720x360 with 1 Axes>"
      ]
     },
     "metadata": {
      "needs_background": "light"
     },
     "output_type": "display_data"
    }
   ],
   "source": [
    "df['rooms'].hist(bins=10,range=(0,10), figsize=(10,5));"
   ]
  },
  {
   "cell_type": "code",
   "execution_count": 25,
   "metadata": {},
   "outputs": [
    {
     "data": {
      "image/png": "[encoded data removed]",
      "text/plain": [
       "<Figure size 720x360 with 1 Axes>"
      ]
     },
     "metadata": {
      "needs_background": "light"
     },
     "output_type": "display_data"
    }
   ],
   "source": [
    "df['ceiling_height'].hist(bins=120,range=(1,6), figsize=(10,5));"
   ]
  },
  {
   "cell_type": "markdown",
   "metadata": {},
   "source": [
    "Распределение по площади похоже на распределение Пуассона, что логично, основаная доля квартир - это одно-, двух-комнатные квартиры, со средней площадью около 50-60м2. Что касается высоты потолков - тут тоже все логично, сильные вылеты должны быть ошибкой, в среднем все крутиться около 2,5-3м. По стоимости интереснее - мы видим нормальное распрделение, длинный хвост которого связан с длинным хвостом площади объектов, но в целом данные распределены равномерно."
   ]
  },
  {
   "cell_type": "markdown",
   "metadata": {},
   "source": [
    "<div style=\"border:solid steelblue 3px; padding: 20px\">\n",
    "<font size=\"4\">🍕<b> Комментарий ревьюера</b></font>\n",
    "<br /> \n",
    "<font size=\"3\", color = \"black\">\n",
    "<br />\n",
    "Хороший раздел, для анализа ощущается нехватка корзин, показатель можно увеличить раз в 10\n"
   ]
  },
  {
   "cell_type": "markdown",
   "metadata": {},
   "source": [
    "### Изучим данные по срокам продажи квартир."
   ]
  },
  {
   "cell_type": "code",
   "execution_count": 26,
   "metadata": {
    "scrolled": true
   },
   "outputs": [
    {
     "data": {
      "text/plain": [
       "count    20518.000000\n",
       "mean       180.888634\n",
       "std        219.727988\n",
       "min          1.000000\n",
       "0%           1.000000\n",
       "10%         17.000000\n",
       "25%         45.000000\n",
       "50%         95.000000\n",
       "75%        232.000000\n",
       "90%        460.000000\n",
       "max       1580.000000\n",
       "Name: days_exposition, dtype: float64"
      ]
     },
     "execution_count": 26,
     "metadata": {},
     "output_type": "execute_result"
    }
   ],
   "source": [
    "df['days_exposition'].describe(percentiles=[0, 0.1, 0.25, 0.5,0.75,0.9])"
   ]
  },
  {
   "cell_type": "code",
   "execution_count": 27,
   "metadata": {
    "scrolled": true
   },
   "outputs": [
    {
     "data": {
      "image/png": "[encoded data removed]",
      "text/plain": [
       "<Figure size 720x360 with 1 Axes>"
      ]
     },
     "metadata": {
      "needs_background": "light"
     },
     "output_type": "display_data"
    }
   ],
   "source": [
    "df['days_exposition'].hist(bins=100, range=(0,600), figsize=(10,5));"
   ]
  },
  {
   "cell_type": "code",
   "execution_count": 28,
   "metadata": {},
   "outputs": [
    {
     "data": {
      "image/png": "[encoded data removed]",
      "text/plain": [
       "<Figure size 720x360 with 1 Axes>"
      ]
     },
     "metadata": {
      "needs_background": "light"
     },
     "output_type": "display_data"
    }
   ],
   "source": [
    "df_raw['days_exposition'].hist(bins=100, range=(0,600), figsize=(10,5));"
   ]
  },
  {
   "cell_type": "markdown",
   "metadata": {},
   "source": [
    "Среднее время продажи квартиры около 170 суток, медиана при этом всего 95, на это влияет число очень долгих продаж квартир. Основной срок, за который продается квартира около 1,5-7,5 месяцев. Поэтому быстрыми можно считать продажи до 45 дней, очень быстрыми до 17. Долгую продажу отнесем к продажам более 8 месяцев, аномально долгую - свыше 1 года, 3 месяцев.\n",
    "\n",
    "Диаграмма похожа на распредение Пуассона. Шанмы продать квартиру быстро после 8 месяцев уже выглядит невыполнимой задачей. Так же интересны вылеты на диаграмме, сначала я подумал, что это проблема с заполнением, но даже график на сырых данных выдал аналогичный результат. Как будто у людей кончаются нервы после 2 месяцев ожидания продажи и начинается снижение цены."
   ]
  },
  {
   "cell_type": "markdown",
   "metadata": {},
   "source": [
    "<div class=\"alert alert-warning\", style=\"border:solid coral 3px; padding: 20px\">\n",
    "<font size=\"4\", color = \"DimGrey\"><b>⚠️ Комментарий ревьюера</b></font>\n",
    "    <br /> \n",
    "    <font size=\"3\", color = \"black\">\n",
    "<br />\n",
    "     \n",
    "      и начинается снижение цены.\n",
    "        \n",
    "У нас в таблице, только статические данные, у нас нет нескольких записей об одном и том же объекте, поэтому мы почти не можем оценить динамику цен, можно посмотреть на выбросы\n",
    "        \n",
    "     df_raw.days_exposition.value_counts().to_frame().head(10)"
   ]
  },
  {
   "cell_type": "code",
   "execution_count": 29,
   "metadata": {},
   "outputs": [
    {
     "data": {
      "text/html": [
       "<div>\n",
       "<style scoped>\n",
       "    .dataframe tbody tr th:only-of-type {\n",
       "        vertical-align: middle;\n",
       "    }\n",
       "\n",
       "    .dataframe tbody tr th {\n",
       "        vertical-align: top;\n",
       "    }\n",
       "\n",
       "    .dataframe thead th {\n",
       "        text-align: right;\n",
       "    }\n",
       "</style>\n",
       "<table border=\"1\" class=\"dataframe\">\n",
       "  <thead>\n",
       "    <tr style=\"text-align: right;\">\n",
       "      <th></th>\n",
       "      <th>days_exposition</th>\n",
       "    </tr>\n",
       "  </thead>\n",
       "  <tbody>\n",
       "    <tr>\n",
       "      <td>45.0</td>\n",
       "      <td>880</td>\n",
       "    </tr>\n",
       "    <tr>\n",
       "      <td>60.0</td>\n",
       "      <td>538</td>\n",
       "    </tr>\n",
       "    <tr>\n",
       "      <td>7.0</td>\n",
       "      <td>234</td>\n",
       "    </tr>\n",
       "    <tr>\n",
       "      <td>30.0</td>\n",
       "      <td>208</td>\n",
       "    </tr>\n",
       "    <tr>\n",
       "      <td>90.0</td>\n",
       "      <td>204</td>\n",
       "    </tr>\n",
       "    <tr>\n",
       "      <td>4.0</td>\n",
       "      <td>176</td>\n",
       "    </tr>\n",
       "    <tr>\n",
       "      <td>3.0</td>\n",
       "      <td>158</td>\n",
       "    </tr>\n",
       "    <tr>\n",
       "      <td>5.0</td>\n",
       "      <td>152</td>\n",
       "    </tr>\n",
       "    <tr>\n",
       "      <td>14.0</td>\n",
       "      <td>148</td>\n",
       "    </tr>\n",
       "    <tr>\n",
       "      <td>9.0</td>\n",
       "      <td>143</td>\n",
       "    </tr>\n",
       "  </tbody>\n",
       "</table>\n",
       "</div>"
      ],
      "text/plain": [
       "      days_exposition\n",
       "45.0              880\n",
       "60.0              538\n",
       "7.0               234\n",
       "30.0              208\n",
       "90.0              204\n",
       "4.0               176\n",
       "3.0               158\n",
       "5.0               152\n",
       "14.0              148\n",
       "9.0               143"
      ]
     },
     "execution_count": 29,
     "metadata": {},
     "output_type": "execute_result"
    }
   ],
   "source": [
    "df_raw.days_exposition.value_counts().to_frame().head(10)"
   ]
  },
  {
   "cell_type": "code",
   "execution_count": 30,
   "metadata": {},
   "outputs": [
    {
     "data": {
      "text/html": [
       "<div>\n",
       "<style scoped>\n",
       "    .dataframe tbody tr th:only-of-type {\n",
       "        vertical-align: middle;\n",
       "    }\n",
       "\n",
       "    .dataframe tbody tr th {\n",
       "        vertical-align: top;\n",
       "    }\n",
       "\n",
       "    .dataframe thead th {\n",
       "        text-align: right;\n",
       "    }\n",
       "</style>\n",
       "<table border=\"1\" class=\"dataframe\">\n",
       "  <thead>\n",
       "    <tr style=\"text-align: right;\">\n",
       "      <th></th>\n",
       "      <th>days_exposition</th>\n",
       "    </tr>\n",
       "  </thead>\n",
       "  <tbody>\n",
       "    <tr>\n",
       "      <td>45.0</td>\n",
       "      <td>880</td>\n",
       "    </tr>\n",
       "    <tr>\n",
       "      <td>60.0</td>\n",
       "      <td>538</td>\n",
       "    </tr>\n",
       "    <tr>\n",
       "      <td>7.0</td>\n",
       "      <td>234</td>\n",
       "    </tr>\n",
       "    <tr>\n",
       "      <td>30.0</td>\n",
       "      <td>208</td>\n",
       "    </tr>\n",
       "    <tr>\n",
       "      <td>90.0</td>\n",
       "      <td>204</td>\n",
       "    </tr>\n",
       "    <tr>\n",
       "      <td>4.0</td>\n",
       "      <td>176</td>\n",
       "    </tr>\n",
       "    <tr>\n",
       "      <td>3.0</td>\n",
       "      <td>158</td>\n",
       "    </tr>\n",
       "    <tr>\n",
       "      <td>5.0</td>\n",
       "      <td>152</td>\n",
       "    </tr>\n",
       "    <tr>\n",
       "      <td>14.0</td>\n",
       "      <td>148</td>\n",
       "    </tr>\n",
       "    <tr>\n",
       "      <td>9.0</td>\n",
       "      <td>143</td>\n",
       "    </tr>\n",
       "  </tbody>\n",
       "</table>\n",
       "</div>"
      ],
      "text/plain": [
       "      days_exposition\n",
       "45.0              880\n",
       "60.0              538\n",
       "7.0               234\n",
       "30.0              208\n",
       "90.0              204\n",
       "4.0               176\n",
       "3.0               158\n",
       "5.0               152\n",
       "14.0              148\n",
       "9.0               143"
      ]
     },
     "execution_count": 30,
     "metadata": {},
     "output_type": "execute_result"
    }
   ],
   "source": [
    "df.days_exposition.value_counts().to_frame().head(10)"
   ]
  },
  {
   "cell_type": "markdown",
   "metadata": {},
   "source": [
    "### Работа с аномалиями"
   ]
  },
  {
   "cell_type": "markdown",
   "metadata": {},
   "source": [
    "- Начнем со стоимости жилья: минимальная стоимость 1м2 жилья Ленинградском районе соствляет 80тыс.руб. Возьмем половину данной  стоимости для отсечения аномальной стоимости, т.к. c 2014 года рост цен на жилье практически двухкратный.\n",
    "- Что касается высоты потолков, то ниже 2,5м отсекаем, так как это норма по СНИП. Максимальную ограничим 5 метрами, т.к. на графике, все что выше - не отражается."
   ]
  },
  {
   "cell_type": "code",
   "execution_count": 31,
   "metadata": {
    "scrolled": true
   },
   "outputs": [
    {
     "data": {
      "text/plain": [
       "22498"
      ]
     },
     "execution_count": 31,
     "metadata": {},
     "output_type": "execute_result"
    }
   ],
   "source": [
    "df=df[(df['square_m2_cost'] > 40000)&(df['ceiling_height'] <= 5)&(df['ceiling_height'] >= 2.5)]\n",
    "df.shape[0]"
   ]
  },
  {
   "cell_type": "markdown",
   "metadata": {},
   "source": [
    "Удалено всего 5% данных всего датасета, такую фильтрацию можно считать успешной."
   ]
  },
  {
   "cell_type": "markdown",
   "metadata": {},
   "source": [
    "<div class=\"alert alert-success\">\n",
    "<font size=\"4\"><b>✔️ Комментарий ревьюера</b></font>\n",
    "    <br /> \n",
    "        <font size=\"3\", color = \"black\">\n",
    "            <br />\n",
    "Самопроверка всегда играет роль незаменимого помощника, 💎, особенно важно проверять себя после сложных этапов:\n",
    "    \n",
    " + удаления данных, в т.ч. через фильтрацию крайних значений или выбросов \n",
    " + слияния или обьединения данных из разных таблиц\n",
    " + категоризации данных: например, присвоения категории Клиенту по уровню дохода или семейному положению\n",
    "\n",
    "и т.д., чем больше самопроверок будет до и после сложных блоков кода, изменяющих данные, тем меньше переделок нас ждет на учебных и рабочих проектах"
   ]
  },
  {
   "cell_type": "markdown",
   "metadata": {},
   "source": [
    "### Анализ стоимости квартиры"
   ]
  },
  {
   "cell_type": "code",
   "execution_count": 32,
   "metadata": {
    "scrolled": true
   },
   "outputs": [
    {
     "data": {
      "image/png": "[encoded data removed]",
      "text/plain": [
       "<Figure size 432x288 with 2 Axes>"
      ]
     },
     "metadata": {
      "needs_background": "light"
     },
     "output_type": "display_data"
    }
   ],
   "source": [
    "# построим хитмэп корреляции цены от площади и количества комнат\n",
    "sns.heatmap(df[['last_price', 'total_area','rooms']].corr(),cmap='RdYlGn')\n",
    "plt.show()"
   ]
  },
  {
   "cell_type": "code",
   "execution_count": 33,
   "metadata": {
    "scrolled": true
   },
   "outputs": [
    {
     "data": {
      "image/png": "[encoded data removed]",
      "text/plain": [
       "<Figure size 432x288 with 1 Axes>"
      ]
     },
     "metadata": {
      "needs_background": "light"
     },
     "output_type": "display_data"
    }
   ],
   "source": [
    "# построим график зависимости цены от этажа\n",
    "sns.barplot(x=\"floor_name\", y=\"last_price\", data=df, ci=None)\n",
    "plt.show()"
   ]
  },
  {
   "cell_type": "markdown",
   "metadata": {},
   "source": [
    "<div class=\"alert alert-warning\", style=\"border:solid coral 3px; padding: 20px\">\n",
    "<font size=\"4\", color = \"DimGrey\"><b>⚠️ Комментарий ревьюера</b></font>\n",
    "    <br /> \n",
    "    <font size=\"3\", color = \"black\">\n",
    "<br />\n",
    "Удивительные показатели в нашей базе данных, за счет чего интересно цена квартир на последнем этаже смогла вырваться вперед цены на средних этажах"
   ]
  },
  {
   "cell_type": "code",
   "execution_count": 34,
   "metadata": {},
   "outputs": [
    {
     "data": {
      "image/png": "[encoded data removed]",
      "text/plain": [
       "<Figure size 432x288 with 1 Axes>"
      ]
     },
     "metadata": {
      "needs_background": "light"
     },
     "output_type": "display_data"
    }
   ],
   "source": [
    "# построим график зависимости цены от расстояния до центра, немного ограничим верхний предел цены, \n",
    "#т.к. это влияет на визуализацию данных\n",
    "sns.scatterplot(x='city_centers_nearest', y='last_price', data=df[df['last_price']<100000000]) \n",
    "plt.show()"
   ]
  },
  {
   "cell_type": "code",
   "execution_count": 35,
   "metadata": {
    "scrolled": true
   },
   "outputs": [
    {
     "data": {
      "image/png": "[encoded data removed]",
      "text/plain": [
       "<Figure size 432x288 with 1 Axes>"
      ]
     },
     "metadata": {
      "needs_background": "light"
     },
     "output_type": "display_data"
    }
   ],
   "source": [
    "# построим график зависимости цены от дня недели публикации\n",
    "sns.barplot(x=\"week_exposition\", y=\"last_price\", data=df, ci=None)\n",
    "plt.show()"
   ]
  },
  {
   "cell_type": "code",
   "execution_count": 36,
   "metadata": {
    "scrolled": false
   },
   "outputs": [
    {
     "data": {
      "image/png": "[encoded data removed]",
      "text/plain": [
       "<Figure size 432x288 with 1 Axes>"
      ]
     },
     "metadata": {
      "needs_background": "light"
     },
     "output_type": "display_data"
    }
   ],
   "source": [
    "# построим график зависимости цены от месяца публикации\n",
    "sns.barplot(x=\"month_exposition\", y=\"last_price\", data=df, ci=None)\n",
    "plt.show()"
   ]
  },
  {
   "cell_type": "code",
   "execution_count": 37,
   "metadata": {
    "scrolled": true
   },
   "outputs": [
    {
     "data": {
      "image/png": "[encoded data removed]",
      "text/plain": [
       "<Figure size 432x288 with 1 Axes>"
      ]
     },
     "metadata": {
      "needs_background": "light"
     },
     "output_type": "display_data"
    }
   ],
   "source": [
    "# построим график зависимости цены от года публикации\n",
    "sns.barplot(x=\"year_exposition\", y=\"last_price\", data=df, ci=None)\n",
    "plt.show()"
   ]
  },
  {
   "cell_type": "markdown",
   "metadata": {},
   "source": [
    "<div class=\"alert alert-warning\", style=\"border:solid coral 3px; padding: 20px\">\n",
    "<font size=\"4\", color = \"DimGrey\"><b>⚠️ Комментарий ревьюера</b></font>\n",
    "    <br /> \n",
    "    <font size=\"3\", color = \"black\">\n",
    "<br />         \n",
    "Графики замечательные, но слишком много цветов, которые могут вызвать вопросы у руководства, для подбора визуалиций \n",
    "        \n",
    "может пригодиться <a href=\"https://www.notion.so/6c5ae8ceb8b5411e907c93c9b5e6a44e#5b8bc56deab9461fb518a04b0c2d8c61\">Постер «Графики, которые убеждают всех»</a>\n",
    "        "
   ]
  },
  {
   "cell_type": "markdown",
   "metadata": {},
   "source": [
    "###### Наиболее сильно заметна корреляция цены от:\n",
    "- года объявления - пиковые значения были в 2014г, далее шел только спад, который прекратился в 2019г., что связано со снижением ставки рефинансирования и ростом ипотечной воронки, но \"никто никогда не вернется в 2014год\";\n",
    "- расстояния от центра - чем ближе к центру, тем стоимость квартиры выше, пиковы значения цен, соответствую ближайшим точкам к центру;\n",
    "- этажа - дороже всего квартиры на верхнем этаже, гораздо дешевле квартиры на первом.<br>\n",
    "Так же наблюдается корреляцие в зависимиости от месяца публикации, причем мы имеем 3 небольших пика в апреле, сентябре и декабре.<br>\n",
    "Что касается зависимости от площади - она есть, но это очевидно - больше площадь, выше цена, а вот с количеством комнат корреляция уже ниже, т.к. и между площадью и количеством комнат корреляция не совсем прямая. "
   ]
  },
  {
   "cell_type": "markdown",
   "metadata": {},
   "source": [
    "<div style=\"border:solid steelblue 3px; padding: 20px\">\n",
    "<font size=\"4\"><b>🍕 Комментарий ревьюера</b></font>\n",
    "    <br /> \n",
    "        <font size=\"3\", color = \"black\">\n",
    "            <br /> Эхх, где же этот 2014 год...\n",
    "            \n",
    "Вывод о том, что цена в 2014 году была выше м.б. влиянием  низкой базы (малое кол-во объявлений)\n",
    "            \n",
    "В 2014 году сервисом пользовалась лишь малая часть людей, стоимость недвижимости у которых была выше средней по рынку (и медиана выше), а в последующие годы «подтянулся» массовый продавец и цена пополза вниз...\n",
    "            \n",
    "Посмотрим на кол-во объявлений df['year_exposition'].value_counts().to_frame().sort_values(by = 'year_exposition')\n",
    "\n",
    "    year_exposition\n",
    "    2014\t132\n",
    "    2015\t1154\n",
    "    2016\t2667\n",
    "    2017\t7825\n",
    "    2018\t7998\n",
    "    2019\t2722\n",
    "            \n",
    "💭 (кол-во объявлений соотв-т более полной версии датасета)\n",
    "            \n",
    "Плюс возможно, это стоит проверить как гипотезу, у нас неполный 2019 год, люди начинают снижать цены к концу года, чтобы продать, и это самый жаркий период у риэлторов, значит подъем 2019 года также можно объяснить малой величиной выборки, массовый продавец еще не пришел в 2019 году на сервис :) это гипотеза, которую можно проверить "
   ]
  },
  {
   "cell_type": "markdown",
   "metadata": {},
   "source": [
    "<div style=\"border:solid steelblue 3px; padding: 20px\">\n",
    "<font size=\"4\"><b>🍕 Комментарий ревьюера</b></font>\n",
    "    <br /> \n",
    "        <font size=\"3\", color = \"black\">\n",
    "            <br />\n",
    "На мой взгляд нельзя слишком агрегировать временные данные, что может значить по вторникам за 4,5 года цена условно была выше, чем в ..., а как повлияло на это элитная недвижимость...\n",
    "            \n",
    "Еще один вариант анализа изменения цен на длинных периодах"
   ]
  },
  {
   "cell_type": "code",
   "execution_count": 38,
   "metadata": {},
   "outputs": [
    {
     "data": {
      "image/png": "[encoded data removed]",
      "text/plain": [
       "<Figure size 1296x648 with 1 Axes>"
      ]
     },
     "metadata": {
      "needs_background": "light"
     },
     "output_type": "display_data"
    }
   ],
   "source": [
    "# код от ревьюера\n",
    "\n",
    "( pd.DataFrame(df.groupby(['year_exposition', 'month_exposition'])['square_m2_cost']\n",
    "                 .mean())\n",
    "                 .sort_values(['year_exposition'],ascending=True)\n",
    "                 .plot(figsize=(18,9)) \n",
    ");"
   ]
  },
  {
   "cell_type": "markdown",
   "metadata": {},
   "source": [
    "### Анализ населенных пунктов с наибольшим числом объявлений:"
   ]
  },
  {
   "cell_type": "code",
   "execution_count": 39,
   "metadata": {},
   "outputs": [
    {
     "data": {
      "text/html": [
       "<div>\n",
       "<style scoped>\n",
       "    .dataframe tbody tr th:only-of-type {\n",
       "        vertical-align: middle;\n",
       "    }\n",
       "\n",
       "    .dataframe tbody tr th {\n",
       "        vertical-align: top;\n",
       "    }\n",
       "\n",
       "    .dataframe thead tr th {\n",
       "        text-align: left;\n",
       "    }\n",
       "\n",
       "    .dataframe thead tr:last-of-type th {\n",
       "        text-align: right;\n",
       "    }\n",
       "</style>\n",
       "<table border=\"1\" class=\"dataframe\">\n",
       "  <thead>\n",
       "    <tr>\n",
       "      <th></th>\n",
       "      <th>mean</th>\n",
       "      <th>count</th>\n",
       "    </tr>\n",
       "    <tr>\n",
       "      <th></th>\n",
       "      <th>square_m2_cost</th>\n",
       "      <th>square_m2_cost</th>\n",
       "    </tr>\n",
       "    <tr>\n",
       "      <th>locality_name</th>\n",
       "      <th></th>\n",
       "      <th></th>\n",
       "    </tr>\n",
       "  </thead>\n",
       "  <tbody>\n",
       "    <tr>\n",
       "      <td>Санкт-Петербург</td>\n",
       "      <td>114851.237592</td>\n",
       "      <td>15652</td>\n",
       "    </tr>\n",
       "    <tr>\n",
       "      <td>посёлок Мурино</td>\n",
       "      <td>85725.241381</td>\n",
       "      <td>520</td>\n",
       "    </tr>\n",
       "    <tr>\n",
       "      <td>посёлок Шушары</td>\n",
       "      <td>78677.364217</td>\n",
       "      <td>440</td>\n",
       "    </tr>\n",
       "    <tr>\n",
       "      <td>Всеволожск</td>\n",
       "      <td>68973.242164</td>\n",
       "      <td>394</td>\n",
       "    </tr>\n",
       "    <tr>\n",
       "      <td>Пушкин</td>\n",
       "      <td>103147.825496</td>\n",
       "      <td>366</td>\n",
       "    </tr>\n",
       "    <tr>\n",
       "      <td>Колпино</td>\n",
       "      <td>75443.972838</td>\n",
       "      <td>337</td>\n",
       "    </tr>\n",
       "    <tr>\n",
       "      <td>посёлок Парголово</td>\n",
       "      <td>90362.345200</td>\n",
       "      <td>325</td>\n",
       "    </tr>\n",
       "    <tr>\n",
       "      <td>Гатчина</td>\n",
       "      <td>69546.311856</td>\n",
       "      <td>301</td>\n",
       "    </tr>\n",
       "    <tr>\n",
       "      <td>деревня Кудрово</td>\n",
       "      <td>92473.547576</td>\n",
       "      <td>299</td>\n",
       "    </tr>\n",
       "    <tr>\n",
       "      <td>Выборг</td>\n",
       "      <td>59815.861238</td>\n",
       "      <td>222</td>\n",
       "    </tr>\n",
       "  </tbody>\n",
       "</table>\n",
       "</div>"
      ],
      "text/plain": [
       "                            mean          count\n",
       "                  square_m2_cost square_m2_cost\n",
       "locality_name                                  \n",
       "Санкт-Петербург    114851.237592          15652\n",
       "посёлок Мурино      85725.241381            520\n",
       "посёлок Шушары      78677.364217            440\n",
       "Всеволожск          68973.242164            394\n",
       "Пушкин             103147.825496            366\n",
       "Колпино             75443.972838            337\n",
       "посёлок Парголово   90362.345200            325\n",
       "Гатчина             69546.311856            301\n",
       "деревня Кудрово     92473.547576            299\n",
       "Выборг              59815.861238            222"
      ]
     },
     "execution_count": 39,
     "metadata": {},
     "output_type": "execute_result"
    }
   ],
   "source": [
    "(\n",
    "    df.pivot_table(index='locality_name', values='square_m2_cost', aggfunc=['mean', 'count'])\n",
    "    .sort_values(by=[('count','square_m2_cost')], ascending=False).head(10)\n",
    ")"
   ]
  },
  {
   "cell_type": "markdown",
   "metadata": {},
   "source": [
    "<div style=\"border:solid steelblue 3px; padding: 20px\">\n",
    "<font size=\"4\">🍕<b> Комментарий ревьюера</b></font>\n",
    "<br /> \n",
    "<font size=\"3\", color = \"black\">\n",
    "<br />\n",
    "не хватает для наглядности графика, показатели всегда легче сравнивать в графическом виде"
   ]
  },
  {
   "cell_type": "markdown",
   "metadata": {},
   "source": [
    "Наибольшая стоимость квадратного метра жилья - в Санкт-Петребурге, наименьшая из предстваленных = в Выборге."
   ]
  },
  {
   "cell_type": "code",
   "execution_count": 40,
   "metadata": {},
   "outputs": [
    {
     "name": "stdout",
     "output_type": "stream",
     "text": [
      "<class 'pandas.core.frame.DataFrame'>\n",
      "Int64Index: 22498 entries, 0 to 23698\n",
      "Data columns (total 29 columns):\n",
      "total_images             22498 non-null int64\n",
      "last_price               22498 non-null int32\n",
      "total_area               22498 non-null float64\n",
      "first_day_exposition     22498 non-null datetime64[ns]\n",
      "rooms                    22498 non-null int64\n",
      "ceiling_height           22498 non-null float64\n",
      "floors_total             22498 non-null int32\n",
      "living_area              22498 non-null float64\n",
      "floor                    22498 non-null int64\n",
      "is_apartment             22498 non-null bool\n",
      "studio                   22498 non-null bool\n",
      "open_plan                22498 non-null bool\n",
      "kitchen_area             22293 non-null float64\n",
      "balcony                  22498 non-null int32\n",
      "locality_name            22450 non-null object\n",
      "airports_nearest         18221 non-null float64\n",
      "city_centers_nearest     18099 non-null float64\n",
      "parks_around3000         22498 non-null int32\n",
      "parks_nearest            17588 non-null float64\n",
      "ponds_around3000         22498 non-null int32\n",
      "ponds_nearest            18102 non-null float64\n",
      "days_exposition          19562 non-null float64\n",
      "square_m2_cost           22498 non-null float64\n",
      "week_exposition          22498 non-null int64\n",
      "month_exposition         22498 non-null int64\n",
      "year_exposition          22498 non-null int64\n",
      "floor_name               22498 non-null object\n",
      "living_to_total_area     22498 non-null float64\n",
      "kitchen_to_total_area    22293 non-null float64\n",
      "dtypes: bool(3), datetime64[ns](1), float64(12), int32(5), int64(6), object(2)\n",
      "memory usage: 4.9+ MB\n"
     ]
    }
   ],
   "source": [
    "df.info()"
   ]
  },
  {
   "cell_type": "markdown",
   "metadata": {},
   "source": [
    "<div style=\"border:solid steelblue 3px; padding: 20px\">\n",
    "<font size=\"4\">🍕<b> Комментарий ревьюера</b></font>\n",
    "<br /> \n",
    "<font size=\"3\", color = \"black\">\n",
    "<br />\n",
    "Снижает размерность чисел для вывода на экран на всем проекте, + должно помочь с экспоненциальной записью чисел\n",
    "\n",
    "    pd.options.display.float_format = '{:,.2f}'.format\n",
    "    \n",
    "Строку кода, стоит помещать в начало проекта после блока с импортом библиотек"
   ]
  },
  {
   "cell_type": "markdown",
   "metadata": {},
   "source": [
    "### Анализ расстояния до центра СПб"
   ]
  },
  {
   "cell_type": "code",
   "execution_count": 41,
   "metadata": {
    "scrolled": true
   },
   "outputs": [
    {
     "data": {
      "text/html": [
       "<div>\n",
       "<style scoped>\n",
       "    .dataframe tbody tr th:only-of-type {\n",
       "        vertical-align: middle;\n",
       "    }\n",
       "\n",
       "    .dataframe tbody tr th {\n",
       "        vertical-align: top;\n",
       "    }\n",
       "\n",
       "    .dataframe thead th {\n",
       "        text-align: right;\n",
       "    }\n",
       "</style>\n",
       "<table border=\"1\" class=\"dataframe\">\n",
       "  <thead>\n",
       "    <tr style=\"text-align: right;\">\n",
       "      <th></th>\n",
       "      <th>total_images</th>\n",
       "      <th>last_price</th>\n",
       "      <th>total_area</th>\n",
       "      <th>first_day_exposition</th>\n",
       "      <th>rooms</th>\n",
       "      <th>ceiling_height</th>\n",
       "      <th>floors_total</th>\n",
       "      <th>living_area</th>\n",
       "      <th>floor</th>\n",
       "      <th>is_apartment</th>\n",
       "      <th>...</th>\n",
       "      <th>ponds_nearest</th>\n",
       "      <th>days_exposition</th>\n",
       "      <th>square_m2_cost</th>\n",
       "      <th>week_exposition</th>\n",
       "      <th>month_exposition</th>\n",
       "      <th>year_exposition</th>\n",
       "      <th>floor_name</th>\n",
       "      <th>living_to_total_area</th>\n",
       "      <th>kitchen_to_total_area</th>\n",
       "      <th>spb_to_center_km</th>\n",
       "    </tr>\n",
       "  </thead>\n",
       "  <tbody>\n",
       "    <tr>\n",
       "      <td>0</td>\n",
       "      <td>20</td>\n",
       "      <td>13000000</td>\n",
       "      <td>108.0</td>\n",
       "      <td>2019-03-07</td>\n",
       "      <td>3</td>\n",
       "      <td>2.70</td>\n",
       "      <td>16</td>\n",
       "      <td>51.0</td>\n",
       "      <td>8</td>\n",
       "      <td>False</td>\n",
       "      <td>...</td>\n",
       "      <td>755.000000</td>\n",
       "      <td>NaN</td>\n",
       "      <td>120370.370370</td>\n",
       "      <td>3</td>\n",
       "      <td>3</td>\n",
       "      <td>2019</td>\n",
       "      <td>другой</td>\n",
       "      <td>0.472222</td>\n",
       "      <td>0.231481</td>\n",
       "      <td>16.0</td>\n",
       "    </tr>\n",
       "    <tr>\n",
       "      <td>1</td>\n",
       "      <td>7</td>\n",
       "      <td>3350000</td>\n",
       "      <td>40.4</td>\n",
       "      <td>2018-12-04</td>\n",
       "      <td>1</td>\n",
       "      <td>2.65</td>\n",
       "      <td>11</td>\n",
       "      <td>18.6</td>\n",
       "      <td>1</td>\n",
       "      <td>False</td>\n",
       "      <td>...</td>\n",
       "      <td>573.217105</td>\n",
       "      <td>81.0</td>\n",
       "      <td>82920.792079</td>\n",
       "      <td>1</td>\n",
       "      <td>12</td>\n",
       "      <td>2018</td>\n",
       "      <td>первый</td>\n",
       "      <td>0.460396</td>\n",
       "      <td>0.272277</td>\n",
       "      <td>NaN</td>\n",
       "    </tr>\n",
       "    <tr>\n",
       "      <td>2</td>\n",
       "      <td>10</td>\n",
       "      <td>5196000</td>\n",
       "      <td>56.0</td>\n",
       "      <td>2015-08-20</td>\n",
       "      <td>2</td>\n",
       "      <td>2.65</td>\n",
       "      <td>5</td>\n",
       "      <td>34.3</td>\n",
       "      <td>4</td>\n",
       "      <td>False</td>\n",
       "      <td>...</td>\n",
       "      <td>574.000000</td>\n",
       "      <td>558.0</td>\n",
       "      <td>92785.714286</td>\n",
       "      <td>3</td>\n",
       "      <td>8</td>\n",
       "      <td>2015</td>\n",
       "      <td>другой</td>\n",
       "      <td>0.612500</td>\n",
       "      <td>0.148214</td>\n",
       "      <td>14.0</td>\n",
       "    </tr>\n",
       "    <tr>\n",
       "      <td>3</td>\n",
       "      <td>0</td>\n",
       "      <td>64900000</td>\n",
       "      <td>159.0</td>\n",
       "      <td>2015-07-24</td>\n",
       "      <td>3</td>\n",
       "      <td>2.65</td>\n",
       "      <td>14</td>\n",
       "      <td>45.0</td>\n",
       "      <td>9</td>\n",
       "      <td>False</td>\n",
       "      <td>...</td>\n",
       "      <td>234.000000</td>\n",
       "      <td>424.0</td>\n",
       "      <td>408176.100629</td>\n",
       "      <td>4</td>\n",
       "      <td>7</td>\n",
       "      <td>2015</td>\n",
       "      <td>другой</td>\n",
       "      <td>0.283019</td>\n",
       "      <td>0.059748</td>\n",
       "      <td>7.0</td>\n",
       "    </tr>\n",
       "    <tr>\n",
       "      <td>4</td>\n",
       "      <td>2</td>\n",
       "      <td>10000000</td>\n",
       "      <td>100.0</td>\n",
       "      <td>2018-06-19</td>\n",
       "      <td>2</td>\n",
       "      <td>3.03</td>\n",
       "      <td>14</td>\n",
       "      <td>32.0</td>\n",
       "      <td>13</td>\n",
       "      <td>False</td>\n",
       "      <td>...</td>\n",
       "      <td>48.000000</td>\n",
       "      <td>121.0</td>\n",
       "      <td>100000.000000</td>\n",
       "      <td>1</td>\n",
       "      <td>6</td>\n",
       "      <td>2018</td>\n",
       "      <td>другой</td>\n",
       "      <td>0.320000</td>\n",
       "      <td>0.410000</td>\n",
       "      <td>8.0</td>\n",
       "    </tr>\n",
       "  </tbody>\n",
       "</table>\n",
       "<p>5 rows × 30 columns</p>\n",
       "</div>"
      ],
      "text/plain": [
       "   total_images  last_price  total_area first_day_exposition  rooms  \\\n",
       "0            20    13000000       108.0           2019-03-07      3   \n",
       "1             7     3350000        40.4           2018-12-04      1   \n",
       "2            10     5196000        56.0           2015-08-20      2   \n",
       "3             0    64900000       159.0           2015-07-24      3   \n",
       "4             2    10000000       100.0           2018-06-19      2   \n",
       "\n",
       "   ceiling_height  floors_total  living_area  floor  is_apartment  ...  \\\n",
       "0            2.70            16         51.0      8         False  ...   \n",
       "1            2.65            11         18.6      1         False  ...   \n",
       "2            2.65             5         34.3      4         False  ...   \n",
       "3            2.65            14         45.0      9         False  ...   \n",
       "4            3.03            14         32.0     13         False  ...   \n",
       "\n",
       "   ponds_nearest  days_exposition  square_m2_cost  week_exposition  \\\n",
       "0     755.000000              NaN   120370.370370                3   \n",
       "1     573.217105             81.0    82920.792079                1   \n",
       "2     574.000000            558.0    92785.714286                3   \n",
       "3     234.000000            424.0   408176.100629                4   \n",
       "4      48.000000            121.0   100000.000000                1   \n",
       "\n",
       "  month_exposition  year_exposition  floor_name  living_to_total_area  \\\n",
       "0                3             2019      другой              0.472222   \n",
       "1               12             2018      первый              0.460396   \n",
       "2                8             2015      другой              0.612500   \n",
       "3                7             2015      другой              0.283019   \n",
       "4                6             2018      другой              0.320000   \n",
       "\n",
       "   kitchen_to_total_area  spb_to_center_km  \n",
       "0               0.231481              16.0  \n",
       "1               0.272277               NaN  \n",
       "2               0.148214              14.0  \n",
       "3               0.059748               7.0  \n",
       "4               0.410000               8.0  \n",
       "\n",
       "[5 rows x 30 columns]"
      ]
     },
     "execution_count": 41,
     "metadata": {},
     "output_type": "execute_result"
    }
   ],
   "source": [
    "#найдем расстояние до центра в километрах\n",
    "df['spb_to_center_km']= round(df.query('locality_name == \"Санкт-Петербург\"')['city_centers_nearest']/1000 , 0)\n",
    "df.head()"
   ]
  },
  {
   "cell_type": "code",
   "execution_count": 42,
   "metadata": {},
   "outputs": [
    {
     "data": {
      "text/plain": [
       "<matplotlib.axes._subplots.AxesSubplot at 0x7f42f91165d0>"
      ]
     },
     "execution_count": 42,
     "metadata": {},
     "output_type": "execute_result"
    },
    {
     "data": {
      "image/png": "[encoded data removed]",
      "text/plain": [
       "<Figure size 1080x360 with 1 Axes>"
      ]
     },
     "metadata": {
      "needs_background": "light"
     },
     "output_type": "display_data"
    }
   ],
   "source": [
    "#построим график зависимости стоимости от расстояния до центра\n",
    "(\n",
    "    df.pivot_table(index='spb_to_center_km', values='square_m2_cost')\n",
    "    .plot(y='square_m2_cost', grid=True, figsize=(15,5))\n",
    ")"
   ]
  },
  {
   "cell_type": "markdown",
   "metadata": {},
   "source": [
    "Судя по графику, центральной зоной является третий километр от центра, здесь мы видим явный перегиб и резкий рост цен."
   ]
  },
  {
   "cell_type": "markdown",
   "metadata": {},
   "source": [
    "<div class=\"alert alert-warning\", style=\"border:solid coral 3px; padding: 20px\">\n",
    "<font size=\"4\"><b>⚠️ Комментарий ревьюера</b></font>\n",
    "    <br /> \n",
    "    <font size=\"3\", color = \"black\">\n",
    "<br />\n",
    "Длина Невского проспекта порядка 4,5 км, для центра Питера 3 км., слишком маленький радиус, + на 3-м километре, мог попасться аварийный объект..."
   ]
  },
  {
   "cell_type": "markdown",
   "metadata": {},
   "source": [
    "### Анализ квартир в центре"
   ]
  },
  {
   "cell_type": "code",
   "execution_count": 43,
   "metadata": {
    "scrolled": false
   },
   "outputs": [
    {
     "data": {
      "text/plain": [
       "85.0"
      ]
     },
     "metadata": {},
     "output_type": "display_data"
    },
    {
     "data": {
      "image/png": "[encoded data removed]",
      "text/plain": [
       "<Figure size 432x288 with 1 Axes>"
      ]
     },
     "metadata": {
      "needs_background": "light"
     },
     "output_type": "display_data"
    }
   ],
   "source": [
    "#рассмотрим распределение площадей квартир в центре\n",
    "display(df[df['spb_to_center_km']<=3]['total_area'].median())\n",
    "df[df['spb_to_center_km']<=3]['total_area'].hist(bins=30);"
   ]
  },
  {
   "cell_type": "code",
   "execution_count": 44,
   "metadata": {
    "scrolled": false
   },
   "outputs": [
    {
     "data": {
      "text/plain": [
       "9825000.0"
      ]
     },
     "metadata": {},
     "output_type": "display_data"
    },
    {
     "data": {
      "image/png": "[encoded data removed]",
      "text/plain": [
       "<Figure size 432x288 with 1 Axes>"
      ]
     },
     "metadata": {
      "needs_background": "light"
     },
     "output_type": "display_data"
    }
   ],
   "source": [
    "#рассмотрим распределение цен квартир в центре \n",
    "display(df[df['spb_to_center_km']<=3]['last_price'].median())\n",
    "df[df['spb_to_center_km']<=3]['last_price'].hist(bins=50);"
   ]
  },
  {
   "cell_type": "code",
   "execution_count": 45,
   "metadata": {
    "scrolled": true
   },
   "outputs": [
    {
     "data": {
      "image/png": "[encoded data removed]",
      "text/plain": [
       "<Figure size 432x288 with 1 Axes>"
      ]
     },
     "metadata": {
      "needs_background": "light"
     },
     "output_type": "display_data"
    }
   ],
   "source": [
    "#рассмотрим распределение количетсва комнат квартир в центре \n",
    "df[df['spb_to_center_km']<=3]['rooms'].hist(bins=15);"
   ]
  },
  {
   "cell_type": "code",
   "execution_count": 46,
   "metadata": {
    "scrolled": true
   },
   "outputs": [
    {
     "data": {
      "image/png": "[encoded data removed]",
      "text/plain": [
       "<Figure size 432x288 with 1 Axes>"
      ]
     },
     "metadata": {
      "needs_background": "light"
     },
     "output_type": "display_data"
    }
   ],
   "source": [
    "#рассмотрим распределение высоты потолков квартир в центре \n",
    "df[df['spb_to_center_km']<=3]['ceiling_height'].hist(bins=20);"
   ]
  },
  {
   "cell_type": "code",
   "execution_count": 47,
   "metadata": {
    "scrolled": true
   },
   "outputs": [
    {
     "data": {
      "image/png": "[encoded data removed]",
      "text/plain": [
       "<Figure size 432x288 with 1 Axes>"
      ]
     },
     "metadata": {
      "needs_background": "light"
     },
     "output_type": "display_data"
    }
   ],
   "source": [
    "#рассмотрим зависимость цены от расстояния до центра\n",
    "sns.scatterplot(x='city_centers_nearest', y='last_price', data=df[df['spb_to_center_km']<=3]) \n",
    "plt.show()"
   ]
  },
  {
   "cell_type": "code",
   "execution_count": 48,
   "metadata": {
    "scrolled": true
   },
   "outputs": [
    {
     "data": {
      "image/png": "[encoded data removed]",
      "text/plain": [
       "<Figure size 432x288 with 1 Axes>"
      ]
     },
     "metadata": {
      "needs_background": "light"
     },
     "output_type": "display_data"
    }
   ],
   "source": [
    "# построим график зависимости цены за м2 от количества компнат\n",
    "sns.barplot(x=\"rooms\", y=\"square_m2_cost\", data=df[df['spb_to_center_km']<=3], ci=None)\n",
    "plt.show()"
   ]
  },
  {
   "cell_type": "code",
   "execution_count": 49,
   "metadata": {
    "scrolled": false
   },
   "outputs": [
    {
     "data": {
      "image/png": "[encoded data removed]",
      "text/plain": [
       "<Figure size 432x288 with 1 Axes>"
      ]
     },
     "metadata": {
      "needs_background": "light"
     },
     "output_type": "display_data"
    }
   ],
   "source": [
    "# построим график зависимости цены от количества комнат\n",
    "sns.barplot(x=\"rooms\", y=\"last_price\", data=df[df['spb_to_center_km']<=3], ci=None)\n",
    "plt.show()"
   ]
  },
  {
   "cell_type": "code",
   "execution_count": 50,
   "metadata": {
    "scrolled": true
   },
   "outputs": [
    {
     "data": {
      "image/png": "[encoded data removed]",
      "text/plain": [
       "<Figure size 432x288 with 1 Axes>"
      ]
     },
     "metadata": {
      "needs_background": "light"
     },
     "output_type": "display_data"
    }
   ],
   "source": [
    "# построим график зависимости цены от этажа\n",
    "sns.barplot(x=\"floor_name\", y=\"square_m2_cost\", data=df[df['spb_to_center_km']<=3], ci=None)\n",
    "plt.show()"
   ]
  },
  {
   "cell_type": "code",
   "execution_count": 51,
   "metadata": {
    "scrolled": false
   },
   "outputs": [
    {
     "data": {
      "image/png": "[encoded data removed]",
      "text/plain": [
       "<Figure size 432x288 with 1 Axes>"
      ]
     },
     "metadata": {
      "needs_background": "light"
     },
     "output_type": "display_data"
    }
   ],
   "source": [
    "# построим график зависимости цены от месяца публикации\n",
    "sns.barplot(x=\"month_exposition\", y=\"last_price\", data=df[df['spb_to_center_km']<=3], ci=None)\n",
    "plt.show()"
   ]
  },
  {
   "cell_type": "code",
   "execution_count": 52,
   "metadata": {},
   "outputs": [
    {
     "data": {
      "image/png": "[encoded data removed]",
      "text/plain": [
       "<Figure size 432x288 with 1 Axes>"
      ]
     },
     "metadata": {
      "needs_background": "light"
     },
     "output_type": "display_data"
    }
   ],
   "source": [
    "# построим график зависимости цены от высоты потолков\n",
    "sns.scatterplot(x=\"ceiling_height\", y=\"last_price\", data=df[df['spb_to_center_km']<=3], ci=None)\n",
    "plt.show()"
   ]
  },
  {
   "cell_type": "markdown",
   "metadata": {},
   "source": [
    "**Расстояние до центра:** Если рассматривать квартиры в центральной области - то расстояние до центра уже не играет роли, значит и расстояние мы определили верно. <br>\n",
    "**Комнаты:** Большинство квартир в центре - 2х  или 3х комнатные, однако, что интересно 4х комнатных квартир здесь больше, чем 1-комнатных. Похоже наследие комуналок и общая стоимость жилья в данном районе дает о себе знать. Что касается влияния количества комнат на цену - то, за исключением явного вылета 9-комнтатной квартиры, 5-7 комнат это тот предел, выше которого уже нет пропорционального роста цен, дальше, похоже на то, что это уже какие то коммунальные квартиры. <br>\n",
    "**Этажи:** Так же интересно увидеть изменение тренда зависимости цен от этажа: первый этаж - цены ниже, что связано с большим количеством туристов, которые явно не вносят комфорта в проживание. Но и последние этажи тоже дешевле, похоже, старый жилой фонд плохо справляется с сезонными таяниями снега, возможно, есть проблема и в руферах, которые водят экскурсии по крышам.<br>\n",
    "**Месяц продажи:** Интересно наблюдать на явное усиления тренда, который мы видели ранее и увеличение продаж лбъявлений опубликованных в апреле, августе и декабре. При медиане срока продаж в 3 месяца, сроки покупки где-то в районе июля, ноября и марта. Похоже, что люди обзаводятся жильем прямо под новый год, либо уже после новогодних праздников. Продажи в июле могут связаны с приобретением жилья в период между школьными классами / курсами университета, для того, чтобы при переезде не нарушать учебный процесс.<br>\n",
    "**Высота потолков:** Статистически интересных данных по этой выборке почти не наблюдается. Возможно это связано с особенностями заполнения пропусков, учитывая какая рваная линия образуется на уровне 2,7м. В таком случае, во первых, потолки в квартирах в центре достаточно высокие, выше 3м, что говорит, скорее о том, что строились они во времена, когда высота диктовалась ни СНИПами и желенаями девелоперов, во-вторых, есть пул достаточно дорогих квартир с высотой потолков выше среднего: 3-4 метра, что скорее всего недалеко от истины - при прочих равных высокий потолок лучше передает ощущения свободного пространства, которое и сказвается на более высокой цене. <br>\n",
    "**Площадь и цена квартир:** Медиана площади квартир в центре 85м2 при медиане в целом по совокупности 52м2 - квартиры в центре в 1,5 раза больше, медиана по цене выше в 2 раза и соствляет почти 10млн.руб. - в центре мы имеем большие и дорогие квартиры, с высокими потолками и в среднем с большим количеством комнат. Каждый фактор в отдельности и все в совокупонсти говорит нам о меньшей доступности данной категории жилья."
   ]
  },
  {
   "cell_type": "markdown",
   "metadata": {},
   "source": [
    "<div class=\"alert alert-success\">\n",
    "<font size=\"4\", color= \"seagreen\"><b>✔️ Комментарий ревьюера</b></font>\n",
    "    <br /> \n",
    "    <font size=\"3\", color = \"black\">\n",
    "<br /> В выводе чувствуется влияние богатого жизненного опыта :)"
   ]
  },
  {
   "cell_type": "markdown",
   "metadata": {},
   "source": [
    "<div class=\"alert alert\">\n",
    "<font size=\"4\"><b>❌ Комментарий ревьюера</b></font>\n",
    "    <br /> \n",
    "    <font size=\"3\", color = \"black\">\n",
    "<br />\n",
    "        остался не выполненным раздел\n",
    "        \n",
    " + «Выделите сегмент квартир в центре. Проанализируйте эту территорию и изучите следующие параметры: площадь, цена, число комнат, высота потолков. "
   ]
  },
  {
   "cell_type": "markdown",
   "metadata": {},
   "source": [
    " ###### <span style=\"color:blue\">Комментарий студента:</span>\n",
    "Добавил пропущенный сегмент, полученными выводами дополнил вышеуказанные выводы."
   ]
  },
  {
   "cell_type": "markdown",
   "metadata": {},
   "source": [
    "<div class=\"alert alert-success\">\n",
    "<font size=\"4\"><b>Комментарий ревьюера V2</b></font>\n",
    "    <br /> \n",
    "    <font size=\"3\", color = \"black\">\n",
    "<br />\n",
    "✓"
   ]
  },
  {
   "cell_type": "markdown",
   "metadata": {},
   "source": [
    "## Общий вывод"
   ]
  },
  {
   "cell_type": "markdown",
   "metadata": {},
   "source": [
    "###### Изучение и обработка данных:\n",
    "Полученный датасет имеет большое количество пропущенных данных. Отчасти, это может быть связано с несовершенством площадок сбора информации, особенно что касается ранних периодов. Однако необходимо автоматизировать заполнение полей, чтобы очевидные цифры заполнялись не только вручную, там где нужно, дать только какой то из вариантов выбора - все это снизит процент ошибок при заполнении и упростит изучение информации. <br>\n",
    "\n",
    "###### Добавление расчетов в таблицу:\n",
    "Представленной таблице очень не хватает стоимости квадратного метра жилья - одного из основных параметров при сравнении жилья, который вычисляется очень просто и можно добавить в автоматизированный расчет. Вариативность по названию этажей тоже простой к вычислению параметр, он, исходя из проведенных исследований для СПб, особенно для центра, очень важен, такой фильтр упростил бы поиск по параметрам. Ну и метрики соотнешения жилой и не жилой зоны, жилой зоны и кухни - тоже не маловажно, особенно для небольших помещений, где наиболее сильно ощуащется грамотное зонирование, да и отсечь хрущевки и брежневки этим тоже можно.<br>\n",
    "\n",
    "###### Исследование данных:\n",
    "- Обнаружено несколько ошибок данных - в высоте потолков прослеживаются явные аномалии, как в сторону гигантских высот, так и метровых потолков, по данному признаку мы квартиры отфильтровали. Есть так же аномалии в стоимости жилья, предполагаю, что в данный датасет могли попасть данные аренды квартир, поэтому их пришлось так же отфильтровать по стоимости за 1м2. Что касается максимальных площадей жилья, стоимости и количества комнат - без консультации с риэлтором тяжело будет проверить реальность этих данных, но с учетом того, как ровно распределены эти цифры, похоже на то, что ошибок нет.\n",
    "- Выявлено распределение площадей квартир напоминающее распределение Пуассона, что логично, основаная доля квартир - это одно-, двух-комнатные квартиры, со средней площадью около 50-60м2.\n",
    "- Выявлено влияние на стоимость квартиры расстояния от центра - чем ближе к центру, тем стоимость квартиры выше, пиковы значения цен, соответствуют ближайшим точкам к центру. Однако в самом центральном районе, который соответствует расстоянию около 3х километров от центра, расстояние до центра уже роли не играет.\n",
    "- Так же характерно влияние этажа жилья - дороже всего квартиры на верхнем этаже, наиболее дешевые квартиры на первом. Данные верны, кроме района в центре, здесь мы встречаемся с туристическими особенностями Петербурга - толпы туристов мешающих жизни не первом этаже, руферы и ветхий фонд жилья снижающий комфорт жизни на последнем, и только квартиры между первым и последним этажами представляют наибольший интерес. Необходимо учитывать это при выборе жилья.\n",
    "- Наиболее дорогие квартиры, если мы говорим о большой выборке данных, представленны, естественно в Петербурге, особенно в центральной его части. Однако если решите продавать квартиру, то для публикации объявлений стоит выбирать апрель, август или декабрь - эти месяца наиболее сильно коррелируют со стоимостью продаж.\n",
    "- И конечно, печально видеть, как шло снижение снижение цен на жилье с 2014 года, тренд смогли переломить только дешевые ипотеки, которые начали выдавать с 2019 года."
   ]
  },
  {
   "cell_type": "markdown",
   "metadata": {},
   "source": [
    "<div class=\"alert alert-success\">\n",
    "<font size=\"5\", color = \"seagreen\"><b>✔️ Комментарий ревьюера V2</b></font>\n",
    "    <br /> \n",
    "    <font size=\"3\", color = \"black\">\n",
    "<br />    \n",
    "Спасибо за качественно выполненную работу, проект получился замечательным 💎💎💎💎💎\n",
    "               \n",
    "Поздравляю с успешно сданным третьим проектом на факультете дата-аналитики Я.П.\n",
    " \n",
    "<div class=\"alert alert-success\">\n",
    "    <font size=\"5\", color = \"seagreen\"><b>Успехов в дальнейшей учебе 🤝</b></font><br />"
   ]
  },
  {
   "cell_type": "markdown",
   "metadata": {},
   "source": [
    "<div class=\"alert alert-success\">\n",
    "<font size=\"5\", color = \"seagreen\"><b>✔️ Комментарий ревьюера</b></font>\n",
    "    <br /> \n",
    "    <font size=\"3\", color = \"black\">\n",
    "<br />    \n",
    "Уверенно выполненная исследовательская работа, раскрыта болшая часть нюансов рынка недвижимости, все по порядку и четко, с числами и графиками 💎💎💎💎💎\n",
    "        \n",
    "На проекте мы отрабатывали навыки:\n",
    "\n",
    "+ исследовать неочищенные данные\n",
    "+ выдвигать гипотезы о пропусках данных и заполнять их значениями\n",
    "+ принимать решения об удалении некачественных данных\n",
    "+ соглашаться с наличием пропусков в данных и не забывать об их наличии при фильтрации\n",
    "+ строить информативные визуализации\n",
    "+ делить одну выборку на две части\n",
    "+ находить зависимости и распределения в данных \n",
    "+ формировать выводы\n",
    "        \n",
    "Критические ❌ комментарии есть. С ними важно поработать и исправить + обратить внимание на оценку силы коэффициента корреляции — все значения в промежутке от -0.5 до 0.5 практически говорят об отсутствии линейной зависимости...\n",
    "              \n",
    "\n",
    "<div class=\"alert alert\">\n",
    "    <font size=\"5\", color = \"seagreen\"><b>Жду твой проект и твои комментарии 🤝</b></font><br />"
   ]
  },
  {
   "cell_type": "markdown",
   "metadata": {},
   "source": [
    "<div style=\"border:solid steelblue 3px; padding: 20px\">\n",
    "<font size=\"4\"><b>🍕 Комментарий ревьюера</b></font>\n",
    "    <br /> \n",
    "        <font size=\"3\", color = \"black\">\n",
    "            <br />\n",
    "        \n",
    "<p> Доп. материал. Интересные методы группировки и расчета суммы, средних и т.д.\n",
    "        \n",
    "[Подробное руководство по группировке и агрегированию с помощью pandas](https://dfedorov.spb.ru/pandas/%D0%9F%D0%BE%D0%B4%D1%80%D0%BE%D0%B1%D0%BD%D0%BE%D0%B5%20%D1%80%D1%83%D0%BA%D0%BE%D0%B2%D0%BE%D0%B4%D1%81%D1%82%D0%B2%D0%BE%20%D0%BF%D0%BE%20%D0%B3%D1%80%D1%83%D0%BF%D0%BF%D0%B8%D1%80%D0%BE%D0%B2%D0%BA%D0%B5%20%D0%B8%20%D0%B0%D0%B3%D1%80%D0%B5%D0%B3%D0%B8%D1%80%D0%BE%D0%B2%D0%B0%D0%BD%D0%B8%D1%8E%20%D1%81%20%D0%BF%D0%BE%D0%BC%D0%BE%D1%89%D1%8C%D1%8E%20pandas.html)\n",
    "\n",
    "на этом сайте есть и другие интересные материалы\n",
    "\n",
    "\n",
    "</div>"
   ]
  },
  {
   "cell_type": "markdown",
   "metadata": {},
   "source": [
    "<div style=\"border:solid steelblue 3px; padding: 20px\">\n",
    "<font size=\"4\">🍕<b> Комментарий ревьюера</b></font>\n",
    "<br /> \n",
    "<font size=\"3\", color = \"black\">\n",
    "<br />\n",
    "\n",
    "Графики в помощь"
   ]
  },
  {
   "cell_type": "code",
   "execution_count": 53,
   "metadata": {},
   "outputs": [
    {
     "data": {
      "image/png": "[encoded data removed]",
      "text/plain": [
       "<Figure size 1080x144 with 1 Axes>"
      ]
     },
     "metadata": {
      "needs_background": "light"
     },
     "output_type": "display_data"
    }
   ],
   "source": [
    "# я возьму радиус побольше\n",
    "df_center  = df[df['spb_to_center_km']<=8] \n",
    "\n",
    "# создаем выборки\n",
    "df_spb = pd.DataFrame(df_center.square_m2_cost)\n",
    "df_all = pd.DataFrame(df.square_m2_cost)\n",
    "\n",
    "# строим графики\n",
    "plt.figure(figsize=(15, 2))\n",
    "ax = sns.boxplot(x = [df_all, df_spb], y = ['Вся выборка', 'Центр Питера'], orient = 'h', palette = 'husl' )\n",
    "\n",
    "# масштаб оси\n",
    "plt.xlim(20_000, 250_000)\n",
    "\n",
    "# размер заголовка\n",
    "ax.set_title('Сравнение цен за кв. м. на 2-х выборках',\n",
    "                fontfamily = 'monospace',\n",
    "                fontstyle = 'normal',\n",
    "                fontsize = 14)\n",
    "\n",
    "# размер подписей оси y\n",
    "ax.set_yticklabels(['Вся выборка', 'Центр Питера'], fontsize = 12, fontfamily = 'monospace');"
   ]
  },
  {
   "cell_type": "code",
   "execution_count": 54,
   "metadata": {},
   "outputs": [
    {
     "data": {
      "image/png": "[encoded data removed]",
      "text/plain": [
       "<Figure size 720x720 with 20 Axes>"
      ]
     },
     "metadata": {
      "needs_background": "light"
     },
     "output_type": "display_data"
    }
   ],
   "source": [
    "spb_center_qut = df_center [['last_price', 'total_area', 'city_centers_nearest', 'rooms']]\n",
    "sns.pairplot(spb_center_qut );"
   ]
  },
  {
   "cell_type": "code",
   "execution_count": 55,
   "metadata": {},
   "outputs": [
    {
     "data": {
      "text/html": [
       "<div>\n",
       "<style scoped>\n",
       "    .dataframe tbody tr th:only-of-type {\n",
       "        vertical-align: middle;\n",
       "    }\n",
       "\n",
       "    .dataframe tbody tr th {\n",
       "        vertical-align: top;\n",
       "    }\n",
       "\n",
       "    .dataframe thead th {\n",
       "        text-align: right;\n",
       "    }\n",
       "</style>\n",
       "<table border=\"1\" class=\"dataframe\">\n",
       "  <thead>\n",
       "    <tr style=\"text-align: right;\">\n",
       "      <th></th>\n",
       "      <th>last_price</th>\n",
       "      <th>total_area</th>\n",
       "      <th>city_centers_nearest</th>\n",
       "      <th>rooms</th>\n",
       "    </tr>\n",
       "  </thead>\n",
       "  <tbody>\n",
       "    <tr>\n",
       "      <td>last_price</td>\n",
       "      <td>1.000000</td>\n",
       "      <td>0.637522</td>\n",
       "      <td>-0.080168</td>\n",
       "      <td>0.339662</td>\n",
       "    </tr>\n",
       "    <tr>\n",
       "      <td>total_area</td>\n",
       "      <td>0.637522</td>\n",
       "      <td>1.000000</td>\n",
       "      <td>-0.143123</td>\n",
       "      <td>0.744724</td>\n",
       "    </tr>\n",
       "    <tr>\n",
       "      <td>city_centers_nearest</td>\n",
       "      <td>-0.080168</td>\n",
       "      <td>-0.143123</td>\n",
       "      <td>1.000000</td>\n",
       "      <td>-0.209200</td>\n",
       "    </tr>\n",
       "    <tr>\n",
       "      <td>rooms</td>\n",
       "      <td>0.339662</td>\n",
       "      <td>0.744724</td>\n",
       "      <td>-0.209200</td>\n",
       "      <td>1.000000</td>\n",
       "    </tr>\n",
       "  </tbody>\n",
       "</table>\n",
       "</div>"
      ],
      "text/plain": [
       "                      last_price  total_area  city_centers_nearest     rooms\n",
       "last_price              1.000000    0.637522             -0.080168  0.339662\n",
       "total_area              0.637522    1.000000             -0.143123  0.744724\n",
       "city_centers_nearest   -0.080168   -0.143123              1.000000 -0.209200\n",
       "rooms                   0.339662    0.744724             -0.209200  1.000000"
      ]
     },
     "execution_count": 55,
     "metadata": {},
     "output_type": "execute_result"
    }
   ],
   "source": [
    "spb_center_qut.corr()"
   ]
  },
  {
   "cell_type": "code",
   "execution_count": 56,
   "metadata": {},
   "outputs": [
    {
     "data": {
      "image/png": "[encoded data removed]",
      "text/plain": [
       "<Figure size 720x720 with 20 Axes>"
      ]
     },
     "metadata": {
      "needs_background": "light"
     },
     "output_type": "display_data"
    }
   ],
   "source": [
    "sns.pairplot(df[['last_price', 'total_area', 'city_centers_nearest', 'rooms']]);"
   ]
  },
  {
   "cell_type": "code",
   "execution_count": 57,
   "metadata": {},
   "outputs": [
    {
     "data": {
      "text/html": [
       "<div>\n",
       "<style scoped>\n",
       "    .dataframe tbody tr th:only-of-type {\n",
       "        vertical-align: middle;\n",
       "    }\n",
       "\n",
       "    .dataframe tbody tr th {\n",
       "        vertical-align: top;\n",
       "    }\n",
       "\n",
       "    .dataframe thead th {\n",
       "        text-align: right;\n",
       "    }\n",
       "</style>\n",
       "<table border=\"1\" class=\"dataframe\">\n",
       "  <thead>\n",
       "    <tr style=\"text-align: right;\">\n",
       "      <th></th>\n",
       "      <th>last_price</th>\n",
       "      <th>total_area</th>\n",
       "      <th>city_centers_nearest</th>\n",
       "      <th>rooms</th>\n",
       "    </tr>\n",
       "  </thead>\n",
       "  <tbody>\n",
       "    <tr>\n",
       "      <td>last_price</td>\n",
       "      <td>1.000000</td>\n",
       "      <td>0.653309</td>\n",
       "      <td>-0.206964</td>\n",
       "      <td>0.369920</td>\n",
       "    </tr>\n",
       "    <tr>\n",
       "      <td>total_area</td>\n",
       "      <td>0.653309</td>\n",
       "      <td>1.000000</td>\n",
       "      <td>-0.230893</td>\n",
       "      <td>0.762576</td>\n",
       "    </tr>\n",
       "    <tr>\n",
       "      <td>city_centers_nearest</td>\n",
       "      <td>-0.206964</td>\n",
       "      <td>-0.230893</td>\n",
       "      <td>1.000000</td>\n",
       "      <td>-0.184393</td>\n",
       "    </tr>\n",
       "    <tr>\n",
       "      <td>rooms</td>\n",
       "      <td>0.369920</td>\n",
       "      <td>0.762576</td>\n",
       "      <td>-0.184393</td>\n",
       "      <td>1.000000</td>\n",
       "    </tr>\n",
       "  </tbody>\n",
       "</table>\n",
       "</div>"
      ],
      "text/plain": [
       "                      last_price  total_area  city_centers_nearest     rooms\n",
       "last_price              1.000000    0.653309             -0.206964  0.369920\n",
       "total_area              0.653309    1.000000             -0.230893  0.762576\n",
       "city_centers_nearest   -0.206964   -0.230893              1.000000 -0.184393\n",
       "rooms                   0.369920    0.762576             -0.184393  1.000000"
      ]
     },
     "execution_count": 57,
     "metadata": {},
     "output_type": "execute_result"
    }
   ],
   "source": [
    "df[['last_price', 'total_area', 'city_centers_nearest', 'rooms']].corr()"
   ]
  },
  {
   "cell_type": "markdown",
   "metadata": {},
   "source": [
    "## Чек-лист готовности проекта\n",
    "\n",
    "Поставьте 'x' в выполненных пунктах. Далее нажмите Shift+Enter."
   ]
  },
  {
   "cell_type": "markdown",
   "metadata": {},
   "source": [
    "- [x]  открыт файл\n",
    "- [x]  файлы изучены (выведены первые строки, метод `info()`)\n",
    "- [x]  определены пропущенные значения\n",
    "- [x]  заполнены пропущенные значения\n",
    "- [x]  есть пояснение, какие пропущенные значения обнаружены\n",
    "- [x]  изменены типы данных\n",
    "- [x]  есть пояснение, в каких столбцах изменены типы и почему\n",
    "- [x]  посчитано и добавлено в таблицу: цена квадратного метра\n",
    "- [x]  посчитано и добавлено в таблицу: день недели, месяц и год публикации объявления\n",
    "- [x]  посчитано и добавлено в таблицу: этаж квартиры; варианты — первый, последний, другой\n",
    "- [x]  посчитано и добавлено в таблицу: соотношение жилой и общей площади, а также отношение площади кухни к общей\n",
    "- [x]  изучены следующие параметры: площадь, цена, число комнат, высота потолков\n",
    "- [x]  построены гистограммы для каждого параметра\n",
    "- [x]  выполнено задание: «Изучите время продажи квартиры. Постройте гистограмму. Посчитайте среднее и медиану. Опишите, сколько обычно занимает продажа. Когда можно считать, что продажи прошли очень быстро, а когда необычно долго?»\n",
    "- [x]  выполнено задание: «Уберите редкие и выбивающиеся значения. Опишите, какие особенности обнаружили».\n",
    "- [x]  выполнено задание: «Какие факторы больше всего влияют на стоимость квартиры? Изучите, зависит ли цена от квадратного метра, числа комнат, этажа (первого или последнего), удалённости от центра. Также изучите зависимость от даты размещения: дня недели, месяца и года». \n",
    "- [x]  выполнено задание: «Выберите 10 населённых пунктов с наибольшим числом объявлений. Посчитайте среднюю цену квадратного метра в этих населённых пунктах. Выделите населённые пункты с самой высокой и низкой стоимостью жилья. Эти данные можно найти по имени в столбце `locality_name`».\n",
    "- [x]  выполнено задание: «Изучите предложения квартир: для каждой квартиры есть информация о расстоянии до центра. Выделите квартиры в Санкт-Петербурге (`locality_name`). Ваша задача — выяснить, какая область входит в центр. Создайте столбец с расстоянием до центра в километрах: округлите до целых значений. После этого посчитайте среднюю цену для каждого километра. Постройте график: он должен показывать, как цена зависит от удалённости от центра. Определите границу, где график сильно меняется — это и будет центральная зона».\n",
    "- [x]  выполнено задание: «Выделите сегмент квартир в центре. Проанализируйте эту территорию и изучите следующие параметры: площадь, цена, число комнат, высота потолков. Также выделите факторы, которые влияют на стоимость квартиры (число комнат, этаж, удалённость от центра, дата размещения объявления). Сделайте выводы. Отличаются ли они от общих выводов по всей базе?»\n",
    "- [x]  в каждом этапе есть выводы\n",
    "- [х]  есть общий вывод"
   ]
  }
 ],
 "metadata": {
  "ExecuteTimeLog": [
   {
    "duration": 85,
    "start_time": "2022-03-09T07:39:13.316Z"
   },
   {
    "duration": 296,
    "start_time": "2022-03-09T07:47:43.427Z"
   },
   {
    "duration": 1488,
    "start_time": "2022-03-09T07:47:54.451Z"
   },
   {
    "duration": 170,
    "start_time": "2022-03-09T07:47:55.941Z"
   },
   {
    "duration": 11,
    "start_time": "2022-03-09T07:47:56.117Z"
   },
   {
    "duration": 151,
    "start_time": "2022-03-09T07:47:56.130Z"
   },
   {
    "duration": 8,
    "start_time": "2022-03-09T07:47:56.284Z"
   },
   {
    "duration": 11,
    "start_time": "2022-03-09T07:47:56.295Z"
   },
   {
    "duration": 108,
    "start_time": "2022-03-09T07:47:56.308Z"
   },
   {
    "duration": 9,
    "start_time": "2022-03-09T07:47:56.419Z"
   },
   {
    "duration": 121,
    "start_time": "2022-03-09T07:47:56.431Z"
   },
   {
    "duration": 8,
    "start_time": "2022-03-09T07:47:56.555Z"
   },
   {
    "duration": 7681,
    "start_time": "2022-03-09T07:47:56.565Z"
   },
   {
    "duration": 8,
    "start_time": "2022-03-09T07:48:04.251Z"
   },
   {
    "duration": 6,
    "start_time": "2022-03-09T07:48:04.261Z"
   },
   {
    "duration": 2232,
    "start_time": "2022-03-09T07:48:04.270Z"
   },
   {
    "duration": 7,
    "start_time": "2022-03-09T07:48:06.505Z"
   },
   {
    "duration": 14,
    "start_time": "2022-03-09T07:48:06.514Z"
   },
   {
    "duration": 44,
    "start_time": "2022-03-09T07:48:06.551Z"
   },
   {
    "duration": 63,
    "start_time": "2022-03-09T07:48:06.597Z"
   },
   {
    "duration": 13,
    "start_time": "2022-03-09T07:48:06.662Z"
   },
   {
    "duration": 40,
    "start_time": "2022-03-09T07:48:06.677Z"
   },
   {
    "duration": 92,
    "start_time": "2022-03-09T07:48:06.719Z"
   },
   {
    "duration": 829,
    "start_time": "2022-03-09T07:48:06.813Z"
   },
   {
    "duration": 41,
    "start_time": "2022-03-09T07:48:07.644Z"
   },
   {
    "duration": 35,
    "start_time": "2022-03-09T07:48:07.687Z"
   },
   {
    "duration": 459,
    "start_time": "2022-03-09T07:48:07.725Z"
   },
   {
    "duration": 92,
    "start_time": "2022-03-09T07:48:08.189Z"
   },
   {
    "duration": 53,
    "start_time": "2022-03-09T07:48:08.231Z"
   },
   {
    "duration": 51,
    "start_time": "2022-03-09T07:48:08.234Z"
   },
   {
    "duration": 51,
    "start_time": "2022-03-09T07:48:08.236Z"
   },
   {
    "duration": 50,
    "start_time": "2022-03-09T07:48:08.238Z"
   },
   {
    "duration": 37,
    "start_time": "2022-03-09T07:48:08.252Z"
   },
   {
    "duration": 37,
    "start_time": "2022-03-09T07:48:08.253Z"
   },
   {
    "duration": 33,
    "start_time": "2022-03-09T07:48:08.259Z"
   },
   {
    "duration": 32,
    "start_time": "2022-03-09T07:48:08.261Z"
   },
   {
    "duration": 31,
    "start_time": "2022-03-09T07:48:08.263Z"
   },
   {
    "duration": 30,
    "start_time": "2022-03-09T07:48:08.265Z"
   },
   {
    "duration": 28,
    "start_time": "2022-03-09T07:48:08.268Z"
   },
   {
    "duration": 28,
    "start_time": "2022-03-09T07:48:08.270Z"
   },
   {
    "duration": 27,
    "start_time": "2022-03-09T07:48:08.272Z"
   },
   {
    "duration": 26,
    "start_time": "2022-03-09T07:48:08.274Z"
   },
   {
    "duration": 25,
    "start_time": "2022-03-09T07:48:08.276Z"
   },
   {
    "duration": 26,
    "start_time": "2022-03-09T07:48:08.277Z"
   },
   {
    "duration": 22,
    "start_time": "2022-03-09T07:48:08.283Z"
   },
   {
    "duration": 21,
    "start_time": "2022-03-09T07:48:08.285Z"
   },
   {
    "duration": 19,
    "start_time": "2022-03-09T07:48:08.288Z"
   },
   {
    "duration": 16,
    "start_time": "2022-03-09T07:48:08.293Z"
   },
   {
    "duration": 15,
    "start_time": "2022-03-09T07:48:08.295Z"
   },
   {
    "duration": 15,
    "start_time": "2022-03-09T07:48:08.297Z"
   },
   {
    "duration": 84,
    "start_time": "2022-03-09T07:48:19.823Z"
   },
   {
    "duration": 95,
    "start_time": "2022-03-09T07:48:22.295Z"
   },
   {
    "duration": 491,
    "start_time": "2022-03-09T07:48:33.453Z"
   },
   {
    "duration": 352,
    "start_time": "2022-03-09T07:48:34.046Z"
   },
   {
    "duration": 412,
    "start_time": "2022-03-09T07:48:35.120Z"
   },
   {
    "duration": 630,
    "start_time": "2022-03-09T07:48:44.664Z"
   },
   {
    "duration": 566,
    "start_time": "2022-03-09T07:48:51.088Z"
   },
   {
    "duration": 13,
    "start_time": "2022-03-09T07:51:05.189Z"
   },
   {
    "duration": 582,
    "start_time": "2022-03-09T07:51:12.029Z"
   },
   {
    "duration": 582,
    "start_time": "2022-03-09T07:51:14.861Z"
   },
   {
    "duration": 14,
    "start_time": "2022-03-09T07:55:41.366Z"
   },
   {
    "duration": 11,
    "start_time": "2022-03-09T07:55:48.864Z"
   },
   {
    "duration": 12,
    "start_time": "2022-03-09T07:57:09.347Z"
   },
   {
    "duration": 11,
    "start_time": "2022-03-09T07:57:12.834Z"
   },
   {
    "duration": 15,
    "start_time": "2022-03-09T07:59:07.574Z"
   },
   {
    "duration": 347,
    "start_time": "2022-03-09T08:00:15.576Z"
   },
   {
    "duration": 218,
    "start_time": "2022-03-09T08:00:18.129Z"
   },
   {
    "duration": 704,
    "start_time": "2022-03-09T08:00:18.801Z"
   },
   {
    "duration": 230,
    "start_time": "2022-03-09T08:00:19.753Z"
   },
   {
    "duration": 206,
    "start_time": "2022-03-09T08:00:57.098Z"
   },
   {
    "duration": 294,
    "start_time": "2022-03-09T08:02:59.967Z"
   },
   {
    "duration": 256,
    "start_time": "2022-03-09T08:03:06.295Z"
   },
   {
    "duration": 11,
    "start_time": "2022-03-09T08:08:06.179Z"
   },
   {
    "duration": 352,
    "start_time": "2022-03-09T08:08:31.050Z"
   },
   {
    "duration": 282,
    "start_time": "2022-03-09T08:08:42.396Z"
   },
   {
    "duration": 230,
    "start_time": "2022-03-09T08:08:47.508Z"
   },
   {
    "duration": 9,
    "start_time": "2022-03-09T08:08:55.660Z"
   },
   {
    "duration": 11,
    "start_time": "2022-03-09T08:09:14.764Z"
   },
   {
    "duration": 5,
    "start_time": "2022-03-09T08:14:06.071Z"
   },
   {
    "duration": 476,
    "start_time": "2022-03-09T08:14:37.350Z"
   },
   {
    "duration": 252,
    "start_time": "2022-03-09T08:18:24.296Z"
   },
   {
    "duration": 256,
    "start_time": "2022-03-09T08:18:27.168Z"
   },
   {
    "duration": 294,
    "start_time": "2022-03-09T08:18:32.921Z"
   },
   {
    "duration": 476,
    "start_time": "2022-03-09T08:19:02.690Z"
   },
   {
    "duration": 35,
    "start_time": "2022-03-09T08:19:47.164Z"
   },
   {
    "duration": 16,
    "start_time": "2022-03-09T08:19:51.467Z"
   },
   {
    "duration": 83,
    "start_time": "2022-03-09T08:20:27.548Z"
   },
   {
    "duration": 128,
    "start_time": "2022-03-09T08:21:54.097Z"
   },
   {
    "duration": 44,
    "start_time": "2022-03-09T08:22:02.385Z"
   },
   {
    "duration": 434,
    "start_time": "2022-03-09T08:22:10.706Z"
   },
   {
    "duration": 83,
    "start_time": "2022-03-09T08:23:15.234Z"
   },
   {
    "duration": 457,
    "start_time": "2022-03-09T08:23:29.804Z"
   },
   {
    "duration": 266,
    "start_time": "2022-03-09T08:23:32.371Z"
   },
   {
    "duration": 264,
    "start_time": "2022-03-09T08:23:34.212Z"
   },
   {
    "duration": 224,
    "start_time": "2022-03-09T08:23:36.964Z"
   },
   {
    "duration": 299,
    "start_time": "2022-03-09T08:23:38.955Z"
   },
   {
    "duration": 74,
    "start_time": "2022-03-09T08:25:47.960Z"
   },
   {
    "duration": 10,
    "start_time": "2022-03-09T08:35:24.237Z"
   },
   {
    "duration": 10,
    "start_time": "2022-03-09T08:36:07.935Z"
   },
   {
    "duration": 342,
    "start_time": "2022-03-09T08:36:09.943Z"
   },
   {
    "duration": 255,
    "start_time": "2022-03-09T08:36:20.199Z"
   },
   {
    "duration": 372,
    "start_time": "2022-03-09T08:37:53.533Z"
   },
   {
    "duration": 7962,
    "start_time": "2022-03-09T08:38:12.459Z"
   },
   {
    "duration": 89,
    "start_time": "2022-03-09T08:38:32.900Z"
   },
   {
    "duration": 7969,
    "start_time": "2022-03-09T08:39:23.224Z"
   },
   {
    "duration": 14,
    "start_time": "2022-03-09T08:39:31.196Z"
   },
   {
    "duration": 89,
    "start_time": "2022-03-09T08:45:46.476Z"
   },
   {
    "duration": 10823,
    "start_time": "2022-03-09T08:47:05.135Z"
   },
   {
    "duration": 15,
    "start_time": "2022-03-09T08:47:19.223Z"
   },
   {
    "duration": 10165,
    "start_time": "2022-03-09T08:47:32.424Z"
   },
   {
    "duration": 1502,
    "start_time": "2022-03-09T08:48:22.402Z"
   },
   {
    "duration": 369,
    "start_time": "2022-03-09T08:48:23.907Z"
   },
   {
    "duration": 13,
    "start_time": "2022-03-09T08:48:24.280Z"
   },
   {
    "duration": 129,
    "start_time": "2022-03-09T08:48:24.297Z"
   },
   {
    "duration": 8,
    "start_time": "2022-03-09T08:48:24.429Z"
   },
   {
    "duration": 7,
    "start_time": "2022-03-09T08:48:24.451Z"
   },
   {
    "duration": 96,
    "start_time": "2022-03-09T08:48:24.460Z"
   },
   {
    "duration": 10,
    "start_time": "2022-03-09T08:48:24.560Z"
   },
   {
    "duration": 105,
    "start_time": "2022-03-09T08:48:24.573Z"
   },
   {
    "duration": 9,
    "start_time": "2022-03-09T08:48:24.681Z"
   },
   {
    "duration": 6799,
    "start_time": "2022-03-09T08:48:24.693Z"
   },
   {
    "duration": 12,
    "start_time": "2022-03-09T08:48:31.495Z"
   },
   {
    "duration": 14,
    "start_time": "2022-03-09T08:48:31.510Z"
   },
   {
    "duration": 2345,
    "start_time": "2022-03-09T08:48:31.551Z"
   },
   {
    "duration": 7,
    "start_time": "2022-03-09T08:48:33.898Z"
   },
   {
    "duration": 14,
    "start_time": "2022-03-09T08:48:33.908Z"
   },
   {
    "duration": 45,
    "start_time": "2022-03-09T08:48:33.951Z"
   },
   {
    "duration": 58,
    "start_time": "2022-03-09T08:48:33.999Z"
   },
   {
    "duration": 13,
    "start_time": "2022-03-09T08:48:34.060Z"
   },
   {
    "duration": 39,
    "start_time": "2022-03-09T08:48:34.075Z"
   },
   {
    "duration": 73,
    "start_time": "2022-03-09T08:48:34.116Z"
   },
   {
    "duration": 845,
    "start_time": "2022-03-09T08:48:34.191Z"
   },
   {
    "duration": 38,
    "start_time": "2022-03-09T08:48:35.054Z"
   },
   {
    "duration": 36,
    "start_time": "2022-03-09T08:48:35.096Z"
   },
   {
    "duration": 465,
    "start_time": "2022-03-09T08:48:35.134Z"
   },
   {
    "duration": 480,
    "start_time": "2022-03-09T08:48:35.602Z"
   },
   {
    "duration": 349,
    "start_time": "2022-03-09T08:48:36.084Z"
   },
   {
    "duration": 590,
    "start_time": "2022-03-09T08:48:36.436Z"
   },
   {
    "duration": 29,
    "start_time": "2022-03-09T08:48:37.029Z"
   },
   {
    "duration": 825,
    "start_time": "2022-03-09T08:48:37.061Z"
   },
   {
    "duration": 612,
    "start_time": "2022-03-09T08:48:37.888Z"
   },
   {
    "duration": 14,
    "start_time": "2022-03-09T08:48:38.503Z"
   },
   {
    "duration": 34,
    "start_time": "2022-03-09T08:48:38.520Z"
   },
   {
    "duration": 24,
    "start_time": "2022-03-09T08:48:38.556Z"
   },
   {
    "duration": 363,
    "start_time": "2022-03-09T08:48:38.583Z"
   },
   {
    "duration": 232,
    "start_time": "2022-03-09T08:48:38.949Z"
   },
   {
    "duration": 671,
    "start_time": "2022-03-09T08:48:39.183Z"
   },
   {
    "duration": 279,
    "start_time": "2022-03-09T08:48:39.856Z"
   },
   {
    "duration": 314,
    "start_time": "2022-03-09T08:48:40.137Z"
   },
   {
    "duration": 254,
    "start_time": "2022-03-09T08:48:40.454Z"
   },
   {
    "duration": 580,
    "start_time": "2022-03-09T08:48:40.711Z"
   },
   {
    "duration": 57,
    "start_time": "2022-03-09T08:48:41.294Z"
   },
   {
    "duration": 15,
    "start_time": "2022-03-09T08:48:41.354Z"
   },
   {
    "duration": 48,
    "start_time": "2022-03-09T08:48:41.372Z"
   },
   {
    "duration": 498,
    "start_time": "2022-03-09T08:48:41.422Z"
   },
   {
    "duration": 450,
    "start_time": "2022-03-09T08:48:41.923Z"
   },
   {
    "duration": 287,
    "start_time": "2022-03-09T08:48:42.376Z"
   },
   {
    "duration": 291,
    "start_time": "2022-03-09T08:48:42.667Z"
   },
   {
    "duration": 245,
    "start_time": "2022-03-09T08:48:42.961Z"
   },
   {
    "duration": 322,
    "start_time": "2022-03-09T08:48:43.209Z"
   },
   {
    "duration": 293,
    "start_time": "2022-03-09T08:48:43.534Z"
   },
   {
    "duration": 7130,
    "start_time": "2022-03-09T08:48:43.831Z"
   },
   {
    "duration": 16,
    "start_time": "2022-03-09T08:48:50.964Z"
   },
   {
    "duration": 10472,
    "start_time": "2022-03-09T08:48:50.983Z"
   },
   {
    "duration": 17,
    "start_time": "2022-03-09T08:49:01.457Z"
   },
   {
    "duration": 316,
    "start_time": "2022-03-09T17:49:08.723Z"
   },
   {
    "duration": 1112,
    "start_time": "2022-03-09T17:49:21.175Z"
   },
   {
    "duration": 120,
    "start_time": "2022-03-09T17:49:22.288Z"
   },
   {
    "duration": 6,
    "start_time": "2022-03-09T17:49:22.412Z"
   },
   {
    "duration": 60,
    "start_time": "2022-03-09T17:49:22.420Z"
   },
   {
    "duration": 22,
    "start_time": "2022-03-09T17:49:22.481Z"
   },
   {
    "duration": 5,
    "start_time": "2022-03-09T17:49:22.504Z"
   },
   {
    "duration": 44,
    "start_time": "2022-03-09T17:49:22.512Z"
   },
   {
    "duration": 7,
    "start_time": "2022-03-09T17:49:22.558Z"
   },
   {
    "duration": 81,
    "start_time": "2022-03-09T17:49:22.567Z"
   },
   {
    "duration": 5,
    "start_time": "2022-03-09T17:49:22.649Z"
   },
   {
    "duration": 4196,
    "start_time": "2022-03-09T17:49:22.656Z"
   },
   {
    "duration": 6,
    "start_time": "2022-03-09T17:49:26.854Z"
   },
   {
    "duration": 9,
    "start_time": "2022-03-09T17:49:26.861Z"
   },
   {
    "duration": 382,
    "start_time": "2022-03-09T17:49:26.871Z"
   },
   {
    "duration": 1296,
    "start_time": "2022-03-09T17:49:25.960Z"
   },
   {
    "duration": 1293,
    "start_time": "2022-03-09T17:49:25.964Z"
   },
   {
    "duration": 1290,
    "start_time": "2022-03-09T17:49:25.968Z"
   },
   {
    "duration": 1287,
    "start_time": "2022-03-09T17:49:25.972Z"
   },
   {
    "duration": 1286,
    "start_time": "2022-03-09T17:49:25.974Z"
   },
   {
    "duration": 1283,
    "start_time": "2022-03-09T17:49:25.978Z"
   },
   {
    "duration": 1280,
    "start_time": "2022-03-09T17:49:25.981Z"
   },
   {
    "duration": 1278,
    "start_time": "2022-03-09T17:49:25.984Z"
   },
   {
    "duration": 1276,
    "start_time": "2022-03-09T17:49:25.987Z"
   },
   {
    "duration": 1274,
    "start_time": "2022-03-09T17:49:25.990Z"
   },
   {
    "duration": 1272,
    "start_time": "2022-03-09T17:49:25.993Z"
   },
   {
    "duration": 1262,
    "start_time": "2022-03-09T17:49:26.004Z"
   },
   {
    "duration": 1260,
    "start_time": "2022-03-09T17:49:26.007Z"
   },
   {
    "duration": 1258,
    "start_time": "2022-03-09T17:49:26.010Z"
   },
   {
    "duration": 1255,
    "start_time": "2022-03-09T17:49:26.013Z"
   },
   {
    "duration": 1252,
    "start_time": "2022-03-09T17:49:26.017Z"
   },
   {
    "duration": 1246,
    "start_time": "2022-03-09T17:49:26.024Z"
   },
   {
    "duration": 1244,
    "start_time": "2022-03-09T17:49:26.027Z"
   },
   {
    "duration": 1241,
    "start_time": "2022-03-09T17:49:26.031Z"
   },
   {
    "duration": 1238,
    "start_time": "2022-03-09T17:49:26.035Z"
   },
   {
    "duration": 1236,
    "start_time": "2022-03-09T17:49:26.038Z"
   },
   {
    "duration": 1234,
    "start_time": "2022-03-09T17:49:26.041Z"
   },
   {
    "duration": 1232,
    "start_time": "2022-03-09T17:49:26.044Z"
   },
   {
    "duration": 1230,
    "start_time": "2022-03-09T17:49:26.047Z"
   },
   {
    "duration": 1228,
    "start_time": "2022-03-09T17:49:26.050Z"
   },
   {
    "duration": 1224,
    "start_time": "2022-03-09T17:49:26.054Z"
   },
   {
    "duration": 1222,
    "start_time": "2022-03-09T17:49:26.057Z"
   },
   {
    "duration": 1220,
    "start_time": "2022-03-09T17:49:26.060Z"
   },
   {
    "duration": 1217,
    "start_time": "2022-03-09T17:49:26.064Z"
   },
   {
    "duration": 1215,
    "start_time": "2022-03-09T17:49:26.067Z"
   },
   {
    "duration": 1214,
    "start_time": "2022-03-09T17:49:26.069Z"
   },
   {
    "duration": 1210,
    "start_time": "2022-03-09T17:49:26.073Z"
   },
   {
    "duration": 1209,
    "start_time": "2022-03-09T17:49:26.075Z"
   },
   {
    "duration": 1205,
    "start_time": "2022-03-09T17:49:26.080Z"
   },
   {
    "duration": 1204,
    "start_time": "2022-03-09T17:49:26.082Z"
   },
   {
    "duration": 1201,
    "start_time": "2022-03-09T17:49:26.086Z"
   },
   {
    "duration": 1200,
    "start_time": "2022-03-09T17:49:26.088Z"
   },
   {
    "duration": 1197,
    "start_time": "2022-03-09T17:49:26.092Z"
   },
   {
    "duration": 1195,
    "start_time": "2022-03-09T17:49:26.095Z"
   },
   {
    "duration": 1093,
    "start_time": "2022-03-09T17:49:56.905Z"
   },
   {
    "duration": 120,
    "start_time": "2022-03-09T17:49:58.000Z"
   },
   {
    "duration": 6,
    "start_time": "2022-03-09T17:49:58.122Z"
   },
   {
    "duration": 73,
    "start_time": "2022-03-09T17:49:58.130Z"
   },
   {
    "duration": 7,
    "start_time": "2022-03-09T17:49:58.205Z"
   },
   {
    "duration": 6,
    "start_time": "2022-03-09T17:49:58.213Z"
   },
   {
    "duration": 44,
    "start_time": "2022-03-09T17:49:58.220Z"
   },
   {
    "duration": 6,
    "start_time": "2022-03-09T17:49:58.267Z"
   },
   {
    "duration": 49,
    "start_time": "2022-03-09T17:49:58.302Z"
   },
   {
    "duration": 4,
    "start_time": "2022-03-09T17:49:58.353Z"
   },
   {
    "duration": 4137,
    "start_time": "2022-03-09T17:49:58.358Z"
   },
   {
    "duration": 7,
    "start_time": "2022-03-09T17:50:02.497Z"
   },
   {
    "duration": 10,
    "start_time": "2022-03-09T17:50:02.505Z"
   },
   {
    "duration": 25,
    "start_time": "2022-03-09T17:50:02.516Z"
   },
   {
    "duration": 25,
    "start_time": "2022-03-09T17:50:02.543Z"
   },
   {
    "duration": 32,
    "start_time": "2022-03-09T17:50:02.569Z"
   },
   {
    "duration": 24,
    "start_time": "2022-03-09T17:50:02.603Z"
   },
   {
    "duration": 28,
    "start_time": "2022-03-09T17:50:02.629Z"
   },
   {
    "duration": 467,
    "start_time": "2022-03-09T17:50:02.658Z"
   },
   {
    "duration": 19,
    "start_time": "2022-03-09T17:50:03.126Z"
   },
   {
    "duration": 23,
    "start_time": "2022-03-09T17:50:03.147Z"
   },
   {
    "duration": 251,
    "start_time": "2022-03-09T17:50:03.171Z"
   },
   {
    "duration": 256,
    "start_time": "2022-03-09T17:50:03.425Z"
   },
   {
    "duration": 184,
    "start_time": "2022-03-09T17:50:03.683Z"
   },
   {
    "duration": 241,
    "start_time": "2022-03-09T17:50:03.869Z"
   },
   {
    "duration": 8,
    "start_time": "2022-03-09T17:50:04.112Z"
   },
   {
    "duration": 319,
    "start_time": "2022-03-09T17:50:04.122Z"
   },
   {
    "duration": 330,
    "start_time": "2022-03-09T17:50:04.443Z"
   },
   {
    "duration": 9,
    "start_time": "2022-03-09T17:50:04.775Z"
   },
   {
    "duration": 21,
    "start_time": "2022-03-09T17:50:04.786Z"
   },
   {
    "duration": 11,
    "start_time": "2022-03-09T17:50:04.808Z"
   },
   {
    "duration": 230,
    "start_time": "2022-03-09T17:50:04.820Z"
   },
   {
    "duration": 134,
    "start_time": "2022-03-09T17:50:05.052Z"
   },
   {
    "duration": 408,
    "start_time": "2022-03-09T17:50:05.188Z"
   },
   {
    "duration": 149,
    "start_time": "2022-03-09T17:50:05.598Z"
   },
   {
    "duration": 169,
    "start_time": "2022-03-09T17:50:05.749Z"
   },
   {
    "duration": 140,
    "start_time": "2022-03-09T17:50:05.920Z"
   },
   {
    "duration": 336,
    "start_time": "2022-03-09T17:50:06.062Z"
   },
   {
    "duration": 21,
    "start_time": "2022-03-09T17:50:06.400Z"
   },
   {
    "duration": 9,
    "start_time": "2022-03-09T17:50:06.423Z"
   },
   {
    "duration": 26,
    "start_time": "2022-03-09T17:50:06.433Z"
   },
   {
    "duration": 253,
    "start_time": "2022-03-09T17:50:06.461Z"
   },
   {
    "duration": 297,
    "start_time": "2022-03-09T17:50:06.716Z"
   },
   {
    "duration": 150,
    "start_time": "2022-03-09T17:50:07.015Z"
   },
   {
    "duration": 147,
    "start_time": "2022-03-09T17:50:07.167Z"
   },
   {
    "duration": 126,
    "start_time": "2022-03-09T17:50:07.316Z"
   },
   {
    "duration": 175,
    "start_time": "2022-03-09T17:50:07.444Z"
   },
   {
    "duration": 950,
    "start_time": "2022-03-09T17:50:07.620Z"
   },
   {
    "duration": 187,
    "start_time": "2022-03-09T17:50:08.571Z"
   },
   {
    "duration": 4331,
    "start_time": "2022-03-09T17:50:08.759Z"
   },
   {
    "duration": 12,
    "start_time": "2022-03-09T17:50:13.092Z"
   },
   {
    "duration": 6302,
    "start_time": "2022-03-09T17:50:13.105Z"
   },
   {
    "duration": 12,
    "start_time": "2022-03-09T17:50:19.409Z"
   },
   {
    "duration": 381,
    "start_time": "2022-03-09T17:50:47.233Z"
   },
   {
    "duration": 946,
    "start_time": "2022-03-09T17:51:38.893Z"
   },
   {
    "duration": 4074,
    "start_time": "2022-03-09T17:51:56.920Z"
   },
   {
    "duration": 284,
    "start_time": "2022-03-09T17:52:18.419Z"
   },
   {
    "duration": 397,
    "start_time": "2022-03-09T18:02:21.017Z"
   },
   {
    "duration": 364,
    "start_time": "2022-03-09T18:03:17.832Z"
   },
   {
    "duration": 2916,
    "start_time": "2022-03-09T18:05:10.485Z"
   },
   {
    "duration": 277,
    "start_time": "2022-03-09T18:06:01.061Z"
   },
   {
    "duration": 180,
    "start_time": "2022-03-09T18:06:32.811Z"
   },
   {
    "duration": 185,
    "start_time": "2022-03-09T18:07:00.117Z"
   },
   {
    "duration": 166,
    "start_time": "2022-03-09T18:07:07.030Z"
   },
   {
    "duration": 171,
    "start_time": "2022-03-09T18:07:17.474Z"
   },
   {
    "duration": 160,
    "start_time": "2022-03-09T18:07:22.282Z"
   },
   {
    "duration": 164,
    "start_time": "2022-03-09T18:07:29.565Z"
   },
   {
    "duration": 263,
    "start_time": "2022-03-09T18:07:43.981Z"
   },
   {
    "duration": 192,
    "start_time": "2022-03-09T18:08:45.135Z"
   },
   {
    "duration": 214,
    "start_time": "2022-03-09T18:08:56.892Z"
   },
   {
    "duration": 142,
    "start_time": "2022-03-09T18:09:01.433Z"
   },
   {
    "duration": 190,
    "start_time": "2022-03-09T18:09:06.333Z"
   },
   {
    "duration": 166,
    "start_time": "2022-03-09T18:09:10.728Z"
   },
   {
    "duration": 287,
    "start_time": "2022-03-09T18:10:30.921Z"
   },
   {
    "duration": 178,
    "start_time": "2022-03-09T18:10:42.894Z"
   },
   {
    "duration": 297,
    "start_time": "2022-03-09T18:18:30.863Z"
   },
   {
    "duration": 225,
    "start_time": "2022-03-09T18:21:02.498Z"
   },
   {
    "duration": 243,
    "start_time": "2022-03-09T18:28:07.199Z"
   },
   {
    "duration": 285,
    "start_time": "2022-03-09T18:28:45.038Z"
   },
   {
    "duration": 206,
    "start_time": "2022-03-09T18:28:48.146Z"
   },
   {
    "duration": 157,
    "start_time": "2022-03-09T18:28:51.960Z"
   },
   {
    "duration": 161,
    "start_time": "2022-03-09T18:28:55.339Z"
   },
   {
    "duration": 198,
    "start_time": "2022-03-09T18:29:39.945Z"
   },
   {
    "duration": 194,
    "start_time": "2022-03-09T18:29:47.626Z"
   },
   {
    "duration": 205,
    "start_time": "2022-03-09T18:30:41.814Z"
   },
   {
    "duration": 1062,
    "start_time": "2022-03-09T18:35:52.654Z"
   },
   {
    "duration": 122,
    "start_time": "2022-03-09T18:35:53.718Z"
   },
   {
    "duration": 7,
    "start_time": "2022-03-09T18:35:53.842Z"
   },
   {
    "duration": 69,
    "start_time": "2022-03-09T18:35:53.851Z"
   },
   {
    "duration": 6,
    "start_time": "2022-03-09T18:35:53.921Z"
   },
   {
    "duration": 4,
    "start_time": "2022-03-09T18:35:53.928Z"
   },
   {
    "duration": 44,
    "start_time": "2022-03-09T18:35:53.933Z"
   },
   {
    "duration": 5,
    "start_time": "2022-03-09T18:35:53.979Z"
   },
   {
    "duration": 58,
    "start_time": "2022-03-09T18:35:53.986Z"
   },
   {
    "duration": 4,
    "start_time": "2022-03-09T18:35:54.046Z"
   },
   {
    "duration": 4484,
    "start_time": "2022-03-09T18:35:54.051Z"
   },
   {
    "duration": 5,
    "start_time": "2022-03-09T18:35:58.537Z"
   },
   {
    "duration": 9,
    "start_time": "2022-03-09T18:35:58.543Z"
   },
   {
    "duration": 48,
    "start_time": "2022-03-09T18:35:58.554Z"
   },
   {
    "duration": 25,
    "start_time": "2022-03-09T18:35:58.604Z"
   },
   {
    "duration": 12,
    "start_time": "2022-03-09T18:35:58.630Z"
   },
   {
    "duration": 23,
    "start_time": "2022-03-09T18:35:58.643Z"
   },
   {
    "duration": 48,
    "start_time": "2022-03-09T18:35:58.667Z"
   },
   {
    "duration": 459,
    "start_time": "2022-03-09T18:35:58.716Z"
   },
   {
    "duration": 25,
    "start_time": "2022-03-09T18:35:59.177Z"
   },
   {
    "duration": 23,
    "start_time": "2022-03-09T18:35:59.203Z"
   },
   {
    "duration": 266,
    "start_time": "2022-03-09T18:35:59.227Z"
   },
   {
    "duration": 261,
    "start_time": "2022-03-09T18:35:59.500Z"
   },
   {
    "duration": 198,
    "start_time": "2022-03-09T18:35:59.764Z"
   },
   {
    "duration": 257,
    "start_time": "2022-03-09T18:35:59.964Z"
   },
   {
    "duration": 8,
    "start_time": "2022-03-09T18:36:00.222Z"
   },
   {
    "duration": 333,
    "start_time": "2022-03-09T18:36:00.232Z"
   },
   {
    "duration": 326,
    "start_time": "2022-03-09T18:36:00.567Z"
   },
   {
    "duration": 13,
    "start_time": "2022-03-09T18:36:00.894Z"
   },
   {
    "duration": 7,
    "start_time": "2022-03-09T18:36:00.909Z"
   },
   {
    "duration": 13,
    "start_time": "2022-03-09T18:36:00.918Z"
   },
   {
    "duration": 224,
    "start_time": "2022-03-09T18:36:00.932Z"
   },
   {
    "duration": 130,
    "start_time": "2022-03-09T18:36:01.157Z"
   },
   {
    "duration": 419,
    "start_time": "2022-03-09T18:36:01.289Z"
   },
   {
    "duration": 141,
    "start_time": "2022-03-09T18:36:01.710Z"
   },
   {
    "duration": 169,
    "start_time": "2022-03-09T18:36:01.853Z"
   },
   {
    "duration": 137,
    "start_time": "2022-03-09T18:36:02.023Z"
   },
   {
    "duration": 340,
    "start_time": "2022-03-09T18:36:02.161Z"
   },
   {
    "duration": 21,
    "start_time": "2022-03-09T18:36:02.503Z"
   },
   {
    "duration": 9,
    "start_time": "2022-03-09T18:36:02.526Z"
   },
   {
    "duration": 25,
    "start_time": "2022-03-09T18:36:02.536Z"
   },
   {
    "duration": 244,
    "start_time": "2022-03-09T18:36:02.563Z"
   },
   {
    "duration": 197,
    "start_time": "2022-03-09T18:36:02.808Z"
   },
   {
    "duration": 220,
    "start_time": "2022-03-09T18:36:03.006Z"
   },
   {
    "duration": 166,
    "start_time": "2022-03-09T18:36:03.228Z"
   },
   {
    "duration": 263,
    "start_time": "2022-03-09T18:36:03.395Z"
   },
   {
    "duration": 303,
    "start_time": "2022-03-09T18:36:03.659Z"
   },
   {
    "duration": 158,
    "start_time": "2022-03-09T18:36:03.963Z"
   },
   {
    "duration": 153,
    "start_time": "2022-03-09T18:36:04.122Z"
   },
   {
    "duration": 127,
    "start_time": "2022-03-09T18:36:04.276Z"
   },
   {
    "duration": 170,
    "start_time": "2022-03-09T18:36:04.404Z"
   },
   {
    "duration": 357,
    "start_time": "2022-03-09T18:36:04.575Z"
   },
   {
    "duration": 158,
    "start_time": "2022-03-09T18:36:04.934Z"
   },
   {
    "duration": 4528,
    "start_time": "2022-03-09T18:36:05.101Z"
   },
   {
    "duration": 8,
    "start_time": "2022-03-09T18:36:09.630Z"
   },
   {
    "duration": 7249,
    "start_time": "2022-03-09T18:36:09.640Z"
   },
   {
    "duration": 18,
    "start_time": "2022-03-09T18:36:16.891Z"
   },
   {
    "duration": 1031,
    "start_time": "2022-03-09T18:43:55.760Z"
   },
   {
    "duration": 133,
    "start_time": "2022-03-09T18:43:56.793Z"
   },
   {
    "duration": 8,
    "start_time": "2022-03-09T18:43:56.930Z"
   },
   {
    "duration": 89,
    "start_time": "2022-03-09T18:43:56.939Z"
   },
   {
    "duration": 5,
    "start_time": "2022-03-09T18:43:57.030Z"
   },
   {
    "duration": 5,
    "start_time": "2022-03-09T18:43:57.036Z"
   },
   {
    "duration": 65,
    "start_time": "2022-03-09T18:43:57.043Z"
   },
   {
    "duration": 5,
    "start_time": "2022-03-09T18:43:57.110Z"
   },
   {
    "duration": 53,
    "start_time": "2022-03-09T18:43:57.116Z"
   },
   {
    "duration": 5,
    "start_time": "2022-03-09T18:43:57.171Z"
   },
   {
    "duration": 4588,
    "start_time": "2022-03-09T18:43:57.177Z"
   },
   {
    "duration": 6,
    "start_time": "2022-03-09T18:44:01.766Z"
   },
   {
    "duration": 13,
    "start_time": "2022-03-09T18:44:01.773Z"
   },
   {
    "duration": 38,
    "start_time": "2022-03-09T18:44:01.787Z"
   },
   {
    "duration": 26,
    "start_time": "2022-03-09T18:44:01.826Z"
   },
   {
    "duration": 8,
    "start_time": "2022-03-09T18:44:01.853Z"
   },
   {
    "duration": 42,
    "start_time": "2022-03-09T18:44:01.862Z"
   },
   {
    "duration": 30,
    "start_time": "2022-03-09T18:44:01.905Z"
   },
   {
    "duration": 466,
    "start_time": "2022-03-09T18:44:01.936Z"
   },
   {
    "duration": 19,
    "start_time": "2022-03-09T18:44:02.404Z"
   },
   {
    "duration": 23,
    "start_time": "2022-03-09T18:44:02.425Z"
   },
   {
    "duration": 252,
    "start_time": "2022-03-09T18:44:02.451Z"
   },
   {
    "duration": 266,
    "start_time": "2022-03-09T18:44:02.705Z"
   },
   {
    "duration": 195,
    "start_time": "2022-03-09T18:44:02.973Z"
   },
   {
    "duration": 245,
    "start_time": "2022-03-09T18:44:03.170Z"
   },
   {
    "duration": 10,
    "start_time": "2022-03-09T18:44:03.417Z"
   },
   {
    "duration": 333,
    "start_time": "2022-03-09T18:44:03.428Z"
   },
   {
    "duration": 322,
    "start_time": "2022-03-09T18:44:03.762Z"
   },
   {
    "duration": 19,
    "start_time": "2022-03-09T18:44:04.086Z"
   },
   {
    "duration": 7,
    "start_time": "2022-03-09T18:44:04.107Z"
   },
   {
    "duration": 9,
    "start_time": "2022-03-09T18:44:04.116Z"
   },
   {
    "duration": 229,
    "start_time": "2022-03-09T18:44:04.126Z"
   },
   {
    "duration": 132,
    "start_time": "2022-03-09T18:44:04.356Z"
   },
   {
    "duration": 538,
    "start_time": "2022-03-09T18:44:04.490Z"
   },
   {
    "duration": 155,
    "start_time": "2022-03-09T18:44:05.030Z"
   },
   {
    "duration": 168,
    "start_time": "2022-03-09T18:44:05.187Z"
   },
   {
    "duration": 147,
    "start_time": "2022-03-09T18:44:05.356Z"
   },
   {
    "duration": 356,
    "start_time": "2022-03-09T18:44:05.504Z"
   },
   {
    "duration": 22,
    "start_time": "2022-03-09T18:44:05.861Z"
   },
   {
    "duration": 22,
    "start_time": "2022-03-09T18:44:05.885Z"
   },
   {
    "duration": 25,
    "start_time": "2022-03-09T18:44:05.908Z"
   },
   {
    "duration": 237,
    "start_time": "2022-03-09T18:44:05.935Z"
   },
   {
    "duration": 201,
    "start_time": "2022-03-09T18:44:06.174Z"
   },
   {
    "duration": 220,
    "start_time": "2022-03-09T18:44:06.376Z"
   },
   {
    "duration": 169,
    "start_time": "2022-03-09T18:44:06.597Z"
   },
   {
    "duration": 166,
    "start_time": "2022-03-09T18:44:06.768Z"
   },
   {
    "duration": 279,
    "start_time": "2022-03-09T18:44:06.936Z"
   },
   {
    "duration": 156,
    "start_time": "2022-03-09T18:44:07.217Z"
   },
   {
    "duration": 159,
    "start_time": "2022-03-09T18:44:07.375Z"
   },
   {
    "duration": 140,
    "start_time": "2022-03-09T18:44:07.536Z"
   },
   {
    "duration": 169,
    "start_time": "2022-03-09T18:44:07.677Z"
   },
   {
    "duration": 336,
    "start_time": "2022-03-09T18:44:07.848Z"
   },
   {
    "duration": 159,
    "start_time": "2022-03-09T18:44:08.186Z"
   },
   {
    "duration": 4307,
    "start_time": "2022-03-09T18:44:08.346Z"
   },
   {
    "duration": 8,
    "start_time": "2022-03-09T18:44:12.654Z"
   },
   {
    "duration": 7226,
    "start_time": "2022-03-09T18:44:12.663Z"
   },
   {
    "duration": 19,
    "start_time": "2022-03-09T18:44:19.891Z"
   },
   {
    "duration": 319,
    "start_time": "2022-03-10T14:27:27.328Z"
   },
   {
    "duration": 1075,
    "start_time": "2022-03-10T14:27:32.819Z"
   },
   {
    "duration": 114,
    "start_time": "2022-03-10T14:27:33.896Z"
   },
   {
    "duration": 7,
    "start_time": "2022-03-10T14:27:34.012Z"
   },
   {
    "duration": 62,
    "start_time": "2022-03-10T14:27:34.021Z"
   },
   {
    "duration": 20,
    "start_time": "2022-03-10T14:27:34.085Z"
   },
   {
    "duration": 18,
    "start_time": "2022-03-10T14:27:34.107Z"
   },
   {
    "duration": 47,
    "start_time": "2022-03-10T14:27:34.127Z"
   },
   {
    "duration": 6,
    "start_time": "2022-03-10T14:27:34.176Z"
   },
   {
    "duration": 59,
    "start_time": "2022-03-10T14:27:34.184Z"
   },
   {
    "duration": 4,
    "start_time": "2022-03-10T14:27:34.245Z"
   },
   {
    "duration": 4102,
    "start_time": "2022-03-10T14:27:34.250Z"
   },
   {
    "duration": 5,
    "start_time": "2022-03-10T14:27:38.354Z"
   },
   {
    "duration": 9,
    "start_time": "2022-03-10T14:27:38.361Z"
   },
   {
    "duration": 43,
    "start_time": "2022-03-10T14:27:38.371Z"
   },
   {
    "duration": 24,
    "start_time": "2022-03-10T14:27:38.415Z"
   },
   {
    "duration": 8,
    "start_time": "2022-03-10T14:27:38.440Z"
   },
   {
    "duration": 26,
    "start_time": "2022-03-10T14:27:38.449Z"
   },
   {
    "duration": 46,
    "start_time": "2022-03-10T14:27:38.477Z"
   },
   {
    "duration": 440,
    "start_time": "2022-03-10T14:27:38.525Z"
   },
   {
    "duration": 19,
    "start_time": "2022-03-10T14:27:38.967Z"
   },
   {
    "duration": 29,
    "start_time": "2022-03-10T14:27:38.988Z"
   },
   {
    "duration": 233,
    "start_time": "2022-03-10T14:27:39.018Z"
   },
   {
    "duration": 247,
    "start_time": "2022-03-10T14:27:39.254Z"
   },
   {
    "duration": 178,
    "start_time": "2022-03-10T14:27:39.503Z"
   },
   {
    "duration": 368,
    "start_time": "2022-03-10T14:27:39.682Z"
   },
   {
    "duration": 8,
    "start_time": "2022-03-10T14:27:40.051Z"
   },
   {
    "duration": 312,
    "start_time": "2022-03-10T14:27:40.061Z"
   },
   {
    "duration": 412,
    "start_time": "2022-03-10T14:27:40.375Z"
   },
   {
    "duration": 16,
    "start_time": "2022-03-10T14:27:40.788Z"
   },
   {
    "duration": 7,
    "start_time": "2022-03-10T14:27:40.805Z"
   },
   {
    "duration": 9,
    "start_time": "2022-03-10T14:27:40.814Z"
   },
   {
    "duration": 244,
    "start_time": "2022-03-10T14:27:40.824Z"
   },
   {
    "duration": 133,
    "start_time": "2022-03-10T14:27:41.070Z"
   },
   {
    "duration": 423,
    "start_time": "2022-03-10T14:27:41.204Z"
   },
   {
    "duration": 142,
    "start_time": "2022-03-10T14:27:41.628Z"
   },
   {
    "duration": 162,
    "start_time": "2022-03-10T14:27:41.772Z"
   },
   {
    "duration": 204,
    "start_time": "2022-03-10T14:27:41.936Z"
   },
   {
    "duration": 261,
    "start_time": "2022-03-10T14:27:42.142Z"
   },
   {
    "duration": 21,
    "start_time": "2022-03-10T14:27:42.405Z"
   },
   {
    "duration": 9,
    "start_time": "2022-03-10T14:27:42.427Z"
   },
   {
    "duration": 25,
    "start_time": "2022-03-10T14:27:42.438Z"
   },
   {
    "duration": 243,
    "start_time": "2022-03-10T14:27:42.464Z"
   },
   {
    "duration": 196,
    "start_time": "2022-03-10T14:27:42.709Z"
   },
   {
    "duration": 217,
    "start_time": "2022-03-10T14:27:42.906Z"
   },
   {
    "duration": 163,
    "start_time": "2022-03-10T14:27:43.125Z"
   },
   {
    "duration": 172,
    "start_time": "2022-03-10T14:27:43.290Z"
   },
   {
    "duration": 278,
    "start_time": "2022-03-10T14:27:43.463Z"
   },
   {
    "duration": 148,
    "start_time": "2022-03-10T14:27:43.742Z"
   },
   {
    "duration": 150,
    "start_time": "2022-03-10T14:27:43.892Z"
   },
   {
    "duration": 129,
    "start_time": "2022-03-10T14:27:44.043Z"
   },
   {
    "duration": 243,
    "start_time": "2022-03-10T14:27:44.174Z"
   },
   {
    "duration": 285,
    "start_time": "2022-03-10T14:27:44.418Z"
   },
   {
    "duration": 149,
    "start_time": "2022-03-10T14:27:44.704Z"
   },
   {
    "duration": 4226,
    "start_time": "2022-03-10T14:27:44.854Z"
   },
   {
    "duration": 20,
    "start_time": "2022-03-10T14:27:49.081Z"
   },
   {
    "duration": 6733,
    "start_time": "2022-03-10T14:27:49.102Z"
   },
   {
    "duration": 10,
    "start_time": "2022-03-10T14:27:55.837Z"
   },
   {
    "duration": 102,
    "start_time": "2022-03-10T14:30:55.134Z"
   },
   {
    "duration": 1061,
    "start_time": "2022-03-10T14:32:46.535Z"
   },
   {
    "duration": 119,
    "start_time": "2022-03-10T14:32:47.597Z"
   },
   {
    "duration": 7,
    "start_time": "2022-03-10T14:32:47.718Z"
   },
   {
    "duration": 75,
    "start_time": "2022-03-10T14:32:47.726Z"
   },
   {
    "duration": 6,
    "start_time": "2022-03-10T14:32:47.803Z"
   },
   {
    "duration": 10,
    "start_time": "2022-03-10T14:32:47.810Z"
   },
   {
    "duration": 45,
    "start_time": "2022-03-10T14:32:47.821Z"
   },
   {
    "duration": 6,
    "start_time": "2022-03-10T14:32:47.868Z"
   },
   {
    "duration": 69,
    "start_time": "2022-03-10T14:32:47.877Z"
   },
   {
    "duration": 4,
    "start_time": "2022-03-10T14:32:47.948Z"
   },
   {
    "duration": 4170,
    "start_time": "2022-03-10T14:32:47.954Z"
   },
   {
    "duration": 6,
    "start_time": "2022-03-10T14:32:52.125Z"
   },
   {
    "duration": 8,
    "start_time": "2022-03-10T14:32:52.132Z"
   },
   {
    "duration": 26,
    "start_time": "2022-03-10T14:32:52.141Z"
   },
   {
    "duration": 49,
    "start_time": "2022-03-10T14:32:52.168Z"
   },
   {
    "duration": 8,
    "start_time": "2022-03-10T14:32:52.219Z"
   },
   {
    "duration": 23,
    "start_time": "2022-03-10T14:32:52.228Z"
   },
   {
    "duration": 26,
    "start_time": "2022-03-10T14:32:52.252Z"
   },
   {
    "duration": 462,
    "start_time": "2022-03-10T14:32:52.280Z"
   },
   {
    "duration": 20,
    "start_time": "2022-03-10T14:32:52.744Z"
   },
   {
    "duration": 39,
    "start_time": "2022-03-10T14:32:52.766Z"
   },
   {
    "duration": 243,
    "start_time": "2022-03-10T14:32:52.806Z"
   },
   {
    "duration": 274,
    "start_time": "2022-03-10T14:32:53.051Z"
   },
   {
    "duration": 191,
    "start_time": "2022-03-10T14:32:53.326Z"
   },
   {
    "duration": 389,
    "start_time": "2022-03-10T14:32:53.518Z"
   },
   {
    "duration": 8,
    "start_time": "2022-03-10T14:32:53.909Z"
   },
   {
    "duration": 319,
    "start_time": "2022-03-10T14:32:53.921Z"
   },
   {
    "duration": 309,
    "start_time": "2022-03-10T14:32:54.242Z"
   },
   {
    "duration": 8,
    "start_time": "2022-03-10T14:32:54.552Z"
   },
   {
    "duration": 7,
    "start_time": "2022-03-10T14:32:54.561Z"
   },
   {
    "duration": 10,
    "start_time": "2022-03-10T14:32:54.570Z"
   },
   {
    "duration": 238,
    "start_time": "2022-03-10T14:32:54.602Z"
   },
   {
    "duration": 130,
    "start_time": "2022-03-10T14:32:54.842Z"
   },
   {
    "duration": 432,
    "start_time": "2022-03-10T14:32:54.973Z"
   },
   {
    "duration": 144,
    "start_time": "2022-03-10T14:32:55.406Z"
   },
   {
    "duration": 166,
    "start_time": "2022-03-10T14:32:55.552Z"
   },
   {
    "duration": 215,
    "start_time": "2022-03-10T14:32:55.720Z"
   },
   {
    "duration": 278,
    "start_time": "2022-03-10T14:32:55.937Z"
   },
   {
    "duration": 22,
    "start_time": "2022-03-10T14:32:56.217Z"
   },
   {
    "duration": 9,
    "start_time": "2022-03-10T14:32:56.240Z"
   },
   {
    "duration": 25,
    "start_time": "2022-03-10T14:32:56.251Z"
   },
   {
    "duration": 246,
    "start_time": "2022-03-10T14:32:56.277Z"
   },
   {
    "duration": 195,
    "start_time": "2022-03-10T14:32:56.524Z"
   },
   {
    "duration": 225,
    "start_time": "2022-03-10T14:32:56.721Z"
   },
   {
    "duration": 179,
    "start_time": "2022-03-10T14:32:56.947Z"
   },
   {
    "duration": 173,
    "start_time": "2022-03-10T14:32:57.128Z"
   },
   {
    "duration": 315,
    "start_time": "2022-03-10T14:32:57.302Z"
   },
   {
    "duration": 158,
    "start_time": "2022-03-10T14:32:57.619Z"
   },
   {
    "duration": 154,
    "start_time": "2022-03-10T14:32:57.778Z"
   },
   {
    "duration": 125,
    "start_time": "2022-03-10T14:32:57.934Z"
   },
   {
    "duration": 248,
    "start_time": "2022-03-10T14:32:58.060Z"
   },
   {
    "duration": 301,
    "start_time": "2022-03-10T14:32:58.309Z"
   },
   {
    "duration": 158,
    "start_time": "2022-03-10T14:32:58.611Z"
   },
   {
    "duration": 4362,
    "start_time": "2022-03-10T14:32:58.770Z"
   },
   {
    "duration": 8,
    "start_time": "2022-03-10T14:33:03.134Z"
   },
   {
    "duration": 6446,
    "start_time": "2022-03-10T14:33:03.143Z"
   },
   {
    "duration": 15,
    "start_time": "2022-03-10T14:33:09.590Z"
   }
  ],
  "kernelspec": {
   "display_name": "Python 3 (ipykernel)",
   "language": "python",
   "name": "python3"
  },
  "language_info": {
   "codemirror_mode": {
    "name": "ipython",
    "version": 3
   },
   "file_extension": ".py",
   "mimetype": "text/x-python",
   "name": "python",
   "nbconvert_exporter": "python",
   "pygments_lexer": "ipython3",
   "version": "3.9.5"
  },
  "toc": {
   "base_numbering": 1,
   "nav_menu": {},
   "number_sections": true,
   "sideBar": true,
   "skip_h1_title": true,
   "title_cell": "Содержание",
   "title_sidebar": "Contents",
   "toc_cell": true,
   "toc_position": {
    "height": "calc(100% - 180px)",
    "left": "10px",
    "top": "150px",
    "width": "303.837px"
   },
   "toc_section_display": true,
   "toc_window_display": false
  }
 },
 "nbformat": 4,
 "nbformat_minor": 4
}
