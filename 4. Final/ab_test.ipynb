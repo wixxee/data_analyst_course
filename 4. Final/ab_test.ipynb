{
 "cells": [
  {
   "cell_type": "markdown",
   "id": "4e6393c3",
   "metadata": {
    "toc": true
   },
   "source": [
    "<h1>Table of Contents<span class=\"tocSkip\"></span></h1>\n",
    "<div class=\"toc\"><ul class=\"toc-item\"><li><span><a href=\"#Описание-проекта\" data-toc-modified-id=\"Описание-проекта-1\"><span class=\"toc-item-num\">1&nbsp;&nbsp;</span>Описание проекта</a></span><ul class=\"toc-item\"><li><span><a href=\"#Задача:\" data-toc-modified-id=\"Задача:-1.1\"><span class=\"toc-item-num\">1.1&nbsp;&nbsp;</span>Задача:</a></span></li><li><span><a href=\"#Техническое-задание:\" data-toc-modified-id=\"Техническое-задание:-1.2\"><span class=\"toc-item-num\">1.2&nbsp;&nbsp;</span>Техническое задание:</a></span></li><li><span><a href=\"#Описание-данных:\" data-toc-modified-id=\"Описание-данных:-1.3\"><span class=\"toc-item-num\">1.3&nbsp;&nbsp;</span>Описание данных:</a></span></li><li><span><a href=\"#Цель-исследования\" data-toc-modified-id=\"Цель-исследования-1.4\"><span class=\"toc-item-num\">1.4&nbsp;&nbsp;</span>Цель исследования</a></span></li></ul></li><li><span><a href=\"#Загрузка-библиотеки-и-файла-с-данными\" data-toc-modified-id=\"Загрузка-библиотеки-и-файла-с-данными-2\"><span class=\"toc-item-num\">2&nbsp;&nbsp;</span>Загрузка библиотеки и файла с данными</a></span></li><li><span><a href=\"#Предобработка-данных\" data-toc-modified-id=\"Предобработка-данных-3\"><span class=\"toc-item-num\">3&nbsp;&nbsp;</span>Предобработка данных</a></span></li><li><span><a href=\"#AB-тест\" data-toc-modified-id=\"AB-тест-4\"><span class=\"toc-item-num\">4&nbsp;&nbsp;</span>AB тест</a></span><ul class=\"toc-item\"><li><span><a href=\"#Результаты-АВ-теста:\" data-toc-modified-id=\"Результаты-АВ-теста:-4.1\"><span class=\"toc-item-num\">4.1&nbsp;&nbsp;</span>Результаты АВ-теста:</a></span></li></ul></li><li><span><a href=\"#Выводы\" data-toc-modified-id=\"Выводы-5\"><span class=\"toc-item-num\">5&nbsp;&nbsp;</span>Выводы</a></span></li></ul></div>"
   ]
  },
  {
   "cell_type": "markdown",
   "id": "e46ec6e1",
   "metadata": {},
   "source": [
    "## Описание проекта"
   ]
  },
  {
   "cell_type": "markdown",
   "id": "772834cb",
   "metadata": {},
   "source": [
    "### Задача:\n",
    "\n",
    "Ваша задача — провести оценку результатов A/B-теста. В вашем распоряжении есть датасет с действиями пользователей, техническое задание и несколько вспомогательных датасетов.\n",
    "- Оцените корректность проведения теста\n",
    "- Проанализируйте результаты теста\n",
    "\n",
    "Чтобы оценить корректность проведения теста, проверьте:\n",
    "\n",
    "    - пересечение тестовой аудитории с конкурирующим тестом,\n",
    "    - совпадение теста и маркетинговых событий, другие проблемы временны границ теста."
   ]
  },
  {
   "cell_type": "markdown",
   "id": "1d056263",
   "metadata": {},
   "source": [
    "### Техническое задание:\n",
    "\n",
    "- Название теста: `recommender_system_test` ;\n",
    "- группы: А — контрольная, B — новая платёжная воронка;\n",
    "- дата запуска: 2020-12-07;\n",
    "- дата остановки набора новых пользователей: 2020-12-21;\n",
    "- дата остановки: 2021-01-04;\n",
    "- аудитория: 15% новых пользователей из региона EU;\n",
    "- назначение теста: тестирование изменений, связанных с внедрением улучшенной рекомендательной системы;\n",
    "- ожидаемое количество участников теста: 6000.\n",
    "- ожидаемый эффект: за 14 дней с момента регистрации пользователи покажут улучшение каждой метрики не менее, чем на 10%:\n",
    "\n",
    "    - конверсии в просмотр карточек товаров — событие `product_page` ,\n",
    "    - просмотры корзины — `product_cart` ,\n",
    "    - покупки — `purchase` ."
   ]
  },
  {
   "cell_type": "markdown",
   "id": "cbeb8d37",
   "metadata": {},
   "source": [
    "### Описание данных:\n",
    "\n",
    "**`ab_project_marketing_events.csv`** — календарь маркетинговых событий на 2020 год.<br>\n",
    "Структура файла:\n",
    "- `name` — название маркетингового события;\n",
    "- `regions` — регионы, в которых будет проводиться рекламная кампания;\n",
    "- `start_dt` — дата начала кампании;\n",
    "- `finish_dt` — дата завершения кампании.\n",
    "<br>\n",
    "<br>\n",
    "\n",
    "**`final_ab_new_users.csv`** — пользователи, зарегистрировавшиеся с 7 по 21 декабря 2020 года.<br>\n",
    "Структура файла:\n",
    "- `user_id` — идентификатор пользователя;\n",
    "- `first_date` — дата регистрации;\n",
    "- `region` — регион пользователя;\n",
    "- `device` — устройство, с которого происходила регистрация.\n",
    "<br>\n",
    "<br>\n",
    "\n",
    "**`final_ab_events.csv`** — действия новых пользователей в период с 7 декабря 2020 по 4 января 2021 года.<br>\n",
    "Структура файла:\n",
    "- `user_id` — идентификатор пользователя;\n",
    "- `event_dt` — дата и время покупки;\n",
    "- `event_name` — тип события;\n",
    "- `details` — дополнительные данные о событии. Например, для покупок,\n",
    "- `purchase`, в этом поле хранится стоимость покупки в долларах.\n",
    "<br>\n",
    "<br>\n",
    "\n",
    "**`final_ab_participants.csv`** — таблица участников тестов.<br>\n",
    "Структура файла:\n",
    "- `user_id` — идентификатор пользователя;\n",
    "- `ab_test` — название теста;\n",
    "- `group` — группа пользователя."
   ]
  },
  {
   "cell_type": "markdown",
   "id": "b2bd43d3",
   "metadata": {},
   "source": [
    "###  Цель исследования\n",
    "\n",
    "Определить, улучшилась ли конверсия на 10% при каждом шаге после внедренеия новых рекомендательных систем."
   ]
  },
  {
   "cell_type": "markdown",
   "id": "d4308108",
   "metadata": {},
   "source": [
    "## Загрузка библиотеки и файла с данными"
   ]
  },
  {
   "cell_type": "code",
   "execution_count": 1,
   "id": "495d9033",
   "metadata": {},
   "outputs": [],
   "source": [
    "#импорт библиотек для работы\n",
    "import pandas as pd\n",
    "import numpy as np\n",
    "import seaborn as sns\n",
    "import matplotlib\n",
    "import matplotlib.pyplot as plt\n",
    "import math\n",
    "import plotly.express as px\n",
    "import re\n",
    "from datetime import datetime, timedelta\n",
    "from scipy import stats as st\n",
    "from statsmodels.stats.proportion import proportions_ztest\n",
    "from plotly import graph_objects as go"
   ]
  },
  {
   "cell_type": "code",
   "execution_count": 2,
   "id": "aae25464",
   "metadata": {},
   "outputs": [],
   "source": [
    "from tqdm import tqdm"
   ]
  },
  {
   "cell_type": "code",
   "execution_count": 3,
   "id": "04a65653",
   "metadata": {
    "scrolled": false
   },
   "outputs": [],
   "source": [
    "from matplotlib.dates import date2num"
   ]
  },
  {
   "cell_type": "code",
   "execution_count": 4,
   "id": "79b14983",
   "metadata": {},
   "outputs": [],
   "source": [
    "#cнизим размерность чисел для вывода на экран на всем проекте\n",
    "pd.options.display.float_format = '{:,.2f}'.format"
   ]
  },
  {
   "cell_type": "code",
   "execution_count": 5,
   "id": "8747f3e8",
   "metadata": {
    "scrolled": false
   },
   "outputs": [],
   "source": [
    "# загрузка датасета\n",
    "try:\n",
    "    participants = pd.read_csv('final_ab_participants.csv')\n",
    "    new_users = pd.read_csv('final_ab_new_users.csv')\n",
    "    events = pd.read_csv('final_ab_events.csv')\n",
    "    marketing_events = pd.read_csv('final_ab_marketing_events.csv')\n",
    "    \n",
    "except:\n",
    "    participants = pd.read_csv('/datasets/final_ab_participants.csv')\n",
    "    new_users = pd.read_csv('/datasets/final_ab_new_users.csv')\n",
    "    events = pd.read_csv('/datasets/final_ab_events.csv')\n",
    "    marketing_events = pd.read_csv('/datasets/ab_project_marketing_events.csv')"
   ]
  },
  {
   "cell_type": "markdown",
   "id": "f6f3c419",
   "metadata": {},
   "source": [
    "## Предобработка данных"
   ]
  },
  {
   "cell_type": "markdown",
   "id": "67da0d20",
   "metadata": {},
   "source": [
    "Рассмотрим содержимое датасетов"
   ]
  },
  {
   "cell_type": "code",
   "execution_count": 6,
   "id": "7a3fb546",
   "metadata": {
    "scrolled": false
   },
   "outputs": [
    {
     "data": {
      "text/html": [
       "<div>\n",
       "<style scoped>\n",
       "    .dataframe tbody tr th:only-of-type {\n",
       "        vertical-align: middle;\n",
       "    }\n",
       "\n",
       "    .dataframe tbody tr th {\n",
       "        vertical-align: top;\n",
       "    }\n",
       "\n",
       "    .dataframe thead th {\n",
       "        text-align: right;\n",
       "    }\n",
       "</style>\n",
       "<table border=\"1\" class=\"dataframe\">\n",
       "  <thead>\n",
       "    <tr style=\"text-align: right;\">\n",
       "      <th></th>\n",
       "      <th>user_id</th>\n",
       "      <th>group</th>\n",
       "      <th>ab_test</th>\n",
       "    </tr>\n",
       "  </thead>\n",
       "  <tbody>\n",
       "    <tr>\n",
       "      <th>0</th>\n",
       "      <td>D1ABA3E2887B6A73</td>\n",
       "      <td>A</td>\n",
       "      <td>recommender_system_test</td>\n",
       "    </tr>\n",
       "    <tr>\n",
       "      <th>1</th>\n",
       "      <td>A7A3664BD6242119</td>\n",
       "      <td>A</td>\n",
       "      <td>recommender_system_test</td>\n",
       "    </tr>\n",
       "    <tr>\n",
       "      <th>2</th>\n",
       "      <td>DABC14FDDFADD29E</td>\n",
       "      <td>A</td>\n",
       "      <td>recommender_system_test</td>\n",
       "    </tr>\n",
       "    <tr>\n",
       "      <th>3</th>\n",
       "      <td>04988C5DF189632E</td>\n",
       "      <td>A</td>\n",
       "      <td>recommender_system_test</td>\n",
       "    </tr>\n",
       "    <tr>\n",
       "      <th>4</th>\n",
       "      <td>482F14783456D21B</td>\n",
       "      <td>B</td>\n",
       "      <td>recommender_system_test</td>\n",
       "    </tr>\n",
       "  </tbody>\n",
       "</table>\n",
       "</div>"
      ],
      "text/plain": [
       "            user_id group                  ab_test\n",
       "0  D1ABA3E2887B6A73     A  recommender_system_test\n",
       "1  A7A3664BD6242119     A  recommender_system_test\n",
       "2  DABC14FDDFADD29E     A  recommender_system_test\n",
       "3  04988C5DF189632E     A  recommender_system_test\n",
       "4  482F14783456D21B     B  recommender_system_test"
      ]
     },
     "metadata": {},
     "output_type": "display_data"
    },
    {
     "name": "stdout",
     "output_type": "stream",
     "text": [
      "<class 'pandas.core.frame.DataFrame'>\n",
      "RangeIndex: 18268 entries, 0 to 18267\n",
      "Data columns (total 3 columns):\n",
      " #   Column   Non-Null Count  Dtype \n",
      "---  ------   --------------  ----- \n",
      " 0   user_id  18268 non-null  object\n",
      " 1   group    18268 non-null  object\n",
      " 2   ab_test  18268 non-null  object\n",
      "dtypes: object(3)\n",
      "memory usage: 428.3+ KB\n"
     ]
    },
    {
     "data": {
      "text/plain": [
       "None"
      ]
     },
     "metadata": {},
     "output_type": "display_data"
    },
    {
     "data": {
      "text/html": [
       "<div>\n",
       "<style scoped>\n",
       "    .dataframe tbody tr th:only-of-type {\n",
       "        vertical-align: middle;\n",
       "    }\n",
       "\n",
       "    .dataframe tbody tr th {\n",
       "        vertical-align: top;\n",
       "    }\n",
       "\n",
       "    .dataframe thead th {\n",
       "        text-align: right;\n",
       "    }\n",
       "</style>\n",
       "<table border=\"1\" class=\"dataframe\">\n",
       "  <thead>\n",
       "    <tr style=\"text-align: right;\">\n",
       "      <th></th>\n",
       "      <th>count</th>\n",
       "      <th>unique</th>\n",
       "      <th>top</th>\n",
       "      <th>freq</th>\n",
       "    </tr>\n",
       "  </thead>\n",
       "  <tbody>\n",
       "    <tr>\n",
       "      <th>user_id</th>\n",
       "      <td>18268</td>\n",
       "      <td>16666</td>\n",
       "      <td>C93F18A3865E93D6</td>\n",
       "      <td>2</td>\n",
       "    </tr>\n",
       "    <tr>\n",
       "      <th>group</th>\n",
       "      <td>18268</td>\n",
       "      <td>2</td>\n",
       "      <td>A</td>\n",
       "      <td>9655</td>\n",
       "    </tr>\n",
       "    <tr>\n",
       "      <th>ab_test</th>\n",
       "      <td>18268</td>\n",
       "      <td>2</td>\n",
       "      <td>interface_eu_test</td>\n",
       "      <td>11567</td>\n",
       "    </tr>\n",
       "  </tbody>\n",
       "</table>\n",
       "</div>"
      ],
      "text/plain": [
       "         count unique                top   freq\n",
       "user_id  18268  16666   C93F18A3865E93D6      2\n",
       "group    18268      2                  A   9655\n",
       "ab_test  18268      2  interface_eu_test  11567"
      ]
     },
     "metadata": {},
     "output_type": "display_data"
    },
    {
     "name": "stdout",
     "output_type": "stream",
     "text": [
      "---\n"
     ]
    },
    {
     "data": {
      "text/html": [
       "<div>\n",
       "<style scoped>\n",
       "    .dataframe tbody tr th:only-of-type {\n",
       "        vertical-align: middle;\n",
       "    }\n",
       "\n",
       "    .dataframe tbody tr th {\n",
       "        vertical-align: top;\n",
       "    }\n",
       "\n",
       "    .dataframe thead th {\n",
       "        text-align: right;\n",
       "    }\n",
       "</style>\n",
       "<table border=\"1\" class=\"dataframe\">\n",
       "  <thead>\n",
       "    <tr style=\"text-align: right;\">\n",
       "      <th></th>\n",
       "      <th>user_id</th>\n",
       "      <th>first_date</th>\n",
       "      <th>region</th>\n",
       "      <th>device</th>\n",
       "    </tr>\n",
       "  </thead>\n",
       "  <tbody>\n",
       "    <tr>\n",
       "      <th>0</th>\n",
       "      <td>D72A72121175D8BE</td>\n",
       "      <td>2020-12-07</td>\n",
       "      <td>EU</td>\n",
       "      <td>PC</td>\n",
       "    </tr>\n",
       "    <tr>\n",
       "      <th>1</th>\n",
       "      <td>F1C668619DFE6E65</td>\n",
       "      <td>2020-12-07</td>\n",
       "      <td>N.America</td>\n",
       "      <td>Android</td>\n",
       "    </tr>\n",
       "    <tr>\n",
       "      <th>2</th>\n",
       "      <td>2E1BF1D4C37EA01F</td>\n",
       "      <td>2020-12-07</td>\n",
       "      <td>EU</td>\n",
       "      <td>PC</td>\n",
       "    </tr>\n",
       "    <tr>\n",
       "      <th>3</th>\n",
       "      <td>50734A22C0C63768</td>\n",
       "      <td>2020-12-07</td>\n",
       "      <td>EU</td>\n",
       "      <td>iPhone</td>\n",
       "    </tr>\n",
       "    <tr>\n",
       "      <th>4</th>\n",
       "      <td>E1BDDCE0DAFA2679</td>\n",
       "      <td>2020-12-07</td>\n",
       "      <td>N.America</td>\n",
       "      <td>iPhone</td>\n",
       "    </tr>\n",
       "  </tbody>\n",
       "</table>\n",
       "</div>"
      ],
      "text/plain": [
       "            user_id  first_date     region   device\n",
       "0  D72A72121175D8BE  2020-12-07         EU       PC\n",
       "1  F1C668619DFE6E65  2020-12-07  N.America  Android\n",
       "2  2E1BF1D4C37EA01F  2020-12-07         EU       PC\n",
       "3  50734A22C0C63768  2020-12-07         EU   iPhone\n",
       "4  E1BDDCE0DAFA2679  2020-12-07  N.America   iPhone"
      ]
     },
     "metadata": {},
     "output_type": "display_data"
    },
    {
     "name": "stdout",
     "output_type": "stream",
     "text": [
      "<class 'pandas.core.frame.DataFrame'>\n",
      "RangeIndex: 61733 entries, 0 to 61732\n",
      "Data columns (total 4 columns):\n",
      " #   Column      Non-Null Count  Dtype \n",
      "---  ------      --------------  ----- \n",
      " 0   user_id     61733 non-null  object\n",
      " 1   first_date  61733 non-null  object\n",
      " 2   region      61733 non-null  object\n",
      " 3   device      61733 non-null  object\n",
      "dtypes: object(4)\n",
      "memory usage: 1.9+ MB\n"
     ]
    },
    {
     "data": {
      "text/plain": [
       "None"
      ]
     },
     "metadata": {},
     "output_type": "display_data"
    },
    {
     "data": {
      "text/html": [
       "<div>\n",
       "<style scoped>\n",
       "    .dataframe tbody tr th:only-of-type {\n",
       "        vertical-align: middle;\n",
       "    }\n",
       "\n",
       "    .dataframe tbody tr th {\n",
       "        vertical-align: top;\n",
       "    }\n",
       "\n",
       "    .dataframe thead th {\n",
       "        text-align: right;\n",
       "    }\n",
       "</style>\n",
       "<table border=\"1\" class=\"dataframe\">\n",
       "  <thead>\n",
       "    <tr style=\"text-align: right;\">\n",
       "      <th></th>\n",
       "      <th>count</th>\n",
       "      <th>unique</th>\n",
       "      <th>top</th>\n",
       "      <th>freq</th>\n",
       "    </tr>\n",
       "  </thead>\n",
       "  <tbody>\n",
       "    <tr>\n",
       "      <th>user_id</th>\n",
       "      <td>61733</td>\n",
       "      <td>61733</td>\n",
       "      <td>8B7EBD3D8CF61A25</td>\n",
       "      <td>1</td>\n",
       "    </tr>\n",
       "    <tr>\n",
       "      <th>first_date</th>\n",
       "      <td>61733</td>\n",
       "      <td>17</td>\n",
       "      <td>2020-12-21</td>\n",
       "      <td>6290</td>\n",
       "    </tr>\n",
       "    <tr>\n",
       "      <th>region</th>\n",
       "      <td>61733</td>\n",
       "      <td>4</td>\n",
       "      <td>EU</td>\n",
       "      <td>46270</td>\n",
       "    </tr>\n",
       "    <tr>\n",
       "      <th>device</th>\n",
       "      <td>61733</td>\n",
       "      <td>4</td>\n",
       "      <td>Android</td>\n",
       "      <td>27520</td>\n",
       "    </tr>\n",
       "  </tbody>\n",
       "</table>\n",
       "</div>"
      ],
      "text/plain": [
       "            count unique               top   freq\n",
       "user_id     61733  61733  8B7EBD3D8CF61A25      1\n",
       "first_date  61733     17        2020-12-21   6290\n",
       "region      61733      4                EU  46270\n",
       "device      61733      4           Android  27520"
      ]
     },
     "metadata": {},
     "output_type": "display_data"
    },
    {
     "name": "stdout",
     "output_type": "stream",
     "text": [
      "---\n"
     ]
    },
    {
     "data": {
      "text/html": [
       "<div>\n",
       "<style scoped>\n",
       "    .dataframe tbody tr th:only-of-type {\n",
       "        vertical-align: middle;\n",
       "    }\n",
       "\n",
       "    .dataframe tbody tr th {\n",
       "        vertical-align: top;\n",
       "    }\n",
       "\n",
       "    .dataframe thead th {\n",
       "        text-align: right;\n",
       "    }\n",
       "</style>\n",
       "<table border=\"1\" class=\"dataframe\">\n",
       "  <thead>\n",
       "    <tr style=\"text-align: right;\">\n",
       "      <th></th>\n",
       "      <th>user_id</th>\n",
       "      <th>event_dt</th>\n",
       "      <th>event_name</th>\n",
       "      <th>details</th>\n",
       "    </tr>\n",
       "  </thead>\n",
       "  <tbody>\n",
       "    <tr>\n",
       "      <th>0</th>\n",
       "      <td>E1BDDCE0DAFA2679</td>\n",
       "      <td>2020-12-07 20:22:03</td>\n",
       "      <td>purchase</td>\n",
       "      <td>99.99</td>\n",
       "    </tr>\n",
       "    <tr>\n",
       "      <th>1</th>\n",
       "      <td>7B6452F081F49504</td>\n",
       "      <td>2020-12-07 09:22:53</td>\n",
       "      <td>purchase</td>\n",
       "      <td>9.99</td>\n",
       "    </tr>\n",
       "    <tr>\n",
       "      <th>2</th>\n",
       "      <td>9CD9F34546DF254C</td>\n",
       "      <td>2020-12-07 12:59:29</td>\n",
       "      <td>purchase</td>\n",
       "      <td>4.99</td>\n",
       "    </tr>\n",
       "    <tr>\n",
       "      <th>3</th>\n",
       "      <td>96F27A054B191457</td>\n",
       "      <td>2020-12-07 04:02:40</td>\n",
       "      <td>purchase</td>\n",
       "      <td>4.99</td>\n",
       "    </tr>\n",
       "    <tr>\n",
       "      <th>4</th>\n",
       "      <td>1FD7660FDF94CA1F</td>\n",
       "      <td>2020-12-07 10:15:09</td>\n",
       "      <td>purchase</td>\n",
       "      <td>4.99</td>\n",
       "    </tr>\n",
       "  </tbody>\n",
       "</table>\n",
       "</div>"
      ],
      "text/plain": [
       "            user_id             event_dt event_name  details\n",
       "0  E1BDDCE0DAFA2679  2020-12-07 20:22:03   purchase    99.99\n",
       "1  7B6452F081F49504  2020-12-07 09:22:53   purchase     9.99\n",
       "2  9CD9F34546DF254C  2020-12-07 12:59:29   purchase     4.99\n",
       "3  96F27A054B191457  2020-12-07 04:02:40   purchase     4.99\n",
       "4  1FD7660FDF94CA1F  2020-12-07 10:15:09   purchase     4.99"
      ]
     },
     "metadata": {},
     "output_type": "display_data"
    },
    {
     "name": "stdout",
     "output_type": "stream",
     "text": [
      "<class 'pandas.core.frame.DataFrame'>\n",
      "RangeIndex: 440317 entries, 0 to 440316\n",
      "Data columns (total 4 columns):\n",
      " #   Column      Non-Null Count   Dtype  \n",
      "---  ------      --------------   -----  \n",
      " 0   user_id     440317 non-null  object \n",
      " 1   event_dt    440317 non-null  object \n",
      " 2   event_name  440317 non-null  object \n",
      " 3   details     62740 non-null   float64\n",
      "dtypes: float64(1), object(3)\n",
      "memory usage: 13.4+ MB\n"
     ]
    },
    {
     "data": {
      "text/plain": [
       "None"
      ]
     },
     "metadata": {},
     "output_type": "display_data"
    },
    {
     "data": {
      "text/html": [
       "<div>\n",
       "<style scoped>\n",
       "    .dataframe tbody tr th:only-of-type {\n",
       "        vertical-align: middle;\n",
       "    }\n",
       "\n",
       "    .dataframe tbody tr th {\n",
       "        vertical-align: top;\n",
       "    }\n",
       "\n",
       "    .dataframe thead th {\n",
       "        text-align: right;\n",
       "    }\n",
       "</style>\n",
       "<table border=\"1\" class=\"dataframe\">\n",
       "  <thead>\n",
       "    <tr style=\"text-align: right;\">\n",
       "      <th></th>\n",
       "      <th>count</th>\n",
       "      <th>mean</th>\n",
       "      <th>std</th>\n",
       "      <th>min</th>\n",
       "      <th>25%</th>\n",
       "      <th>50%</th>\n",
       "      <th>75%</th>\n",
       "      <th>max</th>\n",
       "    </tr>\n",
       "  </thead>\n",
       "  <tbody>\n",
       "    <tr>\n",
       "      <th>details</th>\n",
       "      <td>62,740.00</td>\n",
       "      <td>23.88</td>\n",
       "      <td>72.18</td>\n",
       "      <td>4.99</td>\n",
       "      <td>4.99</td>\n",
       "      <td>4.99</td>\n",
       "      <td>9.99</td>\n",
       "      <td>499.99</td>\n",
       "    </tr>\n",
       "  </tbody>\n",
       "</table>\n",
       "</div>"
      ],
      "text/plain": [
       "            count  mean   std  min  25%  50%  75%    max\n",
       "details 62,740.00 23.88 72.18 4.99 4.99 4.99 9.99 499.99"
      ]
     },
     "metadata": {},
     "output_type": "display_data"
    },
    {
     "name": "stdout",
     "output_type": "stream",
     "text": [
      "---\n"
     ]
    },
    {
     "data": {
      "text/html": [
       "<div>\n",
       "<style scoped>\n",
       "    .dataframe tbody tr th:only-of-type {\n",
       "        vertical-align: middle;\n",
       "    }\n",
       "\n",
       "    .dataframe tbody tr th {\n",
       "        vertical-align: top;\n",
       "    }\n",
       "\n",
       "    .dataframe thead th {\n",
       "        text-align: right;\n",
       "    }\n",
       "</style>\n",
       "<table border=\"1\" class=\"dataframe\">\n",
       "  <thead>\n",
       "    <tr style=\"text-align: right;\">\n",
       "      <th></th>\n",
       "      <th>name</th>\n",
       "      <th>regions</th>\n",
       "      <th>start_dt</th>\n",
       "      <th>finish_dt</th>\n",
       "    </tr>\n",
       "  </thead>\n",
       "  <tbody>\n",
       "    <tr>\n",
       "      <th>0</th>\n",
       "      <td>Christmas&amp;New Year Promo</td>\n",
       "      <td>EU, N.America</td>\n",
       "      <td>2020-12-25</td>\n",
       "      <td>2021-01-03</td>\n",
       "    </tr>\n",
       "    <tr>\n",
       "      <th>1</th>\n",
       "      <td>St. Valentine's Day Giveaway</td>\n",
       "      <td>EU, CIS, APAC, N.America</td>\n",
       "      <td>2020-02-14</td>\n",
       "      <td>2020-02-16</td>\n",
       "    </tr>\n",
       "    <tr>\n",
       "      <th>2</th>\n",
       "      <td>St. Patric's Day Promo</td>\n",
       "      <td>EU, N.America</td>\n",
       "      <td>2020-03-17</td>\n",
       "      <td>2020-03-19</td>\n",
       "    </tr>\n",
       "    <tr>\n",
       "      <th>3</th>\n",
       "      <td>Easter Promo</td>\n",
       "      <td>EU, CIS, APAC, N.America</td>\n",
       "      <td>2020-04-12</td>\n",
       "      <td>2020-04-19</td>\n",
       "    </tr>\n",
       "    <tr>\n",
       "      <th>4</th>\n",
       "      <td>4th of July Promo</td>\n",
       "      <td>N.America</td>\n",
       "      <td>2020-07-04</td>\n",
       "      <td>2020-07-11</td>\n",
       "    </tr>\n",
       "  </tbody>\n",
       "</table>\n",
       "</div>"
      ],
      "text/plain": [
       "                           name                   regions    start_dt  \\\n",
       "0      Christmas&New Year Promo             EU, N.America  2020-12-25   \n",
       "1  St. Valentine's Day Giveaway  EU, CIS, APAC, N.America  2020-02-14   \n",
       "2        St. Patric's Day Promo             EU, N.America  2020-03-17   \n",
       "3                  Easter Promo  EU, CIS, APAC, N.America  2020-04-12   \n",
       "4             4th of July Promo                 N.America  2020-07-04   \n",
       "\n",
       "    finish_dt  \n",
       "0  2021-01-03  \n",
       "1  2020-02-16  \n",
       "2  2020-03-19  \n",
       "3  2020-04-19  \n",
       "4  2020-07-11  "
      ]
     },
     "metadata": {},
     "output_type": "display_data"
    },
    {
     "name": "stdout",
     "output_type": "stream",
     "text": [
      "<class 'pandas.core.frame.DataFrame'>\n",
      "RangeIndex: 14 entries, 0 to 13\n",
      "Data columns (total 4 columns):\n",
      " #   Column     Non-Null Count  Dtype \n",
      "---  ------     --------------  ----- \n",
      " 0   name       14 non-null     object\n",
      " 1   regions    14 non-null     object\n",
      " 2   start_dt   14 non-null     object\n",
      " 3   finish_dt  14 non-null     object\n",
      "dtypes: object(4)\n",
      "memory usage: 576.0+ bytes\n"
     ]
    },
    {
     "data": {
      "text/plain": [
       "None"
      ]
     },
     "metadata": {},
     "output_type": "display_data"
    },
    {
     "data": {
      "text/html": [
       "<div>\n",
       "<style scoped>\n",
       "    .dataframe tbody tr th:only-of-type {\n",
       "        vertical-align: middle;\n",
       "    }\n",
       "\n",
       "    .dataframe tbody tr th {\n",
       "        vertical-align: top;\n",
       "    }\n",
       "\n",
       "    .dataframe thead th {\n",
       "        text-align: right;\n",
       "    }\n",
       "</style>\n",
       "<table border=\"1\" class=\"dataframe\">\n",
       "  <thead>\n",
       "    <tr style=\"text-align: right;\">\n",
       "      <th></th>\n",
       "      <th>count</th>\n",
       "      <th>unique</th>\n",
       "      <th>top</th>\n",
       "      <th>freq</th>\n",
       "    </tr>\n",
       "  </thead>\n",
       "  <tbody>\n",
       "    <tr>\n",
       "      <th>name</th>\n",
       "      <td>14</td>\n",
       "      <td>14</td>\n",
       "      <td>4th of July Promo</td>\n",
       "      <td>1</td>\n",
       "    </tr>\n",
       "    <tr>\n",
       "      <th>regions</th>\n",
       "      <td>14</td>\n",
       "      <td>6</td>\n",
       "      <td>APAC</td>\n",
       "      <td>4</td>\n",
       "    </tr>\n",
       "    <tr>\n",
       "      <th>start_dt</th>\n",
       "      <td>14</td>\n",
       "      <td>14</td>\n",
       "      <td>2020-12-30</td>\n",
       "      <td>1</td>\n",
       "    </tr>\n",
       "    <tr>\n",
       "      <th>finish_dt</th>\n",
       "      <td>14</td>\n",
       "      <td>14</td>\n",
       "      <td>2020-04-19</td>\n",
       "      <td>1</td>\n",
       "    </tr>\n",
       "  </tbody>\n",
       "</table>\n",
       "</div>"
      ],
      "text/plain": [
       "          count unique                top freq\n",
       "name         14     14  4th of July Promo    1\n",
       "regions      14      6               APAC    4\n",
       "start_dt     14     14         2020-12-30    1\n",
       "finish_dt    14     14         2020-04-19    1"
      ]
     },
     "metadata": {},
     "output_type": "display_data"
    },
    {
     "name": "stdout",
     "output_type": "stream",
     "text": [
      "---\n"
     ]
    }
   ],
   "source": [
    "datasets = [participants, new_users, events, marketing_events]\n",
    "for i in datasets:\n",
    "    display(i.head())\n",
    "    display(i.info())\n",
    "    display(i.describe().T)\n",
    "    print('---')"
   ]
  },
  {
   "cell_type": "markdown",
   "id": "1af89c9c",
   "metadata": {},
   "source": [
    "Пропуски в датасетах отсутствуют."
   ]
  },
  {
   "cell_type": "markdown",
   "id": "26537146",
   "metadata": {},
   "source": [
    "Переведем даты в формат datetime."
   ]
  },
  {
   "cell_type": "code",
   "execution_count": 7,
   "id": "213d5af9",
   "metadata": {},
   "outputs": [],
   "source": [
    "new_users['first_date'] = new_users['first_date'].map(\n",
    "    lambda x: datetime.strptime(x, '%Y-%m-%d'))\n",
    "events['event_dt'] = events['event_dt'].map(\n",
    "    lambda x: pd.Timestamp(datetime.strptime(x, '%Y-%m-%d %H:%M:%S').date()))"
   ]
  },
  {
   "cell_type": "code",
   "execution_count": 8,
   "id": "ec18418c",
   "metadata": {
    "scrolled": false
   },
   "outputs": [
    {
     "name": "stdout",
     "output_type": "stream",
     "text": [
      "<class 'pandas.core.frame.DataFrame'>\n",
      "RangeIndex: 61733 entries, 0 to 61732\n",
      "Data columns (total 4 columns):\n",
      " #   Column      Non-Null Count  Dtype         \n",
      "---  ------      --------------  -----         \n",
      " 0   user_id     61733 non-null  object        \n",
      " 1   first_date  61733 non-null  datetime64[ns]\n",
      " 2   region      61733 non-null  object        \n",
      " 3   device      61733 non-null  object        \n",
      "dtypes: datetime64[ns](1), object(3)\n",
      "memory usage: 1.9+ MB\n"
     ]
    }
   ],
   "source": [
    "new_users.info()"
   ]
  },
  {
   "cell_type": "code",
   "execution_count": 9,
   "id": "6d782286",
   "metadata": {
    "scrolled": false
   },
   "outputs": [
    {
     "name": "stdout",
     "output_type": "stream",
     "text": [
      "<class 'pandas.core.frame.DataFrame'>\n",
      "RangeIndex: 440317 entries, 0 to 440316\n",
      "Data columns (total 4 columns):\n",
      " #   Column      Non-Null Count   Dtype         \n",
      "---  ------      --------------   -----         \n",
      " 0   user_id     440317 non-null  object        \n",
      " 1   event_dt    440317 non-null  datetime64[ns]\n",
      " 2   event_name  440317 non-null  object        \n",
      " 3   details     62740 non-null   float64       \n",
      "dtypes: datetime64[ns](1), float64(1), object(2)\n",
      "memory usage: 13.4+ MB\n"
     ]
    }
   ],
   "source": [
    "events.info()"
   ]
  },
  {
   "cell_type": "markdown",
   "id": "b98ba9a4",
   "metadata": {},
   "source": [
    "Проверим, не было ли пересечений участников теста с другими тестами."
   ]
  },
  {
   "cell_type": "code",
   "execution_count": 10,
   "id": "699a0bb5",
   "metadata": {},
   "outputs": [
    {
     "data": {
      "text/plain": [
       "array(['recommender_system_test', 'interface_eu_test'], dtype=object)"
      ]
     },
     "execution_count": 10,
     "metadata": {},
     "output_type": "execute_result"
    }
   ],
   "source": [
    "participants['ab_test'].unique()"
   ]
  },
  {
   "cell_type": "code",
   "execution_count": 11,
   "id": "35452b12",
   "metadata": {
    "scrolled": false
   },
   "outputs": [
    {
     "data": {
      "text/html": [
       "<div>\n",
       "<style scoped>\n",
       "    .dataframe tbody tr th:only-of-type {\n",
       "        vertical-align: middle;\n",
       "    }\n",
       "\n",
       "    .dataframe tbody tr th {\n",
       "        vertical-align: top;\n",
       "    }\n",
       "\n",
       "    .dataframe thead th {\n",
       "        text-align: right;\n",
       "    }\n",
       "</style>\n",
       "<table border=\"1\" class=\"dataframe\">\n",
       "  <thead>\n",
       "    <tr style=\"text-align: right;\">\n",
       "      <th></th>\n",
       "      <th>ab_test</th>\n",
       "      <th>user_id</th>\n",
       "    </tr>\n",
       "  </thead>\n",
       "  <tbody>\n",
       "    <tr>\n",
       "      <th>0</th>\n",
       "      <td>1</td>\n",
       "      <td>15064</td>\n",
       "    </tr>\n",
       "    <tr>\n",
       "      <th>1</th>\n",
       "      <td>2</td>\n",
       "      <td>1602</td>\n",
       "    </tr>\n",
       "  </tbody>\n",
       "</table>\n",
       "</div>"
      ],
      "text/plain": [
       "   ab_test  user_id\n",
       "0        1    15064\n",
       "1        2     1602"
      ]
     },
     "execution_count": 11,
     "metadata": {},
     "output_type": "execute_result"
    }
   ],
   "source": [
    "(\n",
    "    participants.groupby('user_id', as_index=False)['ab_test']\n",
    "    .count().groupby('ab_test', as_index=False)['user_id'].count()\n",
    ")"
   ]
  },
  {
   "cell_type": "code",
   "execution_count": 12,
   "id": "c4b9437f",
   "metadata": {
    "scrolled": false
   },
   "outputs": [
    {
     "data": {
      "text/plain": [
       "6701"
      ]
     },
     "execution_count": 12,
     "metadata": {},
     "output_type": "execute_result"
    }
   ],
   "source": [
    "participants[participants['ab_test']=='recommender_system_test']['user_id'].count()"
   ]
  },
  {
   "cell_type": "markdown",
   "id": "bd4e5010",
   "metadata": {},
   "source": [
    "Почти четверть всех пользователей участвовала в 2х тестах сразу."
   ]
  },
  {
   "cell_type": "code",
   "execution_count": 13,
   "id": "3f6606b6",
   "metadata": {
    "scrolled": false
   },
   "outputs": [
    {
     "data": {
      "text/plain": [
       "group\n",
       "A    921\n",
       "B    681\n",
       "Name: user_id, dtype: int64"
      ]
     },
     "execution_count": 13,
     "metadata": {},
     "output_type": "execute_result"
    }
   ],
   "source": [
    "participants_check = participants.merge(participants\n",
    "                                        .groupby('user_id', as_index=False)['ab_test']\n",
    "                                        .count(),on='user_id')\n",
    "participants_check[(participants_check['ab_test_x']=='recommender_system_test')&\n",
    "                  (participants_check['ab_test_y']==2)].groupby('group')['user_id'].count()"
   ]
  },
  {
   "cell_type": "code",
   "execution_count": 14,
   "id": "f08b57b6",
   "metadata": {},
   "outputs": [],
   "source": [
    "participants_check = (\n",
    "    participants_check[(participants_check['ab_test_x']=='recommender_system_test')&\n",
    "                       (participants_check['ab_test_y']==2)]\n",
    "    .drop(['ab_test_x', 'group'], axis=1)\n",
    "    .rename(columns={'ab_test_y':'ab_count'})\n",
    "    .merge(participants[participants['ab_test']=='recommender_system_test'], on='user_id', how='left')\n",
    "    .merge(participants[participants['ab_test']=='interface_eu_test'], on='user_id', how='left')\n",
    ")\n",
    "participants_check['group'] = participants_check['group_x']+participants_check['group_y']"
   ]
  },
  {
   "cell_type": "code",
   "execution_count": 15,
   "id": "8c3902f6",
   "metadata": {},
   "outputs": [
    {
     "data": {
      "text/plain": [
       "group\n",
       "AA    482\n",
       "AB    439\n",
       "BA    337\n",
       "BB    344\n",
       "Name: user_id, dtype: int64"
      ]
     },
     "execution_count": 15,
     "metadata": {},
     "output_type": "execute_result"
    }
   ],
   "source": [
    "participants_check.groupby('group')['user_id'].count()"
   ]
  },
  {
   "cell_type": "markdown",
   "id": "cf2c799c",
   "metadata": {},
   "source": [
    "Распределение в группы А и В пользователей попавших в 2 теста совпадает пол количеству с распределением по группам, так же попадание в группы А и В сопадает. С учетом того, что данных пользователей четверть, при этом распределение по группам с 2 тестами, попадание в группу В второго теста по количетсву сопадает с рапределением по группам нашего теста в целом, оставим группы без изменений."
   ]
  },
  {
   "cell_type": "markdown",
   "id": "ee8de9f1",
   "metadata": {},
   "source": [
    "Оставим только пользователей участников теста."
   ]
  },
  {
   "cell_type": "code",
   "execution_count": 16,
   "id": "d4d59522",
   "metadata": {
    "scrolled": false
   },
   "outputs": [
    {
     "data": {
      "text/plain": [
       "6701"
      ]
     },
     "execution_count": 16,
     "metadata": {},
     "output_type": "execute_result"
    }
   ],
   "source": [
    "participants = participants[participants['ab_test']=='recommender_system_test']\n",
    "participants.shape[0]"
   ]
  },
  {
   "cell_type": "markdown",
   "id": "2b2d58fa",
   "metadata": {},
   "source": [
    "Проверим сколько пользователей из региона EU. "
   ]
  },
  {
   "cell_type": "code",
   "execution_count": 17,
   "id": "2e9df743",
   "metadata": {},
   "outputs": [
    {
     "data": {
      "text/plain": [
       "6351"
      ]
     },
     "execution_count": 17,
     "metadata": {},
     "output_type": "execute_result"
    }
   ],
   "source": [
    "participants[participants['user_id'].isin(new_users[new_users['region']=='EU']['user_id'])].shape[0]"
   ]
  },
  {
   "cell_type": "markdown",
   "id": "20c3d337",
   "metadata": {},
   "source": [
    "Оставим только данных пользователей и проверим составляют ли они 15% от пользователей из региона EU."
   ]
  },
  {
   "cell_type": "code",
   "execution_count": 18,
   "id": "c02ac9e2",
   "metadata": {},
   "outputs": [
    {
     "data": {
      "text/plain": [
       "13.725956343202938"
      ]
     },
     "execution_count": 18,
     "metadata": {},
     "output_type": "execute_result"
    }
   ],
   "source": [
    "participants = participants[participants['user_id'].isin(\n",
    "    new_users[new_users['region']=='EU']['user_id'])]\n",
    "participants.shape[0]/new_users[new_users['region']=='EU'].shape[0]*100"
   ]
  },
  {
   "cell_type": "markdown",
   "id": "dc34c1b1",
   "metadata": {},
   "source": [
    "13.7% близко к ТЗ."
   ]
  },
  {
   "cell_type": "markdown",
   "id": "fa4983d7",
   "metadata": {},
   "source": [
    "Проверим не попадают ли пользователи в обе группы АВ теста."
   ]
  },
  {
   "cell_type": "code",
   "execution_count": 19,
   "id": "025318aa",
   "metadata": {},
   "outputs": [
    {
     "data": {
      "text/plain": [
       "0"
      ]
     },
     "execution_count": 19,
     "metadata": {},
     "output_type": "execute_result"
    }
   ],
   "source": [
    "(\n",
    "    participants[participants['group'] == 'A'][['user_id','group']]\n",
    "    .merge(participants[participants['group'] == 'B'][['user_id','group']],\n",
    "           on='user_id')\n",
    ").drop_duplicates(subset='user_id').shape[0]"
   ]
  },
  {
   "cell_type": "markdown",
   "id": "7cf9ddab",
   "metadata": {},
   "source": [
    "Пользователи разделены корректно."
   ]
  },
  {
   "cell_type": "markdown",
   "id": "0754eb0a",
   "metadata": {},
   "source": [
    "Проверим как разбиты пользователи по группам."
   ]
  },
  {
   "cell_type": "code",
   "execution_count": 20,
   "id": "8266ce11",
   "metadata": {
    "scrolled": true
   },
   "outputs": [
    {
     "name": "stdout",
     "output_type": "stream",
     "text": [
      "3634 2717\n"
     ]
    }
   ],
   "source": [
    "print(participants[participants['group']=='A'].shape[0],\n",
    "      participants[participants['group']=='B'].shape[0])"
   ]
  },
  {
   "cell_type": "markdown",
   "id": "9cfb60bd",
   "metadata": {},
   "source": [
    "В целом количество пользователей в группах достаточно равномерное."
   ]
  },
  {
   "cell_type": "markdown",
   "id": "2fd8a0b9",
   "metadata": {},
   "source": [
    "Очистим остальные датафреймы от пользователей не входящих в тестовую."
   ]
  },
  {
   "cell_type": "code",
   "execution_count": 21,
   "id": "a8e6a504",
   "metadata": {},
   "outputs": [],
   "source": [
    "new_users=new_users[new_users['user_id'].isin(participants['user_id'])]"
   ]
  },
  {
   "cell_type": "code",
   "execution_count": 22,
   "id": "7dfd4227",
   "metadata": {},
   "outputs": [],
   "source": [
    "events = events[events['user_id'].isin(participants['user_id'])]"
   ]
  },
  {
   "cell_type": "markdown",
   "id": "eef6e7aa",
   "metadata": {},
   "source": [
    "Рассмотрим даты проведения теста и выгрузки данных."
   ]
  },
  {
   "cell_type": "code",
   "execution_count": 23,
   "id": "d7e0d6f3",
   "metadata": {
    "scrolled": false
   },
   "outputs": [
    {
     "data": {
      "text/plain": [
       "Timestamp('2020-12-30 00:00:00')"
      ]
     },
     "execution_count": 23,
     "metadata": {},
     "output_type": "execute_result"
    }
   ],
   "source": [
    "events['event_dt'].max()"
   ]
  },
  {
   "cell_type": "code",
   "execution_count": 24,
   "id": "64d80748",
   "metadata": {
    "scrolled": true
   },
   "outputs": [
    {
     "data": {
      "text/plain": [
       "Timestamp('2020-12-16 00:00:00')"
      ]
     },
     "execution_count": 24,
     "metadata": {},
     "output_type": "execute_result"
    }
   ],
   "source": [
    "events['event_dt'].max() - timedelta(days=14)"
   ]
  },
  {
   "cell_type": "markdown",
   "id": "1bae6091",
   "metadata": {},
   "source": [
    "По условиям задания, необходимо проверить конверсию пользователей в первые 14 дней, однако тест завершился раньше, чем прошло 14 дней для пользователей, которые зарегистрировались после 16 декабря. Рассмотрим сколько таких пользователей."
   ]
  },
  {
   "cell_type": "code",
   "execution_count": 25,
   "id": "cfc0c324",
   "metadata": {
    "scrolled": false
   },
   "outputs": [
    {
     "data": {
      "text/plain": [
       "2265"
      ]
     },
     "execution_count": 25,
     "metadata": {},
     "output_type": "execute_result"
    }
   ],
   "source": [
    "new_users[(new_users['first_date']>(events['event_dt'].max() - timedelta(days=14)))]['user_id'].nunique()"
   ]
  },
  {
   "cell_type": "markdown",
   "id": "938b713d",
   "metadata": {},
   "source": [
    "Таких пользователей >35% от общего числа пользователей. Удалив, сильно сократим выборку и внесем ошибку в тест."
   ]
  },
  {
   "cell_type": "markdown",
   "id": "41f80b4e",
   "metadata": {},
   "source": [
    "Рассмотрим маркетинговые компании, чтобы оценить влияние на пользователей."
   ]
  },
  {
   "cell_type": "code",
   "execution_count": 26,
   "id": "3806bd04",
   "metadata": {
    "scrolled": true
   },
   "outputs": [
    {
     "data": {
      "text/html": [
       "<div>\n",
       "<style scoped>\n",
       "    .dataframe tbody tr th:only-of-type {\n",
       "        vertical-align: middle;\n",
       "    }\n",
       "\n",
       "    .dataframe tbody tr th {\n",
       "        vertical-align: top;\n",
       "    }\n",
       "\n",
       "    .dataframe thead th {\n",
       "        text-align: right;\n",
       "    }\n",
       "</style>\n",
       "<table border=\"1\" class=\"dataframe\">\n",
       "  <thead>\n",
       "    <tr style=\"text-align: right;\">\n",
       "      <th></th>\n",
       "      <th>name</th>\n",
       "      <th>regions</th>\n",
       "      <th>start_dt</th>\n",
       "      <th>finish_dt</th>\n",
       "    </tr>\n",
       "  </thead>\n",
       "  <tbody>\n",
       "    <tr>\n",
       "      <th>0</th>\n",
       "      <td>Christmas&amp;New Year Promo</td>\n",
       "      <td>EU, N.America</td>\n",
       "      <td>2020-12-25</td>\n",
       "      <td>2021-01-03</td>\n",
       "    </tr>\n",
       "    <tr>\n",
       "      <th>1</th>\n",
       "      <td>St. Valentine's Day Giveaway</td>\n",
       "      <td>EU, CIS, APAC, N.America</td>\n",
       "      <td>2020-02-14</td>\n",
       "      <td>2020-02-16</td>\n",
       "    </tr>\n",
       "    <tr>\n",
       "      <th>2</th>\n",
       "      <td>St. Patric's Day Promo</td>\n",
       "      <td>EU, N.America</td>\n",
       "      <td>2020-03-17</td>\n",
       "      <td>2020-03-19</td>\n",
       "    </tr>\n",
       "    <tr>\n",
       "      <th>3</th>\n",
       "      <td>Easter Promo</td>\n",
       "      <td>EU, CIS, APAC, N.America</td>\n",
       "      <td>2020-04-12</td>\n",
       "      <td>2020-04-19</td>\n",
       "    </tr>\n",
       "    <tr>\n",
       "      <th>4</th>\n",
       "      <td>4th of July Promo</td>\n",
       "      <td>N.America</td>\n",
       "      <td>2020-07-04</td>\n",
       "      <td>2020-07-11</td>\n",
       "    </tr>\n",
       "    <tr>\n",
       "      <th>5</th>\n",
       "      <td>Black Friday Ads Campaign</td>\n",
       "      <td>EU, CIS, APAC, N.America</td>\n",
       "      <td>2020-11-26</td>\n",
       "      <td>2020-12-01</td>\n",
       "    </tr>\n",
       "    <tr>\n",
       "      <th>6</th>\n",
       "      <td>Chinese New Year Promo</td>\n",
       "      <td>APAC</td>\n",
       "      <td>2020-01-25</td>\n",
       "      <td>2020-02-07</td>\n",
       "    </tr>\n",
       "    <tr>\n",
       "      <th>7</th>\n",
       "      <td>Labor day (May 1st) Ads Campaign</td>\n",
       "      <td>EU, CIS, APAC</td>\n",
       "      <td>2020-05-01</td>\n",
       "      <td>2020-05-03</td>\n",
       "    </tr>\n",
       "    <tr>\n",
       "      <th>8</th>\n",
       "      <td>International Women's Day Promo</td>\n",
       "      <td>EU, CIS, APAC</td>\n",
       "      <td>2020-03-08</td>\n",
       "      <td>2020-03-10</td>\n",
       "    </tr>\n",
       "    <tr>\n",
       "      <th>9</th>\n",
       "      <td>Victory Day CIS (May 9th) Event</td>\n",
       "      <td>CIS</td>\n",
       "      <td>2020-05-09</td>\n",
       "      <td>2020-05-11</td>\n",
       "    </tr>\n",
       "    <tr>\n",
       "      <th>10</th>\n",
       "      <td>CIS New Year Gift Lottery</td>\n",
       "      <td>CIS</td>\n",
       "      <td>2020-12-30</td>\n",
       "      <td>2021-01-07</td>\n",
       "    </tr>\n",
       "    <tr>\n",
       "      <th>11</th>\n",
       "      <td>Dragon Boat Festival Giveaway</td>\n",
       "      <td>APAC</td>\n",
       "      <td>2020-06-25</td>\n",
       "      <td>2020-07-01</td>\n",
       "    </tr>\n",
       "    <tr>\n",
       "      <th>12</th>\n",
       "      <td>Single's Day Gift Promo</td>\n",
       "      <td>APAC</td>\n",
       "      <td>2020-11-11</td>\n",
       "      <td>2020-11-12</td>\n",
       "    </tr>\n",
       "    <tr>\n",
       "      <th>13</th>\n",
       "      <td>Chinese Moon Festival</td>\n",
       "      <td>APAC</td>\n",
       "      <td>2020-10-01</td>\n",
       "      <td>2020-10-07</td>\n",
       "    </tr>\n",
       "  </tbody>\n",
       "</table>\n",
       "</div>"
      ],
      "text/plain": [
       "                                name                   regions    start_dt  \\\n",
       "0           Christmas&New Year Promo             EU, N.America  2020-12-25   \n",
       "1       St. Valentine's Day Giveaway  EU, CIS, APAC, N.America  2020-02-14   \n",
       "2             St. Patric's Day Promo             EU, N.America  2020-03-17   \n",
       "3                       Easter Promo  EU, CIS, APAC, N.America  2020-04-12   \n",
       "4                  4th of July Promo                 N.America  2020-07-04   \n",
       "5          Black Friday Ads Campaign  EU, CIS, APAC, N.America  2020-11-26   \n",
       "6             Chinese New Year Promo                      APAC  2020-01-25   \n",
       "7   Labor day (May 1st) Ads Campaign             EU, CIS, APAC  2020-05-01   \n",
       "8    International Women's Day Promo             EU, CIS, APAC  2020-03-08   \n",
       "9    Victory Day CIS (May 9th) Event                       CIS  2020-05-09   \n",
       "10         CIS New Year Gift Lottery                       CIS  2020-12-30   \n",
       "11     Dragon Boat Festival Giveaway                      APAC  2020-06-25   \n",
       "12           Single's Day Gift Promo                      APAC  2020-11-11   \n",
       "13             Chinese Moon Festival                      APAC  2020-10-01   \n",
       "\n",
       "     finish_dt  \n",
       "0   2021-01-03  \n",
       "1   2020-02-16  \n",
       "2   2020-03-19  \n",
       "3   2020-04-19  \n",
       "4   2020-07-11  \n",
       "5   2020-12-01  \n",
       "6   2020-02-07  \n",
       "7   2020-05-03  \n",
       "8   2020-03-10  \n",
       "9   2020-05-11  \n",
       "10  2021-01-07  \n",
       "11  2020-07-01  \n",
       "12  2020-11-12  \n",
       "13  2020-10-07  "
      ]
     },
     "execution_count": 26,
     "metadata": {},
     "output_type": "execute_result"
    }
   ],
   "source": [
    "marketing_events"
   ]
  },
  {
   "cell_type": "markdown",
   "id": "4e7cfe64",
   "metadata": {},
   "source": [
    "В период теста проводилась компания к Рождеству и Новому году и он занимает 6 дней из нашнего 24 дневного теста, то есть почти четверть дней. Удалять такой массив информации будет некорректно."
   ]
  },
  {
   "cell_type": "markdown",
   "id": "37031807",
   "metadata": {},
   "source": [
    "Проверим сколько событий произошло после 14 с даты регистрации пользователей."
   ]
  },
  {
   "cell_type": "code",
   "execution_count": 27,
   "id": "9c213334",
   "metadata": {
    "scrolled": true
   },
   "outputs": [
    {
     "name": "stdout",
     "output_type": "stream",
     "text": [
      "23420\n"
     ]
    },
    {
     "data": {
      "text/plain": [
       "22828"
      ]
     },
     "execution_count": 27,
     "metadata": {},
     "output_type": "execute_result"
    }
   ],
   "source": [
    "date_check = events.merge(new_users, left_on='user_id', right_on='user_id', how='left')\n",
    "print(date_check.shape[0])\n",
    "date_check[date_check['event_dt'] <= (date_check['first_date'] + timedelta(days=14))].shape[0]"
   ]
  },
  {
   "cell_type": "markdown",
   "id": "4d90a7c8",
   "metadata": {},
   "source": [
    "Всего 600 записей. Удалим данные события из датасета events."
   ]
  },
  {
   "cell_type": "code",
   "execution_count": 28,
   "id": "048b312a",
   "metadata": {},
   "outputs": [],
   "source": [
    "events = date_check[date_check['event_dt'] <= (date_check['first_date'] + timedelta(days=14))]"
   ]
  },
  {
   "cell_type": "markdown",
   "id": "ff2f5081",
   "metadata": {},
   "source": [
    "Добавим к таблице с событиями группа теста, к которой относится участник."
   ]
  },
  {
   "cell_type": "code",
   "execution_count": 29,
   "id": "3952d5b2",
   "metadata": {},
   "outputs": [],
   "source": [
    "events = events.merge(participants,\n",
    "                      on = 'user_id',\n",
    "                      how = 'left').drop(['region', 'ab_test'], axis=1)"
   ]
  },
  {
   "cell_type": "markdown",
   "id": "d515fc93",
   "metadata": {},
   "source": [
    "Рассмотрим распределение в процентом соотношении количества собитый по пользователям в выборках."
   ]
  },
  {
   "cell_type": "code",
   "execution_count": 30,
   "id": "8f279a6f",
   "metadata": {
    "scrolled": true
   },
   "outputs": [],
   "source": [
    "event_per_user_A = (events[events['group']=='A'].groupby('user_id',as_index=False)['event_name']\n",
    "            .count().groupby('event_name',as_index=False)['user_id'].count())\n",
    "event_per_user_A['user_id'] = event_per_user_A['user_id']/(event_per_user_A['user_id'].sum())*100"
   ]
  },
  {
   "cell_type": "code",
   "execution_count": 31,
   "id": "9f3198bc",
   "metadata": {},
   "outputs": [],
   "source": [
    "event_per_user_B = (events[events['group']=='B'].groupby('user_id',as_index=False)['event_name']\n",
    "            .count().groupby('event_name',as_index=False)['user_id'].count())\n",
    "event_per_user_B['user_id'] = event_per_user_B['user_id']/(event_per_user_B['user_id'].sum())*100"
   ]
  },
  {
   "cell_type": "code",
   "execution_count": 32,
   "id": "2db30e40",
   "metadata": {
    "scrolled": true
   },
   "outputs": [
    {
     "data": {
      "image/png": "[encoded data removed]",
      "text/plain": [
       "<Figure size 864x360 with 1 Axes>"
      ]
     },
     "metadata": {
      "needs_background": "light"
     },
     "output_type": "display_data"
    }
   ],
   "source": [
    "fig = plt.figure(figsize=(12,5))\n",
    "plt.bar(event_per_user_A['event_name']-0.2, \n",
    "        event_per_user_A['user_id'], width=0.4, label='A',align='center')\n",
    "plt.bar(event_per_user_B['event_name']+0.2, \n",
    "        event_per_user_B['user_id'], width=0.4, label='B',align='center')\n",
    "plt.legend()\n",
    "plt.show()"
   ]
  },
  {
   "cell_type": "markdown",
   "id": "41891bf1",
   "metadata": {},
   "source": [
    "Из графика распределения видно, что в группе А больше пользователей в % соотношении совершают более 5 действий, данный факт должен найти свое отражение в лучшей конверсии."
   ]
  },
  {
   "cell_type": "markdown",
   "id": "7c052de1",
   "metadata": {},
   "source": [
    "Рассмотрим распределение в процентом соотношении количества собитый по дням в выборках."
   ]
  },
  {
   "cell_type": "code",
   "execution_count": 33,
   "id": "b7a3dbd3",
   "metadata": {
    "scrolled": false
   },
   "outputs": [],
   "source": [
    "event_per_day_A = events[events['group']=='A'].groupby('event_dt',as_index=False)['event_name'].count()\n",
    "event_per_day_A['event_name']=event_per_day_A['event_name']/event_per_day_A['event_name'].sum()*100"
   ]
  },
  {
   "cell_type": "code",
   "execution_count": 34,
   "id": "b239e312",
   "metadata": {
    "scrolled": false
   },
   "outputs": [],
   "source": [
    "event_per_day_B = events[events['group']=='B'].groupby('event_dt',as_index=False)['event_name'].count()\n",
    "event_per_day_B['event_name']=event_per_day_B['event_name']/event_per_day_B['event_name'].sum()*100"
   ]
  },
  {
   "cell_type": "code",
   "execution_count": 35,
   "id": "711f9628",
   "metadata": {
    "scrolled": true
   },
   "outputs": [
    {
     "data": {
      "image/png": "[encoded data removed]",
      "text/plain": [
       "<Figure size 864x360 with 1 Axes>"
      ]
     },
     "metadata": {
      "needs_background": "light"
     },
     "output_type": "display_data"
    }
   ],
   "source": [
    "fig = plt.figure(figsize=(12,5))\n",
    "ax = plt.subplot(111)\n",
    "ax.bar(date2num(event_per_day_A['event_dt'])-0.2,\n",
    "       event_per_day_A['event_name'], width=0.4, label='A',align='center')\n",
    "ax.bar(date2num(event_per_day_B['event_dt'])+0.2,\n",
    "       event_per_day_B['event_name'], width=0.4, label='B',align='center')\n",
    "ax.legend()\n",
    "ax.xaxis_date()\n",
    "plt.show()"
   ]
  },
  {
   "cell_type": "markdown",
   "id": "57598934",
   "metadata": {},
   "source": [
    "Из графика распределения видно, что в группе В больше пользователей в % соотношении совершают действия в начале исследования, после 13 декабря виден резкий скачок в группе А и далее, как правило, пользователи этой группы и совершают больше всего действий. Скорее всего движений пользователей по воронке в группе В должно быть меньше"
   ]
  },
  {
   "cell_type": "markdown",
   "id": "b3480014",
   "metadata": {},
   "source": [
    "Проверим переходы пользователей по воронке."
   ]
  },
  {
   "cell_type": "code",
   "execution_count": 36,
   "id": "73648e1c",
   "metadata": {
    "scrolled": true
   },
   "outputs": [
    {
     "data": {
      "text/plain": [
       "event_name\n",
       "login           10313\n",
       "product_page     6382\n",
       "product_cart     3010\n",
       "purchase         3123\n",
       "Name: user_id, dtype: int64"
      ]
     },
     "execution_count": 36,
     "metadata": {},
     "output_type": "execute_result"
    }
   ],
   "source": [
    "events.groupby('event_name')['user_id'].count().reindex(['login', 'product_page', 'product_cart', 'purchase'])"
   ]
  },
  {
   "cell_type": "markdown",
   "id": "ca40737b",
   "metadata": {},
   "source": [
    "Странная картина, посещений корзины меньше, чем покупок. Возможно, здесь работает меню быстрой покупки без посещения корзины. При проведении АВ теста будет использовать общую конверсию для каждого шага."
   ]
  },
  {
   "cell_type": "markdown",
   "id": "bfab9923",
   "metadata": {},
   "source": [
    "Построим графики воронок по группам."
   ]
  },
  {
   "cell_type": "code",
   "execution_count": 37,
   "id": "f70d9406",
   "metadata": {
    "scrolled": true
   },
   "outputs": [],
   "source": [
    "funnel = events.groupby('event_name')['user_id'].count()\n",
    "funnel = funnel.reindex(['login', 'product_page', 'product_cart', 'purchase'])\n",
    "funnel = pd.DataFrame({'step':['login', 'product_page', 'product_cart', 'purchase']}, funnel).reset_index()\n",
    "funnel['user_id']=funnel['user_id'] / funnel.loc[0,'user_id']*100"
   ]
  },
  {
   "cell_type": "code",
   "execution_count": 38,
   "id": "1fad3094",
   "metadata": {
    "scrolled": false
   },
   "outputs": [],
   "source": [
    "funnel_A = events[events['group']=='A'].groupby('event_name')['user_id'].count()\n",
    "funnel_A = funnel_A.reindex(['login', 'product_page', 'product_cart', 'purchase'])\n",
    "funnel_A = pd.DataFrame({'step':['login', 'product_page', 'product_cart', 'purchase']}, funnel_A).reset_index()\n",
    "funnel_A['user_id']=funnel_A['user_id'] / funnel_A.loc[0,'user_id']*100"
   ]
  },
  {
   "cell_type": "code",
   "execution_count": 39,
   "id": "0d63029a",
   "metadata": {
    "scrolled": false
   },
   "outputs": [],
   "source": [
    "funnel_B = events[events['group']=='B'].groupby('event_name')['user_id'].count()\n",
    "funnel_B = funnel_B.reindex(['login', 'product_page', 'product_cart', 'purchase'])\n",
    "funnel_B = pd.DataFrame({'step':['login', 'product_page', 'product_cart', 'purchase']}, funnel_B).reset_index()\n",
    "funnel_B['user_id']=funnel_B['user_id'] / funnel_B.loc[0,'user_id']*100"
   ]
  },
  {
   "cell_type": "code",
   "execution_count": 40,
   "id": "1a6d1b63",
   "metadata": {},
   "outputs": [],
   "source": [
    "#напишем функцию для построения графиков\n",
    "def plot(data, x, y, xlim):\n",
    "    plt.figure(figsize = (8,5))\n",
    "    sns.set_style(\"whitegrid\")\n",
    "    sns.set_color_codes(\"pastel\")\n",
    "    ax = sns.barplot(x=x, y=y, \n",
    "                data= data,\n",
    "                label=\"Total\")\n",
    "\n",
    "    ax.set(xlim=(0, xlim), ylabel=\"\")\n",
    "    sns.despine(left=True, bottom=True)"
   ]
  },
  {
   "cell_type": "code",
   "execution_count": 41,
   "id": "c658386a",
   "metadata": {
    "scrolled": false
   },
   "outputs": [
    {
     "data": {
      "image/png": "[encoded data removed]",
      "text/plain": [
       "<Figure size 576x360 with 1 Axes>"
      ]
     },
     "metadata": {
      "needs_background": "light"
     },
     "output_type": "display_data"
    },
    {
     "data": {
      "image/png": "[encoded data removed]",
      "text/plain": [
       "<Figure size 576x360 with 1 Axes>"
      ]
     },
     "metadata": {},
     "output_type": "display_data"
    },
    {
     "data": {
      "image/png": "[encoded data removed]",
      "text/plain": [
       "<Figure size 576x360 with 1 Axes>"
      ]
     },
     "metadata": {},
     "output_type": "display_data"
    }
   ],
   "source": [
    "for i in [funnel,funnel_A,funnel_B]:\n",
    "    plot(i,'user_id', 'step', 100)"
   ]
  },
  {
   "cell_type": "markdown",
   "id": "53c53d29",
   "metadata": {},
   "source": [
    "Графики конверсий подтверждают наши предположения по предыдущим графикам, конверсия пользователей в группе А заметно выше на этапе перехода к странице товара, и так же лучше на этапе перехода к корзине и покупке."
   ]
  },
  {
   "cell_type": "markdown",
   "id": "72d16a9f",
   "metadata": {},
   "source": [
    "Данные подготовлены и проверены, можно начинать тест."
   ]
  },
  {
   "cell_type": "markdown",
   "id": "a8ee1bf4",
   "metadata": {},
   "source": [
    "##  AB тест"
   ]
  },
  {
   "cell_type": "markdown",
   "id": "d1f40f5d",
   "metadata": {},
   "source": [
    "Подготовим функцию для АB теста."
   ]
  },
  {
   "cell_type": "code",
   "execution_count": 42,
   "id": "7e923811",
   "metadata": {},
   "outputs": [],
   "source": [
    "def a_b_test (result, appear, alpha):\n",
    "    print(f'Конверсия из {appear} в {result}')\n",
    "    #p-value z-теста\n",
    "    p_value = proportions_ztest(\n",
    "            [\n",
    "                events[(events['group']=='A')&(events['event_name']==result)].groupby('user_id')['event_name'].nunique().sum(),\n",
    "                events[(events['group']=='B')&(events['event_name']==result)].groupby('user_id')['event_name'].nunique().sum()\n",
    "            ],\n",
    "            [\n",
    "                events[(events['group']=='A')&(events['event_name']==appear)].groupby('user_id')['event_name'].nunique().sum(),\n",
    "                events[(events['group']=='B')&(events['event_name']==appear)].groupby('user_id')['event_name'].nunique().sum()\n",
    "            ]\n",
    "        )[1]\n",
    "    print(f'p-значение: {p_value:.5f}')\n",
    "    #сравнение p-value с заданным уровнем значимости\n",
    "    if p_value < alpha:\n",
    "        print('Отвергаем нулевую гипотезу: между долями есть значимая разница')\n",
    "    else:\n",
    "        print(\n",
    "            'Не получилось отвергнуть нулевую гипотезу, нет оснований считать доли разными'\n",
    "        )\n",
    "    #конверсия групп\n",
    "    p1 = (events[(events['group']=='A')&(events['event_name']==result)].groupby('user_id')['event_name'].nunique().sum()\n",
    "          /events[(events['group']=='A')&(events['event_name']==appear)].groupby('user_id')['event_name'].nunique().sum())\n",
    "    \n",
    "    p2 = (events[(events['group']=='B')&(events['event_name']==result)].groupby('user_id')['event_name'].nunique().sum()\n",
    "          /events[(events['group']=='B')&(events['event_name']==appear)].groupby('user_id')['event_name'].nunique().sum())\n",
    "    \n",
    "    #число пользователей групп\n",
    "    p1_numbers=events[(events['group']=='A')&(events['event_name']==result)].groupby('user_id')['event_name'].nunique().sum()\n",
    "    p2_numbers=events[(events['group']=='B')&(events['event_name']==result)].groupby('user_id')['event_name'].nunique().sum()  \n",
    "    \n",
    "    print(f'Конверсия группы A - {p1:.1%}; B - {p2:.1%}')    \n",
    "    print(f'Число пользователей группы A - {p1_numbers:.0f}; B - {p2_numbers:.0f}')\n",
    "    print()"
   ]
  },
  {
   "cell_type": "markdown",
   "id": "119ee1f5",
   "metadata": {},
   "source": [
    "Проведем AB тесты по воронкам. Нулевой гипотезой будет отсутствие статистически значимой разницы между пользователями, альтернативная гипотеза - между долями есть значимая разница."
   ]
  },
  {
   "cell_type": "code",
   "execution_count": 43,
   "id": "22633e75",
   "metadata": {
    "scrolled": false
   },
   "outputs": [
    {
     "name": "stdout",
     "output_type": "stream",
     "text": [
      "Конверсия из login в product_page\n",
      "p-значение: 0.00001\n",
      "Отвергаем нулевую гипотезу: между долями есть значимая разница\n",
      "Конверсия группы A - 64.7%; B - 56.3%\n",
      "Число пользователей группы A - 1685; B - 493\n",
      "\n"
     ]
    }
   ],
   "source": [
    "a_b_test('product_page', 'login', 0.05)"
   ]
  },
  {
   "cell_type": "code",
   "execution_count": 44,
   "id": "f924bac1",
   "metadata": {
    "scrolled": true
   },
   "outputs": [
    {
     "name": "stdout",
     "output_type": "stream",
     "text": [
      "Конверсия из login в product_cart\n",
      "p-значение: 0.22159\n",
      "Не получилось отвергнуть нулевую гипотезу, нет оснований считать доли разными\n",
      "Конверсия группы A - 30.0%; B - 27.9%\n",
      "Число пользователей группы A - 782; B - 244\n",
      "\n"
     ]
    }
   ],
   "source": [
    "a_b_test('product_cart', 'login', 0.05)"
   ]
  },
  {
   "cell_type": "code",
   "execution_count": 45,
   "id": "64e69d23",
   "metadata": {
    "scrolled": false
   },
   "outputs": [
    {
     "name": "stdout",
     "output_type": "stream",
     "text": [
      "Конверсия из login в purchase\n",
      "p-значение: 0.04865\n",
      "Отвергаем нулевую гипотезу: между долями есть значимая разница\n",
      "Конверсия группы A - 32.0%; B - 28.4%\n",
      "Число пользователей группы A - 833; B - 249\n",
      "\n"
     ]
    }
   ],
   "source": [
    "a_b_test('purchase', 'login', 0.05)"
   ]
  },
  {
   "cell_type": "markdown",
   "id": "f6da09b1",
   "metadata": {},
   "source": [
    "### Результаты АВ-теста:\n",
    "\n",
    "- при переходе от авторизации к странице продукта получили обратный ожидаемому эффект снижение конверсии на 8% со статистически значимыми различиями;\n",
    "- конверсия к корзине тоже не достигла ожидаемого роста в 10%, получили снижение на 2%, однако статистически значимного различия не получили;\n",
    "- конверсия из авторизации в покупку снизилась почти на 3,5% со статистически значимыми различиями;\n",
    "- с учетом всех полученных данных результатам исследования данных, результатам теста в целом можно доверять;\n",
    "- с учетом полученных результатов необходимо остановить тест и откатиться к прежнему варианту."
   ]
  },
  {
   "cell_type": "markdown",
   "id": "01de76cc",
   "metadata": {},
   "source": [
    "## Выводы"
   ]
  },
  {
   "cell_type": "markdown",
   "id": "d5fc1e74",
   "metadata": {},
   "source": [
    "- выполнен импорт необходимых инструментов и загрузка датасетов для анализа;\n",
    "- выполнен перевод данных в корректный формат;\n",
    "- выполнена проверка пользователей на попадание в обе группы;\n",
    "- выполнена проверка дат проведения теста и соответствие ТЗ - действия в первые 14 дней;\n",
    "- обнаружена ошибка - остановка сбора данных произошла раньше, чем указано в ТЗ, 6 дней могли внести существенные изменения, в результате в статистику попали пользователи, которые не \"получили\" 14 дней на действия, однако таких пользователей было почти 35%, удалять их было некорректно с точки зрения качества статистических данных;\n",
    "- окончание теста совпадало с началом Рождественских и Новогодних акций;\n",
    "- при построении воронки обнаружена аномалия - посещений корзины меньше, чем покупок. Возможно, здесь работает меню быстрой покупки без посещения корзины. При проведении АВ теста будет использовалась общая конверсию для каждого шага;\n",
    "- из графика распределения количества действий по пользователям видно, что в группе А больше пользователей в % соотношении совершают более 5 действий, данный факт отражается на конверсии;\n",
    "- из графика распределения действий по дням видно, что в группе В больше пользователей в % соотношении совершают действия в начале исследования, после 13 декабря виден резкий скачок в группе А и далее, как правило, пользователи этой группы и совершают больше всего действий. Скорее всего движений пользователей по воронке в группе В должно быть меньше;\n",
    "- графики конверсий подтвердили наши предположения по графикам распределения действий по дням и пользователям, конверсия пользователей в группе А заметно выше на этапе перехода к странице товара, и так же лучше на этапе перехода к корзине и покупке.\n",
    "\n",
    "- **Результаты АВ-теста:**\n",
    "    - при переходе от авторизации к странице продукта получили обратный ожидаемому эффект снижение конверсии на 8% со статистически значимыми различиями;\n",
    "    - конверсия к корзине тоже не достигла ожидаемого роста в 10%, получили снижение на 2%, однако статистически значимного различия не получили;\n",
    "    - конверсия из авторизации в покупку снизилась почти на 3,5% со статистически значимыми различиями;\n",
    "    - с учетом всех полученных данных результатам исследования данных, результатам теста в целом можно доверять;\n",
    "    - с учетом полученных результатов необходимо остановить тест и откатиться к прежнему варианту;\n",
    "    \n",
    "- **Рекомендации:**\n",
    "    - уделить внимание качеству сбора данных и не прерывать сбор данных раньше обозначенных в ТЗ;\n",
    "    - проверять корректности ожидаемой воронки и при возможности совершения действия в обход одного из участков воронки - указывать это в задании;\n",
    "    - с учетом полученных результатов необходимо остановить тест и откатиться к прежнему варианту рекомендаций."
   ]
  }
 ],
 "metadata": {
  "ExecuteTimeLog": [
   {
    "duration": 131,
    "start_time": "2022-07-26T15:43:38.068Z"
   },
   {
    "duration": 47,
    "start_time": "2022-07-26T15:49:57.023Z"
   },
   {
    "duration": 1171,
    "start_time": "2022-07-26T15:50:01.399Z"
   },
   {
    "duration": 6,
    "start_time": "2022-07-26T15:50:02.572Z"
   },
   {
    "duration": 9,
    "start_time": "2022-07-26T15:50:02.580Z"
   },
   {
    "duration": 321,
    "start_time": "2022-07-26T15:50:02.590Z"
   },
   {
    "duration": 0,
    "start_time": "2022-07-26T15:50:02.914Z"
   },
   {
    "duration": 0,
    "start_time": "2022-07-26T15:50:02.915Z"
   },
   {
    "duration": 0,
    "start_time": "2022-07-26T15:50:02.916Z"
   },
   {
    "duration": 0,
    "start_time": "2022-07-26T15:50:02.917Z"
   },
   {
    "duration": 0,
    "start_time": "2022-07-26T15:50:02.918Z"
   },
   {
    "duration": 0,
    "start_time": "2022-07-26T15:50:02.919Z"
   },
   {
    "duration": 0,
    "start_time": "2022-07-26T15:50:02.920Z"
   },
   {
    "duration": 0,
    "start_time": "2022-07-26T15:50:02.921Z"
   },
   {
    "duration": 0,
    "start_time": "2022-07-26T15:50:02.922Z"
   },
   {
    "duration": 0,
    "start_time": "2022-07-26T15:50:02.923Z"
   },
   {
    "duration": 0,
    "start_time": "2022-07-26T15:50:02.924Z"
   },
   {
    "duration": 9,
    "start_time": "2022-07-26T15:50:05.619Z"
   },
   {
    "duration": 1939,
    "start_time": "2022-07-26T15:52:10.142Z"
   },
   {
    "duration": 13,
    "start_time": "2022-07-26T15:52:15.439Z"
   },
   {
    "duration": 14,
    "start_time": "2022-07-26T15:52:16.025Z"
   },
   {
    "duration": 5,
    "start_time": "2022-07-26T15:52:16.639Z"
   },
   {
    "duration": 13,
    "start_time": "2022-07-26T15:52:17.021Z"
   },
   {
    "duration": 10,
    "start_time": "2022-07-26T15:52:19.626Z"
   },
   {
    "duration": 6,
    "start_time": "2022-07-26T15:52:19.974Z"
   },
   {
    "duration": 8,
    "start_time": "2022-07-26T15:52:20.942Z"
   },
   {
    "duration": 15,
    "start_time": "2022-07-26T15:52:21.907Z"
   },
   {
    "duration": 48,
    "start_time": "2022-07-26T15:52:22.562Z"
   },
   {
    "duration": 6,
    "start_time": "2022-07-26T15:52:24.056Z"
   },
   {
    "duration": 6,
    "start_time": "2022-07-26T15:52:24.809Z"
   },
   {
    "duration": 106,
    "start_time": "2022-07-26T15:52:26.876Z"
   },
   {
    "duration": 169,
    "start_time": "2022-07-26T15:53:38.774Z"
   },
   {
    "duration": 110,
    "start_time": "2022-07-26T15:53:57.473Z"
   },
   {
    "duration": 112,
    "start_time": "2022-07-26T15:54:03.538Z"
   },
   {
    "duration": 108,
    "start_time": "2022-07-26T15:54:13.911Z"
   },
   {
    "duration": 112,
    "start_time": "2022-07-26T15:54:48.503Z"
   },
   {
    "duration": 108,
    "start_time": "2022-07-26T15:55:05.080Z"
   },
   {
    "duration": 33,
    "start_time": "2022-07-26T15:57:40.735Z"
   },
   {
    "duration": 12,
    "start_time": "2022-07-26T15:57:51.477Z"
   },
   {
    "duration": 11,
    "start_time": "2022-07-26T15:57:58.972Z"
   },
   {
    "duration": 11,
    "start_time": "2022-07-26T15:58:29.199Z"
   },
   {
    "duration": 11,
    "start_time": "2022-07-26T15:58:33.990Z"
   },
   {
    "duration": 10,
    "start_time": "2022-07-26T15:58:39.638Z"
   },
   {
    "duration": 1249,
    "start_time": "2022-07-30T05:42:04.439Z"
   },
   {
    "duration": 6,
    "start_time": "2022-07-30T05:42:05.690Z"
   },
   {
    "duration": 4,
    "start_time": "2022-07-30T05:42:05.697Z"
   },
   {
    "duration": 936,
    "start_time": "2022-07-30T05:42:05.703Z"
   },
   {
    "duration": 234,
    "start_time": "2022-07-30T05:42:06.641Z"
   },
   {
    "duration": 4540,
    "start_time": "2022-07-30T05:42:06.876Z"
   },
   {
    "duration": 16,
    "start_time": "2022-07-30T05:42:11.418Z"
   },
   {
    "duration": 61,
    "start_time": "2022-07-30T05:42:11.436Z"
   },
   {
    "duration": 7,
    "start_time": "2022-07-30T05:42:11.500Z"
   },
   {
    "duration": 29,
    "start_time": "2022-07-30T05:42:11.509Z"
   },
   {
    "duration": 35,
    "start_time": "2022-07-30T05:42:11.541Z"
   },
   {
    "duration": 13,
    "start_time": "2022-07-30T05:42:11.578Z"
   },
   {
    "duration": 5,
    "start_time": "2022-07-30T05:42:11.593Z"
   },
   {
    "duration": 7,
    "start_time": "2022-07-30T05:42:11.600Z"
   },
   {
    "duration": 38,
    "start_time": "2022-07-30T05:42:11.608Z"
   },
   {
    "duration": 25,
    "start_time": "2022-07-30T05:42:11.648Z"
   },
   {
    "duration": 4,
    "start_time": "2022-07-30T05:42:11.675Z"
   },
   {
    "duration": 7,
    "start_time": "2022-07-30T05:42:11.680Z"
   },
   {
    "duration": 7,
    "start_time": "2022-07-30T05:42:11.689Z"
   },
   {
    "duration": 23,
    "start_time": "2022-07-30T05:42:11.697Z"
   },
   {
    "duration": 5,
    "start_time": "2022-07-30T05:42:11.721Z"
   },
   {
    "duration": 46,
    "start_time": "2022-07-30T05:42:11.728Z"
   },
   {
    "duration": 8,
    "start_time": "2022-07-30T05:42:11.775Z"
   },
   {
    "duration": 7,
    "start_time": "2022-07-30T05:42:11.784Z"
   },
   {
    "duration": 54,
    "start_time": "2022-07-30T05:42:11.792Z"
   },
   {
    "duration": 62,
    "start_time": "2022-07-30T05:42:11.847Z"
   },
   {
    "duration": 42,
    "start_time": "2022-07-30T05:42:11.910Z"
   },
   {
    "duration": 49,
    "start_time": "2022-07-30T05:42:11.954Z"
   },
   {
    "duration": 43,
    "start_time": "2022-07-30T05:42:12.005Z"
   },
   {
    "duration": 16,
    "start_time": "2022-07-30T05:52:44.256Z"
   },
   {
    "duration": 80,
    "start_time": "2022-07-31T11:27:01.390Z"
   },
   {
    "duration": 1474,
    "start_time": "2022-07-31T11:27:07.955Z"
   },
   {
    "duration": 10,
    "start_time": "2022-07-31T11:27:09.433Z"
   },
   {
    "duration": 28,
    "start_time": "2022-07-31T11:27:09.447Z"
   },
   {
    "duration": 13,
    "start_time": "2022-07-31T11:27:09.478Z"
   },
   {
    "duration": 2361,
    "start_time": "2022-07-31T11:27:09.497Z"
   },
   {
    "duration": 331,
    "start_time": "2022-07-31T11:27:11.860Z"
   },
   {
    "duration": 6971,
    "start_time": "2022-07-31T11:27:12.193Z"
   },
   {
    "duration": 25,
    "start_time": "2022-07-31T11:27:19.168Z"
   },
   {
    "duration": 77,
    "start_time": "2022-07-31T11:27:19.195Z"
   },
   {
    "duration": 7,
    "start_time": "2022-07-31T11:27:19.275Z"
   },
   {
    "duration": 64,
    "start_time": "2022-07-31T11:27:19.283Z"
   },
   {
    "duration": 9,
    "start_time": "2022-07-31T11:27:19.349Z"
   },
   {
    "duration": 38,
    "start_time": "2022-07-31T11:27:19.360Z"
   },
   {
    "duration": 26,
    "start_time": "2022-07-31T11:27:19.422Z"
   },
   {
    "duration": 7,
    "start_time": "2022-07-31T11:27:19.450Z"
   },
   {
    "duration": 28,
    "start_time": "2022-07-31T11:27:19.459Z"
   },
   {
    "duration": 27,
    "start_time": "2022-07-31T11:27:19.490Z"
   },
   {
    "duration": 29,
    "start_time": "2022-07-31T11:27:19.519Z"
   },
   {
    "duration": 21,
    "start_time": "2022-07-31T11:27:19.551Z"
   },
   {
    "duration": 8,
    "start_time": "2022-07-31T11:27:19.575Z"
   },
   {
    "duration": 40,
    "start_time": "2022-07-31T11:27:19.585Z"
   },
   {
    "duration": 40,
    "start_time": "2022-07-31T11:27:19.627Z"
   },
   {
    "duration": 7,
    "start_time": "2022-07-31T11:27:19.670Z"
   },
   {
    "duration": 16,
    "start_time": "2022-07-31T11:27:19.679Z"
   },
   {
    "duration": 29,
    "start_time": "2022-07-31T11:27:19.696Z"
   },
   {
    "duration": 17,
    "start_time": "2022-07-31T11:27:19.727Z"
   },
   {
    "duration": 45,
    "start_time": "2022-07-31T11:27:19.746Z"
   },
   {
    "duration": 8,
    "start_time": "2022-07-31T11:27:19.793Z"
   },
   {
    "duration": 40,
    "start_time": "2022-07-31T11:27:19.803Z"
   },
   {
    "duration": 27,
    "start_time": "2022-07-31T11:27:19.846Z"
   },
   {
    "duration": 18,
    "start_time": "2022-07-31T11:27:19.876Z"
   },
   {
    "duration": 276,
    "start_time": "2022-07-31T11:27:19.897Z"
   },
   {
    "duration": 12,
    "start_time": "2022-07-31T11:27:20.175Z"
   },
   {
    "duration": 35,
    "start_time": "2022-07-31T11:27:20.189Z"
   },
   {
    "duration": 586,
    "start_time": "2022-07-31T11:27:20.229Z"
   },
   {
    "duration": 14,
    "start_time": "2022-07-31T11:27:20.824Z"
   },
   {
    "duration": 15,
    "start_time": "2022-07-31T11:27:20.840Z"
   },
   {
    "duration": 24,
    "start_time": "2022-07-31T11:27:20.858Z"
   },
   {
    "duration": 18,
    "start_time": "2022-07-31T11:27:20.884Z"
   },
   {
    "duration": 35,
    "start_time": "2022-07-31T11:27:20.922Z"
   },
   {
    "duration": 637,
    "start_time": "2022-07-31T11:27:20.962Z"
   },
   {
    "duration": 10,
    "start_time": "2022-07-31T11:27:21.602Z"
   },
   {
    "duration": 97,
    "start_time": "2022-07-31T11:27:21.614Z"
   },
   {
    "duration": 66,
    "start_time": "2022-07-31T11:27:21.713Z"
   },
   {
    "duration": 102,
    "start_time": "2022-07-31T11:27:21.782Z"
   },
   {
    "duration": 11,
    "start_time": "2022-07-31T11:27:36.999Z"
   },
   {
    "duration": 16,
    "start_time": "2022-07-31T11:27:45.033Z"
   }
  ],
  "kernelspec": {
   "display_name": "Python 3 (ipykernel)",
   "language": "python",
   "name": "python3"
  },
  "language_info": {
   "codemirror_mode": {
    "name": "ipython",
    "version": 3
   },
   "file_extension": ".py",
   "mimetype": "text/x-python",
   "name": "python",
   "nbconvert_exporter": "python",
   "pygments_lexer": "ipython3",
   "version": "3.7.8"
  },
  "toc": {
   "base_numbering": 1,
   "nav_menu": {},
   "number_sections": true,
   "sideBar": true,
   "skip_h1_title": true,
   "title_cell": "Table of Contents",
   "title_sidebar": "Contents",
   "toc_cell": true,
   "toc_position": {
    "height": "calc(100% - 180px)",
    "left": "10px",
    "top": "150px",
    "width": "303.825px"
   },
   "toc_section_display": true,
   "toc_window_display": false
  }
 },
 "nbformat": 4,
 "nbformat_minor": 5
}
