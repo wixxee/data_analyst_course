{
 "cells": [
  {
   "cell_type": "markdown",
   "id": "57b81db8",
   "metadata": {
    "toc": true
   },
   "source": [
    "<h1>Table of Contents<span class=\"tocSkip\"></span></h1>\n",
    "<div class=\"toc\"><ul class=\"toc-item\"><li><span><a href=\"#О-проекте\" data-toc-modified-id=\"О-проекте-1\"><span class=\"toc-item-num\">1&nbsp;&nbsp;</span>О проекте</a></span><ul class=\"toc-item\"><li><span><a href=\"#Описание-проекта\" data-toc-modified-id=\"Описание-проекта-1.1\"><span class=\"toc-item-num\">1.1&nbsp;&nbsp;</span>Описание проекта</a></span></li><li><span><a href=\"#Описание-данных\" data-toc-modified-id=\"Описание-данных-1.2\"><span class=\"toc-item-num\">1.2&nbsp;&nbsp;</span>Описание данных</a></span></li><li><span><a href=\"#Чтение-файла-данных\" data-toc-modified-id=\"Чтение-файла-данных-1.3\"><span class=\"toc-item-num\">1.3&nbsp;&nbsp;</span>Чтение файла данных</a></span></li></ul></li><li><span><a href=\"#Подготовка-данных\" data-toc-modified-id=\"Подготовка-данных-2\"><span class=\"toc-item-num\">2&nbsp;&nbsp;</span>Подготовка данных</a></span><ul class=\"toc-item\"><li><span><a href=\"#Вывод\" data-toc-modified-id=\"Вывод-2.1\"><span class=\"toc-item-num\">2.1&nbsp;&nbsp;</span>Вывод</a></span></li></ul></li><li><span><a href=\"#Исследовательский-анализ-данных:\" data-toc-modified-id=\"Исследовательский-анализ-данных:-3\"><span class=\"toc-item-num\">3&nbsp;&nbsp;</span>Исследовательский анализ данных:</a></span><ul class=\"toc-item\"><li><span><a href=\"#Вывод\" data-toc-modified-id=\"Вывод-3.1\"><span class=\"toc-item-num\">3.1&nbsp;&nbsp;</span>Вывод</a></span></li></ul></li><li><span><a href=\"#Портрет-пользователя-каждого-региона\" data-toc-modified-id=\"Портрет-пользователя-каждого-региона-4\"><span class=\"toc-item-num\">4&nbsp;&nbsp;</span>Портрет пользователя каждого региона</a></span><ul class=\"toc-item\"><li><span><a href=\"#Вывод\" data-toc-modified-id=\"Вывод-4.1\"><span class=\"toc-item-num\">4.1&nbsp;&nbsp;</span>Вывод</a></span></li></ul></li><li><span><a href=\"#Проверьте-гипотезы\" data-toc-modified-id=\"Проверьте-гипотезы-5\"><span class=\"toc-item-num\">5&nbsp;&nbsp;</span>Проверьте гипотезы</a></span><ul class=\"toc-item\"><li><span><a href=\"#Вывод\" data-toc-modified-id=\"Вывод-5.1\"><span class=\"toc-item-num\">5.1&nbsp;&nbsp;</span>Вывод</a></span></li></ul></li><li><span><a href=\"#Общий-вывод\" data-toc-modified-id=\"Общий-вывод-6\"><span class=\"toc-item-num\">6&nbsp;&nbsp;</span>Общий вывод</a></span></li></ul></div>"
   ]
  },
  {
   "cell_type": "markdown",
   "id": "d01b98bc",
   "metadata": {},
   "source": [
    "# Сборный проект"
   ]
  },
  {
   "cell_type": "markdown",
   "id": "b583b3b4",
   "metadata": {},
   "source": [
    "## О проекте"
   ]
  },
  {
   "cell_type": "markdown",
   "id": "c84859c1",
   "metadata": {},
   "source": [
    "### Описание проекта"
   ]
  },
  {
   "cell_type": "markdown",
   "id": "fa9e1498",
   "metadata": {},
   "source": [
    "Вы работаете в интернет-магазине «Стримчик», который продаёт по всему миру\n",
    "компьютерные игры. Из открытых источников доступны исторические данные о\n",
    "продажах игр, оценки пользователей и экспертов, жанры и платформы\n",
    "(например, Xboxили PlayStation). Вам нужно выявить определяющие успешность\n",
    "игры закономерности. Это позволит сделать ставку на потенциально популярный\n",
    "продукт и спланировать рекламные кампании.<br>\n",
    "Перед вами данные до 2016 года. Представим, что сейчас декабрь 2016 г., и вы\n",
    "планируете кампанию на 2017-й. Нужно отработать принцип работы с данными.\n",
    "Неважно, прогнозируете ли вы продажи на 2017 год по данным 2016-го или же\n",
    "2027-й — по данным 2026 года.<br>\n",
    "В наборе данных попадается аббревиатура ESRB (Entertainment Software Rating\n",
    "Board) — это ассоциация, определяющая возрастной рейтинг компьютерных\n",
    "игр. ESRB оценивает игровой контент и присваивает ему подходящую возрастную\n",
    "категорию, например, «Для взрослых», «Для детей младшего возраста» или «Для\n",
    "подростков»."
   ]
  },
  {
   "cell_type": "markdown",
   "id": "c125ba25",
   "metadata": {},
   "source": [
    "### Описание данных"
   ]
  },
  {
   "cell_type": "markdown",
   "id": "d51f64d0",
   "metadata": {},
   "source": [
    "- `Name` — название игры\n",
    "- `Platform` — платформа\n",
    "- `Year_of_Release` — год выпуска\n",
    "- `Genre` — жанр игры\n",
    "- `NA_sales` — продажи в Северной Америке (миллионы проданных копий)\n",
    "- `EU_sales` — продажи в Европе (миллионы проданных копий)\n",
    "- `JP_sales` — продажи в Японии (миллионы проданных копий)\n",
    "- `Other_sales` — продажи в других странах (миллионы проданных копий)\n",
    "- `Critic_Score` — оценка критиков (максимум 100)\n",
    "- `User_Score` — оценка пользователей (максимум 10)\n",
    "- `Rating` — рейтинг от организации ESRB (англ. Entertainment Software Rating Board). Эта ассоциация определяет рейтинг компьютерных игр и присваивает им подходящую возрастную категорию.\n",
    "\n",
    "Данные за 2016 год могут быть неполными."
   ]
  },
  {
   "cell_type": "markdown",
   "id": "a58b4e01",
   "metadata": {},
   "source": [
    "### Чтение файла данных"
   ]
  },
  {
   "cell_type": "code",
   "execution_count": 1,
   "id": "fe89c672",
   "metadata": {},
   "outputs": [],
   "source": [
    "#импорт библиотек для работы\n",
    "import pandas as pd\n",
    "import numpy as np\n",
    "import seaborn as sns\n",
    "import matplotlib.pyplot as plt\n",
    "import math\n",
    "from scipy import stats as st"
   ]
  },
  {
   "cell_type": "code",
   "execution_count": 2,
   "id": "0aec2a5c",
   "metadata": {},
   "outputs": [],
   "source": [
    "# загрузка датасета\n",
    "try:\n",
    "    df = pd.read_csv('games.csv')\n",
    "    df_raw = pd.read_csv('games.csv')\n",
    "except:\n",
    "    df = pd.read_csv('/datasets/games.csv')\n",
    "    df_raw = pd.read_csv('/datasets/games.csv')"
   ]
  },
  {
   "cell_type": "code",
   "execution_count": 3,
   "id": "99149d32",
   "metadata": {},
   "outputs": [],
   "source": [
    "#cнизим размерность чисел для вывода на экран на всем проекте\n",
    "pd.options.display.float_format = '{:,.2f}'.format"
   ]
  },
  {
   "cell_type": "markdown",
   "id": "1603daa8",
   "metadata": {},
   "source": [
    "## Подготовка данных"
   ]
  },
  {
   "cell_type": "code",
   "execution_count": 4,
   "id": "9f25cf49",
   "metadata": {
    "scrolled": false
   },
   "outputs": [
    {
     "data": {
      "text/html": [
       "<div>\n",
       "<style scoped>\n",
       "    .dataframe tbody tr th:only-of-type {\n",
       "        vertical-align: middle;\n",
       "    }\n",
       "\n",
       "    .dataframe tbody tr th {\n",
       "        vertical-align: top;\n",
       "    }\n",
       "\n",
       "    .dataframe thead th {\n",
       "        text-align: right;\n",
       "    }\n",
       "</style>\n",
       "<table border=\"1\" class=\"dataframe\">\n",
       "  <thead>\n",
       "    <tr style=\"text-align: right;\">\n",
       "      <th></th>\n",
       "      <th>Name</th>\n",
       "      <th>Platform</th>\n",
       "      <th>Year_of_Release</th>\n",
       "      <th>Genre</th>\n",
       "      <th>NA_sales</th>\n",
       "      <th>EU_sales</th>\n",
       "      <th>JP_sales</th>\n",
       "      <th>Other_sales</th>\n",
       "      <th>Critic_Score</th>\n",
       "      <th>User_Score</th>\n",
       "      <th>Rating</th>\n",
       "    </tr>\n",
       "  </thead>\n",
       "  <tbody>\n",
       "    <tr>\n",
       "      <th>0</th>\n",
       "      <td>Wii Sports</td>\n",
       "      <td>Wii</td>\n",
       "      <td>2,006.00</td>\n",
       "      <td>Sports</td>\n",
       "      <td>41.36</td>\n",
       "      <td>28.96</td>\n",
       "      <td>3.77</td>\n",
       "      <td>8.45</td>\n",
       "      <td>76.00</td>\n",
       "      <td>8</td>\n",
       "      <td>E</td>\n",
       "    </tr>\n",
       "    <tr>\n",
       "      <th>1</th>\n",
       "      <td>Super Mario Bros.</td>\n",
       "      <td>NES</td>\n",
       "      <td>1,985.00</td>\n",
       "      <td>Platform</td>\n",
       "      <td>29.08</td>\n",
       "      <td>3.58</td>\n",
       "      <td>6.81</td>\n",
       "      <td>0.77</td>\n",
       "      <td>NaN</td>\n",
       "      <td>NaN</td>\n",
       "      <td>NaN</td>\n",
       "    </tr>\n",
       "    <tr>\n",
       "      <th>2</th>\n",
       "      <td>Mario Kart Wii</td>\n",
       "      <td>Wii</td>\n",
       "      <td>2,008.00</td>\n",
       "      <td>Racing</td>\n",
       "      <td>15.68</td>\n",
       "      <td>12.76</td>\n",
       "      <td>3.79</td>\n",
       "      <td>3.29</td>\n",
       "      <td>82.00</td>\n",
       "      <td>8.3</td>\n",
       "      <td>E</td>\n",
       "    </tr>\n",
       "    <tr>\n",
       "      <th>3</th>\n",
       "      <td>Wii Sports Resort</td>\n",
       "      <td>Wii</td>\n",
       "      <td>2,009.00</td>\n",
       "      <td>Sports</td>\n",
       "      <td>15.61</td>\n",
       "      <td>10.93</td>\n",
       "      <td>3.28</td>\n",
       "      <td>2.95</td>\n",
       "      <td>80.00</td>\n",
       "      <td>8</td>\n",
       "      <td>E</td>\n",
       "    </tr>\n",
       "    <tr>\n",
       "      <th>4</th>\n",
       "      <td>Pokemon Red/Pokemon Blue</td>\n",
       "      <td>GB</td>\n",
       "      <td>1,996.00</td>\n",
       "      <td>Role-Playing</td>\n",
       "      <td>11.27</td>\n",
       "      <td>8.89</td>\n",
       "      <td>10.22</td>\n",
       "      <td>1.00</td>\n",
       "      <td>NaN</td>\n",
       "      <td>NaN</td>\n",
       "      <td>NaN</td>\n",
       "    </tr>\n",
       "  </tbody>\n",
       "</table>\n",
       "</div>"
      ],
      "text/plain": [
       "                       Name Platform  Year_of_Release         Genre  NA_sales  \\\n",
       "0                Wii Sports      Wii         2,006.00        Sports     41.36   \n",
       "1         Super Mario Bros.      NES         1,985.00      Platform     29.08   \n",
       "2            Mario Kart Wii      Wii         2,008.00        Racing     15.68   \n",
       "3         Wii Sports Resort      Wii         2,009.00        Sports     15.61   \n",
       "4  Pokemon Red/Pokemon Blue       GB         1,996.00  Role-Playing     11.27   \n",
       "\n",
       "   EU_sales  JP_sales  Other_sales  Critic_Score User_Score Rating  \n",
       "0     28.96      3.77         8.45         76.00          8      E  \n",
       "1      3.58      6.81         0.77           NaN        NaN    NaN  \n",
       "2     12.76      3.79         3.29         82.00        8.3      E  \n",
       "3     10.93      3.28         2.95         80.00          8      E  \n",
       "4      8.89     10.22         1.00           NaN        NaN    NaN  "
      ]
     },
     "execution_count": 4,
     "metadata": {},
     "output_type": "execute_result"
    }
   ],
   "source": [
    "# рассмотрим содержаимое датасета\n",
    "df.head()"
   ]
  },
  {
   "cell_type": "code",
   "execution_count": 5,
   "id": "ab709ec7",
   "metadata": {},
   "outputs": [
    {
     "name": "stdout",
     "output_type": "stream",
     "text": [
      "<class 'pandas.core.frame.DataFrame'>\n",
      "RangeIndex: 16715 entries, 0 to 16714\n",
      "Data columns (total 11 columns):\n",
      " #   Column           Non-Null Count  Dtype  \n",
      "---  ------           --------------  -----  \n",
      " 0   Name             16713 non-null  object \n",
      " 1   Platform         16715 non-null  object \n",
      " 2   Year_of_Release  16446 non-null  float64\n",
      " 3   Genre            16713 non-null  object \n",
      " 4   NA_sales         16715 non-null  float64\n",
      " 5   EU_sales         16715 non-null  float64\n",
      " 6   JP_sales         16715 non-null  float64\n",
      " 7   Other_sales      16715 non-null  float64\n",
      " 8   Critic_Score     8137 non-null   float64\n",
      " 9   User_Score       10014 non-null  object \n",
      " 10  Rating           9949 non-null   object \n",
      "dtypes: float64(6), object(5)\n",
      "memory usage: 1.4+ MB\n"
     ]
    }
   ],
   "source": [
    "df.info()"
   ]
  },
  {
   "cell_type": "code",
   "execution_count": 6,
   "id": "90a0881c",
   "metadata": {},
   "outputs": [],
   "source": [
    "#приведем названия столбцов к нижнему регистру\n",
    "#df.rename(str.lower, axis='columns', inplace=True)\n",
    "df.columns = df.columns.str.lower()"
   ]
  },
  {
   "cell_type": "markdown",
   "id": "7ba2b086",
   "metadata": {},
   "source": [
    "Год релиза в таблице находится в дробном формате, при этом данный формат для года не актуален, так как в таблице год - только целочислен. Аналогичная ситуцаия с пользовательским рейтингом. Поэтому данные столбцы приведем к целочисленному формату.<br>"
   ]
  },
  {
   "cell_type": "code",
   "execution_count": 7,
   "id": "721a8121",
   "metadata": {
    "scrolled": true
   },
   "outputs": [
    {
     "data": {
      "text/plain": [
       "name                object\n",
       "platform            object\n",
       "year_of_release      Int64\n",
       "genre               object\n",
       "na_sales           float64\n",
       "eu_sales           float64\n",
       "jp_sales           float64\n",
       "other_sales        float64\n",
       "critic_score         Int64\n",
       "user_score          object\n",
       "rating              object\n",
       "dtype: object"
      ]
     },
     "execution_count": 7,
     "metadata": {},
     "output_type": "execute_result"
    }
   ],
   "source": [
    "df['year_of_release']= df['year_of_release'].astype('Int64', errors='ignore')\n",
    "df['critic_score']=df['critic_score'].astype('Int64', errors='ignore')\n",
    "df.dtypes"
   ]
  },
  {
   "cell_type": "markdown",
   "id": "5bb6cc26",
   "metadata": {},
   "source": [
    "Оценка пользователей представлена в формате `'object'`. Рассмотрим данные столбца и с чем это может быть связано."
   ]
  },
  {
   "cell_type": "code",
   "execution_count": 8,
   "id": "99238c10",
   "metadata": {
    "scrolled": true
   },
   "outputs": [
    {
     "data": {
      "text/plain": [
       "array(['8', nan, '8.3', '8.5', '6.6', '8.4', '8.6', '7.7', '6.3', '7.4',\n",
       "       '8.2', '9', '7.9', '8.1', '8.7', '7.1', '3.4', '5.3', '4.8', '3.2',\n",
       "       '8.9', '6.4', '7.8', '7.5', '2.6', '7.2', '9.2', '7', '7.3', '4.3',\n",
       "       '7.6', '5.7', '5', '9.1', '6.5', 'tbd', '8.8', '6.9', '9.4', '6.8',\n",
       "       '6.1', '6.7', '5.4', '4', '4.9', '4.5', '9.3', '6.2', '4.2', '6',\n",
       "       '3.7', '4.1', '5.8', '5.6', '5.5', '4.4', '4.6', '5.9', '3.9',\n",
       "       '3.1', '2.9', '5.2', '3.3', '4.7', '5.1', '3.5', '2.5', '1.9', '3',\n",
       "       '2.7', '2.2', '2', '9.5', '2.1', '3.6', '2.8', '1.8', '3.8', '0',\n",
       "       '1.6', '9.6', '2.4', '1.7', '1.1', '0.3', '1.5', '0.7', '1.2',\n",
       "       '2.3', '0.5', '1.3', '0.2', '0.6', '1.4', '0.9', '1', '9.7'],\n",
       "      dtype=object)"
      ]
     },
     "execution_count": 8,
     "metadata": {},
     "output_type": "execute_result"
    }
   ],
   "source": [
    "#рассмотрим уникальные значения в столбце\n",
    "df['user_score'].unique()"
   ]
  },
  {
   "cell_type": "markdown",
   "id": "331186dc",
   "metadata": {},
   "source": [
    "В столбце `'user_score'` имеется значение `tbd`, которое по сути своей является пропуском, поэтому заполним их пропусками, а столбец приведем к дробному формату."
   ]
  },
  {
   "cell_type": "code",
   "execution_count": 9,
   "id": "d290c664",
   "metadata": {
    "scrolled": true
   },
   "outputs": [
    {
     "data": {
      "text/plain": [
       "name                object\n",
       "platform            object\n",
       "year_of_release      Int64\n",
       "genre               object\n",
       "na_sales           float64\n",
       "eu_sales           float64\n",
       "jp_sales           float64\n",
       "other_sales        float64\n",
       "critic_score         Int64\n",
       "user_score         float64\n",
       "rating              object\n",
       "dtype: object"
      ]
     },
     "execution_count": 9,
     "metadata": {},
     "output_type": "execute_result"
    }
   ],
   "source": [
    "df['user_score'] = pd.to_numeric(df['user_score'],errors = 'coerce')\n",
    "df.dtypes"
   ]
  },
  {
   "cell_type": "code",
   "execution_count": 10,
   "id": "fd032b85",
   "metadata": {
    "scrolled": false
   },
   "outputs": [
    {
     "name": "stdout",
     "output_type": "stream",
     "text": [
      "<class 'pandas.core.frame.DataFrame'>\n",
      "Int64Index: 16444 entries, 0 to 16714\n",
      "Data columns (total 11 columns):\n",
      " #   Column           Non-Null Count  Dtype  \n",
      "---  ------           --------------  -----  \n",
      " 0   name             16444 non-null  object \n",
      " 1   platform         16444 non-null  object \n",
      " 2   year_of_release  16444 non-null  Int64  \n",
      " 3   genre            16444 non-null  object \n",
      " 4   na_sales         16444 non-null  float64\n",
      " 5   eu_sales         16444 non-null  float64\n",
      " 6   jp_sales         16444 non-null  float64\n",
      " 7   other_sales      16444 non-null  float64\n",
      " 8   critic_score     7983 non-null   Int64  \n",
      " 9   user_score       7463 non-null   float64\n",
      " 10  rating           9768 non-null   object \n",
      "dtypes: Int64(2), float64(5), object(4)\n",
      "memory usage: 1.5+ MB\n"
     ]
    }
   ],
   "source": [
    "df.dropna(subset=['year_of_release', 'genre', 'name'], inplace=True)\n",
    "df.info()"
   ]
  },
  {
   "cell_type": "code",
   "execution_count": 11,
   "id": "7517a34f",
   "metadata": {
    "scrolled": true
   },
   "outputs": [
    {
     "data": {
      "text/html": [
       "<div>\n",
       "<style scoped>\n",
       "    .dataframe tbody tr th:only-of-type {\n",
       "        vertical-align: middle;\n",
       "    }\n",
       "\n",
       "    .dataframe tbody tr th {\n",
       "        vertical-align: top;\n",
       "    }\n",
       "\n",
       "    .dataframe thead th {\n",
       "        text-align: right;\n",
       "    }\n",
       "</style>\n",
       "<table border=\"1\" class=\"dataframe\">\n",
       "  <thead>\n",
       "    <tr style=\"text-align: right;\">\n",
       "      <th></th>\n",
       "      <th>name</th>\n",
       "      <th>platform</th>\n",
       "      <th>year_of_release</th>\n",
       "      <th>genre</th>\n",
       "      <th>na_sales</th>\n",
       "      <th>eu_sales</th>\n",
       "      <th>jp_sales</th>\n",
       "      <th>other_sales</th>\n",
       "      <th>critic_score</th>\n",
       "      <th>user_score</th>\n",
       "      <th>rating</th>\n",
       "      <th>total_sales</th>\n",
       "    </tr>\n",
       "  </thead>\n",
       "  <tbody>\n",
       "    <tr>\n",
       "      <th>0</th>\n",
       "      <td>Wii Sports</td>\n",
       "      <td>Wii</td>\n",
       "      <td>2006</td>\n",
       "      <td>Sports</td>\n",
       "      <td>41.36</td>\n",
       "      <td>28.96</td>\n",
       "      <td>3.77</td>\n",
       "      <td>8.45</td>\n",
       "      <td>76</td>\n",
       "      <td>8.00</td>\n",
       "      <td>E</td>\n",
       "      <td>82.54</td>\n",
       "    </tr>\n",
       "    <tr>\n",
       "      <th>1</th>\n",
       "      <td>Super Mario Bros.</td>\n",
       "      <td>NES</td>\n",
       "      <td>1985</td>\n",
       "      <td>Platform</td>\n",
       "      <td>29.08</td>\n",
       "      <td>3.58</td>\n",
       "      <td>6.81</td>\n",
       "      <td>0.77</td>\n",
       "      <td>&lt;NA&gt;</td>\n",
       "      <td>NaN</td>\n",
       "      <td>NaN</td>\n",
       "      <td>40.24</td>\n",
       "    </tr>\n",
       "    <tr>\n",
       "      <th>2</th>\n",
       "      <td>Mario Kart Wii</td>\n",
       "      <td>Wii</td>\n",
       "      <td>2008</td>\n",
       "      <td>Racing</td>\n",
       "      <td>15.68</td>\n",
       "      <td>12.76</td>\n",
       "      <td>3.79</td>\n",
       "      <td>3.29</td>\n",
       "      <td>82</td>\n",
       "      <td>8.30</td>\n",
       "      <td>E</td>\n",
       "      <td>35.52</td>\n",
       "    </tr>\n",
       "    <tr>\n",
       "      <th>3</th>\n",
       "      <td>Wii Sports Resort</td>\n",
       "      <td>Wii</td>\n",
       "      <td>2009</td>\n",
       "      <td>Sports</td>\n",
       "      <td>15.61</td>\n",
       "      <td>10.93</td>\n",
       "      <td>3.28</td>\n",
       "      <td>2.95</td>\n",
       "      <td>80</td>\n",
       "      <td>8.00</td>\n",
       "      <td>E</td>\n",
       "      <td>32.77</td>\n",
       "    </tr>\n",
       "    <tr>\n",
       "      <th>4</th>\n",
       "      <td>Pokemon Red/Pokemon Blue</td>\n",
       "      <td>GB</td>\n",
       "      <td>1996</td>\n",
       "      <td>Role-Playing</td>\n",
       "      <td>11.27</td>\n",
       "      <td>8.89</td>\n",
       "      <td>10.22</td>\n",
       "      <td>1.00</td>\n",
       "      <td>&lt;NA&gt;</td>\n",
       "      <td>NaN</td>\n",
       "      <td>NaN</td>\n",
       "      <td>31.38</td>\n",
       "    </tr>\n",
       "  </tbody>\n",
       "</table>\n",
       "</div>"
      ],
      "text/plain": [
       "                       name platform  year_of_release         genre  na_sales  \\\n",
       "0                Wii Sports      Wii             2006        Sports     41.36   \n",
       "1         Super Mario Bros.      NES             1985      Platform     29.08   \n",
       "2            Mario Kart Wii      Wii             2008        Racing     15.68   \n",
       "3         Wii Sports Resort      Wii             2009        Sports     15.61   \n",
       "4  Pokemon Red/Pokemon Blue       GB             1996  Role-Playing     11.27   \n",
       "\n",
       "   eu_sales  jp_sales  other_sales  critic_score  user_score rating  \\\n",
       "0     28.96      3.77         8.45            76        8.00      E   \n",
       "1      3.58      6.81         0.77          <NA>         NaN    NaN   \n",
       "2     12.76      3.79         3.29            82        8.30      E   \n",
       "3     10.93      3.28         2.95            80        8.00      E   \n",
       "4      8.89     10.22         1.00          <NA>         NaN    NaN   \n",
       "\n",
       "   total_sales  \n",
       "0        82.54  \n",
       "1        40.24  \n",
       "2        35.52  \n",
       "3        32.77  \n",
       "4        31.38  "
      ]
     },
     "execution_count": 11,
     "metadata": {},
     "output_type": "execute_result"
    }
   ],
   "source": [
    "#добавим столбце с сумарными продажами по всем регионал для последующего анализа\n",
    "df['total_sales']= df['na_sales']+df['eu_sales']+df['jp_sales']+df['other_sales']\n",
    "df.head()"
   ]
  },
  {
   "cell_type": "markdown",
   "id": "64668f96",
   "metadata": {},
   "source": [
    "### Вывод\n",
    "- названия столбцов приведены к нижнему регистру.\n",
    "- оценки критиков и года выпуска отформатированы к целочисленным значениям.\n",
    "- оценки пользователей приведены к дробному формату, удалены ошибки.\n",
    "- удалены пропуски данных.\n",
    "- добавлен столбец с суммарными продажами."
   ]
  },
  {
   "cell_type": "markdown",
   "id": "84409de7",
   "metadata": {},
   "source": [
    "## Исследовательский анализ данных:"
   ]
  },
  {
   "cell_type": "code",
   "execution_count": 12,
   "id": "6dc8fdbd",
   "metadata": {
    "scrolled": false
   },
   "outputs": [
    {
     "data": {
      "text/plain": [
       "year_of_release\n",
       "1980       9\n",
       "1981      46\n",
       "1982      36\n",
       "1983      17\n",
       "1984      14\n",
       "1985      14\n",
       "1986      21\n",
       "1987      16\n",
       "1988      15\n",
       "1989      17\n",
       "1990      16\n",
       "1991      41\n",
       "1992      43\n",
       "1993      60\n",
       "1994     121\n",
       "1995     219\n",
       "1996     263\n",
       "1997     289\n",
       "1998     379\n",
       "1999     338\n",
       "2000     350\n",
       "2001     482\n",
       "2002     829\n",
       "2003     775\n",
       "2004     762\n",
       "2005     939\n",
       "2006    1006\n",
       "2007    1197\n",
       "2008    1427\n",
       "2009    1426\n",
       "2010    1255\n",
       "2011    1136\n",
       "2012     653\n",
       "2013     544\n",
       "2014     581\n",
       "2015     606\n",
       "2016     502\n",
       "Name: name, dtype: int64"
      ]
     },
     "execution_count": 12,
     "metadata": {},
     "output_type": "execute_result"
    }
   ],
   "source": [
    "#рассмотрим количество выпущенных игр по годам\n",
    "df.groupby('year_of_release')['name'].count()"
   ]
  },
  {
   "cell_type": "code",
   "execution_count": 13,
   "id": "04aee16c",
   "metadata": {
    "scrolled": false
   },
   "outputs": [
    {
     "data": {
      "text/plain": [
       "year_of_release\n",
       "1980    11.38\n",
       "1981    35.68\n",
       "1982    28.88\n",
       "1983    16.80\n",
       "1984    50.35\n",
       "1985    53.95\n",
       "1986    37.08\n",
       "1987    21.70\n",
       "1988    47.21\n",
       "1989    73.45\n",
       "1990    49.37\n",
       "1991    32.23\n",
       "1992    76.16\n",
       "1993    45.99\n",
       "1994    79.23\n",
       "1995    88.12\n",
       "1996   199.15\n",
       "1997   201.07\n",
       "1998   256.31\n",
       "1999   251.11\n",
       "2000   201.66\n",
       "2001   331.46\n",
       "2002   394.97\n",
       "2003   357.54\n",
       "2004   418.68\n",
       "2005   457.82\n",
       "2006   517.71\n",
       "2007   604.75\n",
       "2008   671.50\n",
       "2009   658.82\n",
       "2010   590.13\n",
       "2011   507.58\n",
       "2012   355.84\n",
       "2013   361.24\n",
       "2014   331.53\n",
       "2015   267.98\n",
       "2016   129.94\n",
       "Name: total_sales, dtype: float64"
      ]
     },
     "execution_count": 13,
     "metadata": {},
     "output_type": "execute_result"
    }
   ],
   "source": [
    "#рассмотрим суммарную выручку от продажи игр по годам\n",
    "df.groupby('year_of_release')['total_sales'].sum()"
   ]
  },
  {
   "cell_type": "code",
   "execution_count": 14,
   "id": "57498020",
   "metadata": {
    "scrolled": false
   },
   "outputs": [
    {
     "data": {
      "text/plain": [
       "year_of_release\n",
       "1980   1.26\n",
       "1981   0.78\n",
       "1982   0.80\n",
       "1983   0.99\n",
       "1984   3.60\n",
       "1985   3.85\n",
       "1986   1.77\n",
       "1987   1.36\n",
       "1988   3.15\n",
       "1989   4.32\n",
       "1990   3.09\n",
       "1991   0.79\n",
       "1992   1.77\n",
       "1993   0.77\n",
       "1994   0.65\n",
       "1995   0.40\n",
       "1996   0.76\n",
       "1997   0.70\n",
       "1998   0.68\n",
       "1999   0.74\n",
       "2000   0.58\n",
       "2001   0.69\n",
       "2002   0.48\n",
       "2003   0.46\n",
       "2004   0.55\n",
       "2005   0.49\n",
       "2006   0.51\n",
       "2007   0.51\n",
       "2008   0.47\n",
       "2009   0.46\n",
       "2010   0.47\n",
       "2011   0.45\n",
       "2012   0.54\n",
       "2013   0.66\n",
       "2014   0.57\n",
       "2015   0.44\n",
       "2016   0.26\n",
       "dtype: float64"
      ]
     },
     "execution_count": 14,
     "metadata": {},
     "output_type": "execute_result"
    }
   ],
   "source": [
    "#рассмотрим отношение суммы продаж от количетсва игр\n",
    "(df.groupby('year_of_release')['total_sales'].sum())/(df.groupby('year_of_release')['name'].count())"
   ]
  },
  {
   "cell_type": "markdown",
   "id": "dd753225",
   "metadata": {},
   "source": [
    "**Вывод**: В 80-е года игры были \"штучным\" товаром, выпуская как правило, не более 20 игр в год. Причиной этому было - малое количество платформ, не самое высокое визуальное качество и в целом общая недоступность игровых платформ.<br>\n",
    "В начале 90-х, с выходом Sega Mega Drive и Super Nintendo ситуция стала улучшаться. Переломным можно назвать период 1993-1995 - это дважды удвоение количества выпущенных игр приуроченный в выходу приставок 5 поколения. Главным событием тут можно назвать выходы PlayStation 1 и Sega Saturn в 1994. <br> \n",
    "Для анализа. стоит использовать игры после 1994 года."
   ]
  },
  {
   "cell_type": "code",
   "execution_count": 15,
   "id": "935a37ed",
   "metadata": {
    "scrolled": true
   },
   "outputs": [
    {
     "data": {
      "text/plain": [
       "365"
      ]
     },
     "execution_count": 15,
     "metadata": {},
     "output_type": "execute_result"
    }
   ],
   "source": [
    "#рассмотрим количество выпущенных игр до 1994 года\n",
    "df[df['year_of_release'] <1994]['name'].count()"
   ]
  },
  {
   "cell_type": "markdown",
   "id": "9ed0ae2a",
   "metadata": {},
   "source": [
    "Игр до 1994 всего 365, что составляет менее 2%."
   ]
  },
  {
   "cell_type": "markdown",
   "id": "c4f5d28a",
   "metadata": {},
   "source": [
    "Рассмотрим как менялись продажи по платформам."
   ]
  },
  {
   "cell_type": "code",
   "execution_count": 16,
   "id": "c51f0a8d",
   "metadata": {
    "scrolled": false
   },
   "outputs": [
    {
     "data": {
      "text/plain": [
       "platform\n",
       "PS2    1,233.56\n",
       "X360     961.24\n",
       "PS3      931.34\n",
       "Wii      891.18\n",
       "DS       802.76\n",
       "PS       727.58\n",
       "PS4      314.14\n",
       "GBA      312.88\n",
       "PSP      289.53\n",
       "3DS      257.81\n",
       "PC       252.66\n",
       "XB       251.57\n",
       "N64      218.01\n",
       "GC       196.73\n",
       "XOne     159.32\n",
       "GB       152.08\n",
       "SNES      84.67\n",
       "WiiU      82.19\n",
       "PSV       53.81\n",
       "SAT       33.59\n",
       "DC        15.95\n",
       "GEN        8.13\n",
       "WS         1.42\n",
       "NG         1.23\n",
       "SCD        0.36\n",
       "TG16       0.16\n",
       "NES        0.11\n",
       "3DO        0.10\n",
       "PCFX       0.03\n",
       "Name: total_sales, dtype: float64"
      ]
     },
     "execution_count": 16,
     "metadata": {},
     "output_type": "execute_result"
    }
   ],
   "source": [
    "df[df['year_of_release'] >= 1994].groupby('platform')['total_sales'].sum().sort_values(ascending=False)"
   ]
  },
  {
   "cell_type": "markdown",
   "id": "38fe956e",
   "metadata": {},
   "source": [
    "Возьмем топ-7 платформ для анализа по годам, так как сюда вошел и абсолютный хит PS2, карманная консоль DS и консоль нового поколения PS4."
   ]
  },
  {
   "cell_type": "code",
   "execution_count": 17,
   "id": "f01b5d71",
   "metadata": {
    "scrolled": true
   },
   "outputs": [
    {
     "data": {
      "image/png": "[encoded data removed]",
      "text/plain": [
       "<Figure size 432x288 with 1 Axes>"
      ]
     },
     "metadata": {
      "needs_background": "light"
     },
     "output_type": "display_data"
    }
   ],
   "source": [
    "df[df['platform']=='PS2'].groupby('year_of_release')['total_sales'].sum().plot(kind='bar', title='PS2');"
   ]
  },
  {
   "cell_type": "code",
   "execution_count": 18,
   "id": "34b0dd17",
   "metadata": {
    "scrolled": false
   },
   "outputs": [
    {
     "data": {
      "image/png": "[encoded data removed]",
      "text/plain": [
       "<Figure size 432x288 with 1 Axes>"
      ]
     },
     "metadata": {
      "needs_background": "light"
     },
     "output_type": "display_data"
    }
   ],
   "source": [
    "df[df['platform']=='X360'].groupby('year_of_release')['total_sales'].sum().plot(kind='bar', title='X360');"
   ]
  },
  {
   "cell_type": "code",
   "execution_count": 19,
   "id": "35801d67",
   "metadata": {
    "scrolled": false
   },
   "outputs": [
    {
     "data": {
      "image/png": "[encoded data removed]",
      "text/plain": [
       "<Figure size 432x288 with 1 Axes>"
      ]
     },
     "metadata": {
      "needs_background": "light"
     },
     "output_type": "display_data"
    }
   ],
   "source": [
    "df[df['platform']=='PS3'].groupby('year_of_release')['total_sales'].sum().plot(kind='bar', title='PS3');"
   ]
  },
  {
   "cell_type": "code",
   "execution_count": 20,
   "id": "8fe7d681",
   "metadata": {
    "scrolled": false
   },
   "outputs": [
    {
     "data": {
      "image/png": "[encoded data removed]",
      "text/plain": [
       "<Figure size 432x288 with 1 Axes>"
      ]
     },
     "metadata": {
      "needs_background": "light"
     },
     "output_type": "display_data"
    }
   ],
   "source": [
    "df[df['platform']=='Wii'].groupby('year_of_release')['total_sales'].sum().plot(kind='bar', title='Wii');"
   ]
  },
  {
   "cell_type": "code",
   "execution_count": 21,
   "id": "0b212888",
   "metadata": {
    "scrolled": false
   },
   "outputs": [
    {
     "data": {
      "image/png": "[encoded data removed]",
      "text/plain": [
       "<Figure size 432x288 with 1 Axes>"
      ]
     },
     "metadata": {
      "needs_background": "light"
     },
     "output_type": "display_data"
    }
   ],
   "source": [
    "df[df['platform']=='DS'].groupby('year_of_release')['total_sales'].sum().plot(kind='bar', title='DS');"
   ]
  },
  {
   "cell_type": "code",
   "execution_count": 22,
   "id": "d2d89391",
   "metadata": {
    "scrolled": false
   },
   "outputs": [
    {
     "data": {
      "image/png": "[encoded data removed]",
      "text/plain": [
       "<Figure size 432x288 with 1 Axes>"
      ]
     },
     "metadata": {
      "needs_background": "light"
     },
     "output_type": "display_data"
    }
   ],
   "source": [
    "df[df['platform']=='PS'].groupby('year_of_release')['total_sales'].sum().plot(kind='bar', title='PS');"
   ]
  },
  {
   "cell_type": "code",
   "execution_count": 23,
   "id": "f12fdfe8",
   "metadata": {
    "scrolled": false
   },
   "outputs": [
    {
     "data": {
      "image/png": "[encoded data removed]",
      "text/plain": [
       "<Figure size 432x288 with 1 Axes>"
      ]
     },
     "metadata": {
      "needs_background": "light"
     },
     "output_type": "display_data"
    }
   ],
   "source": [
    "df[df['platform']=='PS4'].groupby('year_of_release')['total_sales'].sum().plot(kind='bar', title='PS4');"
   ]
  },
  {
   "cell_type": "markdown",
   "id": "6d745843",
   "metadata": {},
   "source": [
    "**Вывод**: получилась интересная картина, несмотря на то, портативная консоль или стационарная, к какому поколению относится, средний срок жизни с более-менее приличными цифрами продаж: 6-8 лет, без учета года выхода консоли, т.к. в этот период еще слишком мала пользовательская база и уровень продаж скорее зависит от физических возможностей вендора обеспечить всех желающих консолями. Данные по PS4 скорре говорят о том, что данные не полные."
   ]
  },
  {
   "cell_type": "markdown",
   "id": "c9554a84",
   "metadata": {},
   "source": [
    "Находясь в 2016 и прогнозируя на 2017 год, есть смысл рассматривать консоли восьмого поколения, старт жизни которых начался в 2011 году. Для прогноза при этом можно использовать данные предыдущего поколения. Рассмотрим графики по данным платформам: XOne, PS4, WiiU, 3DS, PSV. Для исследования актуальных трендов, ограничим период исследования 2013 годом."
   ]
  },
  {
   "cell_type": "code",
   "execution_count": 24,
   "id": "afc1b1fa",
   "metadata": {
    "scrolled": false
   },
   "outputs": [
    {
     "data": {
      "image/png": "[encoded data removed]",
      "text/plain": [
       "<Figure size 432x288 with 1 Axes>"
      ]
     },
     "metadata": {
      "needs_background": "light"
     },
     "output_type": "display_data"
    }
   ],
   "source": [
    "df[df['platform']=='XOne'].groupby('year_of_release')['total_sales'].sum().plot(kind='bar', title='XOne');"
   ]
  },
  {
   "cell_type": "code",
   "execution_count": 25,
   "id": "6a75da12",
   "metadata": {
    "scrolled": false
   },
   "outputs": [
    {
     "data": {
      "image/png": "[encoded data removed]",
      "text/plain": [
       "<Figure size 432x288 with 1 Axes>"
      ]
     },
     "metadata": {
      "needs_background": "light"
     },
     "output_type": "display_data"
    }
   ],
   "source": [
    "df[df['platform']=='PS4'].groupby('year_of_release')['total_sales'].sum().plot(kind='bar', title='PS4');"
   ]
  },
  {
   "cell_type": "code",
   "execution_count": 26,
   "id": "a625b67a",
   "metadata": {
    "scrolled": false
   },
   "outputs": [
    {
     "data": {
      "image/png": "[encoded data removed]",
      "text/plain": [
       "<Figure size 432x288 with 1 Axes>"
      ]
     },
     "metadata": {
      "needs_background": "light"
     },
     "output_type": "display_data"
    }
   ],
   "source": [
    "df[df['platform']=='WiiU'].groupby('year_of_release')['total_sales'].sum().plot(kind='bar', title='WiiU');"
   ]
  },
  {
   "cell_type": "code",
   "execution_count": 27,
   "id": "0fb4f0ea",
   "metadata": {
    "scrolled": false
   },
   "outputs": [
    {
     "data": {
      "image/png": "[encoded data removed]",
      "text/plain": [
       "<Figure size 432x288 with 1 Axes>"
      ]
     },
     "metadata": {
      "needs_background": "light"
     },
     "output_type": "display_data"
    }
   ],
   "source": [
    "df[df['platform']=='3DS'].groupby('year_of_release')['total_sales'].sum().plot(kind='bar', title='3DS');"
   ]
  },
  {
   "cell_type": "code",
   "execution_count": 28,
   "id": "61fc44f3",
   "metadata": {
    "scrolled": false
   },
   "outputs": [
    {
     "data": {
      "image/png": "[encoded data removed]",
      "text/plain": [
       "<Figure size 432x288 with 1 Axes>"
      ]
     },
     "metadata": {
      "needs_background": "light"
     },
     "output_type": "display_data"
    }
   ],
   "source": [
    "df[df['platform']=='PSV'].groupby('year_of_release')['total_sales'].sum().plot(kind='bar', title='PSV');"
   ]
  },
  {
   "cell_type": "markdown",
   "id": "3f483ada",
   "metadata": {},
   "source": [
    "Судя по графикам, наибольший рост ожидает XOne и PS4. Остальные, судя по всему, уже прошли свой пик. И безусловным лидером здесь является PS4, следующий конкурент имеет продажи в 2 раза ниже, но все же это очень значимые суммы."
   ]
  },
  {
   "cell_type": "code",
   "execution_count": 29,
   "id": "5ad4e2a7",
   "metadata": {
    "scrolled": false
   },
   "outputs": [
    {
     "data": {
      "image/png": "[encoded data removed]",
      "text/plain": [
       "<Figure size 432x288 with 1 Axes>"
      ]
     },
     "metadata": {
      "needs_background": "light"
     },
     "output_type": "display_data"
    }
   ],
   "source": [
    "#построим боксплоты продаж на данных платформах\n",
    "sns.boxplot(x=\"platform\", y=\"total_sales\", data=df[(df['year_of_release'] == 2016)\n",
    "            &(df['platform'].isin(['XOne', 'PS4', 'WiiU', '3DS', 'PSV']))]).set_yscale(\"log\")\n",
    "plt.show()"
   ]
  },
  {
   "cell_type": "markdown",
   "id": "4c620a07",
   "metadata": {},
   "source": [
    "**Вывод**: Основной объем выручки для игр лежит в диапазоне 20-300 тысяч копий, с медианой в районе 100 тысяч копий. PSV как портативная консоль показывает себя не с лучшей стороны. PS4 и Xone, несмотря на то, что только выходят на пик своих продаж, уже показывают хорошие цифры, однако WiiU в среднем дает лучший результат, разрбос по продажам у нее очень небольшой, поэтому нельзя так просто бросать эту платформу."
   ]
  },
  {
   "cell_type": "markdown",
   "id": "b6cf42aa",
   "metadata": {},
   "source": [
    "Рассмотрим зависимость уровня продаж от оценки пользователей и критиков на примере самой популярной платформы предыдущего поколения - X360, а так же хитмэп по корреляции данных."
   ]
  },
  {
   "cell_type": "code",
   "execution_count": 30,
   "id": "e41ee5bd",
   "metadata": {
    "scrolled": true
   },
   "outputs": [
    {
     "data": {
      "image/png": "[encoded data removed]",
      "text/plain": [
       "<Figure size 432x288 with 1 Axes>"
      ]
     },
     "metadata": {
      "needs_background": "light"
     },
     "output_type": "display_data"
    }
   ],
   "source": [
    "sns.scatterplot(x='critic_score', y='total_sales', \n",
    "                data=df[(df['platform']=='X360')&(df['year_of_release'] >= 2013)], ci=None);"
   ]
  },
  {
   "cell_type": "code",
   "execution_count": 31,
   "id": "309cb55c",
   "metadata": {},
   "outputs": [
    {
     "data": {
      "image/png": "[encoded data removed]",
      "text/plain": [
       "<Figure size 432x288 with 1 Axes>"
      ]
     },
     "metadata": {
      "needs_background": "light"
     },
     "output_type": "display_data"
    }
   ],
   "source": [
    "sns.scatterplot(x='user_score', y='total_sales', \n",
    "                data=df[(df['platform']=='X360')&(df['year_of_release'] >= 2013)], ci=None);"
   ]
  },
  {
   "cell_type": "code",
   "execution_count": 32,
   "id": "6b5460b5",
   "metadata": {},
   "outputs": [
    {
     "data": {
      "image/png": "[encoded data removed]",
      "text/plain": [
       "<Figure size 432x288 with 2 Axes>"
      ]
     },
     "metadata": {
      "needs_background": "light"
     },
     "output_type": "display_data"
    }
   ],
   "source": [
    "sns.heatmap(df[(df['platform']=='X360')&(df['year_of_release'] >= 2013)]\n",
    "            [['total_sales', 'critic_score','user_score']].corr(),cmap='RdYlGn');"
   ]
  },
  {
   "cell_type": "markdown",
   "id": "19be15bd",
   "metadata": {},
   "source": [
    "**Вывод**: наибольшее влияние оказывает оценка критиков, хотя корреляция даже по ним слабо выражена, которая, скорее всего и побуждает к покупке пользователей, которые затем так же оценивают игру. Об этом говорит и корреляция оценок пользователей и критиков."
   ]
  },
  {
   "cell_type": "markdown",
   "id": "42797510",
   "metadata": {},
   "source": [
    "Проделаем аналогичное упражнение для актуальных платформ."
   ]
  },
  {
   "cell_type": "code",
   "execution_count": 33,
   "id": "078b77fc",
   "metadata": {},
   "outputs": [
    {
     "data": {
      "image/png": "[encoded data removed]",
      "text/plain": [
       "<Figure size 432x288 with 1 Axes>"
      ]
     },
     "metadata": {
      "needs_background": "light"
     },
     "output_type": "display_data"
    }
   ],
   "source": [
    "sns.scatterplot(x='critic_score', y='total_sales', data=df[df['platform']\n",
    "                .isin(['XOne', 'PS4', 'WiiU', '3DS', 'PSV'])], ci=None);"
   ]
  },
  {
   "cell_type": "code",
   "execution_count": 34,
   "id": "a585e248",
   "metadata": {},
   "outputs": [
    {
     "data": {
      "image/png": "[encoded data removed]",
      "text/plain": [
       "<Figure size 432x288 with 1 Axes>"
      ]
     },
     "metadata": {
      "needs_background": "light"
     },
     "output_type": "display_data"
    }
   ],
   "source": [
    "sns.scatterplot(x='user_score', y='total_sales', data=df[df['platform']\n",
    "                .isin(['XOne', 'PS4', 'WiiU', '3DS', 'PSV'])], ci=None);"
   ]
  },
  {
   "cell_type": "code",
   "execution_count": 35,
   "id": "000f4231",
   "metadata": {},
   "outputs": [
    {
     "data": {
      "image/png": "[encoded data removed]",
      "text/plain": [
       "<Figure size 432x288 with 2 Axes>"
      ]
     },
     "metadata": {
      "needs_background": "light"
     },
     "output_type": "display_data"
    }
   ],
   "source": [
    "sns.heatmap(df[df['platform'].isin(['XOne', 'PS4', 'WiiU', '3DS', 'PSV'])]\n",
    "            [['total_sales', 'critic_score','user_score']].corr(),cmap='RdYlGn');"
   ]
  },
  {
   "cell_type": "markdown",
   "id": "108be99f",
   "metadata": {},
   "source": [
    "**Вывод**: картинка максимально близка к графикам X360, значит наша теория была верна"
   ]
  },
  {
   "cell_type": "markdown",
   "id": "431ae318",
   "metadata": {},
   "source": [
    "Рассмотрим так же статистику продаж по жанрам."
   ]
  },
  {
   "cell_type": "code",
   "execution_count": 36,
   "id": "e7759c92",
   "metadata": {
    "scrolled": true
   },
   "outputs": [
    {
     "data": {
      "image/png": "[encoded data removed]",
      "text/plain": [
       "<Figure size 432x288 with 1 Axes>"
      ]
     },
     "metadata": {
      "needs_background": "light"
     },
     "output_type": "display_data"
    }
   ],
   "source": [
    "(\n",
    "    df[df['year_of_release'] >= 2013].groupby('genre')['total_sales']\n",
    "    .median().sort_values(ascending=False).plot(kind='bar')\n",
    ");"
   ]
  },
  {
   "cell_type": "markdown",
   "id": "3425f5b4",
   "metadata": {},
   "source": [
    "**Вывод**: К наиболее популярным жанрам относятся шутеры, спортивные симуляторы и платформеры - игры наиболее динамичные и дарящие, наверно, наиболее сконцентрированные эмоции на еденицу времени. С другой же стороны нас встречают пазлы и приключения, которые, по сути, являются антиподами для популярных жанров."
   ]
  },
  {
   "cell_type": "markdown",
   "id": "9e2e1d5e",
   "metadata": {},
   "source": [
    "### Вывод\n",
    "- анализируя продажи по годам, кажется, что в 80-е года игры были \"штучным\" товаром, выпуская как правило, не более 20 игр в год. Причиной этому было - малое количество платформ, не самое высокое визуальное качество и в целом общая недоступность игровых платформ. В начале 90-х, с выходом Sega Mega Drive и Super Nintendo ситуция стала улучшаться. Переломным можно назвать период 1993-1995 - это дважды удвоение количества выпущенных игр приуроченный в выходу приставок 5 поколения.\n",
    "- график распределения продаж дал интересную картину, несмотря на то, портативная консоль или стационарная, к какому поколению относится, средний срок жизни с более-менее приличными цифрами продаж: 6-8 лет, без учета года выхода консоли, т.к. в этот период еще слишком мала пользовательская база и уровень продаж скорее зависит от физических возможностей вендора обеспечить всех желающих консолями.\n",
    "- наибольшее влияние на продажи оказывает оценка критиков, которая, скорее всего и побуждает к покупке пользователей, которые затем так же оценивают игру. Об этом говорит и корреляция оценок пользователей и критиков.\\\n",
    "- к наиболее популярным жанрам относятся экшн, спортивные симуляторы и шутеры - игры наиболее динамичные и дарящие, наверно, наиболее сконцентрированные эмоции на еденицу времени. С другой же стороны нас встречают пазлы и стратегии, которые, по сути, являются антиподами для популярных жанров."
   ]
  },
  {
   "cell_type": "markdown",
   "id": "284f551c",
   "metadata": {},
   "source": [
    "## Портрет пользователя каждого региона"
   ]
  },
  {
   "cell_type": "markdown",
   "id": "a0a3d540",
   "metadata": {},
   "source": [
    "Построим топ-5 платформ по регионам продаж."
   ]
  },
  {
   "cell_type": "code",
   "execution_count": 37,
   "id": "9ba8381c",
   "metadata": {
    "scrolled": false
   },
   "outputs": [
    {
     "data": {
      "text/plain": [
       "platform\n",
       "PS4    2.50\n",
       "XOne   2.14\n",
       "X360   1.88\n",
       "PS3    1.46\n",
       "3DS    0.88\n",
       "Name: na_sales, dtype: float64"
      ]
     },
     "execution_count": 37,
     "metadata": {},
     "output_type": "execute_result"
    }
   ],
   "source": [
    "(df[df['year_of_release'] >= 2013].groupby('platform')['na_sales']\n",
    " .sum()/df['na_sales'].sum()).sort_values(ascending=False).head()*100"
   ]
  },
  {
   "cell_type": "code",
   "execution_count": 38,
   "id": "f44b2035",
   "metadata": {
    "scrolled": false
   },
   "outputs": [
    {
     "data": {
      "text/plain": [
       "platform\n",
       "PS4    5.88\n",
       "PS3    2.83\n",
       "XOne   2.15\n",
       "X360   1.77\n",
       "3DS    1.29\n",
       "Name: eu_sales, dtype: float64"
      ]
     },
     "execution_count": 38,
     "metadata": {},
     "output_type": "execute_result"
    }
   ],
   "source": [
    "(df[df['year_of_release'] >= 2013].groupby('platform')['eu_sales']\n",
    " .sum()/df['eu_sales'].sum()).sort_values(ascending=False).head()*100"
   ]
  },
  {
   "cell_type": "code",
   "execution_count": 39,
   "id": "b79d3f43",
   "metadata": {
    "scrolled": false
   },
   "outputs": [
    {
     "data": {
      "text/plain": [
       "platform\n",
       "3DS    5.25\n",
       "PS3    1.81\n",
       "PSV    1.44\n",
       "PS4    1.24\n",
       "WiiU   0.84\n",
       "Name: jp_sales, dtype: float64"
      ]
     },
     "execution_count": 39,
     "metadata": {},
     "output_type": "execute_result"
    }
   ],
   "source": [
    "(df[df['year_of_release'] >= 2013].groupby('platform')['jp_sales']\n",
    " .sum()/df['jp_sales'].sum()).sort_values(ascending=False).head()*100"
   ]
  },
  {
   "cell_type": "markdown",
   "id": "b12a3cac",
   "metadata": {},
   "source": [
    "**Вывод**: Лидером продаж в Северной Америка является PS4, следом догоняют консоли от Microsoft, в Японии в топе только японские Нинтендо и Сони. Однако, в целом предпочтения в Европе и Америка совпадают между собой, с единственным небольшим перекосом XBox в Америке."
   ]
  },
  {
   "cell_type": "markdown",
   "id": "a626862e",
   "metadata": {},
   "source": [
    "Построим топ-5 жанров по регионам продаж."
   ]
  },
  {
   "cell_type": "code",
   "execution_count": 40,
   "id": "ead1761e",
   "metadata": {
    "scrolled": false
   },
   "outputs": [
    {
     "data": {
      "text/plain": [
       "genre\n",
       "Action         2.90\n",
       "Shooter        2.53\n",
       "Sports         1.50\n",
       "Role-Playing   1.07\n",
       "Misc           0.63\n",
       "Name: na_sales, dtype: float64"
      ]
     },
     "execution_count": 40,
     "metadata": {},
     "output_type": "execute_result"
    }
   ],
   "source": [
    "(df[df['year_of_release'] >= 2013].groupby('genre')['na_sales']\n",
    " .sum()/df['na_sales'].sum()).sort_values(ascending=False).head()*100"
   ]
  },
  {
   "cell_type": "code",
   "execution_count": 41,
   "id": "97ae213e",
   "metadata": {
    "scrolled": true
   },
   "outputs": [
    {
     "data": {
      "text/plain": [
       "genre\n",
       "Action         4.92\n",
       "Shooter        3.66\n",
       "Sports         2.52\n",
       "Role-Playing   1.54\n",
       "Racing         0.84\n",
       "Name: eu_sales, dtype: float64"
      ]
     },
     "execution_count": 41,
     "metadata": {},
     "output_type": "execute_result"
    }
   ],
   "source": [
    "(df[df['year_of_release'] >= 2013].groupby('genre')['eu_sales']\n",
    " .sum()/df['eu_sales'].sum()).sort_values(ascending=False).head()*100"
   ]
  },
  {
   "cell_type": "code",
   "execution_count": 42,
   "id": "619f7459",
   "metadata": {
    "scrolled": true
   },
   "outputs": [
    {
     "data": {
      "text/plain": [
       "genre\n",
       "Role-Playing   3.95\n",
       "Action         3.14\n",
       "Misc           0.71\n",
       "Fighting       0.59\n",
       "Shooter        0.51\n",
       "Name: jp_sales, dtype: float64"
      ]
     },
     "execution_count": 42,
     "metadata": {},
     "output_type": "execute_result"
    }
   ],
   "source": [
    "(df[df['year_of_release'] >= 2013].groupby('genre')['jp_sales']\n",
    " .sum()/df['jp_sales'].sum()).sort_values(ascending=False).head()*100"
   ]
  },
  {
   "cell_type": "markdown",
   "id": "225acd98",
   "metadata": {},
   "source": [
    "**Вывод**: ТОП-продаж в Европе и Северной Америке совпадает с общими трендами, однако в Японии на первое место выходят ролевые игры, так же в топ ворвались платформеры. Думаю, что эта особенность связанна с популярностью таких платформ как Нинтендо, где основные продажи на себя забирают и являются флагманами консолей такие игры как Зельда (ролевая), Марио (платформер) и другие."
   ]
  },
  {
   "cell_type": "code",
   "execution_count": 43,
   "id": "65835999",
   "metadata": {
    "scrolled": false
   },
   "outputs": [
    {
     "data": {
      "text/plain": [
       "array(['E', nan, 'M', 'T', 'E10+', 'K-A', 'AO', 'EC', 'RP'], dtype=object)"
      ]
     },
     "execution_count": 43,
     "metadata": {},
     "output_type": "execute_result"
    }
   ],
   "source": [
    "df['rating'].unique()"
   ]
  },
  {
   "cell_type": "markdown",
   "id": "1ad58780",
   "metadata": {},
   "source": [
    "Рассмотрим влияние рейтинга на продажи. Чтобы не терять почти 7млн. продаж игр без рейтинга, сделаем отдельную таблицу."
   ]
  },
  {
   "cell_type": "code",
   "execution_count": 44,
   "id": "4b2fdc0a",
   "metadata": {},
   "outputs": [
    {
     "data": {
      "text/html": [
       "<div>\n",
       "<style scoped>\n",
       "    .dataframe tbody tr th:only-of-type {\n",
       "        vertical-align: middle;\n",
       "    }\n",
       "\n",
       "    .dataframe tbody tr th {\n",
       "        vertical-align: top;\n",
       "    }\n",
       "\n",
       "    .dataframe thead th {\n",
       "        text-align: right;\n",
       "    }\n",
       "</style>\n",
       "<table border=\"1\" class=\"dataframe\">\n",
       "  <thead>\n",
       "    <tr style=\"text-align: right;\">\n",
       "      <th></th>\n",
       "      <th>rating</th>\n",
       "      <th>eu_sales</th>\n",
       "      <th>jp_sales</th>\n",
       "      <th>na_sales</th>\n",
       "      <th>total_sales</th>\n",
       "    </tr>\n",
       "  </thead>\n",
       "  <tbody>\n",
       "    <tr>\n",
       "      <th>0</th>\n",
       "      <td>AO</td>\n",
       "      <td>0.61</td>\n",
       "      <td>0.00</td>\n",
       "      <td>1.26</td>\n",
       "      <td>1.96</td>\n",
       "    </tr>\n",
       "    <tr>\n",
       "      <th>1</th>\n",
       "      <td>E</td>\n",
       "      <td>703.87</td>\n",
       "      <td>197.96</td>\n",
       "      <td>1,274.24</td>\n",
       "      <td>2,407.61</td>\n",
       "    </tr>\n",
       "    <tr>\n",
       "      <th>2</th>\n",
       "      <td>E10+</td>\n",
       "      <td>183.35</td>\n",
       "      <td>40.20</td>\n",
       "      <td>345.50</td>\n",
       "      <td>640.98</td>\n",
       "    </tr>\n",
       "    <tr>\n",
       "      <th>3</th>\n",
       "      <td>EC</td>\n",
       "      <td>0.11</td>\n",
       "      <td>0.00</td>\n",
       "      <td>1.53</td>\n",
       "      <td>1.75</td>\n",
       "    </tr>\n",
       "    <tr>\n",
       "      <th>4</th>\n",
       "      <td>K-A</td>\n",
       "      <td>0.27</td>\n",
       "      <td>1.46</td>\n",
       "      <td>2.56</td>\n",
       "      <td>4.32</td>\n",
       "    </tr>\n",
       "    <tr>\n",
       "      <th>5</th>\n",
       "      <td>M</td>\n",
       "      <td>480.00</td>\n",
       "      <td>63.58</td>\n",
       "      <td>742.89</td>\n",
       "      <td>1,462.53</td>\n",
       "    </tr>\n",
       "    <tr>\n",
       "      <th>6</th>\n",
       "      <td>None</td>\n",
       "      <td>609.65</td>\n",
       "      <td>836.74</td>\n",
       "      <td>1,225.84</td>\n",
       "      <td>2,822.10</td>\n",
       "    </tr>\n",
       "    <tr>\n",
       "      <th>7</th>\n",
       "      <td>RP</td>\n",
       "      <td>0.03</td>\n",
       "      <td>0.00</td>\n",
       "      <td>0.00</td>\n",
       "      <td>0.04</td>\n",
       "    </tr>\n",
       "    <tr>\n",
       "      <th>8</th>\n",
       "      <td>T</td>\n",
       "      <td>421.79</td>\n",
       "      <td>150.70</td>\n",
       "      <td>747.60</td>\n",
       "      <td>1,473.08</td>\n",
       "    </tr>\n",
       "  </tbody>\n",
       "</table>\n",
       "</div>"
      ],
      "text/plain": [
       "  rating  eu_sales  jp_sales  na_sales  total_sales\n",
       "0     AO      0.61      0.00      1.26         1.96\n",
       "1      E    703.87    197.96  1,274.24     2,407.61\n",
       "2   E10+    183.35     40.20    345.50       640.98\n",
       "3     EC      0.11      0.00      1.53         1.75\n",
       "4    K-A      0.27      1.46      2.56         4.32\n",
       "5      M    480.00     63.58    742.89     1,462.53\n",
       "6   None    609.65    836.74  1,225.84     2,822.10\n",
       "7     RP      0.03      0.00      0.00         0.04\n",
       "8      T    421.79    150.70    747.60     1,473.08"
      ]
     },
     "execution_count": 44,
     "metadata": {},
     "output_type": "execute_result"
    }
   ],
   "source": [
    "df_rating=df\n",
    "df_rating['rating']=df['rating'].fillna('None')\n",
    "df_rating.pivot_table(index='rating', \n",
    "                      values=['na_sales','eu_sales', 'jp_sales', 'total_sales'], aggfunc='sum').reset_index()"
   ]
  },
  {
   "cell_type": "markdown",
   "id": "087dae92",
   "metadata": {},
   "source": [
    "**Вывод**: Безусловным победителем этой гонки являются игры с рейтингом E, игры для всех, т.к. у них самая широкая аудитория, а так же игры без рейтинга, по этому пункту сложнее давать комментарии, поскольку в современных реалиях игру без маркировки на большой рынок не выпустить (исключение Япония - возможно локальные игры не проходят стандартную маркировку, отсюда такие продажи). Игры для взрослых и подростков в абсолюте практически равны, и в сумме примерно соотвествуют играм с рейтингом E. Поэтому таргетироваться необходимо в эти 3 группы. Это по факту должно решаться на стадии идеи, ведь суровый хоррор о выживании вряд ли получится сделать семейным."
   ]
  },
  {
   "cell_type": "markdown",
   "id": "fe826854",
   "metadata": {},
   "source": [
    "### Вывод\n",
    "-  если говорить о платформах, то лидером продаж в Северной Америка является сделанный там же XBox, в Японии в топе только японские Нинтендо и Сони. Однако, в целом предпочтения в Европе и Америка совпадают между собой, единственным перекосом XBox в Америке.\n",
    "- что касается жанров, то ТОП-продаж в Европе и Северной Америке совпадает с общими трендами, однако в Японии на первое место выходят ролевые игры, так же в топ ворвались платформеры. Думаю, что эта особенность связанна с популярностью таких платформ как Нинтендо, где основные продажи на себя забирают и являются флагманами консолей такие игры как Зельда (ролевая), Марио (платформер) и другие.\n",
    "- по рейтингам безусловным победителем являются игры с рейтингом E, игры для всех, т.к. у них самая широкая аудитория. Игры для взрослых и подростков в абсолюте практически равны, и в сумме примерно соотвествуют играм с рейтингом E. Поэтому таргетироваться необходимо в эти 3 группы. Это по факту должно решаться на стадии идеи, ведь суровый хоррор о выживании вряд ли получится сделать семейным."
   ]
  },
  {
   "cell_type": "markdown",
   "id": "033c3146",
   "metadata": {},
   "source": [
    "## Проверьте гипотезы"
   ]
  },
  {
   "cell_type": "markdown",
   "id": "42aff20f",
   "metadata": {},
   "source": [
    "Проверим гипотезу о равенстве пользовательских рейтингов платформ XBox One и PC. Нулевой гипотезой будет - равенство рейтингов платформ. Альетарнативная гипотеза - рейтинги платформ различаются. В связи с тем, что платформа PC имеет гораздо более богатую историю чем XOne, выборки будут отличаться периодом, возьмет критерий 10%."
   ]
  },
  {
   "cell_type": "code",
   "execution_count": 45,
   "id": "353a63a8",
   "metadata": {
    "scrolled": false
   },
   "outputs": [
    {
     "name": "stdout",
     "output_type": "stream",
     "text": [
      "p-значение:  0.14759594013430463\n",
      "Не получилось отвергнуть нулевую гипотезу\n",
      "Среднее оценка платформы Xbox One = 6.52\n",
      "Среднее оценка платформы PC = 6.27\n"
     ]
    }
   ],
   "source": [
    "alpha = .1 # критический уровень статистической значимости\n",
    "# если p-value окажется меньше него - отвергнем гипотезу\n",
    "\n",
    "results = st.ttest_ind(\n",
    "    df[(df['platform']=='XOne')&(df['user_score'] > 0)&(df['year_of_release'] >= 2013)]['user_score'], \n",
    "    df[(df['platform']=='PC')&(df['user_score'] > 0)&(df['year_of_release'] >= 2013)]['user_score'], equal_var = False)\n",
    "\n",
    "print('p-значение: ', results.pvalue)\n",
    "\n",
    "if results.pvalue < alpha:\n",
    "    print(\"Отвергаем нулевую гипотезу\")\n",
    "else:\n",
    "    print(\"Не получилось отвергнуть нулевую гипотезу\")\n",
    "\n",
    "#выведем на экран средние\n",
    "pxumean=df[(df['platform']=='XOne')&(df['user_score'] > 0)&(df['year_of_release'] >= 2013)]['user_score'].mean()\n",
    "print(f'Среднее оценка платформы Xbox One = {pxumean:.2f}')\n",
    "ppumean=df[(df['platform']=='PC')&(df['user_score'] > 0)&(df['year_of_release'] >= 2013)]['user_score'].mean()\n",
    "print(f'Среднее оценка платформы PC = {ppumean:.2f}')"
   ]
  },
  {
   "cell_type": "markdown",
   "id": "818c5674",
   "metadata": {},
   "source": [
    "Нулевая гипотеза не отвергнута, пользовательские жанры не равны."
   ]
  },
  {
   "cell_type": "markdown",
   "id": "61671012",
   "metadata": {},
   "source": [
    "Проверим гипотезу о том, что средние жанров Action и Sports разные. Нулевой гипотезой будет - равенство рейтингов жанров. Альтернативной гипотезой, что рейтинги жанров различаются. Популярность жанров и период оценки схожи, возьмем \"стандартный\" критерий в 5%."
   ]
  },
  {
   "cell_type": "code",
   "execution_count": 46,
   "id": "1cc8297f",
   "metadata": {
    "scrolled": true
   },
   "outputs": [
    {
     "name": "stdout",
     "output_type": "stream",
     "text": [
      "p-значение:  1.4460039700704315e-20\n",
      "Отвергаем нулевую гипотезу\n",
      "Среднее оценка жанра Action = 6.84\n",
      "Среднее оценка жанра Sports = 5.24\n"
     ]
    }
   ],
   "source": [
    "alpha = .05 # критический уровень статистической значимости\n",
    "# если p-value окажется меньше него - отвегнем гипотезу\n",
    "\n",
    "results = st.ttest_ind(\n",
    "    df[(df['genre']=='Action')&(df['user_score'] > 0)&(df['year_of_release'] >= 2013)]['user_score'], \n",
    "    df[(df['genre']=='Sports')&(df['user_score'] > 0)&(df['year_of_release'] >= 2013)]['user_score'], equal_var = False)\n",
    "\n",
    "print('p-значение: ', results.pvalue)\n",
    "\n",
    "if results.pvalue < alpha:\n",
    "    print(\"Отвергаем нулевую гипотезу\")\n",
    "else:\n",
    "    print(\"Не получилось отвергнуть нулевую гипотезу\")\n",
    "    \n",
    "#выведем на экран средние\n",
    "gaumean=df[(df['genre']=='Action')&(df['user_score'] > 0)&(df['year_of_release'] >= 2013)]['user_score'].mean()\n",
    "print(f'Среднее оценка жанра Action = {gaumean:.2f}')\n",
    "gsumean=df[(df['genre']=='Sports')&(df['user_score'] > 0)&(df['year_of_release'] >= 2013)]['user_score'].mean()\n",
    "print(f'Среднее оценка жанра Sports = {gsumean:.2f}')"
   ]
  },
  {
   "cell_type": "markdown",
   "id": "0a86daf4",
   "metadata": {},
   "source": [
    "Нулевая гипотеза отвергнута, значит средние оценки пользователей двух жанров отличаются."
   ]
  },
  {
   "cell_type": "markdown",
   "id": "04556210",
   "metadata": {},
   "source": [
    "### Вывод\n",
    "- средние пользовательские оценки пользоватлей XBox One и PC не отличаются, это и не удивительно, взаимная интеграция XBox и PC  дает свои плоды.\n",
    "- средние пользовательские оценки жанров Action и Sports отличаются, все таки ежегодные обновления карточек в спортивных симуляторах людям меньше по душе."
   ]
  },
  {
   "cell_type": "markdown",
   "id": "c85286e6",
   "metadata": {},
   "source": [
    "## Общий вывод"
   ]
  },
  {
   "cell_type": "markdown",
   "id": "cc3fe174",
   "metadata": {},
   "source": [
    "- получен датасет с информацией по продажам игр по регионам, оценкам пользователей и критиков, рейтинги игр. Проведена работа по форматированию таблицы и удалению пропусков. Добавлен столбец с суммарными продажами.\n",
    "- анализируя продажи по годам, кажется, что в 80-е года игры были \"штучным\" товаром, выпуская как правило, не более 20 игр в год. Причиной этому было - малое количество платформ, не самое высокое визуальное качество и в целом общая недоступность игровых платформ. В начале 90-х, с выходом Sega Mega Drive и Super Nintendo ситуция стала улучшаться. Переломным можно назвать период 1993-1995 - это дважды удвоение количества выпущенных игр приуроченный в выходу приставок 5 поколения.\n",
    "- график распределения продаж дал интересную картину, несмотря на то, портативная консоль или стационарная, к какому поколению относится, средний срок жизни с более-менее приличными цифрами продаж: 6-8 лет, без учета года выхода консоли, т.к. в этот период еще слишком мала пользовательская база и уровень продаж скорее зависит от физических возможностей вендора обеспечить всех желающих консолями.\n",
    "- наибольшее влияние оказывает оценка критиков, хотя корреляция даже по ним слабо выражена, которая, скорее всего и побуждает к покупке пользователей, которые затем так же оценивают игру. Об этом говорит и корреляция оценок пользователей и критиков.\n",
    "- к наиболее популярным жанрам относятся шутеры, спортивные симуляторы и платформеры - игры наиболее динамичные и дарящие, наверно, наиболее сконцентрированные эмоции на еденицу времени. С другой же стороны нас встречают пазлы и приключения, которые, по сути, являются антиподами для популярных жанров.\n",
    "-  если говорить о платформах, то лидером продаж в Северной Америка является PS4, следом догоняют консоли от Microsoft, в Японии в топе только японские Нинтендо и Сони. Однако, в целом предпочтения в Европе и Америка совпадают между собой, с единственным небольшим перекосом XBox в Америке.\n",
    "- что касается жанров, то ТОП-продаж в Европе и Северной Америке совпадает с общими трендами, однако в Японии на первое место выходят ролевые игры, так же в топ ворвались платформеры. Думаю, что эта особенность связанна с популярностью таких платформ как Нинтендо, где основные продажи на себя забирают и являются флагманами консолей такие игры как Зельда (ролевая), Марио (платформер) и другие.\n",
    "- по рейтингам безусловным победителем этой гонки являются игры с рейтингом E, игры для всех, т.к. у них самая широкая аудитория, а так же игры без рейтинга, по этому пункту сложнее давать комментарии, поскольку в современных реалиях игру без маркировки на большой рынок не выпустить (исключение Япония - возможно локальные игры не проходят стандартную маркировку, отсюда такие продажи). Игры для взрослых и подростков в абсолюте практически равны, и в сумме примерно соотвествуют играм с рейтингом E. Поэтому таргетироваться необходимо в эти 3 группы. Это по факту должно решаться на стадии идеи, ведь суровый хоррор о выживании вряд ли получится сделать семейным.\n",
    "- средние пользовательские оценки пользоватлей XBox One и PC не отличаются, это и не удивительно, взаимная интеграция XBox и PC  дает свои плоды.\n",
    "- средние пользовательские оценки жанров Action и Sports отличаются, все таки ежегодные обновления карточек в спортивных симуляторах людям меньше по душе."
   ]
  }
 ],
 "metadata": {
  "ExecuteTimeLog": [
   {
    "duration": 1294,
    "start_time": "2022-04-06T15:51:56.508Z"
   },
   {
    "duration": 97,
    "start_time": "2022-04-06T15:51:57.805Z"
   },
   {
    "duration": 3,
    "start_time": "2022-04-06T15:51:57.904Z"
   },
   {
    "duration": 20,
    "start_time": "2022-04-06T15:51:57.909Z"
   },
   {
    "duration": 16,
    "start_time": "2022-04-06T15:51:57.931Z"
   },
   {
    "duration": 3,
    "start_time": "2022-04-06T15:51:57.949Z"
   },
   {
    "duration": 11,
    "start_time": "2022-04-06T15:51:57.953Z"
   },
   {
    "duration": 5,
    "start_time": "2022-04-06T15:51:57.965Z"
   },
   {
    "duration": 10,
    "start_time": "2022-04-06T15:51:57.972Z"
   },
   {
    "duration": 19,
    "start_time": "2022-04-06T15:51:58.008Z"
   },
   {
    "duration": 14,
    "start_time": "2022-04-06T15:51:58.029Z"
   },
   {
    "duration": 8,
    "start_time": "2022-04-06T15:51:58.044Z"
   },
   {
    "duration": 5,
    "start_time": "2022-04-06T15:51:58.054Z"
   },
   {
    "duration": 8,
    "start_time": "2022-04-06T15:51:58.060Z"
   },
   {
    "duration": 40,
    "start_time": "2022-04-06T15:51:58.070Z"
   },
   {
    "duration": 10,
    "start_time": "2022-04-06T15:51:58.111Z"
   },
   {
    "duration": 179,
    "start_time": "2022-04-06T15:51:58.122Z"
   },
   {
    "duration": 160,
    "start_time": "2022-04-06T15:51:58.303Z"
   },
   {
    "duration": 153,
    "start_time": "2022-04-06T15:51:58.465Z"
   },
   {
    "duration": 157,
    "start_time": "2022-04-06T15:51:58.620Z"
   },
   {
    "duration": 156,
    "start_time": "2022-04-06T15:51:58.779Z"
   },
   {
    "duration": 149,
    "start_time": "2022-04-06T15:51:58.937Z"
   },
   {
    "duration": 115,
    "start_time": "2022-04-06T15:51:59.088Z"
   },
   {
    "duration": 126,
    "start_time": "2022-04-06T15:51:59.208Z"
   },
   {
    "duration": 118,
    "start_time": "2022-04-06T15:51:59.336Z"
   },
   {
    "duration": 187,
    "start_time": "2022-04-06T15:51:59.456Z"
   },
   {
    "duration": 121,
    "start_time": "2022-04-06T15:51:59.644Z"
   },
   {
    "duration": 136,
    "start_time": "2022-04-06T15:51:59.768Z"
   },
   {
    "duration": 419,
    "start_time": "2022-04-06T15:51:59.905Z"
   },
   {
    "duration": 142,
    "start_time": "2022-04-06T15:52:00.326Z"
   },
   {
    "duration": 116,
    "start_time": "2022-04-06T15:52:00.469Z"
   },
   {
    "duration": 328,
    "start_time": "2022-04-06T15:52:00.587Z"
   },
   {
    "duration": 217,
    "start_time": "2022-04-06T15:52:00.917Z"
   },
   {
    "duration": 140,
    "start_time": "2022-04-06T15:52:01.136Z"
   },
   {
    "duration": 266,
    "start_time": "2022-04-06T15:52:01.277Z"
   },
   {
    "duration": 165,
    "start_time": "2022-04-06T15:52:01.545Z"
   },
   {
    "duration": 8,
    "start_time": "2022-04-06T15:52:01.712Z"
   },
   {
    "duration": 11,
    "start_time": "2022-04-06T15:52:01.721Z"
   },
   {
    "duration": 7,
    "start_time": "2022-04-06T15:52:01.734Z"
   },
   {
    "duration": 8,
    "start_time": "2022-04-06T15:52:01.743Z"
   },
   {
    "duration": 7,
    "start_time": "2022-04-06T15:52:01.752Z"
   },
   {
    "duration": 7,
    "start_time": "2022-04-06T15:52:01.761Z"
   },
   {
    "duration": 42,
    "start_time": "2022-04-06T15:52:01.770Z"
   },
   {
    "duration": 21,
    "start_time": "2022-04-06T15:52:01.814Z"
   },
   {
    "duration": 17,
    "start_time": "2022-04-06T15:52:01.836Z"
   },
   {
    "duration": 18,
    "start_time": "2022-04-06T15:52:01.855Z"
   },
   {
    "duration": 3,
    "start_time": "2022-04-06T15:52:01.874Z"
   },
   {
    "duration": 4,
    "start_time": "2022-04-06T15:52:01.909Z"
   },
   {
    "duration": 24,
    "start_time": "2022-04-06T16:06:41.025Z"
   },
   {
    "duration": 7,
    "start_time": "2022-04-06T16:06:53.770Z"
   },
   {
    "duration": 67,
    "start_time": "2022-04-06T16:07:29.820Z"
   },
   {
    "duration": 5,
    "start_time": "2022-04-06T16:07:38.516Z"
   },
   {
    "duration": 1171,
    "start_time": "2022-04-06T16:21:04.086Z"
   },
   {
    "duration": 94,
    "start_time": "2022-04-06T16:21:05.259Z"
   },
   {
    "duration": 3,
    "start_time": "2022-04-06T16:21:05.355Z"
   },
   {
    "duration": 19,
    "start_time": "2022-04-06T16:21:05.360Z"
   },
   {
    "duration": 28,
    "start_time": "2022-04-06T16:21:05.381Z"
   },
   {
    "duration": 6,
    "start_time": "2022-04-06T16:21:05.411Z"
   },
   {
    "duration": 10,
    "start_time": "2022-04-06T16:21:05.419Z"
   },
   {
    "duration": 6,
    "start_time": "2022-04-06T16:21:05.431Z"
   },
   {
    "duration": 12,
    "start_time": "2022-04-06T16:21:05.438Z"
   },
   {
    "duration": 21,
    "start_time": "2022-04-06T16:21:05.453Z"
   },
   {
    "duration": 43,
    "start_time": "2022-04-06T16:21:05.476Z"
   },
   {
    "duration": 7,
    "start_time": "2022-04-06T16:21:05.520Z"
   },
   {
    "duration": 7,
    "start_time": "2022-04-06T16:21:05.528Z"
   },
   {
    "duration": 14,
    "start_time": "2022-04-06T16:21:05.536Z"
   },
   {
    "duration": 6,
    "start_time": "2022-04-06T16:21:05.551Z"
   },
   {
    "duration": 10,
    "start_time": "2022-04-06T16:21:05.559Z"
   },
   {
    "duration": 200,
    "start_time": "2022-04-06T16:21:05.571Z"
   },
   {
    "duration": 172,
    "start_time": "2022-04-06T16:21:05.772Z"
   },
   {
    "duration": 164,
    "start_time": "2022-04-06T16:21:05.946Z"
   },
   {
    "duration": 161,
    "start_time": "2022-04-06T16:21:06.112Z"
   },
   {
    "duration": 156,
    "start_time": "2022-04-06T16:21:06.275Z"
   },
   {
    "duration": 156,
    "start_time": "2022-04-06T16:21:06.433Z"
   },
   {
    "duration": 125,
    "start_time": "2022-04-06T16:21:06.591Z"
   },
   {
    "duration": 125,
    "start_time": "2022-04-06T16:21:06.717Z"
   },
   {
    "duration": 128,
    "start_time": "2022-04-06T16:21:06.844Z"
   },
   {
    "duration": 197,
    "start_time": "2022-04-06T16:21:06.974Z"
   },
   {
    "duration": 124,
    "start_time": "2022-04-06T16:21:07.173Z"
   },
   {
    "duration": 125,
    "start_time": "2022-04-06T16:21:07.309Z"
   },
   {
    "duration": 412,
    "start_time": "2022-04-06T16:21:07.435Z"
   },
   {
    "duration": 140,
    "start_time": "2022-04-06T16:21:07.848Z"
   },
   {
    "duration": 126,
    "start_time": "2022-04-06T16:21:07.989Z"
   },
   {
    "duration": 260,
    "start_time": "2022-04-06T16:21:08.117Z"
   },
   {
    "duration": 231,
    "start_time": "2022-04-06T16:21:08.379Z"
   },
   {
    "duration": 143,
    "start_time": "2022-04-06T16:21:08.612Z"
   },
   {
    "duration": 214,
    "start_time": "2022-04-06T16:21:08.757Z"
   },
   {
    "duration": 167,
    "start_time": "2022-04-06T16:21:09.008Z"
   },
   {
    "duration": 7,
    "start_time": "2022-04-06T16:21:09.177Z"
   },
   {
    "duration": 23,
    "start_time": "2022-04-06T16:21:09.186Z"
   },
   {
    "duration": 8,
    "start_time": "2022-04-06T16:21:09.211Z"
   },
   {
    "duration": 8,
    "start_time": "2022-04-06T16:21:09.220Z"
   },
   {
    "duration": 7,
    "start_time": "2022-04-06T16:21:09.230Z"
   },
   {
    "duration": 7,
    "start_time": "2022-04-06T16:21:09.239Z"
   },
   {
    "duration": 6,
    "start_time": "2022-04-06T16:21:09.248Z"
   },
   {
    "duration": 55,
    "start_time": "2022-04-06T16:21:09.255Z"
   },
   {
    "duration": 17,
    "start_time": "2022-04-06T16:21:09.312Z"
   },
   {
    "duration": 16,
    "start_time": "2022-04-06T16:21:09.331Z"
   },
   {
    "duration": 3,
    "start_time": "2022-04-06T16:21:09.349Z"
   },
   {
    "duration": 9,
    "start_time": "2022-04-06T16:21:09.353Z"
   },
   {
    "duration": 1845,
    "start_time": "2022-04-09T17:00:26.335Z"
   },
   {
    "duration": 195,
    "start_time": "2022-04-09T17:00:28.183Z"
   },
   {
    "duration": 4,
    "start_time": "2022-04-09T17:00:28.380Z"
   },
   {
    "duration": 24,
    "start_time": "2022-04-09T17:00:28.386Z"
   },
   {
    "duration": 35,
    "start_time": "2022-04-09T17:00:28.412Z"
   },
   {
    "duration": 5,
    "start_time": "2022-04-09T17:00:28.449Z"
   },
   {
    "duration": 27,
    "start_time": "2022-04-09T17:00:28.456Z"
   },
   {
    "duration": 11,
    "start_time": "2022-04-09T17:00:28.485Z"
   },
   {
    "duration": 18,
    "start_time": "2022-04-09T17:00:28.497Z"
   },
   {
    "duration": 52,
    "start_time": "2022-04-09T17:00:28.519Z"
   },
   {
    "duration": 20,
    "start_time": "2022-04-09T17:00:28.573Z"
   },
   {
    "duration": 14,
    "start_time": "2022-04-09T17:00:28.595Z"
   },
   {
    "duration": 40,
    "start_time": "2022-04-09T17:00:28.611Z"
   },
   {
    "duration": 12,
    "start_time": "2022-04-09T17:00:28.653Z"
   },
   {
    "duration": 44,
    "start_time": "2022-04-09T17:00:28.668Z"
   },
   {
    "duration": 14,
    "start_time": "2022-04-09T17:00:28.715Z"
   },
   {
    "duration": 272,
    "start_time": "2022-04-09T17:00:28.731Z"
   },
   {
    "duration": 255,
    "start_time": "2022-04-09T17:00:29.006Z"
   },
   {
    "duration": 241,
    "start_time": "2022-04-09T17:00:29.263Z"
   },
   {
    "duration": 249,
    "start_time": "2022-04-09T17:00:29.507Z"
   },
   {
    "duration": 235,
    "start_time": "2022-04-09T17:00:29.758Z"
   },
   {
    "duration": 243,
    "start_time": "2022-04-09T17:00:29.995Z"
   },
   {
    "duration": 198,
    "start_time": "2022-04-09T17:00:30.243Z"
   },
   {
    "duration": 195,
    "start_time": "2022-04-09T17:00:30.443Z"
   },
   {
    "duration": 224,
    "start_time": "2022-04-09T17:00:30.643Z"
   },
   {
    "duration": 268,
    "start_time": "2022-04-09T17:00:30.870Z"
   },
   {
    "duration": 207,
    "start_time": "2022-04-09T17:00:31.140Z"
   },
   {
    "duration": 226,
    "start_time": "2022-04-09T17:00:31.352Z"
   },
   {
    "duration": 752,
    "start_time": "2022-04-09T17:00:31.580Z"
   },
   {
    "duration": 341,
    "start_time": "2022-04-09T17:00:32.335Z"
   },
   {
    "duration": 305,
    "start_time": "2022-04-09T17:00:32.678Z"
   },
   {
    "duration": 446,
    "start_time": "2022-04-09T17:00:32.987Z"
   },
   {
    "duration": 335,
    "start_time": "2022-04-09T17:00:33.436Z"
   },
   {
    "duration": 244,
    "start_time": "2022-04-09T17:00:33.774Z"
   },
   {
    "duration": 338,
    "start_time": "2022-04-09T17:00:34.020Z"
   },
   {
    "duration": 269,
    "start_time": "2022-04-09T17:00:34.360Z"
   },
   {
    "duration": 20,
    "start_time": "2022-04-09T17:00:34.631Z"
   },
   {
    "duration": 11,
    "start_time": "2022-04-09T17:00:34.653Z"
   },
   {
    "duration": 11,
    "start_time": "2022-04-09T17:00:34.666Z"
   },
   {
    "duration": 11,
    "start_time": "2022-04-09T17:00:34.679Z"
   },
   {
    "duration": 60,
    "start_time": "2022-04-09T17:00:34.692Z"
   },
   {
    "duration": 11,
    "start_time": "2022-04-09T17:00:34.754Z"
   },
   {
    "duration": 6,
    "start_time": "2022-04-09T17:00:34.767Z"
   },
   {
    "duration": 68,
    "start_time": "2022-04-09T17:00:34.775Z"
   },
   {
    "duration": 23,
    "start_time": "2022-04-09T17:00:34.845Z"
   },
   {
    "duration": 23,
    "start_time": "2022-04-09T17:00:34.870Z"
   },
   {
    "duration": 3,
    "start_time": "2022-04-09T17:00:34.895Z"
   },
   {
    "duration": 45,
    "start_time": "2022-04-09T17:00:34.900Z"
   },
   {
    "duration": 691,
    "start_time": "2022-04-09T17:03:48.984Z"
   },
   {
    "duration": 560,
    "start_time": "2022-04-09T17:43:37.165Z"
   },
   {
    "duration": 230,
    "start_time": "2022-04-09T17:44:32.447Z"
   },
   {
    "duration": 222,
    "start_time": "2022-04-09T17:44:47.510Z"
   },
   {
    "duration": 447,
    "start_time": "2022-04-09T17:45:24.981Z"
   },
   {
    "duration": 206,
    "start_time": "2022-04-09T17:46:10.632Z"
   },
   {
    "duration": 337,
    "start_time": "2022-04-09T17:46:18.410Z"
   },
   {
    "duration": 258,
    "start_time": "2022-04-09T17:46:23.407Z"
   },
   {
    "duration": 25,
    "start_time": "2022-04-09T18:15:09.683Z"
   },
   {
    "duration": 25,
    "start_time": "2022-04-09T18:16:01.206Z"
   },
   {
    "duration": 26,
    "start_time": "2022-04-09T18:16:13.590Z"
   },
   {
    "duration": 26,
    "start_time": "2022-04-09T18:17:34.207Z"
   },
   {
    "duration": 16,
    "start_time": "2022-04-09T19:24:31.640Z"
   },
   {
    "duration": 16,
    "start_time": "2022-04-09T19:24:45.125Z"
   },
   {
    "duration": 16,
    "start_time": "2022-04-09T19:24:54.771Z"
   },
   {
    "duration": 18,
    "start_time": "2022-04-09T19:25:21.974Z"
   },
   {
    "duration": 12,
    "start_time": "2022-04-09T19:25:26.125Z"
   },
   {
    "duration": 16,
    "start_time": "2022-04-09T19:25:31.302Z"
   },
   {
    "duration": 159,
    "start_time": "2022-04-09T19:28:08.972Z"
   },
   {
    "duration": 21,
    "start_time": "2022-04-09T19:28:14.629Z"
   },
   {
    "duration": 13,
    "start_time": "2022-04-09T19:28:18.925Z"
   },
   {
    "duration": 15,
    "start_time": "2022-04-09T19:28:27.299Z"
   },
   {
    "duration": 14,
    "start_time": "2022-04-09T19:28:33.263Z"
   },
   {
    "duration": 24,
    "start_time": "2022-04-09T19:28:40.059Z"
   },
   {
    "duration": 17,
    "start_time": "2022-04-09T19:29:19.631Z"
   },
   {
    "duration": 14,
    "start_time": "2022-04-09T19:29:20.406Z"
   },
   {
    "duration": 14,
    "start_time": "2022-04-09T19:29:21.716Z"
   },
   {
    "duration": 286,
    "start_time": "2022-04-09T19:30:04.076Z"
   },
   {
    "duration": 28,
    "start_time": "2022-04-09T19:30:13.844Z"
   },
   {
    "duration": 262,
    "start_time": "2022-04-09T19:30:28.600Z"
   },
   {
    "duration": 260,
    "start_time": "2022-04-09T19:30:45.662Z"
   },
   {
    "duration": 244,
    "start_time": "2022-04-09T19:32:13.761Z"
   },
   {
    "duration": 238,
    "start_time": "2022-04-09T19:33:43.095Z"
   },
   {
    "duration": 258,
    "start_time": "2022-04-09T19:33:55.724Z"
   },
   {
    "duration": 245,
    "start_time": "2022-04-09T19:34:09.964Z"
   },
   {
    "duration": 81,
    "start_time": "2022-04-09T19:34:25.928Z"
   },
   {
    "duration": 348,
    "start_time": "2022-04-09T19:34:38.667Z"
   },
   {
    "duration": 8,
    "start_time": "2022-04-09T19:35:45.584Z"
   },
   {
    "duration": 5,
    "start_time": "2022-04-09T19:36:24.278Z"
   },
   {
    "duration": 767,
    "start_time": "2022-04-09T19:36:34.315Z"
   },
   {
    "duration": 553,
    "start_time": "2022-04-09T19:37:18.198Z"
   },
   {
    "duration": 563,
    "start_time": "2022-04-09T19:37:34.985Z"
   },
   {
    "duration": 265,
    "start_time": "2022-04-09T19:37:42.903Z"
   },
   {
    "duration": 635,
    "start_time": "2022-04-09T19:37:47.196Z"
   },
   {
    "duration": 378,
    "start_time": "2022-04-09T19:39:29.769Z"
   },
   {
    "duration": 852,
    "start_time": "2022-04-09T19:39:33.715Z"
   },
   {
    "duration": 229,
    "start_time": "2022-04-09T19:44:52.323Z"
   },
   {
    "duration": 206,
    "start_time": "2022-04-09T19:52:30.914Z"
   },
   {
    "duration": 41,
    "start_time": "2022-04-09T19:52:36.362Z"
   },
   {
    "duration": 1604,
    "start_time": "2022-04-09T19:57:27.287Z"
   },
   {
    "duration": 186,
    "start_time": "2022-04-09T19:57:28.894Z"
   },
   {
    "duration": 4,
    "start_time": "2022-04-09T19:57:29.082Z"
   },
   {
    "duration": 25,
    "start_time": "2022-04-09T19:57:29.088Z"
   },
   {
    "duration": 38,
    "start_time": "2022-04-09T19:57:29.117Z"
   },
   {
    "duration": 7,
    "start_time": "2022-04-09T19:57:29.158Z"
   },
   {
    "duration": 15,
    "start_time": "2022-04-09T19:57:29.167Z"
   },
   {
    "duration": 9,
    "start_time": "2022-04-09T19:57:29.184Z"
   },
   {
    "duration": 61,
    "start_time": "2022-04-09T19:57:29.195Z"
   },
   {
    "duration": 38,
    "start_time": "2022-04-09T19:57:29.259Z"
   },
   {
    "duration": 46,
    "start_time": "2022-04-09T19:57:29.300Z"
   },
   {
    "duration": 12,
    "start_time": "2022-04-09T19:57:29.348Z"
   },
   {
    "duration": 12,
    "start_time": "2022-04-09T19:57:29.362Z"
   },
   {
    "duration": 15,
    "start_time": "2022-04-09T19:57:29.379Z"
   },
   {
    "duration": 51,
    "start_time": "2022-04-09T19:57:29.397Z"
   },
   {
    "duration": 16,
    "start_time": "2022-04-09T19:57:29.450Z"
   },
   {
    "duration": 288,
    "start_time": "2022-04-09T19:57:29.468Z"
   },
   {
    "duration": 258,
    "start_time": "2022-04-09T19:57:29.758Z"
   },
   {
    "duration": 250,
    "start_time": "2022-04-09T19:57:30.019Z"
   },
   {
    "duration": 253,
    "start_time": "2022-04-09T19:57:30.271Z"
   },
   {
    "duration": 374,
    "start_time": "2022-04-09T19:57:30.526Z"
   },
   {
    "duration": 472,
    "start_time": "2022-04-09T19:57:30.903Z"
   },
   {
    "duration": 205,
    "start_time": "2022-04-09T19:57:31.378Z"
   },
   {
    "duration": 204,
    "start_time": "2022-04-09T19:57:31.585Z"
   },
   {
    "duration": 195,
    "start_time": "2022-04-09T19:57:31.791Z"
   },
   {
    "duration": 258,
    "start_time": "2022-04-09T19:57:31.989Z"
   },
   {
    "duration": 201,
    "start_time": "2022-04-09T19:57:32.249Z"
   },
   {
    "duration": 211,
    "start_time": "2022-04-09T19:57:32.453Z"
   },
   {
    "duration": 683,
    "start_time": "2022-04-09T19:57:32.667Z"
   },
   {
    "duration": 254,
    "start_time": "2022-04-09T19:57:33.352Z"
   },
   {
    "duration": 246,
    "start_time": "2022-04-09T19:57:33.608Z"
   },
   {
    "duration": 333,
    "start_time": "2022-04-09T19:57:33.857Z"
   },
   {
    "duration": 313,
    "start_time": "2022-04-09T19:57:34.193Z"
   },
   {
    "duration": 229,
    "start_time": "2022-04-09T19:57:34.509Z"
   },
   {
    "duration": 312,
    "start_time": "2022-04-09T19:57:34.743Z"
   },
   {
    "duration": 246,
    "start_time": "2022-04-09T19:57:35.057Z"
   },
   {
    "duration": 14,
    "start_time": "2022-04-09T19:57:35.305Z"
   },
   {
    "duration": 33,
    "start_time": "2022-04-09T19:57:35.322Z"
   },
   {
    "duration": 14,
    "start_time": "2022-04-09T19:57:35.357Z"
   },
   {
    "duration": 14,
    "start_time": "2022-04-09T19:57:35.374Z"
   },
   {
    "duration": 53,
    "start_time": "2022-04-09T19:57:35.394Z"
   },
   {
    "duration": 13,
    "start_time": "2022-04-09T19:57:35.449Z"
   },
   {
    "duration": 6,
    "start_time": "2022-04-09T19:57:35.465Z"
   },
   {
    "duration": 73,
    "start_time": "2022-04-09T19:57:35.473Z"
   },
   {
    "duration": 29,
    "start_time": "2022-04-09T19:57:35.549Z"
   },
   {
    "duration": 65,
    "start_time": "2022-04-09T19:57:35.580Z"
   },
   {
    "duration": 4,
    "start_time": "2022-04-09T19:57:35.647Z"
   },
   {
    "duration": 12,
    "start_time": "2022-04-09T19:57:35.654Z"
   },
   {
    "duration": 1529,
    "start_time": "2022-04-09T20:04:18.352Z"
   },
   {
    "duration": 193,
    "start_time": "2022-04-09T20:04:19.883Z"
   },
   {
    "duration": 4,
    "start_time": "2022-04-09T20:04:20.078Z"
   },
   {
    "duration": 26,
    "start_time": "2022-04-09T20:04:20.085Z"
   },
   {
    "duration": 41,
    "start_time": "2022-04-09T20:04:20.113Z"
   },
   {
    "duration": 4,
    "start_time": "2022-04-09T20:04:20.157Z"
   },
   {
    "duration": 16,
    "start_time": "2022-04-09T20:04:20.163Z"
   },
   {
    "duration": 8,
    "start_time": "2022-04-09T20:04:20.181Z"
   },
   {
    "duration": 52,
    "start_time": "2022-04-09T20:04:20.192Z"
   },
   {
    "duration": 30,
    "start_time": "2022-04-09T20:04:20.250Z"
   },
   {
    "duration": 20,
    "start_time": "2022-04-09T20:04:20.283Z"
   },
   {
    "duration": 42,
    "start_time": "2022-04-09T20:04:20.305Z"
   },
   {
    "duration": 10,
    "start_time": "2022-04-09T20:04:20.350Z"
   },
   {
    "duration": 11,
    "start_time": "2022-04-09T20:04:20.362Z"
   },
   {
    "duration": 9,
    "start_time": "2022-04-09T20:04:20.375Z"
   },
   {
    "duration": 58,
    "start_time": "2022-04-09T20:04:20.386Z"
   },
   {
    "duration": 286,
    "start_time": "2022-04-09T20:04:20.447Z"
   },
   {
    "duration": 255,
    "start_time": "2022-04-09T20:04:20.735Z"
   },
   {
    "duration": 252,
    "start_time": "2022-04-09T20:04:20.993Z"
   },
   {
    "duration": 248,
    "start_time": "2022-04-09T20:04:21.247Z"
   },
   {
    "duration": 248,
    "start_time": "2022-04-09T20:04:21.498Z"
   },
   {
    "duration": 253,
    "start_time": "2022-04-09T20:04:21.748Z"
   },
   {
    "duration": 208,
    "start_time": "2022-04-09T20:04:22.003Z"
   },
   {
    "duration": 209,
    "start_time": "2022-04-09T20:04:22.213Z"
   },
   {
    "duration": 202,
    "start_time": "2022-04-09T20:04:22.424Z"
   },
   {
    "duration": 261,
    "start_time": "2022-04-09T20:04:22.628Z"
   },
   {
    "duration": 201,
    "start_time": "2022-04-09T20:04:22.891Z"
   },
   {
    "duration": 218,
    "start_time": "2022-04-09T20:04:23.097Z"
   },
   {
    "duration": 731,
    "start_time": "2022-04-09T20:04:23.317Z"
   },
   {
    "duration": 280,
    "start_time": "2022-04-09T20:04:24.050Z"
   },
   {
    "duration": 241,
    "start_time": "2022-04-09T20:04:24.333Z"
   },
   {
    "duration": 377,
    "start_time": "2022-04-09T20:04:24.576Z"
   },
   {
    "duration": 334,
    "start_time": "2022-04-09T20:04:24.955Z"
   },
   {
    "duration": 237,
    "start_time": "2022-04-09T20:04:25.291Z"
   },
   {
    "duration": 330,
    "start_time": "2022-04-09T20:04:25.530Z"
   },
   {
    "duration": 255,
    "start_time": "2022-04-09T20:04:25.863Z"
   },
   {
    "duration": 27,
    "start_time": "2022-04-09T20:04:26.120Z"
   },
   {
    "duration": 14,
    "start_time": "2022-04-09T20:04:26.150Z"
   },
   {
    "duration": 20,
    "start_time": "2022-04-09T20:04:26.167Z"
   },
   {
    "duration": 62,
    "start_time": "2022-04-09T20:04:26.189Z"
   },
   {
    "duration": 24,
    "start_time": "2022-04-09T20:04:26.254Z"
   },
   {
    "duration": 16,
    "start_time": "2022-04-09T20:04:26.281Z"
   },
   {
    "duration": 13,
    "start_time": "2022-04-09T20:04:26.300Z"
   },
   {
    "duration": 52,
    "start_time": "2022-04-09T20:04:26.315Z"
   },
   {
    "duration": 29,
    "start_time": "2022-04-09T20:04:26.369Z"
   },
   {
    "duration": 54,
    "start_time": "2022-04-09T20:04:26.401Z"
   },
   {
    "duration": 4,
    "start_time": "2022-04-09T20:04:26.458Z"
   },
   {
    "duration": 21,
    "start_time": "2022-04-09T20:04:26.464Z"
   },
   {
    "duration": 1455,
    "start_time": "2022-04-10T07:31:33.671Z"
   },
   {
    "duration": 181,
    "start_time": "2022-04-10T07:31:35.129Z"
   },
   {
    "duration": 4,
    "start_time": "2022-04-10T07:31:35.312Z"
   },
   {
    "duration": 33,
    "start_time": "2022-04-10T07:31:35.318Z"
   },
   {
    "duration": 21,
    "start_time": "2022-04-10T07:31:35.353Z"
   },
   {
    "duration": 14,
    "start_time": "2022-04-10T07:31:35.376Z"
   },
   {
    "duration": 15,
    "start_time": "2022-04-10T07:31:35.392Z"
   },
   {
    "duration": 6,
    "start_time": "2022-04-10T07:31:35.409Z"
   },
   {
    "duration": 38,
    "start_time": "2022-04-10T07:31:35.417Z"
   },
   {
    "duration": 27,
    "start_time": "2022-04-10T07:31:35.460Z"
   },
   {
    "duration": 20,
    "start_time": "2022-04-10T07:31:35.489Z"
   },
   {
    "duration": 76,
    "start_time": "2022-04-10T07:31:35.511Z"
   },
   {
    "duration": 55,
    "start_time": "2022-04-10T07:31:35.589Z"
   },
   {
    "duration": 30,
    "start_time": "2022-04-10T07:31:35.646Z"
   },
   {
    "duration": 30,
    "start_time": "2022-04-10T07:31:35.678Z"
   },
   {
    "duration": 45,
    "start_time": "2022-04-10T07:31:35.710Z"
   },
   {
    "duration": 261,
    "start_time": "2022-04-10T07:31:35.758Z"
   },
   {
    "duration": 241,
    "start_time": "2022-04-10T07:31:36.022Z"
   },
   {
    "duration": 237,
    "start_time": "2022-04-10T07:31:36.266Z"
   },
   {
    "duration": 240,
    "start_time": "2022-04-10T07:31:36.505Z"
   },
   {
    "duration": 232,
    "start_time": "2022-04-10T07:31:36.748Z"
   },
   {
    "duration": 229,
    "start_time": "2022-04-10T07:31:36.983Z"
   },
   {
    "duration": 191,
    "start_time": "2022-04-10T07:31:37.214Z"
   },
   {
    "duration": 198,
    "start_time": "2022-04-10T07:31:37.407Z"
   },
   {
    "duration": 190,
    "start_time": "2022-04-10T07:31:37.607Z"
   },
   {
    "duration": 261,
    "start_time": "2022-04-10T07:31:37.799Z"
   },
   {
    "duration": 199,
    "start_time": "2022-04-10T07:31:38.062Z"
   },
   {
    "duration": 223,
    "start_time": "2022-04-10T07:31:38.266Z"
   },
   {
    "duration": 682,
    "start_time": "2022-04-10T07:31:38.492Z"
   },
   {
    "duration": 241,
    "start_time": "2022-04-10T07:31:39.177Z"
   },
   {
    "duration": 231,
    "start_time": "2022-04-10T07:31:39.420Z"
   },
   {
    "duration": 324,
    "start_time": "2022-04-10T07:31:39.653Z"
   },
   {
    "duration": 289,
    "start_time": "2022-04-10T07:31:39.980Z"
   },
   {
    "duration": 218,
    "start_time": "2022-04-10T07:31:40.271Z"
   },
   {
    "duration": 338,
    "start_time": "2022-04-10T07:31:40.492Z"
   },
   {
    "duration": 225,
    "start_time": "2022-04-10T07:31:40.843Z"
   },
   {
    "duration": 14,
    "start_time": "2022-04-10T07:31:41.070Z"
   },
   {
    "duration": 12,
    "start_time": "2022-04-10T07:31:41.086Z"
   },
   {
    "duration": 12,
    "start_time": "2022-04-10T07:31:41.100Z"
   },
   {
    "duration": 12,
    "start_time": "2022-04-10T07:31:41.144Z"
   },
   {
    "duration": 11,
    "start_time": "2022-04-10T07:31:41.158Z"
   },
   {
    "duration": 13,
    "start_time": "2022-04-10T07:31:41.171Z"
   },
   {
    "duration": 7,
    "start_time": "2022-04-10T07:31:41.186Z"
   },
   {
    "duration": 69,
    "start_time": "2022-04-10T07:31:41.195Z"
   },
   {
    "duration": 34,
    "start_time": "2022-04-10T07:31:41.266Z"
   },
   {
    "duration": 58,
    "start_time": "2022-04-10T07:31:41.302Z"
   },
   {
    "duration": 4,
    "start_time": "2022-04-10T07:31:41.363Z"
   },
   {
    "duration": 10,
    "start_time": "2022-04-10T07:31:41.370Z"
   },
   {
    "duration": 1589,
    "start_time": "2022-04-10T07:50:25.294Z"
   },
   {
    "duration": 231,
    "start_time": "2022-04-10T07:50:26.886Z"
   },
   {
    "duration": 4,
    "start_time": "2022-04-10T07:50:27.120Z"
   },
   {
    "duration": 40,
    "start_time": "2022-04-10T07:50:27.128Z"
   },
   {
    "duration": 28,
    "start_time": "2022-04-10T07:50:27.171Z"
   },
   {
    "duration": 5,
    "start_time": "2022-04-10T07:50:27.201Z"
   },
   {
    "duration": 43,
    "start_time": "2022-04-10T07:50:27.209Z"
   },
   {
    "duration": 9,
    "start_time": "2022-04-10T07:50:27.255Z"
   },
   {
    "duration": 22,
    "start_time": "2022-04-10T07:50:27.267Z"
   },
   {
    "duration": 65,
    "start_time": "2022-04-10T07:50:27.294Z"
   },
   {
    "duration": 22,
    "start_time": "2022-04-10T07:50:27.361Z"
   },
   {
    "duration": 10,
    "start_time": "2022-04-10T07:50:27.386Z"
   },
   {
    "duration": 45,
    "start_time": "2022-04-10T07:50:27.399Z"
   },
   {
    "duration": 16,
    "start_time": "2022-04-10T07:50:27.447Z"
   },
   {
    "duration": 11,
    "start_time": "2022-04-10T07:50:27.466Z"
   },
   {
    "duration": 19,
    "start_time": "2022-04-10T07:50:27.479Z"
   },
   {
    "duration": 315,
    "start_time": "2022-04-10T07:50:27.500Z"
   },
   {
    "duration": 258,
    "start_time": "2022-04-10T07:50:27.817Z"
   },
   {
    "duration": 338,
    "start_time": "2022-04-10T07:50:28.077Z"
   },
   {
    "duration": 250,
    "start_time": "2022-04-10T07:50:28.417Z"
   },
   {
    "duration": 258,
    "start_time": "2022-04-10T07:50:28.669Z"
   },
   {
    "duration": 246,
    "start_time": "2022-04-10T07:50:28.929Z"
   },
   {
    "duration": 262,
    "start_time": "2022-04-10T07:50:29.178Z"
   },
   {
    "duration": 197,
    "start_time": "2022-04-10T07:50:29.442Z"
   },
   {
    "duration": 208,
    "start_time": "2022-04-10T07:50:29.644Z"
   },
   {
    "duration": 295,
    "start_time": "2022-04-10T07:50:29.856Z"
   },
   {
    "duration": 232,
    "start_time": "2022-04-10T07:50:30.154Z"
   },
   {
    "duration": 300,
    "start_time": "2022-04-10T07:50:30.392Z"
   },
   {
    "duration": 1089,
    "start_time": "2022-04-10T07:50:30.695Z"
   },
   {
    "duration": 356,
    "start_time": "2022-04-10T07:50:31.787Z"
   },
   {
    "duration": 354,
    "start_time": "2022-04-10T07:50:32.145Z"
   },
   {
    "duration": 429,
    "start_time": "2022-04-10T07:50:32.501Z"
   },
   {
    "duration": 328,
    "start_time": "2022-04-10T07:50:32.933Z"
   },
   {
    "duration": 234,
    "start_time": "2022-04-10T07:50:33.264Z"
   },
   {
    "duration": 364,
    "start_time": "2022-04-10T07:50:33.500Z"
   },
   {
    "duration": 239,
    "start_time": "2022-04-10T07:50:33.867Z"
   },
   {
    "duration": 13,
    "start_time": "2022-04-10T07:50:34.109Z"
   },
   {
    "duration": 13,
    "start_time": "2022-04-10T07:50:34.144Z"
   },
   {
    "duration": 16,
    "start_time": "2022-04-10T07:50:34.159Z"
   },
   {
    "duration": 16,
    "start_time": "2022-04-10T07:50:34.178Z"
   },
   {
    "duration": 55,
    "start_time": "2022-04-10T07:50:34.196Z"
   },
   {
    "duration": 15,
    "start_time": "2022-04-10T07:50:34.254Z"
   },
   {
    "duration": 9,
    "start_time": "2022-04-10T07:50:34.272Z"
   },
   {
    "duration": 65,
    "start_time": "2022-04-10T07:50:34.284Z"
   },
   {
    "duration": 27,
    "start_time": "2022-04-10T07:50:34.351Z"
   },
   {
    "duration": 26,
    "start_time": "2022-04-10T07:50:34.380Z"
   },
   {
    "duration": 34,
    "start_time": "2022-04-10T07:50:34.409Z"
   },
   {
    "duration": 7,
    "start_time": "2022-04-10T07:50:34.445Z"
   }
  ],
  "kernelspec": {
   "display_name": "Python 3 (ipykernel)",
   "language": "python",
   "name": "python3"
  },
  "language_info": {
   "codemirror_mode": {
    "name": "ipython",
    "version": 3
   },
   "file_extension": ".py",
   "mimetype": "text/x-python",
   "name": "python",
   "nbconvert_exporter": "python",
   "pygments_lexer": "ipython3",
   "version": "3.7.8"
  },
  "toc": {
   "base_numbering": 1,
   "nav_menu": {},
   "number_sections": true,
   "sideBar": true,
   "skip_h1_title": true,
   "title_cell": "Table of Contents",
   "title_sidebar": "Contents",
   "toc_cell": true,
   "toc_position": {
    "height": "calc(100% - 180px)",
    "left": "10px",
    "top": "150px",
    "width": "248.825px"
   },
   "toc_section_display": true,
   "toc_window_display": true
  }
 },
 "nbformat": 4,
 "nbformat_minor": 5
}
