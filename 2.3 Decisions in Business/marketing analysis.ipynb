{
 "cells": [
  {
   "cell_type": "markdown",
   "id": "5e3c7305",
   "metadata": {
    "toc": true
   },
   "source": [
    "<h1>Table of Contents<span class=\"tocSkip\"></span></h1>\n",
    "<div class=\"toc\"><ul class=\"toc-item\"><li><span><a href=\"#Описание-проекта\" data-toc-modified-id=\"Описание-проекта-1\"><span class=\"toc-item-num\">1&nbsp;&nbsp;</span>Описание проекта</a></span></li><li><span><a href=\"#Загрузка-данных\" data-toc-modified-id=\"Загрузка-данных-2\"><span class=\"toc-item-num\">2&nbsp;&nbsp;</span>Загрузка данных</a></span></li><li><span><a href=\"#Анализ-данных\" data-toc-modified-id=\"Анализ-данных-3\"><span class=\"toc-item-num\">3&nbsp;&nbsp;</span>Анализ данных</a></span></li><li><span><a href=\"#Приоритизация-гипотез\" data-toc-modified-id=\"Приоритизация-гипотез-4\"><span class=\"toc-item-num\">4&nbsp;&nbsp;</span>Приоритизация гипотез</a></span></li><li><span><a href=\"#Проведение-A/B---тестов\" data-toc-modified-id=\"Проведение-A/B---тестов-5\"><span class=\"toc-item-num\">5&nbsp;&nbsp;</span>Проведение A/B - тестов</a></span></li><li><span><a href=\"#Общие-выводы\" data-toc-modified-id=\"Общие-выводы-6\"><span class=\"toc-item-num\">6&nbsp;&nbsp;</span>Общие выводы</a></span></li></ul></div>"
   ]
  },
  {
   "cell_type": "markdown",
   "id": "e4138ca4",
   "metadata": {},
   "source": [
    "## Описание проекта"
   ]
  },
  {
   "cell_type": "markdown",
   "id": "fe5e6dc6",
   "metadata": {},
   "source": [
    "Вы — аналитик крупного интернет-магазина. Вместе с отделом маркетинга вы подготовили список гипотез для увеличения выручки.\n",
    "Приоритизируйте гипотезы, запустите A/B-тест и проанализируйте результаты.<br>\n",
    "**Задача по приоретизации данных:**\n",
    "- Примените фреймворк ICE для приоритизации гипотез. Отсортируйте их по убыванию приоритета.\n",
    "- Примените фреймворк RICE для приоритизации гипотез. Отсортируйте их по убыванию приоритета.\n",
    "- Укажите, как изменилась приоритизация гипотез при применении RICE вместо ICE. Объясните, почему так произошло.<br>\n",
    "\n",
    "**Анализ A/B-теста:**\n",
    "- Постройте график кумулятивной выручки по группам. Сделайте выводы и предположения.\n",
    "- Постройте график кумулятивного среднего чека по группам. Сделайте выводы и предположения.\n",
    "- Постройте график относительного изменения кумулятивного среднего чека группы B к группе A. Сделайте выводы и предположения.\n",
    "- Постройте график кумулятивной конверсии по группам. Сделайте выводы и предположения.\n",
    "- Постройте график относительного изменения кумулятивной конверсии группы B к группе A. Сделайте выводы и предположения.\n",
    "- Постройте точечный график количества заказов по пользователям. Сделайте выводы и предположения.\n",
    "- Посчитайте 95-й и 99-й перцентили количества заказов на пользователя. Выберите границу для определения аномальных пользователей.\n",
    "- Постройте точечный график стоимостей заказов. Сделайте выводы и предположения.\n",
    "- Посчитайте 95-й и 99-й перцентили стоимости заказов. Выберите границу для определения аномальных заказов.\n",
    "- Посчитайте статистическую значимость различий в конверсии между группами по «сырым» данным. Сделайте выводы и предположения.\n",
    "- Посчитайте статистическую значимость различий в среднем чеке заказа между группами по «сырым» данным. Сделайте выводы и - предположения.\n",
    "- Посчитайте статистическую значимость различий в конверсии между группами по «очищенным» данным. Сделайте выводы и предположения.\n",
    "- Посчитайте статистическую значимость различий в среднем чеке заказа между группами по «очищенным» данным. Сделайте выводы и предположения.\n",
    "- Примите решение по результатам теста и объясните его."
   ]
  },
  {
   "cell_type": "markdown",
   "id": "00729f6e",
   "metadata": {},
   "source": [
    "## Загрузка данных"
   ]
  },
  {
   "cell_type": "code",
   "execution_count": 1,
   "id": "eefb27f9",
   "metadata": {},
   "outputs": [],
   "source": [
    "#импорт библиотек для работы\n",
    "import pandas as pd\n",
    "import numpy as np\n",
    "import seaborn as sns\n",
    "import matplotlib.pyplot as plt\n",
    "import math\n",
    "from datetime import datetime, timedelta\n",
    "from scipy import stats as st"
   ]
  },
  {
   "cell_type": "code",
   "execution_count": 2,
   "id": "f759222e",
   "metadata": {},
   "outputs": [],
   "source": [
    "#cнизим размерность чисел для вывода на экран на всем проекте\n",
    "pd.options.display.float_format = '{:,.2f}'.format"
   ]
  },
  {
   "cell_type": "code",
   "execution_count": 3,
   "id": "60aa8c54",
   "metadata": {},
   "outputs": [],
   "source": [
    "# загрузка датасета\n",
    "try:\n",
    "    visitors = pd.read_csv('visitors.csv')\n",
    "    orders = pd.read_csv('orders.csv')\n",
    "    hypothesis = pd.read_csv('hypothesis.csv')\n",
    "except:\n",
    "    visitors = pd.read_csv('/datasets/visitors.csv')\n",
    "    orders = pd.read_csv('/datasets/orders.csv')\n",
    "    hypothesis = pd.read_csv('/datasets/hypothesis.csv')"
   ]
  },
  {
   "cell_type": "markdown",
   "id": "e7bade0e",
   "metadata": {},
   "source": [
    "## Анализ данных"
   ]
  },
  {
   "cell_type": "markdown",
   "id": "1bc7f749",
   "metadata": {},
   "source": [
    "Рассмотрим содержимое датасетов"
   ]
  },
  {
   "cell_type": "code",
   "execution_count": 4,
   "id": "aea7b5c6",
   "metadata": {
    "scrolled": true
   },
   "outputs": [
    {
     "data": {
      "text/html": [
       "<div>\n",
       "<style scoped>\n",
       "    .dataframe tbody tr th:only-of-type {\n",
       "        vertical-align: middle;\n",
       "    }\n",
       "\n",
       "    .dataframe tbody tr th {\n",
       "        vertical-align: top;\n",
       "    }\n",
       "\n",
       "    .dataframe thead th {\n",
       "        text-align: right;\n",
       "    }\n",
       "</style>\n",
       "<table border=\"1\" class=\"dataframe\">\n",
       "  <thead>\n",
       "    <tr style=\"text-align: right;\">\n",
       "      <th></th>\n",
       "      <th>date</th>\n",
       "      <th>group</th>\n",
       "      <th>visitors</th>\n",
       "    </tr>\n",
       "  </thead>\n",
       "  <tbody>\n",
       "    <tr>\n",
       "      <th>0</th>\n",
       "      <td>2019-08-01</td>\n",
       "      <td>A</td>\n",
       "      <td>719</td>\n",
       "    </tr>\n",
       "    <tr>\n",
       "      <th>1</th>\n",
       "      <td>2019-08-02</td>\n",
       "      <td>A</td>\n",
       "      <td>619</td>\n",
       "    </tr>\n",
       "    <tr>\n",
       "      <th>2</th>\n",
       "      <td>2019-08-03</td>\n",
       "      <td>A</td>\n",
       "      <td>507</td>\n",
       "    </tr>\n",
       "    <tr>\n",
       "      <th>3</th>\n",
       "      <td>2019-08-04</td>\n",
       "      <td>A</td>\n",
       "      <td>717</td>\n",
       "    </tr>\n",
       "    <tr>\n",
       "      <th>4</th>\n",
       "      <td>2019-08-05</td>\n",
       "      <td>A</td>\n",
       "      <td>756</td>\n",
       "    </tr>\n",
       "  </tbody>\n",
       "</table>\n",
       "</div>"
      ],
      "text/plain": [
       "         date group  visitors\n",
       "0  2019-08-01     A       719\n",
       "1  2019-08-02     A       619\n",
       "2  2019-08-03     A       507\n",
       "3  2019-08-04     A       717\n",
       "4  2019-08-05     A       756"
      ]
     },
     "metadata": {},
     "output_type": "display_data"
    },
    {
     "name": "stdout",
     "output_type": "stream",
     "text": [
      "<class 'pandas.core.frame.DataFrame'>\n",
      "RangeIndex: 62 entries, 0 to 61\n",
      "Data columns (total 3 columns):\n",
      " #   Column    Non-Null Count  Dtype \n",
      "---  ------    --------------  ----- \n",
      " 0   date      62 non-null     object\n",
      " 1   group     62 non-null     object\n",
      " 2   visitors  62 non-null     int64 \n",
      "dtypes: int64(1), object(2)\n",
      "memory usage: 1.6+ KB\n"
     ]
    }
   ],
   "source": [
    "display(visitors.head(5))\n",
    "visitors.info()"
   ]
  },
  {
   "cell_type": "code",
   "execution_count": 5,
   "id": "e961b82b",
   "metadata": {
    "scrolled": false
   },
   "outputs": [
    {
     "data": {
      "text/html": [
       "<div>\n",
       "<style scoped>\n",
       "    .dataframe tbody tr th:only-of-type {\n",
       "        vertical-align: middle;\n",
       "    }\n",
       "\n",
       "    .dataframe tbody tr th {\n",
       "        vertical-align: top;\n",
       "    }\n",
       "\n",
       "    .dataframe thead th {\n",
       "        text-align: right;\n",
       "    }\n",
       "</style>\n",
       "<table border=\"1\" class=\"dataframe\">\n",
       "  <thead>\n",
       "    <tr style=\"text-align: right;\">\n",
       "      <th></th>\n",
       "      <th>transactionId</th>\n",
       "      <th>visitorId</th>\n",
       "      <th>date</th>\n",
       "      <th>revenue</th>\n",
       "      <th>group</th>\n",
       "    </tr>\n",
       "  </thead>\n",
       "  <tbody>\n",
       "    <tr>\n",
       "      <th>0</th>\n",
       "      <td>3667963787</td>\n",
       "      <td>3312258926</td>\n",
       "      <td>2019-08-15</td>\n",
       "      <td>1650</td>\n",
       "      <td>B</td>\n",
       "    </tr>\n",
       "    <tr>\n",
       "      <th>1</th>\n",
       "      <td>2804400009</td>\n",
       "      <td>3642806036</td>\n",
       "      <td>2019-08-15</td>\n",
       "      <td>730</td>\n",
       "      <td>B</td>\n",
       "    </tr>\n",
       "    <tr>\n",
       "      <th>2</th>\n",
       "      <td>2961555356</td>\n",
       "      <td>4069496402</td>\n",
       "      <td>2019-08-15</td>\n",
       "      <td>400</td>\n",
       "      <td>A</td>\n",
       "    </tr>\n",
       "    <tr>\n",
       "      <th>3</th>\n",
       "      <td>3797467345</td>\n",
       "      <td>1196621759</td>\n",
       "      <td>2019-08-15</td>\n",
       "      <td>9759</td>\n",
       "      <td>B</td>\n",
       "    </tr>\n",
       "    <tr>\n",
       "      <th>4</th>\n",
       "      <td>2282983706</td>\n",
       "      <td>2322279887</td>\n",
       "      <td>2019-08-15</td>\n",
       "      <td>2308</td>\n",
       "      <td>B</td>\n",
       "    </tr>\n",
       "  </tbody>\n",
       "</table>\n",
       "</div>"
      ],
      "text/plain": [
       "   transactionId   visitorId        date  revenue group\n",
       "0     3667963787  3312258926  2019-08-15     1650     B\n",
       "1     2804400009  3642806036  2019-08-15      730     B\n",
       "2     2961555356  4069496402  2019-08-15      400     A\n",
       "3     3797467345  1196621759  2019-08-15     9759     B\n",
       "4     2282983706  2322279887  2019-08-15     2308     B"
      ]
     },
     "metadata": {},
     "output_type": "display_data"
    },
    {
     "name": "stdout",
     "output_type": "stream",
     "text": [
      "<class 'pandas.core.frame.DataFrame'>\n",
      "RangeIndex: 1197 entries, 0 to 1196\n",
      "Data columns (total 5 columns):\n",
      " #   Column         Non-Null Count  Dtype \n",
      "---  ------         --------------  ----- \n",
      " 0   transactionId  1197 non-null   int64 \n",
      " 1   visitorId      1197 non-null   int64 \n",
      " 2   date           1197 non-null   object\n",
      " 3   revenue        1197 non-null   int64 \n",
      " 4   group          1197 non-null   object\n",
      "dtypes: int64(3), object(2)\n",
      "memory usage: 46.9+ KB\n"
     ]
    }
   ],
   "source": [
    "display(orders.head(5))\n",
    "orders.info()"
   ]
  },
  {
   "cell_type": "code",
   "execution_count": 6,
   "id": "64dab569",
   "metadata": {
    "scrolled": true
   },
   "outputs": [
    {
     "data": {
      "text/html": [
       "<div>\n",
       "<style scoped>\n",
       "    .dataframe tbody tr th:only-of-type {\n",
       "        vertical-align: middle;\n",
       "    }\n",
       "\n",
       "    .dataframe tbody tr th {\n",
       "        vertical-align: top;\n",
       "    }\n",
       "\n",
       "    .dataframe thead th {\n",
       "        text-align: right;\n",
       "    }\n",
       "</style>\n",
       "<table border=\"1\" class=\"dataframe\">\n",
       "  <thead>\n",
       "    <tr style=\"text-align: right;\">\n",
       "      <th></th>\n",
       "      <th>Hypothesis</th>\n",
       "      <th>Reach</th>\n",
       "      <th>Impact</th>\n",
       "      <th>Confidence</th>\n",
       "      <th>Efforts</th>\n",
       "    </tr>\n",
       "  </thead>\n",
       "  <tbody>\n",
       "    <tr>\n",
       "      <th>0</th>\n",
       "      <td>Добавить два новых канала привлечения трафика,...</td>\n",
       "      <td>3</td>\n",
       "      <td>10</td>\n",
       "      <td>8</td>\n",
       "      <td>6</td>\n",
       "    </tr>\n",
       "    <tr>\n",
       "      <th>1</th>\n",
       "      <td>Запустить собственную службу доставки, что сок...</td>\n",
       "      <td>2</td>\n",
       "      <td>5</td>\n",
       "      <td>4</td>\n",
       "      <td>10</td>\n",
       "    </tr>\n",
       "    <tr>\n",
       "      <th>2</th>\n",
       "      <td>Добавить блоки рекомендаций товаров на сайт ин...</td>\n",
       "      <td>8</td>\n",
       "      <td>3</td>\n",
       "      <td>7</td>\n",
       "      <td>3</td>\n",
       "    </tr>\n",
       "    <tr>\n",
       "      <th>3</th>\n",
       "      <td>Изменить структура категорий, что увеличит кон...</td>\n",
       "      <td>8</td>\n",
       "      <td>3</td>\n",
       "      <td>3</td>\n",
       "      <td>8</td>\n",
       "    </tr>\n",
       "    <tr>\n",
       "      <th>4</th>\n",
       "      <td>Изменить цвет фона главной страницы, чтобы уве...</td>\n",
       "      <td>3</td>\n",
       "      <td>1</td>\n",
       "      <td>1</td>\n",
       "      <td>1</td>\n",
       "    </tr>\n",
       "  </tbody>\n",
       "</table>\n",
       "</div>"
      ],
      "text/plain": [
       "                                          Hypothesis  Reach  Impact  \\\n",
       "0  Добавить два новых канала привлечения трафика,...      3      10   \n",
       "1  Запустить собственную службу доставки, что сок...      2       5   \n",
       "2  Добавить блоки рекомендаций товаров на сайт ин...      8       3   \n",
       "3  Изменить структура категорий, что увеличит кон...      8       3   \n",
       "4  Изменить цвет фона главной страницы, чтобы уве...      3       1   \n",
       "\n",
       "   Confidence  Efforts  \n",
       "0           8        6  \n",
       "1           4       10  \n",
       "2           7        3  \n",
       "3           3        8  \n",
       "4           1        1  "
      ]
     },
     "metadata": {},
     "output_type": "display_data"
    },
    {
     "name": "stdout",
     "output_type": "stream",
     "text": [
      "<class 'pandas.core.frame.DataFrame'>\n",
      "RangeIndex: 9 entries, 0 to 8\n",
      "Data columns (total 5 columns):\n",
      " #   Column      Non-Null Count  Dtype \n",
      "---  ------      --------------  ----- \n",
      " 0   Hypothesis  9 non-null      object\n",
      " 1   Reach       9 non-null      int64 \n",
      " 2   Impact      9 non-null      int64 \n",
      " 3   Confidence  9 non-null      int64 \n",
      " 4   Efforts     9 non-null      int64 \n",
      "dtypes: int64(4), object(1)\n",
      "memory usage: 488.0+ bytes\n"
     ]
    }
   ],
   "source": [
    "display(hypothesis.head(5))\n",
    "hypothesis.info()"
   ]
  },
  {
   "cell_type": "code",
   "execution_count": 7,
   "id": "1710cb23",
   "metadata": {},
   "outputs": [],
   "source": [
    "# переведем даты в формат datetime\n",
    "visitors['date'] = visitors['date'].map(\n",
    "    lambda x: datetime.strptime(x, '%Y-%m-%d'))\n",
    "orders['date'] = orders['date'].map(\n",
    "    lambda x: datetime.strptime(x, '%Y-%m-%d'))"
   ]
  },
  {
   "cell_type": "code",
   "execution_count": 8,
   "id": "1a49281b",
   "metadata": {
    "scrolled": true
   },
   "outputs": [
    {
     "name": "stdout",
     "output_type": "stream",
     "text": [
      "<class 'pandas.core.frame.DataFrame'>\n",
      "RangeIndex: 62 entries, 0 to 61\n",
      "Data columns (total 3 columns):\n",
      " #   Column    Non-Null Count  Dtype         \n",
      "---  ------    --------------  -----         \n",
      " 0   date      62 non-null     datetime64[ns]\n",
      " 1   group     62 non-null     object        \n",
      " 2   visitors  62 non-null     int64         \n",
      "dtypes: datetime64[ns](1), int64(1), object(1)\n",
      "memory usage: 1.6+ KB\n"
     ]
    },
    {
     "data": {
      "text/plain": [
       "None"
      ]
     },
     "metadata": {},
     "output_type": "display_data"
    },
    {
     "name": "stdout",
     "output_type": "stream",
     "text": [
      "<class 'pandas.core.frame.DataFrame'>\n",
      "RangeIndex: 1197 entries, 0 to 1196\n",
      "Data columns (total 5 columns):\n",
      " #   Column         Non-Null Count  Dtype         \n",
      "---  ------         --------------  -----         \n",
      " 0   transactionId  1197 non-null   int64         \n",
      " 1   visitorId      1197 non-null   int64         \n",
      " 2   date           1197 non-null   datetime64[ns]\n",
      " 3   revenue        1197 non-null   int64         \n",
      " 4   group          1197 non-null   object        \n",
      "dtypes: datetime64[ns](1), int64(3), object(1)\n",
      "memory usage: 46.9+ KB\n"
     ]
    }
   ],
   "source": [
    "display(visitors.info())\n",
    "orders.info()"
   ]
  },
  {
   "cell_type": "code",
   "execution_count": 9,
   "id": "411cae70",
   "metadata": {
    "scrolled": true
   },
   "outputs": [
    {
     "data": {
      "text/plain": [
       "183"
      ]
     },
     "metadata": {},
     "output_type": "display_data"
    },
    {
     "data": {
      "text/plain": [
       "58"
      ]
     },
     "execution_count": 9,
     "metadata": {},
     "output_type": "execute_result"
    }
   ],
   "source": [
    "#проверим количество записей с пользователями группы А и В и количество таких пользователей\n",
    "visitors_dub = (orders[orders['group'] == 'A'][['visitorId','group']]\n",
    "             .merge(orders[orders['group'] == 'B'][['visitorId','group']], on='visitorId')\n",
    "            )\n",
    "display(visitors_dub.shape[0])\n",
    "visitors_dub.drop_duplicates(subset='visitorId').shape[0]"
   ]
  },
  {
   "cell_type": "markdown",
   "id": "64f54b57",
   "metadata": {},
   "source": [
    "Количество записей, относящихся к пользователям попавшим в группы А и В равно 183 и составляет ~15% записей. Такие дубликаты будут вносить ошибку в результаты тестирования. Необходимо очистить таблицу от таких пользователей."
   ]
  },
  {
   "cell_type": "code",
   "execution_count": 10,
   "id": "72befb43",
   "metadata": {},
   "outputs": [
    {
     "name": "stdout",
     "output_type": "stream",
     "text": [
      "<class 'pandas.core.frame.DataFrame'>\n",
      "Int64Index: 1016 entries, 0 to 1196\n",
      "Data columns (total 5 columns):\n",
      " #   Column         Non-Null Count  Dtype         \n",
      "---  ------         --------------  -----         \n",
      " 0   transactionId  1016 non-null   int64         \n",
      " 1   visitorId      1016 non-null   int64         \n",
      " 2   date           1016 non-null   datetime64[ns]\n",
      " 3   revenue        1016 non-null   int64         \n",
      " 4   group          1016 non-null   object        \n",
      "dtypes: datetime64[ns](1), int64(3), object(1)\n",
      "memory usage: 47.6+ KB\n"
     ]
    }
   ],
   "source": [
    "orders = orders[~orders['visitorId'].isin(visitors_dub['visitorId'].drop_duplicates())]\n",
    "orders.info()"
   ]
  },
  {
   "cell_type": "markdown",
   "id": "c9e9b0ad",
   "metadata": {},
   "source": [
    "###### Вывод:\n",
    "- загружены библиотеки необходимые для работы и предоставленные для анализа датасеты;\n",
    "- просмотрено и изучено содержимое датасетов;\n",
    "- изменен формат колонок с датами, приведены к формату datetime;\n",
    "- данные очищены от дубликатов."
   ]
  },
  {
   "cell_type": "markdown",
   "id": "d79fd06f",
   "metadata": {},
   "source": [
    "## Приоритизация гипотез"
   ]
  },
  {
   "cell_type": "code",
   "execution_count": 11,
   "id": "2dddcf44",
   "metadata": {
    "scrolled": true
   },
   "outputs": [
    {
     "data": {
      "text/plain": [
       "0              Добавить два новых канала привлечения трафика, что позволит привлекать на 30% больше пользователей\n",
       "1                                       Запустить собственную службу доставки, что сократит срок доставки заказов\n",
       "2    Добавить блоки рекомендаций товаров на сайт интернет магазина, чтобы повысить конверсию и средний чек заказа\n",
       "3             Изменить структура категорий, что увеличит конверсию, т.к. пользователи быстрее найдут нужный товар\n",
       "4                                Изменить цвет фона главной страницы, чтобы увеличить вовлеченность пользователей\n",
       "5                        Добавить страницу отзывов клиентов о магазине, что позволит увеличить количество заказов\n",
       "6            Показать на главной странице баннеры с актуальными акциями и распродажами, чтобы увеличить конверсию\n",
       "7                Добавить форму подписки на все основные страницы, чтобы собрать базу клиентов для email-рассылок\n",
       "8                                                         Запустить акцию, дающую скидку на товар в день рождения\n",
       "Name: Hypothesis, dtype: object"
      ]
     },
     "execution_count": 11,
     "metadata": {},
     "output_type": "execute_result"
    }
   ],
   "source": [
    "#изменим формат для вывода, чтобы прочитать гипотезы полностью\n",
    "pd.options.display.max_colwidth = 150\n",
    "hypothesis['Hypothesis']"
   ]
  },
  {
   "cell_type": "raw",
   "id": "e25b0856",
   "metadata": {},
   "source": [
    "#вернем стандартный формат вывода\n",
    "pd.options.display.max_colwidth = 50"
   ]
  },
  {
   "cell_type": "code",
   "execution_count": 12,
   "id": "64420705",
   "metadata": {},
   "outputs": [],
   "source": [
    "# проведем расчет значение для определения баллов по ICE и RICE \n",
    "hypothesis['ice'] = (hypothesis['Impact']*hypothesis['Confidence'])/(hypothesis['Efforts'])\n",
    "hypothesis['rice'] = (hypothesis['Reach']*hypothesis['Impact']\n",
    "                      *hypothesis['Confidence'])/(hypothesis['Efforts'])"
   ]
  },
  {
   "cell_type": "code",
   "execution_count": 13,
   "id": "c1ab1d73",
   "metadata": {
    "scrolled": true
   },
   "outputs": [
    {
     "data": {
      "text/html": [
       "<div>\n",
       "<style scoped>\n",
       "    .dataframe tbody tr th:only-of-type {\n",
       "        vertical-align: middle;\n",
       "    }\n",
       "\n",
       "    .dataframe tbody tr th {\n",
       "        vertical-align: top;\n",
       "    }\n",
       "\n",
       "    .dataframe thead th {\n",
       "        text-align: right;\n",
       "    }\n",
       "</style>\n",
       "<table border=\"1\" class=\"dataframe\">\n",
       "  <thead>\n",
       "    <tr style=\"text-align: right;\">\n",
       "      <th></th>\n",
       "      <th>Hypothesis</th>\n",
       "      <th>Reach</th>\n",
       "      <th>Impact</th>\n",
       "      <th>Confidence</th>\n",
       "      <th>Efforts</th>\n",
       "      <th>ice</th>\n",
       "      <th>rice</th>\n",
       "    </tr>\n",
       "  </thead>\n",
       "  <tbody>\n",
       "    <tr>\n",
       "      <th>8</th>\n",
       "      <td>Запустить акцию, дающую скидку на товар в день рождения</td>\n",
       "      <td>1</td>\n",
       "      <td>9</td>\n",
       "      <td>9</td>\n",
       "      <td>5</td>\n",
       "      <td>16.20</td>\n",
       "      <td>16.20</td>\n",
       "    </tr>\n",
       "    <tr>\n",
       "      <th>0</th>\n",
       "      <td>Добавить два новых канала привлечения трафика, что позволит привлекать на 30% больше пользователей</td>\n",
       "      <td>3</td>\n",
       "      <td>10</td>\n",
       "      <td>8</td>\n",
       "      <td>6</td>\n",
       "      <td>13.33</td>\n",
       "      <td>40.00</td>\n",
       "    </tr>\n",
       "    <tr>\n",
       "      <th>7</th>\n",
       "      <td>Добавить форму подписки на все основные страницы, чтобы собрать базу клиентов для email-рассылок</td>\n",
       "      <td>10</td>\n",
       "      <td>7</td>\n",
       "      <td>8</td>\n",
       "      <td>5</td>\n",
       "      <td>11.20</td>\n",
       "      <td>112.00</td>\n",
       "    </tr>\n",
       "    <tr>\n",
       "      <th>6</th>\n",
       "      <td>Показать на главной странице баннеры с актуальными акциями и распродажами, чтобы увеличить конверсию</td>\n",
       "      <td>5</td>\n",
       "      <td>3</td>\n",
       "      <td>8</td>\n",
       "      <td>3</td>\n",
       "      <td>8.00</td>\n",
       "      <td>40.00</td>\n",
       "    </tr>\n",
       "    <tr>\n",
       "      <th>2</th>\n",
       "      <td>Добавить блоки рекомендаций товаров на сайт интернет магазина, чтобы повысить конверсию и средний чек заказа</td>\n",
       "      <td>8</td>\n",
       "      <td>3</td>\n",
       "      <td>7</td>\n",
       "      <td>3</td>\n",
       "      <td>7.00</td>\n",
       "      <td>56.00</td>\n",
       "    </tr>\n",
       "    <tr>\n",
       "      <th>1</th>\n",
       "      <td>Запустить собственную службу доставки, что сократит срок доставки заказов</td>\n",
       "      <td>2</td>\n",
       "      <td>5</td>\n",
       "      <td>4</td>\n",
       "      <td>10</td>\n",
       "      <td>2.00</td>\n",
       "      <td>4.00</td>\n",
       "    </tr>\n",
       "    <tr>\n",
       "      <th>5</th>\n",
       "      <td>Добавить страницу отзывов клиентов о магазине, что позволит увеличить количество заказов</td>\n",
       "      <td>3</td>\n",
       "      <td>2</td>\n",
       "      <td>2</td>\n",
       "      <td>3</td>\n",
       "      <td>1.33</td>\n",
       "      <td>4.00</td>\n",
       "    </tr>\n",
       "    <tr>\n",
       "      <th>3</th>\n",
       "      <td>Изменить структура категорий, что увеличит конверсию, т.к. пользователи быстрее найдут нужный товар</td>\n",
       "      <td>8</td>\n",
       "      <td>3</td>\n",
       "      <td>3</td>\n",
       "      <td>8</td>\n",
       "      <td>1.12</td>\n",
       "      <td>9.00</td>\n",
       "    </tr>\n",
       "    <tr>\n",
       "      <th>4</th>\n",
       "      <td>Изменить цвет фона главной страницы, чтобы увеличить вовлеченность пользователей</td>\n",
       "      <td>3</td>\n",
       "      <td>1</td>\n",
       "      <td>1</td>\n",
       "      <td>1</td>\n",
       "      <td>1.00</td>\n",
       "      <td>3.00</td>\n",
       "    </tr>\n",
       "  </tbody>\n",
       "</table>\n",
       "</div>"
      ],
      "text/plain": [
       "                                                                                                     Hypothesis  \\\n",
       "8                                                       Запустить акцию, дающую скидку на товар в день рождения   \n",
       "0            Добавить два новых канала привлечения трафика, что позволит привлекать на 30% больше пользователей   \n",
       "7              Добавить форму подписки на все основные страницы, чтобы собрать базу клиентов для email-рассылок   \n",
       "6          Показать на главной странице баннеры с актуальными акциями и распродажами, чтобы увеличить конверсию   \n",
       "2  Добавить блоки рекомендаций товаров на сайт интернет магазина, чтобы повысить конверсию и средний чек заказа   \n",
       "1                                     Запустить собственную службу доставки, что сократит срок доставки заказов   \n",
       "5                      Добавить страницу отзывов клиентов о магазине, что позволит увеличить количество заказов   \n",
       "3           Изменить структура категорий, что увеличит конверсию, т.к. пользователи быстрее найдут нужный товар   \n",
       "4                              Изменить цвет фона главной страницы, чтобы увеличить вовлеченность пользователей   \n",
       "\n",
       "   Reach  Impact  Confidence  Efforts   ice   rice  \n",
       "8      1       9           9        5 16.20  16.20  \n",
       "0      3      10           8        6 13.33  40.00  \n",
       "7     10       7           8        5 11.20 112.00  \n",
       "6      5       3           8        3  8.00  40.00  \n",
       "2      8       3           7        3  7.00  56.00  \n",
       "1      2       5           4       10  2.00   4.00  \n",
       "5      3       2           2        3  1.33   4.00  \n",
       "3      8       3           3        8  1.12   9.00  \n",
       "4      3       1           1        1  1.00   3.00  "
      ]
     },
     "execution_count": 13,
     "metadata": {},
     "output_type": "execute_result"
    }
   ],
   "source": [
    "# отсортируем по убыванию метрики ICE\n",
    "hypothesis.sort_values(by='ice', ascending=False)"
   ]
  },
  {
   "cell_type": "code",
   "execution_count": 14,
   "id": "71c96c61",
   "metadata": {
    "scrolled": false
   },
   "outputs": [
    {
     "data": {
      "text/html": [
       "<div>\n",
       "<style scoped>\n",
       "    .dataframe tbody tr th:only-of-type {\n",
       "        vertical-align: middle;\n",
       "    }\n",
       "\n",
       "    .dataframe tbody tr th {\n",
       "        vertical-align: top;\n",
       "    }\n",
       "\n",
       "    .dataframe thead th {\n",
       "        text-align: right;\n",
       "    }\n",
       "</style>\n",
       "<table border=\"1\" class=\"dataframe\">\n",
       "  <thead>\n",
       "    <tr style=\"text-align: right;\">\n",
       "      <th></th>\n",
       "      <th>Hypothesis</th>\n",
       "      <th>Reach</th>\n",
       "      <th>Impact</th>\n",
       "      <th>Confidence</th>\n",
       "      <th>Efforts</th>\n",
       "      <th>ice</th>\n",
       "      <th>rice</th>\n",
       "    </tr>\n",
       "  </thead>\n",
       "  <tbody>\n",
       "    <tr>\n",
       "      <th>7</th>\n",
       "      <td>Добавить форму подписки на все основные страницы, чтобы собрать базу клиентов для email-рассылок</td>\n",
       "      <td>10</td>\n",
       "      <td>7</td>\n",
       "      <td>8</td>\n",
       "      <td>5</td>\n",
       "      <td>11.20</td>\n",
       "      <td>112.00</td>\n",
       "    </tr>\n",
       "    <tr>\n",
       "      <th>2</th>\n",
       "      <td>Добавить блоки рекомендаций товаров на сайт интернет магазина, чтобы повысить конверсию и средний чек заказа</td>\n",
       "      <td>8</td>\n",
       "      <td>3</td>\n",
       "      <td>7</td>\n",
       "      <td>3</td>\n",
       "      <td>7.00</td>\n",
       "      <td>56.00</td>\n",
       "    </tr>\n",
       "    <tr>\n",
       "      <th>0</th>\n",
       "      <td>Добавить два новых канала привлечения трафика, что позволит привлекать на 30% больше пользователей</td>\n",
       "      <td>3</td>\n",
       "      <td>10</td>\n",
       "      <td>8</td>\n",
       "      <td>6</td>\n",
       "      <td>13.33</td>\n",
       "      <td>40.00</td>\n",
       "    </tr>\n",
       "    <tr>\n",
       "      <th>6</th>\n",
       "      <td>Показать на главной странице баннеры с актуальными акциями и распродажами, чтобы увеличить конверсию</td>\n",
       "      <td>5</td>\n",
       "      <td>3</td>\n",
       "      <td>8</td>\n",
       "      <td>3</td>\n",
       "      <td>8.00</td>\n",
       "      <td>40.00</td>\n",
       "    </tr>\n",
       "    <tr>\n",
       "      <th>8</th>\n",
       "      <td>Запустить акцию, дающую скидку на товар в день рождения</td>\n",
       "      <td>1</td>\n",
       "      <td>9</td>\n",
       "      <td>9</td>\n",
       "      <td>5</td>\n",
       "      <td>16.20</td>\n",
       "      <td>16.20</td>\n",
       "    </tr>\n",
       "    <tr>\n",
       "      <th>3</th>\n",
       "      <td>Изменить структура категорий, что увеличит конверсию, т.к. пользователи быстрее найдут нужный товар</td>\n",
       "      <td>8</td>\n",
       "      <td>3</td>\n",
       "      <td>3</td>\n",
       "      <td>8</td>\n",
       "      <td>1.12</td>\n",
       "      <td>9.00</td>\n",
       "    </tr>\n",
       "    <tr>\n",
       "      <th>1</th>\n",
       "      <td>Запустить собственную службу доставки, что сократит срок доставки заказов</td>\n",
       "      <td>2</td>\n",
       "      <td>5</td>\n",
       "      <td>4</td>\n",
       "      <td>10</td>\n",
       "      <td>2.00</td>\n",
       "      <td>4.00</td>\n",
       "    </tr>\n",
       "    <tr>\n",
       "      <th>5</th>\n",
       "      <td>Добавить страницу отзывов клиентов о магазине, что позволит увеличить количество заказов</td>\n",
       "      <td>3</td>\n",
       "      <td>2</td>\n",
       "      <td>2</td>\n",
       "      <td>3</td>\n",
       "      <td>1.33</td>\n",
       "      <td>4.00</td>\n",
       "    </tr>\n",
       "    <tr>\n",
       "      <th>4</th>\n",
       "      <td>Изменить цвет фона главной страницы, чтобы увеличить вовлеченность пользователей</td>\n",
       "      <td>3</td>\n",
       "      <td>1</td>\n",
       "      <td>1</td>\n",
       "      <td>1</td>\n",
       "      <td>1.00</td>\n",
       "      <td>3.00</td>\n",
       "    </tr>\n",
       "  </tbody>\n",
       "</table>\n",
       "</div>"
      ],
      "text/plain": [
       "                                                                                                     Hypothesis  \\\n",
       "7              Добавить форму подписки на все основные страницы, чтобы собрать базу клиентов для email-рассылок   \n",
       "2  Добавить блоки рекомендаций товаров на сайт интернет магазина, чтобы повысить конверсию и средний чек заказа   \n",
       "0            Добавить два новых канала привлечения трафика, что позволит привлекать на 30% больше пользователей   \n",
       "6          Показать на главной странице баннеры с актуальными акциями и распродажами, чтобы увеличить конверсию   \n",
       "8                                                       Запустить акцию, дающую скидку на товар в день рождения   \n",
       "3           Изменить структура категорий, что увеличит конверсию, т.к. пользователи быстрее найдут нужный товар   \n",
       "1                                     Запустить собственную службу доставки, что сократит срок доставки заказов   \n",
       "5                      Добавить страницу отзывов клиентов о магазине, что позволит увеличить количество заказов   \n",
       "4                              Изменить цвет фона главной страницы, чтобы увеличить вовлеченность пользователей   \n",
       "\n",
       "   Reach  Impact  Confidence  Efforts   ice   rice  \n",
       "7     10       7           8        5 11.20 112.00  \n",
       "2      8       3           7        3  7.00  56.00  \n",
       "0      3      10           8        6 13.33  40.00  \n",
       "6      5       3           8        3  8.00  40.00  \n",
       "8      1       9           9        5 16.20  16.20  \n",
       "3      8       3           3        8  1.12   9.00  \n",
       "1      2       5           4       10  2.00   4.00  \n",
       "5      3       2           2        3  1.33   4.00  \n",
       "4      3       1           1        1  1.00   3.00  "
      ]
     },
     "execution_count": 14,
     "metadata": {},
     "output_type": "execute_result"
    }
   ],
   "source": [
    "# отсортируем по убыванию метрики RICE\n",
    "hypothesis.sort_values(by='rice', ascending=False)"
   ]
  },
  {
   "cell_type": "markdown",
   "id": "762fc0f4",
   "metadata": {},
   "source": [
    "###### Выводы:\n",
    "- согласно метода ICE, наиболее важной гипотезой является гипотеза о необходимости запустить акцию, дающую скидку на товар в день рождения, однако, в связи с тем, что изменение затронет минимальное количество пользователей, по методике RICE данное нововведение занимает середину списка;\n",
    "- согласно методики RICE, гипотеза о добавлении формы подписки на все основные страницы, чтобы собрать базу клиентов для email-рассылок затрагивает всех пользователей сайта, поэтому оценка у данной гипотезы выше. Но и согласно методики ICE данное предположение находится в топ-3, значит стоит рассматривать её одной из первых;\n",
    "- так же в оба топ-3 вошла гипотеза о добавлении двух новых каналов привлечения трафика, что позволит привлекать на 30% больше пользователей, она затрагивает не так много пользователей, но вносит хороший impact при высокой уверенности в результате;\n",
    "- с учетом того, что 2 гипотезы вошли в топ-3 - следует остановится на них. Начать стоить с добавления каналов привлечения траффика, поскольку даст новых пользователей, при этом оставит старых без изменений, далее уже собирать базу клиентов для e-mail рассылки. "
   ]
  },
  {
   "cell_type": "markdown",
   "id": "f0977b71",
   "metadata": {},
   "source": [
    "## Проведение A/B - тестов"
   ]
  },
  {
   "cell_type": "markdown",
   "id": "e2e1ac19",
   "metadata": {},
   "source": [
    "Постройте график кумулятивной выручки по группам. Сделайте выводы и предположения."
   ]
  },
  {
   "cell_type": "code",
   "execution_count": 15,
   "id": "1d5d77cd",
   "metadata": {
    "scrolled": true
   },
   "outputs": [
    {
     "data": {
      "image/png": "[encoded data removed]",
      "text/plain": [
       "<Figure size 576x360 with 1 Axes>"
      ]
     },
     "metadata": {
      "needs_background": "light"
     },
     "output_type": "display_data"
    }
   ],
   "source": [
    "# создаем массив уникальных пар значений дат и групп теста\n",
    "datesGroups = orders[['date','group']].drop_duplicates()\n",
    "\n",
    "# получаем агрегированные кумулятивные по дням данные о заказах\n",
    "ordersAggregated = datesGroups.apply(\n",
    "    lambda x: orders[np.logical_and(\n",
    "        orders['date'] <= x['date'], orders['group'] == x['group'])].agg(\n",
    "        {'date' : 'max', 'group' : 'max', 'transactionId' : 'nunique', 'visitorId' : 'nunique', 'revenue' : 'sum'}),\n",
    "    axis=1).sort_values(by=['date','group'])\n",
    "\n",
    "# получаем агрегированные кумулятивные по дням данные о посетителях интернет-магазина\n",
    "visitorsAggregated = datesGroups.apply(\n",
    "    lambda x: visitors[np.logical_and(\n",
    "        visitors['date'] <= x['date'], visitors['group'] == x['group'])].agg(\n",
    "        {'date' : 'max', 'group' : 'max', 'visitors' : 'sum'}), \n",
    "    axis=1).sort_values(by=['date','group'])\n",
    "\n",
    "# объединяем кумулятивные данные в одной таблице и присваиваем ее столбцам понятные названия\n",
    "cumulativeData = ordersAggregated.merge(visitorsAggregated, left_on=['date', 'group'], right_on=['date', 'group'])\n",
    "cumulativeData.columns = ['date', 'group', 'orders', 'buyers', 'revenue', 'visitors']\n",
    "\n",
    "# датафрейм с кумулятивным количеством заказов и кумулятивной выручкой по дням в группе А\n",
    "cumulativeRevenueA = cumulativeData[cumulativeData['group']=='A'][['date','revenue', 'orders']]\n",
    "\n",
    "# датафрейм с кумулятивным количеством заказов и кумулятивной выручкой по дням в группе B\n",
    "cumulativeRevenueB = cumulativeData[cumulativeData['group']=='B'][['date','revenue', 'orders']]\n",
    "\n",
    "plt.subplots(figsize=(8, 5))\n",
    "\n",
    "# Строим график выручки группы А\n",
    "plt.plot(cumulativeRevenueA['date'], cumulativeRevenueA['revenue'], label='A')\n",
    "\n",
    "# Строим график выручки группы B\n",
    "plt.plot(cumulativeRevenueB['date'], cumulativeRevenueB['revenue'], label='B')\n",
    "\n",
    "plt.xticks(rotation=15)\n",
    "plt.title('Кумулятивная выручка по группам')\n",
    "plt.legend();"
   ]
  },
  {
   "cell_type": "markdown",
   "id": "ffc53e96",
   "metadata": {},
   "source": [
    "В среднем выручка в группе В больше, чем в группе А, однако в период 18.08-20.08 произошел резкий скачок выручки, что сильно искажает дальнейший прогноз и общие выводы. Это может быть связано с аномальными покупками единичных пользователей, необходимо оценить это в дальнейшем."
   ]
  },
  {
   "cell_type": "markdown",
   "id": "53db2ed0",
   "metadata": {},
   "source": [
    "<div class=\"alert alert-success\">\n",
    "  \n",
    "  <b>Комментарий ревьюера</b>\n",
    "    \n",
    "  ✔️ График построен верно и можем зафиксировать аномалию в группе В.\n",
    "</div>"
   ]
  },
  {
   "cell_type": "markdown",
   "id": "c9d2cb4b",
   "metadata": {},
   "source": [
    "---"
   ]
  },
  {
   "cell_type": "markdown",
   "id": "ee02203b",
   "metadata": {},
   "source": [
    "Постройте график кумулятивного среднего чека по группам. Сделайте выводы и предположения."
   ]
  },
  {
   "cell_type": "code",
   "execution_count": 16,
   "id": "49f1e730",
   "metadata": {
    "scrolled": true
   },
   "outputs": [
    {
     "data": {
      "image/png": "[encoded data removed]",
      "text/plain": [
       "<Figure size 576x360 with 1 Axes>"
      ]
     },
     "metadata": {
      "needs_background": "light"
     },
     "output_type": "display_data"
    }
   ],
   "source": [
    "#для построения графика среднего чека разделим выручку на количество заказов\n",
    "plt.subplots(figsize=(8, 5))\n",
    "plt.plot(cumulativeRevenueA['date'], cumulativeRevenueA['revenue']/cumulativeRevenueA['orders'], label='A')\n",
    "plt.plot(cumulativeRevenueB['date'], cumulativeRevenueB['revenue']/cumulativeRevenueB['orders'], label='B')\n",
    "plt.title('Кумулятивный средний чек по группам')\n",
    "plt.xticks(rotation=15)\n",
    "plt.legend();"
   ]
  },
  {
   "cell_type": "markdown",
   "id": "b8bba399",
   "metadata": {},
   "source": [
    "Средний чек в группе В так же больше, чем в группе А. Но так же резкий скачок в размере среднего чека в период 18.08-20.08  искажает дальнейший прогноз и общие выводы. Аномалия совпадает с графиком выручки, значит это связано с аномальными покупками единичных пользователей, а не резким увеличением количества покупателей."
   ]
  },
  {
   "cell_type": "markdown",
   "id": "154431b2",
   "metadata": {},
   "source": [
    "<div class=\"alert alert-success\">\n",
    "  \n",
    "  <b>Комментарий ревьюера</b>\n",
    "    \n",
    "  ✔️ Да, тут так-же группа В выделяется.\n",
    "</div>"
   ]
  },
  {
   "cell_type": "markdown",
   "id": "621fe146",
   "metadata": {},
   "source": [
    "---"
   ]
  },
  {
   "cell_type": "markdown",
   "id": "b1603b86",
   "metadata": {},
   "source": [
    "Постройте график относительного изменения кумулятивного среднего чека группы B к группе A. Сделайте выводы и предположения."
   ]
  },
  {
   "cell_type": "code",
   "execution_count": 17,
   "id": "58dd9021",
   "metadata": {
    "scrolled": false
   },
   "outputs": [
    {
     "data": {
      "image/png": "[encoded data removed]",
      "text/plain": [
       "<Figure size 576x360 with 1 Axes>"
      ]
     },
     "metadata": {
      "needs_background": "light"
     },
     "output_type": "display_data"
    }
   ],
   "source": [
    "# собираем данные в одном датафрейме\n",
    "mergedCumulativeRevenue = cumulativeRevenueA.merge(\n",
    "    cumulativeRevenueB, left_on='date', right_on='date', how='left', suffixes=['A', 'B'])\n",
    "\n",
    "# cтроим отношение средних чеков\n",
    "plt.subplots(figsize=(8,5))\n",
    "plt.plot(mergedCumulativeRevenue['date'],\n",
    "         (mergedCumulativeRevenue['revenueB']/mergedCumulativeRevenue['ordersB'])/\n",
    "         (mergedCumulativeRevenue['revenueA']/mergedCumulativeRevenue['ordersA'])-1)\n",
    "plt.axhline(y=0, color='grey', linestyle='--')\n",
    "plt.xticks(rotation=15)\n",
    "plt.title('Относительное изменение кумулятивного средниего чека по группам');\n"
   ]
  },
  {
   "cell_type": "markdown",
   "id": "365efbe4",
   "metadata": {},
   "source": [
    "Относительное изменение кумулятивного средниего чека по группам так же , как отметили по результату построения ранее, показывает средний чек в группе В в среднем больше, чем в группе А. Резкий скачок в размере среднего чека в период 18.08-20.08  искажает дальнейший прогноз и общие выводы. На данном графике так же выделяется резкое снижение изменения кумулятивного среднего чека 09.08, что тоже следует  учесть в будущем анализе."
   ]
  },
  {
   "cell_type": "markdown",
   "id": "2a8574e4",
   "metadata": {},
   "source": [
    "---"
   ]
  },
  {
   "cell_type": "markdown",
   "id": "3f497500",
   "metadata": {},
   "source": [
    "Постройте график кумулятивной конверсии по группам. Сделайте выводы и предположения."
   ]
  },
  {
   "cell_type": "code",
   "execution_count": 18,
   "id": "87b46bb9",
   "metadata": {
    "scrolled": false
   },
   "outputs": [
    {
     "data": {
      "text/plain": [
       "Text(0.5, 1.0, 'Кумулятивна конверсия по группам')"
      ]
     },
     "execution_count": 18,
     "metadata": {},
     "output_type": "execute_result"
    },
    {
     "data": {
      "image/png": "[encoded data removed]",
      "text/plain": [
       "<Figure size 576x360 with 1 Axes>"
      ]
     },
     "metadata": {
      "needs_background": "light"
     },
     "output_type": "display_data"
    }
   ],
   "source": [
    "# считаем кумулятивную конверсию\n",
    "cumulativeData['conversion'] = cumulativeData['orders']/cumulativeData['visitors']\n",
    "\n",
    "# отделяем данные по группе A\n",
    "cumulativeDataA = cumulativeData[cumulativeData['group']=='A']\n",
    "\n",
    "# отделяем данные по группе B\n",
    "cumulativeDataB = cumulativeData[cumulativeData['group']=='B']\n",
    "\n",
    "# строим графики\n",
    "plt.subplots(figsize=(8,5))\n",
    "plt.plot(cumulativeDataA['date'], cumulativeDataA['conversion'], label='A')\n",
    "plt.plot(cumulativeDataB['date'], cumulativeDataB['conversion'], label='B')\n",
    "plt.legend()\n",
    "plt.xticks(rotation=15)\n",
    "plt.title('Кумулятивна конверсия по группам')\n"
   ]
  },
  {
   "cell_type": "markdown",
   "id": "9147a0fc",
   "metadata": {},
   "source": [
    "---"
   ]
  },
  {
   "cell_type": "markdown",
   "id": "f1b4d2dd",
   "metadata": {},
   "source": [
    "Кумулятивная конверсия по группе В после первый пяти дней теста выше, чем в контрольной группе, динамика сохраняется достаточно равномерно на протяжении всего теста, нет явных вылетов и провалов."
   ]
  },
  {
   "cell_type": "markdown",
   "id": "8523a231",
   "metadata": {},
   "source": [
    "---"
   ]
  },
  {
   "cell_type": "markdown",
   "id": "5dacbef6",
   "metadata": {},
   "source": [
    "Постройте график относительного изменения кумулятивной конверсии группы B к группе A. Сделайте выводы и предположения."
   ]
  },
  {
   "cell_type": "code",
   "execution_count": 19,
   "id": "41e17454",
   "metadata": {
    "scrolled": false
   },
   "outputs": [
    {
     "data": {
      "text/plain": [
       "<matplotlib.lines.Line2D at 0x7fa019bf6730>"
      ]
     },
     "execution_count": 19,
     "metadata": {},
     "output_type": "execute_result"
    },
    {
     "data": {
      "image/png": "[encoded data removed]",
      "text/plain": [
       "<Figure size 576x360 with 1 Axes>"
      ]
     },
     "metadata": {
      "needs_background": "light"
     },
     "output_type": "display_data"
    }
   ],
   "source": [
    "mergedCumulativeConversions = (cumulativeDataA[['date','conversion']]\n",
    "                               .merge(cumulativeDataB[['date','conversion']],\n",
    "                                      left_on='date', right_on='date',\n",
    "                                      how='left', suffixes=['A', 'B']))\n",
    "plt.subplots(figsize=(8,5))\n",
    "plt.plot(mergedCumulativeConversions['date'], \n",
    "         mergedCumulativeConversions['conversionB']/mergedCumulativeConversions['conversionA']-1)\n",
    "#plt.legend()\n",
    "plt.title('Относительное изменение кумулятивной конверсии')\n",
    "plt.xticks(rotation=15)\n",
    "plt.axhline(y=0, color='grey', linestyle='--')\n"
   ]
  },
  {
   "cell_type": "markdown",
   "id": "0c309a2e",
   "metadata": {},
   "source": [
    "Согласно графика относительного изменения кумулятивной конверсии, по группе В после первый пяти дней теста конверсия выше на 20%, чем в контрольной группе, динамика сохраняется достаточно равномерно на протяжении всего теста, нет явных вылетов и провалов."
   ]
  },
  {
   "cell_type": "markdown",
   "id": "48e31bde",
   "metadata": {},
   "source": [
    "---"
   ]
  },
  {
   "cell_type": "markdown",
   "id": "50d78045",
   "metadata": {},
   "source": [
    "Постройте точечный график количества заказов по пользователям. Сделайте выводы и предположения."
   ]
  },
  {
   "cell_type": "code",
   "execution_count": 20,
   "id": "d0cf03ef",
   "metadata": {
    "scrolled": true
   },
   "outputs": [
    {
     "data": {
      "image/png": "[encoded data removed]",
      "text/plain": [
       "<Figure size 576x360 with 1 Axes>"
      ]
     },
     "metadata": {
      "needs_background": "light"
     },
     "output_type": "display_data"
    }
   ],
   "source": [
    "# подготовим таблицу для построения графика\n",
    "ordersByUsers = (\n",
    "    orders.groupby('visitorId', as_index=False)\n",
    "    .agg({'transactionId': 'nunique'})\n",
    ")\n",
    "\n",
    "ordersByUsers.columns = ['userId', 'orders']\n",
    "#построим график\n",
    "plt.subplots(figsize=(8,5))\n",
    "plt.scatter(pd.Series(range(0,len(ordersByUsers['orders']))),ordersByUsers['orders'])\n",
    "plt.title('Количество заказов по пользователям');"
   ]
  },
  {
   "cell_type": "markdown",
   "id": "bbb8bdfc",
   "metadata": {},
   "source": [
    "По графику отмечается единичные пользователи, делающие 2-3 заказа. Основной объем пользователей ограничивается 1 заказом."
   ]
  },
  {
   "cell_type": "markdown",
   "id": "1d8ab454",
   "metadata": {},
   "source": [
    "---"
   ]
  },
  {
   "cell_type": "markdown",
   "id": "035460ce",
   "metadata": {},
   "source": [
    "Посчитайте 95-й и 99-й перцентили количества заказов на пользователя. Выберите границу для определения аномальных пользователей."
   ]
  },
  {
   "cell_type": "code",
   "execution_count": 21,
   "id": "0b65e479",
   "metadata": {},
   "outputs": [
    {
     "data": {
      "text/plain": [
       "array([1., 1., 2.])"
      ]
     },
     "execution_count": 21,
     "metadata": {},
     "output_type": "execute_result"
    }
   ],
   "source": [
    "np.percentile(ordersByUsers['orders'], [90, 95, 99])"
   ]
  },
  {
   "cell_type": "markdown",
   "id": "ced77ddf",
   "metadata": {},
   "source": [
    "Как и отмечали по результату построений графиков, большинстов пользователей ограничивается 1 заказом. Поэтому за отсечку возьмем 95-й перцентиль, 2 и более заказов."
   ]
  },
  {
   "cell_type": "markdown",
   "id": "2feaf97b",
   "metadata": {},
   "source": [
    "---"
   ]
  },
  {
   "cell_type": "markdown",
   "id": "ebf9e5c9",
   "metadata": {},
   "source": [
    "Постройте точечный график стоимостей заказов. Сделайте выводы и предположения."
   ]
  },
  {
   "cell_type": "code",
   "execution_count": 22,
   "id": "c83c9e87",
   "metadata": {
    "scrolled": true
   },
   "outputs": [
    {
     "data": {
      "image/png": "[encoded data removed]",
      "text/plain": [
       "<Figure size 432x288 with 1 Axes>"
      ]
     },
     "metadata": {
      "needs_background": "light"
     },
     "output_type": "display_data"
    }
   ],
   "source": [
    "plt.scatter(pd.Series(range(0, len(orders['revenue']))),\n",
    "            orders['revenue'])\n",
    "plt.title('Точеченый график стоимости заказов');"
   ]
  },
  {
   "cell_type": "markdown",
   "id": "04dc206e",
   "metadata": {},
   "source": [
    "Основную неопределенность вносят 2 заказа стоимотсью 200тыс. - 1200тыс. На фоне 2-х заказов, все остальное похоже на шум."
   ]
  },
  {
   "cell_type": "markdown",
   "id": "c765e04b",
   "metadata": {},
   "source": [
    "---"
   ]
  },
  {
   "cell_type": "markdown",
   "id": "c2185ae4",
   "metadata": {},
   "source": [
    "Посчитайте 95-й и 99-й перцентили стоимости заказов. Выберите границу для определения аномальных заказов."
   ]
  },
  {
   "cell_type": "code",
   "execution_count": 23,
   "id": "5949a66e",
   "metadata": {
    "scrolled": false
   },
   "outputs": [
    {
     "data": {
      "text/plain": [
       "array([17990., 26785., 53904.])"
      ]
     },
     "execution_count": 23,
     "metadata": {},
     "output_type": "execute_result"
    }
   ],
   "source": [
    "np.percentile(orders['revenue'], [90, 95, 99])"
   ]
  },
  {
   "cell_type": "markdown",
   "id": "abaaeca4",
   "metadata": {},
   "source": [
    "Разница в стоимости между 95-м и 99-м перцентилями более чем в 2 раза, в связи с этим возьмем за отсечку заказы дороже 27тыс."
   ]
  },
  {
   "cell_type": "markdown",
   "id": "64f9beaa",
   "metadata": {},
   "source": [
    "---"
   ]
  },
  {
   "cell_type": "markdown",
   "id": "e8e46f53",
   "metadata": {},
   "source": [
    "Посчитайте статистическую значимость различий в конверсии между группами по «сырым» данным. Сделайте выводы и предположения.<br>\n",
    "Нулевая гипотеза - нет статистически значимых различий между конверсиями групп. Альтернативная гипотеза - конверсии различны."
   ]
  },
  {
   "cell_type": "code",
   "execution_count": 24,
   "id": "89247215",
   "metadata": {
    "scrolled": false
   },
   "outputs": [
    {
     "data": {
      "text/plain": [
       "'0.038'"
      ]
     },
     "execution_count": 24,
     "metadata": {},
     "output_type": "execute_result"
    }
   ],
   "source": [
    "'{0:.3f}'.format(st.mannwhitneyu((\n",
    "        orders[orders['group']=='A'].\n",
    "        groupby('date', as_index=False).agg({'visitorId':'nunique'})['visitorId'] /\n",
    "        visitors[visitors['group']=='A']['visitors']\n",
    "    ),(\n",
    "        orders[orders['group']=='B'].\n",
    "        groupby('date', as_index=False).agg({'visitorId':'nunique'})['visitorId'] /\n",
    "        visitors[visitors['group']=='B'].reset_index()['visitors']\n",
    "    ))[1])"
   ]
  },
  {
   "cell_type": "code",
   "execution_count": 25,
   "id": "a73861be",
   "metadata": {
    "scrolled": false
   },
   "outputs": [
    {
     "data": {
      "text/plain": [
       "'0.162'"
      ]
     },
     "execution_count": 25,
     "metadata": {},
     "output_type": "execute_result"
    }
   ],
   "source": [
    "#рассчитаем разницу между конверсиями\n",
    "'{0:.3f}'.format(1-(\n",
    "        orders[orders['group']=='A'].\n",
    "        groupby('date', as_index=False).agg({'visitorId':'nunique'})['visitorId'] /\n",
    "        visitors[visitors['group']=='A']['visitors']\n",
    "    ).mean()/(\n",
    "        orders[orders['group']=='B'].\n",
    "        groupby('date', as_index=False).agg({'visitorId':'nunique'})['visitorId'] /\n",
    "        visitors[visitors['group']=='B'].reset_index()['visitors']\n",
    "    ).mean())"
   ]
  },
  {
   "cell_type": "markdown",
   "id": "54cdd43e",
   "metadata": {},
   "source": [
    "p-value  меньше 0.05, значит отвергаем нулевую гипотезу. Конверсии между группами статистически различаются, конверсия проверяемой группы выше, чем у контрольной. Конверсия контрольной группы при этом выше на 16%."
   ]
  },
  {
   "cell_type": "markdown",
   "id": "8e79be1d",
   "metadata": {},
   "source": [
    "---"
   ]
  },
  {
   "cell_type": "markdown",
   "id": "c4a8a1f8",
   "metadata": {},
   "source": [
    "Посчитайте статистическую значимость различий в среднем чеке заказа между группами по «сырым» данным. Сделайте выводы и предположения.<br>\n",
    "Нулевая гипотеза - нет статистически значимых различий между средними чеками групп. Альтернативная гипотеза - средние чеки групп различны."
   ]
  },
  {
   "cell_type": "code",
   "execution_count": 26,
   "id": "a12fa930",
   "metadata": {
    "scrolled": true
   },
   "outputs": [
    {
     "data": {
      "text/plain": [
       "'0.829'"
      ]
     },
     "execution_count": 26,
     "metadata": {},
     "output_type": "execute_result"
    }
   ],
   "source": [
    "'{0:.3f}'.format(st.mannwhitneyu(orders[orders['group']=='A']['revenue'] \n",
    "    ,orders[orders['group']=='B']['revenue'])[1])"
   ]
  },
  {
   "cell_type": "code",
   "execution_count": 27,
   "id": "cf4af242",
   "metadata": {
    "scrolled": true
   },
   "outputs": [
    {
     "data": {
      "text/plain": [
       "'0.223'"
      ]
     },
     "execution_count": 27,
     "metadata": {},
     "output_type": "execute_result"
    }
   ],
   "source": [
    "#рассчитаем разницу между средними чеками\n",
    "'{0:.3f}'.format(1-(orders[orders['group']=='A']['revenue'].mean() \n",
    "    /orders[orders['group']=='B']['revenue'].mean()))"
   ]
  },
  {
   "cell_type": "markdown",
   "id": "7cf78d45",
   "metadata": {},
   "source": [
    "p-value значительно выше 0.05, значит отвергнуть нулевую гипотезу не можем. Средние чеки между группами не отличаются. <br>\n",
    "Но по рассчетам у группы В средний чек выше на 22%."
   ]
  },
  {
   "cell_type": "markdown",
   "id": "0e9bd957",
   "metadata": {},
   "source": [
    "---"
   ]
  },
  {
   "cell_type": "markdown",
   "id": "3b3ab536",
   "metadata": {},
   "source": [
    "Посчитайте статистическую значимость различий в конверсии между группами по «очищенным» данным. Сделайте выводы и предположения.<br>\n",
    "Нулевая гипотеза - нет статистически значимых различий между конверсиями групп. Альтернативная гипотеза - конверсии различны."
   ]
  },
  {
   "cell_type": "code",
   "execution_count": 28,
   "id": "b50fd167",
   "metadata": {},
   "outputs": [
    {
     "data": {
      "text/plain": [
       "568     113298937\n",
       "1099    148427295\n",
       "928     204675465\n",
       "55      249864742\n",
       "684     358944393\n",
       "dtype: int64"
      ]
     },
     "execution_count": 28,
     "metadata": {},
     "output_type": "execute_result"
    }
   ],
   "source": [
    "#предварительно создадим список пользователей не удовлетворяющих критериям отбора\n",
    "abnormalUsers = (pd.concat([\n",
    "    ordersByUsers[ordersByUsers['orders'] > 1]['userId'],\n",
    "    orders[orders['revenue'] > 26785]['visitorId']], axis=0)\n",
    "    .drop_duplicates()\n",
    "    .sort_values()\n",
    ")\n",
    "abnormalUsers.head(5)"
   ]
  },
  {
   "cell_type": "code",
   "execution_count": 29,
   "id": "d2dde6b6",
   "metadata": {
    "scrolled": false
   },
   "outputs": [
    {
     "data": {
      "text/plain": [
       "'0.043'"
      ]
     },
     "execution_count": 29,
     "metadata": {},
     "output_type": "execute_result"
    }
   ],
   "source": [
    "'{0:.3f}'.format(st.mannwhitneyu((\n",
    "        orders[(orders['group']=='A') & (np.logical_not(orders['visitorId'].isin(abnormalUsers)))].\n",
    "        groupby('date', as_index=False).agg({'visitorId':'nunique'})['visitorId'] /\n",
    "        visitors[visitors['group']=='A']['visitors']\n",
    "    ),(\n",
    "         orders[(orders['group']=='B') & (np.logical_not(orders['visitorId'].isin(abnormalUsers)))].\n",
    "        groupby('date', as_index=False).agg({'visitorId':'nunique'})['visitorId'] /\n",
    "        visitors[visitors['group']=='B'].reset_index()['visitors']\n",
    "    ))[1])"
   ]
  },
  {
   "cell_type": "code",
   "execution_count": 30,
   "id": "ca9b0bc3",
   "metadata": {},
   "outputs": [
    {
     "data": {
      "text/plain": [
       "'0.153'"
      ]
     },
     "execution_count": 30,
     "metadata": {},
     "output_type": "execute_result"
    }
   ],
   "source": [
    "#рассчитаем разницу между конверсиями\n",
    "'{0:.3f}'.format(1-(\n",
    "        orders[(orders['group']=='A') & (np.logical_not(orders['visitorId'].isin(abnormalUsers)))].\n",
    "        groupby('date', as_index=False).agg({'visitorId':'nunique'})['visitorId'] /\n",
    "        visitors[visitors['group']=='A']['visitors']\n",
    "    ).mean()/(\n",
    "         orders[(orders['group']=='B') & (np.logical_not(orders['visitorId'].isin(abnormalUsers)))].\n",
    "        groupby('date', as_index=False).agg({'visitorId':'nunique'})['visitorId'] /\n",
    "        visitors[visitors['group']=='B'].reset_index()['visitors']\n",
    "    ).mean())"
   ]
  },
  {
   "cell_type": "markdown",
   "id": "f12dd1f6",
   "metadata": {},
   "source": [
    "p-value стал еще меньше, все еще меньше 0.05, значит отвергаем нулевую гипотезу. Конверсии между группами статистически различаются, конверсия проверяемой группы выше, чем у контрольной. Разница между конверсиями почти не изменилась и все еще составляет внушительные 15%."
   ]
  },
  {
   "cell_type": "markdown",
   "id": "d8b66599",
   "metadata": {},
   "source": [
    "---"
   ]
  },
  {
   "cell_type": "markdown",
   "id": "ea15bd38",
   "metadata": {},
   "source": [
    "Посчитайте статистическую значимость различий в среднем чеке заказа между группами по «очищенным» данным. Сделайте выводы и предположения.<br>\n",
    "Нулевая гипотеза - нет статистически значимых различий между средними чеками групп. Альтернативная гипотеза - средние чеки групп различны."
   ]
  },
  {
   "cell_type": "code",
   "execution_count": 31,
   "id": "db69d62b",
   "metadata": {
    "scrolled": true
   },
   "outputs": [
    {
     "data": {
      "text/plain": [
       "'0.727'"
      ]
     },
     "execution_count": 31,
     "metadata": {},
     "output_type": "execute_result"
    }
   ],
   "source": [
    "'{0:.3f}'.format(st.mannwhitneyu(\n",
    "    orders[(orders['group']=='A') & (np.logical_not(orders['visitorId'].isin(abnormalUsers)))]['revenue'] \n",
    "    ,orders[(orders['group']=='B') & (np.logical_not(orders['visitorId'].isin(abnormalUsers)))]['revenue'])[1])"
   ]
  },
  {
   "cell_type": "code",
   "execution_count": 32,
   "id": "20219980",
   "metadata": {
    "scrolled": true
   },
   "outputs": [
    {
     "data": {
      "text/plain": [
       "'-0.035'"
      ]
     },
     "execution_count": 32,
     "metadata": {},
     "output_type": "execute_result"
    }
   ],
   "source": [
    "#рассчитаем разницу между средними чеками\n",
    "'{0:.3f}'.format(1-(\n",
    "    orders[(orders['group']=='A') & (np.logical_not(orders['visitorId'].isin(abnormalUsers)))]['revenue'].mean() \n",
    "    /orders[(orders['group']=='B') & (np.logical_not(orders['visitorId'].isin(abnormalUsers)))]['revenue'].mean()))"
   ]
  },
  {
   "cell_type": "markdown",
   "id": "7a760990",
   "metadata": {},
   "source": [
    "p-value стал еще больше, значительно выше 0.05, значит отвергнуть нулевую гипотезу не можем. Средние чеки между группами не отличаются.<br>\n",
    "Средний чек при этом стал ниже на 3%."
   ]
  },
  {
   "cell_type": "markdown",
   "id": "09806d3f",
   "metadata": {},
   "source": [
    "---"
   ]
  },
  {
   "cell_type": "markdown",
   "id": "a6d8a804",
   "metadata": {},
   "source": [
    "Примите решение по результатам теста и объясните его. Варианты решений: 1. Остановить тест, зафиксировать победу одной из групп. 2. Остановить тест, зафиксировать отсутствие различий между группами. 3. Продолжить тест."
   ]
  },
  {
   "cell_type": "markdown",
   "id": "e805dbf6",
   "metadata": {},
   "source": [
    "###### Выводы:\n",
    "- имеются статистически значимые различия между конверсиями групп;\n",
    "- отсутствуют статистически значимые различия между чеками групп;\n",
    "- график различия конверсий показывыает, что конверсии группы В значительно лучше конверсий группы А и нет никаких тенденций к изменению отношения данных показателей;\n",
    "- отсутствия в отличии между средними чеками говорит и в целом лучший график по категории В говорит нам, что мы, как минимум, не теряем в среднем чеке на 1 пользователя;\n",
    "- на основании вышесказанного можно принять, что конверсия группы В выше, средний чек не изменился, тест можно остановить."
   ]
  },
  {
   "cell_type": "markdown",
   "id": "086a07b1",
   "metadata": {},
   "source": [
    "## Общие выводы"
   ]
  },
  {
   "cell_type": "markdown",
   "id": "52513255",
   "metadata": {},
   "source": [
    "- загружены библиотеки необходимые для работы и предоставленные для анализа датасеты;\n",
    "- просмотрено и изучено содержимое датасетов;\n",
    "- изменен формат колонок с датами, приведены к формату datetime;\n",
    "- даты очищены от дубликатов;\n",
    "- согласно метода ICE, наиболее важной гипотезой является гипотеза о необходимости запустить акцию, дающую скидку на товар в день рождения, однако, в связи с тем, что изменение затронет минимальное количество пользователей, по методике RICE данное нововведение занимает середину списка;\n",
    "- согласно методики RICE, гипотеза о добавлении формы подписки на все основные страницы, чтобы собрать базу клиентов для email-рассылок затрагивает всех пользователей сайта, поэтому оценка у данной гипотезы выше. Но и согласно методики ICE данное предположение находится в топ-3, значит стоит рассматривать её одной из первых;\n",
    "- так же в оба топ-3 вошла гипотеза о добавлении двух новых каналов привлечения трафика, что позволит привлекать на 30% больше пользователей, она затрагивает не так много пользователей, но вносит хороший impact при высокой уверенности в результате;\n",
    "- с учетом того, что 2 гипотезы вошли в топ-3 - следует остановится на них. Начать стоить с добавления каналов привлечения траффика, поскольку даст новых пользователей, при этом оставит старых без изменений, далее уже собирать базу клиентов для e-mail рассылки;\n",
    "- имеются статистически значимые различия между конверсиями групп;\n",
    "- отсутствуют статистически значимые различия между чеками групп;\n",
    "- график различия конверсий показывыает, что конверсии группы В значительно лучше конверсий группы А и нет никаких тенденций к изменению отношения данных показателей;\n",
    "- отсутствия в отличии между средними чеками говорит и в целом лучший график по категории В говорит нам, что мы, как минимум, не теряем в среднем чеке на 1 пользователя;\n",
    "- на основании вышесказанного можно принять, что конверсия группы В выше, средний чек не изменился, тест можно остановить;\n",
    "- с учетом того, что мы сохранили средний чек, при этом улучшили конверсию почти на 10% необходимо раскатывать изменения на всех пользователей."
   ]
  }
 ],
 "metadata": {
  "ExecuteTimeLog": [
   {
    "duration": 2029,
    "start_time": "2022-05-12T10:31:37.906Z"
   },
   {
    "duration": 7,
    "start_time": "2022-05-12T10:31:39.939Z"
   },
   {
    "duration": 99,
    "start_time": "2022-05-12T10:31:39.948Z"
   },
   {
    "duration": 43,
    "start_time": "2022-05-12T10:31:40.050Z"
   },
   {
    "duration": 34,
    "start_time": "2022-05-12T10:31:40.098Z"
   },
   {
    "duration": 53,
    "start_time": "2022-05-12T10:31:40.135Z"
   },
   {
    "duration": 37,
    "start_time": "2022-05-12T10:31:40.191Z"
   },
   {
    "duration": 73,
    "start_time": "2022-05-12T10:31:40.231Z"
   },
   {
    "duration": 29,
    "start_time": "2022-05-12T10:31:40.310Z"
   },
   {
    "duration": 61,
    "start_time": "2022-05-12T10:31:40.341Z"
   },
   {
    "duration": 15,
    "start_time": "2022-05-12T10:31:40.406Z"
   },
   {
    "duration": 21,
    "start_time": "2022-05-12T10:31:40.424Z"
   },
   {
    "duration": 41,
    "start_time": "2022-05-12T10:31:40.447Z"
   },
   {
    "duration": 21,
    "start_time": "2022-05-12T10:31:40.495Z"
   },
   {
    "duration": 1333,
    "start_time": "2022-05-12T10:31:40.519Z"
   },
   {
    "duration": 488,
    "start_time": "2022-05-12T10:31:41.855Z"
   },
   {
    "duration": 786,
    "start_time": "2022-05-12T10:31:42.346Z"
   },
   {
    "duration": 0,
    "start_time": "2022-05-12T10:31:43.136Z"
   },
   {
    "duration": 0,
    "start_time": "2022-05-12T10:31:43.139Z"
   },
   {
    "duration": 0,
    "start_time": "2022-05-12T10:31:43.140Z"
   },
   {
    "duration": 0,
    "start_time": "2022-05-12T10:31:43.142Z"
   },
   {
    "duration": 0,
    "start_time": "2022-05-12T10:31:43.145Z"
   },
   {
    "duration": 0,
    "start_time": "2022-05-12T10:31:43.147Z"
   },
   {
    "duration": 0,
    "start_time": "2022-05-12T10:31:43.149Z"
   },
   {
    "duration": 0,
    "start_time": "2022-05-12T10:31:43.186Z"
   },
   {
    "duration": 0,
    "start_time": "2022-05-12T10:31:43.188Z"
   },
   {
    "duration": 0,
    "start_time": "2022-05-12T10:31:43.190Z"
   },
   {
    "duration": 0,
    "start_time": "2022-05-12T10:31:43.195Z"
   },
   {
    "duration": 0,
    "start_time": "2022-05-12T10:31:43.197Z"
   },
   {
    "duration": 0,
    "start_time": "2022-05-12T10:31:43.199Z"
   },
   {
    "duration": 0,
    "start_time": "2022-05-12T10:31:43.201Z"
   },
   {
    "duration": 0,
    "start_time": "2022-05-12T10:31:43.203Z"
   },
   {
    "duration": 386,
    "start_time": "2022-05-12T10:34:29.998Z"
   },
   {
    "duration": 1567,
    "start_time": "2022-05-12T10:34:45.766Z"
   },
   {
    "duration": 4,
    "start_time": "2022-05-12T10:34:47.336Z"
   },
   {
    "duration": 144,
    "start_time": "2022-05-12T10:34:47.342Z"
   },
   {
    "duration": 35,
    "start_time": "2022-05-12T10:34:47.489Z"
   },
   {
    "duration": 29,
    "start_time": "2022-05-12T10:34:47.526Z"
   },
   {
    "duration": 42,
    "start_time": "2022-05-12T10:34:47.558Z"
   },
   {
    "duration": 28,
    "start_time": "2022-05-12T10:34:47.602Z"
   },
   {
    "duration": 33,
    "start_time": "2022-05-12T10:34:47.633Z"
   },
   {
    "duration": 31,
    "start_time": "2022-05-12T10:34:47.669Z"
   },
   {
    "duration": 23,
    "start_time": "2022-05-12T10:34:47.704Z"
   },
   {
    "duration": 11,
    "start_time": "2022-05-12T10:34:47.730Z"
   },
   {
    "duration": 46,
    "start_time": "2022-05-12T10:34:47.743Z"
   },
   {
    "duration": 14,
    "start_time": "2022-05-12T10:34:47.792Z"
   },
   {
    "duration": 15,
    "start_time": "2022-05-12T10:34:47.809Z"
   },
   {
    "duration": 1413,
    "start_time": "2022-05-12T10:34:47.827Z"
   },
   {
    "duration": 316,
    "start_time": "2022-05-12T10:34:49.243Z"
   },
   {
    "duration": 368,
    "start_time": "2022-05-12T10:34:49.562Z"
   },
   {
    "duration": 482,
    "start_time": "2022-05-12T10:34:49.933Z"
   },
   {
    "duration": 0,
    "start_time": "2022-05-12T10:34:50.418Z"
   },
   {
    "duration": 0,
    "start_time": "2022-05-12T10:34:50.419Z"
   },
   {
    "duration": 0,
    "start_time": "2022-05-12T10:34:50.420Z"
   },
   {
    "duration": 0,
    "start_time": "2022-05-12T10:34:50.423Z"
   },
   {
    "duration": 0,
    "start_time": "2022-05-12T10:34:50.425Z"
   },
   {
    "duration": 0,
    "start_time": "2022-05-12T10:34:50.427Z"
   },
   {
    "duration": 0,
    "start_time": "2022-05-12T10:34:50.429Z"
   },
   {
    "duration": 0,
    "start_time": "2022-05-12T10:34:50.431Z"
   },
   {
    "duration": 0,
    "start_time": "2022-05-12T10:34:50.434Z"
   },
   {
    "duration": 0,
    "start_time": "2022-05-12T10:34:50.436Z"
   },
   {
    "duration": 0,
    "start_time": "2022-05-12T10:34:50.438Z"
   },
   {
    "duration": 1,
    "start_time": "2022-05-12T10:34:50.439Z"
   },
   {
    "duration": 0,
    "start_time": "2022-05-12T10:34:50.442Z"
   },
   {
    "duration": 0,
    "start_time": "2022-05-12T10:34:50.482Z"
   },
   {
    "duration": 340,
    "start_time": "2022-05-12T10:34:58.667Z"
   },
   {
    "duration": 395,
    "start_time": "2022-05-12T10:35:05.275Z"
   },
   {
    "duration": 359,
    "start_time": "2022-05-12T10:35:10.828Z"
   },
   {
    "duration": 1981,
    "start_time": "2022-05-12T10:35:18.154Z"
   },
   {
    "duration": 9,
    "start_time": "2022-05-12T10:35:20.138Z"
   },
   {
    "duration": 120,
    "start_time": "2022-05-12T10:35:20.151Z"
   },
   {
    "duration": 32,
    "start_time": "2022-05-12T10:35:20.275Z"
   },
   {
    "duration": 29,
    "start_time": "2022-05-12T10:35:20.311Z"
   },
   {
    "duration": 61,
    "start_time": "2022-05-12T10:35:20.343Z"
   },
   {
    "duration": 56,
    "start_time": "2022-05-12T10:35:20.408Z"
   },
   {
    "duration": 57,
    "start_time": "2022-05-12T10:35:20.467Z"
   },
   {
    "duration": 24,
    "start_time": "2022-05-12T10:35:20.526Z"
   },
   {
    "duration": 45,
    "start_time": "2022-05-12T10:35:20.555Z"
   },
   {
    "duration": 20,
    "start_time": "2022-05-12T10:35:20.603Z"
   },
   {
    "duration": 16,
    "start_time": "2022-05-12T10:35:20.626Z"
   },
   {
    "duration": 48,
    "start_time": "2022-05-12T10:35:20.645Z"
   },
   {
    "duration": 23,
    "start_time": "2022-05-12T10:35:20.698Z"
   },
   {
    "duration": 1433,
    "start_time": "2022-05-12T10:35:20.724Z"
   },
   {
    "duration": 458,
    "start_time": "2022-05-12T10:35:22.160Z"
   },
   {
    "duration": 510,
    "start_time": "2022-05-12T10:35:22.621Z"
   },
   {
    "duration": 487,
    "start_time": "2022-05-12T10:35:23.134Z"
   },
   {
    "duration": 441,
    "start_time": "2022-05-12T10:35:23.624Z"
   },
   {
    "duration": 365,
    "start_time": "2022-05-12T10:35:24.068Z"
   },
   {
    "duration": 8,
    "start_time": "2022-05-12T10:35:24.436Z"
   },
   {
    "duration": 306,
    "start_time": "2022-05-12T10:35:24.447Z"
   },
   {
    "duration": 9,
    "start_time": "2022-05-12T10:35:24.755Z"
   },
   {
    "duration": 31,
    "start_time": "2022-05-12T10:35:24.783Z"
   },
   {
    "duration": 35,
    "start_time": "2022-05-12T10:35:24.816Z"
   },
   {
    "duration": 15,
    "start_time": "2022-05-12T10:35:24.883Z"
   },
   {
    "duration": 13,
    "start_time": "2022-05-12T10:35:24.901Z"
   },
   {
    "duration": 14,
    "start_time": "2022-05-12T10:35:24.921Z"
   },
   {
    "duration": 83,
    "start_time": "2022-05-12T10:35:24.938Z"
   },
   {
    "duration": 58,
    "start_time": "2022-05-12T10:35:25.025Z"
   },
   {
    "duration": 19,
    "start_time": "2022-05-12T10:35:25.086Z"
   },
   {
    "duration": 15,
    "start_time": "2022-05-12T10:35:25.108Z"
   }
  ],
  "kernelspec": {
   "display_name": "Python 3 (ipykernel)",
   "language": "python",
   "name": "python3"
  },
  "language_info": {
   "codemirror_mode": {
    "name": "ipython",
    "version": 3
   },
   "file_extension": ".py",
   "mimetype": "text/x-python",
   "name": "python",
   "nbconvert_exporter": "python",
   "pygments_lexer": "ipython3",
   "version": "3.7.8"
  },
  "toc": {
   "base_numbering": 1,
   "nav_menu": {},
   "number_sections": true,
   "sideBar": true,
   "skip_h1_title": true,
   "title_cell": "Table of Contents",
   "title_sidebar": "Contents",
   "toc_cell": true,
   "toc_position": {
    "height": "calc(100% - 180px)",
    "left": "10px",
    "top": "150px",
    "width": "165px"
   },
   "toc_section_display": true,
   "toc_window_display": true
  }
 },
 "nbformat": 4,
 "nbformat_minor": 5
}
