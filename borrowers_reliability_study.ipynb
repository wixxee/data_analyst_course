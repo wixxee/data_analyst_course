{
 "cells": [
  {
   "cell_type": "markdown",
   "id": "e66616b1",
   "metadata": {},
   "source": [
    "# Исследование надежности заемщиков."
   ]
  },
  {
   "cell_type": "markdown",
   "id": "8f55b55a",
   "metadata": {},
   "source": [
    "#### Описание проекта\n",
    "Заказчик — кредитный отдел банка. Нужно разобраться, влияет ли семейное положение и количество детей клиента на факт погашения кредита в срок. Входные данные от банка — статистика о платёжеспособности клиентов.<br>\n",
    "Результаты исследования будут учтены при построении модели кредитного скоринга — специальной системы, которая оценивает способность потенциального заёмщика вернуть кредит банку.<br>"
   ]
  },
  {
   "cell_type": "markdown",
   "id": "06c796bb",
   "metadata": {},
   "source": [
    "### Шаг 1. Обзор данных"
   ]
  },
  {
   "cell_type": "markdown",
   "id": "cdd640f4",
   "metadata": {},
   "source": [
    "**Описание данных:**\n",
    "- `children` — количество детей в семье \n",
    "- `days_employed` — общий трудовой стаж в днях\n",
    "- `dob_years` — возраст клиента в годах\n",
    "- `education` — уровень образования клиента\n",
    "- `education_id` — идентификатор уровня образования\n",
    "- `family_status` — семейное положение\n",
    "- `family_status_id` — идентификатор семейного положения\n",
    "- `gender` — пол клиента\n",
    "- `income_type` — тип занятости\n",
    "- `debt` — имел ли задолженность по возврату кредитов\n",
    "- `total_income` — ежемесячный доход\n",
    "- `purpose` — цель получения кредита"
   ]
  },
  {
   "cell_type": "code",
   "execution_count": 1,
   "id": "9f765fb8",
   "metadata": {},
   "outputs": [
    {
     "data": {
      "text/html": [
       "<div>\n",
       "<style scoped>\n",
       "    .dataframe tbody tr th:only-of-type {\n",
       "        vertical-align: middle;\n",
       "    }\n",
       "\n",
       "    .dataframe tbody tr th {\n",
       "        vertical-align: top;\n",
       "    }\n",
       "\n",
       "    .dataframe thead th {\n",
       "        text-align: right;\n",
       "    }\n",
       "</style>\n",
       "<table border=\"1\" class=\"dataframe\">\n",
       "  <thead>\n",
       "    <tr style=\"text-align: right;\">\n",
       "      <th></th>\n",
       "      <th>children</th>\n",
       "      <th>days_employed</th>\n",
       "      <th>dob_years</th>\n",
       "      <th>education</th>\n",
       "      <th>education_id</th>\n",
       "      <th>family_status</th>\n",
       "      <th>family_status_id</th>\n",
       "      <th>gender</th>\n",
       "      <th>income_type</th>\n",
       "      <th>debt</th>\n",
       "      <th>total_income</th>\n",
       "      <th>purpose</th>\n",
       "    </tr>\n",
       "  </thead>\n",
       "  <tbody>\n",
       "    <tr>\n",
       "      <td>0</td>\n",
       "      <td>1</td>\n",
       "      <td>-8437.673028</td>\n",
       "      <td>42</td>\n",
       "      <td>высшее</td>\n",
       "      <td>0</td>\n",
       "      <td>женат / замужем</td>\n",
       "      <td>0</td>\n",
       "      <td>F</td>\n",
       "      <td>сотрудник</td>\n",
       "      <td>0</td>\n",
       "      <td>253875.639453</td>\n",
       "      <td>покупка жилья</td>\n",
       "    </tr>\n",
       "    <tr>\n",
       "      <td>1</td>\n",
       "      <td>1</td>\n",
       "      <td>-4024.803754</td>\n",
       "      <td>36</td>\n",
       "      <td>среднее</td>\n",
       "      <td>1</td>\n",
       "      <td>женат / замужем</td>\n",
       "      <td>0</td>\n",
       "      <td>F</td>\n",
       "      <td>сотрудник</td>\n",
       "      <td>0</td>\n",
       "      <td>112080.014102</td>\n",
       "      <td>приобретение автомобиля</td>\n",
       "    </tr>\n",
       "    <tr>\n",
       "      <td>2</td>\n",
       "      <td>0</td>\n",
       "      <td>-5623.422610</td>\n",
       "      <td>33</td>\n",
       "      <td>Среднее</td>\n",
       "      <td>1</td>\n",
       "      <td>женат / замужем</td>\n",
       "      <td>0</td>\n",
       "      <td>M</td>\n",
       "      <td>сотрудник</td>\n",
       "      <td>0</td>\n",
       "      <td>145885.952297</td>\n",
       "      <td>покупка жилья</td>\n",
       "    </tr>\n",
       "    <tr>\n",
       "      <td>3</td>\n",
       "      <td>3</td>\n",
       "      <td>-4124.747207</td>\n",
       "      <td>32</td>\n",
       "      <td>среднее</td>\n",
       "      <td>1</td>\n",
       "      <td>женат / замужем</td>\n",
       "      <td>0</td>\n",
       "      <td>M</td>\n",
       "      <td>сотрудник</td>\n",
       "      <td>0</td>\n",
       "      <td>267628.550329</td>\n",
       "      <td>дополнительное образование</td>\n",
       "    </tr>\n",
       "    <tr>\n",
       "      <td>4</td>\n",
       "      <td>0</td>\n",
       "      <td>340266.072047</td>\n",
       "      <td>53</td>\n",
       "      <td>среднее</td>\n",
       "      <td>1</td>\n",
       "      <td>гражданский брак</td>\n",
       "      <td>1</td>\n",
       "      <td>F</td>\n",
       "      <td>пенсионер</td>\n",
       "      <td>0</td>\n",
       "      <td>158616.077870</td>\n",
       "      <td>сыграть свадьбу</td>\n",
       "    </tr>\n",
       "  </tbody>\n",
       "</table>\n",
       "</div>"
      ],
      "text/plain": [
       "   children  days_employed  dob_years education  education_id  \\\n",
       "0         1   -8437.673028         42    высшее             0   \n",
       "1         1   -4024.803754         36   среднее             1   \n",
       "2         0   -5623.422610         33   Среднее             1   \n",
       "3         3   -4124.747207         32   среднее             1   \n",
       "4         0  340266.072047         53   среднее             1   \n",
       "\n",
       "      family_status  family_status_id gender income_type  debt   total_income  \\\n",
       "0   женат / замужем                 0      F   сотрудник     0  253875.639453   \n",
       "1   женат / замужем                 0      F   сотрудник     0  112080.014102   \n",
       "2   женат / замужем                 0      M   сотрудник     0  145885.952297   \n",
       "3   женат / замужем                 0      M   сотрудник     0  267628.550329   \n",
       "4  гражданский брак                 1      F   пенсионер     0  158616.077870   \n",
       "\n",
       "                      purpose  \n",
       "0               покупка жилья  \n",
       "1     приобретение автомобиля  \n",
       "2               покупка жилья  \n",
       "3  дополнительное образование  \n",
       "4             сыграть свадьбу  "
      ]
     },
     "execution_count": 1,
     "metadata": {},
     "output_type": "execute_result"
    }
   ],
   "source": [
    "import pandas as pd\n",
    "try:\n",
    "    df = pd.read_csv('/datasets/data.csv')\n",
    "except:\n",
    "    df = pd.read_csv('data.csv')\n",
    "df.head() #добавлено для корректного вывода"
   ]
  },
  {
   "cell_type": "code",
   "execution_count": 2,
   "id": "fb593189",
   "metadata": {
    "scrolled": false
   },
   "outputs": [
    {
     "name": "stdout",
     "output_type": "stream",
     "text": [
      "<class 'pandas.core.frame.DataFrame'>\n",
      "RangeIndex: 21525 entries, 0 to 21524\n",
      "Data columns (total 12 columns):\n",
      "children            21525 non-null int64\n",
      "days_employed       19351 non-null float64\n",
      "dob_years           21525 non-null int64\n",
      "education           21525 non-null object\n",
      "education_id        21525 non-null int64\n",
      "family_status       21525 non-null object\n",
      "family_status_id    21525 non-null int64\n",
      "gender              21525 non-null object\n",
      "income_type         21525 non-null object\n",
      "debt                21525 non-null int64\n",
      "total_income        19351 non-null float64\n",
      "purpose             21525 non-null object\n",
      "dtypes: float64(2), int64(5), object(5)\n",
      "memory usage: 2.0+ MB\n"
     ]
    }
   ],
   "source": [
    "df.info() # получение информации о таблице"
   ]
  },
  {
   "cell_type": "code",
   "execution_count": 3,
   "id": "972a3de3",
   "metadata": {
    "scrolled": false
   },
   "outputs": [
    {
     "data": {
      "text/plain": [
       " 0     14149\n",
       " 1      4818\n",
       " 2      2055\n",
       " 3       330\n",
       " 20       76\n",
       "-1        47\n",
       " 4        41\n",
       " 5         9\n",
       "Name: children, dtype: int64"
      ]
     },
     "execution_count": 3,
     "metadata": {},
     "output_type": "execute_result"
    }
   ],
   "source": [
    "df['children'].value_counts()"
   ]
  },
  {
   "cell_type": "code",
   "execution_count": 4,
   "id": "a4d2d9b8",
   "metadata": {},
   "outputs": [
    {
     "data": {
      "text/plain": [
       "-18388.949900568383"
      ]
     },
     "execution_count": 4,
     "metadata": {},
     "output_type": "execute_result"
    }
   ],
   "source": [
    "df['days_employed'].min()"
   ]
  },
  {
   "cell_type": "markdown",
   "id": "92a5c411",
   "metadata": {},
   "source": [
    "Столбцы `days_employed` и `total_income` имеют пропуски, количество строк с пропусками 2174, около 10% всей выборки.<br>\n",
    "Имеются отрицательные значение общего трудового стажа в днях и количества детей.<br>\n",
    "Так же имеются семьи с 20 детьми, при отсутствуют семьи с детьми больше 5 и меньше 20, значит это тоже ошибка."
   ]
  },
  {
   "cell_type": "markdown",
   "id": "4f0c0d6a",
   "metadata": {},
   "source": [
    "### Шаг 2.1 Проверка данных на аномалии и исправления. "
   ]
  },
  {
   "cell_type": "code",
   "execution_count": 5,
   "id": "81c23880",
   "metadata": {
    "scrolled": false
   },
   "outputs": [
    {
     "data": {
      "text/plain": [
       "15906"
      ]
     },
     "metadata": {},
     "output_type": "display_data"
    },
    {
     "data": {
      "text/plain": [
       "purpose\n",
       "автомобили                                340\n",
       "автомобиль                                363\n",
       "высшее образование                        342\n",
       "дополнительное образование                332\n",
       "жилье                                     485\n",
       "заняться высшим образованием              364\n",
       "заняться образованием                     298\n",
       "на покупку автомобиля                     357\n",
       "на покупку подержанного автомобиля        353\n",
       "на покупку своего автомобиля              382\n",
       "на проведение свадьбы                     559\n",
       "недвижимость                              480\n",
       "образование                               331\n",
       "операции с жильем                         483\n",
       "операции с коммерческой недвижимостью     474\n",
       "операции с недвижимостью                  502\n",
       "операции со своей недвижимостью           462\n",
       "покупка жилой недвижимости                461\n",
       "покупка жилья                             483\n",
       "покупка жилья для сдачи                   486\n",
       "покупка жилья для семьи                   463\n",
       "покупка коммерческой недвижимости         492\n",
       "покупка недвижимости                      451\n",
       "покупка своего жилья                      492\n",
       "получение высшего образования             323\n",
       "получение дополнительного образования     316\n",
       "получение образования                     318\n",
       "приобретение автомобиля                   342\n",
       "профильное образование                    319\n",
       "ремонт жилью                              451\n",
       "свадьба                                   600\n",
       "свой автомобиль                           354\n",
       "сделка с автомобилем                      335\n",
       "сделка с подержанным автомобилем          356\n",
       "строительство жилой недвижимости          468\n",
       "строительство недвижимости                465\n",
       "строительство собственной недвижимости    458\n",
       "сыграть свадьбу                           566\n",
       "Name: gender, dtype: int64"
      ]
     },
     "execution_count": 5,
     "metadata": {},
     "output_type": "execute_result"
    }
   ],
   "source": [
    "#подсчет количества ячеек с отрицательными значениями трудового стажа\n",
    "display(df[df['days_employed'] < 0]['gender'].count())\n",
    "#проверка зависимости наличия отриццательных значений общего трудового стажа от цели кредита\n",
    "df[df['days_employed'] < 0].groupby('purpose')['gender'].count()"
   ]
  },
  {
   "cell_type": "markdown",
   "id": "c6a19884",
   "metadata": {},
   "source": [
    "Отрицательных значений трудового стажа 15906, более половины всех записей.<br>\n",
    "\n",
    "Отрицательные значения в трудовом стаже не зависят от цели получения кредита.<br>\n",
    "\n",
    "С учетом отсутсвия связи между отрицательными значениями трудового стажа и целей кредита, куда не входят цели условного выживания от потери работы, принимаем **причиной данных значений ошибку в <u>заполнении данных</u>.**<br>\n",
    "\n",
    "Для корректного заполнения пропусков в таблице исправим данную ошибку."
   ]
  },
  {
   "cell_type": "code",
   "execution_count": 6,
   "id": "884c2507",
   "metadata": {},
   "outputs": [
    {
     "data": {
      "text/plain": [
       "24.14163324048118"
      ]
     },
     "execution_count": 6,
     "metadata": {},
     "output_type": "execute_result"
    }
   ],
   "source": [
    "#заменим отрицательные значения в столбце с трудовым стажем\n",
    "df['days_employed'] = df['days_employed'].abs()\n",
    "df['days_employed'].min()"
   ]
  },
  {
   "cell_type": "markdown",
   "id": "66f9e342",
   "metadata": {},
   "source": [
    "Количество детей отрицательным быть не может, похоже на техническую ошибку, необходимо скорректировать данные."
   ]
  },
  {
   "cell_type": "code",
   "execution_count": 7,
   "id": "426242db",
   "metadata": {},
   "outputs": [
    {
     "data": {
      "text/plain": [
       "0"
      ]
     },
     "execution_count": 7,
     "metadata": {},
     "output_type": "execute_result"
    }
   ],
   "source": [
    "#замена отрицательных значений в столбце с количеством детей\n",
    "df['children'] = df['children'].abs()\n",
    "df['children'].min()"
   ]
  },
  {
   "cell_type": "markdown",
   "id": "895a1fa0",
   "metadata": {},
   "source": [
    "Как выяснили ранее, 20 детей тоже ошибка, в связи с этим исправим данную ошибку в датафрейме."
   ]
  },
  {
   "cell_type": "code",
   "execution_count": 8,
   "id": "4f2a1fee",
   "metadata": {},
   "outputs": [
    {
     "data": {
      "text/plain": [
       "5"
      ]
     },
     "execution_count": 8,
     "metadata": {},
     "output_type": "execute_result"
    }
   ],
   "source": [
    "#заменим количество детей 20 на 2\n",
    "df['children'] = df['children'].replace(20, 2)\n",
    "df['children'].max()"
   ]
  },
  {
   "cell_type": "code",
   "execution_count": 9,
   "id": "1e6c996d",
   "metadata": {
    "scrolled": true
   },
   "outputs": [
    {
     "data": {
      "text/plain": [
       "35    617\n",
       "40    609\n",
       "41    607\n",
       "34    603\n",
       "38    598\n",
       "42    597\n",
       "33    581\n",
       "39    573\n",
       "31    560\n",
       "36    555\n",
       "44    547\n",
       "29    545\n",
       "30    540\n",
       "48    538\n",
       "37    537\n",
       "50    514\n",
       "43    513\n",
       "32    510\n",
       "49    508\n",
       "28    503\n",
       "45    497\n",
       "27    493\n",
       "56    487\n",
       "52    484\n",
       "47    480\n",
       "54    479\n",
       "46    475\n",
       "58    461\n",
       "57    460\n",
       "53    459\n",
       "51    448\n",
       "59    444\n",
       "55    443\n",
       "26    408\n",
       "60    377\n",
       "25    357\n",
       "61    355\n",
       "62    352\n",
       "63    269\n",
       "64    265\n",
       "24    264\n",
       "23    254\n",
       "65    194\n",
       "66    183\n",
       "22    183\n",
       "67    167\n",
       "21    111\n",
       "0     101\n",
       "68     99\n",
       "69     85\n",
       "70     65\n",
       "71     58\n",
       "20     51\n",
       "72     33\n",
       "19     14\n",
       "73      8\n",
       "74      6\n",
       "75      1\n",
       "Name: dob_years, dtype: int64"
      ]
     },
     "execution_count": 9,
     "metadata": {},
     "output_type": "execute_result"
    }
   ],
   "source": [
    "df['dob_years'].value_counts()"
   ]
  },
  {
   "cell_type": "code",
   "execution_count": 10,
   "id": "1be71832",
   "metadata": {},
   "outputs": [
    {
     "data": {
      "text/plain": [
       "F      14236\n",
       "M       7288\n",
       "XNA        1\n",
       "Name: gender, dtype: int64"
      ]
     },
     "execution_count": 10,
     "metadata": {},
     "output_type": "execute_result"
    }
   ],
   "source": [
    "df['gender'].value_counts()"
   ]
  },
  {
   "cell_type": "markdown",
   "id": "107e3766",
   "metadata": {},
   "source": [
    "В датасете так же есть ошибка в стобце возраст, равный нулю, и неопределенность в столбце пол = XNA."
   ]
  },
  {
   "cell_type": "code",
   "execution_count": 11,
   "id": "8ecbe9c1",
   "metadata": {},
   "outputs": [
    {
     "data": {
      "text/plain": [
       "12.574583857924386"
      ]
     },
     "execution_count": 11,
     "metadata": {},
     "output_type": "execute_result"
    }
   ],
   "source": [
    "df['dob_years'].std() #вычислим стандартное отклонение для столбца возраст"
   ]
  },
  {
   "cell_type": "markdown",
   "id": "f41c89c6",
   "metadata": {},
   "source": [
    "Среднеквадратичное отклонение равно 12, данные по возврасту можно заменить средними значениями."
   ]
  },
  {
   "cell_type": "code",
   "execution_count": 12,
   "id": "7f85c8c5",
   "metadata": {
    "scrolled": false
   },
   "outputs": [
    {
     "data": {
      "text/plain": [
       "35    617\n",
       "43    614\n",
       "40    609\n",
       "41    607\n",
       "34    603\n",
       "38    598\n",
       "42    597\n",
       "33    581\n",
       "39    573\n",
       "31    560\n",
       "36    555\n",
       "44    547\n",
       "29    545\n",
       "30    540\n",
       "48    538\n",
       "37    537\n",
       "50    514\n",
       "32    510\n",
       "49    508\n",
       "28    503\n",
       "45    497\n",
       "27    493\n",
       "56    487\n",
       "52    484\n",
       "47    480\n",
       "54    479\n",
       "46    475\n",
       "58    461\n",
       "57    460\n",
       "53    459\n",
       "51    448\n",
       "59    444\n",
       "55    443\n",
       "26    408\n",
       "60    377\n",
       "25    357\n",
       "61    355\n",
       "62    352\n",
       "63    269\n",
       "64    265\n",
       "24    264\n",
       "23    254\n",
       "65    194\n",
       "66    183\n",
       "22    183\n",
       "67    167\n",
       "21    111\n",
       "68     99\n",
       "69     85\n",
       "70     65\n",
       "71     58\n",
       "20     51\n",
       "72     33\n",
       "19     14\n",
       "73      8\n",
       "74      6\n",
       "75      1\n",
       "Name: dob_years, dtype: int64"
      ]
     },
     "execution_count": 12,
     "metadata": {},
     "output_type": "execute_result"
    }
   ],
   "source": [
    "df.loc[(df['dob_years']==0) , 'dob_years'] = df['dob_years'].mean().astype('int')\n",
    "df['dob_years'].value_counts()"
   ]
  },
  {
   "cell_type": "markdown",
   "id": "e9e607d5",
   "metadata": {},
   "source": [
    "Касательно гендера - статистически, клиентов женского пола больше, поэтому выполним замену ошибки женский."
   ]
  },
  {
   "cell_type": "code",
   "execution_count": 13,
   "id": "b4f77d0f",
   "metadata": {},
   "outputs": [
    {
     "data": {
      "text/plain": [
       "F    14237\n",
       "M     7288\n",
       "Name: gender, dtype: int64"
      ]
     },
     "execution_count": 13,
     "metadata": {},
     "output_type": "execute_result"
    }
   ],
   "source": [
    "df.loc[(df['gender']=='XNA') , 'gender'] = 'F'\n",
    "df['gender'].value_counts()"
   ]
  },
  {
   "cell_type": "markdown",
   "id": "35868596",
   "metadata": {},
   "source": [
    "### Шаг 2.2 Заполнение пропусков."
   ]
  },
  {
   "cell_type": "markdown",
   "id": "bdd78cf7",
   "metadata": {},
   "source": [
    "**Выполним проверку зависимости пропущенных и аномальных данных в зависимости от типа занятости.**"
   ]
  },
  {
   "cell_type": "code",
   "execution_count": 14,
   "id": "8509e889",
   "metadata": {
    "scrolled": true
   },
   "outputs": [
    {
     "data": {
      "text/plain": [
       "0"
      ]
     },
     "metadata": {},
     "output_type": "display_data"
    },
    {
     "data": {
      "text/plain": [
       "income_type\n",
       "госслужащий         147\n",
       "компаньон           508\n",
       "пенсионер           413\n",
       "предприниматель       1\n",
       "сотрудник          1105\n",
       "Name: gender, dtype: int64"
      ]
     },
     "execution_count": 14,
     "metadata": {},
     "output_type": "execute_result"
    }
   ],
   "source": [
    "#проверка совпадения ячеек с пропусками в двух столбцах\n",
    "display(df[df['total_income'].isna()]['days_employed'].count())\n",
    "#проверка зависимости наличия пропущенных ячеек от типа занятости\n",
    "df[df['total_income'].isna()].groupby('income_type')['gender'].count()"
   ]
  },
  {
   "cell_type": "markdown",
   "id": "108ea324",
   "metadata": {},
   "source": [
    "Строки с пропущенными ячейками в столбцах `days_employed` и `total_income` совпадают.<br>\n",
    "*Пропущенные данные не зависят от типа занятости.*"
   ]
  },
  {
   "cell_type": "code",
   "execution_count": 15,
   "id": "8f63f67e",
   "metadata": {},
   "outputs": [
    {
     "data": {
      "text/plain": [
       "139030.88052749448"
      ]
     },
     "metadata": {},
     "output_type": "display_data"
    },
    {
     "data": {
      "text/plain": [
       "102971.56644797762"
      ]
     },
     "execution_count": 15,
     "metadata": {},
     "output_type": "execute_result"
    }
   ],
   "source": [
    "#расчет среднеквадратических отклонений для столбцов с пропущенными ячейкми\n",
    "display(df['days_employed'].std()) \n",
    "df['total_income'].std()"
   ]
  },
  {
   "cell_type": "markdown",
   "id": "1e3e47ea",
   "metadata": {},
   "source": [
    "Среднеквадратическия отклонения >100000, значит значения в данных колонках сильно расходятся со средним значением, поэтому для заполнения пропусков более корректно будет использовать **медиану**."
   ]
  },
  {
   "cell_type": "code",
   "execution_count": 16,
   "id": "1511633f",
   "metadata": {},
   "outputs": [
    {
     "name": "stdout",
     "output_type": "stream",
     "text": [
      "<class 'pandas.core.frame.DataFrame'>\n",
      "RangeIndex: 21525 entries, 0 to 21524\n",
      "Data columns (total 12 columns):\n",
      "children            21525 non-null int64\n",
      "days_employed       21525 non-null float64\n",
      "dob_years           21525 non-null int64\n",
      "education           21525 non-null object\n",
      "education_id        21525 non-null int64\n",
      "family_status       21525 non-null object\n",
      "family_status_id    21525 non-null int64\n",
      "gender              21525 non-null object\n",
      "income_type         21525 non-null object\n",
      "debt                21525 non-null int64\n",
      "total_income        21525 non-null float64\n",
      "purpose             21525 non-null object\n",
      "dtypes: float64(2), int64(5), object(5)\n",
      "memory usage: 2.0+ MB\n"
     ]
    }
   ],
   "source": [
    "#заменим пропущенные значения на медианы\n",
    "df['days_employed'] = df['days_employed'].fillna(df['days_employed'].median())\n",
    "df['total_income'] = df['total_income'].fillna(df['total_income'].median())\n",
    "#проверим информацию о таблице\n",
    "df.info()"
   ]
  },
  {
   "cell_type": "markdown",
   "id": "729dbfd3",
   "metadata": {},
   "source": [
    "### Шаг 2.3. Изменение типов данных."
   ]
  },
  {
   "cell_type": "markdown",
   "id": "70031a99",
   "metadata": {},
   "source": [
    "Столбцы `days_employed` и `total_income` имеют формат `float`, при это при расчете потенциального кредитного рейтигнга часы работы и копейки в зарплате не представляют ценности.<br> \n",
    "Для удобства и оптимизации заменим тип данных на целые числа."
   ]
  },
  {
   "cell_type": "code",
   "execution_count": 17,
   "id": "329523bf",
   "metadata": {},
   "outputs": [
    {
     "name": "stdout",
     "output_type": "stream",
     "text": [
      "<class 'pandas.core.frame.DataFrame'>\n",
      "RangeIndex: 21525 entries, 0 to 21524\n",
      "Data columns (total 12 columns):\n",
      "children            21525 non-null int64\n",
      "days_employed       21525 non-null int64\n",
      "dob_years           21525 non-null int64\n",
      "education           21525 non-null object\n",
      "education_id        21525 non-null int64\n",
      "family_status       21525 non-null object\n",
      "family_status_id    21525 non-null int64\n",
      "gender              21525 non-null object\n",
      "income_type         21525 non-null object\n",
      "debt                21525 non-null int64\n",
      "total_income        21525 non-null int64\n",
      "purpose             21525 non-null object\n",
      "dtypes: int64(7), object(5)\n",
      "memory usage: 2.0+ MB\n"
     ]
    }
   ],
   "source": [
    "#перевод типов значений в столбцах days_employed и total_income\n",
    "df['days_employed'] = df['days_employed'].astype('int')\n",
    "df['total_income'] = df['total_income'].astype('int')\n"
   ]
  },
  {
   "cell_type": "markdown",
   "id": "8e614b38",
   "metadata": {},
   "source": [
    "### Шаг 2.4. Удаление дубликатов."
   ]
  },
  {
   "cell_type": "markdown",
   "id": "506bb12b",
   "metadata": {},
   "source": [
    "Для получения корректных данных необходимо очистить таблицу от дубликатов.\n",
    "В столбце `education` имеются ячейки как со строчными, так и прописными буквами, предварительно отформатируем данную колонку\n"
   ]
  },
  {
   "cell_type": "code",
   "execution_count": 18,
   "id": "76fba110",
   "metadata": {
    "scrolled": true
   },
   "outputs": [
    {
     "data": {
      "text/html": [
       "<div>\n",
       "<style scoped>\n",
       "    .dataframe tbody tr th:only-of-type {\n",
       "        vertical-align: middle;\n",
       "    }\n",
       "\n",
       "    .dataframe tbody tr th {\n",
       "        vertical-align: top;\n",
       "    }\n",
       "\n",
       "    .dataframe thead th {\n",
       "        text-align: right;\n",
       "    }\n",
       "</style>\n",
       "<table border=\"1\" class=\"dataframe\">\n",
       "  <thead>\n",
       "    <tr style=\"text-align: right;\">\n",
       "      <th></th>\n",
       "      <th>children</th>\n",
       "      <th>days_employed</th>\n",
       "      <th>dob_years</th>\n",
       "      <th>education</th>\n",
       "      <th>education_id</th>\n",
       "      <th>family_status</th>\n",
       "      <th>family_status_id</th>\n",
       "      <th>gender</th>\n",
       "      <th>income_type</th>\n",
       "      <th>debt</th>\n",
       "      <th>total_income</th>\n",
       "      <th>purpose</th>\n",
       "    </tr>\n",
       "  </thead>\n",
       "  <tbody>\n",
       "    <tr>\n",
       "      <td>0</td>\n",
       "      <td>1</td>\n",
       "      <td>8437</td>\n",
       "      <td>42</td>\n",
       "      <td>высшее</td>\n",
       "      <td>0</td>\n",
       "      <td>женат / замужем</td>\n",
       "      <td>0</td>\n",
       "      <td>F</td>\n",
       "      <td>сотрудник</td>\n",
       "      <td>0</td>\n",
       "      <td>253875</td>\n",
       "      <td>покупка жилья</td>\n",
       "    </tr>\n",
       "    <tr>\n",
       "      <td>1</td>\n",
       "      <td>1</td>\n",
       "      <td>4024</td>\n",
       "      <td>36</td>\n",
       "      <td>среднее</td>\n",
       "      <td>1</td>\n",
       "      <td>женат / замужем</td>\n",
       "      <td>0</td>\n",
       "      <td>F</td>\n",
       "      <td>сотрудник</td>\n",
       "      <td>0</td>\n",
       "      <td>112080</td>\n",
       "      <td>приобретение автомобиля</td>\n",
       "    </tr>\n",
       "    <tr>\n",
       "      <td>2</td>\n",
       "      <td>0</td>\n",
       "      <td>5623</td>\n",
       "      <td>33</td>\n",
       "      <td>среднее</td>\n",
       "      <td>1</td>\n",
       "      <td>женат / замужем</td>\n",
       "      <td>0</td>\n",
       "      <td>M</td>\n",
       "      <td>сотрудник</td>\n",
       "      <td>0</td>\n",
       "      <td>145885</td>\n",
       "      <td>покупка жилья</td>\n",
       "    </tr>\n",
       "    <tr>\n",
       "      <td>3</td>\n",
       "      <td>3</td>\n",
       "      <td>4124</td>\n",
       "      <td>32</td>\n",
       "      <td>среднее</td>\n",
       "      <td>1</td>\n",
       "      <td>женат / замужем</td>\n",
       "      <td>0</td>\n",
       "      <td>M</td>\n",
       "      <td>сотрудник</td>\n",
       "      <td>0</td>\n",
       "      <td>267628</td>\n",
       "      <td>дополнительное образование</td>\n",
       "    </tr>\n",
       "    <tr>\n",
       "      <td>4</td>\n",
       "      <td>0</td>\n",
       "      <td>340266</td>\n",
       "      <td>53</td>\n",
       "      <td>среднее</td>\n",
       "      <td>1</td>\n",
       "      <td>гражданский брак</td>\n",
       "      <td>1</td>\n",
       "      <td>F</td>\n",
       "      <td>пенсионер</td>\n",
       "      <td>0</td>\n",
       "      <td>158616</td>\n",
       "      <td>сыграть свадьбу</td>\n",
       "    </tr>\n",
       "    <tr>\n",
       "      <td>5</td>\n",
       "      <td>0</td>\n",
       "      <td>926</td>\n",
       "      <td>27</td>\n",
       "      <td>высшее</td>\n",
       "      <td>0</td>\n",
       "      <td>гражданский брак</td>\n",
       "      <td>1</td>\n",
       "      <td>M</td>\n",
       "      <td>компаньон</td>\n",
       "      <td>0</td>\n",
       "      <td>255763</td>\n",
       "      <td>покупка жилья</td>\n",
       "    </tr>\n",
       "    <tr>\n",
       "      <td>6</td>\n",
       "      <td>0</td>\n",
       "      <td>2879</td>\n",
       "      <td>43</td>\n",
       "      <td>высшее</td>\n",
       "      <td>0</td>\n",
       "      <td>женат / замужем</td>\n",
       "      <td>0</td>\n",
       "      <td>F</td>\n",
       "      <td>компаньон</td>\n",
       "      <td>0</td>\n",
       "      <td>240525</td>\n",
       "      <td>операции с жильем</td>\n",
       "    </tr>\n",
       "    <tr>\n",
       "      <td>7</td>\n",
       "      <td>0</td>\n",
       "      <td>152</td>\n",
       "      <td>50</td>\n",
       "      <td>среднее</td>\n",
       "      <td>1</td>\n",
       "      <td>женат / замужем</td>\n",
       "      <td>0</td>\n",
       "      <td>M</td>\n",
       "      <td>сотрудник</td>\n",
       "      <td>0</td>\n",
       "      <td>135823</td>\n",
       "      <td>образование</td>\n",
       "    </tr>\n",
       "    <tr>\n",
       "      <td>8</td>\n",
       "      <td>2</td>\n",
       "      <td>6929</td>\n",
       "      <td>35</td>\n",
       "      <td>высшее</td>\n",
       "      <td>0</td>\n",
       "      <td>гражданский брак</td>\n",
       "      <td>1</td>\n",
       "      <td>F</td>\n",
       "      <td>сотрудник</td>\n",
       "      <td>0</td>\n",
       "      <td>95856</td>\n",
       "      <td>на проведение свадьбы</td>\n",
       "    </tr>\n",
       "    <tr>\n",
       "      <td>9</td>\n",
       "      <td>0</td>\n",
       "      <td>2188</td>\n",
       "      <td>41</td>\n",
       "      <td>среднее</td>\n",
       "      <td>1</td>\n",
       "      <td>женат / замужем</td>\n",
       "      <td>0</td>\n",
       "      <td>M</td>\n",
       "      <td>сотрудник</td>\n",
       "      <td>0</td>\n",
       "      <td>144425</td>\n",
       "      <td>покупка жилья для семьи</td>\n",
       "    </tr>\n",
       "  </tbody>\n",
       "</table>\n",
       "</div>"
      ],
      "text/plain": [
       "   children  days_employed  dob_years education  education_id  \\\n",
       "0         1           8437         42    высшее             0   \n",
       "1         1           4024         36   среднее             1   \n",
       "2         0           5623         33   среднее             1   \n",
       "3         3           4124         32   среднее             1   \n",
       "4         0         340266         53   среднее             1   \n",
       "5         0            926         27    высшее             0   \n",
       "6         0           2879         43    высшее             0   \n",
       "7         0            152         50   среднее             1   \n",
       "8         2           6929         35    высшее             0   \n",
       "9         0           2188         41   среднее             1   \n",
       "\n",
       "      family_status  family_status_id gender income_type  debt  total_income  \\\n",
       "0   женат / замужем                 0      F   сотрудник     0        253875   \n",
       "1   женат / замужем                 0      F   сотрудник     0        112080   \n",
       "2   женат / замужем                 0      M   сотрудник     0        145885   \n",
       "3   женат / замужем                 0      M   сотрудник     0        267628   \n",
       "4  гражданский брак                 1      F   пенсионер     0        158616   \n",
       "5  гражданский брак                 1      M   компаньон     0        255763   \n",
       "6   женат / замужем                 0      F   компаньон     0        240525   \n",
       "7   женат / замужем                 0      M   сотрудник     0        135823   \n",
       "8  гражданский брак                 1      F   сотрудник     0         95856   \n",
       "9   женат / замужем                 0      M   сотрудник     0        144425   \n",
       "\n",
       "                      purpose  \n",
       "0               покупка жилья  \n",
       "1     приобретение автомобиля  \n",
       "2               покупка жилья  \n",
       "3  дополнительное образование  \n",
       "4             сыграть свадьбу  \n",
       "5               покупка жилья  \n",
       "6           операции с жильем  \n",
       "7                 образование  \n",
       "8       на проведение свадьбы  \n",
       "9     покупка жилья для семьи  "
      ]
     },
     "execution_count": 18,
     "metadata": {},
     "output_type": "execute_result"
    }
   ],
   "source": [
    "#приведем все ячейки столбца education к строчному формату\n",
    "df['education'] = df['education'].str.lower()\n",
    "df.head(10)"
   ]
  },
  {
   "cell_type": "code",
   "execution_count": 19,
   "id": "16c6c7e3",
   "metadata": {},
   "outputs": [],
   "source": [
    "#удаление дубликатов из датафрейфма\n",
    "df = df.drop_duplicates().reset_index(drop=True)"
   ]
  },
  {
   "cell_type": "markdown",
   "id": "7467537f",
   "metadata": {},
   "source": [
    "Проверим на предмет неявных дубликатов столбец `family_status`"
   ]
  },
  {
   "cell_type": "markdown",
   "id": "8cab395a",
   "metadata": {},
   "source": [
    "### Шаг 2.5. Формирование дополнительных датафреймов словарей, декомпозиция исходного датафрейма."
   ]
  },
  {
   "cell_type": "markdown",
   "id": "cb07ef49",
   "metadata": {},
   "source": [
    "Определим какие значения соответсвтуют идентификаторам семейного положения и уровня образования."
   ]
  },
  {
   "cell_type": "code",
   "execution_count": 20,
   "id": "907e506a",
   "metadata": {
    "scrolled": true
   },
   "outputs": [
    {
     "data": {
      "text/html": [
       "<div>\n",
       "<style scoped>\n",
       "    .dataframe tbody tr th:only-of-type {\n",
       "        vertical-align: middle;\n",
       "    }\n",
       "\n",
       "    .dataframe tbody tr th {\n",
       "        vertical-align: top;\n",
       "    }\n",
       "\n",
       "    .dataframe thead tr th {\n",
       "        text-align: left;\n",
       "    }\n",
       "\n",
       "    .dataframe thead tr:last-of-type th {\n",
       "        text-align: right;\n",
       "    }\n",
       "</style>\n",
       "<table border=\"1\" class=\"dataframe\">\n",
       "  <thead>\n",
       "    <tr>\n",
       "      <th></th>\n",
       "      <th colspan=\"2\" halign=\"left\">education_id</th>\n",
       "    </tr>\n",
       "    <tr>\n",
       "      <th></th>\n",
       "      <th>min</th>\n",
       "      <th>max</th>\n",
       "    </tr>\n",
       "    <tr>\n",
       "      <th>education</th>\n",
       "      <th></th>\n",
       "      <th></th>\n",
       "    </tr>\n",
       "  </thead>\n",
       "  <tbody>\n",
       "    <tr>\n",
       "      <td>высшее</td>\n",
       "      <td>0</td>\n",
       "      <td>0</td>\n",
       "    </tr>\n",
       "    <tr>\n",
       "      <td>начальное</td>\n",
       "      <td>3</td>\n",
       "      <td>3</td>\n",
       "    </tr>\n",
       "    <tr>\n",
       "      <td>неоконченное высшее</td>\n",
       "      <td>2</td>\n",
       "      <td>2</td>\n",
       "    </tr>\n",
       "    <tr>\n",
       "      <td>среднее</td>\n",
       "      <td>1</td>\n",
       "      <td>1</td>\n",
       "    </tr>\n",
       "    <tr>\n",
       "      <td>ученая степень</td>\n",
       "      <td>4</td>\n",
       "      <td>4</td>\n",
       "    </tr>\n",
       "  </tbody>\n",
       "</table>\n",
       "</div>"
      ],
      "text/plain": [
       "                    education_id    \n",
       "                             min max\n",
       "education                           \n",
       "высшее                         0   0\n",
       "начальное                      3   3\n",
       "неоконченное высшее            2   2\n",
       "среднее                        1   1\n",
       "ученая степень                 4   4"
      ]
     },
     "metadata": {},
     "output_type": "display_data"
    },
    {
     "data": {
      "text/html": [
       "<div>\n",
       "<style scoped>\n",
       "    .dataframe tbody tr th:only-of-type {\n",
       "        vertical-align: middle;\n",
       "    }\n",
       "\n",
       "    .dataframe tbody tr th {\n",
       "        vertical-align: top;\n",
       "    }\n",
       "\n",
       "    .dataframe thead tr th {\n",
       "        text-align: left;\n",
       "    }\n",
       "\n",
       "    .dataframe thead tr:last-of-type th {\n",
       "        text-align: right;\n",
       "    }\n",
       "</style>\n",
       "<table border=\"1\" class=\"dataframe\">\n",
       "  <thead>\n",
       "    <tr>\n",
       "      <th></th>\n",
       "      <th colspan=\"2\" halign=\"left\">family_status_id</th>\n",
       "    </tr>\n",
       "    <tr>\n",
       "      <th></th>\n",
       "      <th>min</th>\n",
       "      <th>max</th>\n",
       "    </tr>\n",
       "    <tr>\n",
       "      <th>family_status</th>\n",
       "      <th></th>\n",
       "      <th></th>\n",
       "    </tr>\n",
       "  </thead>\n",
       "  <tbody>\n",
       "    <tr>\n",
       "      <td>Не женат / не замужем</td>\n",
       "      <td>4</td>\n",
       "      <td>4</td>\n",
       "    </tr>\n",
       "    <tr>\n",
       "      <td>в разводе</td>\n",
       "      <td>3</td>\n",
       "      <td>3</td>\n",
       "    </tr>\n",
       "    <tr>\n",
       "      <td>вдовец / вдова</td>\n",
       "      <td>2</td>\n",
       "      <td>2</td>\n",
       "    </tr>\n",
       "    <tr>\n",
       "      <td>гражданский брак</td>\n",
       "      <td>1</td>\n",
       "      <td>1</td>\n",
       "    </tr>\n",
       "    <tr>\n",
       "      <td>женат / замужем</td>\n",
       "      <td>0</td>\n",
       "      <td>0</td>\n",
       "    </tr>\n",
       "  </tbody>\n",
       "</table>\n",
       "</div>"
      ],
      "text/plain": [
       "                      family_status_id    \n",
       "                                   min max\n",
       "family_status                             \n",
       "Не женат / не замужем                4   4\n",
       "в разводе                            3   3\n",
       "вдовец / вдова                       2   2\n",
       "гражданский брак                     1   1\n",
       "женат / замужем                      0   0"
      ]
     },
     "execution_count": 20,
     "metadata": {},
     "output_type": "execute_result"
    }
   ],
   "source": [
    "display(df.groupby('education').agg({'education_id': ['min', 'max']}))\n",
    "df.groupby('family_status').agg({'family_status_id': ['min', 'max']})"
   ]
  },
  {
   "cell_type": "markdown",
   "id": "ccd546f6",
   "metadata": {},
   "source": [
    "Подготовим \"словари\" с идентификатором и соответствующим ему значением в столбцах семейное положение и уровень образования."
   ]
  },
  {
   "cell_type": "code",
   "execution_count": 21,
   "id": "ac756187",
   "metadata": {},
   "outputs": [
    {
     "data": {
      "text/html": [
       "<div>\n",
       "<style scoped>\n",
       "    .dataframe tbody tr th:only-of-type {\n",
       "        vertical-align: middle;\n",
       "    }\n",
       "\n",
       "    .dataframe tbody tr th {\n",
       "        vertical-align: top;\n",
       "    }\n",
       "\n",
       "    .dataframe thead th {\n",
       "        text-align: right;\n",
       "    }\n",
       "</style>\n",
       "<table border=\"1\" class=\"dataframe\">\n",
       "  <thead>\n",
       "    <tr style=\"text-align: right;\">\n",
       "      <th></th>\n",
       "      <th>education_id</th>\n",
       "      <th>education</th>\n",
       "    </tr>\n",
       "  </thead>\n",
       "  <tbody>\n",
       "    <tr>\n",
       "      <td>0</td>\n",
       "      <td>0</td>\n",
       "      <td>высшее</td>\n",
       "    </tr>\n",
       "    <tr>\n",
       "      <td>1</td>\n",
       "      <td>1</td>\n",
       "      <td>среднее</td>\n",
       "    </tr>\n",
       "    <tr>\n",
       "      <td>2</td>\n",
       "      <td>2</td>\n",
       "      <td>неоконченное высшее</td>\n",
       "    </tr>\n",
       "    <tr>\n",
       "      <td>3</td>\n",
       "      <td>3</td>\n",
       "      <td>начальное</td>\n",
       "    </tr>\n",
       "    <tr>\n",
       "      <td>4</td>\n",
       "      <td>4</td>\n",
       "      <td>ученая степень</td>\n",
       "    </tr>\n",
       "  </tbody>\n",
       "</table>\n",
       "</div>"
      ],
      "text/plain": [
       "   education_id            education\n",
       "0             0               высшее\n",
       "1             1              среднее\n",
       "2             2  неоконченное высшее\n",
       "3             3            начальное\n",
       "4             4       ученая степень"
      ]
     },
     "metadata": {},
     "output_type": "display_data"
    },
    {
     "data": {
      "text/html": [
       "<div>\n",
       "<style scoped>\n",
       "    .dataframe tbody tr th:only-of-type {\n",
       "        vertical-align: middle;\n",
       "    }\n",
       "\n",
       "    .dataframe tbody tr th {\n",
       "        vertical-align: top;\n",
       "    }\n",
       "\n",
       "    .dataframe thead th {\n",
       "        text-align: right;\n",
       "    }\n",
       "</style>\n",
       "<table border=\"1\" class=\"dataframe\">\n",
       "  <thead>\n",
       "    <tr style=\"text-align: right;\">\n",
       "      <th></th>\n",
       "      <th>family_status_id</th>\n",
       "      <th>family_status</th>\n",
       "    </tr>\n",
       "  </thead>\n",
       "  <tbody>\n",
       "    <tr>\n",
       "      <td>0</td>\n",
       "      <td>0</td>\n",
       "      <td>женат / замужем</td>\n",
       "    </tr>\n",
       "    <tr>\n",
       "      <td>1</td>\n",
       "      <td>1</td>\n",
       "      <td>гражданский брак</td>\n",
       "    </tr>\n",
       "    <tr>\n",
       "      <td>2</td>\n",
       "      <td>2</td>\n",
       "      <td>вдовец / вдова</td>\n",
       "    </tr>\n",
       "    <tr>\n",
       "      <td>3</td>\n",
       "      <td>3</td>\n",
       "      <td>в разводе</td>\n",
       "    </tr>\n",
       "    <tr>\n",
       "      <td>4</td>\n",
       "      <td>4</td>\n",
       "      <td>Не женат / не замужем</td>\n",
       "    </tr>\n",
       "  </tbody>\n",
       "</table>\n",
       "</div>"
      ],
      "text/plain": [
       "   family_status_id          family_status\n",
       "0                 0        женат / замужем\n",
       "1                 1       гражданский брак\n",
       "2                 2         вдовец / вдова\n",
       "3                 3              в разводе\n",
       "4                 4  Не женат / не замужем"
      ]
     },
     "execution_count": 21,
     "metadata": {},
     "output_type": "execute_result"
    }
   ],
   "source": [
    "#создадим \"словари\" с идентификатором и соответствующим ему значением в столбцах семейное положение и уровень образования\n",
    "education_dictionary = df[['education_id', 'education']].drop_duplicates().reset_index(drop=True)\n",
    "family_status_dictionary = df[['family_status_id', 'family_status']].drop_duplicates().reset_index(drop=True)\n",
    "display(education_dictionary)\n",
    "family_status_dictionary"
   ]
  },
  {
   "cell_type": "code",
   "execution_count": 22,
   "id": "35044416",
   "metadata": {},
   "outputs": [],
   "source": [
    "#удалим стобцы education и family_status для удобства последующего анализа\n",
    "df = df.drop(columns=['education', 'family_status'])"
   ]
  },
  {
   "cell_type": "markdown",
   "id": "b30c8544",
   "metadata": {},
   "source": [
    "### Шаг 2.6. Категоризация дохода."
   ]
  },
  {
   "cell_type": "markdown",
   "id": "b4b56f89",
   "metadata": {},
   "source": [
    "Для упрощения анализа категоризируем клиентов по уровню дохода:\n",
    "- 0–30000 — 'E';\n",
    "- 30001–50000 — 'D';\n",
    "- 50001–200000 — 'C';\n",
    "- 200001–1000000 — 'B';\n",
    "- 1000001 и выше — 'A'."
   ]
  },
  {
   "cell_type": "code",
   "execution_count": 23,
   "id": "631d4689",
   "metadata": {},
   "outputs": [
    {
     "data": {
      "text/plain": [
       "income_category\n",
       "A       25\n",
       "B     5041\n",
       "C    16016\n",
       "D      350\n",
       "E       22\n",
       "Name: total_income, dtype: int64"
      ]
     },
     "execution_count": 23,
     "metadata": {},
     "output_type": "execute_result"
    }
   ],
   "source": [
    "#создадим функцию для категоризации клиентов по уровню дохода\n",
    "def income_category(income):\n",
    "    if income <= 30000:\n",
    "        return 'E'\n",
    "    if 30000 < income <= 50000:\n",
    "        return 'D'\n",
    "    if 50000 < income <= 200000:\n",
    "        return 'C'\n",
    "    if 200000 < income <= 1000000:\n",
    "        return 'B'\n",
    "    return 'A'\n",
    "df['income_category'] = df['total_income'].apply(income_category)\n",
    "df.groupby('income_category')['total_income'].count()"
   ]
  },
  {
   "cell_type": "markdown",
   "id": "cea48227",
   "metadata": {},
   "source": [
    "### Шаг 2.7. Категоризация целей кредита."
   ]
  },
  {
   "cell_type": "markdown",
   "id": "b070b4f5",
   "metadata": {},
   "source": [
    "Так же для упрощения анализа категоризируем клиентов по целям кредита:\n",
    "- операции с автомобилем\n",
    "- операции с недвижимостью\n",
    "- проведение свадьбы\n",
    "- получение образования"
   ]
  },
  {
   "cell_type": "code",
   "execution_count": 24,
   "id": "3c144d98",
   "metadata": {},
   "outputs": [
    {
     "data": {
      "text/plain": [
       "purpose_category\n",
       "операции с автомобилем       4306\n",
       "операции с недвижимостью    10811\n",
       "получение образования        4013\n",
       "проведение свадьбы           2324\n",
       "Name: purpose, dtype: int64"
      ]
     },
     "execution_count": 24,
     "metadata": {},
     "output_type": "execute_result"
    }
   ],
   "source": [
    "#создадим функцию для категоризации клиентов по уровню дохода\n",
    "def purpose_category(purpose):\n",
    "    if 'авто' in purpose:\n",
    "        return 'операции с автомобилем'\n",
    "    if 'образов' in purpose:\n",
    "        return 'получение образования'\n",
    "    if 'свадьб' in purpose:\n",
    "        return 'проведение свадьбы'\n",
    "    if ('недвиж' in purpose) or ('жиль' in purpose):\n",
    "        return 'операции с недвижимостью'\n",
    "    return 'ошибка'\n",
    "df['purpose_category'] = df['purpose'].apply(purpose_category)\n",
    "df.groupby('purpose_category')['purpose'].count()"
   ]
  },
  {
   "cell_type": "markdown",
   "id": "5157ff6e",
   "metadata": {},
   "source": [
    "### Ответы на вопросы."
   ]
  },
  {
   "cell_type": "markdown",
   "id": "41dd27ed",
   "metadata": {},
   "source": [
    "##### Вопрос 1:\n",
    "Есть ли зависимость между количеством детей и возвратом кредита в срок?"
   ]
  },
  {
   "cell_type": "code",
   "execution_count": 25,
   "id": "b41befb2",
   "metadata": {},
   "outputs": [
    {
     "data": {
      "text/plain": [
       "children\n",
       "0    7.543822\n",
       "1    9.165808\n",
       "2    9.492481\n",
       "3    8.181818\n",
       "4    9.756098\n",
       "5    0.000000\n",
       "Name: debt, dtype: float64"
      ]
     },
     "execution_count": 25,
     "metadata": {},
     "output_type": "execute_result"
    }
   ],
   "source": [
    "#определим долю невозвратов кредитов в зависимости от количества детей\n",
    "df.groupby('children')['debt'].agg('mean')*100"
   ]
  },
  {
   "cell_type": "markdown",
   "id": "eb9b35b1",
   "metadata": {},
   "source": [
    "##### Вывод 1:\n",
    "Наименьший процент невозвратов кредитов в срок у людей, у которых нет детей. <br>\n",
    "При количестве детей от 1 до 4 кореляции минимальны.<br>\n",
    "При количестве 5 нет просрочек, но, скорее всего, это связано с отсутствием значимого количества кейсов для семей с 5 детьми.\n",
    "\n",
    "**Наибольший процент просрочех у семей с детьми связан с тем, что дети являются постоянным источником непредвиденных расходов, особенно говоря о здоровье. Исходя из полученных данных, более высокий ретинг следует давать семьям без детей.**"
   ]
  },
  {
   "cell_type": "markdown",
   "id": "64ddb75d",
   "metadata": {},
   "source": [
    "##### Вопрос 2:\n",
    "Есть ли зависимость между семейным положением и возвратом кредита в срок?"
   ]
  },
  {
   "cell_type": "code",
   "execution_count": 26,
   "id": "ca2b2a3c",
   "metadata": {
    "scrolled": true
   },
   "outputs": [
    {
     "data": {
      "text/html": [
       "<div>\n",
       "<style scoped>\n",
       "    .dataframe tbody tr th:only-of-type {\n",
       "        vertical-align: middle;\n",
       "    }\n",
       "\n",
       "    .dataframe tbody tr th {\n",
       "        vertical-align: top;\n",
       "    }\n",
       "\n",
       "    .dataframe thead th {\n",
       "        text-align: right;\n",
       "    }\n",
       "</style>\n",
       "<table border=\"1\" class=\"dataframe\">\n",
       "  <thead>\n",
       "    <tr style=\"text-align: right;\">\n",
       "      <th></th>\n",
       "      <th>family_status_id</th>\n",
       "      <th>family_status</th>\n",
       "    </tr>\n",
       "  </thead>\n",
       "  <tbody>\n",
       "    <tr>\n",
       "      <td>0</td>\n",
       "      <td>0</td>\n",
       "      <td>женат / замужем</td>\n",
       "    </tr>\n",
       "    <tr>\n",
       "      <td>1</td>\n",
       "      <td>1</td>\n",
       "      <td>гражданский брак</td>\n",
       "    </tr>\n",
       "    <tr>\n",
       "      <td>2</td>\n",
       "      <td>2</td>\n",
       "      <td>вдовец / вдова</td>\n",
       "    </tr>\n",
       "    <tr>\n",
       "      <td>3</td>\n",
       "      <td>3</td>\n",
       "      <td>в разводе</td>\n",
       "    </tr>\n",
       "    <tr>\n",
       "      <td>4</td>\n",
       "      <td>4</td>\n",
       "      <td>Не женат / не замужем</td>\n",
       "    </tr>\n",
       "  </tbody>\n",
       "</table>\n",
       "</div>"
      ],
      "text/plain": [
       "   family_status_id          family_status\n",
       "0                 0        женат / замужем\n",
       "1                 1       гражданский брак\n",
       "2                 2         вдовец / вдова\n",
       "3                 3              в разводе\n",
       "4                 4  Не женат / не замужем"
      ]
     },
     "execution_count": 26,
     "metadata": {},
     "output_type": "execute_result"
    }
   ],
   "source": [
    "family_status_dictionary"
   ]
  },
  {
   "cell_type": "code",
   "execution_count": 27,
   "id": "cb8b42de",
   "metadata": {},
   "outputs": [
    {
     "data": {
      "text/plain": [
       "family_status_id\n",
       "0    7.545182\n",
       "1    9.347145\n",
       "2    6.569343\n",
       "3    7.112971\n",
       "4    9.750890\n",
       "Name: debt, dtype: float64"
      ]
     },
     "execution_count": 27,
     "metadata": {},
     "output_type": "execute_result"
    }
   ],
   "source": [
    "#определим долю невозвратов кредитов в зависимости от количества детей\n",
    "df.groupby('family_status_id')['debt'].agg('mean')*100"
   ]
  },
  {
   "cell_type": "markdown",
   "id": "e3b7d3a9",
   "metadata": {},
   "source": [
    "##### Вывод 2:\n",
    "Наименьший процент невозвратов в срок - у овдовевших клиентов.<br>\n",
    "Так же женаты и в разводе имеют более низкие значения просрочек.<br>\n",
    "Наибольший процент невозвратов в срок имеют клиенты не женатые, либо находящиеся в гражднаском браке.\n",
    "\n",
    "**-Статистика показывает, что не женатые/не замужние и находящиеся в гражданоском браке (категории в целом можно приравнять), должны иметь более низкий рейтинг при расчете кредитного рейтинга. <br>\n",
    "-Данная ситуация может быть связана с отсутствием совместного бюджета, если говорить о гражданском браке, когда любые непредвиденные расходы или отсутствие поступления денег, не перекрываются деньгами партнера.<br>\n",
    "-У неженатных процент невозвратов может быть выше в связи с тем, что они, скорее всего, моложе, находятся в процессе обучения и не всегда имеют стабильный источник дохода.** "
   ]
  },
  {
   "cell_type": "markdown",
   "id": "104ce6e5",
   "metadata": {},
   "source": [
    "##### Вопрос 3:\n",
    "Есть ли зависимость между уровнем дохода и возвратом кредита в срок?"
   ]
  },
  {
   "cell_type": "markdown",
   "id": "38f7ff72",
   "metadata": {},
   "source": [
    "Для упрощения анализа категоризируем клиентов по уровню дохода:\n",
    "- 0–30000 — 'E';\n",
    "- 30001–50000 — 'D';\n",
    "- 50001–200000 — 'C';\n",
    "- 200001–1000000 — 'B';\n",
    "- 1000001 и выше — 'A'."
   ]
  },
  {
   "cell_type": "code",
   "execution_count": 28,
   "id": "5a1da715",
   "metadata": {
    "scrolled": true
   },
   "outputs": [
    {
     "data": {
      "text/plain": [
       "income_category\n",
       "A    8.000000\n",
       "B    7.062091\n",
       "C    8.491508\n",
       "D    6.000000\n",
       "E    9.090909\n",
       "Name: debt, dtype: float64"
      ]
     },
     "execution_count": 28,
     "metadata": {},
     "output_type": "execute_result"
    }
   ],
   "source": [
    "#определим долю невозвратов кредитов в зависимости от количества детей\n",
    "df.groupby('income_category')['debt'].agg('mean')*100"
   ]
  },
  {
   "cell_type": "markdown",
   "id": "51ccb02b",
   "metadata": {},
   "source": [
    "##### Вывод 3:\n",
    "Наименьший процент невозвратов в срок - у клиентов со средним уровнем дохода (категория D).<br>\n",
    "Клиенты с доходом 200,001 - 1,000,000 так же имеют довольно низкие показатели просрочек.<br>\n",
    "Высокие проценты невыплат кредитов в срок клиентов категии С и А.<br>\n",
    "Максимальный процент невозвратов у клиентов доходом <30,000 рублей.\n",
    "\n",
    "**Общей кореляции нет, однако клиенты с доходом ниже среднего в России имеют в целом более высокий процент невозврата, им следуют давать более низкую оценку в кредитном рейтинге.**"
   ]
  },
  {
   "cell_type": "markdown",
   "id": "8714d978",
   "metadata": {},
   "source": [
    "##### Вопрос 4:\n",
    "Как разные цели кредита влияют на его возврат в срок"
   ]
  },
  {
   "cell_type": "code",
   "execution_count": 29,
   "id": "1415e2ec",
   "metadata": {},
   "outputs": [
    {
     "data": {
      "text/plain": [
       "purpose_category\n",
       "операции с автомобилем      9.359034\n",
       "операции с недвижимостью    7.233373\n",
       "получение образования       9.220035\n",
       "проведение свадьбы          8.003442\n",
       "Name: debt, dtype: float64"
      ]
     },
     "execution_count": 29,
     "metadata": {},
     "output_type": "execute_result"
    }
   ],
   "source": [
    "#определим долю невозвратов кредитов в зависимости от количества детей\n",
    "df.groupby('purpose_category')['debt'].agg('mean')*100"
   ]
  },
  {
   "cell_type": "markdown",
   "id": "c9e183ca",
   "metadata": {},
   "source": [
    "##### Вывод 4:\n",
    "Наименьший процент невозвратов у операций связанных с недвижимостью.<br>\n",
    "Операции с автомобилем и кредит на образование имеют наибольшую долю невыплат в срок. <br>\n",
    "\n",
    "**-Операции с недвижимостью имеют наибольший процент возвратов в связи с особенностями получения ипотечных кредитов - необходимо певрный взнос, больше проверок и в целом, более осознанная покупка.<br>\n",
    "-Меньший процент возратов по кредитам с автомобилем связан с тем, что часто - это траты на инструменты производства, которые имеют свойство ломаться, из-за чего простои приводят к невозвратами в срок.<br>\n",
    "-Просрочки по кредитам на образованием связаны с тем, что люди которые берут данный кредит, либо на данный момент не имеют постоянного источника дохода, либо в начале карьерного пути, в связи с этим сложнее сформировать подушку безопасности, которая позволит скомпенсировать непредвиденные расходы.<br>\n",
    "-Более высокий рейтинг следуют дать операциям с недвижимостью, низкий - на операции с автомобилем и получение образования.**"
   ]
  },
  {
   "cell_type": "markdown",
   "id": "0f55a771",
   "metadata": {},
   "source": [
    "## Общий вывод:"
   ]
  },
  {
   "cell_type": "markdown",
   "id": "8f82c696",
   "metadata": {},
   "source": [
    "Перед подведением общих итогов подготовим сводные таблицы по проценту невозвратов в завимимости от количества детей и семейного положения."
   ]
  },
  {
   "cell_type": "code",
   "execution_count": 30,
   "id": "6d00c79d",
   "metadata": {
    "scrolled": true
   },
   "outputs": [
    {
     "data": {
      "text/html": [
       "<div>\n",
       "<style scoped>\n",
       "    .dataframe tbody tr th:only-of-type {\n",
       "        vertical-align: middle;\n",
       "    }\n",
       "\n",
       "    .dataframe tbody tr th {\n",
       "        vertical-align: top;\n",
       "    }\n",
       "\n",
       "    .dataframe thead th {\n",
       "        text-align: right;\n",
       "    }\n",
       "</style>\n",
       "<table border=\"1\" class=\"dataframe\">\n",
       "  <thead>\n",
       "    <tr style=\"text-align: right;\">\n",
       "      <th></th>\n",
       "      <th>family_status_id</th>\n",
       "      <th>family_status</th>\n",
       "    </tr>\n",
       "  </thead>\n",
       "  <tbody>\n",
       "    <tr>\n",
       "      <td>0</td>\n",
       "      <td>0</td>\n",
       "      <td>женат / замужем</td>\n",
       "    </tr>\n",
       "    <tr>\n",
       "      <td>1</td>\n",
       "      <td>1</td>\n",
       "      <td>гражданский брак</td>\n",
       "    </tr>\n",
       "    <tr>\n",
       "      <td>2</td>\n",
       "      <td>2</td>\n",
       "      <td>вдовец / вдова</td>\n",
       "    </tr>\n",
       "    <tr>\n",
       "      <td>3</td>\n",
       "      <td>3</td>\n",
       "      <td>в разводе</td>\n",
       "    </tr>\n",
       "    <tr>\n",
       "      <td>4</td>\n",
       "      <td>4</td>\n",
       "      <td>Не женат / не замужем</td>\n",
       "    </tr>\n",
       "  </tbody>\n",
       "</table>\n",
       "</div>"
      ],
      "text/plain": [
       "   family_status_id          family_status\n",
       "0                 0        женат / замужем\n",
       "1                 1       гражданский брак\n",
       "2                 2         вдовец / вдова\n",
       "3                 3              в разводе\n",
       "4                 4  Не женат / не замужем"
      ]
     },
     "execution_count": 30,
     "metadata": {},
     "output_type": "execute_result"
    }
   ],
   "source": [
    "family_status_dictionary"
   ]
  },
  {
   "cell_type": "code",
   "execution_count": 31,
   "id": "f196dc21",
   "metadata": {
    "scrolled": true
   },
   "outputs": [
    {
     "data": {
      "text/html": [
       "<div>\n",
       "<style scoped>\n",
       "    .dataframe tbody tr th:only-of-type {\n",
       "        vertical-align: middle;\n",
       "    }\n",
       "\n",
       "    .dataframe tbody tr th {\n",
       "        vertical-align: top;\n",
       "    }\n",
       "\n",
       "    .dataframe thead th {\n",
       "        text-align: right;\n",
       "    }\n",
       "</style>\n",
       "<table border=\"1\" class=\"dataframe\">\n",
       "  <thead>\n",
       "    <tr style=\"text-align: right;\">\n",
       "      <th>family_status_id</th>\n",
       "      <th>0</th>\n",
       "      <th>1</th>\n",
       "      <th>2</th>\n",
       "      <th>3</th>\n",
       "      <th>4</th>\n",
       "    </tr>\n",
       "    <tr>\n",
       "      <th>children</th>\n",
       "      <th></th>\n",
       "      <th></th>\n",
       "      <th></th>\n",
       "      <th></th>\n",
       "      <th></th>\n",
       "    </tr>\n",
       "  </thead>\n",
       "  <tbody>\n",
       "    <tr>\n",
       "      <td>0</td>\n",
       "      <td>6.909480</td>\n",
       "      <td>8.388278</td>\n",
       "      <td>6.257379</td>\n",
       "      <td>7.015306</td>\n",
       "      <td>9.283820</td>\n",
       "    </tr>\n",
       "    <tr>\n",
       "      <td>1</td>\n",
       "      <td>8.222370</td>\n",
       "      <td>11.800000</td>\n",
       "      <td>8.641975</td>\n",
       "      <td>6.645570</td>\n",
       "      <td>11.453744</td>\n",
       "    </tr>\n",
       "    <tr>\n",
       "      <td>2</td>\n",
       "      <td>9.355247</td>\n",
       "      <td>9.295775</td>\n",
       "      <td>12.500000</td>\n",
       "      <td>9.638554</td>\n",
       "      <td>11.904762</td>\n",
       "    </tr>\n",
       "    <tr>\n",
       "      <td>3</td>\n",
       "      <td>6.827309</td>\n",
       "      <td>14.285714</td>\n",
       "      <td>0.000000</td>\n",
       "      <td>9.090909</td>\n",
       "      <td>12.500000</td>\n",
       "    </tr>\n",
       "    <tr>\n",
       "      <td>4</td>\n",
       "      <td>10.344828</td>\n",
       "      <td>0.000000</td>\n",
       "      <td>0.000000</td>\n",
       "      <td>0.000000</td>\n",
       "      <td>50.000000</td>\n",
       "    </tr>\n",
       "    <tr>\n",
       "      <td>5</td>\n",
       "      <td>0.000000</td>\n",
       "      <td>0.000000</td>\n",
       "      <td>NaN</td>\n",
       "      <td>NaN</td>\n",
       "      <td>NaN</td>\n",
       "    </tr>\n",
       "  </tbody>\n",
       "</table>\n",
       "</div>"
      ],
      "text/plain": [
       "family_status_id          0          1          2         3          4\n",
       "children                                                              \n",
       "0                  6.909480   8.388278   6.257379  7.015306   9.283820\n",
       "1                  8.222370  11.800000   8.641975  6.645570  11.453744\n",
       "2                  9.355247   9.295775  12.500000  9.638554  11.904762\n",
       "3                  6.827309  14.285714   0.000000  9.090909  12.500000\n",
       "4                 10.344828   0.000000   0.000000  0.000000  50.000000\n",
       "5                  0.000000   0.000000        NaN       NaN        NaN"
      ]
     },
     "execution_count": 31,
     "metadata": {},
     "output_type": "execute_result"
    }
   ],
   "source": [
    "(df.pivot_table(index=['children'],columns=['family_status_id'],\n",
    "values ='debt',aggfunc='sum'))/(df.pivot_table(index=['children'],\n",
    "columns=['family_status_id'],values ='debt',aggfunc='count'))*100"
   ]
  },
  {
   "cell_type": "markdown",
   "id": "5c656a17",
   "metadata": {},
   "source": [
    "**Отвечая на вопрос проекта:** красный флаг - это не замужние / не женатые клиенты с 4 детьми. <br>\n",
    "Наличие хотя бы одного ребенка резко снижеает процент возвратов в срок у не замужних / не женатых клиентов, включая аналогичную категорию, находящихся в гражданском браке.<br>\n",
    "Как указывал ранее, скорее всего, это связано с тем, что все финансовые риски ложаться на 1 человека, в то же время ребенок - сам по себе риск.<br>\n",
    "Данные факты следует учитывать при построении кредитного рейтинга: наличие ребенка - риск, не состоящие в браке (либо состоящие в гражданском браке) - риск, совмещение факторов приводит к повышению рисков.<br>\n",
    "**В дополнение:**\n",
    "Исходя из статистики возвратов кредитов в зависимости от целей - более высокий рейтинг следуют дать операциям с недвижимостью, низкий - на операции с автомобилем и получение образования.<br>\n",
    "Более низкий рейтинг необходимо дать категории клиентов, у которых доход ниже среднестатистического дохода по России.<br>\n",
    "**Касательно полученного датафрейма:**\n",
    "Были устранены пропуски, ошибки, аномалии данных практически в каждом из столбцов полученного датасета, для оптимизации работы необходимо ввдеение предварительной проверки введенных данных на предмет аномалий:<br>\n",
    "-доход не должен быть отрицательным;<br>\n",
    "-возраст клиентов ниже возраста совершеннолетия;<br>\n",
    "-пол сделать только выбираемым из представленных значений;<br>\n",
    "-не допускать пропуски данных.<br>"
   ]
  }
 ],
 "metadata": {
  "ExecuteTimeLog": [
   {
    "duration": 1013,
    "start_time": "2022-02-19T19:30:12.745Z"
   },
   {
    "duration": 75,
    "start_time": "2022-02-19T19:30:13.760Z"
   },
   {
    "duration": 324,
    "start_time": "2022-02-19T19:30:13.837Z"
   },
   {
    "duration": 548,
    "start_time": "2022-02-19T19:30:13.615Z"
   },
   {
    "duration": 495,
    "start_time": "2022-02-19T19:30:13.669Z"
   },
   {
    "duration": 481,
    "start_time": "2022-02-19T19:30:13.684Z"
   },
   {
    "duration": 476,
    "start_time": "2022-02-19T19:30:13.690Z"
   },
   {
    "duration": 473,
    "start_time": "2022-02-19T19:30:13.694Z"
   },
   {
    "duration": 469,
    "start_time": "2022-02-19T19:30:13.699Z"
   },
   {
    "duration": 466,
    "start_time": "2022-02-19T19:30:13.703Z"
   },
   {
    "duration": 461,
    "start_time": "2022-02-19T19:30:13.709Z"
   },
   {
    "duration": 458,
    "start_time": "2022-02-19T19:30:13.713Z"
   },
   {
    "duration": 455,
    "start_time": "2022-02-19T19:30:13.717Z"
   },
   {
    "duration": 452,
    "start_time": "2022-02-19T19:30:13.721Z"
   },
   {
    "duration": 447,
    "start_time": "2022-02-19T19:30:13.727Z"
   },
   {
    "duration": 444,
    "start_time": "2022-02-19T19:30:13.731Z"
   },
   {
    "duration": 441,
    "start_time": "2022-02-19T19:30:13.735Z"
   },
   {
    "duration": 438,
    "start_time": "2022-02-19T19:30:13.739Z"
   },
   {
    "duration": 435,
    "start_time": "2022-02-19T19:30:13.743Z"
   },
   {
    "duration": 421,
    "start_time": "2022-02-19T19:30:13.758Z"
   },
   {
    "duration": 417,
    "start_time": "2022-02-19T19:30:13.763Z"
   },
   {
    "duration": 416,
    "start_time": "2022-02-19T19:30:13.766Z"
   },
   {
    "duration": 412,
    "start_time": "2022-02-19T19:30:13.770Z"
   },
   {
    "duration": 407,
    "start_time": "2022-02-19T19:30:13.776Z"
   },
   {
    "duration": 404,
    "start_time": "2022-02-19T19:30:13.780Z"
   },
   {
    "duration": 401,
    "start_time": "2022-02-19T19:30:13.784Z"
   },
   {
    "duration": 1147,
    "start_time": "2022-02-19T19:31:37.244Z"
   },
   {
    "duration": 24,
    "start_time": "2022-02-19T19:31:38.393Z"
   },
   {
    "duration": 259,
    "start_time": "2022-02-19T19:31:38.430Z"
   },
   {
    "duration": 553,
    "start_time": "2022-02-19T19:31:38.140Z"
   },
   {
    "duration": 552,
    "start_time": "2022-02-19T19:31:38.142Z"
   },
   {
    "duration": 551,
    "start_time": "2022-02-19T19:31:38.144Z"
   },
   {
    "duration": 543,
    "start_time": "2022-02-19T19:31:38.154Z"
   },
   {
    "duration": 510,
    "start_time": "2022-02-19T19:31:38.188Z"
   },
   {
    "duration": 507,
    "start_time": "2022-02-19T19:31:38.193Z"
   },
   {
    "duration": 504,
    "start_time": "2022-02-19T19:31:38.197Z"
   },
   {
    "duration": 500,
    "start_time": "2022-02-19T19:31:38.202Z"
   },
   {
    "duration": 498,
    "start_time": "2022-02-19T19:31:38.206Z"
   },
   {
    "duration": 495,
    "start_time": "2022-02-19T19:31:38.210Z"
   },
   {
    "duration": 492,
    "start_time": "2022-02-19T19:31:38.214Z"
   },
   {
    "duration": 483,
    "start_time": "2022-02-19T19:31:38.225Z"
   },
   {
    "duration": 480,
    "start_time": "2022-02-19T19:31:38.229Z"
   },
   {
    "duration": 477,
    "start_time": "2022-02-19T19:31:38.233Z"
   },
   {
    "duration": 475,
    "start_time": "2022-02-19T19:31:38.237Z"
   },
   {
    "duration": 472,
    "start_time": "2022-02-19T19:31:38.241Z"
   },
   {
    "duration": 470,
    "start_time": "2022-02-19T19:31:38.245Z"
   },
   {
    "duration": 467,
    "start_time": "2022-02-19T19:31:38.249Z"
   },
   {
    "duration": 467,
    "start_time": "2022-02-19T19:31:38.251Z"
   },
   {
    "duration": 465,
    "start_time": "2022-02-19T19:31:38.254Z"
   },
   {
    "duration": 463,
    "start_time": "2022-02-19T19:31:38.257Z"
   },
   {
    "duration": 463,
    "start_time": "2022-02-19T19:31:38.260Z"
   },
   {
    "duration": 462,
    "start_time": "2022-02-19T19:31:38.262Z"
   },
   {
    "duration": 64,
    "start_time": "2022-02-19T19:32:39.297Z"
   },
   {
    "duration": 637,
    "start_time": "2022-02-19T19:32:46.552Z"
   },
   {
    "duration": 10,
    "start_time": "2022-02-19T19:32:47.191Z"
   },
   {
    "duration": 6,
    "start_time": "2022-02-19T19:32:47.203Z"
   },
   {
    "duration": 20,
    "start_time": "2022-02-19T19:32:47.211Z"
   },
   {
    "duration": 15,
    "start_time": "2022-02-19T19:32:47.233Z"
   },
   {
    "duration": 6,
    "start_time": "2022-02-19T19:32:47.249Z"
   },
   {
    "duration": 7,
    "start_time": "2022-02-19T19:32:47.257Z"
   },
   {
    "duration": 8,
    "start_time": "2022-02-19T19:32:47.267Z"
   },
   {
    "duration": 13,
    "start_time": "2022-02-19T19:32:47.278Z"
   },
   {
    "duration": 9,
    "start_time": "2022-02-19T19:32:47.331Z"
   },
   {
    "duration": 20,
    "start_time": "2022-02-19T19:32:47.341Z"
   },
   {
    "duration": 16,
    "start_time": "2022-02-19T19:32:47.363Z"
   },
   {
    "duration": 20,
    "start_time": "2022-02-19T19:32:47.381Z"
   },
   {
    "duration": 19,
    "start_time": "2022-02-19T19:32:47.431Z"
   },
   {
    "duration": 21,
    "start_time": "2022-02-19T19:32:47.452Z"
   },
   {
    "duration": 10,
    "start_time": "2022-02-19T19:32:47.475Z"
   },
   {
    "duration": 4,
    "start_time": "2022-02-19T19:32:47.487Z"
   },
   {
    "duration": 50,
    "start_time": "2022-02-19T19:32:47.493Z"
   },
   {
    "duration": 17,
    "start_time": "2022-02-19T19:32:47.545Z"
   },
   {
    "duration": 9,
    "start_time": "2022-02-19T19:32:47.564Z"
   },
   {
    "duration": 6,
    "start_time": "2022-02-19T19:32:47.574Z"
   },
   {
    "duration": 8,
    "start_time": "2022-02-19T19:32:47.582Z"
   },
   {
    "duration": 44,
    "start_time": "2022-02-19T19:32:47.593Z"
   },
   {
    "duration": 12,
    "start_time": "2022-02-19T19:32:47.639Z"
   },
   {
    "duration": 5,
    "start_time": "2022-02-19T19:32:47.653Z"
   },
   {
    "duration": 31,
    "start_time": "2022-02-19T19:32:47.660Z"
   },
   {
    "duration": 44,
    "start_time": "2022-02-19T20:33:47.615Z"
   },
   {
    "duration": 629,
    "start_time": "2022-02-19T20:34:04.516Z"
   },
   {
    "duration": 11,
    "start_time": "2022-02-19T20:34:05.147Z"
   },
   {
    "duration": 10,
    "start_time": "2022-02-19T20:34:05.159Z"
   },
   {
    "duration": 4,
    "start_time": "2022-02-19T20:34:05.171Z"
   },
   {
    "duration": 15,
    "start_time": "2022-02-19T20:34:05.176Z"
   },
   {
    "duration": 4,
    "start_time": "2022-02-19T20:34:05.192Z"
   },
   {
    "duration": 35,
    "start_time": "2022-02-19T20:34:05.198Z"
   },
   {
    "duration": 5,
    "start_time": "2022-02-19T20:34:05.236Z"
   },
   {
    "duration": 12,
    "start_time": "2022-02-19T20:34:05.243Z"
   },
   {
    "duration": 6,
    "start_time": "2022-02-19T20:34:05.256Z"
   },
   {
    "duration": 12,
    "start_time": "2022-02-19T20:34:05.264Z"
   },
   {
    "duration": 12,
    "start_time": "2022-02-19T20:34:05.277Z"
   },
   {
    "duration": 58,
    "start_time": "2022-02-19T20:34:05.290Z"
   },
   {
    "duration": 19,
    "start_time": "2022-02-19T20:34:05.349Z"
   },
   {
    "duration": 20,
    "start_time": "2022-02-19T20:34:05.370Z"
   },
   {
    "duration": 9,
    "start_time": "2022-02-19T20:34:05.391Z"
   },
   {
    "duration": 30,
    "start_time": "2022-02-19T20:34:05.402Z"
   },
   {
    "duration": 18,
    "start_time": "2022-02-19T20:34:05.434Z"
   },
   {
    "duration": 15,
    "start_time": "2022-02-19T20:34:05.454Z"
   },
   {
    "duration": 8,
    "start_time": "2022-02-19T20:34:05.471Z"
   },
   {
    "duration": 5,
    "start_time": "2022-02-19T20:34:05.481Z"
   },
   {
    "duration": 43,
    "start_time": "2022-02-19T20:34:05.488Z"
   },
   {
    "duration": 10,
    "start_time": "2022-02-19T20:34:05.534Z"
   },
   {
    "duration": 9,
    "start_time": "2022-02-19T20:34:05.546Z"
   },
   {
    "duration": 5,
    "start_time": "2022-02-19T20:34:05.557Z"
   },
   {
    "duration": 33,
    "start_time": "2022-02-19T20:34:05.563Z"
   },
   {
    "duration": 57,
    "start_time": "2022-02-19T20:41:58.800Z"
   },
   {
    "duration": 20,
    "start_time": "2022-02-19T20:42:31.041Z"
   },
   {
    "duration": 10,
    "start_time": "2022-02-19T20:42:35.338Z"
   },
   {
    "duration": 606,
    "start_time": "2022-02-19T20:42:42.174Z"
   },
   {
    "duration": 12,
    "start_time": "2022-02-19T20:42:42.782Z"
   },
   {
    "duration": 11,
    "start_time": "2022-02-19T20:42:42.797Z"
   },
   {
    "duration": 20,
    "start_time": "2022-02-19T20:42:42.811Z"
   },
   {
    "duration": 11,
    "start_time": "2022-02-19T20:42:42.833Z"
   },
   {
    "duration": 16,
    "start_time": "2022-02-19T20:42:42.846Z"
   },
   {
    "duration": 6,
    "start_time": "2022-02-19T20:42:42.864Z"
   },
   {
    "duration": 7,
    "start_time": "2022-02-19T20:42:42.872Z"
   },
   {
    "duration": 49,
    "start_time": "2022-02-19T20:42:42.882Z"
   },
   {
    "duration": 10,
    "start_time": "2022-02-19T20:42:42.933Z"
   },
   {
    "duration": 6,
    "start_time": "2022-02-19T20:42:42.944Z"
   },
   {
    "duration": 13,
    "start_time": "2022-02-19T20:42:42.951Z"
   },
   {
    "duration": 13,
    "start_time": "2022-02-19T20:42:42.965Z"
   },
   {
    "duration": 57,
    "start_time": "2022-02-19T20:42:42.980Z"
   },
   {
    "duration": 24,
    "start_time": "2022-02-19T20:42:43.039Z"
   },
   {
    "duration": 27,
    "start_time": "2022-02-19T20:42:43.064Z"
   },
   {
    "duration": 10,
    "start_time": "2022-02-19T20:42:43.093Z"
   },
   {
    "duration": 5,
    "start_time": "2022-02-19T20:42:43.130Z"
   },
   {
    "duration": 20,
    "start_time": "2022-02-19T20:42:43.137Z"
   },
   {
    "duration": 18,
    "start_time": "2022-02-19T20:42:43.158Z"
   },
   {
    "duration": 9,
    "start_time": "2022-02-19T20:42:43.178Z"
   },
   {
    "duration": 5,
    "start_time": "2022-02-19T20:42:43.189Z"
   },
   {
    "duration": 42,
    "start_time": "2022-02-19T20:42:43.196Z"
   },
   {
    "duration": 11,
    "start_time": "2022-02-19T20:42:43.240Z"
   },
   {
    "duration": 11,
    "start_time": "2022-02-19T20:42:43.252Z"
   },
   {
    "duration": 9,
    "start_time": "2022-02-19T20:42:43.264Z"
   },
   {
    "duration": 56,
    "start_time": "2022-02-19T20:42:43.275Z"
   },
   {
    "duration": 62,
    "start_time": "2022-02-19T21:44:27.424Z"
   },
   {
    "duration": 65,
    "start_time": "2022-02-19T21:49:30.863Z"
   },
   {
    "duration": 5,
    "start_time": "2022-02-19T22:03:45.533Z"
   },
   {
    "duration": 6,
    "start_time": "2022-02-19T22:03:53.302Z"
   },
   {
    "duration": 64,
    "start_time": "2022-02-19T22:06:05.092Z"
   },
   {
    "duration": 639,
    "start_time": "2022-02-19T22:11:20.726Z"
   },
   {
    "duration": 11,
    "start_time": "2022-02-19T22:11:21.366Z"
   },
   {
    "duration": 10,
    "start_time": "2022-02-19T22:11:21.380Z"
   },
   {
    "duration": 4,
    "start_time": "2022-02-19T22:11:21.392Z"
   },
   {
    "duration": 39,
    "start_time": "2022-02-19T22:11:21.397Z"
   },
   {
    "duration": 5,
    "start_time": "2022-02-19T22:11:21.438Z"
   },
   {
    "duration": 8,
    "start_time": "2022-02-19T22:11:21.445Z"
   },
   {
    "duration": 5,
    "start_time": "2022-02-19T22:11:21.455Z"
   },
   {
    "duration": 10,
    "start_time": "2022-02-19T22:11:21.464Z"
   },
   {
    "duration": 6,
    "start_time": "2022-02-19T22:11:21.476Z"
   },
   {
    "duration": 50,
    "start_time": "2022-02-19T22:11:21.483Z"
   },
   {
    "duration": 14,
    "start_time": "2022-02-19T22:11:21.534Z"
   },
   {
    "duration": 21,
    "start_time": "2022-02-19T22:11:21.549Z"
   },
   {
    "duration": 19,
    "start_time": "2022-02-19T22:11:21.571Z"
   },
   {
    "duration": 50,
    "start_time": "2022-02-19T22:11:21.592Z"
   },
   {
    "duration": 10,
    "start_time": "2022-02-19T22:11:21.643Z"
   },
   {
    "duration": 4,
    "start_time": "2022-02-19T22:11:21.655Z"
   },
   {
    "duration": 17,
    "start_time": "2022-02-19T22:11:21.661Z"
   },
   {
    "duration": 17,
    "start_time": "2022-02-19T22:11:21.679Z"
   },
   {
    "duration": 40,
    "start_time": "2022-02-19T22:11:21.698Z"
   },
   {
    "duration": 6,
    "start_time": "2022-02-19T22:11:21.739Z"
   },
   {
    "duration": 10,
    "start_time": "2022-02-19T22:11:21.746Z"
   },
   {
    "duration": 9,
    "start_time": "2022-02-19T22:11:21.757Z"
   },
   {
    "duration": 9,
    "start_time": "2022-02-19T22:11:21.767Z"
   },
   {
    "duration": 5,
    "start_time": "2022-02-19T22:11:21.778Z"
   },
   {
    "duration": 68,
    "start_time": "2022-02-19T22:11:21.784Z"
   },
   {
    "duration": 842,
    "start_time": "2022-02-20T09:23:23.432Z"
   },
   {
    "duration": 72,
    "start_time": "2022-02-20T09:23:31.857Z"
   },
   {
    "duration": 386,
    "start_time": "2022-02-20T09:29:08.015Z"
   },
   {
    "duration": 10,
    "start_time": "2022-02-20T09:29:44.562Z"
   },
   {
    "duration": 12,
    "start_time": "2022-02-20T09:31:32.998Z"
   },
   {
    "duration": 6,
    "start_time": "2022-02-20T09:36:02.524Z"
   },
   {
    "duration": 206,
    "start_time": "2022-02-20T09:45:49.593Z"
   },
   {
    "duration": 201,
    "start_time": "2022-02-20T09:46:01.484Z"
   },
   {
    "duration": 244,
    "start_time": "2022-02-20T09:47:25.707Z"
   },
   {
    "duration": 223,
    "start_time": "2022-02-20T09:48:02.426Z"
   },
   {
    "duration": 171,
    "start_time": "2022-02-20T09:49:43.897Z"
   },
   {
    "duration": 150,
    "start_time": "2022-02-20T09:50:22.321Z"
   },
   {
    "duration": 934,
    "start_time": "2022-02-20T09:51:03.549Z"
   },
   {
    "duration": 15,
    "start_time": "2022-02-20T09:51:04.486Z"
   },
   {
    "duration": 8,
    "start_time": "2022-02-20T09:51:04.504Z"
   },
   {
    "duration": 6,
    "start_time": "2022-02-20T09:51:04.515Z"
   },
   {
    "duration": 21,
    "start_time": "2022-02-20T09:51:04.562Z"
   },
   {
    "duration": 8,
    "start_time": "2022-02-20T09:51:04.585Z"
   },
   {
    "duration": 7,
    "start_time": "2022-02-20T09:51:04.596Z"
   },
   {
    "duration": 58,
    "start_time": "2022-02-20T09:51:04.607Z"
   },
   {
    "duration": 9,
    "start_time": "2022-02-20T09:51:04.669Z"
   },
   {
    "duration": 10,
    "start_time": "2022-02-20T09:51:04.680Z"
   },
   {
    "duration": 8,
    "start_time": "2022-02-20T09:51:04.692Z"
   },
   {
    "duration": 214,
    "start_time": "2022-02-20T09:51:04.703Z"
   },
   {
    "duration": 14,
    "start_time": "2022-02-20T09:51:04.920Z"
   },
   {
    "duration": 30,
    "start_time": "2022-02-20T09:51:04.936Z"
   },
   {
    "duration": 20,
    "start_time": "2022-02-20T09:51:04.968Z"
   },
   {
    "duration": 20,
    "start_time": "2022-02-20T09:51:04.991Z"
   },
   {
    "duration": 37,
    "start_time": "2022-02-20T09:51:05.062Z"
   },
   {
    "duration": 64,
    "start_time": "2022-02-20T09:51:05.102Z"
   },
   {
    "duration": 43,
    "start_time": "2022-02-20T09:51:05.169Z"
   },
   {
    "duration": 49,
    "start_time": "2022-02-20T09:51:05.215Z"
   },
   {
    "duration": 6,
    "start_time": "2022-02-20T09:51:05.267Z"
   },
   {
    "duration": 30,
    "start_time": "2022-02-20T09:51:05.276Z"
   },
   {
    "duration": 66,
    "start_time": "2022-02-20T09:51:05.310Z"
   },
   {
    "duration": 17,
    "start_time": "2022-02-20T09:51:05.379Z"
   },
   {
    "duration": 8,
    "start_time": "2022-02-20T09:51:05.398Z"
   },
   {
    "duration": 57,
    "start_time": "2022-02-20T09:51:05.408Z"
   },
   {
    "duration": 14,
    "start_time": "2022-02-20T09:51:05.468Z"
   },
   {
    "duration": 14,
    "start_time": "2022-02-20T09:51:05.484Z"
   },
   {
    "duration": 8,
    "start_time": "2022-02-20T09:51:05.500Z"
   },
   {
    "duration": 90,
    "start_time": "2022-02-20T09:51:05.511Z"
   },
   {
    "duration": 148,
    "start_time": "2022-02-20T09:51:46.217Z"
   },
   {
    "duration": 914,
    "start_time": "2022-02-20T09:51:55.735Z"
   },
   {
    "duration": 19,
    "start_time": "2022-02-20T09:51:56.652Z"
   },
   {
    "duration": 9,
    "start_time": "2022-02-20T09:51:56.674Z"
   },
   {
    "duration": 7,
    "start_time": "2022-02-20T09:51:56.685Z"
   },
   {
    "duration": 75,
    "start_time": "2022-02-20T09:51:56.695Z"
   },
   {
    "duration": 7,
    "start_time": "2022-02-20T09:51:56.773Z"
   },
   {
    "duration": 8,
    "start_time": "2022-02-20T09:51:56.782Z"
   },
   {
    "duration": 7,
    "start_time": "2022-02-20T09:51:56.793Z"
   },
   {
    "duration": 60,
    "start_time": "2022-02-20T09:51:56.803Z"
   },
   {
    "duration": 11,
    "start_time": "2022-02-20T09:51:56.865Z"
   },
   {
    "duration": 7,
    "start_time": "2022-02-20T09:51:56.879Z"
   },
   {
    "duration": 197,
    "start_time": "2022-02-20T09:51:56.889Z"
   },
   {
    "duration": 14,
    "start_time": "2022-02-20T09:51:57.088Z"
   },
   {
    "duration": 9,
    "start_time": "2022-02-20T09:51:57.104Z"
   },
   {
    "duration": 60,
    "start_time": "2022-02-20T09:51:57.115Z"
   },
   {
    "duration": 18,
    "start_time": "2022-02-20T09:51:57.178Z"
   },
   {
    "duration": 63,
    "start_time": "2022-02-20T09:51:57.198Z"
   },
   {
    "duration": 30,
    "start_time": "2022-02-20T09:51:57.264Z"
   },
   {
    "duration": 74,
    "start_time": "2022-02-20T09:51:57.297Z"
   },
   {
    "duration": 15,
    "start_time": "2022-02-20T09:51:57.374Z"
   },
   {
    "duration": 12,
    "start_time": "2022-02-20T09:51:57.393Z"
   },
   {
    "duration": 67,
    "start_time": "2022-02-20T09:51:57.408Z"
   },
   {
    "duration": 25,
    "start_time": "2022-02-20T09:51:57.480Z"
   },
   {
    "duration": 54,
    "start_time": "2022-02-20T09:51:57.510Z"
   },
   {
    "duration": 9,
    "start_time": "2022-02-20T09:51:57.566Z"
   },
   {
    "duration": 12,
    "start_time": "2022-02-20T09:51:57.578Z"
   },
   {
    "duration": 11,
    "start_time": "2022-02-20T09:51:57.593Z"
   },
   {
    "duration": 65,
    "start_time": "2022-02-20T09:51:57.606Z"
   },
   {
    "duration": 8,
    "start_time": "2022-02-20T09:51:57.673Z"
   },
   {
    "duration": 84,
    "start_time": "2022-02-20T09:51:57.684Z"
   },
   {
    "duration": 866,
    "start_time": "2022-02-20T09:53:17.672Z"
   },
   {
    "duration": 24,
    "start_time": "2022-02-20T09:53:18.541Z"
   },
   {
    "duration": 10,
    "start_time": "2022-02-20T09:53:18.570Z"
   },
   {
    "duration": 5,
    "start_time": "2022-02-20T09:53:18.583Z"
   },
   {
    "duration": 80,
    "start_time": "2022-02-20T09:53:18.591Z"
   },
   {
    "duration": 6,
    "start_time": "2022-02-20T09:53:18.673Z"
   },
   {
    "duration": 9,
    "start_time": "2022-02-20T09:53:18.682Z"
   },
   {
    "duration": 7,
    "start_time": "2022-02-20T09:53:18.695Z"
   },
   {
    "duration": 56,
    "start_time": "2022-02-20T09:53:18.705Z"
   },
   {
    "duration": 11,
    "start_time": "2022-02-20T09:53:18.764Z"
   },
   {
    "duration": 9,
    "start_time": "2022-02-20T09:53:18.777Z"
   },
   {
    "duration": 13,
    "start_time": "2022-02-20T09:53:18.789Z"
   },
   {
    "duration": 68,
    "start_time": "2022-02-20T09:53:18.804Z"
   },
   {
    "duration": 9,
    "start_time": "2022-02-20T09:53:18.874Z"
   },
   {
    "duration": 20,
    "start_time": "2022-02-20T09:53:18.887Z"
   },
   {
    "duration": 65,
    "start_time": "2022-02-20T09:53:18.910Z"
   },
   {
    "duration": 46,
    "start_time": "2022-02-20T09:53:18.979Z"
   },
   {
    "duration": 62,
    "start_time": "2022-02-20T09:53:19.028Z"
   },
   {
    "duration": 69,
    "start_time": "2022-02-20T09:53:19.093Z"
   },
   {
    "duration": 16,
    "start_time": "2022-02-20T09:53:19.165Z"
   },
   {
    "duration": 9,
    "start_time": "2022-02-20T09:53:19.184Z"
   },
   {
    "duration": 24,
    "start_time": "2022-02-20T09:53:19.196Z"
   },
   {
    "duration": 27,
    "start_time": "2022-02-20T09:53:19.266Z"
   },
   {
    "duration": 21,
    "start_time": "2022-02-20T09:53:19.296Z"
   },
   {
    "duration": 46,
    "start_time": "2022-02-20T09:53:19.320Z"
   },
   {
    "duration": 13,
    "start_time": "2022-02-20T09:53:19.369Z"
   },
   {
    "duration": 13,
    "start_time": "2022-02-20T09:53:19.385Z"
   },
   {
    "duration": 63,
    "start_time": "2022-02-20T09:53:19.400Z"
   },
   {
    "duration": 8,
    "start_time": "2022-02-20T09:53:19.466Z"
   },
   {
    "duration": 94,
    "start_time": "2022-02-20T09:53:19.478Z"
   },
   {
    "duration": 17,
    "start_time": "2022-02-20T09:56:13.824Z"
   },
   {
    "duration": 15,
    "start_time": "2022-02-20T09:56:33.848Z"
   },
   {
    "duration": 14,
    "start_time": "2022-02-20T09:56:40.098Z"
   },
   {
    "duration": 843,
    "start_time": "2022-02-20T09:58:04.477Z"
   },
   {
    "duration": 16,
    "start_time": "2022-02-20T09:58:05.322Z"
   },
   {
    "duration": 25,
    "start_time": "2022-02-20T09:58:05.341Z"
   },
   {
    "duration": 5,
    "start_time": "2022-02-20T09:58:05.369Z"
   },
   {
    "duration": 21,
    "start_time": "2022-02-20T09:58:05.377Z"
   },
   {
    "duration": 7,
    "start_time": "2022-02-20T09:58:05.400Z"
   },
   {
    "duration": 55,
    "start_time": "2022-02-20T09:58:05.410Z"
   },
   {
    "duration": 7,
    "start_time": "2022-02-20T09:58:05.469Z"
   },
   {
    "duration": 10,
    "start_time": "2022-02-20T09:58:05.479Z"
   },
   {
    "duration": 10,
    "start_time": "2022-02-20T09:58:05.491Z"
   },
   {
    "duration": 6,
    "start_time": "2022-02-20T09:58:05.561Z"
   },
   {
    "duration": 16,
    "start_time": "2022-02-20T09:58:05.570Z"
   },
   {
    "duration": 16,
    "start_time": "2022-02-20T09:58:05.589Z"
   },
   {
    "duration": 63,
    "start_time": "2022-02-20T09:58:05.607Z"
   },
   {
    "duration": 8,
    "start_time": "2022-02-20T09:58:05.673Z"
   },
   {
    "duration": 19,
    "start_time": "2022-02-20T09:58:05.685Z"
   },
   {
    "duration": 19,
    "start_time": "2022-02-20T09:58:05.762Z"
   },
   {
    "duration": 33,
    "start_time": "2022-02-20T09:58:05.783Z"
   },
   {
    "duration": 66,
    "start_time": "2022-02-20T09:58:05.819Z"
   },
   {
    "duration": 32,
    "start_time": "2022-02-20T09:58:05.887Z"
   },
   {
    "duration": 40,
    "start_time": "2022-02-20T09:58:05.921Z"
   },
   {
    "duration": 7,
    "start_time": "2022-02-20T09:58:05.964Z"
   },
   {
    "duration": 25,
    "start_time": "2022-02-20T09:58:05.976Z"
   },
   {
    "duration": 73,
    "start_time": "2022-02-20T09:58:06.004Z"
   },
   {
    "duration": 14,
    "start_time": "2022-02-20T09:58:06.079Z"
   },
   {
    "duration": 9,
    "start_time": "2022-02-20T09:58:06.096Z"
   },
   {
    "duration": 60,
    "start_time": "2022-02-20T09:58:06.107Z"
   },
   {
    "duration": 13,
    "start_time": "2022-02-20T09:58:06.170Z"
   },
   {
    "duration": 16,
    "start_time": "2022-02-20T09:58:06.186Z"
   },
   {
    "duration": 55,
    "start_time": "2022-02-20T09:58:06.205Z"
   },
   {
    "duration": 56,
    "start_time": "2022-02-20T09:58:06.263Z"
   },
   {
    "duration": 13,
    "start_time": "2022-02-20T10:04:51.815Z"
   },
   {
    "duration": 12,
    "start_time": "2022-02-20T10:05:01.991Z"
   },
   {
    "duration": 489,
    "start_time": "2022-02-20T10:05:42.444Z"
   },
   {
    "duration": 23,
    "start_time": "2022-02-20T10:05:52.772Z"
   },
   {
    "duration": 19,
    "start_time": "2022-02-20T10:06:23.602Z"
   },
   {
    "duration": 124,
    "start_time": "2022-02-20T10:06:43.493Z"
   },
   {
    "duration": 14,
    "start_time": "2022-02-20T10:06:46.536Z"
   },
   {
    "duration": 346,
    "start_time": "2022-02-20T10:08:00.705Z"
   },
   {
    "duration": 309,
    "start_time": "2022-02-20T10:08:33.084Z"
   },
   {
    "duration": 957,
    "start_time": "2022-02-20T10:12:14.700Z"
   },
   {
    "duration": 15,
    "start_time": "2022-02-20T10:12:15.661Z"
   },
   {
    "duration": 9,
    "start_time": "2022-02-20T10:12:15.680Z"
   },
   {
    "duration": 12,
    "start_time": "2022-02-20T10:12:15.692Z"
   },
   {
    "duration": 69,
    "start_time": "2022-02-20T10:12:15.707Z"
   },
   {
    "duration": 9,
    "start_time": "2022-02-20T10:12:15.778Z"
   },
   {
    "duration": 8,
    "start_time": "2022-02-20T10:12:15.790Z"
   },
   {
    "duration": 63,
    "start_time": "2022-02-20T10:12:15.804Z"
   },
   {
    "duration": 10,
    "start_time": "2022-02-20T10:12:15.870Z"
   },
   {
    "duration": 17,
    "start_time": "2022-02-20T10:12:15.883Z"
   },
   {
    "duration": 7,
    "start_time": "2022-02-20T10:12:15.902Z"
   },
   {
    "duration": 60,
    "start_time": "2022-02-20T10:12:15.913Z"
   },
   {
    "duration": 29,
    "start_time": "2022-02-20T10:12:15.976Z"
   },
   {
    "duration": 15,
    "start_time": "2022-02-20T10:12:16.008Z"
   },
   {
    "duration": 9,
    "start_time": "2022-02-20T10:12:16.062Z"
   },
   {
    "duration": 18,
    "start_time": "2022-02-20T10:12:16.073Z"
   },
   {
    "duration": 84,
    "start_time": "2022-02-20T10:12:16.094Z"
   },
   {
    "duration": 36,
    "start_time": "2022-02-20T10:12:16.180Z"
   },
   {
    "duration": 61,
    "start_time": "2022-02-20T10:12:16.219Z"
   },
   {
    "duration": 37,
    "start_time": "2022-02-20T10:12:16.283Z"
   },
   {
    "duration": 45,
    "start_time": "2022-02-20T10:12:16.323Z"
   },
   {
    "duration": 7,
    "start_time": "2022-02-20T10:12:16.371Z"
   },
   {
    "duration": 29,
    "start_time": "2022-02-20T10:12:16.385Z"
   },
   {
    "duration": 76,
    "start_time": "2022-02-20T10:12:16.418Z"
   },
   {
    "duration": 17,
    "start_time": "2022-02-20T10:12:16.497Z"
   },
   {
    "duration": 459,
    "start_time": "2022-02-20T10:12:16.517Z"
   },
   {
    "duration": -148,
    "start_time": "2022-02-20T10:12:17.127Z"
   },
   {
    "duration": -154,
    "start_time": "2022-02-20T10:12:17.135Z"
   },
   {
    "duration": -161,
    "start_time": "2022-02-20T10:12:17.143Z"
   },
   {
    "duration": -165,
    "start_time": "2022-02-20T10:12:17.149Z"
   },
   {
    "duration": -170,
    "start_time": "2022-02-20T10:12:17.156Z"
   },
   {
    "duration": 312,
    "start_time": "2022-02-20T10:12:34.618Z"
   },
   {
    "duration": 10,
    "start_time": "2022-02-20T10:12:52.700Z"
   },
   {
    "duration": 914,
    "start_time": "2022-02-20T10:14:34.186Z"
   },
   {
    "duration": 16,
    "start_time": "2022-02-20T10:14:35.103Z"
   },
   {
    "duration": 39,
    "start_time": "2022-02-20T10:14:35.124Z"
   },
   {
    "duration": 6,
    "start_time": "2022-02-20T10:14:35.166Z"
   },
   {
    "duration": 23,
    "start_time": "2022-02-20T10:14:35.174Z"
   },
   {
    "duration": 69,
    "start_time": "2022-02-20T10:14:35.200Z"
   },
   {
    "duration": 7,
    "start_time": "2022-02-20T10:14:35.272Z"
   },
   {
    "duration": 10,
    "start_time": "2022-02-20T10:14:35.283Z"
   },
   {
    "duration": 11,
    "start_time": "2022-02-20T10:14:35.297Z"
   },
   {
    "duration": 56,
    "start_time": "2022-02-20T10:14:35.310Z"
   },
   {
    "duration": 15,
    "start_time": "2022-02-20T10:14:35.369Z"
   },
   {
    "duration": 14,
    "start_time": "2022-02-20T10:14:35.386Z"
   },
   {
    "duration": 63,
    "start_time": "2022-02-20T10:14:35.403Z"
   },
   {
    "duration": 14,
    "start_time": "2022-02-20T10:14:35.469Z"
   },
   {
    "duration": 10,
    "start_time": "2022-02-20T10:14:35.485Z"
   },
   {
    "duration": 77,
    "start_time": "2022-02-20T10:14:35.498Z"
   },
   {
    "duration": 19,
    "start_time": "2022-02-20T10:14:35.578Z"
   },
   {
    "duration": 74,
    "start_time": "2022-02-20T10:14:35.600Z"
   },
   {
    "duration": 41,
    "start_time": "2022-02-20T10:14:35.677Z"
   },
   {
    "duration": 81,
    "start_time": "2022-02-20T10:14:35.721Z"
   },
   {
    "duration": 58,
    "start_time": "2022-02-20T10:14:35.805Z"
   },
   {
    "duration": 9,
    "start_time": "2022-02-20T10:14:35.866Z"
   },
   {
    "duration": 36,
    "start_time": "2022-02-20T10:14:35.882Z"
   },
   {
    "duration": 65,
    "start_time": "2022-02-20T10:14:35.922Z"
   },
   {
    "duration": 21,
    "start_time": "2022-02-20T10:14:35.990Z"
   },
   {
    "duration": 49,
    "start_time": "2022-02-20T10:14:36.014Z"
   },
   {
    "duration": 17,
    "start_time": "2022-02-20T10:14:36.066Z"
   },
   {
    "duration": 13,
    "start_time": "2022-02-20T10:14:36.086Z"
   },
   {
    "duration": 65,
    "start_time": "2022-02-20T10:14:36.102Z"
   },
   {
    "duration": 10,
    "start_time": "2022-02-20T10:14:36.170Z"
   },
   {
    "duration": 93,
    "start_time": "2022-02-20T10:14:36.183Z"
   },
   {
    "duration": 1044,
    "start_time": "2022-02-20T10:15:37.641Z"
   },
   {
    "duration": 28,
    "start_time": "2022-02-20T10:15:38.689Z"
   },
   {
    "duration": 13,
    "start_time": "2022-02-20T10:15:38.722Z"
   },
   {
    "duration": 36,
    "start_time": "2022-02-20T10:15:38.738Z"
   },
   {
    "duration": 82,
    "start_time": "2022-02-20T10:15:38.777Z"
   },
   {
    "duration": 41,
    "start_time": "2022-02-20T10:15:38.872Z"
   },
   {
    "duration": 24,
    "start_time": "2022-02-20T10:15:38.917Z"
   },
   {
    "duration": 52,
    "start_time": "2022-02-20T10:15:38.948Z"
   },
   {
    "duration": 33,
    "start_time": "2022-02-20T10:15:39.005Z"
   },
   {
    "duration": 13,
    "start_time": "2022-02-20T10:15:39.041Z"
   },
   {
    "duration": 36,
    "start_time": "2022-02-20T10:15:39.057Z"
   },
   {
    "duration": 45,
    "start_time": "2022-02-20T10:15:39.097Z"
   },
   {
    "duration": 28,
    "start_time": "2022-02-20T10:15:39.146Z"
   },
   {
    "duration": 47,
    "start_time": "2022-02-20T10:15:39.188Z"
   },
   {
    "duration": 46,
    "start_time": "2022-02-20T10:15:39.238Z"
   },
   {
    "duration": 56,
    "start_time": "2022-02-20T10:15:39.288Z"
   },
   {
    "duration": 42,
    "start_time": "2022-02-20T10:15:39.347Z"
   },
   {
    "duration": 109,
    "start_time": "2022-02-20T10:15:39.394Z"
   },
   {
    "duration": 62,
    "start_time": "2022-02-20T10:15:39.508Z"
   },
   {
    "duration": 60,
    "start_time": "2022-02-20T10:15:39.574Z"
   },
   {
    "duration": 105,
    "start_time": "2022-02-20T10:15:39.638Z"
   },
   {
    "duration": 44,
    "start_time": "2022-02-20T10:15:39.746Z"
   },
   {
    "duration": 82,
    "start_time": "2022-02-20T10:15:39.798Z"
   },
   {
    "duration": 74,
    "start_time": "2022-02-20T10:15:39.891Z"
   },
   {
    "duration": 83,
    "start_time": "2022-02-20T10:15:39.983Z"
   },
   {
    "duration": 71,
    "start_time": "2022-02-20T10:15:40.076Z"
   },
   {
    "duration": 38,
    "start_time": "2022-02-20T10:15:40.156Z"
   },
   {
    "duration": 87,
    "start_time": "2022-02-20T10:15:40.204Z"
   },
   {
    "duration": 52,
    "start_time": "2022-02-20T10:15:40.295Z"
   },
   {
    "duration": 17,
    "start_time": "2022-02-20T10:15:40.350Z"
   },
   {
    "duration": 103,
    "start_time": "2022-02-20T10:15:40.371Z"
   },
   {
    "duration": 8,
    "start_time": "2022-02-20T10:22:22.504Z"
   },
   {
    "duration": 9,
    "start_time": "2022-02-20T10:22:29.678Z"
   },
   {
    "duration": 4,
    "start_time": "2022-02-20T10:23:10.303Z"
   },
   {
    "duration": 10,
    "start_time": "2022-02-20T10:23:18.334Z"
   },
   {
    "duration": 107,
    "start_time": "2022-02-20T10:24:59.696Z"
   },
   {
    "duration": 11,
    "start_time": "2022-02-20T10:25:48.329Z"
   },
   {
    "duration": 853,
    "start_time": "2022-02-20T10:26:02.752Z"
   },
   {
    "duration": 15,
    "start_time": "2022-02-20T10:26:03.609Z"
   },
   {
    "duration": 35,
    "start_time": "2022-02-20T10:26:03.627Z"
   },
   {
    "duration": 6,
    "start_time": "2022-02-20T10:26:03.665Z"
   },
   {
    "duration": 400,
    "start_time": "2022-02-20T10:26:03.673Z"
   },
   {
    "duration": -133,
    "start_time": "2022-02-20T10:26:04.214Z"
   },
   {
    "duration": -139,
    "start_time": "2022-02-20T10:26:04.222Z"
   },
   {
    "duration": -157,
    "start_time": "2022-02-20T10:26:04.242Z"
   },
   {
    "duration": -161,
    "start_time": "2022-02-20T10:26:04.249Z"
   },
   {
    "duration": -165,
    "start_time": "2022-02-20T10:26:04.255Z"
   },
   {
    "duration": -171,
    "start_time": "2022-02-20T10:26:04.262Z"
   },
   {
    "duration": -176,
    "start_time": "2022-02-20T10:26:04.269Z"
   },
   {
    "duration": -181,
    "start_time": "2022-02-20T10:26:04.275Z"
   },
   {
    "duration": -186,
    "start_time": "2022-02-20T10:26:04.282Z"
   },
   {
    "duration": -190,
    "start_time": "2022-02-20T10:26:04.288Z"
   },
   {
    "duration": -197,
    "start_time": "2022-02-20T10:26:04.296Z"
   },
   {
    "duration": -201,
    "start_time": "2022-02-20T10:26:04.302Z"
   },
   {
    "duration": -207,
    "start_time": "2022-02-20T10:26:04.310Z"
   },
   {
    "duration": -212,
    "start_time": "2022-02-20T10:26:04.317Z"
   },
   {
    "duration": -219,
    "start_time": "2022-02-20T10:26:04.325Z"
   },
   {
    "duration": -223,
    "start_time": "2022-02-20T10:26:04.330Z"
   },
   {
    "duration": -228,
    "start_time": "2022-02-20T10:26:04.337Z"
   },
   {
    "duration": -244,
    "start_time": "2022-02-20T10:26:04.354Z"
   },
   {
    "duration": -250,
    "start_time": "2022-02-20T10:26:04.361Z"
   },
   {
    "duration": -254,
    "start_time": "2022-02-20T10:26:04.367Z"
   },
   {
    "duration": -259,
    "start_time": "2022-02-20T10:26:04.373Z"
   },
   {
    "duration": -262,
    "start_time": "2022-02-20T10:26:04.378Z"
   },
   {
    "duration": -223,
    "start_time": "2022-02-20T10:26:04.384Z"
   },
   {
    "duration": -227,
    "start_time": "2022-02-20T10:26:04.389Z"
   },
   {
    "duration": -231,
    "start_time": "2022-02-20T10:26:04.395Z"
   },
   {
    "duration": -244,
    "start_time": "2022-02-20T10:26:04.409Z"
   },
   {
    "duration": -248,
    "start_time": "2022-02-20T10:26:04.415Z"
   },
   {
    "duration": -252,
    "start_time": "2022-02-20T10:26:04.421Z"
   },
   {
    "duration": -261,
    "start_time": "2022-02-20T10:26:04.431Z"
   },
   {
    "duration": -265,
    "start_time": "2022-02-20T10:26:04.437Z"
   },
   {
    "duration": -272,
    "start_time": "2022-02-20T10:26:04.446Z"
   },
   {
    "duration": -292,
    "start_time": "2022-02-20T10:26:04.467Z"
   },
   {
    "duration": 899,
    "start_time": "2022-02-20T10:26:35.727Z"
   },
   {
    "duration": 32,
    "start_time": "2022-02-20T10:26:36.629Z"
   },
   {
    "duration": 8,
    "start_time": "2022-02-20T10:26:36.664Z"
   },
   {
    "duration": 7,
    "start_time": "2022-02-20T10:26:36.674Z"
   },
   {
    "duration": 409,
    "start_time": "2022-02-20T10:26:36.684Z"
   },
   {
    "duration": -103,
    "start_time": "2022-02-20T10:26:37.200Z"
   },
   {
    "duration": -109,
    "start_time": "2022-02-20T10:26:37.208Z"
   },
   {
    "duration": -126,
    "start_time": "2022-02-20T10:26:37.226Z"
   },
   {
    "duration": -131,
    "start_time": "2022-02-20T10:26:37.233Z"
   },
   {
    "duration": -137,
    "start_time": "2022-02-20T10:26:37.241Z"
   },
   {
    "duration": -143,
    "start_time": "2022-02-20T10:26:37.248Z"
   },
   {
    "duration": -150,
    "start_time": "2022-02-20T10:26:37.256Z"
   },
   {
    "duration": -156,
    "start_time": "2022-02-20T10:26:37.264Z"
   },
   {
    "duration": -162,
    "start_time": "2022-02-20T10:26:37.271Z"
   },
   {
    "duration": -167,
    "start_time": "2022-02-20T10:26:37.278Z"
   },
   {
    "duration": -173,
    "start_time": "2022-02-20T10:26:37.285Z"
   },
   {
    "duration": -178,
    "start_time": "2022-02-20T10:26:37.292Z"
   },
   {
    "duration": -184,
    "start_time": "2022-02-20T10:26:37.300Z"
   },
   {
    "duration": -189,
    "start_time": "2022-02-20T10:26:37.307Z"
   },
   {
    "duration": -196,
    "start_time": "2022-02-20T10:26:37.316Z"
   },
   {
    "duration": -202,
    "start_time": "2022-02-20T10:26:37.324Z"
   },
   {
    "duration": -220,
    "start_time": "2022-02-20T10:26:37.344Z"
   },
   {
    "duration": -225,
    "start_time": "2022-02-20T10:26:37.351Z"
   },
   {
    "duration": -230,
    "start_time": "2022-02-20T10:26:37.358Z"
   },
   {
    "duration": -235,
    "start_time": "2022-02-20T10:26:37.365Z"
   },
   {
    "duration": -212,
    "start_time": "2022-02-20T10:26:37.372Z"
   },
   {
    "duration": -217,
    "start_time": "2022-02-20T10:26:37.379Z"
   },
   {
    "duration": -221,
    "start_time": "2022-02-20T10:26:37.385Z"
   },
   {
    "duration": -227,
    "start_time": "2022-02-20T10:26:37.392Z"
   },
   {
    "duration": -232,
    "start_time": "2022-02-20T10:26:37.399Z"
   },
   {
    "duration": -237,
    "start_time": "2022-02-20T10:26:37.405Z"
   },
   {
    "duration": -243,
    "start_time": "2022-02-20T10:26:37.413Z"
   },
   {
    "duration": -248,
    "start_time": "2022-02-20T10:26:37.420Z"
   },
   {
    "duration": -254,
    "start_time": "2022-02-20T10:26:37.427Z"
   },
   {
    "duration": -259,
    "start_time": "2022-02-20T10:26:37.434Z"
   },
   {
    "duration": -263,
    "start_time": "2022-02-20T10:26:37.440Z"
   },
   {
    "duration": -281,
    "start_time": "2022-02-20T10:26:37.459Z"
   },
   {
    "duration": 878,
    "start_time": "2022-02-20T10:27:17.110Z"
   },
   {
    "duration": 23,
    "start_time": "2022-02-20T10:27:17.992Z"
   },
   {
    "duration": 8,
    "start_time": "2022-02-20T10:27:18.019Z"
   },
   {
    "duration": 36,
    "start_time": "2022-02-20T10:27:18.030Z"
   },
   {
    "duration": 29,
    "start_time": "2022-02-20T10:27:18.069Z"
   },
   {
    "duration": 8,
    "start_time": "2022-02-20T10:27:18.100Z"
   },
   {
    "duration": 7,
    "start_time": "2022-02-20T10:27:18.161Z"
   },
   {
    "duration": 9,
    "start_time": "2022-02-20T10:27:18.173Z"
   },
   {
    "duration": 10,
    "start_time": "2022-02-20T10:27:18.186Z"
   },
   {
    "duration": 818,
    "start_time": "2022-02-20T10:27:18.198Z"
   },
   {
    "duration": -154,
    "start_time": "2022-02-20T10:27:19.175Z"
   },
   {
    "duration": -159,
    "start_time": "2022-02-20T10:27:19.182Z"
   },
   {
    "duration": -176,
    "start_time": "2022-02-20T10:27:19.201Z"
   },
   {
    "duration": -181,
    "start_time": "2022-02-20T10:27:19.208Z"
   },
   {
    "duration": -186,
    "start_time": "2022-02-20T10:27:19.215Z"
   },
   {
    "duration": -191,
    "start_time": "2022-02-20T10:27:19.222Z"
   },
   {
    "duration": -196,
    "start_time": "2022-02-20T10:27:19.230Z"
   },
   {
    "duration": -201,
    "start_time": "2022-02-20T10:27:19.237Z"
   },
   {
    "duration": -206,
    "start_time": "2022-02-20T10:27:19.245Z"
   },
   {
    "duration": -210,
    "start_time": "2022-02-20T10:27:19.252Z"
   },
   {
    "duration": -215,
    "start_time": "2022-02-20T10:27:19.259Z"
   },
   {
    "duration": -219,
    "start_time": "2022-02-20T10:27:19.265Z"
   },
   {
    "duration": -224,
    "start_time": "2022-02-20T10:27:19.272Z"
   },
   {
    "duration": -229,
    "start_time": "2022-02-20T10:27:19.279Z"
   },
   {
    "duration": -233,
    "start_time": "2022-02-20T10:27:19.285Z"
   },
   {
    "duration": -239,
    "start_time": "2022-02-20T10:27:19.292Z"
   },
   {
    "duration": -258,
    "start_time": "2022-02-20T10:27:19.312Z"
   },
   {
    "duration": -262,
    "start_time": "2022-02-20T10:27:19.318Z"
   },
   {
    "duration": -267,
    "start_time": "2022-02-20T10:27:19.325Z"
   },
   {
    "duration": -270,
    "start_time": "2022-02-20T10:27:19.331Z"
   },
   {
    "duration": -275,
    "start_time": "2022-02-20T10:27:19.338Z"
   },
   {
    "duration": -279,
    "start_time": "2022-02-20T10:27:19.344Z"
   },
   {
    "duration": -283,
    "start_time": "2022-02-20T10:27:19.350Z"
   },
   {
    "duration": -293,
    "start_time": "2022-02-20T10:27:19.361Z"
   },
   {
    "duration": -298,
    "start_time": "2022-02-20T10:27:19.368Z"
   },
   {
    "duration": 941,
    "start_time": "2022-02-20T10:27:37.339Z"
   },
   {
    "duration": 17,
    "start_time": "2022-02-20T10:27:38.283Z"
   },
   {
    "duration": 8,
    "start_time": "2022-02-20T10:27:38.303Z"
   },
   {
    "duration": 49,
    "start_time": "2022-02-20T10:27:38.314Z"
   },
   {
    "duration": 25,
    "start_time": "2022-02-20T10:27:38.366Z"
   },
   {
    "duration": 12,
    "start_time": "2022-02-20T10:27:38.394Z"
   },
   {
    "duration": 65,
    "start_time": "2022-02-20T10:27:38.408Z"
   },
   {
    "duration": 9,
    "start_time": "2022-02-20T10:27:38.477Z"
   },
   {
    "duration": 10,
    "start_time": "2022-02-20T10:27:38.489Z"
   },
   {
    "duration": 63,
    "start_time": "2022-02-20T10:27:38.502Z"
   },
   {
    "duration": 7,
    "start_time": "2022-02-20T10:27:38.569Z"
   },
   {
    "duration": 14,
    "start_time": "2022-02-20T10:27:38.579Z"
   },
   {
    "duration": 14,
    "start_time": "2022-02-20T10:27:38.596Z"
   },
   {
    "duration": 60,
    "start_time": "2022-02-20T10:27:38.613Z"
   },
   {
    "duration": 9,
    "start_time": "2022-02-20T10:27:38.675Z"
   },
   {
    "duration": 23,
    "start_time": "2022-02-20T10:27:38.687Z"
   },
   {
    "duration": 404,
    "start_time": "2022-02-20T10:27:38.762Z"
   },
   {
    "duration": -72,
    "start_time": "2022-02-20T10:27:39.241Z"
   },
   {
    "duration": -93,
    "start_time": "2022-02-20T10:27:39.264Z"
   },
   {
    "duration": -98,
    "start_time": "2022-02-20T10:27:39.271Z"
   },
   {
    "duration": -105,
    "start_time": "2022-02-20T10:27:39.279Z"
   },
   {
    "duration": -110,
    "start_time": "2022-02-20T10:27:39.286Z"
   },
   {
    "duration": -117,
    "start_time": "2022-02-20T10:27:39.294Z"
   },
   {
    "duration": -123,
    "start_time": "2022-02-20T10:27:39.301Z"
   },
   {
    "duration": -142,
    "start_time": "2022-02-20T10:27:39.322Z"
   },
   {
    "duration": -148,
    "start_time": "2022-02-20T10:27:39.330Z"
   },
   {
    "duration": -154,
    "start_time": "2022-02-20T10:27:39.337Z"
   },
   {
    "duration": -159,
    "start_time": "2022-02-20T10:27:39.344Z"
   },
   {
    "duration": -166,
    "start_time": "2022-02-20T10:27:39.352Z"
   },
   {
    "duration": -171,
    "start_time": "2022-02-20T10:27:39.359Z"
   },
   {
    "duration": -177,
    "start_time": "2022-02-20T10:27:39.366Z"
   },
   {
    "duration": -182,
    "start_time": "2022-02-20T10:27:39.373Z"
   },
   {
    "duration": -190,
    "start_time": "2022-02-20T10:27:39.382Z"
   },
   {
    "duration": 834,
    "start_time": "2022-02-20T10:27:59.303Z"
   },
   {
    "duration": 24,
    "start_time": "2022-02-20T10:28:00.139Z"
   },
   {
    "duration": 8,
    "start_time": "2022-02-20T10:28:00.166Z"
   },
   {
    "duration": 35,
    "start_time": "2022-02-20T10:28:00.176Z"
   },
   {
    "duration": 56,
    "start_time": "2022-02-20T10:28:00.214Z"
   },
   {
    "duration": 8,
    "start_time": "2022-02-20T10:28:00.274Z"
   },
   {
    "duration": 13,
    "start_time": "2022-02-20T10:28:00.284Z"
   },
   {
    "duration": 10,
    "start_time": "2022-02-20T10:28:00.302Z"
   },
   {
    "duration": 9,
    "start_time": "2022-02-20T10:28:00.361Z"
   },
   {
    "duration": 26,
    "start_time": "2022-02-20T10:28:00.373Z"
   },
   {
    "duration": 23,
    "start_time": "2022-02-20T10:28:00.402Z"
   },
   {
    "duration": 45,
    "start_time": "2022-02-20T10:28:00.428Z"
   },
   {
    "duration": 16,
    "start_time": "2022-02-20T10:28:00.477Z"
   },
   {
    "duration": 21,
    "start_time": "2022-02-20T10:28:00.496Z"
   },
   {
    "duration": 49,
    "start_time": "2022-02-20T10:28:00.520Z"
   },
   {
    "duration": 23,
    "start_time": "2022-02-20T10:28:00.572Z"
   },
   {
    "duration": 75,
    "start_time": "2022-02-20T10:28:00.597Z"
   },
   {
    "duration": 32,
    "start_time": "2022-02-20T10:28:00.674Z"
   },
   {
    "duration": 66,
    "start_time": "2022-02-20T10:28:00.709Z"
   },
   {
    "duration": 35,
    "start_time": "2022-02-20T10:28:00.777Z"
   },
   {
    "duration": 58,
    "start_time": "2022-02-20T10:28:00.815Z"
   },
   {
    "duration": 8,
    "start_time": "2022-02-20T10:28:00.877Z"
   },
   {
    "duration": 36,
    "start_time": "2022-02-20T10:28:00.891Z"
   },
   {
    "duration": 27,
    "start_time": "2022-02-20T10:28:00.963Z"
   },
   {
    "duration": 12,
    "start_time": "2022-02-20T10:28:00.992Z"
   },
   {
    "duration": 9,
    "start_time": "2022-02-20T10:28:01.007Z"
   },
   {
    "duration": 11,
    "start_time": "2022-02-20T10:28:01.061Z"
   },
   {
    "duration": 17,
    "start_time": "2022-02-20T10:28:01.075Z"
   },
   {
    "duration": 11,
    "start_time": "2022-02-20T10:28:01.094Z"
   },
   {
    "duration": 155,
    "start_time": "2022-02-20T10:28:01.107Z"
   },
   {
    "duration": -66,
    "start_time": "2022-02-20T10:28:01.331Z"
   },
   {
    "duration": -79,
    "start_time": "2022-02-20T10:28:01.345Z"
   },
   {
    "duration": 13,
    "start_time": "2022-02-20T10:28:52.338Z"
   },
   {
    "duration": 380,
    "start_time": "2022-02-20T10:29:09.820Z"
   },
   {
    "duration": 12,
    "start_time": "2022-02-20T10:29:27.909Z"
   },
   {
    "duration": 11,
    "start_time": "2022-02-20T10:29:46.585Z"
   },
   {
    "duration": 11,
    "start_time": "2022-02-20T10:30:07.298Z"
   },
   {
    "duration": 53,
    "start_time": "2022-02-20T10:30:09.118Z"
   },
   {
    "duration": 971,
    "start_time": "2022-02-20T10:34:10.564Z"
   },
   {
    "duration": 28,
    "start_time": "2022-02-20T10:34:11.538Z"
   },
   {
    "duration": 8,
    "start_time": "2022-02-20T10:34:11.572Z"
   },
   {
    "duration": 11,
    "start_time": "2022-02-20T10:34:11.583Z"
   },
   {
    "duration": 78,
    "start_time": "2022-02-20T10:34:11.596Z"
   },
   {
    "duration": 9,
    "start_time": "2022-02-20T10:34:11.677Z"
   },
   {
    "duration": 10,
    "start_time": "2022-02-20T10:34:11.692Z"
   },
   {
    "duration": 58,
    "start_time": "2022-02-20T10:34:11.707Z"
   },
   {
    "duration": 13,
    "start_time": "2022-02-20T10:34:11.768Z"
   },
   {
    "duration": 16,
    "start_time": "2022-02-20T10:34:11.784Z"
   },
   {
    "duration": 7,
    "start_time": "2022-02-20T10:34:11.803Z"
   },
   {
    "duration": 55,
    "start_time": "2022-02-20T10:34:11.812Z"
   },
   {
    "duration": 15,
    "start_time": "2022-02-20T10:34:11.869Z"
   },
   {
    "duration": 16,
    "start_time": "2022-02-20T10:34:11.886Z"
   },
   {
    "duration": 61,
    "start_time": "2022-02-20T10:34:11.904Z"
   },
   {
    "duration": 21,
    "start_time": "2022-02-20T10:34:11.967Z"
   },
   {
    "duration": 18,
    "start_time": "2022-02-20T10:34:11.991Z"
   },
   {
    "duration": 31,
    "start_time": "2022-02-20T10:34:12.061Z"
   },
   {
    "duration": 74,
    "start_time": "2022-02-20T10:34:12.094Z"
   },
   {
    "duration": 34,
    "start_time": "2022-02-20T10:34:12.171Z"
   },
   {
    "duration": 63,
    "start_time": "2022-02-20T10:34:12.208Z"
   },
   {
    "duration": 8,
    "start_time": "2022-02-20T10:34:12.278Z"
   },
   {
    "duration": 29,
    "start_time": "2022-02-20T10:34:12.289Z"
   },
   {
    "duration": 25,
    "start_time": "2022-02-20T10:34:12.361Z"
   },
   {
    "duration": 23,
    "start_time": "2022-02-20T10:34:12.388Z"
   },
   {
    "duration": 10,
    "start_time": "2022-02-20T10:34:12.413Z"
   },
   {
    "duration": 47,
    "start_time": "2022-02-20T10:34:12.425Z"
   },
   {
    "duration": 10,
    "start_time": "2022-02-20T10:34:12.475Z"
   },
   {
    "duration": 11,
    "start_time": "2022-02-20T10:34:12.487Z"
   },
   {
    "duration": 60,
    "start_time": "2022-02-20T10:34:12.501Z"
   },
   {
    "duration": 51,
    "start_time": "2022-02-20T10:34:12.564Z"
   },
   {
    "duration": 881,
    "start_time": "2022-02-20T10:34:58.213Z"
   },
   {
    "duration": 18,
    "start_time": "2022-02-20T10:34:59.097Z"
   },
   {
    "duration": 46,
    "start_time": "2022-02-20T10:34:59.119Z"
   },
   {
    "duration": 11,
    "start_time": "2022-02-20T10:34:59.169Z"
   },
   {
    "duration": 23,
    "start_time": "2022-02-20T10:34:59.182Z"
   },
   {
    "duration": 7,
    "start_time": "2022-02-20T10:34:59.207Z"
   },
   {
    "duration": 49,
    "start_time": "2022-02-20T10:34:59.217Z"
   },
   {
    "duration": 9,
    "start_time": "2022-02-20T10:34:59.273Z"
   },
   {
    "duration": 11,
    "start_time": "2022-02-20T10:34:59.286Z"
   },
   {
    "duration": 61,
    "start_time": "2022-02-20T10:34:59.300Z"
   },
   {
    "duration": 7,
    "start_time": "2022-02-20T10:34:59.364Z"
   },
   {
    "duration": 16,
    "start_time": "2022-02-20T10:34:59.373Z"
   },
   {
    "duration": 15,
    "start_time": "2022-02-20T10:34:59.391Z"
   },
   {
    "duration": 65,
    "start_time": "2022-02-20T10:34:59.409Z"
   },
   {
    "duration": 9,
    "start_time": "2022-02-20T10:34:59.477Z"
   },
   {
    "duration": 20,
    "start_time": "2022-02-20T10:34:59.488Z"
   },
   {
    "duration": 19,
    "start_time": "2022-02-20T10:34:59.561Z"
   },
   {
    "duration": 32,
    "start_time": "2022-02-20T10:34:59.582Z"
   },
   {
    "duration": 70,
    "start_time": "2022-02-20T10:34:59.617Z"
   },
   {
    "duration": 34,
    "start_time": "2022-02-20T10:34:59.690Z"
   },
   {
    "duration": 59,
    "start_time": "2022-02-20T10:34:59.727Z"
   },
   {
    "duration": 7,
    "start_time": "2022-02-20T10:34:59.788Z"
   },
   {
    "duration": 72,
    "start_time": "2022-02-20T10:34:59.799Z"
   },
   {
    "duration": 27,
    "start_time": "2022-02-20T10:34:59.874Z"
   },
   {
    "duration": 10,
    "start_time": "2022-02-20T10:34:59.904Z"
   },
   {
    "duration": 50,
    "start_time": "2022-02-20T10:34:59.917Z"
   },
   {
    "duration": 10,
    "start_time": "2022-02-20T10:34:59.969Z"
   },
   {
    "duration": 14,
    "start_time": "2022-02-20T10:34:59.982Z"
   },
   {
    "duration": 64,
    "start_time": "2022-02-20T10:34:59.999Z"
   },
   {
    "duration": 9,
    "start_time": "2022-02-20T10:35:00.066Z"
   },
   {
    "duration": 102,
    "start_time": "2022-02-20T10:35:00.079Z"
   },
   {
    "duration": 963,
    "start_time": "2022-02-20T10:52:18.673Z"
   },
   {
    "duration": 22,
    "start_time": "2022-02-20T10:52:19.639Z"
   },
   {
    "duration": 7,
    "start_time": "2022-02-20T10:52:19.665Z"
   },
   {
    "duration": 7,
    "start_time": "2022-02-20T10:52:19.675Z"
   },
   {
    "duration": 78,
    "start_time": "2022-02-20T10:52:19.685Z"
   },
   {
    "duration": 8,
    "start_time": "2022-02-20T10:52:19.766Z"
   },
   {
    "duration": 6,
    "start_time": "2022-02-20T10:52:19.776Z"
   },
   {
    "duration": 7,
    "start_time": "2022-02-20T10:52:19.787Z"
   },
   {
    "duration": 65,
    "start_time": "2022-02-20T10:52:19.797Z"
   },
   {
    "duration": 10,
    "start_time": "2022-02-20T10:52:19.865Z"
   },
   {
    "duration": 9,
    "start_time": "2022-02-20T10:52:19.878Z"
   },
   {
    "duration": 13,
    "start_time": "2022-02-20T10:52:19.889Z"
   },
   {
    "duration": 68,
    "start_time": "2022-02-20T10:52:19.904Z"
   },
   {
    "duration": 17,
    "start_time": "2022-02-20T10:52:19.974Z"
   },
   {
    "duration": 9,
    "start_time": "2022-02-20T10:52:19.993Z"
   },
   {
    "duration": 20,
    "start_time": "2022-02-20T10:52:20.060Z"
   },
   {
    "duration": 17,
    "start_time": "2022-02-20T10:52:20.083Z"
   },
   {
    "duration": 79,
    "start_time": "2022-02-20T10:52:20.103Z"
   },
   {
    "duration": 77,
    "start_time": "2022-02-20T10:52:20.184Z"
   },
   {
    "duration": 47,
    "start_time": "2022-02-20T10:52:20.265Z"
   },
   {
    "duration": 64,
    "start_time": "2022-02-20T10:52:20.315Z"
   },
   {
    "duration": 6,
    "start_time": "2022-02-20T10:52:20.382Z"
   },
   {
    "duration": 23,
    "start_time": "2022-02-20T10:52:20.393Z"
   },
   {
    "duration": 78,
    "start_time": "2022-02-20T10:52:20.419Z"
   },
   {
    "duration": 13,
    "start_time": "2022-02-20T10:52:20.501Z"
   },
   {
    "duration": 47,
    "start_time": "2022-02-20T10:52:20.518Z"
   },
   {
    "duration": 10,
    "start_time": "2022-02-20T10:52:20.568Z"
   },
   {
    "duration": 13,
    "start_time": "2022-02-20T10:52:20.582Z"
   },
   {
    "duration": 66,
    "start_time": "2022-02-20T10:52:20.597Z"
   },
   {
    "duration": 11,
    "start_time": "2022-02-20T10:52:20.666Z"
   },
   {
    "duration": 86,
    "start_time": "2022-02-20T10:52:20.680Z"
   }
  ],
  "celltoolbar": "Отсутствует",
  "kernelspec": {
   "display_name": "Python 3 (ipykernel)",
   "language": "python",
   "name": "python3"
  },
  "language_info": {
   "codemirror_mode": {
    "name": "ipython",
    "version": 3
   },
   "file_extension": ".py",
   "mimetype": "text/x-python",
   "name": "python",
   "nbconvert_exporter": "python",
   "pygments_lexer": "ipython3",
   "version": "3.7.8"
  },
  "toc": {
   "base_numbering": 1,
   "nav_menu": {},
   "number_sections": false,
   "sideBar": true,
   "skip_h1_title": true,
   "title_cell": "Table of Contents",
   "title_sidebar": "Contents",
   "toc_cell": false,
   "toc_position": {
    "height": "calc(100% - 180px)",
    "left": "10px",
    "top": "150px",
    "width": "304px"
   },
   "toc_section_display": true,
   "toc_window_display": true
  },
  "widgets": {
   "application/vnd.jupyter.widget-state+json": {
    "state": {},
    "version_major": 2,
    "version_minor": 0
   }
  }
 },
 "nbformat": 4,
 "nbformat_minor": 5
}
