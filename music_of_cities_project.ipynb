{
 "cells": [
  {
   "cell_type": "markdown",
   "metadata": {
    "id": "E0vqbgi9ay0H"
   },
   "source": [
    "# Яндекс.Музыка"
   ]
  },
  {
   "cell_type": "markdown",
   "metadata": {
    "id": "VUC88oWjTJw2"
   },
   "source": [
    "Сравнение Москвы и Петербурга окружено мифами. Например:\n",
    " * Москва — мегаполис, подчинённый жёсткому ритму рабочей недели;\n",
    " * Петербург — культурная столица, со своими вкусами.\n",
    "\n",
    "На данных Яндекс.Музыки вы сравните поведение пользователей двух столиц.\n",
    "\n",
    "**Цель исследования** — проверьте три гипотезы:\n",
    "1. Активность пользователей зависит от дня недели. Причём в Москве и Петербурге это проявляется по-разному.\n",
    "2. В понедельник утром в Москве преобладают одни жанры, а в Петербурге — другие. Так же и вечером пятницы преобладают разные жанры — в зависимости от города. \n",
    "3. Москва и Петербург предпочитают разные жанры музыки. В Москве чаще слушают поп-музыку, в Петербурге — русский рэп.\n",
    "\n",
    "**Ход исследования**\n",
    "\n",
    "Данные о поведении пользователей вы получите из файла `yandex_music_project.csv`. О качестве данных ничего не известно. Поэтому перед проверкой гипотез понадобится обзор данных. \n",
    "\n",
    "Вы проверите данные на ошибки и оцените их влияние на исследование. Затем, на этапе предобработки вы поищете возможность исправить самые критичные ошибки данных.\n",
    " \n",
    "Таким образом, исследование пройдёт в три этапа:\n",
    " 1. Обзор данных.\n",
    " 2. Предобработка данных.\n",
    " 3. Проверка гипотез.\n",
    "\n"
   ]
  },
  {
   "cell_type": "markdown",
   "metadata": {
    "id": "Ml1hmfXC_Zcs"
   },
   "source": [
    "## Обзор данных\n",
    "\n",
    "Составьте первое представление о данных Яндекс.Музыки.\n",
    "\n",
    "\n"
   ]
  },
  {
   "cell_type": "markdown",
   "metadata": {
    "id": "57eAOGIz_Zcs"
   },
   "source": [
    "Основной инструмент аналитика — `pandas`. Импортируйте эту библиотеку."
   ]
  },
  {
   "cell_type": "code",
   "execution_count": 1,
   "metadata": {
    "id": "AXN7PHPN_Zcs"
   },
   "outputs": [],
   "source": [
    "import pandas as pd# импорт библиотеки pandas"
   ]
  },
  {
   "cell_type": "markdown",
   "metadata": {
    "id": "SG23P8tt_Zcs"
   },
   "source": [
    "Прочитайте файл `yandex_music_project.csv` из папки `/datasets` и сохраните его в переменной `df`:"
   ]
  },
  {
   "cell_type": "code",
   "execution_count": 2,
   "metadata": {
    "id": "fFVu7vqh_Zct"
   },
   "outputs": [],
   "source": [
    "df = pd.read_csv('yandex_music_project.csv')# чтение файла с данными и сохранение в df"
   ]
  },
  {
   "cell_type": "markdown",
   "metadata": {
    "id": "rDoOMd3uTqnZ"
   },
   "source": [
    "Выведите на экран первые десять строк таблицы:"
   ]
  },
  {
   "cell_type": "code",
   "execution_count": 3,
   "metadata": {
    "id": "oWTVX3gW_Zct"
   },
   "outputs": [
    {
     "data": {
      "text/html": [
       "<div>\n",
       "<style scoped>\n",
       "    .dataframe tbody tr th:only-of-type {\n",
       "        vertical-align: middle;\n",
       "    }\n",
       "\n",
       "    .dataframe tbody tr th {\n",
       "        vertical-align: top;\n",
       "    }\n",
       "\n",
       "    .dataframe thead th {\n",
       "        text-align: right;\n",
       "    }\n",
       "</style>\n",
       "<table border=\"1\" class=\"dataframe\">\n",
       "  <thead>\n",
       "    <tr style=\"text-align: right;\">\n",
       "      <th></th>\n",
       "      <th>Unnamed: 0</th>\n",
       "      <th>userID</th>\n",
       "      <th>Track</th>\n",
       "      <th>artist</th>\n",
       "      <th>genre</th>\n",
       "      <th>City</th>\n",
       "      <th>time</th>\n",
       "      <th>Day</th>\n",
       "    </tr>\n",
       "  </thead>\n",
       "  <tbody>\n",
       "    <tr>\n",
       "      <td>0</td>\n",
       "      <td>0</td>\n",
       "      <td>FFB692EC</td>\n",
       "      <td>Kamigata To Boots</td>\n",
       "      <td>The Mass Missile</td>\n",
       "      <td>rock</td>\n",
       "      <td>Saint-Petersburg</td>\n",
       "      <td>20:28:33</td>\n",
       "      <td>Wednesday</td>\n",
       "    </tr>\n",
       "    <tr>\n",
       "      <td>1</td>\n",
       "      <td>1</td>\n",
       "      <td>55204538</td>\n",
       "      <td>Delayed Because of Accident</td>\n",
       "      <td>Andreas Rönnberg</td>\n",
       "      <td>rock</td>\n",
       "      <td>Moscow</td>\n",
       "      <td>14:07:09</td>\n",
       "      <td>Friday</td>\n",
       "    </tr>\n",
       "    <tr>\n",
       "      <td>2</td>\n",
       "      <td>2</td>\n",
       "      <td>20EC38</td>\n",
       "      <td>Funiculì funiculà</td>\n",
       "      <td>Mario Lanza</td>\n",
       "      <td>pop</td>\n",
       "      <td>Saint-Petersburg</td>\n",
       "      <td>20:58:07</td>\n",
       "      <td>Wednesday</td>\n",
       "    </tr>\n",
       "    <tr>\n",
       "      <td>3</td>\n",
       "      <td>3</td>\n",
       "      <td>A3DD03C9</td>\n",
       "      <td>Dragons in the Sunset</td>\n",
       "      <td>Fire + Ice</td>\n",
       "      <td>folk</td>\n",
       "      <td>Saint-Petersburg</td>\n",
       "      <td>08:37:09</td>\n",
       "      <td>Monday</td>\n",
       "    </tr>\n",
       "    <tr>\n",
       "      <td>4</td>\n",
       "      <td>4</td>\n",
       "      <td>E2DC1FAE</td>\n",
       "      <td>Soul People</td>\n",
       "      <td>Space Echo</td>\n",
       "      <td>dance</td>\n",
       "      <td>Moscow</td>\n",
       "      <td>08:34:34</td>\n",
       "      <td>Monday</td>\n",
       "    </tr>\n",
       "    <tr>\n",
       "      <td>5</td>\n",
       "      <td>5</td>\n",
       "      <td>842029A1</td>\n",
       "      <td>Преданная</td>\n",
       "      <td>IMPERVTOR</td>\n",
       "      <td>rusrap</td>\n",
       "      <td>Saint-Petersburg</td>\n",
       "      <td>13:09:41</td>\n",
       "      <td>Friday</td>\n",
       "    </tr>\n",
       "    <tr>\n",
       "      <td>6</td>\n",
       "      <td>6</td>\n",
       "      <td>4CB90AA5</td>\n",
       "      <td>True</td>\n",
       "      <td>Roman Messer</td>\n",
       "      <td>dance</td>\n",
       "      <td>Moscow</td>\n",
       "      <td>13:00:07</td>\n",
       "      <td>Wednesday</td>\n",
       "    </tr>\n",
       "    <tr>\n",
       "      <td>7</td>\n",
       "      <td>7</td>\n",
       "      <td>F03E1C1F</td>\n",
       "      <td>Feeling This Way</td>\n",
       "      <td>Polina Griffith</td>\n",
       "      <td>dance</td>\n",
       "      <td>Moscow</td>\n",
       "      <td>20:47:49</td>\n",
       "      <td>Wednesday</td>\n",
       "    </tr>\n",
       "    <tr>\n",
       "      <td>8</td>\n",
       "      <td>8</td>\n",
       "      <td>8FA1D3BE</td>\n",
       "      <td>И вновь продолжается бой</td>\n",
       "      <td>NaN</td>\n",
       "      <td>ruspop</td>\n",
       "      <td>Moscow</td>\n",
       "      <td>09:17:40</td>\n",
       "      <td>Friday</td>\n",
       "    </tr>\n",
       "    <tr>\n",
       "      <td>9</td>\n",
       "      <td>9</td>\n",
       "      <td>E772D5C0</td>\n",
       "      <td>Pessimist</td>\n",
       "      <td>NaN</td>\n",
       "      <td>dance</td>\n",
       "      <td>Saint-Petersburg</td>\n",
       "      <td>21:20:49</td>\n",
       "      <td>Wednesday</td>\n",
       "    </tr>\n",
       "  </tbody>\n",
       "</table>\n",
       "</div>"
      ],
      "text/plain": [
       "   Unnamed: 0    userID                        Track            artist  \\\n",
       "0           0  FFB692EC            Kamigata To Boots  The Mass Missile   \n",
       "1           1  55204538  Delayed Because of Accident  Andreas Rönnberg   \n",
       "2           2    20EC38            Funiculì funiculà       Mario Lanza   \n",
       "3           3  A3DD03C9        Dragons in the Sunset        Fire + Ice   \n",
       "4           4  E2DC1FAE                  Soul People        Space Echo   \n",
       "5           5  842029A1                    Преданная         IMPERVTOR   \n",
       "6           6  4CB90AA5                         True      Roman Messer   \n",
       "7           7  F03E1C1F             Feeling This Way   Polina Griffith   \n",
       "8           8  8FA1D3BE     И вновь продолжается бой               NaN   \n",
       "9           9  E772D5C0                    Pessimist               NaN   \n",
       "\n",
       "    genre            City        time        Day  \n",
       "0    rock  Saint-Petersburg  20:28:33  Wednesday  \n",
       "1    rock            Moscow  14:07:09     Friday  \n",
       "2     pop  Saint-Petersburg  20:58:07  Wednesday  \n",
       "3    folk  Saint-Petersburg  08:37:09     Monday  \n",
       "4   dance            Moscow  08:34:34     Monday  \n",
       "5  rusrap  Saint-Petersburg  13:09:41     Friday  \n",
       "6   dance            Moscow  13:00:07  Wednesday  \n",
       "7   dance            Moscow  20:47:49  Wednesday  \n",
       "8  ruspop            Moscow  09:17:40     Friday  \n",
       "9   dance  Saint-Petersburg  21:20:49  Wednesday  "
      ]
     },
     "execution_count": 3,
     "metadata": {},
     "output_type": "execute_result"
    }
   ],
   "source": [
    "df.head(10)# получение первых 10 строк таблицы df"
   ]
  },
  {
   "cell_type": "code",
   "execution_count": 4,
   "metadata": {},
   "outputs": [
    {
     "data": {
      "text/html": [
       "<div>\n",
       "<style scoped>\n",
       "    .dataframe tbody tr th:only-of-type {\n",
       "        vertical-align: middle;\n",
       "    }\n",
       "\n",
       "    .dataframe tbody tr th {\n",
       "        vertical-align: top;\n",
       "    }\n",
       "\n",
       "    .dataframe thead th {\n",
       "        text-align: right;\n",
       "    }\n",
       "</style>\n",
       "<table border=\"1\" class=\"dataframe\">\n",
       "  <thead>\n",
       "    <tr style=\"text-align: right;\">\n",
       "      <th></th>\n",
       "      <th>Unnamed: 0</th>\n",
       "      <th>userID</th>\n",
       "      <th>Track</th>\n",
       "      <th>artist</th>\n",
       "      <th>genre</th>\n",
       "      <th>City</th>\n",
       "      <th>time</th>\n",
       "      <th>Day</th>\n",
       "    </tr>\n",
       "  </thead>\n",
       "  <tbody>\n",
       "    <tr>\n",
       "      <td>65074</td>\n",
       "      <td>65074</td>\n",
       "      <td>729CBB09</td>\n",
       "      <td>My Name</td>\n",
       "      <td>McLean</td>\n",
       "      <td>rnb</td>\n",
       "      <td>Moscow</td>\n",
       "      <td>13:32:28</td>\n",
       "      <td>Wednesday</td>\n",
       "    </tr>\n",
       "    <tr>\n",
       "      <td>65075</td>\n",
       "      <td>65075</td>\n",
       "      <td>D08D4A55</td>\n",
       "      <td>Maybe One Day (feat. Black Spade)</td>\n",
       "      <td>Blu &amp; Exile</td>\n",
       "      <td>hip</td>\n",
       "      <td>Saint-Petersburg</td>\n",
       "      <td>10:00:00</td>\n",
       "      <td>Monday</td>\n",
       "    </tr>\n",
       "    <tr>\n",
       "      <td>65076</td>\n",
       "      <td>65076</td>\n",
       "      <td>C5E3A0D5</td>\n",
       "      <td>Jalopiina</td>\n",
       "      <td>NaN</td>\n",
       "      <td>industrial</td>\n",
       "      <td>Moscow</td>\n",
       "      <td>20:09:26</td>\n",
       "      <td>Friday</td>\n",
       "    </tr>\n",
       "    <tr>\n",
       "      <td>65077</td>\n",
       "      <td>65077</td>\n",
       "      <td>321D0506</td>\n",
       "      <td>Freight Train</td>\n",
       "      <td>Chas McDevitt</td>\n",
       "      <td>rock</td>\n",
       "      <td>Moscow</td>\n",
       "      <td>21:43:59</td>\n",
       "      <td>Friday</td>\n",
       "    </tr>\n",
       "    <tr>\n",
       "      <td>65078</td>\n",
       "      <td>65078</td>\n",
       "      <td>3A64EF84</td>\n",
       "      <td>Tell Me Sweet Little Lies</td>\n",
       "      <td>Monica Lopez</td>\n",
       "      <td>country</td>\n",
       "      <td>Moscow</td>\n",
       "      <td>21:59:46</td>\n",
       "      <td>Friday</td>\n",
       "    </tr>\n",
       "  </tbody>\n",
       "</table>\n",
       "</div>"
      ],
      "text/plain": [
       "       Unnamed: 0    userID                              Track         artist  \\\n",
       "65074       65074  729CBB09                            My Name         McLean   \n",
       "65075       65075  D08D4A55  Maybe One Day (feat. Black Spade)    Blu & Exile   \n",
       "65076       65076  C5E3A0D5                          Jalopiina            NaN   \n",
       "65077       65077  321D0506                      Freight Train  Chas McDevitt   \n",
       "65078       65078  3A64EF84          Tell Me Sweet Little Lies   Monica Lopez   \n",
       "\n",
       "            genre            City        time        Day  \n",
       "65074         rnb            Moscow  13:32:28  Wednesday  \n",
       "65075         hip  Saint-Petersburg  10:00:00     Monday  \n",
       "65076  industrial            Moscow  20:09:26     Friday  \n",
       "65077        rock            Moscow  21:43:59     Friday  \n",
       "65078     country            Moscow  21:59:46     Friday  "
      ]
     },
     "execution_count": 4,
     "metadata": {},
     "output_type": "execute_result"
    }
   ],
   "source": [
    "# Комментарий ревьюера\n",
    "df.tail(5)"
   ]
  },
  {
   "cell_type": "markdown",
   "metadata": {
    "id": "EO73Kwic_Zct"
   },
   "source": [
    "Одной командой получить общую информацию о таблице:"
   ]
  },
  {
   "cell_type": "code",
   "execution_count": 5,
   "metadata": {
    "id": "DSf2kIb-_Zct",
    "scrolled": true
   },
   "outputs": [
    {
     "name": "stdout",
     "output_type": "stream",
     "text": [
      "<class 'pandas.core.frame.DataFrame'>\n",
      "RangeIndex: 65079 entries, 0 to 65078\n",
      "Data columns (total 8 columns):\n",
      "Unnamed: 0    65079 non-null int64\n",
      "  userID      65079 non-null object\n",
      "Track         63848 non-null object\n",
      "artist        57876 non-null object\n",
      "genre         63881 non-null object\n",
      "  City        65079 non-null object\n",
      "time          65079 non-null object\n",
      "Day           65079 non-null object\n",
      "dtypes: int64(1), object(7)\n",
      "memory usage: 4.0+ MB\n"
     ]
    }
   ],
   "source": [
    "df.info()# получение общей информации о данных в таблице df"
   ]
  },
  {
   "cell_type": "markdown",
   "metadata": {
    "id": "TaQ2Iwbr_Zct"
   },
   "source": [
    "Итак, в таблице семь столбцов. Тип данных во всех столбцах — `object`.\n",
    "\n",
    "Согласно документации к данным:\n",
    "* `userID` — идентификатор пользователя;\n",
    "* `Track` — название трека;  \n",
    "* `artist` — имя исполнителя;\n",
    "* `genre` — название жанра;\n",
    "* `City` — город пользователя;\n",
    "* `time` — время начала прослушивания;\n",
    "* `Day` — день недели.\n",
    "\n",
    "В названиях колонок видны три нарушения стиля:\n",
    "1. Строчные буквы сочетаются с прописными.\n",
    "2. Встречаются пробелы.\n",
    "3. Из названия столбцов не совсем понятно о чем они говорят.\n",
    "\n",
    "\n",
    "\n",
    "Количество значений в столбцах различается. Значит, в данных есть пропущенные значения.\n"
   ]
  },
  {
   "cell_type": "markdown",
   "metadata": {
    "id": "MCB6-dXG_Zct"
   },
   "source": [
    "**Выводы**\n",
    "\n",
    "В каждой строке таблицы — данные о прослушанном треке. Часть колонок описывает саму композицию: название, исполнителя и жанр. Остальные данные рассказывают о пользователе: из какого он города, когда он слушал музыку. \n",
    "\n",
    "Предварительно можно утверждать, что, данных достаточно для проверки гипотез. Но встречаются пропуски в данных, а в названиях колонок — расхождения с хорошим стилем.\n",
    "\n",
    "Чтобы двигаться дальше, нужно устранить проблемы в данных."
   ]
  },
  {
   "cell_type": "markdown",
   "metadata": {
    "id": "SjYF6Ub9_Zct"
   },
   "source": [
    "## Предобработка данных\n",
    "Исправьте стиль в заголовках столбцов, исключите пропуски. Затем проверьте данные на дубликаты."
   ]
  },
  {
   "cell_type": "markdown",
   "metadata": {
    "id": "dIaKXr29_Zct"
   },
   "source": [
    "### Стиль заголовков\n",
    "Выведите на экран названия столбцов:"
   ]
  },
  {
   "cell_type": "code",
   "execution_count": 6,
   "metadata": {
    "id": "oKOTdF_Q_Zct"
   },
   "outputs": [
    {
     "data": {
      "text/plain": [
       "Index(['Unnamed: 0', '  userID', 'Track', 'artist', 'genre', '  City  ',\n",
       "       'time', 'Day'],\n",
       "      dtype='object')"
      ]
     },
     "execution_count": 6,
     "metadata": {},
     "output_type": "execute_result"
    }
   ],
   "source": [
    "df.columns# перечень названий столбцов таблицы df"
   ]
  },
  {
   "cell_type": "markdown",
   "metadata": {
    "id": "zj5534cv_Zct"
   },
   "source": [
    "Приведите названия в соответствие с хорошим стилем:\n",
    "* несколько слов в названии запишите в «змеином_регистре»,\n",
    "* все символы сделайте строчными,\n",
    "* устраните пробелы.\n",
    "\n",
    "Для этого переименуйте колонки так:\n",
    "* `'  userID'` → `'user_id'`;\n",
    "* `'Track'` → `'track'`;\n",
    "* `'  City  '` → `'city'`;\n",
    "* `'Day'` → `'day'`."
   ]
  },
  {
   "cell_type": "code",
   "execution_count": 7,
   "metadata": {
    "id": "ISlFqs5y_Zct"
   },
   "outputs": [],
   "source": [
    "df = df.rename(columns={'  userID': 'user_id', 'Track': 'track', '  City  ' :'city', 'Day' : 'day'}) # переименование столбцов"
   ]
  },
  {
   "cell_type": "markdown",
   "metadata": {
    "id": "1dqbh00J_Zct"
   },
   "source": [
    "Проверьте результат. Для этого ещё раз выведите на экран названия столбцов:"
   ]
  },
  {
   "cell_type": "code",
   "execution_count": 8,
   "metadata": {
    "id": "d4NOAmTW_Zct"
   },
   "outputs": [
    {
     "data": {
      "text/plain": [
       "Index(['Unnamed: 0', 'user_id', 'track', 'artist', 'genre', 'city', 'time',\n",
       "       'day'],\n",
       "      dtype='object')"
      ]
     },
     "execution_count": 8,
     "metadata": {},
     "output_type": "execute_result"
    }
   ],
   "source": [
    "df.columns # проверка результатов - перечень названий столбцов"
   ]
  },
  {
   "cell_type": "markdown",
   "metadata": {
    "id": "5ISfbcfY_Zct"
   },
   "source": [
    "### Пропуски значений\n",
    "Сначала посчитайте, сколько в таблице пропущенных значений. Для этого достаточно двух методов `pandas`:"
   ]
  },
  {
   "cell_type": "code",
   "execution_count": 9,
   "metadata": {
    "id": "RskX29qr_Zct"
   },
   "outputs": [
    {
     "data": {
      "text/plain": [
       "Unnamed: 0       0\n",
       "user_id          0\n",
       "track         1231\n",
       "artist        7203\n",
       "genre         1198\n",
       "city             0\n",
       "time             0\n",
       "day              0\n",
       "dtype: int64"
      ]
     },
     "execution_count": 9,
     "metadata": {},
     "output_type": "execute_result"
    }
   ],
   "source": [
    "df.isna().sum()# подсчёт пропусков"
   ]
  },
  {
   "cell_type": "markdown",
   "metadata": {
    "id": "qubhgnlO_Zct"
   },
   "source": [
    "Не все пропущенные значения влияют на исследование. Так в `track` и `artist` пропуски не важны для вашей работы. Достаточно заменить их явными обозначениями.\n",
    "\n",
    "Но пропуски в `genre` могут помешать сравнению музыкальных вкусов в Москве и Санкт-Петербурге. На практике было бы правильно установить причину пропусков и восстановить данные. Такой возможности нет в учебном проекте. Придётся:\n",
    "* заполнить и эти пропуски явными обозначениями,\n",
    "* оценить, насколько они повредят расчётам. "
   ]
  },
  {
   "cell_type": "markdown",
   "metadata": {
    "id": "fSv2laPA_Zct"
   },
   "source": [
    "Замените пропущенные значения в столбцах `track`, `artist` и `genre` на строку `'unknown'`. Для этого создайте список `columns_to_replace`, переберите его элементы циклом `for` и для каждого столбца выполните замену пропущенных значений:"
   ]
  },
  {
   "cell_type": "code",
   "execution_count": 10,
   "metadata": {
    "id": "KplB5qWs_Zct"
   },
   "outputs": [],
   "source": [
    "column_to_replace = ['track','artist','genre']\n",
    "for i in column_to_replace:# перебор названий столбцов в цикле и замена пропущенных значений на 'unknown'\n",
    "    df[i] = df[i].fillna('unknown')"
   ]
  },
  {
   "cell_type": "markdown",
   "metadata": {
    "id": "Ilsm-MZo_Zct"
   },
   "source": [
    "Убедитесь, что в таблице не осталось пропусков. Для этого ещё раз посчитайте пропущенные значения."
   ]
  },
  {
   "cell_type": "code",
   "execution_count": 11,
   "metadata": {
    "id": "Tq4nYRX4_Zct"
   },
   "outputs": [
    {
     "data": {
      "text/plain": [
       "Unnamed: 0    0\n",
       "user_id       0\n",
       "track         0\n",
       "artist        0\n",
       "genre         0\n",
       "city          0\n",
       "time          0\n",
       "day           0\n",
       "dtype: int64"
      ]
     },
     "execution_count": 11,
     "metadata": {},
     "output_type": "execute_result"
    }
   ],
   "source": [
    "df.isna().sum() # подсчёт пропусков"
   ]
  },
  {
   "cell_type": "markdown",
   "metadata": {
    "id": "BWKRtBJ3_Zct"
   },
   "source": [
    "### Дубликаты\n",
    "Посчитайте явные дубликаты в таблице одной командой:"
   ]
  },
  {
   "cell_type": "code",
   "execution_count": 12,
   "metadata": {
    "id": "36eES_S0_Zct"
   },
   "outputs": [
    {
     "data": {
      "text/plain": [
       "0"
      ]
     },
     "execution_count": 12,
     "metadata": {},
     "output_type": "execute_result"
    }
   ],
   "source": [
    "df.duplicated().sum() # подсчёт явных дубликатов"
   ]
  },
  {
   "cell_type": "markdown",
   "metadata": {
    "id": "Ot25h6XR_Zct"
   },
   "source": [
    "Вызовите специальный метод `pandas`, чтобы удалить явные дубликаты:"
   ]
  },
  {
   "cell_type": "code",
   "execution_count": 13,
   "metadata": {
    "id": "exFHq6tt_Zct"
   },
   "outputs": [],
   "source": [
    "df = df.drop_duplicates().reset_index(drop=True) # удаление явных дубликатов (с удалением старых индексов и формированием новых)"
   ]
  },
  {
   "cell_type": "markdown",
   "metadata": {
    "id": "Im2YwBEG_Zct"
   },
   "source": [
    "Ещё раз посчитайте явные дубликаты в таблице — убедитесь, что полностью от них избавились:"
   ]
  },
  {
   "cell_type": "code",
   "execution_count": 14,
   "metadata": {
    "id": "-8PuNWQ0_Zct"
   },
   "outputs": [
    {
     "data": {
      "text/plain": [
       "0"
      ]
     },
     "execution_count": 14,
     "metadata": {},
     "output_type": "execute_result"
    }
   ],
   "source": [
    "df.duplicated().sum() # проверка на отсутствие дубликатов"
   ]
  },
  {
   "cell_type": "markdown",
   "metadata": {
    "id": "QlFBsxAr_Zct"
   },
   "source": [
    "Теперь избавьтесь от неявных дубликатов в колонке `genre`. Например, название одного и того же жанра может быть записано немного по-разному. Такие ошибки тоже повлияют на результат исследования."
   ]
  },
  {
   "cell_type": "markdown",
   "metadata": {
    "id": "eSjWwsOh_Zct"
   },
   "source": [
    "Выведите на экран список уникальных названий жанров, отсортированный в алфавитном порядке. Для этого:\n",
    "* извлеките нужный столбец датафрейма, \n",
    "* примените к нему метод сортировки,\n",
    "* для отсортированного столбца вызовите метод, который вернёт уникальные значения из столбца."
   ]
  },
  {
   "cell_type": "code",
   "execution_count": 15,
   "metadata": {
    "id": "JIUcqzZN_Zct"
   },
   "outputs": [
    {
     "data": {
      "text/plain": [
       "array(['acid', 'acoustic', 'action', 'adult', 'africa', 'afrikaans',\n",
       "       'alternative', 'alternativepunk', 'ambient', 'americana',\n",
       "       'animated', 'anime', 'arabesk', 'arabic', 'arena',\n",
       "       'argentinetango', 'art', 'audiobook', 'author', 'avantgarde',\n",
       "       'axé', 'baile', 'balkan', 'beats', 'bigroom', 'black', 'bluegrass',\n",
       "       'blues', 'bollywood', 'bossa', 'brazilian', 'breakbeat', 'breaks',\n",
       "       'broadway', 'cantautori', 'cantopop', 'canzone', 'caribbean',\n",
       "       'caucasian', 'celtic', 'chamber', 'chanson', 'children', 'chill',\n",
       "       'chinese', 'choral', 'christian', 'christmas', 'classical',\n",
       "       'classicmetal', 'club', 'colombian', 'comedy', 'conjazz',\n",
       "       'contemporary', 'country', 'cuban', 'dance', 'dancehall',\n",
       "       'dancepop', 'dark', 'death', 'deep', 'deutschrock', 'deutschspr',\n",
       "       'dirty', 'disco', 'dnb', 'documentary', 'downbeat', 'downtempo',\n",
       "       'drum', 'dub', 'dubstep', 'eastern', 'easy', 'electronic',\n",
       "       'electropop', 'emo', 'entehno', 'epicmetal', 'estrada', 'ethnic',\n",
       "       'eurofolk', 'european', 'experimental', 'extrememetal', 'fado',\n",
       "       'fairytail', 'film', 'fitness', 'flamenco', 'folk', 'folklore',\n",
       "       'folkmetal', 'folkrock', 'folktronica', 'forró', 'frankreich',\n",
       "       'französisch', 'french', 'funk', 'future', 'gangsta', 'garage',\n",
       "       'german', 'ghazal', 'gitarre', 'glitch', 'gospel', 'gothic',\n",
       "       'grime', 'grunge', 'gypsy', 'handsup', \"hard'n'heavy\", 'hardcore',\n",
       "       'hardstyle', 'hardtechno', 'hip', 'hip-hop', 'hiphop',\n",
       "       'historisch', 'holiday', 'hop', 'horror', 'house', 'hymn', 'idm',\n",
       "       'independent', 'indian', 'indie', 'indipop', 'industrial',\n",
       "       'inspirational', 'instrumental', 'international', 'irish', 'jam',\n",
       "       'japanese', 'jazz', 'jewish', 'jpop', 'jungle', 'k-pop',\n",
       "       'karadeniz', 'karaoke', 'kayokyoku', 'korean', 'laiko', 'latin',\n",
       "       'latino', 'leftfield', 'local', 'lounge', 'loungeelectronic',\n",
       "       'lovers', 'malaysian', 'mandopop', 'marschmusik', 'meditative',\n",
       "       'mediterranean', 'melodic', 'metal', 'metalcore', 'mexican',\n",
       "       'middle', 'minimal', 'miscellaneous', 'modern', 'mood', 'mpb',\n",
       "       'muslim', 'native', 'neoklassik', 'neue', 'new', 'newage',\n",
       "       'newwave', 'nu', 'nujazz', 'numetal', 'oceania', 'old', 'opera',\n",
       "       'orchestral', 'other', 'piano', 'podcasts', 'pop', 'popdance',\n",
       "       'popelectronic', 'popeurodance', 'poprussian', 'post',\n",
       "       'posthardcore', 'postrock', 'power', 'progmetal', 'progressive',\n",
       "       'psychedelic', 'punjabi', 'punk', 'quebecois', 'ragga', 'ram',\n",
       "       'rancheras', 'rap', 'rave', 'reggae', 'reggaeton', 'regional',\n",
       "       'relax', 'religious', 'retro', 'rhythm', 'rnb', 'rnr', 'rock',\n",
       "       'rockabilly', 'rockalternative', 'rockindie', 'rockother',\n",
       "       'romance', 'roots', 'ruspop', 'rusrap', 'rusrock', 'russian',\n",
       "       'salsa', 'samba', 'scenic', 'schlager', 'self', 'sertanejo',\n",
       "       'shanson', 'shoegazing', 'showtunes', 'singer', 'ska', 'skarock',\n",
       "       'slow', 'smooth', 'soft', 'soul', 'soulful', 'sound', 'soundtrack',\n",
       "       'southern', 'specialty', 'speech', 'spiritual', 'sport',\n",
       "       'stonerrock', 'surf', 'swing', 'synthpop', 'synthrock',\n",
       "       'sängerportrait', 'tango', 'tanzorchester', 'taraftar', 'tatar',\n",
       "       'tech', 'techno', 'teen', 'thrash', 'top', 'traditional',\n",
       "       'tradjazz', 'trance', 'tribal', 'trip', 'triphop', 'tropical',\n",
       "       'türk', 'türkçe', 'ukrrock', 'unknown', 'urban', 'uzbek',\n",
       "       'variété', 'vi', 'videogame', 'vocal', 'western', 'world',\n",
       "       'worldbeat', 'ïîï', 'электроника'], dtype=object)"
      ]
     },
     "execution_count": 15,
     "metadata": {},
     "output_type": "execute_result"
    }
   ],
   "source": [
    "df['genre'].sort_values().unique()# Просмотр уникальных названий жанров"
   ]
  },
  {
   "cell_type": "markdown",
   "metadata": {
    "id": "qej-Qmuo_Zct"
   },
   "source": [
    "Просмотрите список и найдите неявные дубликаты названия `hiphop`. Это могут быть названия с ошибками или альтернативные названия того же жанра.\n",
    "\n",
    "Вы увидите следующие неявные дубликаты:\n",
    "* *hip*,\n",
    "* *hop*,\n",
    "* *hip-hop*.\n",
    "\n",
    "Чтобы очистить от них таблицу, напишите функцию `replace_wrong_genres()` с двумя параметрами: \n",
    "* `wrong_genres` — список дубликатов,\n",
    "* `correct_genre` — строка с правильным значением.\n",
    "\n",
    "Функция должна исправить колонку `genre` в таблице `df`: заменить каждое значение из списка `wrong_genres` на значение из `correct_genre`."
   ]
  },
  {
   "cell_type": "code",
   "execution_count": 16,
   "metadata": {
    "id": "ErNDkmns_Zct"
   },
   "outputs": [],
   "source": [
    "def replace_wrong_genres(wrong_genres, correct_genre): # Функция для замены неявных дубликатов\n",
    "    for wrong_genre in wrong_genres:\n",
    "        df['genre'] = df['genre'].replace(wrong_genre,correct_genre)\n",
    "    return df"
   ]
  },
  {
   "cell_type": "markdown",
   "metadata": {
    "id": "aDoBJxbA_Zct"
   },
   "source": [
    "Вызовите `replace_wrong_genres()` и передайте ей такие аргументы, чтобы она устранила неявные дубликаты: вместо `hip`, `hop` и `hip-hop` в таблице должно быть значение `hiphop`:"
   ]
  },
  {
   "cell_type": "code",
   "execution_count": 17,
   "metadata": {
    "id": "YN5i2hpmSo09"
   },
   "outputs": [
    {
     "data": {
      "text/html": [
       "<div>\n",
       "<style scoped>\n",
       "    .dataframe tbody tr th:only-of-type {\n",
       "        vertical-align: middle;\n",
       "    }\n",
       "\n",
       "    .dataframe tbody tr th {\n",
       "        vertical-align: top;\n",
       "    }\n",
       "\n",
       "    .dataframe thead th {\n",
       "        text-align: right;\n",
       "    }\n",
       "</style>\n",
       "<table border=\"1\" class=\"dataframe\">\n",
       "  <thead>\n",
       "    <tr style=\"text-align: right;\">\n",
       "      <th></th>\n",
       "      <th>Unnamed: 0</th>\n",
       "      <th>user_id</th>\n",
       "      <th>track</th>\n",
       "      <th>artist</th>\n",
       "      <th>genre</th>\n",
       "      <th>city</th>\n",
       "      <th>time</th>\n",
       "      <th>day</th>\n",
       "    </tr>\n",
       "  </thead>\n",
       "  <tbody>\n",
       "    <tr>\n",
       "      <td>0</td>\n",
       "      <td>0</td>\n",
       "      <td>FFB692EC</td>\n",
       "      <td>Kamigata To Boots</td>\n",
       "      <td>The Mass Missile</td>\n",
       "      <td>rock</td>\n",
       "      <td>Saint-Petersburg</td>\n",
       "      <td>20:28:33</td>\n",
       "      <td>Wednesday</td>\n",
       "    </tr>\n",
       "    <tr>\n",
       "      <td>1</td>\n",
       "      <td>1</td>\n",
       "      <td>55204538</td>\n",
       "      <td>Delayed Because of Accident</td>\n",
       "      <td>Andreas Rönnberg</td>\n",
       "      <td>rock</td>\n",
       "      <td>Moscow</td>\n",
       "      <td>14:07:09</td>\n",
       "      <td>Friday</td>\n",
       "    </tr>\n",
       "    <tr>\n",
       "      <td>2</td>\n",
       "      <td>2</td>\n",
       "      <td>20EC38</td>\n",
       "      <td>Funiculì funiculà</td>\n",
       "      <td>Mario Lanza</td>\n",
       "      <td>pop</td>\n",
       "      <td>Saint-Petersburg</td>\n",
       "      <td>20:58:07</td>\n",
       "      <td>Wednesday</td>\n",
       "    </tr>\n",
       "    <tr>\n",
       "      <td>3</td>\n",
       "      <td>3</td>\n",
       "      <td>A3DD03C9</td>\n",
       "      <td>Dragons in the Sunset</td>\n",
       "      <td>Fire + Ice</td>\n",
       "      <td>folk</td>\n",
       "      <td>Saint-Petersburg</td>\n",
       "      <td>08:37:09</td>\n",
       "      <td>Monday</td>\n",
       "    </tr>\n",
       "    <tr>\n",
       "      <td>4</td>\n",
       "      <td>4</td>\n",
       "      <td>E2DC1FAE</td>\n",
       "      <td>Soul People</td>\n",
       "      <td>Space Echo</td>\n",
       "      <td>dance</td>\n",
       "      <td>Moscow</td>\n",
       "      <td>08:34:34</td>\n",
       "      <td>Monday</td>\n",
       "    </tr>\n",
       "    <tr>\n",
       "      <td>...</td>\n",
       "      <td>...</td>\n",
       "      <td>...</td>\n",
       "      <td>...</td>\n",
       "      <td>...</td>\n",
       "      <td>...</td>\n",
       "      <td>...</td>\n",
       "      <td>...</td>\n",
       "      <td>...</td>\n",
       "    </tr>\n",
       "    <tr>\n",
       "      <td>65074</td>\n",
       "      <td>65074</td>\n",
       "      <td>729CBB09</td>\n",
       "      <td>My Name</td>\n",
       "      <td>McLean</td>\n",
       "      <td>rnb</td>\n",
       "      <td>Moscow</td>\n",
       "      <td>13:32:28</td>\n",
       "      <td>Wednesday</td>\n",
       "    </tr>\n",
       "    <tr>\n",
       "      <td>65075</td>\n",
       "      <td>65075</td>\n",
       "      <td>D08D4A55</td>\n",
       "      <td>Maybe One Day (feat. Black Spade)</td>\n",
       "      <td>Blu &amp; Exile</td>\n",
       "      <td>hiphop</td>\n",
       "      <td>Saint-Petersburg</td>\n",
       "      <td>10:00:00</td>\n",
       "      <td>Monday</td>\n",
       "    </tr>\n",
       "    <tr>\n",
       "      <td>65076</td>\n",
       "      <td>65076</td>\n",
       "      <td>C5E3A0D5</td>\n",
       "      <td>Jalopiina</td>\n",
       "      <td>unknown</td>\n",
       "      <td>industrial</td>\n",
       "      <td>Moscow</td>\n",
       "      <td>20:09:26</td>\n",
       "      <td>Friday</td>\n",
       "    </tr>\n",
       "    <tr>\n",
       "      <td>65077</td>\n",
       "      <td>65077</td>\n",
       "      <td>321D0506</td>\n",
       "      <td>Freight Train</td>\n",
       "      <td>Chas McDevitt</td>\n",
       "      <td>rock</td>\n",
       "      <td>Moscow</td>\n",
       "      <td>21:43:59</td>\n",
       "      <td>Friday</td>\n",
       "    </tr>\n",
       "    <tr>\n",
       "      <td>65078</td>\n",
       "      <td>65078</td>\n",
       "      <td>3A64EF84</td>\n",
       "      <td>Tell Me Sweet Little Lies</td>\n",
       "      <td>Monica Lopez</td>\n",
       "      <td>country</td>\n",
       "      <td>Moscow</td>\n",
       "      <td>21:59:46</td>\n",
       "      <td>Friday</td>\n",
       "    </tr>\n",
       "  </tbody>\n",
       "</table>\n",
       "<p>65079 rows × 8 columns</p>\n",
       "</div>"
      ],
      "text/plain": [
       "       Unnamed: 0   user_id                              track  \\\n",
       "0               0  FFB692EC                  Kamigata To Boots   \n",
       "1               1  55204538        Delayed Because of Accident   \n",
       "2               2    20EC38                  Funiculì funiculà   \n",
       "3               3  A3DD03C9              Dragons in the Sunset   \n",
       "4               4  E2DC1FAE                        Soul People   \n",
       "...           ...       ...                                ...   \n",
       "65074       65074  729CBB09                            My Name   \n",
       "65075       65075  D08D4A55  Maybe One Day (feat. Black Spade)   \n",
       "65076       65076  C5E3A0D5                          Jalopiina   \n",
       "65077       65077  321D0506                      Freight Train   \n",
       "65078       65078  3A64EF84          Tell Me Sweet Little Lies   \n",
       "\n",
       "                 artist       genre              city      time        day  \n",
       "0      The Mass Missile        rock  Saint-Petersburg  20:28:33  Wednesday  \n",
       "1      Andreas Rönnberg        rock            Moscow  14:07:09     Friday  \n",
       "2           Mario Lanza         pop  Saint-Petersburg  20:58:07  Wednesday  \n",
       "3            Fire + Ice        folk  Saint-Petersburg  08:37:09     Monday  \n",
       "4            Space Echo       dance            Moscow  08:34:34     Monday  \n",
       "...                 ...         ...               ...       ...        ...  \n",
       "65074            McLean         rnb            Moscow  13:32:28  Wednesday  \n",
       "65075       Blu & Exile      hiphop  Saint-Petersburg  10:00:00     Monday  \n",
       "65076           unknown  industrial            Moscow  20:09:26     Friday  \n",
       "65077     Chas McDevitt        rock            Moscow  21:43:59     Friday  \n",
       "65078      Monica Lopez     country            Moscow  21:59:46     Friday  \n",
       "\n",
       "[65079 rows x 8 columns]"
      ]
     },
     "execution_count": 17,
     "metadata": {},
     "output_type": "execute_result"
    }
   ],
   "source": [
    "wrong_genres = ['hip', 'hop', 'hip-hop']# Устранение неявных дубликатов\n",
    "correct_genre = 'hiphop'\n",
    "replace_wrong_genres(wrong_genres,correct_genre)\n",
    "wrong_genres = ['электроника']# Устранение неявных дубликатов\n",
    "correct_genre = 'electronic'\n",
    "replace_wrong_genres(wrong_genres,correct_genre)"
   ]
  },
  {
   "cell_type": "markdown",
   "metadata": {
    "id": "zQKF16_RG15m"
   },
   "source": [
    "Проверьте, что заменили неправильные названия:\n",
    "\n",
    "*   hip\n",
    "*   hop\n",
    "*   hip-hop\n",
    "\n",
    "Выведите отсортированный список уникальных значений столбца `genre`:"
   ]
  },
  {
   "cell_type": "code",
   "execution_count": 18,
   "metadata": {
    "id": "wvixALnFG15m"
   },
   "outputs": [
    {
     "data": {
      "text/plain": [
       "array(['acid', 'acoustic', 'action', 'adult', 'africa', 'afrikaans',\n",
       "       'alternative', 'alternativepunk', 'ambient', 'americana',\n",
       "       'animated', 'anime', 'arabesk', 'arabic', 'arena',\n",
       "       'argentinetango', 'art', 'audiobook', 'author', 'avantgarde',\n",
       "       'axé', 'baile', 'balkan', 'beats', 'bigroom', 'black', 'bluegrass',\n",
       "       'blues', 'bollywood', 'bossa', 'brazilian', 'breakbeat', 'breaks',\n",
       "       'broadway', 'cantautori', 'cantopop', 'canzone', 'caribbean',\n",
       "       'caucasian', 'celtic', 'chamber', 'chanson', 'children', 'chill',\n",
       "       'chinese', 'choral', 'christian', 'christmas', 'classical',\n",
       "       'classicmetal', 'club', 'colombian', 'comedy', 'conjazz',\n",
       "       'contemporary', 'country', 'cuban', 'dance', 'dancehall',\n",
       "       'dancepop', 'dark', 'death', 'deep', 'deutschrock', 'deutschspr',\n",
       "       'dirty', 'disco', 'dnb', 'documentary', 'downbeat', 'downtempo',\n",
       "       'drum', 'dub', 'dubstep', 'eastern', 'easy', 'electronic',\n",
       "       'electropop', 'emo', 'entehno', 'epicmetal', 'estrada', 'ethnic',\n",
       "       'eurofolk', 'european', 'experimental', 'extrememetal', 'fado',\n",
       "       'fairytail', 'film', 'fitness', 'flamenco', 'folk', 'folklore',\n",
       "       'folkmetal', 'folkrock', 'folktronica', 'forró', 'frankreich',\n",
       "       'französisch', 'french', 'funk', 'future', 'gangsta', 'garage',\n",
       "       'german', 'ghazal', 'gitarre', 'glitch', 'gospel', 'gothic',\n",
       "       'grime', 'grunge', 'gypsy', 'handsup', \"hard'n'heavy\", 'hardcore',\n",
       "       'hardstyle', 'hardtechno', 'hiphop', 'historisch', 'holiday',\n",
       "       'horror', 'house', 'hymn', 'idm', 'independent', 'indian', 'indie',\n",
       "       'indipop', 'industrial', 'inspirational', 'instrumental',\n",
       "       'international', 'irish', 'jam', 'japanese', 'jazz', 'jewish',\n",
       "       'jpop', 'jungle', 'k-pop', 'karadeniz', 'karaoke', 'kayokyoku',\n",
       "       'korean', 'laiko', 'latin', 'latino', 'leftfield', 'local',\n",
       "       'lounge', 'loungeelectronic', 'lovers', 'malaysian', 'mandopop',\n",
       "       'marschmusik', 'meditative', 'mediterranean', 'melodic', 'metal',\n",
       "       'metalcore', 'mexican', 'middle', 'minimal', 'miscellaneous',\n",
       "       'modern', 'mood', 'mpb', 'muslim', 'native', 'neoklassik', 'neue',\n",
       "       'new', 'newage', 'newwave', 'nu', 'nujazz', 'numetal', 'oceania',\n",
       "       'old', 'opera', 'orchestral', 'other', 'piano', 'podcasts', 'pop',\n",
       "       'popdance', 'popelectronic', 'popeurodance', 'poprussian', 'post',\n",
       "       'posthardcore', 'postrock', 'power', 'progmetal', 'progressive',\n",
       "       'psychedelic', 'punjabi', 'punk', 'quebecois', 'ragga', 'ram',\n",
       "       'rancheras', 'rap', 'rave', 'reggae', 'reggaeton', 'regional',\n",
       "       'relax', 'religious', 'retro', 'rhythm', 'rnb', 'rnr', 'rock',\n",
       "       'rockabilly', 'rockalternative', 'rockindie', 'rockother',\n",
       "       'romance', 'roots', 'ruspop', 'rusrap', 'rusrock', 'russian',\n",
       "       'salsa', 'samba', 'scenic', 'schlager', 'self', 'sertanejo',\n",
       "       'shanson', 'shoegazing', 'showtunes', 'singer', 'ska', 'skarock',\n",
       "       'slow', 'smooth', 'soft', 'soul', 'soulful', 'sound', 'soundtrack',\n",
       "       'southern', 'specialty', 'speech', 'spiritual', 'sport',\n",
       "       'stonerrock', 'surf', 'swing', 'synthpop', 'synthrock',\n",
       "       'sängerportrait', 'tango', 'tanzorchester', 'taraftar', 'tatar',\n",
       "       'tech', 'techno', 'teen', 'thrash', 'top', 'traditional',\n",
       "       'tradjazz', 'trance', 'tribal', 'trip', 'triphop', 'tropical',\n",
       "       'türk', 'türkçe', 'ukrrock', 'unknown', 'urban', 'uzbek',\n",
       "       'variété', 'vi', 'videogame', 'vocal', 'western', 'world',\n",
       "       'worldbeat', 'ïîï'], dtype=object)"
      ]
     },
     "execution_count": 18,
     "metadata": {},
     "output_type": "execute_result"
    }
   ],
   "source": [
    "df['genre'].sort_values().unique() # Проверка на неявные дубликаты"
   ]
  },
  {
   "cell_type": "markdown",
   "metadata": {
    "id": "jz6a9-7HQUDd"
   },
   "source": [
    "**Выводы**\n",
    "\n",
    "Предобработка обнаружила три проблемы в данных:\n",
    "\n",
    "- нарушения в стиле заголовков,\n",
    "- пропущенные значения,\n",
    "- дубликаты — явные и неявные.\n",
    "\n",
    "Вы исправили заголовки, чтобы упростить работу с таблицей. Без дубликатов исследование станет более точным.\n",
    "\n",
    "Пропущенные значения вы заменили на `'unknown'`. Ещё предстоит увидеть, не повредят ли исследованию пропуски в колонке `genre`.\n",
    "\n",
    "Теперь можно перейти к проверке гипотез. "
   ]
  },
  {
   "cell_type": "markdown",
   "metadata": {
    "id": "WttZHXH0SqKk"
   },
   "source": [
    "## Проверка гипотез"
   ]
  },
  {
   "cell_type": "markdown",
   "metadata": {
    "id": "Im936VVi_Zcu"
   },
   "source": [
    "### Сравнение поведения пользователей двух столиц"
   ]
  },
  {
   "cell_type": "markdown",
   "metadata": {
    "id": "nwt_MuaL_Zcu"
   },
   "source": [
    "Первая гипотеза утверждает, что пользователи по-разному слушают музыку в Москве и Санкт-Петербурге. Проверьте это предположение по данным о трёх днях недели — понедельнике, среде и пятнице. Для этого:\n",
    "\n",
    "* Разделите пользователей Москвы и Санкт-Петербурга\n",
    "* Сравните, сколько треков послушала каждая группа пользователей в понедельник, среду и пятницу.\n"
   ]
  },
  {
   "cell_type": "markdown",
   "metadata": {
    "id": "8Dw_YMmT_Zcu"
   },
   "source": [
    "Для тренировки сначала выполните каждый из расчётов по отдельности. \n",
    "\n",
    "Оцените активность пользователей в каждом городе. Сгруппируйте данные по городу и посчитайте прослушивания в каждой группе.\n",
    "\n"
   ]
  },
  {
   "cell_type": "code",
   "execution_count": 19,
   "metadata": {
    "id": "0_Qs96oh_Zcu"
   },
   "outputs": [
    {
     "data": {
      "text/plain": [
       "city\n",
       "Moscow              45360\n",
       "Saint-Petersburg    19719\n",
       "Name: city, dtype: int64"
      ]
     },
     "metadata": {},
     "output_type": "display_data"
    }
   ],
   "source": [
    "display(df.groupby('city')['city'].count()) # Подсчёт прослушиваний в каждом городе"
   ]
  },
  {
   "cell_type": "markdown",
   "metadata": {
    "id": "dzli3w8o_Zcu"
   },
   "source": [
    "В Москве прослушиваний больше, чем в Петербурге. Из этого не следует, что московские пользователи чаще слушают музыку. Просто самих пользователей в Москве больше.\n",
    "\n",
    "Теперь сгруппируйте данные по дню недели и подсчитайте прослушивания в понедельник, среду и пятницу. Учтите, что в данных есть информация только о прослушиваниях только за эти дни.\n"
   ]
  },
  {
   "cell_type": "code",
   "execution_count": 20,
   "metadata": {
    "id": "uZMKjiJz_Zcu"
   },
   "outputs": [
    {
     "data": {
      "text/plain": [
       "day\n",
       "Friday       23149\n",
       "Monday       22697\n",
       "Wednesday    19233\n",
       "Name: day, dtype: int64"
      ]
     },
     "execution_count": 20,
     "metadata": {},
     "output_type": "execute_result"
    }
   ],
   "source": [
    "df.groupby('day')['day'].count()# Подсчёт прослушиваний в каждый из трёх дней"
   ]
  },
  {
   "cell_type": "markdown",
   "metadata": {
    "id": "cC2tNrlL_Zcu"
   },
   "source": [
    "В среднем пользователи из двух городов менее активны по средам. Но картина может измениться, если рассмотреть каждый город в отдельности."
   ]
  },
  {
   "cell_type": "markdown",
   "metadata": {
    "id": "POzs8bGa_Zcu"
   },
   "source": [
    "Вы видели, как работает группировка по городу и по дням недели. Теперь напишите функцию, которая объединит два эти расчёта.\n",
    "\n",
    "Создайте функцию `number_tracks()`, которая посчитает прослушивания для заданного дня и города. Ей понадобятся два параметра:\n",
    "* день недели,\n",
    "* название города.\n",
    "\n",
    "В функции сохраните в переменную строки исходной таблицы, у которых значение:\n",
    "  * в колонке `day` равно параметру `day`,\n",
    "  * в колонке `city` равно параметру `city`.\n",
    "\n",
    "Затем посчитайте значения в столбце `user_id` получившейся таблицы. Результат сохраните в новую переменную. Верните эту переменную из функции."
   ]
  },
  {
   "cell_type": "code",
   "execution_count": 21,
   "metadata": {
    "id": "Nz3GdQB1_Zcu"
   },
   "outputs": [],
   "source": [
    "# <создание функции number_tracks()>\n",
    "# Объявляется функция с двумя параметрами: day, city.\n",
    "# В переменной track_list сохраняются те строки таблицы df, для которых \n",
    "# значение в столбце 'day' равно параметру day и одновременно значение\n",
    "# в столбце 'city' равно параметру city.\n",
    "# В переменной track_list_count сохраняется число значений столбца 'user_id',\n",
    "# рассчитанное методом count() для таблицы track_list.\n",
    "# Функция возвращает число - значение track_list_count.\n",
    "def number_tracks (day, city): \n",
    "    tack_list = df[(df['day'] == day) & (df['city'] == city)]\n",
    "    track_list_count = tack_list['user_id'].count()\n",
    "    return track_list_count\n",
    "# Функция для подсчёта прослушиваний для конкретного города и дня.\n",
    "# С фильтрации с логической индексацией она получит из исходной таблицы \n",
    "# строки с нужным днём и городом,\n",
    "# методом count() посчитает количество значений в колонке user_id. \n",
    "# Это количество функция вернёт в качестве результата"
   ]
  },
  {
   "cell_type": "markdown",
   "metadata": {
    "id": "ytf7xFrFJQ2r"
   },
   "source": [
    "Вызовите `number_tracks()` шесть раз, меняя значение параметров — так, чтобы получить данные для каждого города в каждый из трёх дней."
   ]
  },
  {
   "cell_type": "code",
   "execution_count": 22,
   "metadata": {
    "id": "rJcRATNQ_Zcu"
   },
   "outputs": [
    {
     "data": {
      "text/plain": [
       "16715"
      ]
     },
     "execution_count": 22,
     "metadata": {},
     "output_type": "execute_result"
    }
   ],
   "source": [
    "number_tracks ('Monday', 'Moscow')# количество прослушиваний в Москве по понедельникам"
   ]
  },
  {
   "cell_type": "code",
   "execution_count": 23,
   "metadata": {
    "id": "hq_ncZ5T_Zcu"
   },
   "outputs": [
    {
     "data": {
      "text/plain": [
       "5982"
      ]
     },
     "execution_count": 23,
     "metadata": {},
     "output_type": "execute_result"
    }
   ],
   "source": [
    "number_tracks ('Monday', 'Saint-Petersburg')# количество прослушиваний в Санкт-Петербурге по понедельникам"
   ]
  },
  {
   "cell_type": "code",
   "execution_count": 24,
   "metadata": {
    "id": "_NTy2VPU_Zcu"
   },
   "outputs": [
    {
     "data": {
      "text/plain": [
       "11755"
      ]
     },
     "execution_count": 24,
     "metadata": {},
     "output_type": "execute_result"
    }
   ],
   "source": [
    "number_tracks ('Wednesday', 'Moscow')# количество прослушиваний в Москве по средам"
   ]
  },
  {
   "cell_type": "code",
   "execution_count": 25,
   "metadata": {
    "id": "j2y3TAwo_Zcu"
   },
   "outputs": [
    {
     "data": {
      "text/plain": [
       "7478"
      ]
     },
     "execution_count": 25,
     "metadata": {},
     "output_type": "execute_result"
    }
   ],
   "source": [
    "number_tracks ('Wednesday', 'Saint-Petersburg')# количество прослушиваний в Санкт-Петербурге по средам"
   ]
  },
  {
   "cell_type": "code",
   "execution_count": 26,
   "metadata": {
    "id": "vYDw5u_K_Zcu"
   },
   "outputs": [
    {
     "data": {
      "text/plain": [
       "16890"
      ]
     },
     "execution_count": 26,
     "metadata": {},
     "output_type": "execute_result"
    }
   ],
   "source": [
    "number_tracks ('Friday', 'Moscow')# количество прослушиваний в Москве по пятницам"
   ]
  },
  {
   "cell_type": "code",
   "execution_count": 27,
   "metadata": {
    "id": "8_yzFtW3_Zcu"
   },
   "outputs": [
    {
     "data": {
      "text/plain": [
       "6259"
      ]
     },
     "execution_count": 27,
     "metadata": {},
     "output_type": "execute_result"
    }
   ],
   "source": [
    "number_tracks ('Friday', 'Saint-Petersburg')# количество прослушиваний в Санкт-Петербурге по пятницам"
   ]
  },
  {
   "cell_type": "markdown",
   "metadata": {
    "id": "7QXffbO-_Zcu"
   },
   "source": [
    "Создайте c помощью конструктора `pd.DataFrame` таблицу, где\n",
    "* названия колонок — `['city', 'monday', 'wednesday', 'friday']`;\n",
    "* данные — результаты, которые вы получили с помощью `number_tracks`."
   ]
  },
  {
   "cell_type": "code",
   "execution_count": 28,
   "metadata": {
    "id": "APAcLpOr_Zcu"
   },
   "outputs": [
    {
     "data": {
      "text/html": [
       "<div>\n",
       "<style scoped>\n",
       "    .dataframe tbody tr th:only-of-type {\n",
       "        vertical-align: middle;\n",
       "    }\n",
       "\n",
       "    .dataframe tbody tr th {\n",
       "        vertical-align: top;\n",
       "    }\n",
       "\n",
       "    .dataframe thead th {\n",
       "        text-align: right;\n",
       "    }\n",
       "</style>\n",
       "<table border=\"1\" class=\"dataframe\">\n",
       "  <thead>\n",
       "    <tr style=\"text-align: right;\">\n",
       "      <th></th>\n",
       "      <th>city</th>\n",
       "      <th>monday</th>\n",
       "      <th>wednesday</th>\n",
       "      <th>friday</th>\n",
       "    </tr>\n",
       "  </thead>\n",
       "  <tbody>\n",
       "    <tr>\n",
       "      <td>0</td>\n",
       "      <td>Moscow</td>\n",
       "      <td>15740</td>\n",
       "      <td>11056</td>\n",
       "      <td>15945</td>\n",
       "    </tr>\n",
       "    <tr>\n",
       "      <td>1</td>\n",
       "      <td>Saint-Petersburg</td>\n",
       "      <td>5614</td>\n",
       "      <td>7003</td>\n",
       "      <td>5895</td>\n",
       "    </tr>\n",
       "  </tbody>\n",
       "</table>\n",
       "</div>"
      ],
      "text/plain": [
       "               city  monday  wednesday  friday\n",
       "0            Moscow   15740      11056   15945\n",
       "1  Saint-Petersburg    5614       7003    5895"
      ]
     },
     "execution_count": 28,
     "metadata": {},
     "output_type": "execute_result"
    }
   ],
   "source": [
    "# Таблица с результатами\n",
    "columns_for_results_1 = ['city', 'monday', 'wednesday', 'friday']\n",
    "data_for_results_1 = [\n",
    "    ['Moscow', 15740, 11056, 15945],\n",
    "    ['Saint-Petersburg', 5614, 7003, 5895]\n",
    "]\n",
    "result_1 = pd.DataFrame(data = data_for_results_1, columns = columns_for_results_1)\n",
    "result_1"
   ]
  },
  {
   "cell_type": "markdown",
   "metadata": {
    "id": "-EgPIHYu_Zcu"
   },
   "source": [
    "**Выводы**\n",
    "\n",
    "Данные показывают разницу поведения пользователей:\n",
    "\n",
    "- В Москве пик прослушиваний приходится на понедельник и пятницу, а в среду заметен спад.\n",
    "- В Петербурге, наоборот, больше слушают музыку по средам. Активность в понедельник и пятницу здесь почти в равной мере уступает среде.\n",
    "\n",
    "Значит, данные говорят в пользу первой гипотезы."
   ]
  },
  {
   "cell_type": "markdown",
   "metadata": {
    "id": "atZAxtq4_Zcu"
   },
   "source": [
    "### Музыка в начале и в конце недели"
   ]
  },
  {
   "cell_type": "markdown",
   "metadata": {
    "id": "eXrQqXFH_Zcu"
   },
   "source": [
    "Согласно второй гипотезе, утром в понедельник в Москве преобладают одни жанры, а в Петербурге — другие. Так же и вечером пятницы преобладают разные жанры — в зависимости от города."
   ]
  },
  {
   "cell_type": "markdown",
   "metadata": {
    "id": "S8UcW6Hw_Zcu"
   },
   "source": [
    "Сохраните таблицы с данными в две переменные:\n",
    "* по Москве — в `moscow_general`;\n",
    "* по Санкт-Петербургу — в `spb_general`."
   ]
  },
  {
   "cell_type": "code",
   "execution_count": 29,
   "metadata": {
    "id": "qeaFfM_P_Zcu"
   },
   "outputs": [],
   "source": [
    "# получение таблицы moscow_general из тех строк таблицы df, \n",
    "# для которых значение в столбце 'city' равно 'Moscow'\n",
    "moscow_general = df[df['city'] == 'Moscow']\n"
   ]
  },
  {
   "cell_type": "code",
   "execution_count": 30,
   "metadata": {
    "id": "ORaVRKto_Zcu"
   },
   "outputs": [],
   "source": [
    "# получение таблицы spb_general из тех строк таблицы df,\n",
    "# для которых значение в столбце 'city' равно 'Saint-Petersburg'\n",
    "spb_general = df[df['city'] == 'Saint-Petersburg']"
   ]
  },
  {
   "cell_type": "markdown",
   "metadata": {
    "id": "MEJV-CX2_Zcu"
   },
   "source": [
    "Создайте функцию `genre_weekday()` с четырьмя параметрами:\n",
    "* таблица (датафрейм) с данными,\n",
    "* день недели,\n",
    "* начальная временная метка в формате 'hh:mm', \n",
    "* последняя временная метка в формате 'hh:mm'.\n",
    "\n",
    "Функция должна вернуть информацию о топ-10 жанров тех треков, которые прослушивали в указанный день, в промежутке между двумя отметками времени."
   ]
  },
  {
   "cell_type": "code",
   "execution_count": 31,
   "metadata": {
    "id": "laJT9BYl_Zcu"
   },
   "outputs": [],
   "source": [
    "# Объявление функции genre_weekday() с параметрами table, day, time1, time2,\n",
    "# которая возвращает информацию о самых популярных жанрах в указанный день в\n",
    "# заданное время:\n",
    "# 1) в переменную genre_df сохраняются те строки переданного датафрейма table, для\n",
    "#    которых одновременно:\n",
    "#    - значение в столбце day равно значению аргумента day\n",
    "#    - значение в столбце time больше значения аргумента time1\n",
    "#    - значение в столбце time меньше значения аргумента time2\n",
    "#    Используйте последовательную фильтрацию с помощью логической индексации.\n",
    "# 2) сгруппировать датафрейм genre_df по столбцу genre, взять один из его\n",
    "#    столбцов и посчитать методом count() количество записей для каждого из\n",
    "#    присутствующих жанров, получившийся Series записать в переменную\n",
    "#    genre_df_count\n",
    "# 3) отсортировать genre_df_count по убыванию встречаемости и сохранить\n",
    "#    в переменную genre_df_sorted\n",
    "# 4) вернуть Series из 10 первых значений genre_df_sorted, это будут топ-10\n",
    "#    популярных жанров (в указанный день, в заданное время)\n",
    "\n",
    "def genre_weekday(table, day, time1, time2):\n",
    "#    genre_df = table[table['day']  == day]\n",
    "#    genre_df = genre_df[genre_df['time'] > time1]\n",
    "#    genre_df = genre_df[genre_df['time'] < time2]\n",
    "# для примера привел последовательную индексацию\n",
    "    genre_df = table[(table['day'] == day) & (table['time'] > time1) & (table['time'] < time2)] \n",
    "    genre_df_count = genre_df.groupby(['genre'])['user_id'].count()\n",
    "    genre_df_sorted = genre_df_count.sort_values(ascending = False)\n",
    "    return genre_df_sorted[:10]"
   ]
  },
  {
   "cell_type": "markdown",
   "metadata": {
    "id": "la2s2_PF_Zcu"
   },
   "source": [
    "Cравните результаты функции `genre_weekday()` для Москвы и Санкт-Петербурга в понедельник утром (с 7:00 до 11:00) и в пятницу вечером (с 17:00 до 23:00):"
   ]
  },
  {
   "cell_type": "code",
   "execution_count": 32,
   "metadata": {
    "id": "yz7itPUQ_Zcu"
   },
   "outputs": [
    {
     "data": {
      "text/plain": [
       "genre\n",
       "pop            830\n",
       "dance          589\n",
       "rock           511\n",
       "electronic     501\n",
       "hiphop         311\n",
       "ruspop         203\n",
       "world          190\n",
       "rusrap         188\n",
       "alternative    175\n",
       "unknown        172\n",
       "Name: user_id, dtype: int64"
      ]
     },
     "metadata": {},
     "output_type": "display_data"
    }
   ],
   "source": [
    "# вызов функции для утра понедельника в Москве (вместо df — таблица moscow_general)\n",
    "# объекты, хранящие время, являются строками и сравниваются как строки\n",
    "# пример вызова: genre_weekday(moscow_general, 'Monday', '07:00', '11:00')\n",
    "display(genre_weekday(moscow_general, 'Monday', '07:00', '11:00'))"
   ]
  },
  {
   "cell_type": "code",
   "execution_count": 33,
   "metadata": {
    "id": "kwUcHPdy_Zcu"
   },
   "outputs": [
    {
     "data": {
      "text/plain": [
       "genre\n",
       "pop            238\n",
       "dance          192\n",
       "rock           173\n",
       "electronic     154\n",
       "hiphop          88\n",
       "ruspop          68\n",
       "alternative     65\n",
       "rusrap          56\n",
       "jazz            47\n",
       "classical       42\n",
       "Name: user_id, dtype: int64"
      ]
     },
     "metadata": {},
     "output_type": "display_data"
    }
   ],
   "source": [
    "# вызов функции для утра понедельника в Петербурге (вместо df — таблица spb_general)\n",
    "display(genre_weekday(spb_general, 'Monday', '07:00', '11:00'))"
   ]
  },
  {
   "cell_type": "code",
   "execution_count": 34,
   "metadata": {
    "id": "EzXVRE1o_Zcu"
   },
   "outputs": [
    {
     "data": {
      "text/plain": [
       "genre\n",
       "pop            1122\n",
       "dance           811\n",
       "rock            804\n",
       "electronic      745\n",
       "hiphop          427\n",
       "world           308\n",
       "classical       295\n",
       "alternative     293\n",
       "ruspop          271\n",
       "rusrap          236\n",
       "Name: user_id, dtype: int64"
      ]
     },
     "metadata": {},
     "output_type": "display_data"
    }
   ],
   "source": [
    "# вызов функции для вечера пятницы в Москве\n",
    "display (genre_weekday(moscow_general, 'Friday', '14:00', '23:00'))"
   ]
  },
  {
   "cell_type": "code",
   "execution_count": 35,
   "metadata": {
    "id": "JZaEKu5v_Zcu"
   },
   "outputs": [
    {
     "data": {
      "text/plain": [
       "genre\n",
       "pop            433\n",
       "dance          353\n",
       "rock           342\n",
       "electronic     311\n",
       "hiphop         171\n",
       "classical      126\n",
       "alternative    110\n",
       "rusrap         106\n",
       "world           96\n",
       "ruspop          91\n",
       "Name: user_id, dtype: int64"
      ]
     },
     "execution_count": 35,
     "metadata": {},
     "output_type": "execute_result"
    }
   ],
   "source": [
    "# вызов функции для вечера пятницы в Петербурге\n",
    "genre_weekday(spb_general, 'Friday', '14:00', '23:00')"
   ]
  },
  {
   "cell_type": "markdown",
   "metadata": {
    "id": "wrCe4MNX_Zcu"
   },
   "source": [
    "**Выводы**\n",
    "\n",
    "Если сравнить топ-10 жанров в понедельник утром, можно сделать такие выводы:\n",
    "\n",
    "1. В Москве и Петербурге слушают похожую музыку. Единственное отличие — в московский рейтинг вошёл жанр “world”, а в петербургский — джаз и классика.\n",
    "\n",
    "2. В Москве пропущенных значений оказалось так много, что значение `'unknown'` заняло десятое место среди самых популярных жанров. Значит, пропущенные значения занимают существенную долю в данных и угрожают достоверности исследования.\n",
    "\n",
    "Вечер пятницы не меняет эту картину. Некоторые жанры поднимаются немного выше, другие спускаются, но в целом топ-10 остаётся тем же самым.\n",
    "\n",
    "Таким образом, вторая гипотеза подтвердилась лишь частично:\n",
    "* Пользователи слушают похожую музыку в начале недели и в конце.\n",
    "* Разница между Москвой и Петербургом не слишком выражена. В Москве чаще слушают русскую популярную музыку, в Петербурге — джаз.\n",
    "\n",
    "Однако пропуски в данных ставят под сомнение этот результат. В Москве их так много, что рейтинг топ-10 мог бы выглядеть иначе, если бы не утерянные  данные о жанрах."
   ]
  },
  {
   "cell_type": "markdown",
   "metadata": {
    "id": "JolODAqr_Zcu"
   },
   "source": [
    "### Жанровые предпочтения в Москве и Петербурге\n",
    "\n",
    "Гипотеза: Петербург — столица рэпа, музыку этого жанра там слушают чаще, чем в Москве.  А Москва — город контрастов, в котором, тем не менее, преобладает поп-музыка."
   ]
  },
  {
   "cell_type": "markdown",
   "metadata": {
    "id": "DlegSvaT_Zcu"
   },
   "source": [
    "Сгруппируйте таблицу `moscow_general` по жанру и посчитайте прослушивания треков каждого жанра методом `count()`. Затем отсортируйте результат в порядке убывания и сохраните его в таблице `moscow_genres`."
   ]
  },
  {
   "cell_type": "code",
   "execution_count": 36,
   "metadata": {
    "id": "r19lIPke_Zcu"
   },
   "outputs": [],
   "source": [
    "# одной строкой: группировка таблицы moscow_general по столбцу 'genre', \n",
    "# подсчёт числа значений 'genre' в этой группировке методом count(), \n",
    "# сортировка получившегося Series в порядке убывания и сохранение в moscow_genres\n",
    "moscow_genres = moscow_general.groupby('genre')['user_id'].count().sort_values(ascending = False)"
   ]
  },
  {
   "cell_type": "markdown",
   "metadata": {
    "id": "6kMuomxTiIr8"
   },
   "source": [
    "Выведите на экран первые десять строк `moscow_genres`:"
   ]
  },
  {
   "cell_type": "code",
   "execution_count": 37,
   "metadata": {
    "id": "WhCSooF8_Zcv"
   },
   "outputs": [
    {
     "name": "stdout",
     "output_type": "stream",
     "text": [
      "genre\n",
      "pop            6253\n",
      "dance          4707\n",
      "rock           4188\n",
      "electronic     4010\n",
      "hiphop         2215\n",
      "classical      1712\n",
      "world          1516\n",
      "alternative    1466\n",
      "ruspop         1453\n",
      "rusrap         1239\n",
      "Name: user_id, dtype: int64\n"
     ]
    }
   ],
   "source": [
    "print(moscow_genres.head(10))# просмотр первых 10 строк moscow_genres"
   ]
  },
  {
   "cell_type": "markdown",
   "metadata": {
    "id": "cnPG2vnN_Zcv"
   },
   "source": [
    "Теперь повторите то же и для Петербурга.\n",
    "\n",
    "Сгруппируйте таблицу `spb_general` по жанру. Посчитайте прослушивания треков каждого жанра. Результат отсортируйте в порядке убывания и сохраните в таблице `spb_genres`:\n"
   ]
  },
  {
   "cell_type": "code",
   "execution_count": 38,
   "metadata": {
    "id": "gluLIpE7_Zcv"
   },
   "outputs": [],
   "source": [
    "# одной строкой: группировка таблицы spb_general по столбцу 'genre', \n",
    "# подсчёт числа значений 'genre' в этой группировке методом count(), \n",
    "# сортировка получившегося Series в порядке убывания и сохранение в spb_genres\n",
    "spb_genres = spb_general.groupby('genre')['user_id'].count().sort_values(ascending = False)"
   ]
  },
  {
   "cell_type": "markdown",
   "metadata": {
    "id": "5Doha_ODgyQ8"
   },
   "source": [
    "Выведите на экран первые десять строк `spb_genres`:"
   ]
  },
  {
   "cell_type": "code",
   "execution_count": 39,
   "metadata": {
    "id": "uaGJHjVU_Zcv"
   },
   "outputs": [
    {
     "data": {
      "text/plain": [
       "genre\n",
       "pop            2597\n",
       "dance          2054\n",
       "rock           2004\n",
       "electronic     1843\n",
       "hiphop         1020\n",
       "alternative     700\n",
       "classical       684\n",
       "rusrap          604\n",
       "ruspop          565\n",
       "world           553\n",
       "Name: user_id, dtype: int64"
      ]
     },
     "execution_count": 39,
     "metadata": {},
     "output_type": "execute_result"
    }
   ],
   "source": [
    "spb_genres.head(10)# просмотр первых 10 строк spb_genres"
   ]
  },
  {
   "cell_type": "markdown",
   "metadata": {
    "id": "RY51YJYu_Zcv"
   },
   "source": [
    "**Выводы**"
   ]
  },
  {
   "cell_type": "markdown",
   "metadata": {
    "id": "nVhnJEm__Zcv"
   },
   "source": [
    "Гипотеза частично подтвердилась:\n",
    "* Поп-музыка — самый популярный жанр в Москве, как и предполагала гипотеза. Более того, в топ-10 жанров встречается близкий жанр — русская популярная музыка.\n",
    "* Вопреки ожиданиям, рэп одинаково популярен в Москве и Петербурге. \n"
   ]
  },
  {
   "cell_type": "markdown",
   "metadata": {
    "id": "ykKQ0N65_Zcv"
   },
   "source": [
    "## Итоги исследования"
   ]
  },
  {
   "cell_type": "markdown",
   "metadata": {
    "id": "tjUwbHb3_Zcv"
   },
   "source": [
    "Вы проверили три гипотезы и установили:\n",
    "\n",
    "1. День недели по-разному влияет на активность пользователей в Москве и Петербурге. \n",
    "\n",
    "Первая гипотеза полностью подтвердилась.\n",
    "\n",
    "2. Музыкальные предпочтения не сильно меняются в течение недели — будь то Москва или Петербург. Небольшие различия заметны в начале недели, по понедельникам:\n",
    "* в Москве слушают музыку жанра “world”,\n",
    "* в Петербурге — джаз и классику.\n",
    "\n",
    "Таким образом, вторая гипотеза подтвердилась лишь отчасти. Этот результат мог оказаться иным, если бы не пропуски в данных.\n",
    "\n",
    "3. Во вкусах пользователей Москвы и Петербурга больше общего чем различий. Вопреки ожиданиям, предпочтения жанров в Петербурге напоминают московские.\n",
    "\n",
    "Третья гипотеза не подтвердилась. Если различия в предпочтениях и существуют, на основной массе пользователей они незаметны.\n",
    "\n",
    "**На практике исследования содержат проверки статистических гипотез.**\n",
    "Из данных одного сервиса не всегда можно сделать вывод о всех жителях города.\n",
    "Проверки статистических гипотез покажут, насколько они достоверны, исходя из имеющихся данных. \n",
    "С методами проверок гипотез вы ещё познакомитесь в следующих темах."
   ]
  }
 ],
 "metadata": {
  "ExecuteTimeLog": [
   {
    "duration": 664,
    "start_time": "2022-01-30T12:58:45.893Z"
   },
   {
    "duration": 2021,
    "start_time": "2022-01-30T12:58:47.894Z"
   },
   {
    "duration": 150,
    "start_time": "2022-01-30T12:59:05.708Z"
   },
   {
    "duration": 160,
    "start_time": "2022-01-30T12:59:09.457Z"
   },
   {
    "duration": 8,
    "start_time": "2022-01-30T12:59:51.017Z"
   },
   {
    "duration": 16,
    "start_time": "2022-01-30T13:00:40.482Z"
   },
   {
    "duration": 27,
    "start_time": "2022-01-30T13:02:56.849Z"
   },
   {
    "duration": 656,
    "start_time": "2022-01-30T13:05:23.373Z"
   },
   {
    "duration": 182,
    "start_time": "2022-01-30T13:05:25.386Z"
   },
   {
    "duration": 18,
    "start_time": "2022-01-30T13:05:27.590Z"
   },
   {
    "duration": 26,
    "start_time": "2022-01-30T13:05:31.222Z"
   },
   {
    "duration": 27,
    "start_time": "2022-01-30T13:06:04.471Z"
   },
   {
    "duration": 4,
    "start_time": "2022-01-30T13:41:07.167Z"
   },
   {
    "duration": 86,
    "start_time": "2022-01-30T13:43:22.290Z"
   },
   {
    "duration": 32,
    "start_time": "2022-01-30T13:43:35.122Z"
   },
   {
    "duration": 24,
    "start_time": "2022-01-30T13:43:53.314Z"
   },
   {
    "duration": 4,
    "start_time": "2022-01-30T13:44:09.289Z"
   },
   {
    "duration": 4,
    "start_time": "2022-01-30T13:44:26.574Z"
   },
   {
    "duration": 23,
    "start_time": "2022-01-30T13:44:29.745Z"
   },
   {
    "duration": 5,
    "start_time": "2022-01-30T13:44:32.000Z"
   },
   {
    "duration": 23,
    "start_time": "2022-01-30T13:45:18.218Z"
   },
   {
    "duration": 18,
    "start_time": "2022-01-30T13:52:28.735Z"
   },
   {
    "duration": 22,
    "start_time": "2022-01-30T13:52:48.824Z"
   },
   {
    "duration": 61,
    "start_time": "2022-01-30T13:53:35.842Z"
   },
   {
    "duration": 74,
    "start_time": "2022-01-30T13:54:37.042Z"
   },
   {
    "duration": 57,
    "start_time": "2022-01-30T13:54:45.355Z"
   },
   {
    "duration": 66,
    "start_time": "2022-01-30T13:54:50.022Z"
   },
   {
    "duration": 52,
    "start_time": "2022-01-30T13:54:52.643Z"
   },
   {
    "duration": 45,
    "start_time": "2022-01-30T13:55:42.905Z"
   },
   {
    "duration": 1015,
    "start_time": "2022-01-30T14:40:24.818Z"
   },
   {
    "duration": 4,
    "start_time": "2022-01-30T14:40:39.929Z"
   },
   {
    "duration": 21,
    "start_time": "2022-01-30T14:40:45.525Z"
   },
   {
    "duration": 319,
    "start_time": "2022-01-30T14:41:29.246Z"
   },
   {
    "duration": 48,
    "start_time": "2022-01-30T14:41:55.301Z"
   },
   {
    "duration": 23,
    "start_time": "2022-01-30T15:25:13.703Z"
   },
   {
    "duration": 46,
    "start_time": "2022-01-30T15:25:25.276Z"
   },
   {
    "duration": 292,
    "start_time": "2022-01-30T15:27:57.182Z"
   },
   {
    "duration": 32,
    "start_time": "2022-01-30T15:28:17.243Z"
   },
   {
    "duration": 13,
    "start_time": "2022-01-30T15:28:36.854Z"
   },
   {
    "duration": 12,
    "start_time": "2022-01-30T15:30:54.182Z"
   },
   {
    "duration": 17,
    "start_time": "2022-01-30T15:30:56.937Z"
   },
   {
    "duration": 32,
    "start_time": "2022-01-30T15:31:31.202Z"
   },
   {
    "duration": 33,
    "start_time": "2022-01-30T15:32:01.726Z"
   },
   {
    "duration": 105,
    "start_time": "2022-01-30T15:43:39.455Z"
   },
   {
    "duration": 5,
    "start_time": "2022-01-30T15:43:55.141Z"
   },
   {
    "duration": 26,
    "start_time": "2022-01-30T15:46:21.361Z"
   },
   {
    "duration": 24,
    "start_time": "2022-01-30T15:46:24.092Z"
   },
   {
    "duration": 25,
    "start_time": "2022-01-30T15:46:25.095Z"
   },
   {
    "duration": 23,
    "start_time": "2022-01-30T15:46:26.031Z"
   },
   {
    "duration": 23,
    "start_time": "2022-01-30T15:46:26.850Z"
   },
   {
    "duration": 16,
    "start_time": "2022-01-30T15:46:27.816Z"
   },
   {
    "duration": 4,
    "start_time": "2022-01-30T15:52:15.317Z"
   },
   {
    "duration": 5,
    "start_time": "2022-01-30T15:52:17.419Z"
   },
   {
    "duration": 5,
    "start_time": "2022-01-30T15:52:21.794Z"
   },
   {
    "duration": 8,
    "start_time": "2022-01-30T15:52:36.809Z"
   },
   {
    "duration": 10,
    "start_time": "2022-01-30T16:01:27.965Z"
   },
   {
    "duration": 12,
    "start_time": "2022-01-30T16:01:30.114Z"
   },
   {
    "duration": 88,
    "start_time": "2022-01-30T16:15:21.653Z"
   },
   {
    "duration": 5,
    "start_time": "2022-01-30T16:15:28.092Z"
   },
   {
    "duration": 6733,
    "start_time": "2022-01-30T16:16:17.603Z"
   },
   {
    "duration": 7062,
    "start_time": "2022-01-30T16:16:37.628Z"
   },
   {
    "duration": 3,
    "start_time": "2022-01-30T16:20:38.469Z"
   },
   {
    "duration": 4,
    "start_time": "2022-01-30T16:20:58.358Z"
   },
   {
    "duration": 4,
    "start_time": "2022-01-30T16:21:01.792Z"
   },
   {
    "duration": 4,
    "start_time": "2022-01-30T16:21:02.155Z"
   },
   {
    "duration": 4,
    "start_time": "2022-01-30T16:21:02.370Z"
   },
   {
    "duration": 4,
    "start_time": "2022-01-30T16:21:02.524Z"
   },
   {
    "duration": 3,
    "start_time": "2022-01-30T16:21:02.667Z"
   },
   {
    "duration": 3,
    "start_time": "2022-01-30T16:21:02.789Z"
   },
   {
    "duration": 6910,
    "start_time": "2022-01-30T16:22:02.522Z"
   },
   {
    "duration": 4,
    "start_time": "2022-01-30T16:22:25.443Z"
   },
   {
    "duration": 538,
    "start_time": "2022-01-30T16:22:26.742Z"
   },
   {
    "duration": 4,
    "start_time": "2022-01-30T16:47:23.173Z"
   },
   {
    "duration": 817,
    "start_time": "2022-01-30T16:47:25.547Z"
   },
   {
    "duration": 5,
    "start_time": "2022-01-30T16:49:25.353Z"
   },
   {
    "duration": 62,
    "start_time": "2022-01-30T16:49:28.404Z"
   },
   {
    "duration": 4,
    "start_time": "2022-01-30T16:50:34.613Z"
   },
   {
    "duration": 523,
    "start_time": "2022-01-30T16:50:36.466Z"
   },
   {
    "duration": 6,
    "start_time": "2022-01-30T16:51:12.530Z"
   },
   {
    "duration": 40,
    "start_time": "2022-01-30T16:51:14.487Z"
   },
   {
    "duration": 5,
    "start_time": "2022-01-30T16:51:47.157Z"
   },
   {
    "duration": 56,
    "start_time": "2022-01-30T16:51:48.166Z"
   },
   {
    "duration": 5,
    "start_time": "2022-01-30T16:52:05.318Z"
   },
   {
    "duration": 55,
    "start_time": "2022-01-30T16:52:06.295Z"
   },
   {
    "duration": 4,
    "start_time": "2022-01-30T16:52:16.888Z"
   },
   {
    "duration": 4,
    "start_time": "2022-01-30T16:52:20.205Z"
   },
   {
    "duration": 38,
    "start_time": "2022-01-30T16:52:21.221Z"
   },
   {
    "duration": 5,
    "start_time": "2022-01-30T16:53:02.035Z"
   },
   {
    "duration": 39,
    "start_time": "2022-01-30T16:53:04.028Z"
   },
   {
    "duration": 7,
    "start_time": "2022-01-30T16:53:51.910Z"
   },
   {
    "duration": 56,
    "start_time": "2022-01-30T16:53:52.859Z"
   },
   {
    "duration": 19,
    "start_time": "2022-01-30T16:54:57.367Z"
   },
   {
    "duration": 265,
    "start_time": "2022-01-30T16:54:58.485Z"
   },
   {
    "duration": 15,
    "start_time": "2022-01-30T16:55:37.739Z"
   },
   {
    "duration": 291,
    "start_time": "2022-01-30T16:55:40.293Z"
   },
   {
    "duration": 15,
    "start_time": "2022-01-30T16:55:53.857Z"
   },
   {
    "duration": 22,
    "start_time": "2022-01-30T16:55:55.798Z"
   },
   {
    "duration": 33,
    "start_time": "2022-01-30T16:55:57.368Z"
   },
   {
    "duration": 23,
    "start_time": "2022-01-30T16:55:58.248Z"
   },
   {
    "duration": 258,
    "start_time": "2022-01-30T17:00:13.353Z"
   },
   {
    "duration": 88,
    "start_time": "2022-01-30T17:00:55.539Z"
   },
   {
    "duration": 363,
    "start_time": "2022-01-30T17:01:05.037Z"
   },
   {
    "duration": 306,
    "start_time": "2022-01-30T17:01:17.253Z"
   },
   {
    "duration": 747,
    "start_time": "2022-01-30T17:01:40.541Z"
   },
   {
    "duration": 265,
    "start_time": "2022-01-30T17:01:55.302Z"
   },
   {
    "duration": 271,
    "start_time": "2022-01-30T17:02:09.867Z"
   },
   {
    "duration": 9,
    "start_time": "2022-01-30T17:02:16.243Z"
   },
   {
    "duration": 4,
    "start_time": "2022-01-30T17:02:31.091Z"
   },
   {
    "duration": 4,
    "start_time": "2022-01-30T17:02:40.632Z"
   },
   {
    "duration": 277,
    "start_time": "2022-01-30T17:04:22.826Z"
   },
   {
    "duration": 3,
    "start_time": "2022-01-30T17:04:26.742Z"
   },
   {
    "duration": 15,
    "start_time": "2022-01-30T17:04:28.621Z"
   },
   {
    "duration": 100,
    "start_time": "2022-01-30T17:04:51.909Z"
   },
   {
    "duration": 3,
    "start_time": "2022-01-30T17:05:00.421Z"
   },
   {
    "duration": 9,
    "start_time": "2022-01-30T17:05:02.056Z"
   },
   {
    "duration": 13,
    "start_time": "2022-01-30T17:05:41.464Z"
   },
   {
    "duration": 9,
    "start_time": "2022-01-30T17:05:43.906Z"
   },
   {
    "duration": 6,
    "start_time": "2022-01-30T17:06:23.093Z"
   },
   {
    "duration": 6,
    "start_time": "2022-01-30T17:06:25.062Z"
   },
   {
    "duration": 7,
    "start_time": "2022-01-30T17:06:47.651Z"
   },
   {
    "duration": 7,
    "start_time": "2022-01-30T17:06:55.693Z"
   },
   {
    "duration": 4,
    "start_time": "2022-01-30T17:06:57.731Z"
   },
   {
    "duration": 550,
    "start_time": "2022-02-08T10:06:32.971Z"
   },
   {
    "duration": 130,
    "start_time": "2022-02-08T10:06:33.522Z"
   },
   {
    "duration": 14,
    "start_time": "2022-02-08T10:06:33.654Z"
   },
   {
    "duration": 43,
    "start_time": "2022-02-08T10:06:33.670Z"
   },
   {
    "duration": 4,
    "start_time": "2022-02-08T10:06:33.715Z"
   },
   {
    "duration": 22,
    "start_time": "2022-02-08T10:06:33.721Z"
   },
   {
    "duration": 8,
    "start_time": "2022-02-08T10:06:33.744Z"
   },
   {
    "duration": 22,
    "start_time": "2022-02-08T10:06:33.755Z"
   },
   {
    "duration": 42,
    "start_time": "2022-02-08T10:06:33.780Z"
   },
   {
    "duration": 25,
    "start_time": "2022-02-08T10:06:33.823Z"
   },
   {
    "duration": 80,
    "start_time": "2022-02-08T10:06:33.849Z"
   },
   {
    "duration": 64,
    "start_time": "2022-02-08T10:06:33.931Z"
   },
   {
    "duration": 59,
    "start_time": "2022-02-08T10:06:33.998Z"
   },
   {
    "duration": 39,
    "start_time": "2022-02-08T10:06:34.058Z"
   },
   {
    "duration": 3,
    "start_time": "2022-02-08T10:06:34.112Z"
   },
   {
    "duration": 21,
    "start_time": "2022-02-08T10:06:34.116Z"
   },
   {
    "duration": 39,
    "start_time": "2022-02-08T10:06:34.139Z"
   },
   {
    "duration": 34,
    "start_time": "2022-02-08T10:06:34.179Z"
   },
   {
    "duration": 26,
    "start_time": "2022-02-08T10:06:34.214Z"
   },
   {
    "duration": 3,
    "start_time": "2022-02-08T10:06:34.242Z"
   },
   {
    "duration": 19,
    "start_time": "2022-02-08T10:06:34.247Z"
   },
   {
    "duration": 13,
    "start_time": "2022-02-08T10:06:34.268Z"
   },
   {
    "duration": 38,
    "start_time": "2022-02-08T10:06:34.284Z"
   },
   {
    "duration": 16,
    "start_time": "2022-02-08T10:06:34.324Z"
   },
   {
    "duration": 14,
    "start_time": "2022-02-08T10:06:34.342Z"
   },
   {
    "duration": 13,
    "start_time": "2022-02-08T10:06:34.358Z"
   },
   {
    "duration": 7,
    "start_time": "2022-02-08T10:06:34.372Z"
   },
   {
    "duration": 10,
    "start_time": "2022-02-08T10:06:34.412Z"
   },
   {
    "duration": 7,
    "start_time": "2022-02-08T10:06:34.424Z"
   },
   {
    "duration": 4,
    "start_time": "2022-02-08T10:06:34.432Z"
   },
   {
    "duration": 20,
    "start_time": "2022-02-08T10:06:34.438Z"
   },
   {
    "duration": 10,
    "start_time": "2022-02-08T10:06:34.459Z"
   },
   {
    "duration": 42,
    "start_time": "2022-02-08T10:06:34.471Z"
   },
   {
    "duration": 12,
    "start_time": "2022-02-08T10:06:34.514Z"
   },
   {
    "duration": 8,
    "start_time": "2022-02-08T10:06:34.527Z"
   },
   {
    "duration": 3,
    "start_time": "2022-02-08T10:06:34.536Z"
   },
   {
    "duration": 11,
    "start_time": "2022-02-08T10:06:34.541Z"
   },
   {
    "duration": 4,
    "start_time": "2022-02-08T10:06:34.553Z"
   },
   {
    "duration": 10,
    "start_time": "2022-02-08T10:14:16.851Z"
   },
   {
    "duration": 96,
    "start_time": "2022-02-08T10:25:24.225Z"
   },
   {
    "duration": 340,
    "start_time": "2022-02-08T18:44:13.958Z"
   },
   {
    "duration": 249,
    "start_time": "2022-02-08T18:44:20.412Z"
   },
   {
    "duration": 805,
    "start_time": "2022-02-08T18:45:25.050Z"
   },
   {
    "duration": 207,
    "start_time": "2022-02-08T18:45:25.858Z"
   },
   {
    "duration": 29,
    "start_time": "2022-02-08T18:45:26.068Z"
   },
   {
    "duration": 43,
    "start_time": "2022-02-08T18:45:26.100Z"
   },
   {
    "duration": 50,
    "start_time": "2022-02-08T18:45:26.146Z"
   },
   {
    "duration": 13,
    "start_time": "2022-02-08T18:45:26.198Z"
   },
   {
    "duration": 44,
    "start_time": "2022-02-08T18:45:26.214Z"
   },
   {
    "duration": 5,
    "start_time": "2022-02-08T18:45:26.261Z"
   },
   {
    "duration": 36,
    "start_time": "2022-02-08T18:45:26.270Z"
   },
   {
    "duration": 54,
    "start_time": "2022-02-08T18:45:26.309Z"
   },
   {
    "duration": 29,
    "start_time": "2022-02-08T18:45:26.366Z"
   },
   {
    "duration": 124,
    "start_time": "2022-02-08T18:45:26.398Z"
   },
   {
    "duration": 126,
    "start_time": "2022-02-08T18:45:26.526Z"
   },
   {
    "duration": 97,
    "start_time": "2022-02-08T18:45:26.655Z"
   },
   {
    "duration": 106,
    "start_time": "2022-02-08T18:45:26.755Z"
   },
   {
    "duration": 5,
    "start_time": "2022-02-08T18:45:26.864Z"
   },
   {
    "duration": 45,
    "start_time": "2022-02-08T18:45:26.871Z"
   },
   {
    "duration": 79,
    "start_time": "2022-02-08T18:45:26.918Z"
   },
   {
    "duration": 35,
    "start_time": "2022-02-08T18:45:26.999Z"
   },
   {
    "duration": 22,
    "start_time": "2022-02-08T18:45:27.038Z"
   },
   {
    "duration": 5,
    "start_time": "2022-02-08T18:45:27.064Z"
   },
   {
    "duration": 66,
    "start_time": "2022-02-08T18:45:27.072Z"
   },
   {
    "duration": 49,
    "start_time": "2022-02-08T18:45:27.141Z"
   },
   {
    "duration": 39,
    "start_time": "2022-02-08T18:45:27.193Z"
   },
   {
    "duration": 23,
    "start_time": "2022-02-08T18:45:27.235Z"
   },
   {
    "duration": 28,
    "start_time": "2022-02-08T18:45:27.260Z"
   },
   {
    "duration": 47,
    "start_time": "2022-02-08T18:45:27.294Z"
   },
   {
    "duration": 15,
    "start_time": "2022-02-08T18:45:27.344Z"
   },
   {
    "duration": 28,
    "start_time": "2022-02-08T18:45:27.362Z"
   },
   {
    "duration": 47,
    "start_time": "2022-02-08T18:45:27.393Z"
   },
   {
    "duration": 8,
    "start_time": "2022-02-08T18:45:27.450Z"
   },
   {
    "duration": 34,
    "start_time": "2022-02-08T18:45:27.461Z"
   },
   {
    "duration": 36,
    "start_time": "2022-02-08T18:45:27.498Z"
   },
   {
    "duration": 28,
    "start_time": "2022-02-08T18:45:27.537Z"
   },
   {
    "duration": 24,
    "start_time": "2022-02-08T18:45:27.568Z"
   },
   {
    "duration": 42,
    "start_time": "2022-02-08T18:45:27.595Z"
   },
   {
    "duration": 11,
    "start_time": "2022-02-08T18:45:27.640Z"
   },
   {
    "duration": 19,
    "start_time": "2022-02-08T18:45:27.655Z"
   },
   {
    "duration": 6,
    "start_time": "2022-02-08T18:45:27.677Z"
   },
   {
    "duration": 13,
    "start_time": "2022-02-08T18:50:17.596Z"
   },
   {
    "duration": 18,
    "start_time": "2022-02-08T18:51:50.294Z"
   },
   {
    "duration": 4,
    "start_time": "2022-02-08T18:52:55.270Z"
   },
   {
    "duration": 205,
    "start_time": "2022-02-08T18:52:55.277Z"
   },
   {
    "duration": 16,
    "start_time": "2022-02-08T18:52:55.485Z"
   },
   {
    "duration": 43,
    "start_time": "2022-02-08T18:52:55.504Z"
   },
   {
    "duration": 36,
    "start_time": "2022-02-08T18:52:55.551Z"
   },
   {
    "duration": 6,
    "start_time": "2022-02-08T18:52:55.590Z"
   },
   {
    "duration": 59,
    "start_time": "2022-02-08T18:52:55.599Z"
   },
   {
    "duration": 6,
    "start_time": "2022-02-08T18:52:55.662Z"
   },
   {
    "duration": 30,
    "start_time": "2022-02-08T18:52:55.671Z"
   },
   {
    "duration": 58,
    "start_time": "2022-02-08T18:52:55.704Z"
   },
   {
    "duration": 30,
    "start_time": "2022-02-08T18:52:55.764Z"
   },
   {
    "duration": 115,
    "start_time": "2022-02-08T18:52:55.797Z"
   },
   {
    "duration": 117,
    "start_time": "2022-02-08T18:52:55.915Z"
   },
   {
    "duration": 83,
    "start_time": "2022-02-08T18:52:56.037Z"
   },
   {
    "duration": 68,
    "start_time": "2022-02-08T18:52:56.132Z"
   },
   {
    "duration": 4,
    "start_time": "2022-02-08T18:52:56.202Z"
   },
   {
    "duration": 61,
    "start_time": "2022-02-08T18:52:56.209Z"
   },
   {
    "duration": 73,
    "start_time": "2022-02-08T18:52:56.272Z"
   },
   {
    "duration": 19,
    "start_time": "2022-02-08T18:52:56.349Z"
   },
   {
    "duration": 18,
    "start_time": "2022-02-08T18:52:56.371Z"
   },
   {
    "duration": 41,
    "start_time": "2022-02-08T18:52:56.392Z"
   },
   {
    "duration": 28,
    "start_time": "2022-02-08T18:52:56.436Z"
   },
   {
    "duration": 29,
    "start_time": "2022-02-08T18:52:56.471Z"
   },
   {
    "duration": 59,
    "start_time": "2022-02-08T18:52:56.504Z"
   },
   {
    "duration": 19,
    "start_time": "2022-02-08T18:52:56.565Z"
   },
   {
    "duration": 54,
    "start_time": "2022-02-08T18:52:56.587Z"
   },
   {
    "duration": 19,
    "start_time": "2022-02-08T18:52:56.645Z"
   },
   {
    "duration": 12,
    "start_time": "2022-02-08T18:52:56.667Z"
   },
   {
    "duration": 19,
    "start_time": "2022-02-08T18:52:56.682Z"
   },
   {
    "duration": 41,
    "start_time": "2022-02-08T18:52:56.704Z"
   },
   {
    "duration": 9,
    "start_time": "2022-02-08T18:52:56.753Z"
   },
   {
    "duration": 41,
    "start_time": "2022-02-08T18:52:56.766Z"
   },
   {
    "duration": 31,
    "start_time": "2022-02-08T18:52:56.837Z"
   },
   {
    "duration": 27,
    "start_time": "2022-02-08T18:52:56.870Z"
   },
   {
    "duration": 58,
    "start_time": "2022-02-08T18:52:56.900Z"
   },
   {
    "duration": 20,
    "start_time": "2022-02-08T18:52:56.961Z"
   },
   {
    "duration": 7,
    "start_time": "2022-02-08T18:52:56.985Z"
   },
   {
    "duration": 49,
    "start_time": "2022-02-08T18:52:56.995Z"
   },
   {
    "duration": 13,
    "start_time": "2022-02-08T18:52:57.047Z"
   },
   {
    "duration": 840,
    "start_time": "2022-02-08T18:53:43.609Z"
   },
   {
    "duration": 194,
    "start_time": "2022-02-08T18:53:44.454Z"
   },
   {
    "duration": 30,
    "start_time": "2022-02-08T18:53:44.652Z"
   },
   {
    "duration": 26,
    "start_time": "2022-02-08T18:53:44.685Z"
   },
   {
    "duration": 46,
    "start_time": "2022-02-08T18:53:44.732Z"
   },
   {
    "duration": 7,
    "start_time": "2022-02-08T18:53:44.781Z"
   },
   {
    "duration": 60,
    "start_time": "2022-02-08T18:53:44.791Z"
   },
   {
    "duration": 7,
    "start_time": "2022-02-08T18:53:44.854Z"
   },
   {
    "duration": 34,
    "start_time": "2022-02-08T18:53:44.865Z"
   },
   {
    "duration": 61,
    "start_time": "2022-02-08T18:53:44.903Z"
   },
   {
    "duration": 30,
    "start_time": "2022-02-08T18:53:44.966Z"
   },
   {
    "duration": 115,
    "start_time": "2022-02-08T18:53:44.999Z"
   },
   {
    "duration": 118,
    "start_time": "2022-02-08T18:53:45.116Z"
   },
   {
    "duration": 79,
    "start_time": "2022-02-08T18:53:45.238Z"
   },
   {
    "duration": 67,
    "start_time": "2022-02-08T18:53:45.333Z"
   },
   {
    "duration": 4,
    "start_time": "2022-02-08T18:53:45.403Z"
   },
   {
    "duration": 37,
    "start_time": "2022-02-08T18:53:45.434Z"
   },
   {
    "duration": 80,
    "start_time": "2022-02-08T18:53:45.474Z"
   },
   {
    "duration": 14,
    "start_time": "2022-02-08T18:53:45.556Z"
   },
   {
    "duration": 20,
    "start_time": "2022-02-08T18:53:45.572Z"
   },
   {
    "duration": 8,
    "start_time": "2022-02-08T18:53:45.595Z"
   },
   {
    "duration": 49,
    "start_time": "2022-02-08T18:53:45.605Z"
   },
   {
    "duration": 19,
    "start_time": "2022-02-08T18:53:45.657Z"
   },
   {
    "duration": 24,
    "start_time": "2022-02-08T18:53:45.678Z"
   },
   {
    "duration": 38,
    "start_time": "2022-02-08T18:53:45.732Z"
   },
   {
    "duration": 34,
    "start_time": "2022-02-08T18:53:45.773Z"
   },
   {
    "duration": 28,
    "start_time": "2022-02-08T18:53:45.812Z"
   },
   {
    "duration": 21,
    "start_time": "2022-02-08T18:53:45.844Z"
   },
   {
    "duration": 26,
    "start_time": "2022-02-08T18:53:45.867Z"
   },
   {
    "duration": 23,
    "start_time": "2022-02-08T18:53:45.895Z"
   },
   {
    "duration": 15,
    "start_time": "2022-02-08T18:53:45.920Z"
   },
   {
    "duration": 40,
    "start_time": "2022-02-08T18:53:45.941Z"
   },
   {
    "duration": 27,
    "start_time": "2022-02-08T18:53:45.984Z"
   },
   {
    "duration": 50,
    "start_time": "2022-02-08T18:53:46.014Z"
   },
   {
    "duration": 24,
    "start_time": "2022-02-08T18:53:46.068Z"
   },
   {
    "duration": 17,
    "start_time": "2022-02-08T18:53:46.095Z"
   },
   {
    "duration": 7,
    "start_time": "2022-02-08T18:53:46.132Z"
   },
   {
    "duration": 20,
    "start_time": "2022-02-08T18:53:46.142Z"
   },
   {
    "duration": 6,
    "start_time": "2022-02-08T18:53:46.165Z"
   },
   {
    "duration": 778,
    "start_time": "2022-02-12T07:53:19.078Z"
   },
   {
    "duration": 866,
    "start_time": "2022-02-12T07:54:44.040Z"
   }
  ],
  "colab": {
   "collapsed_sections": [
    "E0vqbgi9ay0H",
    "VUC88oWjTJw2"
   ],
   "name": "yandex_music_project_2021.2.ipynb",
   "provenance": []
  },
  "kernelspec": {
   "display_name": "Python 3 (ipykernel)",
   "language": "python",
   "name": "python3"
  },
  "language_info": {
   "codemirror_mode": {
    "name": "ipython",
    "version": 3
   },
   "file_extension": ".py",
   "mimetype": "text/x-python",
   "name": "python",
   "nbconvert_exporter": "python",
   "pygments_lexer": "ipython3",
   "version": "3.7.8"
  },
  "toc": {
   "base_numbering": 1,
   "nav_menu": {},
   "number_sections": true,
   "sideBar": true,
   "skip_h1_title": true,
   "title_cell": "Table of Contents",
   "title_sidebar": "Contents",
   "toc_cell": false,
   "toc_position": {
    "height": "calc(100% - 180px)",
    "left": "10px",
    "top": "150px",
    "width": "185.4px"
   },
   "toc_section_display": true,
   "toc_window_display": true
  }
 },
 "nbformat": 4,
 "nbformat_minor": 1
}
